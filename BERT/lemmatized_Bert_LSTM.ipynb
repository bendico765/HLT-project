{
 "cells": [
  {
   "cell_type": "code",
   "execution_count": 1,
   "id": "c2b77234",
   "metadata": {
    "colab": {
     "base_uri": "https://localhost:8080/"
    },
    "id": "c2b77234",
    "outputId": "676d20ce-9ab7-4a11-e2e4-c2c831583fc5"
   },
   "outputs": [
    {
     "name": "stdout",
     "output_type": "stream",
     "text": [
      "Collecting transformers\n",
      "  Downloading transformers-4.30.2-py3-none-any.whl (7.2 MB)\n",
      "\u001b[2K     \u001b[90m━━━━━━━━━━━━━━━━━━━━━━━━━━━━━━━━━━━━━━━━\u001b[0m \u001b[32m7.2/7.2 MB\u001b[0m \u001b[31m101.1 MB/s\u001b[0m eta \u001b[36m0:00:00\u001b[0m\n",
      "\u001b[?25hRequirement already satisfied: filelock in /usr/local/lib/python3.10/dist-packages (from transformers) (3.12.2)\n",
      "Collecting huggingface-hub<1.0,>=0.14.1 (from transformers)\n",
      "  Downloading huggingface_hub-0.15.1-py3-none-any.whl (236 kB)\n",
      "\u001b[2K     \u001b[90m━━━━━━━━━━━━━━━━━━━━━━━━━━━━━━━━━━━━━━\u001b[0m \u001b[32m236.8/236.8 kB\u001b[0m \u001b[31m26.2 MB/s\u001b[0m eta \u001b[36m0:00:00\u001b[0m\n",
      "\u001b[?25hRequirement already satisfied: numpy>=1.17 in /usr/local/lib/python3.10/dist-packages (from transformers) (1.22.4)\n",
      "Requirement already satisfied: packaging>=20.0 in /usr/local/lib/python3.10/dist-packages (from transformers) (23.1)\n",
      "Requirement already satisfied: pyyaml>=5.1 in /usr/local/lib/python3.10/dist-packages (from transformers) (6.0)\n",
      "Requirement already satisfied: regex!=2019.12.17 in /usr/local/lib/python3.10/dist-packages (from transformers) (2022.10.31)\n",
      "Requirement already satisfied: requests in /usr/local/lib/python3.10/dist-packages (from transformers) (2.27.1)\n",
      "Collecting tokenizers!=0.11.3,<0.14,>=0.11.1 (from transformers)\n",
      "  Downloading tokenizers-0.13.3-cp310-cp310-manylinux_2_17_x86_64.manylinux2014_x86_64.whl (7.8 MB)\n",
      "\u001b[2K     \u001b[90m━━━━━━━━━━━━━━━━━━━━━━━━━━━━━━━━━━━━━━━━\u001b[0m \u001b[32m7.8/7.8 MB\u001b[0m \u001b[31m86.8 MB/s\u001b[0m eta \u001b[36m0:00:00\u001b[0m\n",
      "\u001b[?25hCollecting safetensors>=0.3.1 (from transformers)\n",
      "  Downloading safetensors-0.3.1-cp310-cp310-manylinux_2_17_x86_64.manylinux2014_x86_64.whl (1.3 MB)\n",
      "\u001b[2K     \u001b[90m━━━━━━━━━━━━━━━━━━━━━━━━━━━━━━━━━━━━━━━━\u001b[0m \u001b[32m1.3/1.3 MB\u001b[0m \u001b[31m63.8 MB/s\u001b[0m eta \u001b[36m0:00:00\u001b[0m\n",
      "\u001b[?25hRequirement already satisfied: tqdm>=4.27 in /usr/local/lib/python3.10/dist-packages (from transformers) (4.65.0)\n",
      "Requirement already satisfied: fsspec in /usr/local/lib/python3.10/dist-packages (from huggingface-hub<1.0,>=0.14.1->transformers) (2023.6.0)\n",
      "Requirement already satisfied: typing-extensions>=3.7.4.3 in /usr/local/lib/python3.10/dist-packages (from huggingface-hub<1.0,>=0.14.1->transformers) (4.6.3)\n",
      "Requirement already satisfied: urllib3<1.27,>=1.21.1 in /usr/local/lib/python3.10/dist-packages (from requests->transformers) (1.26.16)\n",
      "Requirement already satisfied: certifi>=2017.4.17 in /usr/local/lib/python3.10/dist-packages (from requests->transformers) (2023.5.7)\n",
      "Requirement already satisfied: charset-normalizer~=2.0.0 in /usr/local/lib/python3.10/dist-packages (from requests->transformers) (2.0.12)\n",
      "Requirement already satisfied: idna<4,>=2.5 in /usr/local/lib/python3.10/dist-packages (from requests->transformers) (3.4)\n",
      "Installing collected packages: tokenizers, safetensors, huggingface-hub, transformers\n",
      "Successfully installed huggingface-hub-0.15.1 safetensors-0.3.1 tokenizers-0.13.3 transformers-4.30.2\n",
      "Collecting keras_tuner\n",
      "  Downloading keras_tuner-1.3.5-py3-none-any.whl (176 kB)\n",
      "\u001b[2K     \u001b[90m━━━━━━━━━━━━━━━━━━━━━━━━━━━━━━━━━━━━━━━\u001b[0m \u001b[32m176.1/176.1 kB\u001b[0m \u001b[31m6.2 MB/s\u001b[0m eta \u001b[36m0:00:00\u001b[0m\n",
      "\u001b[?25hRequirement already satisfied: packaging in /usr/local/lib/python3.10/dist-packages (from keras_tuner) (23.1)\n",
      "Requirement already satisfied: requests in /usr/local/lib/python3.10/dist-packages (from keras_tuner) (2.27.1)\n",
      "Collecting kt-legacy (from keras_tuner)\n",
      "  Downloading kt_legacy-1.0.5-py3-none-any.whl (9.6 kB)\n",
      "Requirement already satisfied: urllib3<1.27,>=1.21.1 in /usr/local/lib/python3.10/dist-packages (from requests->keras_tuner) (1.26.16)\n",
      "Requirement already satisfied: certifi>=2017.4.17 in /usr/local/lib/python3.10/dist-packages (from requests->keras_tuner) (2023.5.7)\n",
      "Requirement already satisfied: charset-normalizer~=2.0.0 in /usr/local/lib/python3.10/dist-packages (from requests->keras_tuner) (2.0.12)\n",
      "Requirement already satisfied: idna<4,>=2.5 in /usr/local/lib/python3.10/dist-packages (from requests->keras_tuner) (3.4)\n",
      "Installing collected packages: kt-legacy, keras_tuner\n",
      "Successfully installed keras_tuner-1.3.5 kt-legacy-1.0.5\n"
     ]
    }
   ],
   "source": [
    "!pip install transformers\n",
    "!pip install keras_tuner"
   ]
  },
  {
   "cell_type": "code",
   "execution_count": 4,
   "id": "7dae8f81",
   "metadata": {
    "id": "7dae8f81"
   },
   "outputs": [],
   "source": [
    "import os\n",
    "import warnings\n",
    "os.environ['TF_CPP_MIN_LOG_LEVEL'] = '3'\n",
    "warnings.filterwarnings(\"ignore\")\n",
    "\n",
    "import numpy as np\n",
    "import pandas as pd\n",
    "import utils\n",
    "import tensorflow as tf\n",
    "import keras_tuner as kt\n",
    "from tensorflow.keras.models import Sequential, Model\n",
    "from tensorflow.keras import regularizers\n",
    "from tensorflow.keras.layers import Input, Dense, Embedding, LSTM, Bidirectional, Dropout, GlobalMaxPool1D\n",
    "from tensorflow.keras.callbacks import Callback, EarlyStopping, ReduceLROnPlateau\n",
    "from tensorflow.keras.optimizers import Adam\n",
    "from transformers import AutoTokenizer, TFAutoModel\n",
    "from decimal import Decimal\n",
    "from sklearn.metrics import confusion_matrix, ConfusionMatrixDisplay\n",
    "from sklearn.model_selection import train_test_split\n"
   ]
  },
  {
   "cell_type": "code",
   "execution_count": 5,
   "id": "Zxb8JzSvEBk5",
   "metadata": {
    "colab": {
     "base_uri": "https://localhost:8080/"
    },
    "id": "Zxb8JzSvEBk5",
    "outputId": "636ae12c-1873-4c1b-ad7e-0fc0e7ece8fc"
   },
   "outputs": [
    {
     "name": "stdout",
     "output_type": "stream",
     "text": [
      "Found GPU at: /device:GPU:0\n"
     ]
    }
   ],
   "source": [
    "device_name = tf.test.gpu_device_name()\n",
    "if device_name != '/device:GPU:0':\n",
    "  raise SystemError('GPU device not found')\n",
    "print('Found GPU at: {}'.format(device_name))"
   ]
  },
  {
   "cell_type": "markdown",
   "id": "mPqpGI39Orqz",
   "metadata": {
    "id": "mPqpGI39Orqz"
   },
   "source": [
    "# Preprocessing"
   ]
  },
  {
   "cell_type": "markdown",
   "id": "wAcaV9Q7ppco",
   "metadata": {
    "id": "wAcaV9Q7ppco"
   },
   "source": [
    "The primary data for the competition is, in each provided file, the comment_text column. This contains the text of a comment which has been labeled as Conspiratorial (1) or non-conspiratorial (0). The train set’s comments are entirely in Italian with sporadic citation of external resources in English and come exclusively from Telegram Channels.\n",
    "\n",
    "The subtaskA_train.csv contains a conspiratorial column that it is the target to be trained on. The values of such column are either 1 indicating that the corresponding comment in comment_text column is Conspiratorial. Otherwise it is 0."
   ]
  },
  {
   "cell_type": "markdown",
   "id": "sAV8rmC5qToR",
   "metadata": {
    "id": "sAV8rmC5qToR"
   },
   "source": [
    "## Loading dataset"
   ]
  },
  {
   "cell_type": "code",
   "execution_count": 6,
   "id": "16e2f779",
   "metadata": {
    "id": "16e2f779"
   },
   "outputs": [],
   "source": [
    "train = pd.read_csv(\"subtaskA_train_set.csv\")\n",
    "val = pd.read_csv(\"subtaskA_val_set.csv\")\n",
    "test = pd.read_csv(\"subtaskA_test_set.csv\")\n",
    "trainval = pd.read_csv(\"subtaskA_trainval_set.csv\")\n",
    "\n",
    "y_test = test[\"conspiratorial\"]"
   ]
  },
  {
   "cell_type": "markdown",
   "id": "HMokyFJwPzc_",
   "metadata": {
    "id": "HMokyFJwPzc_"
   },
   "source": [
    "# Creating model"
   ]
  },
  {
   "cell_type": "markdown",
   "id": "eSG9QsyjPhaD",
   "metadata": {
    "id": "eSG9QsyjPhaD"
   },
   "source": [
    "## Initializing tokenizer and Bert pretrained model"
   ]
  },
  {
   "cell_type": "markdown",
   "id": "5NjsUMo2rHiw",
   "metadata": {
    "id": "5NjsUMo2rHiw"
   },
   "source": [
    "In this notebook we experiment BERT. In particular, we use [bert-base-multilingual-uncased](https://huggingface.co/bert-base-multilingual-uncased), a transformers model pretrained on a large corpus of multilingual data."
   ]
  },
  {
   "cell_type": "code",
   "execution_count": 7,
   "id": "d8Wf-ikzIsF4",
   "metadata": {
    "colab": {
     "base_uri": "https://localhost:8080/",
     "height": 284,
     "referenced_widgets": [
      "d889af8875d042d0a292d5e701569851",
      "4080bbf35f964f42b1ac880629332600",
      "f2003215c170449bb3c3e9ee950ee900",
      "15ae701589c5493abb3108d6d85f1c33",
      "76d2ae0804d44c7f8f7b5571c6c57752",
      "df5f0e0c0bb4458f8f5522f55c138c92",
      "a29c553127e04d55b2b1476048128915",
      "9aad643f60ae4a89a2839c8cfe78d2f3",
      "9b1c75d926dc4479bce737d04db36866",
      "9d431c91f4684e7f9a549b56a2b509f5",
      "5873a5f60e8d48e6aa4cde8cd35bb0ae",
      "17d545adbd774e57b63b956394e6b47a",
      "da5aa1f7ff0d41b2924e56a6b9719dce",
      "6a72cc17e58b4a43a56434c04338345c",
      "e8e80bfd25364fdbab19608ed18e5068",
      "99d2b397014e40399add9f6a1b337c99",
      "fe54728612e34ec5a4a618a0c9c1adb4",
      "cc2de4c188f641b7ac8ce88d9083807d",
      "4628970a10654698a2ab43674c87cc0a",
      "ab4b13c7440744d88812673cc9742043",
      "38e6c026e1be49f4a1153cc1ce8d5666",
      "4e6b830908fc4814982227ea828f46f4",
      "0d92b9d96868465499727b2f766a94de",
      "b65c195c504e45939a244ed327f822f6",
      "a169c9769e8044e9a73a8599ed14d754",
      "f493354ab33548268b4c3676edc67e51",
      "5033183e1c0242b2a70465691129c1b8",
      "f63080422b704a45853f6d48a446eaf7",
      "c410b0dd51de4c09916eff3995c44f49",
      "95e65eab147443058126ad5f327c6af1",
      "0f401436ca864c3b93e0a939a5be4144",
      "ba77d25803264b3cbb798cd21cd76795",
      "4722c0ef21f5482fb48090caa58f60e5",
      "8ec074f5e9074158b7574d0637a042a1",
      "a5397435e19c442da27d6ce7715e20ba",
      "b180e6226f5e4b9a99e0367f0902616f",
      "c1a8edc159884e50967c00168c12f896",
      "37e877de280c4e13b92570f6ce6178aa",
      "6c076e2d518742109d880ae120468a27",
      "1281d3f27a4e4523bf11a674902c1a73",
      "730ffb2f9b35486ba561f44616cd9f7f",
      "671a7dfce5564c47bca1da96afd425f8",
      "7f152504587d4d13b03f9643519508b1",
      "ae8f5e2d89e24cca8dbf894b5912375f",
      "38fdf630992c451fbcd48c4e1a705f6e",
      "dbef623927d443e888a65797282ee8ef",
      "9e9c72c505a449d293a8c29592d716ef",
      "33904f6fbd6f43eb8bc254961a6ea039",
      "45c907dd3ae841cebfaf5ab50478769e",
      "76247df45de04ec5b7d5dc75041cbe03",
      "f0c61fcf48444208a46c80e88df2827b",
      "b12d2dab84b74e38b2f0aca1be9a8ac6",
      "e50cf448d94943af9fa2a89b1e5815cd",
      "26072ff7fe56498eb96cd00d5ed0cd57",
      "0e7cbb2b414b44a9a1842e59f63ec58c"
     ]
    },
    "id": "d8Wf-ikzIsF4",
    "outputId": "d45958d9-eefd-45bf-c394-0afa7ce599ef"
   },
   "outputs": [
    {
     "data": {
      "application/vnd.jupyter.widget-view+json": {
       "model_id": "d889af8875d042d0a292d5e701569851",
       "version_major": 2,
       "version_minor": 0
      },
      "text/plain": [
       "Downloading (…)okenizer_config.json:   0%|          | 0.00/28.0 [00:00<?, ?B/s]"
      ]
     },
     "metadata": {},
     "output_type": "display_data"
    },
    {
     "data": {
      "application/vnd.jupyter.widget-view+json": {
       "model_id": "17d545adbd774e57b63b956394e6b47a",
       "version_major": 2,
       "version_minor": 0
      },
      "text/plain": [
       "Downloading (…)lve/main/config.json:   0%|          | 0.00/625 [00:00<?, ?B/s]"
      ]
     },
     "metadata": {},
     "output_type": "display_data"
    },
    {
     "data": {
      "application/vnd.jupyter.widget-view+json": {
       "model_id": "0d92b9d96868465499727b2f766a94de",
       "version_major": 2,
       "version_minor": 0
      },
      "text/plain": [
       "Downloading (…)solve/main/vocab.txt:   0%|          | 0.00/872k [00:00<?, ?B/s]"
      ]
     },
     "metadata": {},
     "output_type": "display_data"
    },
    {
     "data": {
      "application/vnd.jupyter.widget-view+json": {
       "model_id": "8ec074f5e9074158b7574d0637a042a1",
       "version_major": 2,
       "version_minor": 0
      },
      "text/plain": [
       "Downloading (…)/main/tokenizer.json:   0%|          | 0.00/1.72M [00:00<?, ?B/s]"
      ]
     },
     "metadata": {},
     "output_type": "display_data"
    },
    {
     "data": {
      "application/vnd.jupyter.widget-view+json": {
       "model_id": "38fdf630992c451fbcd48c4e1a705f6e",
       "version_major": 2,
       "version_minor": 0
      },
      "text/plain": [
       "Downloading pytorch_model.bin:   0%|          | 0.00/672M [00:00<?, ?B/s]"
      ]
     },
     "metadata": {},
     "output_type": "display_data"
    },
    {
     "name": "stderr",
     "output_type": "stream",
     "text": [
      "Some weights of the PyTorch model were not used when initializing the TF 2.0 model TFBertModel: ['cls.seq_relationship.bias', 'cls.predictions.transform.LayerNorm.weight', 'cls.seq_relationship.weight', 'cls.predictions.bias', 'cls.predictions.decoder.weight', 'cls.predictions.transform.dense.weight', 'cls.predictions.transform.LayerNorm.bias', 'cls.predictions.transform.dense.bias']\n",
      "- This IS expected if you are initializing TFBertModel from a PyTorch model trained on another task or with another architecture (e.g. initializing a TFBertForSequenceClassification model from a BertForPreTraining model).\n",
      "- This IS NOT expected if you are initializing TFBertModel from a PyTorch model that you expect to be exactly identical (e.g. initializing a TFBertForSequenceClassification model from a BertForSequenceClassification model).\n",
      "All the weights of TFBertModel were initialized from the PyTorch model.\n",
      "If your task is similar to the task the model of the checkpoint was trained on, you can already use TFBertModel for predictions without further training.\n"
     ]
    }
   ],
   "source": [
    "pre_trained_model = \"bert-base-multilingual-uncased\"\n",
    "\n",
    "tokenizer = AutoTokenizer.from_pretrained(pre_trained_model)\n",
    "\n",
    "# initialize multilingual uncased BERT model\n",
    "bert = TFAutoModel.from_pretrained(pre_trained_model, from_pt=True)"
   ]
  },
  {
   "cell_type": "code",
   "execution_count": 8,
   "id": "e86375a0",
   "metadata": {
    "id": "e86375a0"
   },
   "outputs": [],
   "source": [
    "SEQ_LEN = 256  # we will cut/pad our sequences to a length of 256 tokens\n",
    "BATCH_SIZE = 32  # we will use batches of 32\n",
    "\n",
    "def tokenize(sentence):\n",
    "    tokens = tokenizer.encode_plus( # Tokenize and prepare for the model a sequence or a pair of sequences.\n",
    "        sentence, # string to be encoded\n",
    "        max_length=SEQ_LEN, # max length to consider for truncation/padding\n",
    "        truncation=True, # truncate to max_length\n",
    "        padding='max_length', # Pad to a maximum length specified\n",
    "        add_special_tokens=True, # encode special tokens\n",
    "        return_attention_mask=True, # return attention mask\n",
    "        return_token_type_ids=False, # don't return token type IDs\n",
    "        return_tensors='tf'\n",
    "    )\n",
    "    return tokens['input_ids'], tokens['attention_mask']"
   ]
  },
  {
   "cell_type": "code",
   "execution_count": 9,
   "id": "GsNVEnO5dfcC",
   "metadata": {
    "id": "GsNVEnO5dfcC"
   },
   "outputs": [],
   "source": [
    "# create a mapping function that we use to restructure our dataset\n",
    "def map_func(input_ids, masks, labels):\n",
    "  return {'input_ids': input_ids, 'attention_mask': masks}, labels\n",
    "\n",
    "def create_dataset(df):\n",
    "  # initialize two arrays for input tensors\n",
    "  Xids = np.zeros((len(df['comment_text']), SEQ_LEN))\n",
    "  Xmask = np.zeros((len(df['comment_text']), SEQ_LEN))\n",
    "\n",
    "  for i, sentence in enumerate(df['comment_text']):\n",
    "    Xids[i, :], Xmask[i, :] = tokenize(sentence)\n",
    "\n",
    "  labels= df['conspiratorial']\n",
    "\n",
    "  # load arrays into tensorflow dataset\n",
    "  dataset = tf.data.Dataset.from_tensor_slices((Xids, Xmask, labels))\n",
    "\n",
    "  # using map method to apply map_func to dataset\n",
    "  dataset = dataset.map(map_func)\n",
    "\n",
    "  # combines consecutive elements of this dataset into batches.\n",
    "  return dataset.batch(BATCH_SIZE)\n",
    "\n",
    "train = create_dataset(train) # training set\n",
    "val = create_dataset(val) # validation set\n",
    "train_val = create_dataset(trainval) # training and validation set (for final retraining)\n",
    "test = create_dataset(test) # test set"
   ]
  },
  {
   "cell_type": "markdown",
   "id": "MT41Q66fWrHr",
   "metadata": {
    "id": "MT41Q66fWrHr"
   },
   "source": [
    "## Defining model architecture"
   ]
  },
  {
   "cell_type": "code",
   "execution_count": 10,
   "id": "857ce9cb",
   "metadata": {
    "id": "857ce9cb"
   },
   "outputs": [],
   "source": [
    "def build_model_with_hp(lstm_units, l1_units, l2_value, dropout_rate, learning_rate, clipnorm):\n",
    "  input_ids = Input(shape=(SEQ_LEN,), name='input_ids', dtype='int32')\n",
    "  mask = Input(shape=(SEQ_LEN,), name='attention_mask', dtype='int32')\n",
    "\n",
    "  # we consume the last_hidden_state tensor from bert (discarding pooled_outputs)\n",
    "  embeddings = bert(input_ids, attention_mask=mask)[0]\n",
    "\n",
    "  # BI-LSTM layer\n",
    "  net = Bidirectional(\n",
    "      LSTM( units = lstm_units, kernel_regularizer=regularizers.L2(l2_value), return_sequences= True)\n",
    "      )(embeddings)\n",
    "  net = GlobalMaxPool1D()(net)\n",
    "  net = Dropout(dropout_rate)(net)\n",
    "\n",
    "  # FULLY CONNECTED DENSE LAYERS\n",
    "  net = Dense(\n",
    "      units = l1_units,\n",
    "      kernel_regularizer = regularizers.L2(l2_value),\n",
    "      activation='relu')(net)\n",
    "  net = Dropout(dropout_rate)(net)\n",
    "  net = Dense(1, activation='sigmoid', name='outputs')(net)\n",
    "\n",
    "  model = Model(inputs=[input_ids, mask], outputs=net)\n",
    "\n",
    "  # set up bert not trainable\n",
    "  model.layers[2].trainable = False\n",
    "\n",
    "  optimizer = Adam(\n",
    "    learning_rate=learning_rate,\n",
    "    clipnorm=clipnorm\n",
    "  )\n",
    "\n",
    "  model.compile(\n",
    "    optimizer = optimizer,\n",
    "    loss=\"binary_crossentropy\",\n",
    "    metrics=['accuracy']\n",
    "  )\n",
    "\n",
    "  return model\n",
    "\n",
    "def build_model(hp):\n",
    "  return build_model_with_hp(\n",
    "      lstm_units = hp.Choice(\"Bidirectional LSTM units\", values=[8, 16, 32]),\n",
    "      l1_units = hp.Choice(\"Dense layer 1 units\", values=[8, 16, 32]),\n",
    "      l2_value = hp.Choice(\"L2 regularization\", values=[1e-4, 1e-5, 1e-6]),\n",
    "      dropout_rate = hp.Choice(\"Dropout rate\", values=[0.1, 0.2, 0.25]),\n",
    "      learning_rate = hp.Choice(\"Learning rate\", values=[1e-2, 1e-3]),\n",
    "      clipnorm = 0.1\n",
    "  )\n"
   ]
  },
  {
   "cell_type": "markdown",
   "id": "F2qcZ5jxWyGU",
   "metadata": {
    "id": "F2qcZ5jxWyGU"
   },
   "source": [
    "# Training of the model"
   ]
  },
  {
   "cell_type": "code",
   "execution_count": 11,
   "id": "h7HKjxFjVo25",
   "metadata": {
    "id": "h7HKjxFjVo25"
   },
   "outputs": [],
   "source": [
    "tuner = kt.RandomSearch(\n",
    "    hypermodel=build_model,\n",
    "    max_trials=6,\n",
    "    objective='val_accuracy',\n",
    "    overwrite=True\n",
    ")"
   ]
  },
  {
   "cell_type": "markdown",
   "id": "2QyiRV46rUiz",
   "metadata": {
    "id": "2QyiRV46rUiz"
   },
   "source": [
    "Along the model, we introduce 2 callbacks to support the model training:\n",
    "\n",
    "*   **ReduceLROnPlateau**: Reduce learning rate when a metric has stopped improving. Models often benefit from reducing the learning rate by a factor once learning stagnates. This callback monitors a quantity and if no improvement is seen for a 'patience' number of epochs, the learning rate is reduced.\n",
    "*   **EarlyStopping**: Stop training when a monitored metric has stopped improving.\n",
    "\n"
   ]
  },
  {
   "cell_type": "code",
   "execution_count": 12,
   "id": "4SD1yEtboSaz",
   "metadata": {
    "id": "4SD1yEtboSaz"
   },
   "outputs": [],
   "source": [
    "reduceLr_callback = tf.keras.callbacks.ReduceLROnPlateau(\n",
    "  monitor=\"val_accuracy\",\n",
    "  factor=5e-2,\n",
    "  patience=5,\n",
    "  mode=\"auto\",\n",
    "  min_delta=1e-4,\n",
    "  min_lr=1e-5\n",
    ")\n",
    "\n",
    "early_stopping = EarlyStopping(\n",
    "    monitor='val_accuracy',\n",
    "    mode='auto',\n",
    "    patience=20,\n",
    "    verbose=False,\n",
    "    restore_best_weights=True\n",
    ")"
   ]
  },
  {
   "cell_type": "code",
   "execution_count": 13,
   "id": "0pzostueWmDs",
   "metadata": {
    "colab": {
     "base_uri": "https://localhost:8080/"
    },
    "id": "0pzostueWmDs",
    "outputId": "f1b7f9c5-5fc2-4b20-f23f-c4cc3116ee33"
   },
   "outputs": [
    {
     "name": "stdout",
     "output_type": "stream",
     "text": [
      "Trial 6 Complete [00h 24m 57s]\n",
      "val_accuracy: 0.8042168617248535\n",
      "\n",
      "Best val_accuracy So Far: 0.8042168617248535\n",
      "Total elapsed time: 02h 18m 24s\n"
     ]
    }
   ],
   "source": [
    "tuner.search(\n",
    "    x = train,\n",
    "    epochs = 80,\n",
    "    validation_data = val,\n",
    "    callbacks = [\n",
    "        reduceLr_callback,\n",
    "        early_stopping\n",
    "    ]\n",
    ")"
   ]
  },
  {
   "cell_type": "code",
   "execution_count": 14,
   "id": "S5CdYUFB3FRt",
   "metadata": {
    "colab": {
     "base_uri": "https://localhost:8080/"
    },
    "id": "S5CdYUFB3FRt",
    "outputId": "63d7660e-d9a8-4f8e-ac14-e7a8ffa657e4"
   },
   "outputs": [
    {
     "data": {
      "text/plain": [
       "{'Bidirectional LSTM units': 32,\n",
       " 'Dense layer 1 units': 32,\n",
       " 'L2 regularization': 1e-06,\n",
       " 'Dropout rate': 0.25,\n",
       " 'Learning rate': 0.01}"
      ]
     },
     "execution_count": 14,
     "metadata": {},
     "output_type": "execute_result"
    }
   ],
   "source": [
    "tuner.get_best_hyperparameters(1)[0].values"
   ]
  },
  {
   "cell_type": "code",
   "execution_count": 16,
   "id": "8rBbvfJ373P5",
   "metadata": {
    "colab": {
     "base_uri": "https://localhost:8080/"
    },
    "id": "8rBbvfJ373P5",
    "outputId": "8ee32f62-c5de-4b70-ddbe-bc95241beb2b"
   },
   "outputs": [
    {
     "name": "stdout",
     "output_type": "stream",
     "text": [
      "Epoch 1/60\n",
      "42/42 [==============================] - 58s 949ms/step - loss: 0.6401 - accuracy: 0.6432 - val_loss: 0.5944 - val_accuracy: 0.6898 - lr: 0.0010\n",
      "Epoch 2/60\n",
      "42/42 [==============================] - 38s 912ms/step - loss: 0.5645 - accuracy: 0.7181 - val_loss: 0.5668 - val_accuracy: 0.6958 - lr: 0.0010\n",
      "Epoch 3/60\n",
      "42/42 [==============================] - 35s 835ms/step - loss: 0.5173 - accuracy: 0.7468 - val_loss: 0.5429 - val_accuracy: 0.7169 - lr: 0.0010\n",
      "Epoch 4/60\n",
      "42/42 [==============================] - 38s 918ms/step - loss: 0.4793 - accuracy: 0.7642 - val_loss: 0.5604 - val_accuracy: 0.7319 - lr: 0.0010\n",
      "Epoch 5/60\n",
      "42/42 [==============================] - 39s 923ms/step - loss: 0.4500 - accuracy: 0.7891 - val_loss: 0.5179 - val_accuracy: 0.7560 - lr: 0.0010\n",
      "Epoch 6/60\n",
      "42/42 [==============================] - 38s 900ms/step - loss: 0.4144 - accuracy: 0.8110 - val_loss: 0.5231 - val_accuracy: 0.7560 - lr: 0.0010\n",
      "Epoch 7/60\n",
      "42/42 [==============================] - 34s 812ms/step - loss: 0.3874 - accuracy: 0.8337 - val_loss: 0.5750 - val_accuracy: 0.7410 - lr: 0.0010\n",
      "Epoch 8/60\n",
      "42/42 [==============================] - 38s 905ms/step - loss: 0.3622 - accuracy: 0.8473 - val_loss: 0.5513 - val_accuracy: 0.7560 - lr: 0.0010\n",
      "Epoch 9/60\n",
      "42/42 [==============================] - 38s 919ms/step - loss: 0.3287 - accuracy: 0.8609 - val_loss: 0.5756 - val_accuracy: 0.7681 - lr: 0.0010\n",
      "Epoch 10/60\n",
      "42/42 [==============================] - 34s 811ms/step - loss: 0.3158 - accuracy: 0.8677 - val_loss: 0.5892 - val_accuracy: 0.7590 - lr: 0.0010\n",
      "Epoch 11/60\n",
      "42/42 [==============================] - 38s 905ms/step - loss: 0.2922 - accuracy: 0.8753 - val_loss: 0.6887 - val_accuracy: 0.7530 - lr: 0.0010\n",
      "Epoch 12/60\n",
      "42/42 [==============================] - 38s 904ms/step - loss: 0.2841 - accuracy: 0.8934 - val_loss: 0.6142 - val_accuracy: 0.7560 - lr: 0.0010\n",
      "Epoch 13/60\n",
      "42/42 [==============================] - 38s 906ms/step - loss: 0.2377 - accuracy: 0.9070 - val_loss: 0.6955 - val_accuracy: 0.7470 - lr: 0.0010\n",
      "Epoch 14/60\n",
      "42/42 [==============================] - 38s 903ms/step - loss: 0.2204 - accuracy: 0.9123 - val_loss: 0.7369 - val_accuracy: 0.7530 - lr: 0.0010\n",
      "Epoch 15/60\n",
      "42/42 [==============================] - 38s 906ms/step - loss: 0.1968 - accuracy: 0.9169 - val_loss: 0.7635 - val_accuracy: 0.7380 - lr: 5.0000e-05\n",
      "Epoch 16/60\n",
      "42/42 [==============================] - 38s 904ms/step - loss: 0.1832 - accuracy: 0.9274 - val_loss: 0.7673 - val_accuracy: 0.7470 - lr: 5.0000e-05\n",
      "Epoch 17/60\n",
      "42/42 [==============================] - 38s 903ms/step - loss: 0.1733 - accuracy: 0.9305 - val_loss: 0.7851 - val_accuracy: 0.7319 - lr: 5.0000e-05\n",
      "Epoch 18/60\n",
      "42/42 [==============================] - 38s 906ms/step - loss: 0.1593 - accuracy: 0.9441 - val_loss: 0.7828 - val_accuracy: 0.7440 - lr: 5.0000e-05\n",
      "Epoch 19/60\n",
      "42/42 [==============================] - 34s 807ms/step - loss: 0.1704 - accuracy: 0.9388 - val_loss: 0.8102 - val_accuracy: 0.7349 - lr: 5.0000e-05\n",
      "Epoch 20/60\n",
      "42/42 [==============================] - 38s 907ms/step - loss: 0.1621 - accuracy: 0.9426 - val_loss: 0.7996 - val_accuracy: 0.7440 - lr: 1.0000e-05\n",
      "Epoch 21/60\n",
      "42/42 [==============================] - 38s 902ms/step - loss: 0.1723 - accuracy: 0.9335 - val_loss: 0.8064 - val_accuracy: 0.7410 - lr: 1.0000e-05\n",
      "Epoch 22/60\n",
      "42/42 [==============================] - 34s 816ms/step - loss: 0.1491 - accuracy: 0.9494 - val_loss: 0.8079 - val_accuracy: 0.7440 - lr: 1.0000e-05\n",
      "Epoch 23/60\n",
      "42/42 [==============================] - 38s 903ms/step - loss: 0.1807 - accuracy: 0.9267 - val_loss: 0.8187 - val_accuracy: 0.7410 - lr: 1.0000e-05\n",
      "Epoch 24/60\n",
      "42/42 [==============================] - 38s 909ms/step - loss: 0.1499 - accuracy: 0.9433 - val_loss: 0.8184 - val_accuracy: 0.7440 - lr: 1.0000e-05\n",
      "Epoch 25/60\n",
      "42/42 [==============================] - 38s 902ms/step - loss: 0.1607 - accuracy: 0.9380 - val_loss: 0.8156 - val_accuracy: 0.7470 - lr: 1.0000e-05\n",
      "Epoch 26/60\n",
      "42/42 [==============================] - 38s 907ms/step - loss: 0.1752 - accuracy: 0.9259 - val_loss: 0.8136 - val_accuracy: 0.7470 - lr: 1.0000e-05\n",
      "Epoch 27/60\n",
      "42/42 [==============================] - 34s 807ms/step - loss: 0.1481 - accuracy: 0.9463 - val_loss: 0.8135 - val_accuracy: 0.7470 - lr: 1.0000e-05\n",
      "Epoch 28/60\n",
      "42/42 [==============================] - 38s 907ms/step - loss: 0.1582 - accuracy: 0.9305 - val_loss: 0.8158 - val_accuracy: 0.7470 - lr: 1.0000e-05\n",
      "Epoch 29/60\n",
      "42/42 [==============================] - 38s 915ms/step - loss: 0.1703 - accuracy: 0.9289 - val_loss: 0.8144 - val_accuracy: 0.7440 - lr: 1.0000e-05\n"
     ]
    }
   ],
   "source": [
    "model = build_model_with_hp(\n",
    "  lstm_units = 32,\n",
    "  l1_units = 32,\n",
    "  l2_value = 1e-6,\n",
    "  dropout_rate = 0.25,\n",
    "  learning_rate = 1e-3,\n",
    "  clipnorm = 0.1\n",
    ")\n",
    "history = model.fit(\n",
    "    x = train,\n",
    "    validation_data = val,\n",
    "    batch_size=BATCH_SIZE,\n",
    "    epochs=60,\n",
    "    callbacks = [\n",
    "        reduceLr_callback,\n",
    "        early_stopping\n",
    "    ]\n",
    ")"
   ]
  },
  {
   "cell_type": "code",
   "execution_count": 17,
   "id": "ZepA3FEsNPJx",
   "metadata": {
    "colab": {
     "base_uri": "https://localhost:8080/",
     "height": 927
    },
    "id": "ZepA3FEsNPJx",
    "outputId": "fad113fb-867b-4cda-a520-937e30ac5f28"
   },
   "outputs": [
    {
     "data": {
      "image/png": "[encoded data removed]",
      "text/plain": [
       "<Figure size 640x480 with 1 Axes>"
      ]
     },
     "metadata": {},
     "output_type": "display_data"
    },
    {
     "data": {
      "image/png": "[encoded data removed]",
      "text/plain": [
       "<Figure size 640x480 with 1 Axes>"
      ]
     },
     "metadata": {},
     "output_type": "display_data"
    }
   ],
   "source": [
    "utils.plot_history(history)"
   ]
  },
  {
   "cell_type": "markdown",
   "id": "uj8bhMHbanpC",
   "metadata": {
    "id": "uj8bhMHbanpC"
   },
   "source": [
    "# Final phase: retrain and test"
   ]
  },
  {
   "cell_type": "markdown",
   "id": "6f7ejuHcaroA",
   "metadata": {
    "id": "6f7ejuHcaroA"
   },
   "source": [
    "## Retrain on training and validation"
   ]
  },
  {
   "cell_type": "markdown",
   "id": "vBZco1Kyau1C",
   "metadata": {
    "id": "vBZco1Kyau1C"
   },
   "source": [
    "Training the model on the best hyperparams found by the random search"
   ]
  },
  {
   "cell_type": "code",
   "execution_count": 18,
   "id": "WBOmU8o_azf2",
   "metadata": {
    "id": "WBOmU8o_azf2"
   },
   "outputs": [],
   "source": [
    "final_model = build_model_with_hp(\n",
    "  lstm_units = 32,\n",
    "  l1_units = 32,\n",
    "  l2_value = 1e-6,\n",
    "  dropout_rate = 0.25,\n",
    "  learning_rate = 1e-3,\n",
    "  clipnorm = 0.1\n",
    ")\n",
    "\n",
    "max_epochs = 5 # depends on the epochs reached by the best model before overfitting"
   ]
  },
  {
   "cell_type": "code",
   "execution_count": 19,
   "id": "yLtTEVnigB5P",
   "metadata": {
    "colab": {
     "base_uri": "https://localhost:8080/"
    },
    "id": "yLtTEVnigB5P",
    "outputId": "f59c91af-0504-4505-c8b6-ed79ac68297c"
   },
   "outputs": [
    {
     "name": "stdout",
     "output_type": "stream",
     "text": [
      "Model: \"model_3\"\n",
      "__________________________________________________________________________________________________\n",
      " Layer (type)                   Output Shape         Param #     Connected to                     \n",
      "==================================================================================================\n",
      " input_ids (InputLayer)         [(None, 256)]        0           []                               \n",
      "                                                                                                  \n",
      " attention_mask (InputLayer)    [(None, 256)]        0           []                               \n",
      "                                                                                                  \n",
      " tf_bert_model (TFBertModel)    TFBaseModelOutputWi  167356416   ['input_ids[0][0]',              \n",
      "                                thPoolingAndCrossAt               'attention_mask[0][0]']         \n",
      "                                tentions(last_hidde                                               \n",
      "                                n_state=(None, 256,                                               \n",
      "                                 768),                                                            \n",
      "                                 pooler_output=(Non                                               \n",
      "                                e, 768),                                                          \n",
      "                                 past_key_values=No                                               \n",
      "                                ne, hidden_states=N                                               \n",
      "                                one, attentions=Non                                               \n",
      "                                e, cross_attentions                                               \n",
      "                                =None)                                                            \n",
      "                                                                                                  \n",
      " bidirectional_3 (Bidirectional  (None, 256, 64)     205056      ['tf_bert_model[9][0]']          \n",
      " )                                                                                                \n",
      "                                                                                                  \n",
      " global_max_pooling1d_3 (Global  (None, 64)          0           ['bidirectional_3[0][0]']        \n",
      " MaxPooling1D)                                                                                    \n",
      "                                                                                                  \n",
      " dropout_6 (Dropout)            (None, 64)           0           ['global_max_pooling1d_3[0][0]'] \n",
      "                                                                                                  \n",
      " dense_3 (Dense)                (None, 32)           2080        ['dropout_6[0][0]']              \n",
      "                                                                                                  \n",
      " dropout_7 (Dropout)            (None, 32)           0           ['dense_3[0][0]']                \n",
      "                                                                                                  \n",
      " outputs (Dense)                (None, 1)            33          ['dropout_7[0][0]']              \n",
      "                                                                                                  \n",
      "==================================================================================================\n",
      "Total params: 167,563,585\n",
      "Trainable params: 207,169\n",
      "Non-trainable params: 167,356,416\n",
      "__________________________________________________________________________________________________\n"
     ]
    }
   ],
   "source": [
    "final_model.summary()"
   ]
  },
  {
   "cell_type": "code",
   "execution_count": 20,
   "id": "fddd0f67",
   "metadata": {
    "colab": {
     "base_uri": "https://localhost:8080/"
    },
    "id": "fddd0f67",
    "outputId": "c2257e9f-7408-4a36-fa7c-f66b0603baaf"
   },
   "outputs": [
    {
     "name": "stdout",
     "output_type": "stream",
     "text": [
      "Epoch 1/5\n",
      "52/52 [==============================] - 57s 681ms/step - loss: 0.6277 - accuracy: 0.6520\n",
      "Epoch 2/5\n",
      "52/52 [==============================] - 34s 655ms/step - loss: 0.5558 - accuracy: 0.7245\n",
      "Epoch 3/5\n",
      "52/52 [==============================] - 35s 673ms/step - loss: 0.5063 - accuracy: 0.7589\n",
      "Epoch 4/5\n",
      "52/52 [==============================] - 34s 657ms/step - loss: 0.4907 - accuracy: 0.7698\n",
      "Epoch 5/5\n",
      "52/52 [==============================] - 35s 666ms/step - loss: 0.4616 - accuracy: 0.7849\n"
     ]
    }
   ],
   "source": [
    "history = final_model.fit(\n",
    "    x = train_val,\n",
    "    batch_size=BATCH_SIZE,\n",
    "    epochs=max_epochs\n",
    ")"
   ]
  },
  {
   "cell_type": "code",
   "execution_count": 21,
   "id": "q56xmpJRbB_7",
   "metadata": {
    "colab": {
     "base_uri": "https://localhost:8080/"
    },
    "id": "q56xmpJRbB_7",
    "outputId": "cf269454-7ba8-4503-fd22-1c4241dd0c8c"
   },
   "outputs": [
    {
     "name": "stdout",
     "output_type": "stream",
     "text": [
      "6/6 [==============================] - 8s 573ms/step - loss: 0.5039 - accuracy: 0.7622\n"
     ]
    }
   ],
   "source": [
    "_ = final_model.evaluate(\n",
    "    x = test,\n",
    "    batch_size=BATCH_SIZE\n",
    ")"
   ]
  },
  {
   "cell_type": "code",
   "execution_count": 22,
   "id": "z-iIbcvjvIpM",
   "metadata": {
    "colab": {
     "base_uri": "https://localhost:8080/",
     "height": 484
    },
    "id": "z-iIbcvjvIpM",
    "outputId": "d896b631-ba3a-4ab2-c35d-42daa5edfd8f"
   },
   "outputs": [
    {
     "name": "stdout",
     "output_type": "stream",
     "text": [
      "6/6 [==============================] - 7s 573ms/step\n"
     ]
    },
    {
     "data": {
      "text/plain": [
       "<sklearn.metrics._plot.confusion_matrix.ConfusionMatrixDisplay at 0x7f8588dca800>"
      ]
     },
     "execution_count": 22,
     "metadata": {},
     "output_type": "execute_result"
    },
    {
     "data": {
      "image/png": "[encoded data removed]",
      "text/plain": [
       "<Figure size 640x480 with 2 Axes>"
      ]
     },
     "metadata": {},
     "output_type": "display_data"
    }
   ],
   "source": [
    "predictions = model.predict(x=test)\n",
    "predictions = list(map(round, [ _[0] for _ in predictions]))\n",
    "cm = confusion_matrix(y_test, predictions)\n",
    "disp = ConfusionMatrixDisplay(confusion_matrix=cm, display_labels=[\"Non conspiratorial\", \"conspiratorial\"])\n",
    "disp.plot()"
   ]
  },
  {
   "cell_type": "code",
   "execution_count": null,
   "id": "uMSy5ruyLVCJ",
   "metadata": {
    "id": "uMSy5ruyLVCJ"
   },
   "outputs": [],
   "source": []
  }
 ],
 "metadata": {
  "accelerator": "GPU",
  "colab": {
   "provenance": []
  },
  "kernelspec": {
   "display_name": "Python 3 (ipykernel)",
   "language": "python",
   "name": "python3"
  },
  "language_info": {
   "codemirror_mode": {
    "name": "ipython",
    "version": 3
   },
   "file_extension": ".py",
   "mimetype": "text/x-python",
   "name": "python",
   "nbconvert_exporter": "python",
   "pygments_lexer": "ipython3",
   "version": "3.10.6"
  },
  "widgets": {
   "application/vnd.jupyter.widget-state+json": {
    "0d92b9d96868465499727b2f766a94de": {
     "model_module": "@jupyter-widgets/controls",
     "model_module_version": "1.5.0",
     "model_name": "HBoxModel",
     "state": {
      "_dom_classes": [],
      "_model_module": "@jupyter-widgets/controls",
      "_model_module_version": "1.5.0",
      "_model_name": "HBoxModel",
      "_view_count": null,
      "_view_module": "@jupyter-widgets/controls",
      "_view_module_version": "1.5.0",
      "_view_name": "HBoxView",
      "box_style": "",
      "children": [
       "IPY_MODEL_b65c195c504e45939a244ed327f822f6",
       "IPY_MODEL_a169c9769e8044e9a73a8599ed14d754",
       "IPY_MODEL_f493354ab33548268b4c3676edc67e51"
      ],
      "layout": "IPY_MODEL_5033183e1c0242b2a70465691129c1b8"
     }
    },
    "0e7cbb2b414b44a9a1842e59f63ec58c": {
     "model_module": "@jupyter-widgets/controls",
     "model_module_version": "1.5.0",
     "model_name": "DescriptionStyleModel",
     "state": {
      "_model_module": "@jupyter-widgets/controls",
      "_model_module_version": "1.5.0",
      "_model_name": "DescriptionStyleModel",
      "_view_count": null,
      "_view_module": "@jupyter-widgets/base",
      "_view_module_version": "1.2.0",
      "_view_name": "StyleView",
      "description_width": ""
     }
    },
    "0f401436ca864c3b93e0a939a5be4144": {
     "model_module": "@jupyter-widgets/controls",
     "model_module_version": "1.5.0",
     "model_name": "ProgressStyleModel",
     "state": {
      "_model_module": "@jupyter-widgets/controls",
      "_model_module_version": "1.5.0",
      "_model_name": "ProgressStyleModel",
      "_view_count": null,
      "_view_module": "@jupyter-widgets/base",
      "_view_module_version": "1.2.0",
      "_view_name": "StyleView",
      "bar_color": null,
      "description_width": ""
     }
    },
    "1281d3f27a4e4523bf11a674902c1a73": {
     "model_module": "@jupyter-widgets/controls",
     "model_module_version": "1.5.0",
     "model_name": "DescriptionStyleModel",
     "state": {
      "_model_module": "@jupyter-widgets/controls",
      "_model_module_version": "1.5.0",
      "_model_name": "DescriptionStyleModel",
      "_view_count": null,
      "_view_module": "@jupyter-widgets/base",
      "_view_module_version": "1.2.0",
      "_view_name": "StyleView",
      "description_width": ""
     }
    },
    "15ae701589c5493abb3108d6d85f1c33": {
     "model_module": "@jupyter-widgets/controls",
     "model_module_version": "1.5.0",
     "model_name": "HTMLModel",
     "state": {
      "_dom_classes": [],
      "_model_module": "@jupyter-widgets/controls",
      "_model_module_version": "1.5.0",
      "_model_name": "HTMLModel",
      "_view_count": null,
      "_view_module": "@jupyter-widgets/controls",
      "_view_module_version": "1.5.0",
      "_view_name": "HTMLView",
      "description": "",
      "description_tooltip": null,
      "layout": "IPY_MODEL_9d431c91f4684e7f9a549b56a2b509f5",
      "placeholder": "​",
      "style": "IPY_MODEL_5873a5f60e8d48e6aa4cde8cd35bb0ae",
      "value": " 28.0/28.0 [00:00&lt;00:00, 572B/s]"
     }
    },
    "17d545adbd774e57b63b956394e6b47a": {
     "model_module": "@jupyter-widgets/controls",
     "model_module_version": "1.5.0",
     "model_name": "HBoxModel",
     "state": {
      "_dom_classes": [],
      "_model_module": "@jupyter-widgets/controls",
      "_model_module_version": "1.5.0",
      "_model_name": "HBoxModel",
      "_view_count": null,
      "_view_module": "@jupyter-widgets/controls",
      "_view_module_version": "1.5.0",
      "_view_name": "HBoxView",
      "box_style": "",
      "children": [
       "IPY_MODEL_da5aa1f7ff0d41b2924e56a6b9719dce",
       "IPY_MODEL_6a72cc17e58b4a43a56434c04338345c",
       "IPY_MODEL_e8e80bfd25364fdbab19608ed18e5068"
      ],
      "layout": "IPY_MODEL_99d2b397014e40399add9f6a1b337c99"
     }
    },
    "26072ff7fe56498eb96cd00d5ed0cd57": {
     "model_module": "@jupyter-widgets/base",
     "model_module_version": "1.2.0",
     "model_name": "LayoutModel",
     "state": {
      "_model_module": "@jupyter-widgets/base",
      "_model_module_version": "1.2.0",
      "_model_name": "LayoutModel",
      "_view_count": null,
      "_view_module": "@jupyter-widgets/base",
      "_view_module_version": "1.2.0",
      "_view_name": "LayoutView",
      "align_content": null,
      "align_items": null,
      "align_self": null,
      "border": null,
      "bottom": null,
      "display": null,
      "flex": null,
      "flex_flow": null,
      "grid_area": null,
      "grid_auto_columns": null,
      "grid_auto_flow": null,
      "grid_auto_rows": null,
      "grid_column": null,
      "grid_gap": null,
      "grid_row": null,
      "grid_template_areas": null,
      "grid_template_columns": null,
      "grid_template_rows": null,
      "height": null,
      "justify_content": null,
      "justify_items": null,
      "left": null,
      "margin": null,
      "max_height": null,
      "max_width": null,
      "min_height": null,
      "min_width": null,
      "object_fit": null,
      "object_position": null,
      "order": null,
      "overflow": null,
      "overflow_x": null,
      "overflow_y": null,
      "padding": null,
      "right": null,
      "top": null,
      "visibility": null,
      "width": null
     }
    },
    "33904f6fbd6f43eb8bc254961a6ea039": {
     "model_module": "@jupyter-widgets/controls",
     "model_module_version": "1.5.0",
     "model_name": "HTMLModel",
     "state": {
      "_dom_classes": [],
      "_model_module": "@jupyter-widgets/controls",
      "_model_module_version": "1.5.0",
      "_model_name": "HTMLModel",
      "_view_count": null,
      "_view_module": "@jupyter-widgets/controls",
      "_view_module_version": "1.5.0",
      "_view_name": "HTMLView",
      "description": "",
      "description_tooltip": null,
      "layout": "IPY_MODEL_26072ff7fe56498eb96cd00d5ed0cd57",
      "placeholder": "​",
      "style": "IPY_MODEL_0e7cbb2b414b44a9a1842e59f63ec58c",
      "value": " 672M/672M [00:05&lt;00:00, 163MB/s]"
     }
    },
    "37e877de280c4e13b92570f6ce6178aa": {
     "model_module": "@jupyter-widgets/base",
     "model_module_version": "1.2.0",
     "model_name": "LayoutModel",
     "state": {
      "_model_module": "@jupyter-widgets/base",
      "_model_module_version": "1.2.0",
      "_model_name": "LayoutModel",
      "_view_count": null,
      "_view_module": "@jupyter-widgets/base",
      "_view_module_version": "1.2.0",
      "_view_name": "LayoutView",
      "align_content": null,
      "align_items": null,
      "align_self": null,
      "border": null,
      "bottom": null,
      "display": null,
      "flex": null,
      "flex_flow": null,
      "grid_area": null,
      "grid_auto_columns": null,
      "grid_auto_flow": null,
      "grid_auto_rows": null,
      "grid_column": null,
      "grid_gap": null,
      "grid_row": null,
      "grid_template_areas": null,
      "grid_template_columns": null,
      "grid_template_rows": null,
      "height": null,
      "justify_content": null,
      "justify_items": null,
      "left": null,
      "margin": null,
      "max_height": null,
      "max_width": null,
      "min_height": null,
      "min_width": null,
      "object_fit": null,
      "object_position": null,
      "order": null,
      "overflow": null,
      "overflow_x": null,
      "overflow_y": null,
      "padding": null,
      "right": null,
      "top": null,
      "visibility": null,
      "width": null
     }
    },
    "38e6c026e1be49f4a1153cc1ce8d5666": {
     "model_module": "@jupyter-widgets/base",
     "model_module_version": "1.2.0",
     "model_name": "LayoutModel",
     "state": {
      "_model_module": "@jupyter-widgets/base",
      "_model_module_version": "1.2.0",
      "_model_name": "LayoutModel",
      "_view_count": null,
      "_view_module": "@jupyter-widgets/base",
      "_view_module_version": "1.2.0",
      "_view_name": "LayoutView",
      "align_content": null,
      "align_items": null,
      "align_self": null,
      "border": null,
      "bottom": null,
      "display": null,
      "flex": null,
      "flex_flow": null,
      "grid_area": null,
      "grid_auto_columns": null,
      "grid_auto_flow": null,
      "grid_auto_rows": null,
      "grid_column": null,
      "grid_gap": null,
      "grid_row": null,
      "grid_template_areas": null,
      "grid_template_columns": null,
      "grid_template_rows": null,
      "height": null,
      "justify_content": null,
      "justify_items": null,
      "left": null,
      "margin": null,
      "max_height": null,
      "max_width": null,
      "min_height": null,
      "min_width": null,
      "object_fit": null,
      "object_position": null,
      "order": null,
      "overflow": null,
      "overflow_x": null,
      "overflow_y": null,
      "padding": null,
      "right": null,
      "top": null,
      "visibility": null,
      "width": null
     }
    },
    "38fdf630992c451fbcd48c4e1a705f6e": {
     "model_module": "@jupyter-widgets/controls",
     "model_module_version": "1.5.0",
     "model_name": "HBoxModel",
     "state": {
      "_dom_classes": [],
      "_model_module": "@jupyter-widgets/controls",
      "_model_module_version": "1.5.0",
      "_model_name": "HBoxModel",
      "_view_count": null,
      "_view_module": "@jupyter-widgets/controls",
      "_view_module_version": "1.5.0",
      "_view_name": "HBoxView",
      "box_style": "",
      "children": [
       "IPY_MODEL_dbef623927d443e888a65797282ee8ef",
       "IPY_MODEL_9e9c72c505a449d293a8c29592d716ef",
       "IPY_MODEL_33904f6fbd6f43eb8bc254961a6ea039"
      ],
      "layout": "IPY_MODEL_45c907dd3ae841cebfaf5ab50478769e"
     }
    },
    "4080bbf35f964f42b1ac880629332600": {
     "model_module": "@jupyter-widgets/controls",
     "model_module_version": "1.5.0",
     "model_name": "HTMLModel",
     "state": {
      "_dom_classes": [],
      "_model_module": "@jupyter-widgets/controls",
      "_model_module_version": "1.5.0",
      "_model_name": "HTMLModel",
      "_view_count": null,
      "_view_module": "@jupyter-widgets/controls",
      "_view_module_version": "1.5.0",
      "_view_name": "HTMLView",
      "description": "",
      "description_tooltip": null,
      "layout": "IPY_MODEL_df5f0e0c0bb4458f8f5522f55c138c92",
      "placeholder": "​",
      "style": "IPY_MODEL_a29c553127e04d55b2b1476048128915",
      "value": "Downloading (…)okenizer_config.json: 100%"
     }
    },
    "45c907dd3ae841cebfaf5ab50478769e": {
     "model_module": "@jupyter-widgets/base",
     "model_module_version": "1.2.0",
     "model_name": "LayoutModel",
     "state": {
      "_model_module": "@jupyter-widgets/base",
      "_model_module_version": "1.2.0",
      "_model_name": "LayoutModel",
      "_view_count": null,
      "_view_module": "@jupyter-widgets/base",
      "_view_module_version": "1.2.0",
      "_view_name": "LayoutView",
      "align_content": null,
      "align_items": null,
      "align_self": null,
      "border": null,
      "bottom": null,
      "display": null,
      "flex": null,
      "flex_flow": null,
      "grid_area": null,
      "grid_auto_columns": null,
      "grid_auto_flow": null,
      "grid_auto_rows": null,
      "grid_column": null,
      "grid_gap": null,
      "grid_row": null,
      "grid_template_areas": null,
      "grid_template_columns": null,
      "grid_template_rows": null,
      "height": null,
      "justify_content": null,
      "justify_items": null,
      "left": null,
      "margin": null,
      "max_height": null,
      "max_width": null,
      "min_height": null,
      "min_width": null,
      "object_fit": null,
      "object_position": null,
      "order": null,
      "overflow": null,
      "overflow_x": null,
      "overflow_y": null,
      "padding": null,
      "right": null,
      "top": null,
      "visibility": null,
      "width": null
     }
    },
    "4628970a10654698a2ab43674c87cc0a": {
     "model_module": "@jupyter-widgets/base",
     "model_module_version": "1.2.0",
     "model_name": "LayoutModel",
     "state": {
      "_model_module": "@jupyter-widgets/base",
      "_model_module_version": "1.2.0",
      "_model_name": "LayoutModel",
      "_view_count": null,
      "_view_module": "@jupyter-widgets/base",
      "_view_module_version": "1.2.0",
      "_view_name": "LayoutView",
      "align_content": null,
      "align_items": null,
      "align_self": null,
      "border": null,
      "bottom": null,
      "display": null,
      "flex": null,
      "flex_flow": null,
      "grid_area": null,
      "grid_auto_columns": null,
      "grid_auto_flow": null,
      "grid_auto_rows": null,
      "grid_column": null,
      "grid_gap": null,
      "grid_row": null,
      "grid_template_areas": null,
      "grid_template_columns": null,
      "grid_template_rows": null,
      "height": null,
      "justify_content": null,
      "justify_items": null,
      "left": null,
      "margin": null,
      "max_height": null,
      "max_width": null,
      "min_height": null,
      "min_width": null,
      "object_fit": null,
      "object_position": null,
      "order": null,
      "overflow": null,
      "overflow_x": null,
      "overflow_y": null,
      "padding": null,
      "right": null,
      "top": null,
      "visibility": null,
      "width": null
     }
    },
    "4722c0ef21f5482fb48090caa58f60e5": {
     "model_module": "@jupyter-widgets/controls",
     "model_module_version": "1.5.0",
     "model_name": "DescriptionStyleModel",
     "state": {
      "_model_module": "@jupyter-widgets/controls",
      "_model_module_version": "1.5.0",
      "_model_name": "DescriptionStyleModel",
      "_view_count": null,
      "_view_module": "@jupyter-widgets/base",
      "_view_module_version": "1.2.0",
      "_view_name": "StyleView",
      "description_width": ""
     }
    },
    "4e6b830908fc4814982227ea828f46f4": {
     "model_module": "@jupyter-widgets/controls",
     "model_module_version": "1.5.0",
     "model_name": "DescriptionStyleModel",
     "state": {
      "_model_module": "@jupyter-widgets/controls",
      "_model_module_version": "1.5.0",
      "_model_name": "DescriptionStyleModel",
      "_view_count": null,
      "_view_module": "@jupyter-widgets/base",
      "_view_module_version": "1.2.0",
      "_view_name": "StyleView",
      "description_width": ""
     }
    },
    "5033183e1c0242b2a70465691129c1b8": {
     "model_module": "@jupyter-widgets/base",
     "model_module_version": "1.2.0",
     "model_name": "LayoutModel",
     "state": {
      "_model_module": "@jupyter-widgets/base",
      "_model_module_version": "1.2.0",
      "_model_name": "LayoutModel",
      "_view_count": null,
      "_view_module": "@jupyter-widgets/base",
      "_view_module_version": "1.2.0",
      "_view_name": "LayoutView",
      "align_content": null,
      "align_items": null,
      "align_self": null,
      "border": null,
      "bottom": null,
      "display": null,
      "flex": null,
      "flex_flow": null,
      "grid_area": null,
      "grid_auto_columns": null,
      "grid_auto_flow": null,
      "grid_auto_rows": null,
      "grid_column": null,
      "grid_gap": null,
      "grid_row": null,
      "grid_template_areas": null,
      "grid_template_columns": null,
      "grid_template_rows": null,
      "height": null,
      "justify_content": null,
      "justify_items": null,
      "left": null,
      "margin": null,
      "max_height": null,
      "max_width": null,
      "min_height": null,
      "min_width": null,
      "object_fit": null,
      "object_position": null,
      "order": null,
      "overflow": null,
      "overflow_x": null,
      "overflow_y": null,
      "padding": null,
      "right": null,
      "top": null,
      "visibility": null,
      "width": null
     }
    },
    "5873a5f60e8d48e6aa4cde8cd35bb0ae": {
     "model_module": "@jupyter-widgets/controls",
     "model_module_version": "1.5.0",
     "model_name": "DescriptionStyleModel",
     "state": {
      "_model_module": "@jupyter-widgets/controls",
      "_model_module_version": "1.5.0",
      "_model_name": "DescriptionStyleModel",
      "_view_count": null,
      "_view_module": "@jupyter-widgets/base",
      "_view_module_version": "1.2.0",
      "_view_name": "StyleView",
      "description_width": ""
     }
    },
    "671a7dfce5564c47bca1da96afd425f8": {
     "model_module": "@jupyter-widgets/controls",
     "model_module_version": "1.5.0",
     "model_name": "ProgressStyleModel",
     "state": {
      "_model_module": "@jupyter-widgets/controls",
      "_model_module_version": "1.5.0",
      "_model_name": "ProgressStyleModel",
      "_view_count": null,
      "_view_module": "@jupyter-widgets/base",
      "_view_module_version": "1.2.0",
      "_view_name": "StyleView",
      "bar_color": null,
      "description_width": ""
     }
    },
    "6a72cc17e58b4a43a56434c04338345c": {
     "model_module": "@jupyter-widgets/controls",
     "model_module_version": "1.5.0",
     "model_name": "FloatProgressModel",
     "state": {
      "_dom_classes": [],
      "_model_module": "@jupyter-widgets/controls",
      "_model_module_version": "1.5.0",
      "_model_name": "FloatProgressModel",
      "_view_count": null,
      "_view_module": "@jupyter-widgets/controls",
      "_view_module_version": "1.5.0",
      "_view_name": "ProgressView",
      "bar_style": "success",
      "description": "",
      "description_tooltip": null,
      "layout": "IPY_MODEL_4628970a10654698a2ab43674c87cc0a",
      "max": 625,
      "min": 0,
      "orientation": "horizontal",
      "style": "IPY_MODEL_ab4b13c7440744d88812673cc9742043",
      "value": 625
     }
    },
    "6c076e2d518742109d880ae120468a27": {
     "model_module": "@jupyter-widgets/base",
     "model_module_version": "1.2.0",
     "model_name": "LayoutModel",
     "state": {
      "_model_module": "@jupyter-widgets/base",
      "_model_module_version": "1.2.0",
      "_model_name": "LayoutModel",
      "_view_count": null,
      "_view_module": "@jupyter-widgets/base",
      "_view_module_version": "1.2.0",
      "_view_name": "LayoutView",
      "align_content": null,
      "align_items": null,
      "align_self": null,
      "border": null,
      "bottom": null,
      "display": null,
      "flex": null,
      "flex_flow": null,
      "grid_area": null,
      "grid_auto_columns": null,
      "grid_auto_flow": null,
      "grid_auto_rows": null,
      "grid_column": null,
      "grid_gap": null,
      "grid_row": null,
      "grid_template_areas": null,
      "grid_template_columns": null,
      "grid_template_rows": null,
      "height": null,
      "justify_content": null,
      "justify_items": null,
      "left": null,
      "margin": null,
      "max_height": null,
      "max_width": null,
      "min_height": null,
      "min_width": null,
      "object_fit": null,
      "object_position": null,
      "order": null,
      "overflow": null,
      "overflow_x": null,
      "overflow_y": null,
      "padding": null,
      "right": null,
      "top": null,
      "visibility": null,
      "width": null
     }
    },
    "730ffb2f9b35486ba561f44616cd9f7f": {
     "model_module": "@jupyter-widgets/base",
     "model_module_version": "1.2.0",
     "model_name": "LayoutModel",
     "state": {
      "_model_module": "@jupyter-widgets/base",
      "_model_module_version": "1.2.0",
      "_model_name": "LayoutModel",
      "_view_count": null,
      "_view_module": "@jupyter-widgets/base",
      "_view_module_version": "1.2.0",
      "_view_name": "LayoutView",
      "align_content": null,
      "align_items": null,
      "align_self": null,
      "border": null,
      "bottom": null,
      "display": null,
      "flex": null,
      "flex_flow": null,
      "grid_area": null,
      "grid_auto_columns": null,
      "grid_auto_flow": null,
      "grid_auto_rows": null,
      "grid_column": null,
      "grid_gap": null,
      "grid_row": null,
      "grid_template_areas": null,
      "grid_template_columns": null,
      "grid_template_rows": null,
      "height": null,
      "justify_content": null,
      "justify_items": null,
      "left": null,
      "margin": null,
      "max_height": null,
      "max_width": null,
      "min_height": null,
      "min_width": null,
      "object_fit": null,
      "object_position": null,
      "order": null,
      "overflow": null,
      "overflow_x": null,
      "overflow_y": null,
      "padding": null,
      "right": null,
      "top": null,
      "visibility": null,
      "width": null
     }
    },
    "76247df45de04ec5b7d5dc75041cbe03": {
     "model_module": "@jupyter-widgets/base",
     "model_module_version": "1.2.0",
     "model_name": "LayoutModel",
     "state": {
      "_model_module": "@jupyter-widgets/base",
      "_model_module_version": "1.2.0",
      "_model_name": "LayoutModel",
      "_view_count": null,
      "_view_module": "@jupyter-widgets/base",
      "_view_module_version": "1.2.0",
      "_view_name": "LayoutView",
      "align_content": null,
      "align_items": null,
      "align_self": null,
      "border": null,
      "bottom": null,
      "display": null,
      "flex": null,
      "flex_flow": null,
      "grid_area": null,
      "grid_auto_columns": null,
      "grid_auto_flow": null,
      "grid_auto_rows": null,
      "grid_column": null,
      "grid_gap": null,
      "grid_row": null,
      "grid_template_areas": null,
      "grid_template_columns": null,
      "grid_template_rows": null,
      "height": null,
      "justify_content": null,
      "justify_items": null,
      "left": null,
      "margin": null,
      "max_height": null,
      "max_width": null,
      "min_height": null,
      "min_width": null,
      "object_fit": null,
      "object_position": null,
      "order": null,
      "overflow": null,
      "overflow_x": null,
      "overflow_y": null,
      "padding": null,
      "right": null,
      "top": null,
      "visibility": null,
      "width": null
     }
    },
    "76d2ae0804d44c7f8f7b5571c6c57752": {
     "model_module": "@jupyter-widgets/base",
     "model_module_version": "1.2.0",
     "model_name": "LayoutModel",
     "state": {
      "_model_module": "@jupyter-widgets/base",
      "_model_module_version": "1.2.0",
      "_model_name": "LayoutModel",
      "_view_count": null,
      "_view_module": "@jupyter-widgets/base",
      "_view_module_version": "1.2.0",
      "_view_name": "LayoutView",
      "align_content": null,
      "align_items": null,
      "align_self": null,
      "border": null,
      "bottom": null,
      "display": null,
      "flex": null,
      "flex_flow": null,
      "grid_area": null,
      "grid_auto_columns": null,
      "grid_auto_flow": null,
      "grid_auto_rows": null,
      "grid_column": null,
      "grid_gap": null,
      "grid_row": null,
      "grid_template_areas": null,
      "grid_template_columns": null,
      "grid_template_rows": null,
      "height": null,
      "justify_content": null,
      "justify_items": null,
      "left": null,
      "margin": null,
      "max_height": null,
      "max_width": null,
      "min_height": null,
      "min_width": null,
      "object_fit": null,
      "object_position": null,
      "order": null,
      "overflow": null,
      "overflow_x": null,
      "overflow_y": null,
      "padding": null,
      "right": null,
      "top": null,
      "visibility": null,
      "width": null
     }
    },
    "7f152504587d4d13b03f9643519508b1": {
     "model_module": "@jupyter-widgets/base",
     "model_module_version": "1.2.0",
     "model_name": "LayoutModel",
     "state": {
      "_model_module": "@jupyter-widgets/base",
      "_model_module_version": "1.2.0",
      "_model_name": "LayoutModel",
      "_view_count": null,
      "_view_module": "@jupyter-widgets/base",
      "_view_module_version": "1.2.0",
      "_view_name": "LayoutView",
      "align_content": null,
      "align_items": null,
      "align_self": null,
      "border": null,
      "bottom": null,
      "display": null,
      "flex": null,
      "flex_flow": null,
      "grid_area": null,
      "grid_auto_columns": null,
      "grid_auto_flow": null,
      "grid_auto_rows": null,
      "grid_column": null,
      "grid_gap": null,
      "grid_row": null,
      "grid_template_areas": null,
      "grid_template_columns": null,
      "grid_template_rows": null,
      "height": null,
      "justify_content": null,
      "justify_items": null,
      "left": null,
      "margin": null,
      "max_height": null,
      "max_width": null,
      "min_height": null,
      "min_width": null,
      "object_fit": null,
      "object_position": null,
      "order": null,
      "overflow": null,
      "overflow_x": null,
      "overflow_y": null,
      "padding": null,
      "right": null,
      "top": null,
      "visibility": null,
      "width": null
     }
    },
    "8ec074f5e9074158b7574d0637a042a1": {
     "model_module": "@jupyter-widgets/controls",
     "model_module_version": "1.5.0",
     "model_name": "HBoxModel",
     "state": {
      "_dom_classes": [],
      "_model_module": "@jupyter-widgets/controls",
      "_model_module_version": "1.5.0",
      "_model_name": "HBoxModel",
      "_view_count": null,
      "_view_module": "@jupyter-widgets/controls",
      "_view_module_version": "1.5.0",
      "_view_name": "HBoxView",
      "box_style": "",
      "children": [
       "IPY_MODEL_a5397435e19c442da27d6ce7715e20ba",
       "IPY_MODEL_b180e6226f5e4b9a99e0367f0902616f",
       "IPY_MODEL_c1a8edc159884e50967c00168c12f896"
      ],
      "layout": "IPY_MODEL_37e877de280c4e13b92570f6ce6178aa"
     }
    },
    "95e65eab147443058126ad5f327c6af1": {
     "model_module": "@jupyter-widgets/base",
     "model_module_version": "1.2.0",
     "model_name": "LayoutModel",
     "state": {
      "_model_module": "@jupyter-widgets/base",
      "_model_module_version": "1.2.0",
      "_model_name": "LayoutModel",
      "_view_count": null,
      "_view_module": "@jupyter-widgets/base",
      "_view_module_version": "1.2.0",
      "_view_name": "LayoutView",
      "align_content": null,
      "align_items": null,
      "align_self": null,
      "border": null,
      "bottom": null,
      "display": null,
      "flex": null,
      "flex_flow": null,
      "grid_area": null,
      "grid_auto_columns": null,
      "grid_auto_flow": null,
      "grid_auto_rows": null,
      "grid_column": null,
      "grid_gap": null,
      "grid_row": null,
      "grid_template_areas": null,
      "grid_template_columns": null,
      "grid_template_rows": null,
      "height": null,
      "justify_content": null,
      "justify_items": null,
      "left": null,
      "margin": null,
      "max_height": null,
      "max_width": null,
      "min_height": null,
      "min_width": null,
      "object_fit": null,
      "object_position": null,
      "order": null,
      "overflow": null,
      "overflow_x": null,
      "overflow_y": null,
      "padding": null,
      "right": null,
      "top": null,
      "visibility": null,
      "width": null
     }
    },
    "99d2b397014e40399add9f6a1b337c99": {
     "model_module": "@jupyter-widgets/base",
     "model_module_version": "1.2.0",
     "model_name": "LayoutModel",
     "state": {
      "_model_module": "@jupyter-widgets/base",
      "_model_module_version": "1.2.0",
      "_model_name": "LayoutModel",
      "_view_count": null,
      "_view_module": "@jupyter-widgets/base",
      "_view_module_version": "1.2.0",
      "_view_name": "LayoutView",
      "align_content": null,
      "align_items": null,
      "align_self": null,
      "border": null,
      "bottom": null,
      "display": null,
      "flex": null,
      "flex_flow": null,
      "grid_area": null,
      "grid_auto_columns": null,
      "grid_auto_flow": null,
      "grid_auto_rows": null,
      "grid_column": null,
      "grid_gap": null,
      "grid_row": null,
      "grid_template_areas": null,
      "grid_template_columns": null,
      "grid_template_rows": null,
      "height": null,
      "justify_content": null,
      "justify_items": null,
      "left": null,
      "margin": null,
      "max_height": null,
      "max_width": null,
      "min_height": null,
      "min_width": null,
      "object_fit": null,
      "object_position": null,
      "order": null,
      "overflow": null,
      "overflow_x": null,
      "overflow_y": null,
      "padding": null,
      "right": null,
      "top": null,
      "visibility": null,
      "width": null
     }
    },
    "9aad643f60ae4a89a2839c8cfe78d2f3": {
     "model_module": "@jupyter-widgets/base",
     "model_module_version": "1.2.0",
     "model_name": "LayoutModel",
     "state": {
      "_model_module": "@jupyter-widgets/base",
      "_model_module_version": "1.2.0",
      "_model_name": "LayoutModel",
      "_view_count": null,
      "_view_module": "@jupyter-widgets/base",
      "_view_module_version": "1.2.0",
      "_view_name": "LayoutView",
      "align_content": null,
      "align_items": null,
      "align_self": null,
      "border": null,
      "bottom": null,
      "display": null,
      "flex": null,
      "flex_flow": null,
      "grid_area": null,
      "grid_auto_columns": null,
      "grid_auto_flow": null,
      "grid_auto_rows": null,
      "grid_column": null,
      "grid_gap": null,
      "grid_row": null,
      "grid_template_areas": null,
      "grid_template_columns": null,
      "grid_template_rows": null,
      "height": null,
      "justify_content": null,
      "justify_items": null,
      "left": null,
      "margin": null,
      "max_height": null,
      "max_width": null,
      "min_height": null,
      "min_width": null,
      "object_fit": null,
      "object_position": null,
      "order": null,
      "overflow": null,
      "overflow_x": null,
      "overflow_y": null,
      "padding": null,
      "right": null,
      "top": null,
      "visibility": null,
      "width": null
     }
    },
    "9b1c75d926dc4479bce737d04db36866": {
     "model_module": "@jupyter-widgets/controls",
     "model_module_version": "1.5.0",
     "model_name": "ProgressStyleModel",
     "state": {
      "_model_module": "@jupyter-widgets/controls",
      "_model_module_version": "1.5.0",
      "_model_name": "ProgressStyleModel",
      "_view_count": null,
      "_view_module": "@jupyter-widgets/base",
      "_view_module_version": "1.2.0",
      "_view_name": "StyleView",
      "bar_color": null,
      "description_width": ""
     }
    },
    "9d431c91f4684e7f9a549b56a2b509f5": {
     "model_module": "@jupyter-widgets/base",
     "model_module_version": "1.2.0",
     "model_name": "LayoutModel",
     "state": {
      "_model_module": "@jupyter-widgets/base",
      "_model_module_version": "1.2.0",
      "_model_name": "LayoutModel",
      "_view_count": null,
      "_view_module": "@jupyter-widgets/base",
      "_view_module_version": "1.2.0",
      "_view_name": "LayoutView",
      "align_content": null,
      "align_items": null,
      "align_self": null,
      "border": null,
      "bottom": null,
      "display": null,
      "flex": null,
      "flex_flow": null,
      "grid_area": null,
      "grid_auto_columns": null,
      "grid_auto_flow": null,
      "grid_auto_rows": null,
      "grid_column": null,
      "grid_gap": null,
      "grid_row": null,
      "grid_template_areas": null,
      "grid_template_columns": null,
      "grid_template_rows": null,
      "height": null,
      "justify_content": null,
      "justify_items": null,
      "left": null,
      "margin": null,
      "max_height": null,
      "max_width": null,
      "min_height": null,
      "min_width": null,
      "object_fit": null,
      "object_position": null,
      "order": null,
      "overflow": null,
      "overflow_x": null,
      "overflow_y": null,
      "padding": null,
      "right": null,
      "top": null,
      "visibility": null,
      "width": null
     }
    },
    "9e9c72c505a449d293a8c29592d716ef": {
     "model_module": "@jupyter-widgets/controls",
     "model_module_version": "1.5.0",
     "model_name": "FloatProgressModel",
     "state": {
      "_dom_classes": [],
      "_model_module": "@jupyter-widgets/controls",
      "_model_module_version": "1.5.0",
      "_model_name": "FloatProgressModel",
      "_view_count": null,
      "_view_module": "@jupyter-widgets/controls",
      "_view_module_version": "1.5.0",
      "_view_name": "ProgressView",
      "bar_style": "success",
      "description": "",
      "description_tooltip": null,
      "layout": "IPY_MODEL_b12d2dab84b74e38b2f0aca1be9a8ac6",
      "max": 672271273,
      "min": 0,
      "orientation": "horizontal",
      "style": "IPY_MODEL_e50cf448d94943af9fa2a89b1e5815cd",
      "value": 672271273
     }
    },
    "a169c9769e8044e9a73a8599ed14d754": {
     "model_module": "@jupyter-widgets/controls",
     "model_module_version": "1.5.0",
     "model_name": "FloatProgressModel",
     "state": {
      "_dom_classes": [],
      "_model_module": "@jupyter-widgets/controls",
      "_model_module_version": "1.5.0",
      "_model_name": "FloatProgressModel",
      "_view_count": null,
      "_view_module": "@jupyter-widgets/controls",
      "_view_module_version": "1.5.0",
      "_view_name": "ProgressView",
      "bar_style": "success",
      "description": "",
      "description_tooltip": null,
      "layout": "IPY_MODEL_95e65eab147443058126ad5f327c6af1",
      "max": 871891,
      "min": 0,
      "orientation": "horizontal",
      "style": "IPY_MODEL_0f401436ca864c3b93e0a939a5be4144",
      "value": 871891
     }
    },
    "a29c553127e04d55b2b1476048128915": {
     "model_module": "@jupyter-widgets/controls",
     "model_module_version": "1.5.0",
     "model_name": "DescriptionStyleModel",
     "state": {
      "_model_module": "@jupyter-widgets/controls",
      "_model_module_version": "1.5.0",
      "_model_name": "DescriptionStyleModel",
      "_view_count": null,
      "_view_module": "@jupyter-widgets/base",
      "_view_module_version": "1.2.0",
      "_view_name": "StyleView",
      "description_width": ""
     }
    },
    "a5397435e19c442da27d6ce7715e20ba": {
     "model_module": "@jupyter-widgets/controls",
     "model_module_version": "1.5.0",
     "model_name": "HTMLModel",
     "state": {
      "_dom_classes": [],
      "_model_module": "@jupyter-widgets/controls",
      "_model_module_version": "1.5.0",
      "_model_name": "HTMLModel",
      "_view_count": null,
      "_view_module": "@jupyter-widgets/controls",
      "_view_module_version": "1.5.0",
      "_view_name": "HTMLView",
      "description": "",
      "description_tooltip": null,
      "layout": "IPY_MODEL_6c076e2d518742109d880ae120468a27",
      "placeholder": "​",
      "style": "IPY_MODEL_1281d3f27a4e4523bf11a674902c1a73",
      "value": "Downloading (…)/main/tokenizer.json: 100%"
     }
    },
    "ab4b13c7440744d88812673cc9742043": {
     "model_module": "@jupyter-widgets/controls",
     "model_module_version": "1.5.0",
     "model_name": "ProgressStyleModel",
     "state": {
      "_model_module": "@jupyter-widgets/controls",
      "_model_module_version": "1.5.0",
      "_model_name": "ProgressStyleModel",
      "_view_count": null,
      "_view_module": "@jupyter-widgets/base",
      "_view_module_version": "1.2.0",
      "_view_name": "StyleView",
      "bar_color": null,
      "description_width": ""
     }
    },
    "ae8f5e2d89e24cca8dbf894b5912375f": {
     "model_module": "@jupyter-widgets/controls",
     "model_module_version": "1.5.0",
     "model_name": "DescriptionStyleModel",
     "state": {
      "_model_module": "@jupyter-widgets/controls",
      "_model_module_version": "1.5.0",
      "_model_name": "DescriptionStyleModel",
      "_view_count": null,
      "_view_module": "@jupyter-widgets/base",
      "_view_module_version": "1.2.0",
      "_view_name": "StyleView",
      "description_width": ""
     }
    },
    "b12d2dab84b74e38b2f0aca1be9a8ac6": {
     "model_module": "@jupyter-widgets/base",
     "model_module_version": "1.2.0",
     "model_name": "LayoutModel",
     "state": {
      "_model_module": "@jupyter-widgets/base",
      "_model_module_version": "1.2.0",
      "_model_name": "LayoutModel",
      "_view_count": null,
      "_view_module": "@jupyter-widgets/base",
      "_view_module_version": "1.2.0",
      "_view_name": "LayoutView",
      "align_content": null,
      "align_items": null,
      "align_self": null,
      "border": null,
      "bottom": null,
      "display": null,
      "flex": null,
      "flex_flow": null,
      "grid_area": null,
      "grid_auto_columns": null,
      "grid_auto_flow": null,
      "grid_auto_rows": null,
      "grid_column": null,
      "grid_gap": null,
      "grid_row": null,
      "grid_template_areas": null,
      "grid_template_columns": null,
      "grid_template_rows": null,
      "height": null,
      "justify_content": null,
      "justify_items": null,
      "left": null,
      "margin": null,
      "max_height": null,
      "max_width": null,
      "min_height": null,
      "min_width": null,
      "object_fit": null,
      "object_position": null,
      "order": null,
      "overflow": null,
      "overflow_x": null,
      "overflow_y": null,
      "padding": null,
      "right": null,
      "top": null,
      "visibility": null,
      "width": null
     }
    },
    "b180e6226f5e4b9a99e0367f0902616f": {
     "model_module": "@jupyter-widgets/controls",
     "model_module_version": "1.5.0",
     "model_name": "FloatProgressModel",
     "state": {
      "_dom_classes": [],
      "_model_module": "@jupyter-widgets/controls",
      "_model_module_version": "1.5.0",
      "_model_name": "FloatProgressModel",
      "_view_count": null,
      "_view_module": "@jupyter-widgets/controls",
      "_view_module_version": "1.5.0",
      "_view_name": "ProgressView",
      "bar_style": "success",
      "description": "",
      "description_tooltip": null,
      "layout": "IPY_MODEL_730ffb2f9b35486ba561f44616cd9f7f",
      "max": 1715180,
      "min": 0,
      "orientation": "horizontal",
      "style": "IPY_MODEL_671a7dfce5564c47bca1da96afd425f8",
      "value": 1715180
     }
    },
    "b65c195c504e45939a244ed327f822f6": {
     "model_module": "@jupyter-widgets/controls",
     "model_module_version": "1.5.0",
     "model_name": "HTMLModel",
     "state": {
      "_dom_classes": [],
      "_model_module": "@jupyter-widgets/controls",
      "_model_module_version": "1.5.0",
      "_model_name": "HTMLModel",
      "_view_count": null,
      "_view_module": "@jupyter-widgets/controls",
      "_view_module_version": "1.5.0",
      "_view_name": "HTMLView",
      "description": "",
      "description_tooltip": null,
      "layout": "IPY_MODEL_f63080422b704a45853f6d48a446eaf7",
      "placeholder": "​",
      "style": "IPY_MODEL_c410b0dd51de4c09916eff3995c44f49",
      "value": "Downloading (…)solve/main/vocab.txt: 100%"
     }
    },
    "ba77d25803264b3cbb798cd21cd76795": {
     "model_module": "@jupyter-widgets/base",
     "model_module_version": "1.2.0",
     "model_name": "LayoutModel",
     "state": {
      "_model_module": "@jupyter-widgets/base",
      "_model_module_version": "1.2.0",
      "_model_name": "LayoutModel",
      "_view_count": null,
      "_view_module": "@jupyter-widgets/base",
      "_view_module_version": "1.2.0",
      "_view_name": "LayoutView",
      "align_content": null,
      "align_items": null,
      "align_self": null,
      "border": null,
      "bottom": null,
      "display": null,
      "flex": null,
      "flex_flow": null,
      "grid_area": null,
      "grid_auto_columns": null,
      "grid_auto_flow": null,
      "grid_auto_rows": null,
      "grid_column": null,
      "grid_gap": null,
      "grid_row": null,
      "grid_template_areas": null,
      "grid_template_columns": null,
      "grid_template_rows": null,
      "height": null,
      "justify_content": null,
      "justify_items": null,
      "left": null,
      "margin": null,
      "max_height": null,
      "max_width": null,
      "min_height": null,
      "min_width": null,
      "object_fit": null,
      "object_position": null,
      "order": null,
      "overflow": null,
      "overflow_x": null,
      "overflow_y": null,
      "padding": null,
      "right": null,
      "top": null,
      "visibility": null,
      "width": null
     }
    },
    "c1a8edc159884e50967c00168c12f896": {
     "model_module": "@jupyter-widgets/controls",
     "model_module_version": "1.5.0",
     "model_name": "HTMLModel",
     "state": {
      "_dom_classes": [],
      "_model_module": "@jupyter-widgets/controls",
      "_model_module_version": "1.5.0",
      "_model_name": "HTMLModel",
      "_view_count": null,
      "_view_module": "@jupyter-widgets/controls",
      "_view_module_version": "1.5.0",
      "_view_name": "HTMLView",
      "description": "",
      "description_tooltip": null,
      "layout": "IPY_MODEL_7f152504587d4d13b03f9643519508b1",
      "placeholder": "​",
      "style": "IPY_MODEL_ae8f5e2d89e24cca8dbf894b5912375f",
      "value": " 1.72M/1.72M [00:00&lt;00:00, 3.88MB/s]"
     }
    },
    "c410b0dd51de4c09916eff3995c44f49": {
     "model_module": "@jupyter-widgets/controls",
     "model_module_version": "1.5.0",
     "model_name": "DescriptionStyleModel",
     "state": {
      "_model_module": "@jupyter-widgets/controls",
      "_model_module_version": "1.5.0",
      "_model_name": "DescriptionStyleModel",
      "_view_count": null,
      "_view_module": "@jupyter-widgets/base",
      "_view_module_version": "1.2.0",
      "_view_name": "StyleView",
      "description_width": ""
     }
    },
    "cc2de4c188f641b7ac8ce88d9083807d": {
     "model_module": "@jupyter-widgets/controls",
     "model_module_version": "1.5.0",
     "model_name": "DescriptionStyleModel",
     "state": {
      "_model_module": "@jupyter-widgets/controls",
      "_model_module_version": "1.5.0",
      "_model_name": "DescriptionStyleModel",
      "_view_count": null,
      "_view_module": "@jupyter-widgets/base",
      "_view_module_version": "1.2.0",
      "_view_name": "StyleView",
      "description_width": ""
     }
    },
    "d889af8875d042d0a292d5e701569851": {
     "model_module": "@jupyter-widgets/controls",
     "model_module_version": "1.5.0",
     "model_name": "HBoxModel",
     "state": {
      "_dom_classes": [],
      "_model_module": "@jupyter-widgets/controls",
      "_model_module_version": "1.5.0",
      "_model_name": "HBoxModel",
      "_view_count": null,
      "_view_module": "@jupyter-widgets/controls",
      "_view_module_version": "1.5.0",
      "_view_name": "HBoxView",
      "box_style": "",
      "children": [
       "IPY_MODEL_4080bbf35f964f42b1ac880629332600",
       "IPY_MODEL_f2003215c170449bb3c3e9ee950ee900",
       "IPY_MODEL_15ae701589c5493abb3108d6d85f1c33"
      ],
      "layout": "IPY_MODEL_76d2ae0804d44c7f8f7b5571c6c57752"
     }
    },
    "da5aa1f7ff0d41b2924e56a6b9719dce": {
     "model_module": "@jupyter-widgets/controls",
     "model_module_version": "1.5.0",
     "model_name": "HTMLModel",
     "state": {
      "_dom_classes": [],
      "_model_module": "@jupyter-widgets/controls",
      "_model_module_version": "1.5.0",
      "_model_name": "HTMLModel",
      "_view_count": null,
      "_view_module": "@jupyter-widgets/controls",
      "_view_module_version": "1.5.0",
      "_view_name": "HTMLView",
      "description": "",
      "description_tooltip": null,
      "layout": "IPY_MODEL_fe54728612e34ec5a4a618a0c9c1adb4",
      "placeholder": "​",
      "style": "IPY_MODEL_cc2de4c188f641b7ac8ce88d9083807d",
      "value": "Downloading (…)lve/main/config.json: 100%"
     }
    },
    "dbef623927d443e888a65797282ee8ef": {
     "model_module": "@jupyter-widgets/controls",
     "model_module_version": "1.5.0",
     "model_name": "HTMLModel",
     "state": {
      "_dom_classes": [],
      "_model_module": "@jupyter-widgets/controls",
      "_model_module_version": "1.5.0",
      "_model_name": "HTMLModel",
      "_view_count": null,
      "_view_module": "@jupyter-widgets/controls",
      "_view_module_version": "1.5.0",
      "_view_name": "HTMLView",
      "description": "",
      "description_tooltip": null,
      "layout": "IPY_MODEL_76247df45de04ec5b7d5dc75041cbe03",
      "placeholder": "​",
      "style": "IPY_MODEL_f0c61fcf48444208a46c80e88df2827b",
      "value": "Downloading pytorch_model.bin: 100%"
     }
    },
    "df5f0e0c0bb4458f8f5522f55c138c92": {
     "model_module": "@jupyter-widgets/base",
     "model_module_version": "1.2.0",
     "model_name": "LayoutModel",
     "state": {
      "_model_module": "@jupyter-widgets/base",
      "_model_module_version": "1.2.0",
      "_model_name": "LayoutModel",
      "_view_count": null,
      "_view_module": "@jupyter-widgets/base",
      "_view_module_version": "1.2.0",
      "_view_name": "LayoutView",
      "align_content": null,
      "align_items": null,
      "align_self": null,
      "border": null,
      "bottom": null,
      "display": null,
      "flex": null,
      "flex_flow": null,
      "grid_area": null,
      "grid_auto_columns": null,
      "grid_auto_flow": null,
      "grid_auto_rows": null,
      "grid_column": null,
      "grid_gap": null,
      "grid_row": null,
      "grid_template_areas": null,
      "grid_template_columns": null,
      "grid_template_rows": null,
      "height": null,
      "justify_content": null,
      "justify_items": null,
      "left": null,
      "margin": null,
      "max_height": null,
      "max_width": null,
      "min_height": null,
      "min_width": null,
      "object_fit": null,
      "object_position": null,
      "order": null,
      "overflow": null,
      "overflow_x": null,
      "overflow_y": null,
      "padding": null,
      "right": null,
      "top": null,
      "visibility": null,
      "width": null
     }
    },
    "e50cf448d94943af9fa2a89b1e5815cd": {
     "model_module": "@jupyter-widgets/controls",
     "model_module_version": "1.5.0",
     "model_name": "ProgressStyleModel",
     "state": {
      "_model_module": "@jupyter-widgets/controls",
      "_model_module_version": "1.5.0",
      "_model_name": "ProgressStyleModel",
      "_view_count": null,
      "_view_module": "@jupyter-widgets/base",
      "_view_module_version": "1.2.0",
      "_view_name": "StyleView",
      "bar_color": null,
      "description_width": ""
     }
    },
    "e8e80bfd25364fdbab19608ed18e5068": {
     "model_module": "@jupyter-widgets/controls",
     "model_module_version": "1.5.0",
     "model_name": "HTMLModel",
     "state": {
      "_dom_classes": [],
      "_model_module": "@jupyter-widgets/controls",
      "_model_module_version": "1.5.0",
      "_model_name": "HTMLModel",
      "_view_count": null,
      "_view_module": "@jupyter-widgets/controls",
      "_view_module_version": "1.5.0",
      "_view_name": "HTMLView",
      "description": "",
      "description_tooltip": null,
      "layout": "IPY_MODEL_38e6c026e1be49f4a1153cc1ce8d5666",
      "placeholder": "​",
      "style": "IPY_MODEL_4e6b830908fc4814982227ea828f46f4",
      "value": " 625/625 [00:00&lt;00:00, 13.7kB/s]"
     }
    },
    "f0c61fcf48444208a46c80e88df2827b": {
     "model_module": "@jupyter-widgets/controls",
     "model_module_version": "1.5.0",
     "model_name": "DescriptionStyleModel",
     "state": {
      "_model_module": "@jupyter-widgets/controls",
      "_model_module_version": "1.5.0",
      "_model_name": "DescriptionStyleModel",
      "_view_count": null,
      "_view_module": "@jupyter-widgets/base",
      "_view_module_version": "1.2.0",
      "_view_name": "StyleView",
      "description_width": ""
     }
    },
    "f2003215c170449bb3c3e9ee950ee900": {
     "model_module": "@jupyter-widgets/controls",
     "model_module_version": "1.5.0",
     "model_name": "FloatProgressModel",
     "state": {
      "_dom_classes": [],
      "_model_module": "@jupyter-widgets/controls",
      "_model_module_version": "1.5.0",
      "_model_name": "FloatProgressModel",
      "_view_count": null,
      "_view_module": "@jupyter-widgets/controls",
      "_view_module_version": "1.5.0",
      "_view_name": "ProgressView",
      "bar_style": "success",
      "description": "",
      "description_tooltip": null,
      "layout": "IPY_MODEL_9aad643f60ae4a89a2839c8cfe78d2f3",
      "max": 28,
      "min": 0,
      "orientation": "horizontal",
      "style": "IPY_MODEL_9b1c75d926dc4479bce737d04db36866",
      "value": 28
     }
    },
    "f493354ab33548268b4c3676edc67e51": {
     "model_module": "@jupyter-widgets/controls",
     "model_module_version": "1.5.0",
     "model_name": "HTMLModel",
     "state": {
      "_dom_classes": [],
      "_model_module": "@jupyter-widgets/controls",
      "_model_module_version": "1.5.0",
      "_model_name": "HTMLModel",
      "_view_count": null,
      "_view_module": "@jupyter-widgets/controls",
      "_view_module_version": "1.5.0",
      "_view_name": "HTMLView",
      "description": "",
      "description_tooltip": null,
      "layout": "IPY_MODEL_ba77d25803264b3cbb798cd21cd76795",
      "placeholder": "​",
      "style": "IPY_MODEL_4722c0ef21f5482fb48090caa58f60e5",
      "value": " 872k/872k [00:00&lt;00:00, 21.4MB/s]"
     }
    },
    "f63080422b704a45853f6d48a446eaf7": {
     "model_module": "@jupyter-widgets/base",
     "model_module_version": "1.2.0",
     "model_name": "LayoutModel",
     "state": {
      "_model_module": "@jupyter-widgets/base",
      "_model_module_version": "1.2.0",
      "_model_name": "LayoutModel",
      "_view_count": null,
      "_view_module": "@jupyter-widgets/base",
      "_view_module_version": "1.2.0",
      "_view_name": "LayoutView",
      "align_content": null,
      "align_items": null,
      "align_self": null,
      "border": null,
      "bottom": null,
      "display": null,
      "flex": null,
      "flex_flow": null,
      "grid_area": null,
      "grid_auto_columns": null,
      "grid_auto_flow": null,
      "grid_auto_rows": null,
      "grid_column": null,
      "grid_gap": null,
      "grid_row": null,
      "grid_template_areas": null,
      "grid_template_columns": null,
      "grid_template_rows": null,
      "height": null,
      "justify_content": null,
      "justify_items": null,
      "left": null,
      "margin": null,
      "max_height": null,
      "max_width": null,
      "min_height": null,
      "min_width": null,
      "object_fit": null,
      "object_position": null,
      "order": null,
      "overflow": null,
      "overflow_x": null,
      "overflow_y": null,
      "padding": null,
      "right": null,
      "top": null,
      "visibility": null,
      "width": null
     }
    },
    "fe54728612e34ec5a4a618a0c9c1adb4": {
     "model_module": "@jupyter-widgets/base",
     "model_module_version": "1.2.0",
     "model_name": "LayoutModel",
     "state": {
      "_model_module": "@jupyter-widgets/base",
      "_model_module_version": "1.2.0",
      "_model_name": "LayoutModel",
      "_view_count": null,
      "_view_module": "@jupyter-widgets/base",
      "_view_module_version": "1.2.0",
      "_view_name": "LayoutView",
      "align_content": null,
      "align_items": null,
      "align_self": null,
      "border": null,
      "bottom": null,
      "display": null,
      "flex": null,
      "flex_flow": null,
      "grid_area": null,
      "grid_auto_columns": null,
      "grid_auto_flow": null,
      "grid_auto_rows": null,
      "grid_column": null,
      "grid_gap": null,
      "grid_row": null,
      "grid_template_areas": null,
      "grid_template_columns": null,
      "grid_template_rows": null,
      "height": null,
      "justify_content": null,
      "justify_items": null,
      "left": null,
      "margin": null,
      "max_height": null,
      "max_width": null,
      "min_height": null,
      "min_width": null,
      "object_fit": null,
      "object_position": null,
      "order": null,
      "overflow": null,
      "overflow_x": null,
      "overflow_y": null,
      "padding": null,
      "right": null,
      "top": null,
      "visibility": null,
      "width": null
     }
    }
   }
  }
 },
 "nbformat": 4,
 "nbformat_minor": 5
}
