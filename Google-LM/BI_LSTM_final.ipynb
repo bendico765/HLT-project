{
 "cells": [
  {
   "cell_type": "code",
   "execution_count": 1,
   "id": "ISevNR3ePivs",
   "metadata": {
    "colab": {
     "base_uri": "https://localhost:8080/"
    },
    "id": "ISevNR3ePivs",
    "outputId": "04a6186d-d004-4609-b13e-07a1508d6712"
   },
   "outputs": [
    {
     "name": "stdout",
     "output_type": "stream",
     "text": [
      "Looking in indexes: https://pypi.org/simple, https://us-python.pkg.dev/colab-wheels/public/simple/\n",
      "Collecting transformers\n",
      "  Downloading transformers-4.30.2-py3-none-any.whl (7.2 MB)\n",
      "\u001b[2K     \u001b[90m━━━━━━━━━━━━━━━━━━━━━━━━━━━━━━━━━━━━━━━━\u001b[0m \u001b[32m7.2/7.2 MB\u001b[0m \u001b[31m21.1 MB/s\u001b[0m eta \u001b[36m0:00:00\u001b[0m\n",
      "\u001b[?25hRequirement already satisfied: filelock in /usr/local/lib/python3.10/dist-packages (from transformers) (3.12.2)\n",
      "Collecting huggingface-hub<1.0,>=0.14.1 (from transformers)\n",
      "  Downloading huggingface_hub-0.15.1-py3-none-any.whl (236 kB)\n",
      "\u001b[2K     \u001b[90m━━━━━━━━━━━━━━━━━━━━━━━━━━━━━━━━━━━━━━\u001b[0m \u001b[32m236.8/236.8 kB\u001b[0m \u001b[31m11.7 MB/s\u001b[0m eta \u001b[36m0:00:00\u001b[0m\n",
      "\u001b[?25hRequirement already satisfied: numpy>=1.17 in /usr/local/lib/python3.10/dist-packages (from transformers) (1.22.4)\n",
      "Requirement already satisfied: packaging>=20.0 in /usr/local/lib/python3.10/dist-packages (from transformers) (23.1)\n",
      "Requirement already satisfied: pyyaml>=5.1 in /usr/local/lib/python3.10/dist-packages (from transformers) (6.0)\n",
      "Requirement already satisfied: regex!=2019.12.17 in /usr/local/lib/python3.10/dist-packages (from transformers) (2022.10.31)\n",
      "Requirement already satisfied: requests in /usr/local/lib/python3.10/dist-packages (from transformers) (2.27.1)\n",
      "Collecting tokenizers!=0.11.3,<0.14,>=0.11.1 (from transformers)\n",
      "  Downloading tokenizers-0.13.3-cp310-cp310-manylinux_2_17_x86_64.manylinux2014_x86_64.whl (7.8 MB)\n",
      "\u001b[2K     \u001b[90m━━━━━━━━━━━━━━━━━━━━━━━━━━━━━━━━━━━━━━━━\u001b[0m \u001b[32m7.8/7.8 MB\u001b[0m \u001b[31m57.4 MB/s\u001b[0m eta \u001b[36m0:00:00\u001b[0m\n",
      "\u001b[?25hCollecting safetensors>=0.3.1 (from transformers)\n",
      "  Downloading safetensors-0.3.1-cp310-cp310-manylinux_2_17_x86_64.manylinux2014_x86_64.whl (1.3 MB)\n",
      "\u001b[2K     \u001b[90m━━━━━━━━━━━━━━━━━━━━━━━━━━━━━━━━━━━━━━━━\u001b[0m \u001b[32m1.3/1.3 MB\u001b[0m \u001b[31m75.2 MB/s\u001b[0m eta \u001b[36m0:00:00\u001b[0m\n",
      "\u001b[?25hRequirement already satisfied: tqdm>=4.27 in /usr/local/lib/python3.10/dist-packages (from transformers) (4.65.0)\n",
      "Requirement already satisfied: fsspec in /usr/local/lib/python3.10/dist-packages (from huggingface-hub<1.0,>=0.14.1->transformers) (2023.6.0)\n",
      "Requirement already satisfied: typing-extensions>=3.7.4.3 in /usr/local/lib/python3.10/dist-packages (from huggingface-hub<1.0,>=0.14.1->transformers) (4.6.3)\n",
      "Requirement already satisfied: urllib3<1.27,>=1.21.1 in /usr/local/lib/python3.10/dist-packages (from requests->transformers) (1.26.16)\n",
      "Requirement already satisfied: certifi>=2017.4.17 in /usr/local/lib/python3.10/dist-packages (from requests->transformers) (2023.5.7)\n",
      "Requirement already satisfied: charset-normalizer~=2.0.0 in /usr/local/lib/python3.10/dist-packages (from requests->transformers) (2.0.12)\n",
      "Requirement already satisfied: idna<4,>=2.5 in /usr/local/lib/python3.10/dist-packages (from requests->transformers) (3.4)\n",
      "Installing collected packages: tokenizers, safetensors, huggingface-hub, transformers\n",
      "Successfully installed huggingface-hub-0.15.1 safetensors-0.3.1 tokenizers-0.13.3 transformers-4.30.2\n",
      "Looking in indexes: https://pypi.org/simple, https://us-python.pkg.dev/colab-wheels/public/simple/\n",
      "Collecting keras_tuner\n",
      "  Downloading keras_tuner-1.3.5-py3-none-any.whl (176 kB)\n",
      "\u001b[2K     \u001b[90m━━━━━━━━━━━━━━━━━━━━━━━━━━━━━━━━━━━━━━━\u001b[0m \u001b[32m176.1/176.1 kB\u001b[0m \u001b[31m5.4 MB/s\u001b[0m eta \u001b[36m0:00:00\u001b[0m\n",
      "\u001b[?25hRequirement already satisfied: packaging in /usr/local/lib/python3.10/dist-packages (from keras_tuner) (23.1)\n",
      "Requirement already satisfied: requests in /usr/local/lib/python3.10/dist-packages (from keras_tuner) (2.27.1)\n",
      "Collecting kt-legacy (from keras_tuner)\n",
      "  Downloading kt_legacy-1.0.5-py3-none-any.whl (9.6 kB)\n",
      "Requirement already satisfied: urllib3<1.27,>=1.21.1 in /usr/local/lib/python3.10/dist-packages (from requests->keras_tuner) (1.26.16)\n",
      "Requirement already satisfied: certifi>=2017.4.17 in /usr/local/lib/python3.10/dist-packages (from requests->keras_tuner) (2023.5.7)\n",
      "Requirement already satisfied: charset-normalizer~=2.0.0 in /usr/local/lib/python3.10/dist-packages (from requests->keras_tuner) (2.0.12)\n",
      "Requirement already satisfied: idna<4,>=2.5 in /usr/local/lib/python3.10/dist-packages (from requests->keras_tuner) (3.4)\n",
      "Installing collected packages: kt-legacy, keras_tuner\n",
      "Successfully installed keras_tuner-1.3.5 kt-legacy-1.0.5\n",
      "Looking in indexes: https://pypi.org/simple, https://us-python.pkg.dev/colab-wheels/public/simple/\n",
      "Collecting tensorflow_text\n",
      "  Downloading tensorflow_text-2.12.1-cp310-cp310-manylinux_2_17_x86_64.manylinux2014_x86_64.whl (6.0 MB)\n",
      "\u001b[2K     \u001b[90m━━━━━━━━━━━━━━━━━━━━━━━━━━━━━━━━━━━━━━━━\u001b[0m \u001b[32m6.0/6.0 MB\u001b[0m \u001b[31m52.5 MB/s\u001b[0m eta \u001b[36m0:00:00\u001b[0m\n",
      "\u001b[?25hRequirement already satisfied: tensorflow-hub>=0.8.0 in /usr/local/lib/python3.10/dist-packages (from tensorflow_text) (0.13.0)\n",
      "Requirement already satisfied: tensorflow<2.13,>=2.12.0 in /usr/local/lib/python3.10/dist-packages (from tensorflow_text) (2.12.0)\n",
      "Requirement already satisfied: absl-py>=1.0.0 in /usr/local/lib/python3.10/dist-packages (from tensorflow<2.13,>=2.12.0->tensorflow_text) (1.4.0)\n",
      "Requirement already satisfied: astunparse>=1.6.0 in /usr/local/lib/python3.10/dist-packages (from tensorflow<2.13,>=2.12.0->tensorflow_text) (1.6.3)\n",
      "Requirement already satisfied: flatbuffers>=2.0 in /usr/local/lib/python3.10/dist-packages (from tensorflow<2.13,>=2.12.0->tensorflow_text) (23.5.26)\n",
      "Requirement already satisfied: gast<=0.4.0,>=0.2.1 in /usr/local/lib/python3.10/dist-packages (from tensorflow<2.13,>=2.12.0->tensorflow_text) (0.4.0)\n",
      "Requirement already satisfied: google-pasta>=0.1.1 in /usr/local/lib/python3.10/dist-packages (from tensorflow<2.13,>=2.12.0->tensorflow_text) (0.2.0)\n",
      "Requirement already satisfied: grpcio<2.0,>=1.24.3 in /usr/local/lib/python3.10/dist-packages (from tensorflow<2.13,>=2.12.0->tensorflow_text) (1.56.0)\n",
      "Requirement already satisfied: h5py>=2.9.0 in /usr/local/lib/python3.10/dist-packages (from tensorflow<2.13,>=2.12.0->tensorflow_text) (3.8.0)\n",
      "Requirement already satisfied: jax>=0.3.15 in /usr/local/lib/python3.10/dist-packages (from tensorflow<2.13,>=2.12.0->tensorflow_text) (0.4.10)\n",
      "Requirement already satisfied: keras<2.13,>=2.12.0 in /usr/local/lib/python3.10/dist-packages (from tensorflow<2.13,>=2.12.0->tensorflow_text) (2.12.0)\n",
      "Requirement already satisfied: libclang>=13.0.0 in /usr/local/lib/python3.10/dist-packages (from tensorflow<2.13,>=2.12.0->tensorflow_text) (16.0.0)\n",
      "Requirement already satisfied: numpy<1.24,>=1.22 in /usr/local/lib/python3.10/dist-packages (from tensorflow<2.13,>=2.12.0->tensorflow_text) (1.22.4)\n",
      "Requirement already satisfied: opt-einsum>=2.3.2 in /usr/local/lib/python3.10/dist-packages (from tensorflow<2.13,>=2.12.0->tensorflow_text) (3.3.0)\n",
      "Requirement already satisfied: packaging in /usr/local/lib/python3.10/dist-packages (from tensorflow<2.13,>=2.12.0->tensorflow_text) (23.1)\n",
      "Requirement already satisfied: protobuf!=4.21.0,!=4.21.1,!=4.21.2,!=4.21.3,!=4.21.4,!=4.21.5,<5.0.0dev,>=3.20.3 in /usr/local/lib/python3.10/dist-packages (from tensorflow<2.13,>=2.12.0->tensorflow_text) (3.20.3)\n",
      "Requirement already satisfied: setuptools in /usr/local/lib/python3.10/dist-packages (from tensorflow<2.13,>=2.12.0->tensorflow_text) (67.7.2)\n",
      "Requirement already satisfied: six>=1.12.0 in /usr/local/lib/python3.10/dist-packages (from tensorflow<2.13,>=2.12.0->tensorflow_text) (1.16.0)\n",
      "Requirement already satisfied: tensorboard<2.13,>=2.12 in /usr/local/lib/python3.10/dist-packages (from tensorflow<2.13,>=2.12.0->tensorflow_text) (2.12.3)\n",
      "Requirement already satisfied: tensorflow-estimator<2.13,>=2.12.0 in /usr/local/lib/python3.10/dist-packages (from tensorflow<2.13,>=2.12.0->tensorflow_text) (2.12.0)\n",
      "Requirement already satisfied: termcolor>=1.1.0 in /usr/local/lib/python3.10/dist-packages (from tensorflow<2.13,>=2.12.0->tensorflow_text) (2.3.0)\n",
      "Requirement already satisfied: typing-extensions>=3.6.6 in /usr/local/lib/python3.10/dist-packages (from tensorflow<2.13,>=2.12.0->tensorflow_text) (4.6.3)\n",
      "Requirement already satisfied: wrapt<1.15,>=1.11.0 in /usr/local/lib/python3.10/dist-packages (from tensorflow<2.13,>=2.12.0->tensorflow_text) (1.14.1)\n",
      "Requirement already satisfied: tensorflow-io-gcs-filesystem>=0.23.1 in /usr/local/lib/python3.10/dist-packages (from tensorflow<2.13,>=2.12.0->tensorflow_text) (0.32.0)\n",
      "Requirement already satisfied: wheel<1.0,>=0.23.0 in /usr/local/lib/python3.10/dist-packages (from astunparse>=1.6.0->tensorflow<2.13,>=2.12.0->tensorflow_text) (0.40.0)\n",
      "Requirement already satisfied: ml-dtypes>=0.1.0 in /usr/local/lib/python3.10/dist-packages (from jax>=0.3.15->tensorflow<2.13,>=2.12.0->tensorflow_text) (0.2.0)\n",
      "Requirement already satisfied: scipy>=1.7 in /usr/local/lib/python3.10/dist-packages (from jax>=0.3.15->tensorflow<2.13,>=2.12.0->tensorflow_text) (1.10.1)\n",
      "Requirement already satisfied: google-auth<3,>=1.6.3 in /usr/local/lib/python3.10/dist-packages (from tensorboard<2.13,>=2.12->tensorflow<2.13,>=2.12.0->tensorflow_text) (2.17.3)\n",
      "Requirement already satisfied: google-auth-oauthlib<1.1,>=0.5 in /usr/local/lib/python3.10/dist-packages (from tensorboard<2.13,>=2.12->tensorflow<2.13,>=2.12.0->tensorflow_text) (1.0.0)\n",
      "Requirement already satisfied: markdown>=2.6.8 in /usr/local/lib/python3.10/dist-packages (from tensorboard<2.13,>=2.12->tensorflow<2.13,>=2.12.0->tensorflow_text) (3.4.3)\n",
      "Requirement already satisfied: requests<3,>=2.21.0 in /usr/local/lib/python3.10/dist-packages (from tensorboard<2.13,>=2.12->tensorflow<2.13,>=2.12.0->tensorflow_text) (2.27.1)\n",
      "Requirement already satisfied: tensorboard-data-server<0.8.0,>=0.7.0 in /usr/local/lib/python3.10/dist-packages (from tensorboard<2.13,>=2.12->tensorflow<2.13,>=2.12.0->tensorflow_text) (0.7.1)\n",
      "Requirement already satisfied: werkzeug>=1.0.1 in /usr/local/lib/python3.10/dist-packages (from tensorboard<2.13,>=2.12->tensorflow<2.13,>=2.12.0->tensorflow_text) (2.3.6)\n",
      "Requirement already satisfied: cachetools<6.0,>=2.0.0 in /usr/local/lib/python3.10/dist-packages (from google-auth<3,>=1.6.3->tensorboard<2.13,>=2.12->tensorflow<2.13,>=2.12.0->tensorflow_text) (5.3.1)\n",
      "Requirement already satisfied: pyasn1-modules>=0.2.1 in /usr/local/lib/python3.10/dist-packages (from google-auth<3,>=1.6.3->tensorboard<2.13,>=2.12->tensorflow<2.13,>=2.12.0->tensorflow_text) (0.3.0)\n",
      "Requirement already satisfied: rsa<5,>=3.1.4 in /usr/local/lib/python3.10/dist-packages (from google-auth<3,>=1.6.3->tensorboard<2.13,>=2.12->tensorflow<2.13,>=2.12.0->tensorflow_text) (4.9)\n",
      "Requirement already satisfied: requests-oauthlib>=0.7.0 in /usr/local/lib/python3.10/dist-packages (from google-auth-oauthlib<1.1,>=0.5->tensorboard<2.13,>=2.12->tensorflow<2.13,>=2.12.0->tensorflow_text) (1.3.1)\n",
      "Requirement already satisfied: urllib3<1.27,>=1.21.1 in /usr/local/lib/python3.10/dist-packages (from requests<3,>=2.21.0->tensorboard<2.13,>=2.12->tensorflow<2.13,>=2.12.0->tensorflow_text) (1.26.16)\n",
      "Requirement already satisfied: certifi>=2017.4.17 in /usr/local/lib/python3.10/dist-packages (from requests<3,>=2.21.0->tensorboard<2.13,>=2.12->tensorflow<2.13,>=2.12.0->tensorflow_text) (2023.5.7)\n",
      "Requirement already satisfied: charset-normalizer~=2.0.0 in /usr/local/lib/python3.10/dist-packages (from requests<3,>=2.21.0->tensorboard<2.13,>=2.12->tensorflow<2.13,>=2.12.0->tensorflow_text) (2.0.12)\n",
      "Requirement already satisfied: idna<4,>=2.5 in /usr/local/lib/python3.10/dist-packages (from requests<3,>=2.21.0->tensorboard<2.13,>=2.12->tensorflow<2.13,>=2.12.0->tensorflow_text) (3.4)\n",
      "Requirement already satisfied: MarkupSafe>=2.1.1 in /usr/local/lib/python3.10/dist-packages (from werkzeug>=1.0.1->tensorboard<2.13,>=2.12->tensorflow<2.13,>=2.12.0->tensorflow_text) (2.1.3)\n",
      "Requirement already satisfied: pyasn1<0.6.0,>=0.4.6 in /usr/local/lib/python3.10/dist-packages (from pyasn1-modules>=0.2.1->google-auth<3,>=1.6.3->tensorboard<2.13,>=2.12->tensorflow<2.13,>=2.12.0->tensorflow_text) (0.5.0)\n",
      "Requirement already satisfied: oauthlib>=3.0.0 in /usr/local/lib/python3.10/dist-packages (from requests-oauthlib>=0.7.0->google-auth-oauthlib<1.1,>=0.5->tensorboard<2.13,>=2.12->tensorflow<2.13,>=2.12.0->tensorflow_text) (3.2.2)\n",
      "Installing collected packages: tensorflow_text\n",
      "Successfully installed tensorflow_text-2.12.1\n"
     ]
    }
   ],
   "source": [
    "!pip install transformers\n",
    "!pip install keras_tuner\n",
    "!pip install tensorflow_text"
   ]
  },
  {
   "cell_type": "code",
   "execution_count": 2,
   "id": "7f8decb4",
   "metadata": {
    "id": "7f8decb4"
   },
   "outputs": [],
   "source": [
    "import os\n",
    "os.environ['TF_CPP_MIN_LOG_LEVEL'] = '3'"
   ]
  },
  {
   "cell_type": "code",
   "execution_count": 3,
   "id": "2e38acd0",
   "metadata": {
    "id": "2e38acd0"
   },
   "outputs": [],
   "source": [
    "import pandas as pd\n",
    "import numpy as np\n",
    "import utils\n",
    "\n",
    "from sklearn.model_selection import train_test_split\n",
    "from sklearn.metrics import confusion_matrix, ConfusionMatrixDisplay\n",
    "\n",
    "from transformers import AutoTokenizer, TFBertModel\n",
    "\n",
    "import tensorflow as tf\n",
    "import tensorflow_hub as hub\n",
    "import tensorflow_text as text\n",
    "from tensorflow.keras.optimizers import Adam\n",
    "import keras_tuner as kt\n",
    "from keras.models import Model, Sequential\n",
    "from keras.layers import Input, Dense, Dropout, Embedding, LSTM, Bidirectional, GRU\n",
    "from tensorflow.keras import regularizers\n",
    "from keras.callbacks import EarlyStopping, ReduceLROnPlateau\n",
    "\n",
    "import matplotlib.pyplot as plt"
   ]
  },
  {
   "cell_type": "markdown",
   "id": "g5MgZ8c5yXT2",
   "metadata": {
    "id": "g5MgZ8c5yXT2"
   },
   "source": [
    "Using GPU if available"
   ]
  },
  {
   "cell_type": "code",
   "execution_count": 4,
   "id": "6z9aWJ8IP9gZ",
   "metadata": {
    "colab": {
     "base_uri": "https://localhost:8080/"
    },
    "id": "6z9aWJ8IP9gZ",
    "outputId": "e0fb049a-befd-475d-cd92-e0a5cdc4ae32"
   },
   "outputs": [
    {
     "name": "stdout",
     "output_type": "stream",
     "text": [
      "Found GPU at: /device:GPU:0\n"
     ]
    }
   ],
   "source": [
    "device_name = tf.test.gpu_device_name()\n",
    "if device_name != '/device:GPU:0':\n",
    "  raise SystemError('GPU device not found')\n",
    "print('Found GPU at: {}'.format(device_name))"
   ]
  },
  {
   "cell_type": "markdown",
   "id": "CIKEQMZggxiw",
   "metadata": {
    "id": "CIKEQMZggxiw"
   },
   "source": [
    "# Preprocessing"
   ]
  },
  {
   "cell_type": "markdown",
   "id": "t0z-sGiVnySB",
   "metadata": {
    "id": "t0z-sGiVnySB"
   },
   "source": [
    "The primary data for the competition is, in each provided file, the *comment_text* column. This contains the text of a comment which has been labeled as **Conspiratorial** (1) or **non-conspiratorial** (0). The train set’s comments are entirely in Italian with sporadic citation of external resources in English and come exclusively from Telegram Channels.\n",
    "\n",
    "The **subtaskA_train.csv** contains a *conspiratorial* column that it is the target to be trained on. The values of such column are either 1 indicating that the corresponding comment in *comment_text* column is Conspiratorial. Otherwise it is 0."
   ]
  },
  {
   "cell_type": "markdown",
   "id": "oCyO4VY-g7KK",
   "metadata": {
    "id": "oCyO4VY-g7KK"
   },
   "source": [
    "## Loading dataset"
   ]
  },
  {
   "cell_type": "code",
   "execution_count": 5,
   "id": "918edc94",
   "metadata": {
    "id": "918edc94"
   },
   "outputs": [],
   "source": [
    "train = pd.read_csv(\"subtaskA_train_set.csv\")\n",
    "val = pd.read_csv(\"subtaskA_val_set.csv\")\n",
    "test = pd.read_csv(\"subtaskA_test_set.csv\")\n",
    "trainval = pd.read_csv(\"subtaskA_trainval_set.csv\")"
   ]
  },
  {
   "cell_type": "markdown",
   "id": "uBY2RcXqzv4C",
   "metadata": {
    "id": "uBY2RcXqzv4C"
   },
   "source": [
    "# Model training"
   ]
  },
  {
   "cell_type": "markdown",
   "id": "xCRFhy9lrFAG",
   "metadata": {
    "id": "xCRFhy9lrFAG"
   },
   "source": [
    "## Architecture definition"
   ]
  },
  {
   "cell_type": "markdown",
   "id": "Y4YRVqpgrtII",
   "metadata": {
    "id": "Y4YRVqpgrtII"
   },
   "source": [
    "In this notebook the task has been addressed by using the [**Multilingual Universal Sentence Encoder**](https://arxiv.org/pdf/1907.04307.pdf). It's a multilingual text encoder trained by Google on 16 languages (including italian) and freely available on [TensorFlow Hub](https://tfhub.dev/google/universal-sentence-encoder-multilingual/3).\n",
    "\n",
    "This encoder relies on [SentencePiece](https://aclanthology.org/D18-2012.pdf) tokenizer."
   ]
  },
  {
   "cell_type": "code",
   "execution_count": 6,
   "id": "f50931f8",
   "metadata": {
    "id": "f50931f8"
   },
   "outputs": [],
   "source": [
    "tfhub_handle_encoder = \"https://tfhub.dev/google/universal-sentence-encoder-multilingual/3\"\n",
    "tfhub_handle_preprocess = \"https://tfhub.dev/google/universal-sentence-encoder-multilingual/3\""
   ]
  },
  {
   "cell_type": "code",
   "execution_count": 7,
   "id": "e95150b5",
   "metadata": {
    "id": "e95150b5"
   },
   "outputs": [],
   "source": [
    "def build_model_with_hp(\n",
    "    lstm_units: int,\n",
    "    l1_units: int,\n",
    "    l2_units: int,\n",
    "    l3_units: int,\n",
    "    l2_value: float,\n",
    "    dropout_rate: float,\n",
    "    learning_rate: float,\n",
    "    epsilon: float,\n",
    "    clipnorm: float\n",
    "):\n",
    "    # defining inputs\n",
    "    text_input = tf.keras.layers.Input(shape=(), dtype=tf.string, name='text')\n",
    "\n",
    "    # defining preprocessing\n",
    "    preprocessing_layer = hub.KerasLayer(tfhub_handle_preprocess, name='preprocessing')\n",
    "\n",
    "    # defining encoder\n",
    "    encoder = hub.KerasLayer(tfhub_handle_encoder, trainable=False, name='text_encoder')\n",
    "    net = encoder(text_input)\n",
    "\n",
    "    # Reshape net to add a time step dimension\n",
    "    net = tf.expand_dims(net, axis=1)\n",
    "\n",
    "    net = Bidirectional(LSTM(\n",
    "        units = lstm_units,\n",
    "        kernel_regularizer = regularizers.L2(l2_value),\n",
    "        dropout = dropout_rate\n",
    "    ), name = \"BiLSTM_layer\")(net)\n",
    "\n",
    "    # FULLY CONNECTED LAYERS\n",
    "\n",
    "    net = tf.keras.layers.Dense(\n",
    "        units = l1_units,\n",
    "        kernel_regularizer = regularizers.L2(l2_value),\n",
    "        activation = \"relu\",\n",
    "        name = \"Dense_layer_1\"\n",
    "    )(net)\n",
    "\n",
    "    net = Dropout(rate=dropout_rate)(net)\n",
    "\n",
    "    net = tf.keras.layers.Dense(\n",
    "        units = l2_units,\n",
    "        kernel_regularizer = regularizers.L2(l2_value),\n",
    "        activation=\"relu\",\n",
    "        name = \"Dense_layer_2\"\n",
    "    )(net)\n",
    "\n",
    "    net = Dropout(rate=dropout_rate)(net)\n",
    "\n",
    "    net = tf.keras.layers.Dense(\n",
    "        units = l3_units,\n",
    "        kernel_regularizer = regularizers.L2(l2_value),\n",
    "        activation=\"relu\",\n",
    "        name = \"Dense_layer_3\"\n",
    "    )(net)\n",
    "\n",
    "    net = Dropout(rate=dropout_rate)(net)\n",
    "\n",
    "    # OUTPUT LAYER\n",
    "    net = tf.keras.layers.Dense(\n",
    "        units = 1,\n",
    "        kernel_regularizer = regularizers.L2(l2_value),\n",
    "        activation = \"sigmoid\",\n",
    "        name = 'classifier'\n",
    "    )(net)\n",
    "\n",
    "    model = tf.keras.Model(text_input, net)\n",
    "\n",
    "    optimizer = Adam(\n",
    "        learning_rate = learning_rate,\n",
    "        epsilon = epsilon,\n",
    "        clipnorm = clipnorm\n",
    "    )\n",
    "\n",
    "    model.compile(\n",
    "        optimizer = optimizer,\n",
    "        loss = 'binary_crossentropy',\n",
    "        metrics = 'accuracy'\n",
    "    )\n",
    "\n",
    "    return model\n",
    "\n",
    "def build_classifier_model(hp):\n",
    "    lstm_units = hp.Int('lstm_units', min_value=4, max_value=10, step=1)\n",
    "    l1_units = hp.Int('l1_units', min_value=5, max_value=40, step=5)\n",
    "    l2_units = hp.Int('l2_units', min_value=5, max_value=40, step=5)\n",
    "    l3_units = hp.Int('l3_units', min_value=5, max_value=40, step=5)\n",
    "    l2_value = hp.Choice('L2 regularization', values = [1e-5, 1e-6])\n",
    "    dropout_rate = 0.1\n",
    "    learning_rate = hp.Choice('learning_rate', values=[1e-2, 1e-3, 1e-4])\n",
    "    epsilon = 1e-7\n",
    "    clipnorm = 0.1\n",
    "\n",
    "    return build_model_with_hp(lstm_units, l1_units, l2_units, l3_units, l2_value, dropout_rate, learning_rate, epsilon, clipnorm)"
   ]
  },
  {
   "cell_type": "markdown",
   "id": "ERg54-GbwwT0",
   "metadata": {
    "id": "ERg54-GbwwT0"
   },
   "source": [
    "Along the model, we introduce 2 callbacks to support the model training:\n",
    "\n",
    "\n",
    "*   **ReduceLROnPlateau**: Reduce learning rate when a metric has stopped improving. Models often benefit from reducing the learning rate by a factor once learning stagnates. This callback monitors a quantity and if no improvement is seen for a 'patience' number of epochs, the learning rate is reduced.\n",
    "*   **EarlyStopping**: Stop training when a monitored metric has stopped improving.\n",
    "\n"
   ]
  },
  {
   "cell_type": "code",
   "execution_count": 8,
   "id": "gKHk5YADlgbA",
   "metadata": {
    "id": "gKHk5YADlgbA"
   },
   "outputs": [],
   "source": [
    "reduce_lr = ReduceLROnPlateau(\n",
    "    monitor=\"val_loss\",\n",
    "    factor=5e-2,\n",
    "    patience=5,\n",
    "    verbose=0,\n",
    "    mode=\"auto\",\n",
    "    min_delta=1e-3,\n",
    "    min_lr=1e-5\n",
    ")\n",
    "early_stopping = EarlyStopping(monitor='val_accuracy' ,mode='max', patience=20,verbose=False,restore_best_weights=True)"
   ]
  },
  {
   "cell_type": "markdown",
   "id": "md00PvdQ0fmM",
   "metadata": {
    "id": "md00PvdQ0fmM"
   },
   "source": [
    "## Performing a random search of the hyperparameters"
   ]
  },
  {
   "cell_type": "code",
   "execution_count": 9,
   "id": "7ae4ee76",
   "metadata": {
    "id": "7ae4ee76"
   },
   "outputs": [],
   "source": [
    "tuner = kt.RandomSearch(\n",
    "    hypermodel=build_classifier_model,\n",
    "    max_trials=10,\n",
    "    objective='val_accuracy',\n",
    "    overwrite=True\n",
    ")"
   ]
  },
  {
   "cell_type": "code",
   "execution_count": 10,
   "id": "5831c33f",
   "metadata": {
    "colab": {
     "base_uri": "https://localhost:8080/"
    },
    "id": "5831c33f",
    "outputId": "8a76d764-3201-4510-c74c-db6420970a04",
    "scrolled": true
   },
   "outputs": [
    {
     "name": "stdout",
     "output_type": "stream",
     "text": [
      "Trial 10 Complete [00h 02m 02s]\n",
      "val_accuracy: 0.7289156913757324\n",
      "\n",
      "Best val_accuracy So Far: 0.7560241222381592\n",
      "Total elapsed time: 00h 21m 49s\n"
     ]
    }
   ],
   "source": [
    "print(f'Training model with {tfhub_handle_encoder}')\n",
    "tuner.search(\n",
    "    x = train[\"comment_text\"],\n",
    "    y = train[\"conspiratorial\"],\n",
    "    epochs = 100,\n",
    "    validation_data = (val[\"comment_text\"], val[\"conspiratorial\"]),\n",
    "    callbacks = [\n",
    "        reduce_lr,\n",
    "        early_stopping\n",
    "    ]\n",
    ")"
   ]
  },
  {
   "cell_type": "code",
   "execution_count": 12,
   "id": "UrZ8wK_JmzhR",
   "metadata": {
    "colab": {
     "base_uri": "https://localhost:8080/"
    },
    "id": "UrZ8wK_JmzhR",
    "outputId": "f72d9ff9-ba66-4515-9281-47076bac309a"
   },
   "outputs": [
    {
     "name": "stdout",
     "output_type": "stream",
     "text": [
      "Results summary\n",
      "Results in ./untitled_project\n",
      "Showing 5 best trials\n",
      "Objective(name=\"val_accuracy\", direction=\"max\")\n",
      "\n",
      "Trial 02 summary\n",
      "Hyperparameters:\n",
      "lstm_units: 4\n",
      "l1_units: 40\n",
      "l2_units: 30\n",
      "l3_units: 40\n",
      "L2 regularization: 1e-06\n",
      "learning_rate: 0.001\n",
      "Score: 0.7560241222381592\n",
      "\n",
      "Trial 00 summary\n",
      "Hyperparameters:\n",
      "lstm_units: 8\n",
      "l1_units: 15\n",
      "l2_units: 15\n",
      "l3_units: 5\n",
      "L2 regularization: 1e-05\n",
      "learning_rate: 0.0001\n",
      "Score: 0.7530120611190796\n",
      "\n",
      "Trial 08 summary\n",
      "Hyperparameters:\n",
      "lstm_units: 5\n",
      "l1_units: 10\n",
      "l2_units: 35\n",
      "l3_units: 15\n",
      "L2 regularization: 1e-05\n",
      "learning_rate: 0.0001\n",
      "Score: 0.7530120611190796\n",
      "\n",
      "Trial 04 summary\n",
      "Hyperparameters:\n",
      "lstm_units: 4\n",
      "l1_units: 25\n",
      "l2_units: 20\n",
      "l3_units: 10\n",
      "L2 regularization: 1e-05\n",
      "learning_rate: 0.001\n",
      "Score: 0.7469879388809204\n",
      "\n",
      "Trial 05 summary\n",
      "Hyperparameters:\n",
      "lstm_units: 4\n",
      "l1_units: 40\n",
      "l2_units: 25\n",
      "l3_units: 20\n",
      "L2 regularization: 1e-06\n",
      "learning_rate: 0.001\n",
      "Score: 0.7439758777618408\n"
     ]
    }
   ],
   "source": [
    "tuner.results_summary(5)"
   ]
  },
  {
   "cell_type": "markdown",
   "id": "xyK9Derdx_BM",
   "metadata": {
    "id": "xyK9Derdx_BM"
   },
   "source": [
    "# Final phase: retrain and test"
   ]
  },
  {
   "cell_type": "markdown",
   "id": "HIo5I05lx-ml",
   "metadata": {
    "id": "HIo5I05lx-ml"
   },
   "source": [
    "After the search for optimal parameters we perform another fit on the training set in order to observe closely the learning curves on training and validation."
   ]
  },
  {
   "cell_type": "code",
   "execution_count": 16,
   "id": "NGXfMMzgd_-k",
   "metadata": {
    "colab": {
     "base_uri": "https://localhost:8080/"
    },
    "id": "NGXfMMzgd_-k",
    "outputId": "2d57e40d-f2da-434f-a88c-d7c41ace9c9b"
   },
   "outputs": [
    {
     "name": "stdout",
     "output_type": "stream",
     "text": [
      "Training model with https://tfhub.dev/google/universal-sentence-encoder-multilingual/3\n",
      "Epoch 1/70\n",
      "42/42 [==============================] - 16s 79ms/step - loss: 0.6935 - accuracy: 0.4724 - val_loss: 0.6933 - val_accuracy: 0.5271 - lr: 1.0000e-04\n",
      "Epoch 2/70\n",
      "42/42 [==============================] - 2s 36ms/step - loss: 0.6932 - accuracy: 0.5147 - val_loss: 0.6930 - val_accuracy: 0.5813 - lr: 1.0000e-04\n",
      "Epoch 3/70\n",
      "42/42 [==============================] - 2s 36ms/step - loss: 0.6928 - accuracy: 0.5729 - val_loss: 0.6926 - val_accuracy: 0.5873 - lr: 1.0000e-04\n",
      "Epoch 4/70\n",
      "42/42 [==============================] - 2s 45ms/step - loss: 0.6922 - accuracy: 0.6032 - val_loss: 0.6917 - val_accuracy: 0.6054 - lr: 1.0000e-04\n",
      "Epoch 5/70\n",
      "42/42 [==============================] - 2s 54ms/step - loss: 0.6907 - accuracy: 0.6584 - val_loss: 0.6898 - val_accuracy: 0.6416 - lr: 1.0000e-04\n",
      "Epoch 6/70\n",
      "42/42 [==============================] - 2s 40ms/step - loss: 0.6873 - accuracy: 0.6924 - val_loss: 0.6862 - val_accuracy: 0.6536 - lr: 1.0000e-04\n",
      "Epoch 7/70\n",
      "42/42 [==============================] - 2s 37ms/step - loss: 0.6822 - accuracy: 0.7241 - val_loss: 0.6804 - val_accuracy: 0.6807 - lr: 1.0000e-04\n",
      "Epoch 8/70\n",
      "42/42 [==============================] - 2s 37ms/step - loss: 0.6746 - accuracy: 0.7143 - val_loss: 0.6728 - val_accuracy: 0.6958 - lr: 1.0000e-04\n",
      "Epoch 9/70\n",
      "42/42 [==============================] - 2s 36ms/step - loss: 0.6643 - accuracy: 0.7354 - val_loss: 0.6628 - val_accuracy: 0.7018 - lr: 1.0000e-04\n",
      "Epoch 10/70\n",
      "42/42 [==============================] - 2s 36ms/step - loss: 0.6502 - accuracy: 0.7521 - val_loss: 0.6499 - val_accuracy: 0.7048 - lr: 1.0000e-04\n",
      "Epoch 11/70\n",
      "42/42 [==============================] - 1s 35ms/step - loss: 0.6326 - accuracy: 0.7506 - val_loss: 0.6347 - val_accuracy: 0.7169 - lr: 1.0000e-04\n",
      "Epoch 12/70\n",
      "42/42 [==============================] - 2s 36ms/step - loss: 0.6124 - accuracy: 0.7423 - val_loss: 0.6187 - val_accuracy: 0.7199 - lr: 1.0000e-04\n",
      "Epoch 13/70\n",
      "42/42 [==============================] - 3s 60ms/step - loss: 0.5905 - accuracy: 0.7657 - val_loss: 0.6013 - val_accuracy: 0.7259 - lr: 1.0000e-04\n",
      "Epoch 14/70\n",
      "42/42 [==============================] - 2s 49ms/step - loss: 0.5683 - accuracy: 0.7642 - val_loss: 0.5864 - val_accuracy: 0.7199 - lr: 1.0000e-04\n",
      "Epoch 15/70\n",
      "42/42 [==============================] - 1s 35ms/step - loss: 0.5514 - accuracy: 0.7566 - val_loss: 0.5725 - val_accuracy: 0.7229 - lr: 1.0000e-04\n",
      "Epoch 16/70\n",
      "42/42 [==============================] - 1s 35ms/step - loss: 0.5340 - accuracy: 0.7732 - val_loss: 0.5615 - val_accuracy: 0.7229 - lr: 1.0000e-04\n",
      "Epoch 17/70\n",
      "42/42 [==============================] - 2s 36ms/step - loss: 0.5146 - accuracy: 0.7861 - val_loss: 0.5528 - val_accuracy: 0.7229 - lr: 1.0000e-04\n",
      "Epoch 18/70\n",
      "42/42 [==============================] - 1s 36ms/step - loss: 0.5079 - accuracy: 0.7755 - val_loss: 0.5462 - val_accuracy: 0.7289 - lr: 1.0000e-04\n",
      "Epoch 19/70\n",
      "42/42 [==============================] - 1s 33ms/step - loss: 0.4942 - accuracy: 0.7748 - val_loss: 0.5409 - val_accuracy: 0.7319 - lr: 1.0000e-04\n",
      "Epoch 20/70\n",
      "42/42 [==============================] - 1s 34ms/step - loss: 0.4881 - accuracy: 0.7831 - val_loss: 0.5370 - val_accuracy: 0.7319 - lr: 1.0000e-04\n",
      "Epoch 21/70\n",
      "42/42 [==============================] - 2s 53ms/step - loss: 0.4773 - accuracy: 0.7823 - val_loss: 0.5327 - val_accuracy: 0.7319 - lr: 1.0000e-04\n",
      "Epoch 22/70\n",
      "42/42 [==============================] - 2s 53ms/step - loss: 0.4749 - accuracy: 0.7861 - val_loss: 0.5299 - val_accuracy: 0.7319 - lr: 1.0000e-04\n",
      "Epoch 23/70\n",
      "42/42 [==============================] - 2s 38ms/step - loss: 0.4603 - accuracy: 0.7974 - val_loss: 0.5269 - val_accuracy: 0.7349 - lr: 1.0000e-04\n",
      "Epoch 24/70\n",
      "42/42 [==============================] - 1s 35ms/step - loss: 0.4541 - accuracy: 0.7899 - val_loss: 0.5245 - val_accuracy: 0.7319 - lr: 1.0000e-04\n",
      "Epoch 25/70\n",
      "42/42 [==============================] - 1s 35ms/step - loss: 0.4607 - accuracy: 0.7763 - val_loss: 0.5228 - val_accuracy: 0.7380 - lr: 1.0000e-04\n",
      "Epoch 26/70\n",
      "42/42 [==============================] - 1s 34ms/step - loss: 0.4508 - accuracy: 0.7868 - val_loss: 0.5217 - val_accuracy: 0.7410 - lr: 1.0000e-04\n",
      "Epoch 27/70\n",
      "42/42 [==============================] - 1s 34ms/step - loss: 0.4522 - accuracy: 0.7838 - val_loss: 0.5202 - val_accuracy: 0.7380 - lr: 1.0000e-04\n",
      "Epoch 28/70\n",
      "42/42 [==============================] - 1s 33ms/step - loss: 0.4394 - accuracy: 0.7974 - val_loss: 0.5192 - val_accuracy: 0.7410 - lr: 1.0000e-04\n",
      "Epoch 29/70\n",
      "42/42 [==============================] - 1s 33ms/step - loss: 0.4353 - accuracy: 0.7997 - val_loss: 0.5194 - val_accuracy: 0.7500 - lr: 1.0000e-04\n",
      "Epoch 30/70\n",
      "42/42 [==============================] - 2s 58ms/step - loss: 0.4369 - accuracy: 0.8042 - val_loss: 0.5179 - val_accuracy: 0.7560 - lr: 1.0000e-04\n",
      "Epoch 31/70\n",
      "42/42 [==============================] - 2s 52ms/step - loss: 0.4324 - accuracy: 0.8027 - val_loss: 0.5179 - val_accuracy: 0.7530 - lr: 1.0000e-04\n",
      "Epoch 32/70\n",
      "42/42 [==============================] - 2s 37ms/step - loss: 0.4316 - accuracy: 0.7974 - val_loss: 0.5172 - val_accuracy: 0.7380 - lr: 1.0000e-04\n",
      "Epoch 33/70\n",
      "42/42 [==============================] - 1s 35ms/step - loss: 0.4258 - accuracy: 0.7937 - val_loss: 0.5173 - val_accuracy: 0.7500 - lr: 1.0000e-04\n",
      "Epoch 34/70\n",
      "42/42 [==============================] - 2s 37ms/step - loss: 0.4266 - accuracy: 0.8042 - val_loss: 0.5172 - val_accuracy: 0.7380 - lr: 1.0000e-04\n",
      "Epoch 35/70\n",
      "42/42 [==============================] - 1s 33ms/step - loss: 0.4274 - accuracy: 0.8073 - val_loss: 0.5176 - val_accuracy: 0.7289 - lr: 1.0000e-04\n",
      "Epoch 36/70\n",
      "42/42 [==============================] - 1s 36ms/step - loss: 0.4194 - accuracy: 0.8171 - val_loss: 0.5177 - val_accuracy: 0.7319 - lr: 1.0000e-05\n",
      "Epoch 37/70\n",
      "42/42 [==============================] - 1s 35ms/step - loss: 0.4124 - accuracy: 0.8065 - val_loss: 0.5178 - val_accuracy: 0.7289 - lr: 1.0000e-05\n",
      "Epoch 38/70\n",
      "42/42 [==============================] - 2s 43ms/step - loss: 0.4103 - accuracy: 0.8171 - val_loss: 0.5179 - val_accuracy: 0.7289 - lr: 1.0000e-05\n",
      "Epoch 39/70\n",
      "42/42 [==============================] - 3s 61ms/step - loss: 0.4080 - accuracy: 0.8065 - val_loss: 0.5180 - val_accuracy: 0.7289 - lr: 1.0000e-05\n",
      "Epoch 40/70\n",
      "42/42 [==============================] - 2s 41ms/step - loss: 0.4109 - accuracy: 0.8246 - val_loss: 0.5182 - val_accuracy: 0.7289 - lr: 1.0000e-05\n",
      "Epoch 41/70\n",
      "42/42 [==============================] - 2s 37ms/step - loss: 0.4177 - accuracy: 0.7997 - val_loss: 0.5182 - val_accuracy: 0.7289 - lr: 1.0000e-05\n",
      "Epoch 42/70\n",
      "42/42 [==============================] - 1s 36ms/step - loss: 0.4093 - accuracy: 0.8284 - val_loss: 0.5184 - val_accuracy: 0.7289 - lr: 1.0000e-05\n",
      "Epoch 43/70\n",
      "42/42 [==============================] - 1s 34ms/step - loss: 0.4108 - accuracy: 0.8178 - val_loss: 0.5184 - val_accuracy: 0.7289 - lr: 1.0000e-05\n",
      "Epoch 44/70\n",
      "42/42 [==============================] - 1s 36ms/step - loss: 0.4147 - accuracy: 0.8148 - val_loss: 0.5185 - val_accuracy: 0.7289 - lr: 1.0000e-05\n",
      "Epoch 45/70\n",
      "42/42 [==============================] - 2s 36ms/step - loss: 0.4165 - accuracy: 0.8095 - val_loss: 0.5186 - val_accuracy: 0.7319 - lr: 1.0000e-05\n",
      "Epoch 46/70\n",
      "42/42 [==============================] - 1s 36ms/step - loss: 0.4181 - accuracy: 0.8193 - val_loss: 0.5187 - val_accuracy: 0.7319 - lr: 1.0000e-05\n",
      "Epoch 47/70\n",
      "42/42 [==============================] - 3s 62ms/step - loss: 0.4062 - accuracy: 0.8095 - val_loss: 0.5188 - val_accuracy: 0.7319 - lr: 1.0000e-05\n",
      "Epoch 48/70\n",
      "42/42 [==============================] - 2s 48ms/step - loss: 0.4151 - accuracy: 0.8201 - val_loss: 0.5188 - val_accuracy: 0.7319 - lr: 1.0000e-05\n",
      "Epoch 49/70\n",
      "42/42 [==============================] - 1s 36ms/step - loss: 0.4063 - accuracy: 0.8178 - val_loss: 0.5189 - val_accuracy: 0.7319 - lr: 1.0000e-05\n",
      "Epoch 50/70\n",
      "42/42 [==============================] - 2s 36ms/step - loss: 0.4094 - accuracy: 0.8110 - val_loss: 0.5190 - val_accuracy: 0.7349 - lr: 1.0000e-05\n",
      "Epoch 51/70\n",
      "42/42 [==============================] - 2s 38ms/step - loss: 0.4124 - accuracy: 0.8156 - val_loss: 0.5191 - val_accuracy: 0.7349 - lr: 1.0000e-05\n",
      "Epoch 52/70\n",
      "42/42 [==============================] - 2s 36ms/step - loss: 0.4091 - accuracy: 0.8224 - val_loss: 0.5192 - val_accuracy: 0.7349 - lr: 1.0000e-05\n",
      "Epoch 53/70\n",
      "42/42 [==============================] - 1s 35ms/step - loss: 0.4133 - accuracy: 0.8057 - val_loss: 0.5192 - val_accuracy: 0.7349 - lr: 1.0000e-05\n",
      "Epoch 54/70\n",
      "42/42 [==============================] - 1s 35ms/step - loss: 0.4107 - accuracy: 0.8125 - val_loss: 0.5193 - val_accuracy: 0.7349 - lr: 1.0000e-05\n",
      "Epoch 55/70\n",
      "42/42 [==============================] - 2s 55ms/step - loss: 0.3994 - accuracy: 0.8209 - val_loss: 0.5195 - val_accuracy: 0.7349 - lr: 1.0000e-05\n",
      "Epoch 56/70\n",
      "42/42 [==============================] - 3s 63ms/step - loss: 0.4111 - accuracy: 0.8133 - val_loss: 0.5196 - val_accuracy: 0.7349 - lr: 1.0000e-05\n",
      "Epoch 57/70\n",
      "42/42 [==============================] - 2s 38ms/step - loss: 0.4154 - accuracy: 0.8148 - val_loss: 0.5196 - val_accuracy: 0.7380 - lr: 1.0000e-05\n",
      "Epoch 58/70\n",
      "42/42 [==============================] - 1s 35ms/step - loss: 0.4120 - accuracy: 0.8125 - val_loss: 0.5197 - val_accuracy: 0.7380 - lr: 1.0000e-05\n",
      "Epoch 59/70\n",
      "42/42 [==============================] - 1s 34ms/step - loss: 0.4070 - accuracy: 0.8193 - val_loss: 0.5198 - val_accuracy: 0.7380 - lr: 1.0000e-05\n",
      "Epoch 60/70\n",
      "42/42 [==============================] - 1s 35ms/step - loss: 0.4181 - accuracy: 0.8073 - val_loss: 0.5199 - val_accuracy: 0.7380 - lr: 1.0000e-05\n",
      "Epoch 61/70\n",
      "42/42 [==============================] - 1s 33ms/step - loss: 0.4071 - accuracy: 0.8103 - val_loss: 0.5200 - val_accuracy: 0.7380 - lr: 1.0000e-05\n",
      "Epoch 62/70\n",
      "42/42 [==============================] - 2s 37ms/step - loss: 0.4051 - accuracy: 0.8193 - val_loss: 0.5203 - val_accuracy: 0.7380 - lr: 1.0000e-05\n",
      "Epoch 63/70\n",
      "42/42 [==============================] - 2s 49ms/step - loss: 0.4085 - accuracy: 0.8209 - val_loss: 0.5204 - val_accuracy: 0.7380 - lr: 1.0000e-05\n",
      "Epoch 64/70\n",
      "42/42 [==============================] - 3s 63ms/step - loss: 0.3970 - accuracy: 0.8216 - val_loss: 0.5205 - val_accuracy: 0.7380 - lr: 1.0000e-05\n",
      "Epoch 65/70\n",
      "42/42 [==============================] - 2s 36ms/step - loss: 0.4121 - accuracy: 0.8186 - val_loss: 0.5205 - val_accuracy: 0.7380 - lr: 1.0000e-05\n",
      "Epoch 66/70\n",
      "42/42 [==============================] - 1s 35ms/step - loss: 0.4073 - accuracy: 0.8163 - val_loss: 0.5206 - val_accuracy: 0.7410 - lr: 1.0000e-05\n",
      "Epoch 67/70\n",
      "42/42 [==============================] - 1s 34ms/step - loss: 0.4076 - accuracy: 0.8148 - val_loss: 0.5207 - val_accuracy: 0.7410 - lr: 1.0000e-05\n",
      "Epoch 68/70\n",
      "42/42 [==============================] - 1s 34ms/step - loss: 0.4083 - accuracy: 0.8110 - val_loss: 0.5209 - val_accuracy: 0.7410 - lr: 1.0000e-05\n",
      "Epoch 69/70\n",
      "42/42 [==============================] - 1s 35ms/step - loss: 0.4080 - accuracy: 0.8156 - val_loss: 0.5210 - val_accuracy: 0.7410 - lr: 1.0000e-05\n",
      "Epoch 70/70\n",
      "42/42 [==============================] - 1s 36ms/step - loss: 0.4036 - accuracy: 0.8171 - val_loss: 0.5210 - val_accuracy: 0.7410 - lr: 1.0000e-05\n"
     ]
    }
   ],
   "source": [
    "best_model = build_model_with_hp(\n",
    "    lstm_units = 4,\n",
    "    l1_units = 40,\n",
    "    l2_units = 30,\n",
    "    l3_units = 40,\n",
    "    l2_value = 1e-6,\n",
    "    dropout_rate = 0.1,\n",
    "    learning_rate = 1e-4,\n",
    "    epsilon = 1e-7,\n",
    "    clipnorm = 0.1\n",
    ")\n",
    "\n",
    "print(f'Training model with {tfhub_handle_encoder}')\n",
    "history = best_model.fit(\n",
    "    x = train[\"comment_text\"],\n",
    "    y = train[\"conspiratorial\"],\n",
    "    epochs=70,\n",
    "    validation_data = (val[\"comment_text\"], val[\"conspiratorial\"]),\n",
    "    batch_size = 32,\n",
    "    callbacks= [\n",
    "      reduce_lr\n",
    "    ]\n",
    ")\n"
   ]
  },
  {
   "cell_type": "code",
   "execution_count": 17,
   "id": "bH9wezNce8oX",
   "metadata": {
    "colab": {
     "base_uri": "https://localhost:8080/",
     "height": 927
    },
    "id": "bH9wezNce8oX",
    "outputId": "cdf9c4b0-a27f-495a-82f8-87a144733cc9"
   },
   "outputs": [
    {
     "data": {
      "image/png": "[encoded data removed]",
      "text/plain": [
       "<Figure size 640x480 with 1 Axes>"
      ]
     },
     "metadata": {},
     "output_type": "display_data"
    },
    {
     "data": {
      "image/png": "[encoded data removed]",
      "text/plain": [
       "<Figure size 640x480 with 1 Axes>"
      ]
     },
     "metadata": {},
     "output_type": "display_data"
    }
   ],
   "source": [
    "utils.plot_history(history)"
   ]
  },
  {
   "cell_type": "markdown",
   "id": "fNSULGiPvb4N",
   "metadata": {
    "id": "fNSULGiPvb4N"
   },
   "source": [
    "## Retrain on training and validation"
   ]
  },
  {
   "cell_type": "markdown",
   "id": "0TBchWKt0rQA",
   "metadata": {
    "id": "0TBchWKt0rQA"
   },
   "source": [
    "Before testing our model, we retrain it on training and validation set using the best hyperparams found by the random search"
   ]
  },
  {
   "cell_type": "code",
   "execution_count": 18,
   "id": "sD6gFZqHve4a",
   "metadata": {
    "id": "sD6gFZqHve4a"
   },
   "outputs": [],
   "source": [
    "final_model = build_model_with_hp(\n",
    "    lstm_units = 4,\n",
    "    l1_units = 40,\n",
    "    l2_units = 30,\n",
    "    l3_units = 40,\n",
    "    l2_value = 1e-6,\n",
    "    dropout_rate = 0.1,\n",
    "    learning_rate = 1e-4,\n",
    "    epsilon = 1e-7,\n",
    "    clipnorm = 0.1\n",
    ")\n",
    "\n",
    "max_epochs = 30"
   ]
  },
  {
   "cell_type": "code",
   "execution_count": 19,
   "id": "XlHncSAHwGhp",
   "metadata": {
    "colab": {
     "base_uri": "https://localhost:8080/"
    },
    "id": "XlHncSAHwGhp",
    "outputId": "469b3002-5674-44b7-d186-b71816a70037"
   },
   "outputs": [
    {
     "name": "stdout",
     "output_type": "stream",
     "text": [
      "Training model with https://tfhub.dev/google/universal-sentence-encoder-multilingual/3\n",
      "Epoch 1/30\n",
      "52/52 [==============================] - 13s 45ms/step - loss: 0.6934 - accuracy: 0.4931\n",
      "Epoch 2/30\n",
      "52/52 [==============================] - 2s 43ms/step - loss: 0.6931 - accuracy: 0.5082\n",
      "Epoch 3/30\n",
      "52/52 [==============================] - 2s 29ms/step - loss: 0.6925 - accuracy: 0.5408\n",
      "Epoch 4/30\n",
      "52/52 [==============================] - 1s 28ms/step - loss: 0.6907 - accuracy: 0.6387\n",
      "Epoch 5/30\n",
      "52/52 [==============================] - 1s 28ms/step - loss: 0.6872 - accuracy: 0.6719\n",
      "Epoch 6/30\n",
      "52/52 [==============================] - 1s 27ms/step - loss: 0.6813 - accuracy: 0.7021\n",
      "Epoch 7/30\n",
      "52/52 [==============================] - 1s 27ms/step - loss: 0.6737 - accuracy: 0.7160\n",
      "Epoch 8/30\n",
      "52/52 [==============================] - 1s 28ms/step - loss: 0.6629 - accuracy: 0.7323\n",
      "Epoch 9/30\n",
      "52/52 [==============================] - 2s 32ms/step - loss: 0.6464 - accuracy: 0.7372\n",
      "Epoch 10/30\n",
      "52/52 [==============================] - 2s 46ms/step - loss: 0.6295 - accuracy: 0.7420\n",
      "Epoch 11/30\n",
      "52/52 [==============================] - 2s 38ms/step - loss: 0.6077 - accuracy: 0.7480\n",
      "Epoch 12/30\n",
      "52/52 [==============================] - 1s 28ms/step - loss: 0.5865 - accuracy: 0.7577\n",
      "Epoch 13/30\n",
      "52/52 [==============================] - 1s 29ms/step - loss: 0.5657 - accuracy: 0.7583\n",
      "Epoch 14/30\n",
      "52/52 [==============================] - 1s 28ms/step - loss: 0.5469 - accuracy: 0.7680\n",
      "Epoch 15/30\n",
      "52/52 [==============================] - 1s 28ms/step - loss: 0.5314 - accuracy: 0.7644\n",
      "Epoch 16/30\n",
      "52/52 [==============================] - 1s 28ms/step - loss: 0.5202 - accuracy: 0.7716\n",
      "Epoch 17/30\n",
      "52/52 [==============================] - 1s 28ms/step - loss: 0.5034 - accuracy: 0.7716\n",
      "Epoch 18/30\n",
      "52/52 [==============================] - 2s 40ms/step - loss: 0.5003 - accuracy: 0.7704\n",
      "Epoch 19/30\n",
      "52/52 [==============================] - 2s 45ms/step - loss: 0.4858 - accuracy: 0.7807\n",
      "Epoch 20/30\n",
      "52/52 [==============================] - 2s 31ms/step - loss: 0.4765 - accuracy: 0.7819\n",
      "Epoch 21/30\n",
      "52/52 [==============================] - 1s 29ms/step - loss: 0.4752 - accuracy: 0.7855\n",
      "Epoch 22/30\n",
      "52/52 [==============================] - 1s 28ms/step - loss: 0.4653 - accuracy: 0.7909\n",
      "Epoch 23/30\n",
      "52/52 [==============================] - 1s 29ms/step - loss: 0.4600 - accuracy: 0.7879\n",
      "Epoch 24/30\n",
      "52/52 [==============================] - 1s 29ms/step - loss: 0.4540 - accuracy: 0.7885\n",
      "Epoch 25/30\n",
      "52/52 [==============================] - 2s 29ms/step - loss: 0.4493 - accuracy: 0.7994\n",
      "Epoch 26/30\n",
      "52/52 [==============================] - 2s 32ms/step - loss: 0.4484 - accuracy: 0.7994\n",
      "Epoch 27/30\n",
      "52/52 [==============================] - 2s 46ms/step - loss: 0.4481 - accuracy: 0.8000\n",
      "Epoch 28/30\n",
      "52/52 [==============================] - 2s 38ms/step - loss: 0.4431 - accuracy: 0.8079\n",
      "Epoch 29/30\n",
      "52/52 [==============================] - 1s 28ms/step - loss: 0.4399 - accuracy: 0.8018\n",
      "Epoch 30/30\n",
      "52/52 [==============================] - 2s 29ms/step - loss: 0.4329 - accuracy: 0.8073\n",
      "CPU times: user 1min 2s, sys: 2.86 s, total: 1min 5s\n",
      "Wall time: 1min 1s\n"
     ]
    }
   ],
   "source": [
    "%%time\n",
    "print(f'Training model with {tfhub_handle_encoder}')\n",
    "history = final_model.fit(\n",
    "    x = trainval[\"comment_text\"],\n",
    "    y = trainval[\"conspiratorial\"],\n",
    "    epochs=max_epochs,\n",
    "    batch_size = 32,\n",
    ")\n"
   ]
  },
  {
   "cell_type": "code",
   "execution_count": 20,
   "id": "t7PUXtHYCVHL",
   "metadata": {
    "colab": {
     "base_uri": "https://localhost:8080/"
    },
    "id": "t7PUXtHYCVHL",
    "outputId": "3c5c6723-3986-4e8a-bc32-4889cdd5f2a7"
   },
   "outputs": [
    {
     "name": "stdout",
     "output_type": "stream",
     "text": [
      "Model: \"model_3\"\n",
      "_________________________________________________________________\n",
      " Layer (type)                Output Shape              Param #   \n",
      "=================================================================\n",
      " text (InputLayer)           [(None,)]                 0         \n",
      "                                                                 \n",
      " text_encoder (KerasLayer)   (None, 512)               68927232  \n",
      "                                                                 \n",
      " tf.expand_dims_3 (TFOpLambd  (None, 1, 512)           0         \n",
      " a)                                                              \n",
      "                                                                 \n",
      " BiLSTM_layer (Bidirectional  (None, 8)                16544     \n",
      " )                                                               \n",
      "                                                                 \n",
      " Dense_layer_1 (Dense)       (None, 40)                360       \n",
      "                                                                 \n",
      " dropout_9 (Dropout)         (None, 40)                0         \n",
      "                                                                 \n",
      " Dense_layer_2 (Dense)       (None, 30)                1230      \n",
      "                                                                 \n",
      " dropout_10 (Dropout)        (None, 30)                0         \n",
      "                                                                 \n",
      " Dense_layer_3 (Dense)       (None, 40)                1240      \n",
      "                                                                 \n",
      " dropout_11 (Dropout)        (None, 40)                0         \n",
      "                                                                 \n",
      " classifier (Dense)          (None, 1)                 41        \n",
      "                                                                 \n",
      "=================================================================\n",
      "Total params: 68,946,647\n",
      "Trainable params: 19,415\n",
      "Non-trainable params: 68,927,232\n",
      "_________________________________________________________________\n"
     ]
    }
   ],
   "source": [
    "final_model.summary()"
   ]
  },
  {
   "cell_type": "markdown",
   "id": "Sqg5olB_wryB",
   "metadata": {
    "id": "Sqg5olB_wryB"
   },
   "source": [
    "## Predict on test set"
   ]
  },
  {
   "cell_type": "code",
   "execution_count": 21,
   "id": "PGYUmYvNwvJ-",
   "metadata": {
    "colab": {
     "base_uri": "https://localhost:8080/"
    },
    "id": "PGYUmYvNwvJ-",
    "outputId": "80f3e1a9-3901-413b-f025-520be27af25a"
   },
   "outputs": [
    {
     "name": "stdout",
     "output_type": "stream",
     "text": [
      "6/6 [==============================] - 2s 29ms/step - loss: 0.4346 - accuracy: 0.8054\n"
     ]
    }
   ],
   "source": [
    "_ = final_model.evaluate(\n",
    "    x=test[\"comment_text\"],\n",
    "    y=test[\"conspiratorial\"],\n",
    "    batch_size=32\n",
    ")"
   ]
  },
  {
   "cell_type": "code",
   "execution_count": 22,
   "id": "sYjxSxoYxDoE",
   "metadata": {
    "colab": {
     "base_uri": "https://localhost:8080/",
     "height": 484
    },
    "id": "sYjxSxoYxDoE",
    "outputId": "51c0f337-463b-40d0-e591-8ceb2d8e0204"
   },
   "outputs": [
    {
     "name": "stdout",
     "output_type": "stream",
     "text": [
      "6/6 [==============================] - 2s 24ms/step\n"
     ]
    },
    {
     "data": {
      "text/plain": [
       "<sklearn.metrics._plot.confusion_matrix.ConfusionMatrixDisplay at 0x7f772d273b80>"
      ]
     },
     "execution_count": 22,
     "metadata": {},
     "output_type": "execute_result"
    },
    {
     "data": {
      "image/png": "[encoded data removed]",
      "text/plain": [
       "<Figure size 640x480 with 2 Axes>"
      ]
     },
     "metadata": {},
     "output_type": "display_data"
    }
   ],
   "source": [
    "predictions = final_model.predict(x=test[\"comment_text\"])\n",
    "predictions = list(map(round, [ _[0] for _ in predictions]))\n",
    "\n",
    "cm = confusion_matrix(test[\"conspiratorial\"], predictions)\n",
    "disp = ConfusionMatrixDisplay(confusion_matrix=cm, display_labels=[\"Non conspiratorial\", \"conspiratorial\"])\n",
    "disp.plot()"
   ]
  },
  {
   "cell_type": "code",
   "execution_count": null,
   "id": "pxGDPYJp_SAu",
   "metadata": {
    "id": "pxGDPYJp_SAu"
   },
   "outputs": [],
   "source": []
  }
 ],
 "metadata": {
  "accelerator": "GPU",
  "colab": {
   "gpuType": "T4",
   "provenance": []
  },
  "kernelspec": {
   "display_name": "Python 3 (ipykernel)",
   "language": "python",
   "name": "python3"
  },
  "language_info": {
   "codemirror_mode": {
    "name": "ipython",
    "version": 3
   },
   "file_extension": ".py",
   "mimetype": "text/x-python",
   "name": "python",
   "nbconvert_exporter": "python",
   "pygments_lexer": "ipython3",
   "version": "3.10.6"
  }
 },
 "nbformat": 4,
 "nbformat_minor": 5
}
