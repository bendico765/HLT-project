{
  "cells": [
    {
      "cell_type": "code",
      "source": [
        "!pip install transformers\n",
        "!pip install keras_tuner\n",
        "!pip install tensorflow_text"
      ],
      "metadata": {
        "colab": {
          "base_uri": "https://localhost:8080/"
        },
        "id": "ISevNR3ePivs",
        "outputId": "d0e0b12c-e9af-46f9-f773-2bb6a65c1ed6"
      },
      "id": "ISevNR3ePivs",
      "execution_count": 44,
      "outputs": [
        {
          "output_type": "stream",
          "name": "stdout",
          "text": [
            "Looking in indexes: https://pypi.org/simple, https://us-python.pkg.dev/colab-wheels/public/simple/\n",
            "Requirement already satisfied: transformers in /usr/local/lib/python3.10/dist-packages (4.30.2)\n",
            "Requirement already satisfied: filelock in /usr/local/lib/python3.10/dist-packages (from transformers) (3.12.0)\n",
            "Requirement already satisfied: huggingface-hub<1.0,>=0.14.1 in /usr/local/lib/python3.10/dist-packages (from transformers) (0.15.1)\n",
            "Requirement already satisfied: numpy>=1.17 in /usr/local/lib/python3.10/dist-packages (from transformers) (1.22.4)\n",
            "Requirement already satisfied: packaging>=20.0 in /usr/local/lib/python3.10/dist-packages (from transformers) (23.1)\n",
            "Requirement already satisfied: pyyaml>=5.1 in /usr/local/lib/python3.10/dist-packages (from transformers) (6.0)\n",
            "Requirement already satisfied: regex!=2019.12.17 in /usr/local/lib/python3.10/dist-packages (from transformers) (2022.10.31)\n",
            "Requirement already satisfied: requests in /usr/local/lib/python3.10/dist-packages (from transformers) (2.27.1)\n",
            "Requirement already satisfied: tokenizers!=0.11.3,<0.14,>=0.11.1 in /usr/local/lib/python3.10/dist-packages (from transformers) (0.13.3)\n",
            "Requirement already satisfied: safetensors>=0.3.1 in /usr/local/lib/python3.10/dist-packages (from transformers) (0.3.1)\n",
            "Requirement already satisfied: tqdm>=4.27 in /usr/local/lib/python3.10/dist-packages (from transformers) (4.65.0)\n",
            "Requirement already satisfied: fsspec in /usr/local/lib/python3.10/dist-packages (from huggingface-hub<1.0,>=0.14.1->transformers) (2023.4.0)\n",
            "Requirement already satisfied: typing-extensions>=3.7.4.3 in /usr/local/lib/python3.10/dist-packages (from huggingface-hub<1.0,>=0.14.1->transformers) (4.5.0)\n",
            "Requirement already satisfied: urllib3<1.27,>=1.21.1 in /usr/local/lib/python3.10/dist-packages (from requests->transformers) (1.26.15)\n",
            "Requirement already satisfied: certifi>=2017.4.17 in /usr/local/lib/python3.10/dist-packages (from requests->transformers) (2022.12.7)\n",
            "Requirement already satisfied: charset-normalizer~=2.0.0 in /usr/local/lib/python3.10/dist-packages (from requests->transformers) (2.0.12)\n",
            "Requirement already satisfied: idna<4,>=2.5 in /usr/local/lib/python3.10/dist-packages (from requests->transformers) (3.4)\n",
            "Looking in indexes: https://pypi.org/simple, https://us-python.pkg.dev/colab-wheels/public/simple/\n",
            "Requirement already satisfied: keras_tuner in /usr/local/lib/python3.10/dist-packages (1.3.5)\n",
            "Requirement already satisfied: packaging in /usr/local/lib/python3.10/dist-packages (from keras_tuner) (23.1)\n",
            "Requirement already satisfied: requests in /usr/local/lib/python3.10/dist-packages (from keras_tuner) (2.27.1)\n",
            "Requirement already satisfied: kt-legacy in /usr/local/lib/python3.10/dist-packages (from keras_tuner) (1.0.5)\n",
            "Requirement already satisfied: urllib3<1.27,>=1.21.1 in /usr/local/lib/python3.10/dist-packages (from requests->keras_tuner) (1.26.15)\n",
            "Requirement already satisfied: certifi>=2017.4.17 in /usr/local/lib/python3.10/dist-packages (from requests->keras_tuner) (2022.12.7)\n",
            "Requirement already satisfied: charset-normalizer~=2.0.0 in /usr/local/lib/python3.10/dist-packages (from requests->keras_tuner) (2.0.12)\n",
            "Requirement already satisfied: idna<4,>=2.5 in /usr/local/lib/python3.10/dist-packages (from requests->keras_tuner) (3.4)\n",
            "Looking in indexes: https://pypi.org/simple, https://us-python.pkg.dev/colab-wheels/public/simple/\n",
            "Requirement already satisfied: tensorflow_text in /usr/local/lib/python3.10/dist-packages (2.12.1)\n",
            "Requirement already satisfied: tensorflow-hub>=0.8.0 in /usr/local/lib/python3.10/dist-packages (from tensorflow_text) (0.13.0)\n",
            "Requirement already satisfied: tensorflow<2.13,>=2.12.0 in /usr/local/lib/python3.10/dist-packages (from tensorflow_text) (2.12.0)\n",
            "Requirement already satisfied: absl-py>=1.0.0 in /usr/local/lib/python3.10/dist-packages (from tensorflow<2.13,>=2.12.0->tensorflow_text) (1.4.0)\n",
            "Requirement already satisfied: astunparse>=1.6.0 in /usr/local/lib/python3.10/dist-packages (from tensorflow<2.13,>=2.12.0->tensorflow_text) (1.6.3)\n",
            "Requirement already satisfied: flatbuffers>=2.0 in /usr/local/lib/python3.10/dist-packages (from tensorflow<2.13,>=2.12.0->tensorflow_text) (23.3.3)\n",
            "Requirement already satisfied: gast<=0.4.0,>=0.2.1 in /usr/local/lib/python3.10/dist-packages (from tensorflow<2.13,>=2.12.0->tensorflow_text) (0.4.0)\n",
            "Requirement already satisfied: google-pasta>=0.1.1 in /usr/local/lib/python3.10/dist-packages (from tensorflow<2.13,>=2.12.0->tensorflow_text) (0.2.0)\n",
            "Requirement already satisfied: grpcio<2.0,>=1.24.3 in /usr/local/lib/python3.10/dist-packages (from tensorflow<2.13,>=2.12.0->tensorflow_text) (1.54.0)\n",
            "Requirement already satisfied: h5py>=2.9.0 in /usr/local/lib/python3.10/dist-packages (from tensorflow<2.13,>=2.12.0->tensorflow_text) (3.8.0)\n",
            "Requirement already satisfied: jax>=0.3.15 in /usr/local/lib/python3.10/dist-packages (from tensorflow<2.13,>=2.12.0->tensorflow_text) (0.4.10)\n",
            "Requirement already satisfied: keras<2.13,>=2.12.0 in /usr/local/lib/python3.10/dist-packages (from tensorflow<2.13,>=2.12.0->tensorflow_text) (2.12.0)\n",
            "Requirement already satisfied: libclang>=13.0.0 in /usr/local/lib/python3.10/dist-packages (from tensorflow<2.13,>=2.12.0->tensorflow_text) (16.0.0)\n",
            "Requirement already satisfied: numpy<1.24,>=1.22 in /usr/local/lib/python3.10/dist-packages (from tensorflow<2.13,>=2.12.0->tensorflow_text) (1.22.4)\n",
            "Requirement already satisfied: opt-einsum>=2.3.2 in /usr/local/lib/python3.10/dist-packages (from tensorflow<2.13,>=2.12.0->tensorflow_text) (3.3.0)\n",
            "Requirement already satisfied: packaging in /usr/local/lib/python3.10/dist-packages (from tensorflow<2.13,>=2.12.0->tensorflow_text) (23.1)\n",
            "Requirement already satisfied: protobuf!=4.21.0,!=4.21.1,!=4.21.2,!=4.21.3,!=4.21.4,!=4.21.5,<5.0.0dev,>=3.20.3 in /usr/local/lib/python3.10/dist-packages (from tensorflow<2.13,>=2.12.0->tensorflow_text) (3.20.3)\n",
            "Requirement already satisfied: setuptools in /usr/local/lib/python3.10/dist-packages (from tensorflow<2.13,>=2.12.0->tensorflow_text) (67.7.2)\n",
            "Requirement already satisfied: six>=1.12.0 in /usr/local/lib/python3.10/dist-packages (from tensorflow<2.13,>=2.12.0->tensorflow_text) (1.16.0)\n",
            "Requirement already satisfied: tensorboard<2.13,>=2.12 in /usr/local/lib/python3.10/dist-packages (from tensorflow<2.13,>=2.12.0->tensorflow_text) (2.12.2)\n",
            "Requirement already satisfied: tensorflow-estimator<2.13,>=2.12.0 in /usr/local/lib/python3.10/dist-packages (from tensorflow<2.13,>=2.12.0->tensorflow_text) (2.12.0)\n",
            "Requirement already satisfied: termcolor>=1.1.0 in /usr/local/lib/python3.10/dist-packages (from tensorflow<2.13,>=2.12.0->tensorflow_text) (2.3.0)\n",
            "Requirement already satisfied: typing-extensions>=3.6.6 in /usr/local/lib/python3.10/dist-packages (from tensorflow<2.13,>=2.12.0->tensorflow_text) (4.5.0)\n",
            "Requirement already satisfied: wrapt<1.15,>=1.11.0 in /usr/local/lib/python3.10/dist-packages (from tensorflow<2.13,>=2.12.0->tensorflow_text) (1.14.1)\n",
            "Requirement already satisfied: tensorflow-io-gcs-filesystem>=0.23.1 in /usr/local/lib/python3.10/dist-packages (from tensorflow<2.13,>=2.12.0->tensorflow_text) (0.32.0)\n",
            "Requirement already satisfied: wheel<1.0,>=0.23.0 in /usr/local/lib/python3.10/dist-packages (from astunparse>=1.6.0->tensorflow<2.13,>=2.12.0->tensorflow_text) (0.40.0)\n",
            "Requirement already satisfied: ml-dtypes>=0.1.0 in /usr/local/lib/python3.10/dist-packages (from jax>=0.3.15->tensorflow<2.13,>=2.12.0->tensorflow_text) (0.1.0)\n",
            "Requirement already satisfied: scipy>=1.7 in /usr/local/lib/python3.10/dist-packages (from jax>=0.3.15->tensorflow<2.13,>=2.12.0->tensorflow_text) (1.10.1)\n",
            "Requirement already satisfied: google-auth<3,>=1.6.3 in /usr/local/lib/python3.10/dist-packages (from tensorboard<2.13,>=2.12->tensorflow<2.13,>=2.12.0->tensorflow_text) (2.17.3)\n",
            "Requirement already satisfied: google-auth-oauthlib<1.1,>=0.5 in /usr/local/lib/python3.10/dist-packages (from tensorboard<2.13,>=2.12->tensorflow<2.13,>=2.12.0->tensorflow_text) (1.0.0)\n",
            "Requirement already satisfied: markdown>=2.6.8 in /usr/local/lib/python3.10/dist-packages (from tensorboard<2.13,>=2.12->tensorflow<2.13,>=2.12.0->tensorflow_text) (3.4.3)\n",
            "Requirement already satisfied: requests<3,>=2.21.0 in /usr/local/lib/python3.10/dist-packages (from tensorboard<2.13,>=2.12->tensorflow<2.13,>=2.12.0->tensorflow_text) (2.27.1)\n",
            "Requirement already satisfied: tensorboard-data-server<0.8.0,>=0.7.0 in /usr/local/lib/python3.10/dist-packages (from tensorboard<2.13,>=2.12->tensorflow<2.13,>=2.12.0->tensorflow_text) (0.7.0)\n",
            "Requirement already satisfied: tensorboard-plugin-wit>=1.6.0 in /usr/local/lib/python3.10/dist-packages (from tensorboard<2.13,>=2.12->tensorflow<2.13,>=2.12.0->tensorflow_text) (1.8.1)\n",
            "Requirement already satisfied: werkzeug>=1.0.1 in /usr/local/lib/python3.10/dist-packages (from tensorboard<2.13,>=2.12->tensorflow<2.13,>=2.12.0->tensorflow_text) (2.3.0)\n",
            "Requirement already satisfied: cachetools<6.0,>=2.0.0 in /usr/local/lib/python3.10/dist-packages (from google-auth<3,>=1.6.3->tensorboard<2.13,>=2.12->tensorflow<2.13,>=2.12.0->tensorflow_text) (5.3.0)\n",
            "Requirement already satisfied: pyasn1-modules>=0.2.1 in /usr/local/lib/python3.10/dist-packages (from google-auth<3,>=1.6.3->tensorboard<2.13,>=2.12->tensorflow<2.13,>=2.12.0->tensorflow_text) (0.3.0)\n",
            "Requirement already satisfied: rsa<5,>=3.1.4 in /usr/local/lib/python3.10/dist-packages (from google-auth<3,>=1.6.3->tensorboard<2.13,>=2.12->tensorflow<2.13,>=2.12.0->tensorflow_text) (4.9)\n",
            "Requirement already satisfied: requests-oauthlib>=0.7.0 in /usr/local/lib/python3.10/dist-packages (from google-auth-oauthlib<1.1,>=0.5->tensorboard<2.13,>=2.12->tensorflow<2.13,>=2.12.0->tensorflow_text) (1.3.1)\n",
            "Requirement already satisfied: urllib3<1.27,>=1.21.1 in /usr/local/lib/python3.10/dist-packages (from requests<3,>=2.21.0->tensorboard<2.13,>=2.12->tensorflow<2.13,>=2.12.0->tensorflow_text) (1.26.15)\n",
            "Requirement already satisfied: certifi>=2017.4.17 in /usr/local/lib/python3.10/dist-packages (from requests<3,>=2.21.0->tensorboard<2.13,>=2.12->tensorflow<2.13,>=2.12.0->tensorflow_text) (2022.12.7)\n",
            "Requirement already satisfied: charset-normalizer~=2.0.0 in /usr/local/lib/python3.10/dist-packages (from requests<3,>=2.21.0->tensorboard<2.13,>=2.12->tensorflow<2.13,>=2.12.0->tensorflow_text) (2.0.12)\n",
            "Requirement already satisfied: idna<4,>=2.5 in /usr/local/lib/python3.10/dist-packages (from requests<3,>=2.21.0->tensorboard<2.13,>=2.12->tensorflow<2.13,>=2.12.0->tensorflow_text) (3.4)\n",
            "Requirement already satisfied: MarkupSafe>=2.1.1 in /usr/local/lib/python3.10/dist-packages (from werkzeug>=1.0.1->tensorboard<2.13,>=2.12->tensorflow<2.13,>=2.12.0->tensorflow_text) (2.1.2)\n",
            "Requirement already satisfied: pyasn1<0.6.0,>=0.4.6 in /usr/local/lib/python3.10/dist-packages (from pyasn1-modules>=0.2.1->google-auth<3,>=1.6.3->tensorboard<2.13,>=2.12->tensorflow<2.13,>=2.12.0->tensorflow_text) (0.5.0)\n",
            "Requirement already satisfied: oauthlib>=3.0.0 in /usr/local/lib/python3.10/dist-packages (from requests-oauthlib>=0.7.0->google-auth-oauthlib<1.1,>=0.5->tensorboard<2.13,>=2.12->tensorflow<2.13,>=2.12.0->tensorflow_text) (3.2.2)\n"
          ]
        }
      ]
    },
    {
      "cell_type": "code",
      "execution_count": 45,
      "id": "7f8decb4",
      "metadata": {
        "id": "7f8decb4"
      },
      "outputs": [],
      "source": [
        "import os\n",
        "os.environ['TF_CPP_MIN_LOG_LEVEL'] = '3'"
      ]
    },
    {
      "cell_type": "code",
      "execution_count": 46,
      "id": "2e38acd0",
      "metadata": {
        "id": "2e38acd0"
      },
      "outputs": [],
      "source": [
        "import pandas as pd\n",
        "import numpy as np\n",
        "import utils\n",
        "\n",
        "from sklearn.model_selection import train_test_split\n",
        "from sklearn.metrics import confusion_matrix, ConfusionMatrixDisplay\n",
        "\n",
        "from transformers import AutoTokenizer, TFBertModel\n",
        "\n",
        "import tensorflow as tf\n",
        "import tensorflow_hub as hub\n",
        "import tensorflow_text as text\n",
        "from tensorflow.keras.optimizers import Adam\n",
        "import keras_tuner as kt\n",
        "from keras.models import Model, Sequential\n",
        "from keras.layers import Input, Dense, Dropout, Embedding, LSTM, Bidirectional, GRU\n",
        "from tensorflow.keras import regularizers\n",
        "from keras.callbacks import EarlyStopping, ReduceLROnPlateau\n",
        "\n",
        "import matplotlib.pyplot as plt"
      ]
    },
    {
      "cell_type": "markdown",
      "source": [
        "Using GPU if available"
      ],
      "metadata": {
        "id": "g5MgZ8c5yXT2"
      },
      "id": "g5MgZ8c5yXT2"
    },
    {
      "cell_type": "code",
      "source": [
        "device_name = tf.test.gpu_device_name()\n",
        "if device_name != '/device:GPU:0':\n",
        "  raise SystemError('GPU device not found')\n",
        "print('Found GPU at: {}'.format(device_name))"
      ],
      "metadata": {
        "colab": {
          "base_uri": "https://localhost:8080/"
        },
        "id": "6z9aWJ8IP9gZ",
        "outputId": "2d9c72bc-f303-41d1-82a1-2b1bd9ab2f17"
      },
      "id": "6z9aWJ8IP9gZ",
      "execution_count": 47,
      "outputs": [
        {
          "output_type": "stream",
          "name": "stdout",
          "text": [
            "Found GPU at: /device:GPU:0\n"
          ]
        }
      ]
    },
    {
      "cell_type": "markdown",
      "source": [
        "# Preprocessing"
      ],
      "metadata": {
        "id": "CIKEQMZggxiw"
      },
      "id": "CIKEQMZggxiw"
    },
    {
      "cell_type": "markdown",
      "source": [
        "The primary data for the competition is, in each provided file, the *comment_text* column. This contains the text of a comment which has been labeled as **Conspiratorial** (1) or **non-conspiratorial** (0). The train set’s comments are entirely in Italian with sporadic citation of external resources in English and come exclusively from Telegram Channels.\n",
        "\n",
        "The **subtaskA_train.csv** contains a *conspiratorial* column that it is the target to be trained on. The values of such column are either 1 indicating that the corresponding comment in *comment_text* column is Conspiratorial. Otherwise it is 0."
      ],
      "metadata": {
        "id": "t0z-sGiVnySB"
      },
      "id": "t0z-sGiVnySB"
    },
    {
      "cell_type": "markdown",
      "source": [
        "## Loading dataset"
      ],
      "metadata": {
        "id": "oCyO4VY-g7KK"
      },
      "id": "oCyO4VY-g7KK"
    },
    {
      "cell_type": "code",
      "execution_count": 48,
      "id": "918edc94",
      "metadata": {
        "id": "918edc94"
      },
      "outputs": [],
      "source": [
        "df = pd.read_csv(\"subtaskA_train.csv\")"
      ]
    },
    {
      "cell_type": "code",
      "execution_count": 49,
      "id": "786c8b41",
      "metadata": {
        "colab": {
          "base_uri": "https://localhost:8080/"
        },
        "id": "786c8b41",
        "outputId": "a16333e4-40dc-441f-f886-d77b0252bcd9"
      },
      "outputs": [
        {
          "output_type": "stream",
          "name": "stdout",
          "text": [
            "<class 'pandas.core.frame.DataFrame'>\n",
            "RangeIndex: 1842 entries, 0 to 1841\n",
            "Data columns (total 3 columns):\n",
            " #   Column          Non-Null Count  Dtype \n",
            "---  ------          --------------  ----- \n",
            " 0   Id              1842 non-null   int64 \n",
            " 1   comment_text    1842 non-null   object\n",
            " 2   conspiratorial  1842 non-null   int64 \n",
            "dtypes: int64(2), object(1)\n",
            "memory usage: 43.3+ KB\n"
          ]
        }
      ],
      "source": [
        "df.info()"
      ]
    },
    {
      "cell_type": "markdown",
      "source": [
        "By plotting the distribution for text length, we can see that the majority of messages have a short length, showing a power law distribution."
      ],
      "metadata": {
        "id": "_8DBDGMnoEPf"
      },
      "id": "_8DBDGMnoEPf"
    },
    {
      "cell_type": "code",
      "execution_count": 50,
      "id": "55a512ba",
      "metadata": {
        "scrolled": true,
        "colab": {
          "base_uri": "https://localhost:8080/",
          "height": 447
        },
        "id": "55a512ba",
        "outputId": "7d9c8400-febc-4685-a6f4-1728e9e9e708"
      },
      "outputs": [
        {
          "output_type": "execute_result",
          "data": {
            "text/plain": [
              "<Axes: >"
            ]
          },
          "metadata": {},
          "execution_count": 50
        },
        {
          "output_type": "display_data",
          "data": {
            "text/plain": [
              "<Figure size 640x480 with 1 Axes>"
            ],
            "image/png": "[encoded data removed]"
          },
          "metadata": {}
        }
      ],
      "source": [
        "df[\"comment_text\"].map(len).hist()"
      ]
    },
    {
      "cell_type": "markdown",
      "source": [
        "The labels are well-balanced."
      ],
      "metadata": {
        "id": "6PZaZuUtqXSh"
      },
      "id": "6PZaZuUtqXSh"
    },
    {
      "cell_type": "code",
      "execution_count": 51,
      "id": "2f575033",
      "metadata": {
        "colab": {
          "base_uri": "https://localhost:8080/",
          "height": 447
        },
        "id": "2f575033",
        "outputId": "7857e108-4b50-4c2e-f946-d4d0c90b1f48"
      },
      "outputs": [
        {
          "output_type": "execute_result",
          "data": {
            "text/plain": [
              "<Axes: >"
            ]
          },
          "metadata": {},
          "execution_count": 51
        },
        {
          "output_type": "display_data",
          "data": {
            "text/plain": [
              "<Figure size 640x480 with 1 Axes>"
            ],
            "image/png": "[encoded data removed]"
          },
          "metadata": {}
        }
      ],
      "source": [
        "df[\"conspiratorial\"].hist()"
      ]
    },
    {
      "cell_type": "markdown",
      "id": "db2a186c",
      "metadata": {
        "id": "db2a186c"
      },
      "source": [
        "## Building train and test set"
      ]
    },
    {
      "cell_type": "markdown",
      "source": [
        "Assigning 10% of the data to the test set, specifying (using the parameter _stratify_) that the dataset has to be balanced regarding the label \"conspirational\""
      ],
      "metadata": {
        "id": "zFt3Xh5RzRw3"
      },
      "id": "zFt3Xh5RzRw3"
    },
    {
      "cell_type": "code",
      "execution_count": 52,
      "id": "4e2bee79",
      "metadata": {
        "id": "4e2bee79"
      },
      "outputs": [],
      "source": [
        "X = df[\"comment_text\"]\n",
        "y = df[\"conspiratorial\"]"
      ]
    },
    {
      "cell_type": "code",
      "execution_count": 53,
      "id": "75143b88",
      "metadata": {
        "id": "75143b88"
      },
      "outputs": [],
      "source": [
        "X_train, X_test, y_train, y_test = train_test_split(X, y, stratify = y, test_size = 0.10, random_state = 10)"
      ]
    },
    {
      "cell_type": "markdown",
      "source": [
        "# Model training"
      ],
      "metadata": {
        "id": "uBY2RcXqzv4C"
      },
      "id": "uBY2RcXqzv4C"
    },
    {
      "cell_type": "markdown",
      "source": [
        "## Architecture definition"
      ],
      "metadata": {
        "id": "xCRFhy9lrFAG"
      },
      "id": "xCRFhy9lrFAG"
    },
    {
      "cell_type": "markdown",
      "source": [
        "In this notebook the task has been addressed by using the [**Multilingual Universal Sentence Encoder**](https://arxiv.org/pdf/1907.04307.pdf). It's a multilingual text encoder trained by Google on 16 languages (including italian) and freely available on [TensorFlow Hub](https://tfhub.dev/google/universal-sentence-encoder-multilingual/3).\n",
        "\n",
        "This encoder relies on [SentencePiece](https://aclanthology.org/D18-2012.pdf) tokenizer."
      ],
      "metadata": {
        "id": "Y4YRVqpgrtII"
      },
      "id": "Y4YRVqpgrtII"
    },
    {
      "cell_type": "code",
      "execution_count": 54,
      "id": "f50931f8",
      "metadata": {
        "id": "f50931f8"
      },
      "outputs": [],
      "source": [
        "tfhub_handle_encoder = \"https://tfhub.dev/google/universal-sentence-encoder-multilingual/3\"\n",
        "tfhub_handle_preprocess = \"https://tfhub.dev/google/universal-sentence-encoder-multilingual/3\""
      ]
    },
    {
      "cell_type": "code",
      "execution_count": 55,
      "id": "e95150b5",
      "metadata": {
        "id": "e95150b5"
      },
      "outputs": [],
      "source": [
        "def build_model_with_hp(\n",
        "    lstm_units: int,\n",
        "    l1_units: int,\n",
        "    l2_units: int,\n",
        "    l3_units: int,\n",
        "    l2_value: float,\n",
        "    dropout_rate: float,\n",
        "    learning_rate: float,\n",
        "    epsilon: float,\n",
        "    clipnorm: float\n",
        "):\n",
        "    # defining inputs\n",
        "    text_input = tf.keras.layers.Input(shape=(), dtype=tf.string, name='text')\n",
        "\n",
        "    # defining preprocessing\n",
        "    preprocessing_layer = hub.KerasLayer(tfhub_handle_preprocess, name='preprocessing')\n",
        "\n",
        "    # defining encoder\n",
        "    encoder = hub.KerasLayer(tfhub_handle_encoder, trainable=False, name='text_encoder')\n",
        "    net = encoder(text_input)\n",
        "\n",
        "    # Reshape net to add a time step dimension\n",
        "    net = tf.expand_dims(net, axis=1)\n",
        "\n",
        "    net = Bidirectional(LSTM(\n",
        "        units = lstm_units,\n",
        "        kernel_regularizer = regularizers.L2(l2_value),\n",
        "        dropout = dropout_rate\n",
        "    ), name = \"BiLSTM_layer\")(net)\n",
        "\n",
        "    # FULLY CONNECTED LAYERS\n",
        "\n",
        "    net = tf.keras.layers.Dense(\n",
        "        units = l1_units,\n",
        "        kernel_regularizer = regularizers.L2(l2_value),\n",
        "        activation = \"relu\",\n",
        "        name = \"Dense_layer_1\"\n",
        "    )(net)\n",
        "\n",
        "    net = Dropout(rate=dropout_rate)(net)\n",
        "\n",
        "    net = tf.keras.layers.Dense(\n",
        "        units = l2_units,\n",
        "        kernel_regularizer = regularizers.L2(l2_value),\n",
        "        activation=\"relu\",\n",
        "        name = \"Dense_layer_2\"\n",
        "    )(net)\n",
        "\n",
        "    net = Dropout(rate=dropout_rate)(net)\n",
        "\n",
        "    net = tf.keras.layers.Dense(\n",
        "        units = l3_units,\n",
        "        kernel_regularizer = regularizers.L2(l2_value),\n",
        "        activation=\"relu\",\n",
        "        name = \"Dense_layer_3\"\n",
        "    )(net)\n",
        "\n",
        "    net = Dropout(rate=dropout_rate)(net)\n",
        "\n",
        "    # OUTPUT LAYER\n",
        "    net = tf.keras.layers.Dense(\n",
        "        units = 1,\n",
        "        kernel_regularizer = regularizers.L2(l2_value),\n",
        "        activation = \"sigmoid\",\n",
        "        name = 'classifier'\n",
        "    )(net)\n",
        "\n",
        "    model = tf.keras.Model(text_input, net)\n",
        "\n",
        "    optimizer = Adam(\n",
        "        learning_rate = learning_rate,\n",
        "        epsilon = epsilon,\n",
        "        clipnorm = clipnorm\n",
        "    )\n",
        "\n",
        "    model.compile(\n",
        "        optimizer = optimizer,\n",
        "        loss = 'binary_crossentropy',\n",
        "        metrics = 'accuracy'\n",
        "    )\n",
        "\n",
        "    return model\n",
        "\n",
        "def build_classifier_model(hp):\n",
        "    lstm_units = hp.Int('lstm_units', min_value=4, max_value=10, step=1)\n",
        "    l1_units = hp.Int('l1_units', min_value=5, max_value=40, step=5)\n",
        "    l2_units = hp.Int('l2_units', min_value=5, max_value=40, step=5)\n",
        "    l3_units = hp.Int('l3_units', min_value=5, max_value=40, step=5)\n",
        "    l2_value = hp.Choice('L2 regularization', values = [1e-5, 1e-6])\n",
        "    dropout_rate = 0.1\n",
        "    learning_rate = hp.Choice('learning_rate', values=[1e-2, 1e-3, 1e-4])\n",
        "    epsilon = 1e-7\n",
        "    clipnorm = 0.1\n",
        "\n",
        "    return build_model_with_hp(lstm_units, l1_units, l2_units, l3_units, l2_value, dropout_rate, learning_rate, epsilon, clipnorm)"
      ]
    },
    {
      "cell_type": "markdown",
      "source": [
        "Along the model, we introduce 2 callbacks to support the model training:\n",
        "\n",
        "\n",
        "*   **ReduceLROnPlateau**: Reduce learning rate when a metric has stopped improving. Models often benefit from reducing the learning rate by a factor once learning stagnates. This callback monitors a quantity and if no improvement is seen for a 'patience' number of epochs, the learning rate is reduced.\n",
        "*   **EarlyStopping**: Stop training when a monitored metric has stopped improving.\n",
        "\n"
      ],
      "metadata": {
        "id": "ERg54-GbwwT0"
      },
      "id": "ERg54-GbwwT0"
    },
    {
      "cell_type": "code",
      "source": [
        "reduce_lr = ReduceLROnPlateau(\n",
        "    monitor=\"val_loss\",\n",
        "    factor=5e-2,\n",
        "    patience=5,\n",
        "    verbose=0,\n",
        "    mode=\"auto\",\n",
        "    min_delta=1e-3,\n",
        "    min_lr=1e-5\n",
        ")\n",
        "early_stopping = EarlyStopping(monitor='val_accuracy' ,mode='max', patience=20,verbose=False,restore_best_weights=True)"
      ],
      "metadata": {
        "id": "gKHk5YADlgbA"
      },
      "id": "gKHk5YADlgbA",
      "execution_count": 56,
      "outputs": []
    },
    {
      "cell_type": "markdown",
      "source": [
        "## Performing a random search of the hyperparameters"
      ],
      "metadata": {
        "id": "md00PvdQ0fmM"
      },
      "id": "md00PvdQ0fmM"
    },
    {
      "cell_type": "code",
      "execution_count": 57,
      "id": "7ae4ee76",
      "metadata": {
        "id": "7ae4ee76"
      },
      "outputs": [],
      "source": [
        "tuner = kt.RandomSearch(\n",
        "    hypermodel=build_classifier_model,\n",
        "    max_trials=10,\n",
        "    objective='val_accuracy',\n",
        "    overwrite=True\n",
        ")"
      ]
    },
    {
      "cell_type": "code",
      "execution_count": 58,
      "id": "5831c33f",
      "metadata": {
        "scrolled": true,
        "colab": {
          "base_uri": "https://localhost:8080/"
        },
        "id": "5831c33f",
        "outputId": "23c69f35-f409-4b31-c692-7e9f3d75d5ed"
      },
      "outputs": [
        {
          "output_type": "stream",
          "name": "stdout",
          "text": [
            "Trial 10 Complete [00h 01m 36s]\n",
            "val_accuracy: 0.7831325531005859\n",
            "\n",
            "Best val_accuracy So Far: 0.7861445546150208\n",
            "Total elapsed time: 00h 13m 22s\n"
          ]
        }
      ],
      "source": [
        "print(f'Training model with {tfhub_handle_encoder}')\n",
        "tuner.search(\n",
        "    x = X_train,\n",
        "    y = y_train,\n",
        "    epochs = 80,\n",
        "    validation_split = 0.2,\n",
        "    callbacks = [\n",
        "        reduce_lr,\n",
        "        early_stopping\n",
        "    ]\n",
        ")"
      ]
    },
    {
      "cell_type": "code",
      "source": [
        "tuner.results_summary(5)"
      ],
      "metadata": {
        "colab": {
          "base_uri": "https://localhost:8080/"
        },
        "id": "UrZ8wK_JmzhR",
        "outputId": "7d79dcdb-3c61-4b0f-e012-68f6cad891fc"
      },
      "id": "UrZ8wK_JmzhR",
      "execution_count": 59,
      "outputs": [
        {
          "output_type": "stream",
          "name": "stdout",
          "text": [
            "Results summary\n",
            "Results in ./untitled_project\n",
            "Showing 5 best trials\n",
            "Objective(name=\"val_accuracy\", direction=\"max\")\n",
            "\n",
            "Trial 07 summary\n",
            "Hyperparameters:\n",
            "lstm_units: 7\n",
            "l1_units: 40\n",
            "l2_units: 30\n",
            "l3_units: 15\n",
            "L2 regularization: 1e-05\n",
            "learning_rate: 0.001\n",
            "Score: 0.7861445546150208\n",
            "\n",
            "Trial 08 summary\n",
            "Hyperparameters:\n",
            "lstm_units: 10\n",
            "l1_units: 10\n",
            "l2_units: 20\n",
            "l3_units: 40\n",
            "L2 regularization: 1e-06\n",
            "learning_rate: 0.01\n",
            "Score: 0.7861445546150208\n",
            "\n",
            "Trial 06 summary\n",
            "Hyperparameters:\n",
            "lstm_units: 4\n",
            "l1_units: 35\n",
            "l2_units: 35\n",
            "l3_units: 25\n",
            "L2 regularization: 1e-05\n",
            "learning_rate: 0.001\n",
            "Score: 0.7831325531005859\n",
            "\n",
            "Trial 09 summary\n",
            "Hyperparameters:\n",
            "lstm_units: 6\n",
            "l1_units: 5\n",
            "l2_units: 30\n",
            "l3_units: 15\n",
            "L2 regularization: 1e-06\n",
            "learning_rate: 0.001\n",
            "Score: 0.7831325531005859\n",
            "\n",
            "Trial 00 summary\n",
            "Hyperparameters:\n",
            "lstm_units: 5\n",
            "l1_units: 15\n",
            "l2_units: 15\n",
            "l3_units: 20\n",
            "L2 regularization: 1e-05\n",
            "learning_rate: 0.001\n",
            "Score: 0.7771084308624268\n"
          ]
        }
      ]
    },
    {
      "cell_type": "markdown",
      "source": [
        "# Final phase: retrain and test"
      ],
      "metadata": {
        "id": "xyK9Derdx_BM"
      },
      "id": "xyK9Derdx_BM"
    },
    {
      "cell_type": "markdown",
      "source": [
        "After the search for optimal parameters we perform another fit on the training set in order to observe closely the learning curves on training and validation."
      ],
      "metadata": {
        "id": "HIo5I05lx-ml"
      },
      "id": "HIo5I05lx-ml"
    },
    {
      "cell_type": "code",
      "source": [
        "lstm_units = 7\n",
        "l1_units = 40\n",
        "l2_units = 30\n",
        "l3_units = 15\n",
        "l2_value = 1e-5\n",
        "dropout_rate = 0.1\n",
        "learning_rate = 1e-4\n",
        "epsilon = 1e-7\n",
        "clipnorm = 0.1"
      ],
      "metadata": {
        "id": "KA4Vdue_ka-w"
      },
      "id": "KA4Vdue_ka-w",
      "execution_count": 63,
      "outputs": []
    },
    {
      "cell_type": "code",
      "source": [
        "best_model = build_model_with_hp(\n",
        "    lstm_units = lstm_units,\n",
        "    l1_units = l1_units,\n",
        "    l2_units = l2_units,\n",
        "    l3_units = l3_units,\n",
        "    l2_value = l2_value,\n",
        "    dropout_rate = dropout_rate,\n",
        "    learning_rate = learning_rate,\n",
        "    epsilon = epsilon,\n",
        "    clipnorm = clipnorm\n",
        ")\n",
        "\n",
        "print(f'Training model with {tfhub_handle_encoder}')\n",
        "history = best_model.fit(\n",
        "    x = X_train,\n",
        "    y = y_train,\n",
        "    epochs=70,\n",
        "    validation_split = 0.2,\n",
        "    batch_size = 32,\n",
        "    callbacks= [\n",
        "      reduce_lr\n",
        "    ]\n",
        ")\n"
      ],
      "metadata": {
        "colab": {
          "base_uri": "https://localhost:8080/"
        },
        "outputId": "7be7b7af-1bec-4046-bfb4-22da146f32df",
        "id": "NGXfMMzgd_-k"
      },
      "execution_count": 64,
      "outputs": [
        {
          "output_type": "stream",
          "name": "stdout",
          "text": [
            "Training model with https://tfhub.dev/google/universal-sentence-encoder-multilingual/3\n",
            "Epoch 1/70\n",
            "42/42 [==============================] - 14s 71ms/step - loss: 0.6949 - accuracy: 0.5026 - val_loss: 0.6945 - val_accuracy: 0.4910 - lr: 1.0000e-04\n",
            "Epoch 2/70\n",
            "42/42 [==============================] - 1s 34ms/step - loss: 0.6943 - accuracy: 0.5049 - val_loss: 0.6939 - val_accuracy: 0.4880 - lr: 1.0000e-04\n",
            "Epoch 3/70\n",
            "42/42 [==============================] - 1s 31ms/step - loss: 0.6936 - accuracy: 0.5223 - val_loss: 0.6932 - val_accuracy: 0.5512 - lr: 1.0000e-04\n",
            "Epoch 4/70\n",
            "42/42 [==============================] - 1s 29ms/step - loss: 0.6926 - accuracy: 0.5517 - val_loss: 0.6919 - val_accuracy: 0.5873 - lr: 1.0000e-04\n",
            "Epoch 5/70\n",
            "42/42 [==============================] - 2s 43ms/step - loss: 0.6911 - accuracy: 0.5547 - val_loss: 0.6899 - val_accuracy: 0.5994 - lr: 1.0000e-04\n",
            "Epoch 6/70\n",
            "42/42 [==============================] - 2s 56ms/step - loss: 0.6880 - accuracy: 0.5849 - val_loss: 0.6869 - val_accuracy: 0.6235 - lr: 1.0000e-04\n",
            "Epoch 7/70\n",
            "42/42 [==============================] - 1s 33ms/step - loss: 0.6847 - accuracy: 0.6211 - val_loss: 0.6827 - val_accuracy: 0.6416 - lr: 1.0000e-04\n",
            "Epoch 8/70\n",
            "42/42 [==============================] - 1s 30ms/step - loss: 0.6788 - accuracy: 0.6430 - val_loss: 0.6772 - val_accuracy: 0.6506 - lr: 1.0000e-04\n",
            "Epoch 9/70\n",
            "42/42 [==============================] - 1s 30ms/step - loss: 0.6727 - accuracy: 0.6815 - val_loss: 0.6702 - val_accuracy: 0.6747 - lr: 1.0000e-04\n",
            "Epoch 10/70\n",
            "42/42 [==============================] - 1s 30ms/step - loss: 0.6643 - accuracy: 0.6943 - val_loss: 0.6615 - val_accuracy: 0.6747 - lr: 1.0000e-04\n",
            "Epoch 11/70\n",
            "42/42 [==============================] - 1s 29ms/step - loss: 0.6535 - accuracy: 0.7034 - val_loss: 0.6509 - val_accuracy: 0.6867 - lr: 1.0000e-04\n",
            "Epoch 12/70\n",
            "42/42 [==============================] - 1s 33ms/step - loss: 0.6420 - accuracy: 0.7079 - val_loss: 0.6393 - val_accuracy: 0.7048 - lr: 1.0000e-04\n",
            "Epoch 13/70\n",
            "42/42 [==============================] - 1s 29ms/step - loss: 0.6266 - accuracy: 0.7306 - val_loss: 0.6265 - val_accuracy: 0.7078 - lr: 1.0000e-04\n",
            "Epoch 14/70\n",
            "42/42 [==============================] - 1s 30ms/step - loss: 0.6112 - accuracy: 0.7457 - val_loss: 0.6135 - val_accuracy: 0.7139 - lr: 1.0000e-04\n",
            "Epoch 15/70\n",
            "42/42 [==============================] - 2s 50ms/step - loss: 0.5965 - accuracy: 0.7555 - val_loss: 0.6005 - val_accuracy: 0.7169 - lr: 1.0000e-04\n",
            "Epoch 16/70\n",
            "42/42 [==============================] - 2s 58ms/step - loss: 0.5859 - accuracy: 0.7532 - val_loss: 0.5878 - val_accuracy: 0.7169 - lr: 1.0000e-04\n",
            "Epoch 17/70\n",
            "42/42 [==============================] - 1s 34ms/step - loss: 0.5717 - accuracy: 0.7570 - val_loss: 0.5771 - val_accuracy: 0.7229 - lr: 1.0000e-04\n",
            "Epoch 18/70\n",
            "42/42 [==============================] - 1s 31ms/step - loss: 0.5584 - accuracy: 0.7668 - val_loss: 0.5654 - val_accuracy: 0.7380 - lr: 1.0000e-04\n",
            "Epoch 19/70\n",
            "42/42 [==============================] - 1s 31ms/step - loss: 0.5417 - accuracy: 0.7766 - val_loss: 0.5552 - val_accuracy: 0.7380 - lr: 1.0000e-04\n",
            "Epoch 20/70\n",
            "42/42 [==============================] - 1s 33ms/step - loss: 0.5341 - accuracy: 0.7743 - val_loss: 0.5450 - val_accuracy: 0.7380 - lr: 1.0000e-04\n",
            "Epoch 21/70\n",
            "42/42 [==============================] - 1s 32ms/step - loss: 0.5213 - accuracy: 0.7834 - val_loss: 0.5366 - val_accuracy: 0.7349 - lr: 1.0000e-04\n",
            "Epoch 22/70\n",
            "42/42 [==============================] - 1s 32ms/step - loss: 0.5082 - accuracy: 0.7811 - val_loss: 0.5276 - val_accuracy: 0.7410 - lr: 1.0000e-04\n",
            "Epoch 23/70\n",
            "42/42 [==============================] - 1s 30ms/step - loss: 0.4989 - accuracy: 0.7849 - val_loss: 0.5214 - val_accuracy: 0.7440 - lr: 1.0000e-04\n",
            "Epoch 24/70\n",
            "42/42 [==============================] - 2s 48ms/step - loss: 0.4885 - accuracy: 0.7917 - val_loss: 0.5145 - val_accuracy: 0.7500 - lr: 1.0000e-04\n",
            "Epoch 25/70\n",
            "42/42 [==============================] - 2s 51ms/step - loss: 0.4854 - accuracy: 0.7894 - val_loss: 0.5089 - val_accuracy: 0.7440 - lr: 1.0000e-04\n",
            "Epoch 26/70\n",
            "42/42 [==============================] - 2s 35ms/step - loss: 0.4775 - accuracy: 0.7932 - val_loss: 0.5050 - val_accuracy: 0.7440 - lr: 1.0000e-04\n",
            "Epoch 27/70\n",
            "42/42 [==============================] - 1s 29ms/step - loss: 0.4644 - accuracy: 0.8023 - val_loss: 0.4995 - val_accuracy: 0.7500 - lr: 1.0000e-04\n",
            "Epoch 28/70\n",
            "42/42 [==============================] - 1s 30ms/step - loss: 0.4619 - accuracy: 0.7977 - val_loss: 0.4970 - val_accuracy: 0.7500 - lr: 1.0000e-04\n",
            "Epoch 29/70\n",
            "42/42 [==============================] - 1s 31ms/step - loss: 0.4597 - accuracy: 0.8008 - val_loss: 0.4946 - val_accuracy: 0.7500 - lr: 1.0000e-04\n",
            "Epoch 30/70\n",
            "42/42 [==============================] - 1s 30ms/step - loss: 0.4484 - accuracy: 0.8038 - val_loss: 0.4943 - val_accuracy: 0.7470 - lr: 1.0000e-04\n",
            "Epoch 31/70\n",
            "42/42 [==============================] - 1s 30ms/step - loss: 0.4485 - accuracy: 0.8053 - val_loss: 0.4921 - val_accuracy: 0.7470 - lr: 1.0000e-04\n",
            "Epoch 32/70\n",
            "42/42 [==============================] - 1s 30ms/step - loss: 0.4452 - accuracy: 0.8030 - val_loss: 0.4893 - val_accuracy: 0.7470 - lr: 1.0000e-04\n",
            "Epoch 33/70\n",
            "42/42 [==============================] - 1s 30ms/step - loss: 0.4337 - accuracy: 0.8053 - val_loss: 0.4885 - val_accuracy: 0.7530 - lr: 1.0000e-04\n",
            "Epoch 34/70\n",
            "42/42 [==============================] - 2s 46ms/step - loss: 0.4381 - accuracy: 0.8053 - val_loss: 0.4873 - val_accuracy: 0.7530 - lr: 1.0000e-04\n",
            "Epoch 35/70\n",
            "42/42 [==============================] - 2s 50ms/step - loss: 0.4360 - accuracy: 0.8098 - val_loss: 0.4882 - val_accuracy: 0.7530 - lr: 1.0000e-04\n",
            "Epoch 36/70\n",
            "42/42 [==============================] - 2s 37ms/step - loss: 0.4258 - accuracy: 0.8166 - val_loss: 0.4861 - val_accuracy: 0.7530 - lr: 1.0000e-04\n",
            "Epoch 37/70\n",
            "42/42 [==============================] - 1s 33ms/step - loss: 0.4205 - accuracy: 0.8226 - val_loss: 0.4852 - val_accuracy: 0.7530 - lr: 1.0000e-04\n",
            "Epoch 38/70\n",
            "42/42 [==============================] - 1s 32ms/step - loss: 0.4241 - accuracy: 0.8234 - val_loss: 0.4871 - val_accuracy: 0.7500 - lr: 1.0000e-04\n",
            "Epoch 39/70\n",
            "42/42 [==============================] - 1s 32ms/step - loss: 0.4150 - accuracy: 0.8211 - val_loss: 0.4846 - val_accuracy: 0.7470 - lr: 1.0000e-04\n",
            "Epoch 40/70\n",
            "42/42 [==============================] - 1s 33ms/step - loss: 0.4173 - accuracy: 0.8249 - val_loss: 0.4857 - val_accuracy: 0.7470 - lr: 1.0000e-04\n",
            "Epoch 41/70\n",
            "42/42 [==============================] - 1s 31ms/step - loss: 0.4092 - accuracy: 0.8158 - val_loss: 0.4852 - val_accuracy: 0.7440 - lr: 1.0000e-04\n",
            "Epoch 42/70\n",
            "42/42 [==============================] - 1s 32ms/step - loss: 0.4012 - accuracy: 0.8287 - val_loss: 0.4856 - val_accuracy: 0.7470 - lr: 1.0000e-04\n",
            "Epoch 43/70\n",
            "42/42 [==============================] - 1s 35ms/step - loss: 0.4001 - accuracy: 0.8242 - val_loss: 0.4845 - val_accuracy: 0.7530 - lr: 1.0000e-04\n",
            "Epoch 44/70\n",
            "42/42 [==============================] - 2s 51ms/step - loss: 0.3947 - accuracy: 0.8340 - val_loss: 0.4880 - val_accuracy: 0.7530 - lr: 1.0000e-04\n",
            "Epoch 45/70\n",
            "42/42 [==============================] - 2s 47ms/step - loss: 0.3911 - accuracy: 0.8347 - val_loss: 0.4881 - val_accuracy: 0.7590 - lr: 1.0000e-05\n",
            "Epoch 46/70\n",
            "42/42 [==============================] - 1s 31ms/step - loss: 0.3951 - accuracy: 0.8249 - val_loss: 0.4881 - val_accuracy: 0.7560 - lr: 1.0000e-05\n",
            "Epoch 47/70\n",
            "42/42 [==============================] - 1s 29ms/step - loss: 0.3961 - accuracy: 0.8309 - val_loss: 0.4878 - val_accuracy: 0.7530 - lr: 1.0000e-05\n",
            "Epoch 48/70\n",
            "42/42 [==============================] - 1s 33ms/step - loss: 0.3866 - accuracy: 0.8287 - val_loss: 0.4875 - val_accuracy: 0.7530 - lr: 1.0000e-05\n",
            "Epoch 49/70\n",
            "42/42 [==============================] - 1s 30ms/step - loss: 0.4028 - accuracy: 0.8377 - val_loss: 0.4875 - val_accuracy: 0.7500 - lr: 1.0000e-05\n",
            "Epoch 50/70\n",
            "42/42 [==============================] - 1s 30ms/step - loss: 0.4018 - accuracy: 0.8392 - val_loss: 0.4874 - val_accuracy: 0.7530 - lr: 1.0000e-05\n",
            "Epoch 51/70\n",
            "42/42 [==============================] - 1s 28ms/step - loss: 0.4073 - accuracy: 0.8302 - val_loss: 0.4874 - val_accuracy: 0.7530 - lr: 1.0000e-05\n",
            "Epoch 52/70\n",
            "42/42 [==============================] - 1s 29ms/step - loss: 0.3946 - accuracy: 0.8317 - val_loss: 0.4875 - val_accuracy: 0.7560 - lr: 1.0000e-05\n",
            "Epoch 53/70\n",
            "42/42 [==============================] - 2s 36ms/step - loss: 0.3908 - accuracy: 0.8475 - val_loss: 0.4875 - val_accuracy: 0.7560 - lr: 1.0000e-05\n",
            "Epoch 54/70\n",
            "42/42 [==============================] - 2s 51ms/step - loss: 0.3931 - accuracy: 0.8325 - val_loss: 0.4876 - val_accuracy: 0.7560 - lr: 1.0000e-05\n",
            "Epoch 55/70\n",
            "42/42 [==============================] - 2s 48ms/step - loss: 0.3876 - accuracy: 0.8423 - val_loss: 0.4878 - val_accuracy: 0.7560 - lr: 1.0000e-05\n",
            "Epoch 56/70\n",
            "42/42 [==============================] - 1s 33ms/step - loss: 0.3988 - accuracy: 0.8226 - val_loss: 0.4879 - val_accuracy: 0.7530 - lr: 1.0000e-05\n",
            "Epoch 57/70\n",
            "42/42 [==============================] - 1s 33ms/step - loss: 0.3947 - accuracy: 0.8340 - val_loss: 0.4877 - val_accuracy: 0.7560 - lr: 1.0000e-05\n",
            "Epoch 58/70\n",
            "42/42 [==============================] - 2s 42ms/step - loss: 0.3946 - accuracy: 0.8370 - val_loss: 0.4877 - val_accuracy: 0.7560 - lr: 1.0000e-05\n",
            "Epoch 59/70\n",
            "42/42 [==============================] - 1s 31ms/step - loss: 0.3909 - accuracy: 0.8347 - val_loss: 0.4877 - val_accuracy: 0.7560 - lr: 1.0000e-05\n",
            "Epoch 60/70\n",
            "42/42 [==============================] - 1s 31ms/step - loss: 0.3946 - accuracy: 0.8362 - val_loss: 0.4874 - val_accuracy: 0.7530 - lr: 1.0000e-05\n",
            "Epoch 61/70\n",
            "42/42 [==============================] - 1s 33ms/step - loss: 0.3863 - accuracy: 0.8453 - val_loss: 0.4874 - val_accuracy: 0.7530 - lr: 1.0000e-05\n",
            "Epoch 62/70\n",
            "42/42 [==============================] - 1s 35ms/step - loss: 0.3879 - accuracy: 0.8400 - val_loss: 0.4876 - val_accuracy: 0.7560 - lr: 1.0000e-05\n",
            "Epoch 63/70\n",
            "42/42 [==============================] - 2s 49ms/step - loss: 0.3882 - accuracy: 0.8370 - val_loss: 0.4876 - val_accuracy: 0.7560 - lr: 1.0000e-05\n",
            "Epoch 64/70\n",
            "42/42 [==============================] - 2s 47ms/step - loss: 0.3945 - accuracy: 0.8347 - val_loss: 0.4876 - val_accuracy: 0.7530 - lr: 1.0000e-05\n",
            "Epoch 65/70\n",
            "42/42 [==============================] - 1s 35ms/step - loss: 0.3869 - accuracy: 0.8355 - val_loss: 0.4876 - val_accuracy: 0.7530 - lr: 1.0000e-05\n",
            "Epoch 66/70\n",
            "42/42 [==============================] - 1s 33ms/step - loss: 0.3828 - accuracy: 0.8415 - val_loss: 0.4877 - val_accuracy: 0.7530 - lr: 1.0000e-05\n",
            "Epoch 67/70\n",
            "42/42 [==============================] - 1s 34ms/step - loss: 0.3804 - accuracy: 0.8438 - val_loss: 0.4879 - val_accuracy: 0.7560 - lr: 1.0000e-05\n",
            "Epoch 68/70\n",
            "42/42 [==============================] - 1s 33ms/step - loss: 0.3872 - accuracy: 0.8355 - val_loss: 0.4883 - val_accuracy: 0.7590 - lr: 1.0000e-05\n",
            "Epoch 69/70\n",
            "42/42 [==============================] - 1s 30ms/step - loss: 0.3998 - accuracy: 0.8400 - val_loss: 0.4883 - val_accuracy: 0.7590 - lr: 1.0000e-05\n",
            "Epoch 70/70\n",
            "42/42 [==============================] - 1s 31ms/step - loss: 0.3833 - accuracy: 0.8430 - val_loss: 0.4883 - val_accuracy: 0.7560 - lr: 1.0000e-05\n"
          ]
        }
      ],
      "id": "NGXfMMzgd_-k"
    },
    {
      "cell_type": "code",
      "source": [
        "utils.plot_history(history)"
      ],
      "metadata": {
        "colab": {
          "base_uri": "https://localhost:8080/",
          "height": 927
        },
        "id": "bH9wezNce8oX",
        "outputId": "df98e72b-0881-426b-e857-b70c1ec23d16"
      },
      "id": "bH9wezNce8oX",
      "execution_count": 65,
      "outputs": [
        {
          "output_type": "display_data",
          "data": {
            "text/plain": [
              "<Figure size 640x480 with 1 Axes>"
            ],
            "image/png": "[encoded data removed]"
          },
          "metadata": {}
        },
        {
          "output_type": "display_data",
          "data": {
            "text/plain": [
              "<Figure size 640x480 with 1 Axes>"
            ],
            "image/png": "[encoded data removed]"
          },
          "metadata": {}
        }
      ]
    },
    {
      "cell_type": "markdown",
      "source": [
        "## Retrain on training and validation"
      ],
      "metadata": {
        "id": "fNSULGiPvb4N"
      },
      "id": "fNSULGiPvb4N"
    },
    {
      "cell_type": "markdown",
      "source": [
        "Before testing our model, we retrain it on training and validation set using the best hyperparams found by the random search"
      ],
      "metadata": {
        "id": "0TBchWKt0rQA"
      },
      "id": "0TBchWKt0rQA"
    },
    {
      "cell_type": "code",
      "source": [
        "final_model = build_model_with_hp(\n",
        "    lstm_units = lstm_units,\n",
        "    l1_units = l1_units,\n",
        "    l2_units = l2_units,\n",
        "    l3_units = l3_units,\n",
        "    l2_value = l2_value,\n",
        "    dropout_rate = dropout_rate,\n",
        "    learning_rate = learning_rate,\n",
        "    epsilon = epsilon,\n",
        "    clipnorm = clipnorm\n",
        ")\n",
        "\n",
        "max_epochs = 35"
      ],
      "metadata": {
        "id": "sD6gFZqHve4a"
      },
      "id": "sD6gFZqHve4a",
      "execution_count": 66,
      "outputs": []
    },
    {
      "cell_type": "code",
      "source": [
        "%%time\n",
        "print(f'Training model with {tfhub_handle_encoder}')\n",
        "history = final_model.fit(\n",
        "    x = X_train,\n",
        "    y = y_train,\n",
        "    epochs=max_epochs,\n",
        "    batch_size = 32,\n",
        ")\n"
      ],
      "metadata": {
        "colab": {
          "base_uri": "https://localhost:8080/"
        },
        "id": "XlHncSAHwGhp",
        "outputId": "aeea0141-777b-42f2-ff33-532863827189"
      },
      "id": "XlHncSAHwGhp",
      "execution_count": 67,
      "outputs": [
        {
          "output_type": "stream",
          "name": "stdout",
          "text": [
            "Training model with https://tfhub.dev/google/universal-sentence-encoder-multilingual/3\n",
            "Epoch 1/35\n",
            "52/52 [==============================] - 18s 51ms/step - loss: 0.6945 - accuracy: 0.5081\n",
            "Epoch 2/35\n",
            "52/52 [==============================] - 2s 41ms/step - loss: 0.6933 - accuracy: 0.5570\n",
            "Epoch 3/35\n",
            "52/52 [==============================] - 2s 37ms/step - loss: 0.6916 - accuracy: 0.5607\n",
            "Epoch 4/35\n",
            "52/52 [==============================] - 1s 27ms/step - loss: 0.6882 - accuracy: 0.6343\n",
            "Epoch 5/35\n",
            "52/52 [==============================] - 1s 24ms/step - loss: 0.6836 - accuracy: 0.6608\n",
            "Epoch 6/35\n",
            "52/52 [==============================] - 1s 28ms/step - loss: 0.6771 - accuracy: 0.6777\n",
            "Epoch 7/35\n",
            "52/52 [==============================] - 2s 41ms/step - loss: 0.6702 - accuracy: 0.7067\n",
            "Epoch 8/35\n",
            "52/52 [==============================] - 2s 37ms/step - loss: 0.6597 - accuracy: 0.7284\n",
            "Epoch 9/35\n",
            "52/52 [==============================] - 1s 25ms/step - loss: 0.6476 - accuracy: 0.7357\n",
            "Epoch 10/35\n",
            "52/52 [==============================] - 1s 24ms/step - loss: 0.6332 - accuracy: 0.7544\n",
            "Epoch 11/35\n",
            "52/52 [==============================] - 1s 25ms/step - loss: 0.6182 - accuracy: 0.7622\n",
            "Epoch 12/35\n",
            "52/52 [==============================] - 1s 25ms/step - loss: 0.5985 - accuracy: 0.7677\n",
            "Epoch 13/35\n",
            "52/52 [==============================] - 1s 24ms/step - loss: 0.5840 - accuracy: 0.7683\n",
            "Epoch 14/35\n",
            "52/52 [==============================] - 1s 25ms/step - loss: 0.5589 - accuracy: 0.7870\n",
            "Epoch 15/35\n",
            "52/52 [==============================] - 1s 24ms/step - loss: 0.5432 - accuracy: 0.7749\n",
            "Epoch 16/35\n",
            "52/52 [==============================] - 2s 33ms/step - loss: 0.5293 - accuracy: 0.7797\n",
            "Epoch 17/35\n",
            "52/52 [==============================] - 2s 39ms/step - loss: 0.5096 - accuracy: 0.7864\n",
            "Epoch 18/35\n",
            "52/52 [==============================] - 2s 33ms/step - loss: 0.5009 - accuracy: 0.7827\n",
            "Epoch 19/35\n",
            "52/52 [==============================] - 1s 24ms/step - loss: 0.4915 - accuracy: 0.7966\n",
            "Epoch 20/35\n",
            "52/52 [==============================] - 1s 24ms/step - loss: 0.4803 - accuracy: 0.7900\n",
            "Epoch 21/35\n",
            "52/52 [==============================] - 1s 25ms/step - loss: 0.4742 - accuracy: 0.7936\n",
            "Epoch 22/35\n",
            "52/52 [==============================] - 1s 25ms/step - loss: 0.4697 - accuracy: 0.8051\n",
            "Epoch 23/35\n",
            "52/52 [==============================] - 1s 25ms/step - loss: 0.4604 - accuracy: 0.7996\n",
            "Epoch 24/35\n",
            "52/52 [==============================] - 1s 24ms/step - loss: 0.4506 - accuracy: 0.8063\n",
            "Epoch 25/35\n",
            "52/52 [==============================] - 1s 26ms/step - loss: 0.4533 - accuracy: 0.8002\n",
            "Epoch 26/35\n",
            "52/52 [==============================] - 2s 36ms/step - loss: 0.4430 - accuracy: 0.8051\n",
            "Epoch 27/35\n",
            "52/52 [==============================] - 2s 40ms/step - loss: 0.4435 - accuracy: 0.8027\n",
            "Epoch 28/35\n",
            "52/52 [==============================] - 2s 31ms/step - loss: 0.4380 - accuracy: 0.8129\n",
            "Epoch 29/35\n",
            "52/52 [==============================] - 1s 25ms/step - loss: 0.4277 - accuracy: 0.8141\n",
            "Epoch 30/35\n",
            "52/52 [==============================] - 1s 25ms/step - loss: 0.4328 - accuracy: 0.8057\n",
            "Epoch 31/35\n",
            "52/52 [==============================] - 1s 24ms/step - loss: 0.4255 - accuracy: 0.8196\n",
            "Epoch 32/35\n",
            "52/52 [==============================] - 1s 26ms/step - loss: 0.4282 - accuracy: 0.8147\n",
            "Epoch 33/35\n",
            "52/52 [==============================] - 1s 24ms/step - loss: 0.4233 - accuracy: 0.8153\n",
            "Epoch 34/35\n",
            "52/52 [==============================] - 1s 24ms/step - loss: 0.4196 - accuracy: 0.8268\n",
            "Epoch 35/35\n",
            "52/52 [==============================] - 1s 26ms/step - loss: 0.4144 - accuracy: 0.8177\n",
            "CPU times: user 1min 4s, sys: 3.2 s, total: 1min 7s\n",
            "Wall time: 1min 32s\n"
          ]
        }
      ]
    },
    {
      "cell_type": "code",
      "source": [
        "final_model.summary()"
      ],
      "metadata": {
        "colab": {
          "base_uri": "https://localhost:8080/"
        },
        "id": "t7PUXtHYCVHL",
        "outputId": "f1e4cc4d-75fa-46b5-a176-95064c09c11c"
      },
      "id": "t7PUXtHYCVHL",
      "execution_count": 68,
      "outputs": [
        {
          "output_type": "stream",
          "name": "stdout",
          "text": [
            "Model: \"model_3\"\n",
            "_________________________________________________________________\n",
            " Layer (type)                Output Shape              Param #   \n",
            "=================================================================\n",
            " text (InputLayer)           [(None,)]                 0         \n",
            "                                                                 \n",
            " text_encoder (KerasLayer)   (None, 512)               68927232  \n",
            "                                                                 \n",
            " tf.expand_dims_3 (TFOpLambd  (None, 1, 512)           0         \n",
            " a)                                                              \n",
            "                                                                 \n",
            " BiLSTM_layer (Bidirectional  (None, 14)               29120     \n",
            " )                                                               \n",
            "                                                                 \n",
            " Dense_layer_1 (Dense)       (None, 40)                600       \n",
            "                                                                 \n",
            " dropout_9 (Dropout)         (None, 40)                0         \n",
            "                                                                 \n",
            " Dense_layer_2 (Dense)       (None, 30)                1230      \n",
            "                                                                 \n",
            " dropout_10 (Dropout)        (None, 30)                0         \n",
            "                                                                 \n",
            " Dense_layer_3 (Dense)       (None, 15)                465       \n",
            "                                                                 \n",
            " dropout_11 (Dropout)        (None, 15)                0         \n",
            "                                                                 \n",
            " classifier (Dense)          (None, 1)                 16        \n",
            "                                                                 \n",
            "=================================================================\n",
            "Total params: 68,958,663\n",
            "Trainable params: 31,431\n",
            "Non-trainable params: 68,927,232\n",
            "_________________________________________________________________\n"
          ]
        }
      ]
    },
    {
      "cell_type": "markdown",
      "source": [
        "## Predict on test set"
      ],
      "metadata": {
        "id": "Sqg5olB_wryB"
      },
      "id": "Sqg5olB_wryB"
    },
    {
      "cell_type": "code",
      "source": [
        "_ = final_model.evaluate(\n",
        "    x=X_test,\n",
        "    y=y_test,\n",
        "    batch_size=32\n",
        ")"
      ],
      "metadata": {
        "colab": {
          "base_uri": "https://localhost:8080/"
        },
        "id": "PGYUmYvNwvJ-",
        "outputId": "a5b53dd6-33fd-4dc7-90f4-55e9900bb231"
      },
      "id": "PGYUmYvNwvJ-",
      "execution_count": 69,
      "outputs": [
        {
          "output_type": "stream",
          "name": "stdout",
          "text": [
            "6/6 [==============================] - 2s 37ms/step - loss: 0.5084 - accuracy: 0.7676\n"
          ]
        }
      ]
    },
    {
      "cell_type": "code",
      "source": [
        "predictions = final_model.predict(x=X_test)\n",
        "predictions = list(map(round, [ _[0] for _ in predictions]))\n",
        "\n",
        "cm = confusion_matrix(y_test, predictions)\n",
        "disp = ConfusionMatrixDisplay(confusion_matrix=cm, display_labels=[\"Non conspiratorial\", \"conspiratorial\"])\n",
        "disp.plot()"
      ],
      "metadata": {
        "id": "sYjxSxoYxDoE",
        "colab": {
          "base_uri": "https://localhost:8080/",
          "height": 484
        },
        "outputId": "4dd2f23b-6bf4-4939-f678-5911de5976d5"
      },
      "id": "sYjxSxoYxDoE",
      "execution_count": 70,
      "outputs": [
        {
          "output_type": "stream",
          "name": "stdout",
          "text": [
            "6/6 [==============================] - 3s 34ms/step\n"
          ]
        },
        {
          "output_type": "execute_result",
          "data": {
            "text/plain": [
              "<sklearn.metrics._plot.confusion_matrix.ConfusionMatrixDisplay at 0x7f88d06a9ed0>"
            ]
          },
          "metadata": {},
          "execution_count": 70
        },
        {
          "output_type": "display_data",
          "data": {
            "text/plain": [
              "<Figure size 640x480 with 2 Axes>"
            ],
            "image/png": "[encoded data removed]"
          },
          "metadata": {}
        }
      ]
    },
    {
      "cell_type": "code",
      "source": [],
      "metadata": {
        "id": "pxGDPYJp_SAu"
      },
      "id": "pxGDPYJp_SAu",
      "execution_count": null,
      "outputs": []
    }
  ],
  "metadata": {
    "kernelspec": {
      "display_name": "Python 3",
      "name": "python3"
    },
    "language_info": {
      "codemirror_mode": {
        "name": "ipython",
        "version": 3
      },
      "file_extension": ".py",
      "mimetype": "text/x-python",
      "name": "python",
      "nbconvert_exporter": "python",
      "pygments_lexer": "ipython3",
      "version": "3.10.6"
    },
    "colab": {
      "provenance": [],
      "gpuType": "T4",
      "toc_visible": true
    },
    "accelerator": "GPU"
  },
  "nbformat": 4,
  "nbformat_minor": 5
}