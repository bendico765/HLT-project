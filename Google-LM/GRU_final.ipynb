{
 "cells": [
  {
   "cell_type": "code",
   "execution_count": 1,
   "id": "ISevNR3ePivs",
   "metadata": {
    "colab": {
     "base_uri": "https://localhost:8080/"
    },
    "id": "ISevNR3ePivs",
    "outputId": "749b1c4d-8018-440b-c2d1-cef1ce00bca5"
   },
   "outputs": [
    {
     "name": "stdout",
     "output_type": "stream",
     "text": [
      "Looking in indexes: https://pypi.org/simple, https://us-python.pkg.dev/colab-wheels/public/simple/\n",
      "Collecting transformers\n",
      "  Downloading transformers-4.30.2-py3-none-any.whl (7.2 MB)\n",
      "\u001b[2K     \u001b[90m━━━━━━━━━━━━━━━━━━━━━━━━━━━━━━━━━━━━━━━━\u001b[0m \u001b[32m7.2/7.2 MB\u001b[0m \u001b[31m89.7 MB/s\u001b[0m eta \u001b[36m0:00:00\u001b[0m\n",
      "\u001b[?25hRequirement already satisfied: filelock in /usr/local/lib/python3.10/dist-packages (from transformers) (3.12.2)\n",
      "Collecting huggingface-hub<1.0,>=0.14.1 (from transformers)\n",
      "  Downloading huggingface_hub-0.15.1-py3-none-any.whl (236 kB)\n",
      "\u001b[2K     \u001b[90m━━━━━━━━━━━━━━━━━━━━━━━━━━━━━━━━━━━━━━\u001b[0m \u001b[32m236.8/236.8 kB\u001b[0m \u001b[31m27.9 MB/s\u001b[0m eta \u001b[36m0:00:00\u001b[0m\n",
      "\u001b[?25hRequirement already satisfied: numpy>=1.17 in /usr/local/lib/python3.10/dist-packages (from transformers) (1.22.4)\n",
      "Requirement already satisfied: packaging>=20.0 in /usr/local/lib/python3.10/dist-packages (from transformers) (23.1)\n",
      "Requirement already satisfied: pyyaml>=5.1 in /usr/local/lib/python3.10/dist-packages (from transformers) (6.0)\n",
      "Requirement already satisfied: regex!=2019.12.17 in /usr/local/lib/python3.10/dist-packages (from transformers) (2022.10.31)\n",
      "Requirement already satisfied: requests in /usr/local/lib/python3.10/dist-packages (from transformers) (2.27.1)\n",
      "Collecting tokenizers!=0.11.3,<0.14,>=0.11.1 (from transformers)\n",
      "  Downloading tokenizers-0.13.3-cp310-cp310-manylinux_2_17_x86_64.manylinux2014_x86_64.whl (7.8 MB)\n",
      "\u001b[2K     \u001b[90m━━━━━━━━━━━━━━━━━━━━━━━━━━━━━━━━━━━━━━━━\u001b[0m \u001b[32m7.8/7.8 MB\u001b[0m \u001b[31m92.3 MB/s\u001b[0m eta \u001b[36m0:00:00\u001b[0m\n",
      "\u001b[?25hCollecting safetensors>=0.3.1 (from transformers)\n",
      "  Downloading safetensors-0.3.1-cp310-cp310-manylinux_2_17_x86_64.manylinux2014_x86_64.whl (1.3 MB)\n",
      "\u001b[2K     \u001b[90m━━━━━━━━━━━━━━━━━━━━━━━━━━━━━━━━━━━━━━━━\u001b[0m \u001b[32m1.3/1.3 MB\u001b[0m \u001b[31m85.8 MB/s\u001b[0m eta \u001b[36m0:00:00\u001b[0m\n",
      "\u001b[?25hRequirement already satisfied: tqdm>=4.27 in /usr/local/lib/python3.10/dist-packages (from transformers) (4.65.0)\n",
      "Requirement already satisfied: fsspec in /usr/local/lib/python3.10/dist-packages (from huggingface-hub<1.0,>=0.14.1->transformers) (2023.6.0)\n",
      "Requirement already satisfied: typing-extensions>=3.7.4.3 in /usr/local/lib/python3.10/dist-packages (from huggingface-hub<1.0,>=0.14.1->transformers) (4.6.3)\n",
      "Requirement already satisfied: urllib3<1.27,>=1.21.1 in /usr/local/lib/python3.10/dist-packages (from requests->transformers) (1.26.16)\n",
      "Requirement already satisfied: certifi>=2017.4.17 in /usr/local/lib/python3.10/dist-packages (from requests->transformers) (2023.5.7)\n",
      "Requirement already satisfied: charset-normalizer~=2.0.0 in /usr/local/lib/python3.10/dist-packages (from requests->transformers) (2.0.12)\n",
      "Requirement already satisfied: idna<4,>=2.5 in /usr/local/lib/python3.10/dist-packages (from requests->transformers) (3.4)\n",
      "Installing collected packages: tokenizers, safetensors, huggingface-hub, transformers\n",
      "Successfully installed huggingface-hub-0.15.1 safetensors-0.3.1 tokenizers-0.13.3 transformers-4.30.2\n",
      "Looking in indexes: https://pypi.org/simple, https://us-python.pkg.dev/colab-wheels/public/simple/\n",
      "Collecting keras_tuner\n",
      "  Downloading keras_tuner-1.3.5-py3-none-any.whl (176 kB)\n",
      "\u001b[2K     \u001b[90m━━━━━━━━━━━━━━━━━━━━━━━━━━━━━━━━━━━━━━\u001b[0m \u001b[32m176.1/176.1 kB\u001b[0m \u001b[31m10.1 MB/s\u001b[0m eta \u001b[36m0:00:00\u001b[0m\n",
      "\u001b[?25hRequirement already satisfied: packaging in /usr/local/lib/python3.10/dist-packages (from keras_tuner) (23.1)\n",
      "Requirement already satisfied: requests in /usr/local/lib/python3.10/dist-packages (from keras_tuner) (2.27.1)\n",
      "Collecting kt-legacy (from keras_tuner)\n",
      "  Downloading kt_legacy-1.0.5-py3-none-any.whl (9.6 kB)\n",
      "Requirement already satisfied: urllib3<1.27,>=1.21.1 in /usr/local/lib/python3.10/dist-packages (from requests->keras_tuner) (1.26.16)\n",
      "Requirement already satisfied: certifi>=2017.4.17 in /usr/local/lib/python3.10/dist-packages (from requests->keras_tuner) (2023.5.7)\n",
      "Requirement already satisfied: charset-normalizer~=2.0.0 in /usr/local/lib/python3.10/dist-packages (from requests->keras_tuner) (2.0.12)\n",
      "Requirement already satisfied: idna<4,>=2.5 in /usr/local/lib/python3.10/dist-packages (from requests->keras_tuner) (3.4)\n",
      "Installing collected packages: kt-legacy, keras_tuner\n",
      "Successfully installed keras_tuner-1.3.5 kt-legacy-1.0.5\n",
      "Looking in indexes: https://pypi.org/simple, https://us-python.pkg.dev/colab-wheels/public/simple/\n",
      "Collecting tensorflow_text\n",
      "  Downloading tensorflow_text-2.12.1-cp310-cp310-manylinux_2_17_x86_64.manylinux2014_x86_64.whl (6.0 MB)\n",
      "\u001b[2K     \u001b[90m━━━━━━━━━━━━━━━━━━━━━━━━━━━━━━━━━━━━━━━━\u001b[0m \u001b[32m6.0/6.0 MB\u001b[0m \u001b[31m76.3 MB/s\u001b[0m eta \u001b[36m0:00:00\u001b[0m\n",
      "\u001b[?25hRequirement already satisfied: tensorflow-hub>=0.8.0 in /usr/local/lib/python3.10/dist-packages (from tensorflow_text) (0.13.0)\n",
      "Requirement already satisfied: tensorflow<2.13,>=2.12.0 in /usr/local/lib/python3.10/dist-packages (from tensorflow_text) (2.12.0)\n",
      "Requirement already satisfied: absl-py>=1.0.0 in /usr/local/lib/python3.10/dist-packages (from tensorflow<2.13,>=2.12.0->tensorflow_text) (1.4.0)\n",
      "Requirement already satisfied: astunparse>=1.6.0 in /usr/local/lib/python3.10/dist-packages (from tensorflow<2.13,>=2.12.0->tensorflow_text) (1.6.3)\n",
      "Requirement already satisfied: flatbuffers>=2.0 in /usr/local/lib/python3.10/dist-packages (from tensorflow<2.13,>=2.12.0->tensorflow_text) (23.5.26)\n",
      "Requirement already satisfied: gast<=0.4.0,>=0.2.1 in /usr/local/lib/python3.10/dist-packages (from tensorflow<2.13,>=2.12.0->tensorflow_text) (0.4.0)\n",
      "Requirement already satisfied: google-pasta>=0.1.1 in /usr/local/lib/python3.10/dist-packages (from tensorflow<2.13,>=2.12.0->tensorflow_text) (0.2.0)\n",
      "Requirement already satisfied: grpcio<2.0,>=1.24.3 in /usr/local/lib/python3.10/dist-packages (from tensorflow<2.13,>=2.12.0->tensorflow_text) (1.56.0)\n",
      "Requirement already satisfied: h5py>=2.9.0 in /usr/local/lib/python3.10/dist-packages (from tensorflow<2.13,>=2.12.0->tensorflow_text) (3.8.0)\n",
      "Requirement already satisfied: jax>=0.3.15 in /usr/local/lib/python3.10/dist-packages (from tensorflow<2.13,>=2.12.0->tensorflow_text) (0.4.10)\n",
      "Requirement already satisfied: keras<2.13,>=2.12.0 in /usr/local/lib/python3.10/dist-packages (from tensorflow<2.13,>=2.12.0->tensorflow_text) (2.12.0)\n",
      "Requirement already satisfied: libclang>=13.0.0 in /usr/local/lib/python3.10/dist-packages (from tensorflow<2.13,>=2.12.0->tensorflow_text) (16.0.0)\n",
      "Requirement already satisfied: numpy<1.24,>=1.22 in /usr/local/lib/python3.10/dist-packages (from tensorflow<2.13,>=2.12.0->tensorflow_text) (1.22.4)\n",
      "Requirement already satisfied: opt-einsum>=2.3.2 in /usr/local/lib/python3.10/dist-packages (from tensorflow<2.13,>=2.12.0->tensorflow_text) (3.3.0)\n",
      "Requirement already satisfied: packaging in /usr/local/lib/python3.10/dist-packages (from tensorflow<2.13,>=2.12.0->tensorflow_text) (23.1)\n",
      "Requirement already satisfied: protobuf!=4.21.0,!=4.21.1,!=4.21.2,!=4.21.3,!=4.21.4,!=4.21.5,<5.0.0dev,>=3.20.3 in /usr/local/lib/python3.10/dist-packages (from tensorflow<2.13,>=2.12.0->tensorflow_text) (3.20.3)\n",
      "Requirement already satisfied: setuptools in /usr/local/lib/python3.10/dist-packages (from tensorflow<2.13,>=2.12.0->tensorflow_text) (67.7.2)\n",
      "Requirement already satisfied: six>=1.12.0 in /usr/local/lib/python3.10/dist-packages (from tensorflow<2.13,>=2.12.0->tensorflow_text) (1.16.0)\n",
      "Requirement already satisfied: tensorboard<2.13,>=2.12 in /usr/local/lib/python3.10/dist-packages (from tensorflow<2.13,>=2.12.0->tensorflow_text) (2.12.3)\n",
      "Requirement already satisfied: tensorflow-estimator<2.13,>=2.12.0 in /usr/local/lib/python3.10/dist-packages (from tensorflow<2.13,>=2.12.0->tensorflow_text) (2.12.0)\n",
      "Requirement already satisfied: termcolor>=1.1.0 in /usr/local/lib/python3.10/dist-packages (from tensorflow<2.13,>=2.12.0->tensorflow_text) (2.3.0)\n",
      "Requirement already satisfied: typing-extensions>=3.6.6 in /usr/local/lib/python3.10/dist-packages (from tensorflow<2.13,>=2.12.0->tensorflow_text) (4.6.3)\n",
      "Requirement already satisfied: wrapt<1.15,>=1.11.0 in /usr/local/lib/python3.10/dist-packages (from tensorflow<2.13,>=2.12.0->tensorflow_text) (1.14.1)\n",
      "Requirement already satisfied: tensorflow-io-gcs-filesystem>=0.23.1 in /usr/local/lib/python3.10/dist-packages (from tensorflow<2.13,>=2.12.0->tensorflow_text) (0.32.0)\n",
      "Requirement already satisfied: wheel<1.0,>=0.23.0 in /usr/local/lib/python3.10/dist-packages (from astunparse>=1.6.0->tensorflow<2.13,>=2.12.0->tensorflow_text) (0.40.0)\n",
      "Requirement already satisfied: ml-dtypes>=0.1.0 in /usr/local/lib/python3.10/dist-packages (from jax>=0.3.15->tensorflow<2.13,>=2.12.0->tensorflow_text) (0.2.0)\n",
      "Requirement already satisfied: scipy>=1.7 in /usr/local/lib/python3.10/dist-packages (from jax>=0.3.15->tensorflow<2.13,>=2.12.0->tensorflow_text) (1.10.1)\n",
      "Requirement already satisfied: google-auth<3,>=1.6.3 in /usr/local/lib/python3.10/dist-packages (from tensorboard<2.13,>=2.12->tensorflow<2.13,>=2.12.0->tensorflow_text) (2.17.3)\n",
      "Requirement already satisfied: google-auth-oauthlib<1.1,>=0.5 in /usr/local/lib/python3.10/dist-packages (from tensorboard<2.13,>=2.12->tensorflow<2.13,>=2.12.0->tensorflow_text) (1.0.0)\n",
      "Requirement already satisfied: markdown>=2.6.8 in /usr/local/lib/python3.10/dist-packages (from tensorboard<2.13,>=2.12->tensorflow<2.13,>=2.12.0->tensorflow_text) (3.4.3)\n",
      "Requirement already satisfied: requests<3,>=2.21.0 in /usr/local/lib/python3.10/dist-packages (from tensorboard<2.13,>=2.12->tensorflow<2.13,>=2.12.0->tensorflow_text) (2.27.1)\n",
      "Requirement already satisfied: tensorboard-data-server<0.8.0,>=0.7.0 in /usr/local/lib/python3.10/dist-packages (from tensorboard<2.13,>=2.12->tensorflow<2.13,>=2.12.0->tensorflow_text) (0.7.1)\n",
      "Requirement already satisfied: werkzeug>=1.0.1 in /usr/local/lib/python3.10/dist-packages (from tensorboard<2.13,>=2.12->tensorflow<2.13,>=2.12.0->tensorflow_text) (2.3.6)\n",
      "Requirement already satisfied: cachetools<6.0,>=2.0.0 in /usr/local/lib/python3.10/dist-packages (from google-auth<3,>=1.6.3->tensorboard<2.13,>=2.12->tensorflow<2.13,>=2.12.0->tensorflow_text) (5.3.1)\n",
      "Requirement already satisfied: pyasn1-modules>=0.2.1 in /usr/local/lib/python3.10/dist-packages (from google-auth<3,>=1.6.3->tensorboard<2.13,>=2.12->tensorflow<2.13,>=2.12.0->tensorflow_text) (0.3.0)\n",
      "Requirement already satisfied: rsa<5,>=3.1.4 in /usr/local/lib/python3.10/dist-packages (from google-auth<3,>=1.6.3->tensorboard<2.13,>=2.12->tensorflow<2.13,>=2.12.0->tensorflow_text) (4.9)\n",
      "Requirement already satisfied: requests-oauthlib>=0.7.0 in /usr/local/lib/python3.10/dist-packages (from google-auth-oauthlib<1.1,>=0.5->tensorboard<2.13,>=2.12->tensorflow<2.13,>=2.12.0->tensorflow_text) (1.3.1)\n",
      "Requirement already satisfied: urllib3<1.27,>=1.21.1 in /usr/local/lib/python3.10/dist-packages (from requests<3,>=2.21.0->tensorboard<2.13,>=2.12->tensorflow<2.13,>=2.12.0->tensorflow_text) (1.26.16)\n",
      "Requirement already satisfied: certifi>=2017.4.17 in /usr/local/lib/python3.10/dist-packages (from requests<3,>=2.21.0->tensorboard<2.13,>=2.12->tensorflow<2.13,>=2.12.0->tensorflow_text) (2023.5.7)\n",
      "Requirement already satisfied: charset-normalizer~=2.0.0 in /usr/local/lib/python3.10/dist-packages (from requests<3,>=2.21.0->tensorboard<2.13,>=2.12->tensorflow<2.13,>=2.12.0->tensorflow_text) (2.0.12)\n",
      "Requirement already satisfied: idna<4,>=2.5 in /usr/local/lib/python3.10/dist-packages (from requests<3,>=2.21.0->tensorboard<2.13,>=2.12->tensorflow<2.13,>=2.12.0->tensorflow_text) (3.4)\n",
      "Requirement already satisfied: MarkupSafe>=2.1.1 in /usr/local/lib/python3.10/dist-packages (from werkzeug>=1.0.1->tensorboard<2.13,>=2.12->tensorflow<2.13,>=2.12.0->tensorflow_text) (2.1.3)\n",
      "Requirement already satisfied: pyasn1<0.6.0,>=0.4.6 in /usr/local/lib/python3.10/dist-packages (from pyasn1-modules>=0.2.1->google-auth<3,>=1.6.3->tensorboard<2.13,>=2.12->tensorflow<2.13,>=2.12.0->tensorflow_text) (0.5.0)\n",
      "Requirement already satisfied: oauthlib>=3.0.0 in /usr/local/lib/python3.10/dist-packages (from requests-oauthlib>=0.7.0->google-auth-oauthlib<1.1,>=0.5->tensorboard<2.13,>=2.12->tensorflow<2.13,>=2.12.0->tensorflow_text) (3.2.2)\n",
      "Installing collected packages: tensorflow_text\n",
      "Successfully installed tensorflow_text-2.12.1\n"
     ]
    }
   ],
   "source": [
    "!pip install transformers\n",
    "!pip install keras_tuner\n",
    "!pip install tensorflow_text"
   ]
  },
  {
   "cell_type": "code",
   "execution_count": 2,
   "id": "7f8decb4",
   "metadata": {
    "id": "7f8decb4"
   },
   "outputs": [],
   "source": [
    "import os\n",
    "os.environ['TF_CPP_MIN_LOG_LEVEL'] = '3'"
   ]
  },
  {
   "cell_type": "code",
   "execution_count": 3,
   "id": "2e38acd0",
   "metadata": {
    "id": "2e38acd0"
   },
   "outputs": [],
   "source": [
    "import pandas as pd\n",
    "import numpy as np\n",
    "import utils\n",
    "\n",
    "from sklearn.model_selection import train_test_split\n",
    "from sklearn.metrics import confusion_matrix, ConfusionMatrixDisplay\n",
    "\n",
    "from transformers import AutoTokenizer, TFBertModel\n",
    "\n",
    "import tensorflow as tf\n",
    "import tensorflow_hub as hub\n",
    "import tensorflow_text as text\n",
    "from tensorflow.keras.optimizers import Adam\n",
    "import keras_tuner as kt\n",
    "from keras.models import Model, Sequential\n",
    "from keras.layers import Input, Dense, Dropout, Embedding, LSTM, Bidirectional, GRU\n",
    "from tensorflow.keras import regularizers\n",
    "from keras.callbacks import EarlyStopping, ReduceLROnPlateau\n",
    "\n",
    "import matplotlib.pyplot as plt"
   ]
  },
  {
   "cell_type": "markdown",
   "id": "g5MgZ8c5yXT2",
   "metadata": {
    "id": "g5MgZ8c5yXT2"
   },
   "source": [
    "Using GPU if available"
   ]
  },
  {
   "cell_type": "code",
   "execution_count": 4,
   "id": "6z9aWJ8IP9gZ",
   "metadata": {
    "colab": {
     "base_uri": "https://localhost:8080/"
    },
    "id": "6z9aWJ8IP9gZ",
    "outputId": "a97ad05d-b202-4508-9ca3-55b4d101c55d"
   },
   "outputs": [
    {
     "name": "stdout",
     "output_type": "stream",
     "text": [
      "Found GPU at: /device:GPU:0\n"
     ]
    }
   ],
   "source": [
    "device_name = tf.test.gpu_device_name()\n",
    "if device_name != '/device:GPU:0':\n",
    "  raise SystemError('GPU device not found')\n",
    "print('Found GPU at: {}'.format(device_name))"
   ]
  },
  {
   "cell_type": "markdown",
   "id": "CIKEQMZggxiw",
   "metadata": {
    "id": "CIKEQMZggxiw"
   },
   "source": [
    "# Preprocessing"
   ]
  },
  {
   "cell_type": "markdown",
   "id": "t0z-sGiVnySB",
   "metadata": {
    "id": "t0z-sGiVnySB"
   },
   "source": [
    "The primary data for the competition is, in each provided file, the *comment_text* column. This contains the text of a comment which has been labeled as **Conspiratorial** (1) or **non-conspiratorial** (0). The train set’s comments are entirely in Italian with sporadic citation of external resources in English and come exclusively from Telegram Channels.\n",
    "\n",
    "The **subtaskA_train.csv** contains a *conspiratorial* column that it is the target to be trained on. The values of such column are either 1 indicating that the corresponding comment in *comment_text* column is Conspiratorial. Otherwise it is 0."
   ]
  },
  {
   "cell_type": "markdown",
   "id": "oCyO4VY-g7KK",
   "metadata": {
    "id": "oCyO4VY-g7KK"
   },
   "source": [
    "## Loading dataset"
   ]
  },
  {
   "cell_type": "code",
   "execution_count": 5,
   "id": "918edc94",
   "metadata": {
    "id": "918edc94"
   },
   "outputs": [],
   "source": [
    "train = pd.read_csv(\"subtaskA_train_set.csv\")\n",
    "val = pd.read_csv(\"subtaskA_val_set.csv\")\n",
    "test = pd.read_csv(\"subtaskA_test_set.csv\")\n",
    "trainval = pd.read_csv(\"subtaskA_trainval_set.csv\")"
   ]
  },
  {
   "cell_type": "markdown",
   "id": "uBY2RcXqzv4C",
   "metadata": {
    "id": "uBY2RcXqzv4C"
   },
   "source": [
    "# Model training"
   ]
  },
  {
   "cell_type": "markdown",
   "id": "xCRFhy9lrFAG",
   "metadata": {
    "id": "xCRFhy9lrFAG"
   },
   "source": [
    "## Architecture definition"
   ]
  },
  {
   "cell_type": "markdown",
   "id": "Y4YRVqpgrtII",
   "metadata": {
    "id": "Y4YRVqpgrtII"
   },
   "source": [
    "In this notebook the task has been addressed by using the [**Multilingual Universal Sentence Encoder**](https://arxiv.org/pdf/1907.04307.pdf). It's a multilingual text encoder trained by Google on 16 languages (including italian) and freely available on [TensorFlow Hub](https://tfhub.dev/google/universal-sentence-encoder-multilingual/3).\n",
    "\n",
    "This encoder relies on [SentencePiece](https://aclanthology.org/D18-2012.pdf) tokenizer."
   ]
  },
  {
   "cell_type": "code",
   "execution_count": 6,
   "id": "f50931f8",
   "metadata": {
    "id": "f50931f8"
   },
   "outputs": [],
   "source": [
    "tfhub_handle_encoder = \"https://tfhub.dev/google/universal-sentence-encoder-multilingual/3\"\n",
    "tfhub_handle_preprocess = \"https://tfhub.dev/google/universal-sentence-encoder-multilingual/3\""
   ]
  },
  {
   "cell_type": "code",
   "execution_count": 7,
   "id": "e95150b5",
   "metadata": {
    "id": "e95150b5"
   },
   "outputs": [],
   "source": [
    "def build_model_with_hp(\n",
    "    gru_units: int,\n",
    "    l1_units: int,\n",
    "    l2_units: int,\n",
    "    l3_units: int,\n",
    "    l2_value: float,\n",
    "    dropout_rate: float,\n",
    "    learning_rate: float,\n",
    "    epsilon: float,\n",
    "    clipnorm: float\n",
    "):\n",
    "    # defining inputs\n",
    "    text_input = tf.keras.layers.Input(shape=(), dtype=tf.string, name='text')\n",
    "\n",
    "    # defining preprocessing\n",
    "    preprocessing_layer = hub.KerasLayer(tfhub_handle_preprocess, name='preprocessing')\n",
    "\n",
    "    # defining encoder\n",
    "    encoder = hub.KerasLayer(tfhub_handle_encoder, trainable=False, name='text_encoder')\n",
    "    net = encoder(text_input)\n",
    "\n",
    "    # Reshape net to add a time step dimension\n",
    "    net = tf.expand_dims(net, axis=1)\n",
    "\n",
    "    net = GRU(\n",
    "        units = gru_units,\n",
    "        kernel_regularizer = regularizers.L2(l2_value),\n",
    "        dropout = dropout_rate,\n",
    "        name = \"GRU_layer\")(net)\n",
    "\n",
    "    # FULLY CONNECTED LAYERS\n",
    "\n",
    "    net = tf.keras.layers.Dense(\n",
    "        units = l1_units,\n",
    "        kernel_regularizer = regularizers.L2(l2_value),\n",
    "        activation = \"relu\",\n",
    "        name = \"Dense_layer_1\"\n",
    "    )(net)\n",
    "\n",
    "    net = Dropout(rate=dropout_rate)(net)\n",
    "\n",
    "    net = tf.keras.layers.Dense(\n",
    "        units = l2_units,\n",
    "        kernel_regularizer = regularizers.L2(l2_value),\n",
    "        activation=\"relu\",\n",
    "        name = \"Dense_layer_2\"\n",
    "    )(net)\n",
    "\n",
    "    net = Dropout(rate=dropout_rate)(net)\n",
    "\n",
    "    net = tf.keras.layers.Dense(\n",
    "        units = l3_units,\n",
    "        kernel_regularizer = regularizers.L2(l2_value),\n",
    "        activation=\"relu\",\n",
    "        name = \"Dense_layer_3\"\n",
    "    )(net)\n",
    "\n",
    "    net = Dropout(rate=dropout_rate)(net)\n",
    "\n",
    "    # OUTPUT LAYER\n",
    "    net = tf.keras.layers.Dense(\n",
    "        units = 1,\n",
    "        kernel_regularizer = regularizers.L2(l2_value),\n",
    "        activation = \"sigmoid\",\n",
    "        name = 'classifier'\n",
    "    )(net)\n",
    "\n",
    "    model = tf.keras.Model(text_input, net)\n",
    "\n",
    "    optimizer = Adam(\n",
    "        learning_rate = learning_rate,\n",
    "        epsilon = epsilon,\n",
    "        clipnorm = clipnorm\n",
    "    )\n",
    "\n",
    "    model.compile(\n",
    "        optimizer = optimizer,\n",
    "        loss = 'binary_crossentropy',\n",
    "        metrics = 'accuracy'\n",
    "    )\n",
    "\n",
    "    return model\n",
    "\n",
    "def build_classifier_model(hp):\n",
    "    gru_units = hp.Int('gru_units', min_value=4, max_value=10, step=1)\n",
    "    l1_units = hp.Int('l1_units', min_value=5, max_value=40, step=5)\n",
    "    l2_units = hp.Int('l2_units', min_value=5, max_value=40, step=5)\n",
    "    l3_units = hp.Int('l3_units', min_value=5, max_value=40, step=5)\n",
    "    l2_value = hp.Choice('L2 regularization', values = [1e-5, 1e-6])\n",
    "    dropout_rate = 0.1\n",
    "    learning_rate = hp.Choice('learning_rate', values=[1e-2, 1e-3, 1e-4])\n",
    "    epsilon = 1e-7\n",
    "    clipnorm = 0.1\n",
    "\n",
    "    return build_model_with_hp(gru_units, l1_units, l2_units, l3_units, l2_value, dropout_rate, learning_rate, epsilon, clipnorm)"
   ]
  },
  {
   "cell_type": "markdown",
   "id": "ERg54-GbwwT0",
   "metadata": {
    "id": "ERg54-GbwwT0"
   },
   "source": [
    "Along the model, we introduce 2 callbacks to support the model training:\n",
    "\n",
    "\n",
    "*   **ReduceLROnPlateau**: Reduce learning rate when a metric has stopped improving. Models often benefit from reducing the learning rate by a factor once learning stagnates. This callback monitors a quantity and if no improvement is seen for a 'patience' number of epochs, the learning rate is reduced.\n",
    "*   **EarlyStopping**: Stop training when a monitored metric has stopped improving.\n",
    "\n"
   ]
  },
  {
   "cell_type": "code",
   "execution_count": 8,
   "id": "gKHk5YADlgbA",
   "metadata": {
    "id": "gKHk5YADlgbA"
   },
   "outputs": [],
   "source": [
    "reduce_lr = ReduceLROnPlateau(\n",
    "    monitor=\"val_loss\",\n",
    "    factor=5e-2,\n",
    "    patience=5,\n",
    "    verbose=0,\n",
    "    mode=\"auto\",\n",
    "    min_delta=1e-3,\n",
    "    min_lr=1e-5\n",
    ")\n",
    "early_stopping = EarlyStopping(monitor='val_accuracy' ,mode='max', patience=20,verbose=False,restore_best_weights=True)"
   ]
  },
  {
   "cell_type": "markdown",
   "id": "md00PvdQ0fmM",
   "metadata": {
    "id": "md00PvdQ0fmM"
   },
   "source": [
    "## Performing a random search of the hyperparameters"
   ]
  },
  {
   "cell_type": "code",
   "execution_count": 9,
   "id": "7ae4ee76",
   "metadata": {
    "id": "7ae4ee76"
   },
   "outputs": [],
   "source": [
    "tuner = kt.RandomSearch(\n",
    "    hypermodel=build_classifier_model,\n",
    "    max_trials=10,\n",
    "    objective='val_accuracy',\n",
    "    overwrite=True\n",
    ")"
   ]
  },
  {
   "cell_type": "code",
   "execution_count": 10,
   "id": "5831c33f",
   "metadata": {
    "colab": {
     "base_uri": "https://localhost:8080/"
    },
    "id": "5831c33f",
    "outputId": "de1ee072-74ca-4cdc-9e98-17a4ed75104d",
    "scrolled": true
   },
   "outputs": [
    {
     "name": "stdout",
     "output_type": "stream",
     "text": [
      "Trial 10 Complete [00h 01m 30s]\n",
      "val_accuracy: 0.75\n",
      "\n",
      "Best val_accuracy So Far: 0.75\n",
      "Total elapsed time: 00h 12m 27s\n"
     ]
    }
   ],
   "source": [
    "print(f'Training model with {tfhub_handle_encoder}')\n",
    "tuner.search(\n",
    "    x = train[\"comment_text\"],\n",
    "    y = train[\"conspiratorial\"],\n",
    "    epochs = 100,\n",
    "    validation_data = (val[\"comment_text\"], val[\"conspiratorial\"]),\n",
    "    callbacks = [\n",
    "        reduce_lr,\n",
    "        early_stopping\n",
    "    ]\n",
    ")"
   ]
  },
  {
   "cell_type": "code",
   "execution_count": 12,
   "id": "UrZ8wK_JmzhR",
   "metadata": {
    "colab": {
     "base_uri": "https://localhost:8080/"
    },
    "id": "UrZ8wK_JmzhR",
    "outputId": "64fe733f-c78c-4b97-8366-14dfa8b15a32"
   },
   "outputs": [
    {
     "name": "stdout",
     "output_type": "stream",
     "text": [
      "Results summary\n",
      "Results in ./untitled_project\n",
      "Showing 5 best trials\n",
      "Objective(name=\"val_accuracy\", direction=\"max\")\n",
      "\n",
      "Trial 00 summary\n",
      "Hyperparameters:\n",
      "gru_units: 4\n",
      "l1_units: 40\n",
      "l2_units: 5\n",
      "l3_units: 10\n",
      "L2 regularization: 1e-05\n",
      "learning_rate: 0.01\n",
      "Score: 0.75\n",
      "\n",
      "Trial 09 summary\n",
      "Hyperparameters:\n",
      "gru_units: 4\n",
      "l1_units: 20\n",
      "l2_units: 30\n",
      "l3_units: 30\n",
      "L2 regularization: 1e-06\n",
      "learning_rate: 0.001\n",
      "Score: 0.75\n",
      "\n",
      "Trial 03 summary\n",
      "Hyperparameters:\n",
      "gru_units: 5\n",
      "l1_units: 40\n",
      "l2_units: 10\n",
      "l3_units: 25\n",
      "L2 regularization: 1e-05\n",
      "learning_rate: 0.001\n",
      "Score: 0.7439758777618408\n",
      "\n",
      "Trial 04 summary\n",
      "Hyperparameters:\n",
      "gru_units: 9\n",
      "l1_units: 10\n",
      "l2_units: 5\n",
      "l3_units: 35\n",
      "L2 regularization: 1e-05\n",
      "learning_rate: 0.01\n",
      "Score: 0.7439758777618408\n",
      "\n",
      "Trial 05 summary\n",
      "Hyperparameters:\n",
      "gru_units: 5\n",
      "l1_units: 30\n",
      "l2_units: 10\n",
      "l3_units: 5\n",
      "L2 regularization: 1e-05\n",
      "learning_rate: 0.001\n",
      "Score: 0.7439758777618408\n"
     ]
    }
   ],
   "source": [
    "tuner.results_summary(5)"
   ]
  },
  {
   "cell_type": "markdown",
   "id": "xyK9Derdx_BM",
   "metadata": {
    "id": "xyK9Derdx_BM"
   },
   "source": [
    "# Final phase: retrain and test"
   ]
  },
  {
   "cell_type": "markdown",
   "id": "HIo5I05lx-ml",
   "metadata": {
    "id": "HIo5I05lx-ml"
   },
   "source": [
    "After the search for optimal parameters we perform another fit on the training set in order to observe closely the learning curves on training and validation."
   ]
  },
  {
   "cell_type": "code",
   "execution_count": 13,
   "id": "KA4Vdue_ka-w",
   "metadata": {
    "id": "KA4Vdue_ka-w"
   },
   "outputs": [],
   "source": [
    "gru_units = 4\n",
    "l1_units = 40\n",
    "l2_units = 5\n",
    "l3_units = 10\n",
    "l2_value = 1e-5\n",
    "dropout_rate = 0.1\n",
    "learning_rate = 1e-4\n",
    "epsilon = 1e-7\n",
    "clipnorm = 0.1"
   ]
  },
  {
   "cell_type": "code",
   "execution_count": 14,
   "id": "NGXfMMzgd_-k",
   "metadata": {
    "colab": {
     "base_uri": "https://localhost:8080/"
    },
    "id": "NGXfMMzgd_-k",
    "outputId": "77c35acc-64d4-4dd3-9b58-d1a556807954"
   },
   "outputs": [
    {
     "name": "stdout",
     "output_type": "stream",
     "text": [
      "Training model with https://tfhub.dev/google/universal-sentence-encoder-multilingual/3\n",
      "Epoch 1/70\n",
      "42/42 [==============================] - 12s 62ms/step - loss: 0.6937 - accuracy: 0.4777 - val_loss: 0.6933 - val_accuracy: 0.5452 - lr: 1.0000e-04\n",
      "Epoch 2/70\n",
      "42/42 [==============================] - 1s 31ms/step - loss: 0.6934 - accuracy: 0.5321 - val_loss: 0.6930 - val_accuracy: 0.6114 - lr: 1.0000e-04\n",
      "Epoch 3/70\n",
      "42/42 [==============================] - 1s 30ms/step - loss: 0.6929 - accuracy: 0.5654 - val_loss: 0.6925 - val_accuracy: 0.6325 - lr: 1.0000e-04\n",
      "Epoch 4/70\n",
      "42/42 [==============================] - 1s 27ms/step - loss: 0.6922 - accuracy: 0.5926 - val_loss: 0.6916 - val_accuracy: 0.6446 - lr: 1.0000e-04\n",
      "Epoch 5/70\n",
      "42/42 [==============================] - 1s 25ms/step - loss: 0.6912 - accuracy: 0.6092 - val_loss: 0.6903 - val_accuracy: 0.6627 - lr: 1.0000e-04\n",
      "Epoch 6/70\n",
      "42/42 [==============================] - 1s 25ms/step - loss: 0.6897 - accuracy: 0.6402 - val_loss: 0.6881 - val_accuracy: 0.6777 - lr: 1.0000e-04\n",
      "Epoch 7/70\n",
      "42/42 [==============================] - 1s 29ms/step - loss: 0.6865 - accuracy: 0.6614 - val_loss: 0.6845 - val_accuracy: 0.6747 - lr: 1.0000e-04\n",
      "Epoch 8/70\n",
      "42/42 [==============================] - 2s 40ms/step - loss: 0.6824 - accuracy: 0.6795 - val_loss: 0.6807 - val_accuracy: 0.6807 - lr: 1.0000e-04\n",
      "Epoch 9/70\n",
      "42/42 [==============================] - 2s 41ms/step - loss: 0.6784 - accuracy: 0.6742 - val_loss: 0.6769 - val_accuracy: 0.6898 - lr: 1.0000e-04\n",
      "Epoch 10/70\n",
      "42/42 [==============================] - 2s 47ms/step - loss: 0.6731 - accuracy: 0.6871 - val_loss: 0.6726 - val_accuracy: 0.6928 - lr: 1.0000e-04\n",
      "Epoch 11/70\n",
      "42/42 [==============================] - 2s 44ms/step - loss: 0.6688 - accuracy: 0.6856 - val_loss: 0.6681 - val_accuracy: 0.6988 - lr: 1.0000e-04\n",
      "Epoch 12/70\n",
      "42/42 [==============================] - 1s 32ms/step - loss: 0.6647 - accuracy: 0.6886 - val_loss: 0.6634 - val_accuracy: 0.6958 - lr: 1.0000e-04\n",
      "Epoch 13/70\n",
      "42/42 [==============================] - 1s 27ms/step - loss: 0.6597 - accuracy: 0.6803 - val_loss: 0.6583 - val_accuracy: 0.6867 - lr: 1.0000e-04\n",
      "Epoch 14/70\n",
      "42/42 [==============================] - 1s 28ms/step - loss: 0.6529 - accuracy: 0.6977 - val_loss: 0.6533 - val_accuracy: 0.6958 - lr: 1.0000e-04\n",
      "Epoch 15/70\n",
      "42/42 [==============================] - 1s 28ms/step - loss: 0.6476 - accuracy: 0.6999 - val_loss: 0.6477 - val_accuracy: 0.6958 - lr: 1.0000e-04\n",
      "Epoch 16/70\n",
      "42/42 [==============================] - 1s 25ms/step - loss: 0.6371 - accuracy: 0.7113 - val_loss: 0.6417 - val_accuracy: 0.6928 - lr: 1.0000e-04\n",
      "Epoch 17/70\n",
      "42/42 [==============================] - 1s 23ms/step - loss: 0.6312 - accuracy: 0.7090 - val_loss: 0.6360 - val_accuracy: 0.7018 - lr: 1.0000e-04\n",
      "Epoch 18/70\n",
      "42/42 [==============================] - 1s 30ms/step - loss: 0.6264 - accuracy: 0.7090 - val_loss: 0.6303 - val_accuracy: 0.6958 - lr: 1.0000e-04\n",
      "Epoch 19/70\n",
      "42/42 [==============================] - 2s 40ms/step - loss: 0.6191 - accuracy: 0.7120 - val_loss: 0.6244 - val_accuracy: 0.7078 - lr: 1.0000e-04\n",
      "Epoch 20/70\n",
      "42/42 [==============================] - 2s 38ms/step - loss: 0.6077 - accuracy: 0.7256 - val_loss: 0.6182 - val_accuracy: 0.7169 - lr: 1.0000e-04\n",
      "Epoch 21/70\n",
      "42/42 [==============================] - 1s 26ms/step - loss: 0.6074 - accuracy: 0.7090 - val_loss: 0.6124 - val_accuracy: 0.7139 - lr: 1.0000e-04\n",
      "Epoch 22/70\n",
      "42/42 [==============================] - 1s 24ms/step - loss: 0.5990 - accuracy: 0.7279 - val_loss: 0.6068 - val_accuracy: 0.7199 - lr: 1.0000e-04\n",
      "Epoch 23/70\n",
      "42/42 [==============================] - 1s 27ms/step - loss: 0.5968 - accuracy: 0.7218 - val_loss: 0.6016 - val_accuracy: 0.7199 - lr: 1.0000e-04\n",
      "Epoch 24/70\n",
      "42/42 [==============================] - 1s 24ms/step - loss: 0.5861 - accuracy: 0.7196 - val_loss: 0.5964 - val_accuracy: 0.7199 - lr: 1.0000e-04\n",
      "Epoch 25/70\n",
      "42/42 [==============================] - 1s 27ms/step - loss: 0.5753 - accuracy: 0.7423 - val_loss: 0.5912 - val_accuracy: 0.7229 - lr: 1.0000e-04\n",
      "Epoch 26/70\n",
      "42/42 [==============================] - 1s 28ms/step - loss: 0.5673 - accuracy: 0.7468 - val_loss: 0.5862 - val_accuracy: 0.7199 - lr: 1.0000e-04\n",
      "Epoch 27/70\n",
      "42/42 [==============================] - 1s 25ms/step - loss: 0.5718 - accuracy: 0.7445 - val_loss: 0.5819 - val_accuracy: 0.7229 - lr: 1.0000e-04\n",
      "Epoch 28/70\n",
      "42/42 [==============================] - 1s 28ms/step - loss: 0.5629 - accuracy: 0.7302 - val_loss: 0.5780 - val_accuracy: 0.7229 - lr: 1.0000e-04\n",
      "Epoch 29/70\n",
      "42/42 [==============================] - 1s 28ms/step - loss: 0.5557 - accuracy: 0.7453 - val_loss: 0.5740 - val_accuracy: 0.7229 - lr: 1.0000e-04\n",
      "Epoch 30/70\n",
      "42/42 [==============================] - 2s 38ms/step - loss: 0.5475 - accuracy: 0.7370 - val_loss: 0.5700 - val_accuracy: 0.7259 - lr: 1.0000e-04\n",
      "Epoch 31/70\n",
      "42/42 [==============================] - 2s 43ms/step - loss: 0.5425 - accuracy: 0.7513 - val_loss: 0.5664 - val_accuracy: 0.7289 - lr: 1.0000e-04\n",
      "Epoch 32/70\n",
      "42/42 [==============================] - 1s 30ms/step - loss: 0.5417 - accuracy: 0.7574 - val_loss: 0.5631 - val_accuracy: 0.7259 - lr: 1.0000e-04\n",
      "Epoch 33/70\n",
      "42/42 [==============================] - 1s 24ms/step - loss: 0.5352 - accuracy: 0.7566 - val_loss: 0.5598 - val_accuracy: 0.7259 - lr: 1.0000e-04\n",
      "Epoch 34/70\n",
      "42/42 [==============================] - 1s 28ms/step - loss: 0.5307 - accuracy: 0.7604 - val_loss: 0.5571 - val_accuracy: 0.7319 - lr: 1.0000e-04\n",
      "Epoch 35/70\n",
      "42/42 [==============================] - 1s 25ms/step - loss: 0.5199 - accuracy: 0.7596 - val_loss: 0.5542 - val_accuracy: 0.7349 - lr: 1.0000e-04\n",
      "Epoch 36/70\n",
      "42/42 [==============================] - 1s 27ms/step - loss: 0.5239 - accuracy: 0.7755 - val_loss: 0.5524 - val_accuracy: 0.7349 - lr: 1.0000e-04\n",
      "Epoch 37/70\n",
      "42/42 [==============================] - 1s 24ms/step - loss: 0.5211 - accuracy: 0.7566 - val_loss: 0.5497 - val_accuracy: 0.7380 - lr: 1.0000e-04\n",
      "Epoch 38/70\n",
      "42/42 [==============================] - 1s 27ms/step - loss: 0.5201 - accuracy: 0.7627 - val_loss: 0.5471 - val_accuracy: 0.7319 - lr: 1.0000e-04\n",
      "Epoch 39/70\n",
      "42/42 [==============================] - 1s 25ms/step - loss: 0.5032 - accuracy: 0.7770 - val_loss: 0.5446 - val_accuracy: 0.7349 - lr: 1.0000e-04\n",
      "Epoch 40/70\n",
      "42/42 [==============================] - 1s 26ms/step - loss: 0.5147 - accuracy: 0.7551 - val_loss: 0.5426 - val_accuracy: 0.7380 - lr: 1.0000e-04\n",
      "Epoch 41/70\n",
      "42/42 [==============================] - 1s 34ms/step - loss: 0.5026 - accuracy: 0.7672 - val_loss: 0.5409 - val_accuracy: 0.7380 - lr: 1.0000e-04\n",
      "Epoch 42/70\n",
      "42/42 [==============================] - 2s 44ms/step - loss: 0.5059 - accuracy: 0.7770 - val_loss: 0.5393 - val_accuracy: 0.7319 - lr: 1.0000e-04\n",
      "Epoch 43/70\n",
      "42/42 [==============================] - 2s 39ms/step - loss: 0.4932 - accuracy: 0.7695 - val_loss: 0.5381 - val_accuracy: 0.7319 - lr: 1.0000e-04\n",
      "Epoch 44/70\n",
      "42/42 [==============================] - 1s 27ms/step - loss: 0.4928 - accuracy: 0.7755 - val_loss: 0.5359 - val_accuracy: 0.7319 - lr: 1.0000e-04\n",
      "Epoch 45/70\n",
      "42/42 [==============================] - 1s 26ms/step - loss: 0.5008 - accuracy: 0.7846 - val_loss: 0.5343 - val_accuracy: 0.7289 - lr: 1.0000e-04\n",
      "Epoch 46/70\n",
      "42/42 [==============================] - 1s 28ms/step - loss: 0.4825 - accuracy: 0.7884 - val_loss: 0.5329 - val_accuracy: 0.7289 - lr: 1.0000e-04\n",
      "Epoch 47/70\n",
      "42/42 [==============================] - 1s 29ms/step - loss: 0.4828 - accuracy: 0.7876 - val_loss: 0.5322 - val_accuracy: 0.7289 - lr: 1.0000e-04\n",
      "Epoch 48/70\n",
      "42/42 [==============================] - 1s 24ms/step - loss: 0.4896 - accuracy: 0.7717 - val_loss: 0.5303 - val_accuracy: 0.7349 - lr: 1.0000e-04\n",
      "Epoch 49/70\n",
      "42/42 [==============================] - 1s 24ms/step - loss: 0.4908 - accuracy: 0.7763 - val_loss: 0.5288 - val_accuracy: 0.7380 - lr: 1.0000e-04\n",
      "Epoch 50/70\n",
      "42/42 [==============================] - 1s 24ms/step - loss: 0.4834 - accuracy: 0.7785 - val_loss: 0.5274 - val_accuracy: 0.7349 - lr: 1.0000e-04\n",
      "Epoch 51/70\n",
      "42/42 [==============================] - 1s 29ms/step - loss: 0.4823 - accuracy: 0.7838 - val_loss: 0.5257 - val_accuracy: 0.7319 - lr: 1.0000e-04\n",
      "Epoch 52/70\n",
      "42/42 [==============================] - 1s 35ms/step - loss: 0.4716 - accuracy: 0.7914 - val_loss: 0.5261 - val_accuracy: 0.7470 - lr: 1.0000e-04\n",
      "Epoch 53/70\n",
      "42/42 [==============================] - 2s 43ms/step - loss: 0.4823 - accuracy: 0.7831 - val_loss: 0.5247 - val_accuracy: 0.7470 - lr: 1.0000e-04\n",
      "Epoch 54/70\n",
      "42/42 [==============================] - 2s 37ms/step - loss: 0.4780 - accuracy: 0.7891 - val_loss: 0.5233 - val_accuracy: 0.7349 - lr: 1.0000e-04\n",
      "Epoch 55/70\n",
      "42/42 [==============================] - 1s 26ms/step - loss: 0.4861 - accuracy: 0.7800 - val_loss: 0.5236 - val_accuracy: 0.7410 - lr: 1.0000e-04\n",
      "Epoch 56/70\n",
      "42/42 [==============================] - 1s 24ms/step - loss: 0.4753 - accuracy: 0.7884 - val_loss: 0.5220 - val_accuracy: 0.7229 - lr: 1.0000e-04\n",
      "Epoch 57/70\n",
      "42/42 [==============================] - 1s 28ms/step - loss: 0.4681 - accuracy: 0.7861 - val_loss: 0.5217 - val_accuracy: 0.7289 - lr: 1.0000e-04\n",
      "Epoch 58/70\n",
      "42/42 [==============================] - 1s 25ms/step - loss: 0.4725 - accuracy: 0.7861 - val_loss: 0.5211 - val_accuracy: 0.7229 - lr: 1.0000e-04\n",
      "Epoch 59/70\n",
      "42/42 [==============================] - 1s 29ms/step - loss: 0.4671 - accuracy: 0.7929 - val_loss: 0.5208 - val_accuracy: 0.7259 - lr: 1.0000e-04\n",
      "Epoch 60/70\n",
      "42/42 [==============================] - 1s 25ms/step - loss: 0.4545 - accuracy: 0.8050 - val_loss: 0.5208 - val_accuracy: 0.7259 - lr: 1.0000e-04\n",
      "Epoch 61/70\n",
      "42/42 [==============================] - 1s 25ms/step - loss: 0.4580 - accuracy: 0.7891 - val_loss: 0.5213 - val_accuracy: 0.7289 - lr: 1.0000e-04\n",
      "Epoch 62/70\n",
      "42/42 [==============================] - 1s 28ms/step - loss: 0.4441 - accuracy: 0.7967 - val_loss: 0.5204 - val_accuracy: 0.7289 - lr: 1.0000e-04\n",
      "Epoch 63/70\n",
      "42/42 [==============================] - 1s 32ms/step - loss: 0.4624 - accuracy: 0.7974 - val_loss: 0.5202 - val_accuracy: 0.7289 - lr: 1.0000e-04\n",
      "Epoch 64/70\n",
      "42/42 [==============================] - 2s 42ms/step - loss: 0.4604 - accuracy: 0.7937 - val_loss: 0.5203 - val_accuracy: 0.7259 - lr: 1.0000e-04\n",
      "Epoch 65/70\n",
      "42/42 [==============================] - 2s 39ms/step - loss: 0.4524 - accuracy: 0.8042 - val_loss: 0.5203 - val_accuracy: 0.7259 - lr: 1.0000e-05\n",
      "Epoch 66/70\n",
      "42/42 [==============================] - 1s 28ms/step - loss: 0.4516 - accuracy: 0.8042 - val_loss: 0.5203 - val_accuracy: 0.7259 - lr: 1.0000e-05\n",
      "Epoch 67/70\n",
      "42/42 [==============================] - 1s 25ms/step - loss: 0.4449 - accuracy: 0.8050 - val_loss: 0.5203 - val_accuracy: 0.7259 - lr: 1.0000e-05\n",
      "Epoch 68/70\n",
      "42/42 [==============================] - 1s 25ms/step - loss: 0.4503 - accuracy: 0.8042 - val_loss: 0.5204 - val_accuracy: 0.7259 - lr: 1.0000e-05\n",
      "Epoch 69/70\n",
      "42/42 [==============================] - 1s 28ms/step - loss: 0.4437 - accuracy: 0.8080 - val_loss: 0.5205 - val_accuracy: 0.7259 - lr: 1.0000e-05\n",
      "Epoch 70/70\n",
      "42/42 [==============================] - 1s 25ms/step - loss: 0.4495 - accuracy: 0.7982 - val_loss: 0.5205 - val_accuracy: 0.7289 - lr: 1.0000e-05\n"
     ]
    }
   ],
   "source": [
    "best_model = build_model_with_hp(\n",
    "    gru_units = gru_units,\n",
    "    l1_units = l1_units,\n",
    "    l2_units = l2_units,\n",
    "    l3_units = l3_units,\n",
    "    l2_value = l2_value,\n",
    "    dropout_rate = dropout_rate,\n",
    "    learning_rate = learning_rate,\n",
    "    epsilon = epsilon,\n",
    "    clipnorm = clipnorm\n",
    ")\n",
    "\n",
    "print(f'Training model with {tfhub_handle_encoder}')\n",
    "history = best_model.fit(\n",
    "    x = train[\"comment_text\"],\n",
    "    y = train[\"conspiratorial\"],\n",
    "    epochs=70,\n",
    "    validation_data = (val[\"comment_text\"], val[\"conspiratorial\"]),\n",
    "    batch_size = 32,\n",
    "    callbacks= [\n",
    "      reduce_lr\n",
    "    ]\n",
    ")\n"
   ]
  },
  {
   "cell_type": "code",
   "execution_count": 15,
   "id": "bH9wezNce8oX",
   "metadata": {
    "colab": {
     "base_uri": "https://localhost:8080/",
     "height": 927
    },
    "id": "bH9wezNce8oX",
    "outputId": "59a8ba27-00b7-487f-eac7-c79022ea6378"
   },
   "outputs": [
    {
     "data": {
      "image/png": "[encoded data removed]",
      "text/plain": [
       "<Figure size 640x480 with 1 Axes>"
      ]
     },
     "metadata": {},
     "output_type": "display_data"
    },
    {
     "data": {
      "image/png": "[encoded data removed]",
      "text/plain": [
       "<Figure size 640x480 with 1 Axes>"
      ]
     },
     "metadata": {},
     "output_type": "display_data"
    }
   ],
   "source": [
    "utils.plot_history(history)"
   ]
  },
  {
   "cell_type": "markdown",
   "id": "fNSULGiPvb4N",
   "metadata": {
    "id": "fNSULGiPvb4N"
   },
   "source": [
    "## Retrain on training and validation"
   ]
  },
  {
   "cell_type": "markdown",
   "id": "0TBchWKt0rQA",
   "metadata": {
    "id": "0TBchWKt0rQA"
   },
   "source": [
    "Before testing our model, we retrain it on training and validation set using the best hyperparams found by the random search"
   ]
  },
  {
   "cell_type": "code",
   "execution_count": 16,
   "id": "sD6gFZqHve4a",
   "metadata": {
    "id": "sD6gFZqHve4a"
   },
   "outputs": [],
   "source": [
    "final_model = build_model_with_hp(\n",
    "    gru_units = gru_units,\n",
    "    l1_units = l1_units,\n",
    "    l2_units = l2_units,\n",
    "    l3_units = l3_units,\n",
    "    l2_value = l2_value,\n",
    "    dropout_rate = dropout_rate,\n",
    "    learning_rate = learning_rate,\n",
    "    epsilon = epsilon,\n",
    "    clipnorm = clipnorm\n",
    ")\n",
    "\n",
    "max_epochs = 50"
   ]
  },
  {
   "cell_type": "code",
   "execution_count": 17,
   "id": "XlHncSAHwGhp",
   "metadata": {
    "colab": {
     "base_uri": "https://localhost:8080/"
    },
    "id": "XlHncSAHwGhp",
    "outputId": "ba9f759f-fde8-4892-ac14-2fb461399d5c"
   },
   "outputs": [
    {
     "name": "stdout",
     "output_type": "stream",
     "text": [
      "Training model with https://tfhub.dev/google/universal-sentence-encoder-multilingual/3\n",
      "Epoch 1/50\n",
      "52/52 [==============================] - 11s 22ms/step - loss: 0.6931 - accuracy: 0.5782\n",
      "Epoch 2/50\n",
      "52/52 [==============================] - 1s 21ms/step - loss: 0.6924 - accuracy: 0.5867\n",
      "Epoch 3/50\n",
      "52/52 [==============================] - 1s 20ms/step - loss: 0.6906 - accuracy: 0.6091\n",
      "Epoch 4/50\n",
      "52/52 [==============================] - 1s 20ms/step - loss: 0.6888 - accuracy: 0.6254\n",
      "Epoch 5/50\n",
      "52/52 [==============================] - 1s 20ms/step - loss: 0.6864 - accuracy: 0.6459\n",
      "Epoch 6/50\n",
      "52/52 [==============================] - 1s 21ms/step - loss: 0.6828 - accuracy: 0.6804\n",
      "Epoch 7/50\n",
      "52/52 [==============================] - 1s 21ms/step - loss: 0.6794 - accuracy: 0.6773\n",
      "Epoch 8/50\n",
      "52/52 [==============================] - 1s 21ms/step - loss: 0.6747 - accuracy: 0.6846\n",
      "Epoch 9/50\n",
      "52/52 [==============================] - 1s 27ms/step - loss: 0.6693 - accuracy: 0.6816\n",
      "Epoch 10/50\n",
      "52/52 [==============================] - 2s 34ms/step - loss: 0.6633 - accuracy: 0.7039\n",
      "Epoch 11/50\n",
      "52/52 [==============================] - 2s 29ms/step - loss: 0.6580 - accuracy: 0.6943\n",
      "Epoch 12/50\n",
      "52/52 [==============================] - 1s 21ms/step - loss: 0.6485 - accuracy: 0.7184\n",
      "Epoch 13/50\n",
      "52/52 [==============================] - 1s 20ms/step - loss: 0.6437 - accuracy: 0.7045\n",
      "Epoch 14/50\n",
      "52/52 [==============================] - 1s 20ms/step - loss: 0.6331 - accuracy: 0.7045\n",
      "Epoch 15/50\n",
      "52/52 [==============================] - 1s 20ms/step - loss: 0.6239 - accuracy: 0.7154\n",
      "Epoch 16/50\n",
      "52/52 [==============================] - 1s 21ms/step - loss: 0.6151 - accuracy: 0.7088\n",
      "Epoch 17/50\n",
      "52/52 [==============================] - 1s 21ms/step - loss: 0.6043 - accuracy: 0.7160\n",
      "Epoch 18/50\n",
      "52/52 [==============================] - 1s 20ms/step - loss: 0.5956 - accuracy: 0.7178\n",
      "Epoch 19/50\n",
      "52/52 [==============================] - 1s 20ms/step - loss: 0.5889 - accuracy: 0.7251\n",
      "Epoch 20/50\n",
      "52/52 [==============================] - 1s 19ms/step - loss: 0.5822 - accuracy: 0.7233\n",
      "Epoch 21/50\n",
      "52/52 [==============================] - 2s 32ms/step - loss: 0.5770 - accuracy: 0.7208\n",
      "Epoch 22/50\n",
      "52/52 [==============================] - 2s 34ms/step - loss: 0.5706 - accuracy: 0.7269\n",
      "Epoch 23/50\n",
      "52/52 [==============================] - 1s 25ms/step - loss: 0.5635 - accuracy: 0.7166\n",
      "Epoch 24/50\n",
      "52/52 [==============================] - 1s 21ms/step - loss: 0.5512 - accuracy: 0.7293\n",
      "Epoch 25/50\n",
      "52/52 [==============================] - 1s 21ms/step - loss: 0.5510 - accuracy: 0.7227\n",
      "Epoch 26/50\n",
      "52/52 [==============================] - 1s 21ms/step - loss: 0.5399 - accuracy: 0.7360\n",
      "Epoch 27/50\n",
      "52/52 [==============================] - 1s 22ms/step - loss: 0.5416 - accuracy: 0.7366\n",
      "Epoch 28/50\n",
      "52/52 [==============================] - 1s 20ms/step - loss: 0.5433 - accuracy: 0.7281\n",
      "Epoch 29/50\n",
      "52/52 [==============================] - 1s 20ms/step - loss: 0.5395 - accuracy: 0.7384\n",
      "Epoch 30/50\n",
      "52/52 [==============================] - 1s 19ms/step - loss: 0.5320 - accuracy: 0.7275\n",
      "Epoch 31/50\n",
      "52/52 [==============================] - 1s 19ms/step - loss: 0.5257 - accuracy: 0.7287\n",
      "Epoch 32/50\n",
      "52/52 [==============================] - 1s 25ms/step - loss: 0.5206 - accuracy: 0.7444\n",
      "Epoch 33/50\n",
      "52/52 [==============================] - 2s 33ms/step - loss: 0.5187 - accuracy: 0.7402\n",
      "Epoch 34/50\n",
      "52/52 [==============================] - 2s 31ms/step - loss: 0.5256 - accuracy: 0.7287\n",
      "Epoch 35/50\n",
      "52/52 [==============================] - 1s 21ms/step - loss: 0.5257 - accuracy: 0.7378\n",
      "Epoch 36/50\n",
      "52/52 [==============================] - 1s 21ms/step - loss: 0.5222 - accuracy: 0.7426\n",
      "Epoch 37/50\n",
      "52/52 [==============================] - 1s 21ms/step - loss: 0.5060 - accuracy: 0.7468\n",
      "Epoch 38/50\n",
      "52/52 [==============================] - 1s 21ms/step - loss: 0.5040 - accuracy: 0.7601\n",
      "Epoch 39/50\n",
      "52/52 [==============================] - 1s 22ms/step - loss: 0.5025 - accuracy: 0.7468\n",
      "Epoch 40/50\n",
      "52/52 [==============================] - 1s 20ms/step - loss: 0.4925 - accuracy: 0.7571\n",
      "Epoch 41/50\n",
      "52/52 [==============================] - 1s 21ms/step - loss: 0.5022 - accuracy: 0.7637\n",
      "Epoch 42/50\n",
      "52/52 [==============================] - 1s 21ms/step - loss: 0.5027 - accuracy: 0.7631\n",
      "Epoch 43/50\n",
      "52/52 [==============================] - 1s 20ms/step - loss: 0.5010 - accuracy: 0.7535\n",
      "Epoch 44/50\n",
      "52/52 [==============================] - 2s 31ms/step - loss: 0.4922 - accuracy: 0.7595\n",
      "Epoch 45/50\n",
      "52/52 [==============================] - 2s 32ms/step - loss: 0.4923 - accuracy: 0.7565\n",
      "Epoch 46/50\n",
      "52/52 [==============================] - 2s 32ms/step - loss: 0.4885 - accuracy: 0.7650\n",
      "Epoch 47/50\n",
      "52/52 [==============================] - 1s 27ms/step - loss: 0.4916 - accuracy: 0.7631\n",
      "Epoch 48/50\n",
      "52/52 [==============================] - 1s 24ms/step - loss: 0.4843 - accuracy: 0.7752\n",
      "Epoch 49/50\n",
      "52/52 [==============================] - 1s 21ms/step - loss: 0.4902 - accuracy: 0.7553\n",
      "Epoch 50/50\n",
      "52/52 [==============================] - 1s 20ms/step - loss: 0.4829 - accuracy: 0.7650\n",
      "CPU times: user 1min 10s, sys: 3.57 s, total: 1min 14s\n",
      "Wall time: 1min 10s\n"
     ]
    }
   ],
   "source": [
    "%%time\n",
    "print(f'Training model with {tfhub_handle_encoder}')\n",
    "history = final_model.fit(\n",
    "    x = trainval[\"comment_text\"],\n",
    "    y = trainval[\"conspiratorial\"],\n",
    "    epochs=max_epochs,\n",
    "    batch_size = 32,\n",
    ")\n"
   ]
  },
  {
   "cell_type": "code",
   "execution_count": 18,
   "id": "t7PUXtHYCVHL",
   "metadata": {
    "colab": {
     "base_uri": "https://localhost:8080/"
    },
    "id": "t7PUXtHYCVHL",
    "outputId": "31391ba8-6367-4a59-edab-aa2df0529bbc"
   },
   "outputs": [
    {
     "name": "stdout",
     "output_type": "stream",
     "text": [
      "Model: \"model_2\"\n",
      "_________________________________________________________________\n",
      " Layer (type)                Output Shape              Param #   \n",
      "=================================================================\n",
      " text (InputLayer)           [(None,)]                 0         \n",
      "                                                                 \n",
      " text_encoder (KerasLayer)   (None, 512)               68927232  \n",
      "                                                                 \n",
      " tf.expand_dims_2 (TFOpLambd  (None, 1, 512)           0         \n",
      " a)                                                              \n",
      "                                                                 \n",
      " GRU_layer (GRU)             (None, 4)                 6216      \n",
      "                                                                 \n",
      " Dense_layer_1 (Dense)       (None, 40)                200       \n",
      "                                                                 \n",
      " dropout_6 (Dropout)         (None, 40)                0         \n",
      "                                                                 \n",
      " Dense_layer_2 (Dense)       (None, 5)                 205       \n",
      "                                                                 \n",
      " dropout_7 (Dropout)         (None, 5)                 0         \n",
      "                                                                 \n",
      " Dense_layer_3 (Dense)       (None, 10)                60        \n",
      "                                                                 \n",
      " dropout_8 (Dropout)         (None, 10)                0         \n",
      "                                                                 \n",
      " classifier (Dense)          (None, 1)                 11        \n",
      "                                                                 \n",
      "=================================================================\n",
      "Total params: 68,933,924\n",
      "Trainable params: 6,692\n",
      "Non-trainable params: 68,927,232\n",
      "_________________________________________________________________\n"
     ]
    }
   ],
   "source": [
    "final_model.summary()"
   ]
  },
  {
   "cell_type": "markdown",
   "id": "Sqg5olB_wryB",
   "metadata": {
    "id": "Sqg5olB_wryB"
   },
   "source": [
    "## Predict on test set"
   ]
  },
  {
   "cell_type": "code",
   "execution_count": 19,
   "id": "PGYUmYvNwvJ-",
   "metadata": {
    "colab": {
     "base_uri": "https://localhost:8080/"
    },
    "id": "PGYUmYvNwvJ-",
    "outputId": "a10e57dd-89ce-4c0e-c774-6082862bd5fb"
   },
   "outputs": [
    {
     "name": "stdout",
     "output_type": "stream",
     "text": [
      "6/6 [==============================] - 1s 25ms/step - loss: 0.4770 - accuracy: 0.7784\n"
     ]
    }
   ],
   "source": [
    "_ = final_model.evaluate(\n",
    "    x=test[\"comment_text\"],\n",
    "    y=test[\"conspiratorial\"],\n",
    "    batch_size=32\n",
    ")"
   ]
  },
  {
   "cell_type": "code",
   "execution_count": 20,
   "id": "sYjxSxoYxDoE",
   "metadata": {
    "colab": {
     "base_uri": "https://localhost:8080/",
     "height": 484
    },
    "id": "sYjxSxoYxDoE",
    "outputId": "2b481f2c-8b87-4f29-c902-da9619d70625"
   },
   "outputs": [
    {
     "name": "stdout",
     "output_type": "stream",
     "text": [
      "6/6 [==============================] - 1s 23ms/step\n"
     ]
    },
    {
     "data": {
      "text/plain": [
       "<sklearn.metrics._plot.confusion_matrix.ConfusionMatrixDisplay at 0x7f86006bce80>"
      ]
     },
     "execution_count": 20,
     "metadata": {},
     "output_type": "execute_result"
    },
    {
     "data": {
      "image/png": "[encoded data removed]",
      "text/plain": [
       "<Figure size 640x480 with 2 Axes>"
      ]
     },
     "metadata": {},
     "output_type": "display_data"
    }
   ],
   "source": [
    "predictions = final_model.predict(x=test[\"comment_text\"])\n",
    "predictions = list(map(round, [ _[0] for _ in predictions]))\n",
    "\n",
    "cm = confusion_matrix(test[\"conspiratorial\"], predictions)\n",
    "disp = ConfusionMatrixDisplay(confusion_matrix=cm, display_labels=[\"Non conspiratorial\", \"conspiratorial\"])\n",
    "disp.plot()"
   ]
  },
  {
   "cell_type": "code",
   "execution_count": null,
   "id": "pxGDPYJp_SAu",
   "metadata": {
    "id": "pxGDPYJp_SAu"
   },
   "outputs": [],
   "source": []
  }
 ],
 "metadata": {
  "accelerator": "GPU",
  "colab": {
   "gpuType": "T4",
   "provenance": [],
   "toc_visible": true
  },
  "kernelspec": {
   "display_name": "Python 3 (ipykernel)",
   "language": "python",
   "name": "python3"
  },
  "language_info": {
   "codemirror_mode": {
    "name": "ipython",
    "version": 3
   },
   "file_extension": ".py",
   "mimetype": "text/x-python",
   "name": "python",
   "nbconvert_exporter": "python",
   "pygments_lexer": "ipython3",
   "version": "3.10.6"
  }
 },
 "nbformat": 4,
 "nbformat_minor": 5
}
