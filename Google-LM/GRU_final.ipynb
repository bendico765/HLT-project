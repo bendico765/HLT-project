{
  "cells": [
    {
      "cell_type": "code",
      "source": [
        "!pip install transformers\n",
        "!pip install keras_tuner\n",
        "!pip install tensorflow_text"
      ],
      "metadata": {
        "colab": {
          "base_uri": "https://localhost:8080/"
        },
        "id": "ISevNR3ePivs",
        "outputId": "05d79452-486d-4148-d6b7-cdc608d774c4"
      },
      "id": "ISevNR3ePivs",
      "execution_count": 71,
      "outputs": [
        {
          "output_type": "stream",
          "name": "stdout",
          "text": [
            "Looking in indexes: https://pypi.org/simple, https://us-python.pkg.dev/colab-wheels/public/simple/\n",
            "Requirement already satisfied: transformers in /usr/local/lib/python3.10/dist-packages (4.30.2)\n",
            "Requirement already satisfied: filelock in /usr/local/lib/python3.10/dist-packages (from transformers) (3.12.0)\n",
            "Requirement already satisfied: huggingface-hub<1.0,>=0.14.1 in /usr/local/lib/python3.10/dist-packages (from transformers) (0.15.1)\n",
            "Requirement already satisfied: numpy>=1.17 in /usr/local/lib/python3.10/dist-packages (from transformers) (1.22.4)\n",
            "Requirement already satisfied: packaging>=20.0 in /usr/local/lib/python3.10/dist-packages (from transformers) (23.1)\n",
            "Requirement already satisfied: pyyaml>=5.1 in /usr/local/lib/python3.10/dist-packages (from transformers) (6.0)\n",
            "Requirement already satisfied: regex!=2019.12.17 in /usr/local/lib/python3.10/dist-packages (from transformers) (2022.10.31)\n",
            "Requirement already satisfied: requests in /usr/local/lib/python3.10/dist-packages (from transformers) (2.27.1)\n",
            "Requirement already satisfied: tokenizers!=0.11.3,<0.14,>=0.11.1 in /usr/local/lib/python3.10/dist-packages (from transformers) (0.13.3)\n",
            "Requirement already satisfied: safetensors>=0.3.1 in /usr/local/lib/python3.10/dist-packages (from transformers) (0.3.1)\n",
            "Requirement already satisfied: tqdm>=4.27 in /usr/local/lib/python3.10/dist-packages (from transformers) (4.65.0)\n",
            "Requirement already satisfied: fsspec in /usr/local/lib/python3.10/dist-packages (from huggingface-hub<1.0,>=0.14.1->transformers) (2023.4.0)\n",
            "Requirement already satisfied: typing-extensions>=3.7.4.3 in /usr/local/lib/python3.10/dist-packages (from huggingface-hub<1.0,>=0.14.1->transformers) (4.5.0)\n",
            "Requirement already satisfied: urllib3<1.27,>=1.21.1 in /usr/local/lib/python3.10/dist-packages (from requests->transformers) (1.26.15)\n",
            "Requirement already satisfied: certifi>=2017.4.17 in /usr/local/lib/python3.10/dist-packages (from requests->transformers) (2022.12.7)\n",
            "Requirement already satisfied: charset-normalizer~=2.0.0 in /usr/local/lib/python3.10/dist-packages (from requests->transformers) (2.0.12)\n",
            "Requirement already satisfied: idna<4,>=2.5 in /usr/local/lib/python3.10/dist-packages (from requests->transformers) (3.4)\n",
            "Looking in indexes: https://pypi.org/simple, https://us-python.pkg.dev/colab-wheels/public/simple/\n",
            "Requirement already satisfied: keras_tuner in /usr/local/lib/python3.10/dist-packages (1.3.5)\n",
            "Requirement already satisfied: packaging in /usr/local/lib/python3.10/dist-packages (from keras_tuner) (23.1)\n",
            "Requirement already satisfied: requests in /usr/local/lib/python3.10/dist-packages (from keras_tuner) (2.27.1)\n",
            "Requirement already satisfied: kt-legacy in /usr/local/lib/python3.10/dist-packages (from keras_tuner) (1.0.5)\n",
            "Requirement already satisfied: urllib3<1.27,>=1.21.1 in /usr/local/lib/python3.10/dist-packages (from requests->keras_tuner) (1.26.15)\n",
            "Requirement already satisfied: certifi>=2017.4.17 in /usr/local/lib/python3.10/dist-packages (from requests->keras_tuner) (2022.12.7)\n",
            "Requirement already satisfied: charset-normalizer~=2.0.0 in /usr/local/lib/python3.10/dist-packages (from requests->keras_tuner) (2.0.12)\n",
            "Requirement already satisfied: idna<4,>=2.5 in /usr/local/lib/python3.10/dist-packages (from requests->keras_tuner) (3.4)\n",
            "Looking in indexes: https://pypi.org/simple, https://us-python.pkg.dev/colab-wheels/public/simple/\n",
            "Requirement already satisfied: tensorflow_text in /usr/local/lib/python3.10/dist-packages (2.12.1)\n",
            "Requirement already satisfied: tensorflow-hub>=0.8.0 in /usr/local/lib/python3.10/dist-packages (from tensorflow_text) (0.13.0)\n",
            "Requirement already satisfied: tensorflow<2.13,>=2.12.0 in /usr/local/lib/python3.10/dist-packages (from tensorflow_text) (2.12.0)\n",
            "Requirement already satisfied: absl-py>=1.0.0 in /usr/local/lib/python3.10/dist-packages (from tensorflow<2.13,>=2.12.0->tensorflow_text) (1.4.0)\n",
            "Requirement already satisfied: astunparse>=1.6.0 in /usr/local/lib/python3.10/dist-packages (from tensorflow<2.13,>=2.12.0->tensorflow_text) (1.6.3)\n",
            "Requirement already satisfied: flatbuffers>=2.0 in /usr/local/lib/python3.10/dist-packages (from tensorflow<2.13,>=2.12.0->tensorflow_text) (23.3.3)\n",
            "Requirement already satisfied: gast<=0.4.0,>=0.2.1 in /usr/local/lib/python3.10/dist-packages (from tensorflow<2.13,>=2.12.0->tensorflow_text) (0.4.0)\n",
            "Requirement already satisfied: google-pasta>=0.1.1 in /usr/local/lib/python3.10/dist-packages (from tensorflow<2.13,>=2.12.0->tensorflow_text) (0.2.0)\n",
            "Requirement already satisfied: grpcio<2.0,>=1.24.3 in /usr/local/lib/python3.10/dist-packages (from tensorflow<2.13,>=2.12.0->tensorflow_text) (1.54.0)\n",
            "Requirement already satisfied: h5py>=2.9.0 in /usr/local/lib/python3.10/dist-packages (from tensorflow<2.13,>=2.12.0->tensorflow_text) (3.8.0)\n",
            "Requirement already satisfied: jax>=0.3.15 in /usr/local/lib/python3.10/dist-packages (from tensorflow<2.13,>=2.12.0->tensorflow_text) (0.4.10)\n",
            "Requirement already satisfied: keras<2.13,>=2.12.0 in /usr/local/lib/python3.10/dist-packages (from tensorflow<2.13,>=2.12.0->tensorflow_text) (2.12.0)\n",
            "Requirement already satisfied: libclang>=13.0.0 in /usr/local/lib/python3.10/dist-packages (from tensorflow<2.13,>=2.12.0->tensorflow_text) (16.0.0)\n",
            "Requirement already satisfied: numpy<1.24,>=1.22 in /usr/local/lib/python3.10/dist-packages (from tensorflow<2.13,>=2.12.0->tensorflow_text) (1.22.4)\n",
            "Requirement already satisfied: opt-einsum>=2.3.2 in /usr/local/lib/python3.10/dist-packages (from tensorflow<2.13,>=2.12.0->tensorflow_text) (3.3.0)\n",
            "Requirement already satisfied: packaging in /usr/local/lib/python3.10/dist-packages (from tensorflow<2.13,>=2.12.0->tensorflow_text) (23.1)\n",
            "Requirement already satisfied: protobuf!=4.21.0,!=4.21.1,!=4.21.2,!=4.21.3,!=4.21.4,!=4.21.5,<5.0.0dev,>=3.20.3 in /usr/local/lib/python3.10/dist-packages (from tensorflow<2.13,>=2.12.0->tensorflow_text) (3.20.3)\n",
            "Requirement already satisfied: setuptools in /usr/local/lib/python3.10/dist-packages (from tensorflow<2.13,>=2.12.0->tensorflow_text) (67.7.2)\n",
            "Requirement already satisfied: six>=1.12.0 in /usr/local/lib/python3.10/dist-packages (from tensorflow<2.13,>=2.12.0->tensorflow_text) (1.16.0)\n",
            "Requirement already satisfied: tensorboard<2.13,>=2.12 in /usr/local/lib/python3.10/dist-packages (from tensorflow<2.13,>=2.12.0->tensorflow_text) (2.12.2)\n",
            "Requirement already satisfied: tensorflow-estimator<2.13,>=2.12.0 in /usr/local/lib/python3.10/dist-packages (from tensorflow<2.13,>=2.12.0->tensorflow_text) (2.12.0)\n",
            "Requirement already satisfied: termcolor>=1.1.0 in /usr/local/lib/python3.10/dist-packages (from tensorflow<2.13,>=2.12.0->tensorflow_text) (2.3.0)\n",
            "Requirement already satisfied: typing-extensions>=3.6.6 in /usr/local/lib/python3.10/dist-packages (from tensorflow<2.13,>=2.12.0->tensorflow_text) (4.5.0)\n",
            "Requirement already satisfied: wrapt<1.15,>=1.11.0 in /usr/local/lib/python3.10/dist-packages (from tensorflow<2.13,>=2.12.0->tensorflow_text) (1.14.1)\n",
            "Requirement already satisfied: tensorflow-io-gcs-filesystem>=0.23.1 in /usr/local/lib/python3.10/dist-packages (from tensorflow<2.13,>=2.12.0->tensorflow_text) (0.32.0)\n",
            "Requirement already satisfied: wheel<1.0,>=0.23.0 in /usr/local/lib/python3.10/dist-packages (from astunparse>=1.6.0->tensorflow<2.13,>=2.12.0->tensorflow_text) (0.40.0)\n",
            "Requirement already satisfied: ml-dtypes>=0.1.0 in /usr/local/lib/python3.10/dist-packages (from jax>=0.3.15->tensorflow<2.13,>=2.12.0->tensorflow_text) (0.1.0)\n",
            "Requirement already satisfied: scipy>=1.7 in /usr/local/lib/python3.10/dist-packages (from jax>=0.3.15->tensorflow<2.13,>=2.12.0->tensorflow_text) (1.10.1)\n",
            "Requirement already satisfied: google-auth<3,>=1.6.3 in /usr/local/lib/python3.10/dist-packages (from tensorboard<2.13,>=2.12->tensorflow<2.13,>=2.12.0->tensorflow_text) (2.17.3)\n",
            "Requirement already satisfied: google-auth-oauthlib<1.1,>=0.5 in /usr/local/lib/python3.10/dist-packages (from tensorboard<2.13,>=2.12->tensorflow<2.13,>=2.12.0->tensorflow_text) (1.0.0)\n",
            "Requirement already satisfied: markdown>=2.6.8 in /usr/local/lib/python3.10/dist-packages (from tensorboard<2.13,>=2.12->tensorflow<2.13,>=2.12.0->tensorflow_text) (3.4.3)\n",
            "Requirement already satisfied: requests<3,>=2.21.0 in /usr/local/lib/python3.10/dist-packages (from tensorboard<2.13,>=2.12->tensorflow<2.13,>=2.12.0->tensorflow_text) (2.27.1)\n",
            "Requirement already satisfied: tensorboard-data-server<0.8.0,>=0.7.0 in /usr/local/lib/python3.10/dist-packages (from tensorboard<2.13,>=2.12->tensorflow<2.13,>=2.12.0->tensorflow_text) (0.7.0)\n",
            "Requirement already satisfied: tensorboard-plugin-wit>=1.6.0 in /usr/local/lib/python3.10/dist-packages (from tensorboard<2.13,>=2.12->tensorflow<2.13,>=2.12.0->tensorflow_text) (1.8.1)\n",
            "Requirement already satisfied: werkzeug>=1.0.1 in /usr/local/lib/python3.10/dist-packages (from tensorboard<2.13,>=2.12->tensorflow<2.13,>=2.12.0->tensorflow_text) (2.3.0)\n",
            "Requirement already satisfied: cachetools<6.0,>=2.0.0 in /usr/local/lib/python3.10/dist-packages (from google-auth<3,>=1.6.3->tensorboard<2.13,>=2.12->tensorflow<2.13,>=2.12.0->tensorflow_text) (5.3.0)\n",
            "Requirement already satisfied: pyasn1-modules>=0.2.1 in /usr/local/lib/python3.10/dist-packages (from google-auth<3,>=1.6.3->tensorboard<2.13,>=2.12->tensorflow<2.13,>=2.12.0->tensorflow_text) (0.3.0)\n",
            "Requirement already satisfied: rsa<5,>=3.1.4 in /usr/local/lib/python3.10/dist-packages (from google-auth<3,>=1.6.3->tensorboard<2.13,>=2.12->tensorflow<2.13,>=2.12.0->tensorflow_text) (4.9)\n",
            "Requirement already satisfied: requests-oauthlib>=0.7.0 in /usr/local/lib/python3.10/dist-packages (from google-auth-oauthlib<1.1,>=0.5->tensorboard<2.13,>=2.12->tensorflow<2.13,>=2.12.0->tensorflow_text) (1.3.1)\n",
            "Requirement already satisfied: urllib3<1.27,>=1.21.1 in /usr/local/lib/python3.10/dist-packages (from requests<3,>=2.21.0->tensorboard<2.13,>=2.12->tensorflow<2.13,>=2.12.0->tensorflow_text) (1.26.15)\n",
            "Requirement already satisfied: certifi>=2017.4.17 in /usr/local/lib/python3.10/dist-packages (from requests<3,>=2.21.0->tensorboard<2.13,>=2.12->tensorflow<2.13,>=2.12.0->tensorflow_text) (2022.12.7)\n",
            "Requirement already satisfied: charset-normalizer~=2.0.0 in /usr/local/lib/python3.10/dist-packages (from requests<3,>=2.21.0->tensorboard<2.13,>=2.12->tensorflow<2.13,>=2.12.0->tensorflow_text) (2.0.12)\n",
            "Requirement already satisfied: idna<4,>=2.5 in /usr/local/lib/python3.10/dist-packages (from requests<3,>=2.21.0->tensorboard<2.13,>=2.12->tensorflow<2.13,>=2.12.0->tensorflow_text) (3.4)\n",
            "Requirement already satisfied: MarkupSafe>=2.1.1 in /usr/local/lib/python3.10/dist-packages (from werkzeug>=1.0.1->tensorboard<2.13,>=2.12->tensorflow<2.13,>=2.12.0->tensorflow_text) (2.1.2)\n",
            "Requirement already satisfied: pyasn1<0.6.0,>=0.4.6 in /usr/local/lib/python3.10/dist-packages (from pyasn1-modules>=0.2.1->google-auth<3,>=1.6.3->tensorboard<2.13,>=2.12->tensorflow<2.13,>=2.12.0->tensorflow_text) (0.5.0)\n",
            "Requirement already satisfied: oauthlib>=3.0.0 in /usr/local/lib/python3.10/dist-packages (from requests-oauthlib>=0.7.0->google-auth-oauthlib<1.1,>=0.5->tensorboard<2.13,>=2.12->tensorflow<2.13,>=2.12.0->tensorflow_text) (3.2.2)\n"
          ]
        }
      ]
    },
    {
      "cell_type": "code",
      "execution_count": 72,
      "id": "7f8decb4",
      "metadata": {
        "id": "7f8decb4"
      },
      "outputs": [],
      "source": [
        "import os\n",
        "os.environ['TF_CPP_MIN_LOG_LEVEL'] = '3'"
      ]
    },
    {
      "cell_type": "code",
      "execution_count": 73,
      "id": "2e38acd0",
      "metadata": {
        "id": "2e38acd0"
      },
      "outputs": [],
      "source": [
        "import pandas as pd\n",
        "import numpy as np\n",
        "import utils\n",
        "\n",
        "from sklearn.model_selection import train_test_split\n",
        "from sklearn.metrics import confusion_matrix, ConfusionMatrixDisplay\n",
        "\n",
        "from transformers import AutoTokenizer, TFBertModel\n",
        "\n",
        "import tensorflow as tf\n",
        "import tensorflow_hub as hub\n",
        "import tensorflow_text as text\n",
        "from tensorflow.keras.optimizers import Adam\n",
        "import keras_tuner as kt\n",
        "from keras.models import Model, Sequential\n",
        "from keras.layers import Input, Dense, Dropout, Embedding, LSTM, Bidirectional, GRU\n",
        "from tensorflow.keras import regularizers\n",
        "from keras.callbacks import EarlyStopping, ReduceLROnPlateau\n",
        "\n",
        "import matplotlib.pyplot as plt"
      ]
    },
    {
      "cell_type": "markdown",
      "source": [
        "Using GPU if available"
      ],
      "metadata": {
        "id": "g5MgZ8c5yXT2"
      },
      "id": "g5MgZ8c5yXT2"
    },
    {
      "cell_type": "code",
      "source": [
        "device_name = tf.test.gpu_device_name()\n",
        "if device_name != '/device:GPU:0':\n",
        "  raise SystemError('GPU device not found')\n",
        "print('Found GPU at: {}'.format(device_name))"
      ],
      "metadata": {
        "colab": {
          "base_uri": "https://localhost:8080/"
        },
        "id": "6z9aWJ8IP9gZ",
        "outputId": "4d0b3a50-0d68-46b6-d04c-e3494122caf4"
      },
      "id": "6z9aWJ8IP9gZ",
      "execution_count": 74,
      "outputs": [
        {
          "output_type": "stream",
          "name": "stdout",
          "text": [
            "Found GPU at: /device:GPU:0\n"
          ]
        }
      ]
    },
    {
      "cell_type": "markdown",
      "source": [
        "# Preprocessing"
      ],
      "metadata": {
        "id": "CIKEQMZggxiw"
      },
      "id": "CIKEQMZggxiw"
    },
    {
      "cell_type": "markdown",
      "source": [
        "The primary data for the competition is, in each provided file, the *comment_text* column. This contains the text of a comment which has been labeled as **Conspiratorial** (1) or **non-conspiratorial** (0). The train set’s comments are entirely in Italian with sporadic citation of external resources in English and come exclusively from Telegram Channels.\n",
        "\n",
        "The **subtaskA_train.csv** contains a *conspiratorial* column that it is the target to be trained on. The values of such column are either 1 indicating that the corresponding comment in *comment_text* column is Conspiratorial. Otherwise it is 0."
      ],
      "metadata": {
        "id": "t0z-sGiVnySB"
      },
      "id": "t0z-sGiVnySB"
    },
    {
      "cell_type": "markdown",
      "source": [
        "## Loading dataset"
      ],
      "metadata": {
        "id": "oCyO4VY-g7KK"
      },
      "id": "oCyO4VY-g7KK"
    },
    {
      "cell_type": "code",
      "execution_count": 75,
      "id": "918edc94",
      "metadata": {
        "id": "918edc94"
      },
      "outputs": [],
      "source": [
        "df = pd.read_csv(\"subtaskA_train.csv\")"
      ]
    },
    {
      "cell_type": "code",
      "execution_count": 76,
      "id": "786c8b41",
      "metadata": {
        "colab": {
          "base_uri": "https://localhost:8080/"
        },
        "id": "786c8b41",
        "outputId": "d7582b22-b6c1-435b-d315-b6a9ae29d5e9"
      },
      "outputs": [
        {
          "output_type": "stream",
          "name": "stdout",
          "text": [
            "<class 'pandas.core.frame.DataFrame'>\n",
            "RangeIndex: 1842 entries, 0 to 1841\n",
            "Data columns (total 3 columns):\n",
            " #   Column          Non-Null Count  Dtype \n",
            "---  ------          --------------  ----- \n",
            " 0   Id              1842 non-null   int64 \n",
            " 1   comment_text    1842 non-null   object\n",
            " 2   conspiratorial  1842 non-null   int64 \n",
            "dtypes: int64(2), object(1)\n",
            "memory usage: 43.3+ KB\n"
          ]
        }
      ],
      "source": [
        "df.info()"
      ]
    },
    {
      "cell_type": "markdown",
      "source": [
        "By plotting the distribution for text length, we can see that the majority of messages have a short length, showing a power law distribution."
      ],
      "metadata": {
        "id": "_8DBDGMnoEPf"
      },
      "id": "_8DBDGMnoEPf"
    },
    {
      "cell_type": "code",
      "execution_count": 77,
      "id": "55a512ba",
      "metadata": {
        "scrolled": true,
        "colab": {
          "base_uri": "https://localhost:8080/",
          "height": 447
        },
        "id": "55a512ba",
        "outputId": "1321a67a-d75d-4e7e-ce06-47c0559feb31"
      },
      "outputs": [
        {
          "output_type": "execute_result",
          "data": {
            "text/plain": [
              "<Axes: >"
            ]
          },
          "metadata": {},
          "execution_count": 77
        },
        {
          "output_type": "display_data",
          "data": {
            "text/plain": [
              "<Figure size 640x480 with 1 Axes>"
            ],
            "image/png": "[encoded data removed]"
          },
          "metadata": {}
        }
      ],
      "source": [
        "df[\"comment_text\"].map(len).hist()"
      ]
    },
    {
      "cell_type": "markdown",
      "source": [
        "The labels are well-balanced."
      ],
      "metadata": {
        "id": "6PZaZuUtqXSh"
      },
      "id": "6PZaZuUtqXSh"
    },
    {
      "cell_type": "code",
      "execution_count": 78,
      "id": "2f575033",
      "metadata": {
        "colab": {
          "base_uri": "https://localhost:8080/",
          "height": 447
        },
        "id": "2f575033",
        "outputId": "e2264018-6eac-4ed5-d060-199cf621465a"
      },
      "outputs": [
        {
          "output_type": "execute_result",
          "data": {
            "text/plain": [
              "<Axes: >"
            ]
          },
          "metadata": {},
          "execution_count": 78
        },
        {
          "output_type": "display_data",
          "data": {
            "text/plain": [
              "<Figure size 640x480 with 1 Axes>"
            ],
            "image/png": "[encoded data removed]"
          },
          "metadata": {}
        }
      ],
      "source": [
        "df[\"conspiratorial\"].hist()"
      ]
    },
    {
      "cell_type": "markdown",
      "id": "db2a186c",
      "metadata": {
        "id": "db2a186c"
      },
      "source": [
        "## Building train and test set"
      ]
    },
    {
      "cell_type": "markdown",
      "source": [
        "Assigning 10% of the data to the test set, specifying (using the parameter _stratify_) that the dataset has to be balanced regarding the label \"conspirational\""
      ],
      "metadata": {
        "id": "zFt3Xh5RzRw3"
      },
      "id": "zFt3Xh5RzRw3"
    },
    {
      "cell_type": "code",
      "execution_count": 79,
      "id": "4e2bee79",
      "metadata": {
        "id": "4e2bee79"
      },
      "outputs": [],
      "source": [
        "X = df[\"comment_text\"]\n",
        "y = df[\"conspiratorial\"]"
      ]
    },
    {
      "cell_type": "code",
      "execution_count": 80,
      "id": "75143b88",
      "metadata": {
        "id": "75143b88"
      },
      "outputs": [],
      "source": [
        "X_train, X_test, y_train, y_test = train_test_split(X, y, stratify = y, test_size = 0.10, random_state = 10)"
      ]
    },
    {
      "cell_type": "markdown",
      "source": [
        "# Model training"
      ],
      "metadata": {
        "id": "uBY2RcXqzv4C"
      },
      "id": "uBY2RcXqzv4C"
    },
    {
      "cell_type": "markdown",
      "source": [
        "## Architecture definition"
      ],
      "metadata": {
        "id": "xCRFhy9lrFAG"
      },
      "id": "xCRFhy9lrFAG"
    },
    {
      "cell_type": "markdown",
      "source": [
        "In this notebook the task has been addressed by using the [**Multilingual Universal Sentence Encoder**](https://arxiv.org/pdf/1907.04307.pdf). It's a multilingual text encoder trained by Google on 16 languages (including italian) and freely available on [TensorFlow Hub](https://tfhub.dev/google/universal-sentence-encoder-multilingual/3).\n",
        "\n",
        "This encoder relies on [SentencePiece](https://aclanthology.org/D18-2012.pdf) tokenizer."
      ],
      "metadata": {
        "id": "Y4YRVqpgrtII"
      },
      "id": "Y4YRVqpgrtII"
    },
    {
      "cell_type": "code",
      "execution_count": 81,
      "id": "f50931f8",
      "metadata": {
        "id": "f50931f8"
      },
      "outputs": [],
      "source": [
        "tfhub_handle_encoder = \"https://tfhub.dev/google/universal-sentence-encoder-multilingual/3\"\n",
        "tfhub_handle_preprocess = \"https://tfhub.dev/google/universal-sentence-encoder-multilingual/3\""
      ]
    },
    {
      "cell_type": "code",
      "execution_count": 82,
      "id": "e95150b5",
      "metadata": {
        "id": "e95150b5"
      },
      "outputs": [],
      "source": [
        "def build_model_with_hp(\n",
        "    gru_units: int,\n",
        "    l1_units: int,\n",
        "    l2_units: int,\n",
        "    l3_units: int,\n",
        "    l2_value: float,\n",
        "    dropout_rate: float,\n",
        "    learning_rate: float,\n",
        "    epsilon: float,\n",
        "    clipnorm: float\n",
        "):\n",
        "    # defining inputs\n",
        "    text_input = tf.keras.layers.Input(shape=(), dtype=tf.string, name='text')\n",
        "\n",
        "    # defining preprocessing\n",
        "    preprocessing_layer = hub.KerasLayer(tfhub_handle_preprocess, name='preprocessing')\n",
        "\n",
        "    # defining encoder\n",
        "    encoder = hub.KerasLayer(tfhub_handle_encoder, trainable=False, name='text_encoder')\n",
        "    net = encoder(text_input)\n",
        "\n",
        "    # Reshape net to add a time step dimension\n",
        "    net = tf.expand_dims(net, axis=1)\n",
        "\n",
        "    net = GRU(\n",
        "        units = gru_units,\n",
        "        kernel_regularizer = regularizers.L2(l2_value),\n",
        "        dropout = dropout_rate,\n",
        "        name = \"GRU_layer\")(net)\n",
        "\n",
        "    # FULLY CONNECTED LAYERS\n",
        "\n",
        "    net = tf.keras.layers.Dense(\n",
        "        units = l1_units,\n",
        "        kernel_regularizer = regularizers.L2(l2_value),\n",
        "        activation = \"relu\",\n",
        "        name = \"Dense_layer_1\"\n",
        "    )(net)\n",
        "\n",
        "    net = Dropout(rate=dropout_rate)(net)\n",
        "\n",
        "    net = tf.keras.layers.Dense(\n",
        "        units = l2_units,\n",
        "        kernel_regularizer = regularizers.L2(l2_value),\n",
        "        activation=\"relu\",\n",
        "        name = \"Dense_layer_2\"\n",
        "    )(net)\n",
        "\n",
        "    net = Dropout(rate=dropout_rate)(net)\n",
        "\n",
        "    net = tf.keras.layers.Dense(\n",
        "        units = l3_units,\n",
        "        kernel_regularizer = regularizers.L2(l2_value),\n",
        "        activation=\"relu\",\n",
        "        name = \"Dense_layer_3\"\n",
        "    )(net)\n",
        "\n",
        "    net = Dropout(rate=dropout_rate)(net)\n",
        "\n",
        "    # OUTPUT LAYER\n",
        "    net = tf.keras.layers.Dense(\n",
        "        units = 1,\n",
        "        kernel_regularizer = regularizers.L2(l2_value),\n",
        "        activation = \"sigmoid\",\n",
        "        name = 'classifier'\n",
        "    )(net)\n",
        "\n",
        "    model = tf.keras.Model(text_input, net)\n",
        "\n",
        "    optimizer = Adam(\n",
        "        learning_rate = learning_rate,\n",
        "        epsilon = epsilon,\n",
        "        clipnorm = clipnorm\n",
        "    )\n",
        "\n",
        "    model.compile(\n",
        "        optimizer = optimizer,\n",
        "        loss = 'binary_crossentropy',\n",
        "        metrics = 'accuracy'\n",
        "    )\n",
        "\n",
        "    return model\n",
        "\n",
        "def build_classifier_model(hp):\n",
        "    gru_units = hp.Int('gru_units', min_value=4, max_value=10, step=1)\n",
        "    l1_units = hp.Int('l1_units', min_value=5, max_value=40, step=5)\n",
        "    l2_units = hp.Int('l2_units', min_value=5, max_value=40, step=5)\n",
        "    l3_units = hp.Int('l3_units', min_value=5, max_value=40, step=5)\n",
        "    l2_value = hp.Choice('L2 regularization', values = [1e-5, 1e-6])\n",
        "    dropout_rate = 0.1\n",
        "    learning_rate = hp.Choice('learning_rate', values=[1e-2, 1e-3, 1e-4])\n",
        "    epsilon = 1e-7\n",
        "    clipnorm = 0.1\n",
        "\n",
        "    return build_model_with_hp(gru_units, l1_units, l2_units, l3_units, l2_value, dropout_rate, learning_rate, epsilon, clipnorm)"
      ]
    },
    {
      "cell_type": "markdown",
      "source": [
        "Along the model, we introduce 2 callbacks to support the model training:\n",
        "\n",
        "\n",
        "*   **ReduceLROnPlateau**: Reduce learning rate when a metric has stopped improving. Models often benefit from reducing the learning rate by a factor once learning stagnates. This callback monitors a quantity and if no improvement is seen for a 'patience' number of epochs, the learning rate is reduced.\n",
        "*   **EarlyStopping**: Stop training when a monitored metric has stopped improving.\n",
        "\n"
      ],
      "metadata": {
        "id": "ERg54-GbwwT0"
      },
      "id": "ERg54-GbwwT0"
    },
    {
      "cell_type": "code",
      "source": [
        "reduce_lr = ReduceLROnPlateau(\n",
        "    monitor=\"val_loss\",\n",
        "    factor=5e-2,\n",
        "    patience=5,\n",
        "    verbose=0,\n",
        "    mode=\"auto\",\n",
        "    min_delta=1e-3,\n",
        "    min_lr=1e-5\n",
        ")\n",
        "early_stopping = EarlyStopping(monitor='val_accuracy' ,mode='max', patience=20,verbose=False,restore_best_weights=True)"
      ],
      "metadata": {
        "id": "gKHk5YADlgbA"
      },
      "id": "gKHk5YADlgbA",
      "execution_count": 83,
      "outputs": []
    },
    {
      "cell_type": "markdown",
      "source": [
        "## Performing a random search of the hyperparameters"
      ],
      "metadata": {
        "id": "md00PvdQ0fmM"
      },
      "id": "md00PvdQ0fmM"
    },
    {
      "cell_type": "code",
      "execution_count": 84,
      "id": "7ae4ee76",
      "metadata": {
        "id": "7ae4ee76"
      },
      "outputs": [],
      "source": [
        "tuner = kt.RandomSearch(\n",
        "    hypermodel=build_classifier_model,\n",
        "    max_trials=10,\n",
        "    objective='val_accuracy',\n",
        "    overwrite=True\n",
        ")"
      ]
    },
    {
      "cell_type": "code",
      "execution_count": 85,
      "id": "5831c33f",
      "metadata": {
        "scrolled": true,
        "colab": {
          "base_uri": "https://localhost:8080/"
        },
        "id": "5831c33f",
        "outputId": "36c97376-012c-4356-f26e-c0bcfea9be79"
      },
      "outputs": [
        {
          "output_type": "stream",
          "name": "stdout",
          "text": [
            "Trial 10 Complete [00h 01m 08s]\n",
            "val_accuracy: 0.7680723071098328\n",
            "\n",
            "Best val_accuracy So Far: 0.7951807379722595\n",
            "Total elapsed time: 00h 14m 49s\n"
          ]
        }
      ],
      "source": [
        "print(f'Training model with {tfhub_handle_encoder}')\n",
        "tuner.search(\n",
        "    x = X_train,\n",
        "    y = y_train,\n",
        "    epochs = 80,\n",
        "    validation_split = 0.2,\n",
        "    callbacks = [\n",
        "        reduce_lr,\n",
        "        early_stopping\n",
        "    ]\n",
        ")"
      ]
    },
    {
      "cell_type": "code",
      "source": [
        "tuner.results_summary(5)"
      ],
      "metadata": {
        "colab": {
          "base_uri": "https://localhost:8080/"
        },
        "id": "UrZ8wK_JmzhR",
        "outputId": "c210928b-e6b5-4013-e4c4-8d48d0656714"
      },
      "id": "UrZ8wK_JmzhR",
      "execution_count": 86,
      "outputs": [
        {
          "output_type": "stream",
          "name": "stdout",
          "text": [
            "Results summary\n",
            "Results in ./untitled_project\n",
            "Showing 5 best trials\n",
            "Objective(name=\"val_accuracy\", direction=\"max\")\n",
            "\n",
            "Trial 07 summary\n",
            "Hyperparameters:\n",
            "gru_units: 9\n",
            "l1_units: 20\n",
            "l2_units: 10\n",
            "l3_units: 25\n",
            "L2 regularization: 1e-05\n",
            "learning_rate: 0.0001\n",
            "Score: 0.7951807379722595\n",
            "\n",
            "Trial 08 summary\n",
            "Hyperparameters:\n",
            "gru_units: 6\n",
            "l1_units: 35\n",
            "l2_units: 10\n",
            "l3_units: 20\n",
            "L2 regularization: 1e-06\n",
            "learning_rate: 0.0001\n",
            "Score: 0.7921686768531799\n",
            "\n",
            "Trial 02 summary\n",
            "Hyperparameters:\n",
            "gru_units: 4\n",
            "l1_units: 15\n",
            "l2_units: 40\n",
            "l3_units: 5\n",
            "L2 regularization: 1e-06\n",
            "learning_rate: 0.01\n",
            "Score: 0.7861445546150208\n",
            "\n",
            "Trial 05 summary\n",
            "Hyperparameters:\n",
            "gru_units: 4\n",
            "l1_units: 10\n",
            "l2_units: 15\n",
            "l3_units: 40\n",
            "L2 regularization: 1e-06\n",
            "learning_rate: 0.001\n",
            "Score: 0.7861445546150208\n",
            "\n",
            "Trial 03 summary\n",
            "Hyperparameters:\n",
            "gru_units: 5\n",
            "l1_units: 30\n",
            "l2_units: 30\n",
            "l3_units: 30\n",
            "L2 regularization: 1e-05\n",
            "learning_rate: 0.01\n",
            "Score: 0.7771084308624268\n"
          ]
        }
      ]
    },
    {
      "cell_type": "markdown",
      "source": [
        "# Final phase: retrain and test"
      ],
      "metadata": {
        "id": "xyK9Derdx_BM"
      },
      "id": "xyK9Derdx_BM"
    },
    {
      "cell_type": "markdown",
      "source": [
        "After the search for optimal parameters we perform another fit on the training set in order to observe closely the learning curves on training and validation."
      ],
      "metadata": {
        "id": "HIo5I05lx-ml"
      },
      "id": "HIo5I05lx-ml"
    },
    {
      "cell_type": "code",
      "source": [
        "gru_units = 9\n",
        "l1_units = 20\n",
        "l2_units = 10\n",
        "l3_units = 15\n",
        "l2_value = 1e-5\n",
        "dropout_rate = 0.1\n",
        "learning_rate = 1e-4\n",
        "epsilon = 1e-7\n",
        "clipnorm = 0.1"
      ],
      "metadata": {
        "id": "KA4Vdue_ka-w"
      },
      "id": "KA4Vdue_ka-w",
      "execution_count": 87,
      "outputs": []
    },
    {
      "cell_type": "code",
      "source": [
        "best_model = build_model_with_hp(\n",
        "    gru_units = gru_units,\n",
        "    l1_units = l1_units,\n",
        "    l2_units = l2_units,\n",
        "    l3_units = l3_units,\n",
        "    l2_value = l2_value,\n",
        "    dropout_rate = dropout_rate,\n",
        "    learning_rate = learning_rate,\n",
        "    epsilon = epsilon,\n",
        "    clipnorm = clipnorm\n",
        ")\n",
        "\n",
        "print(f'Training model with {tfhub_handle_encoder}')\n",
        "history = best_model.fit(\n",
        "    x = X_train,\n",
        "    y = y_train,\n",
        "    epochs=70,\n",
        "    validation_split = 0.2,\n",
        "    batch_size = 32,\n",
        "    callbacks= [\n",
        "      reduce_lr\n",
        "    ]\n",
        ")\n"
      ],
      "metadata": {
        "colab": {
          "base_uri": "https://localhost:8080/"
        },
        "outputId": "482e4f5b-b06e-4a92-bfff-f3ddde22571d",
        "id": "NGXfMMzgd_-k"
      },
      "execution_count": 88,
      "outputs": [
        {
          "output_type": "stream",
          "name": "stdout",
          "text": [
            "Training model with https://tfhub.dev/google/universal-sentence-encoder-multilingual/3\n",
            "Epoch 1/70\n",
            "42/42 [==============================] - 14s 63ms/step - loss: 0.6948 - accuracy: 0.5019 - val_loss: 0.6937 - val_accuracy: 0.5151 - lr: 1.0000e-04\n",
            "Epoch 2/70\n",
            "42/42 [==============================] - 1s 28ms/step - loss: 0.6936 - accuracy: 0.5177 - val_loss: 0.6925 - val_accuracy: 0.5271 - lr: 1.0000e-04\n",
            "Epoch 3/70\n",
            "42/42 [==============================] - 1s 27ms/step - loss: 0.6924 - accuracy: 0.5517 - val_loss: 0.6910 - val_accuracy: 0.6054 - lr: 1.0000e-04\n",
            "Epoch 4/70\n",
            "42/42 [==============================] - 1s 35ms/step - loss: 0.6912 - accuracy: 0.5691 - val_loss: 0.6892 - val_accuracy: 0.6235 - lr: 1.0000e-04\n",
            "Epoch 5/70\n",
            "42/42 [==============================] - 2s 53ms/step - loss: 0.6895 - accuracy: 0.5781 - val_loss: 0.6869 - val_accuracy: 0.6476 - lr: 1.0000e-04\n",
            "Epoch 6/70\n",
            "42/42 [==============================] - 1s 35ms/step - loss: 0.6876 - accuracy: 0.6143 - val_loss: 0.6844 - val_accuracy: 0.6687 - lr: 1.0000e-04\n",
            "Epoch 7/70\n",
            "42/42 [==============================] - 1s 27ms/step - loss: 0.6848 - accuracy: 0.6136 - val_loss: 0.6811 - val_accuracy: 0.6687 - lr: 1.0000e-04\n",
            "Epoch 8/70\n",
            "42/42 [==============================] - 1s 27ms/step - loss: 0.6818 - accuracy: 0.6400 - val_loss: 0.6772 - val_accuracy: 0.6807 - lr: 1.0000e-04\n",
            "Epoch 9/70\n",
            "42/42 [==============================] - 1s 30ms/step - loss: 0.6778 - accuracy: 0.6536 - val_loss: 0.6730 - val_accuracy: 0.6988 - lr: 1.0000e-04\n",
            "Epoch 10/70\n",
            "42/42 [==============================] - 1s 30ms/step - loss: 0.6737 - accuracy: 0.6581 - val_loss: 0.6679 - val_accuracy: 0.7108 - lr: 1.0000e-04\n",
            "Epoch 11/70\n",
            "42/42 [==============================] - 1s 28ms/step - loss: 0.6688 - accuracy: 0.6649 - val_loss: 0.6623 - val_accuracy: 0.7199 - lr: 1.0000e-04\n",
            "Epoch 12/70\n",
            "42/42 [==============================] - 1s 30ms/step - loss: 0.6630 - accuracy: 0.6958 - val_loss: 0.6557 - val_accuracy: 0.7319 - lr: 1.0000e-04\n",
            "Epoch 13/70\n",
            "42/42 [==============================] - 1s 28ms/step - loss: 0.6570 - accuracy: 0.7049 - val_loss: 0.6486 - val_accuracy: 0.7349 - lr: 1.0000e-04\n",
            "Epoch 14/70\n",
            "42/42 [==============================] - 1s 32ms/step - loss: 0.6501 - accuracy: 0.7162 - val_loss: 0.6415 - val_accuracy: 0.7349 - lr: 1.0000e-04\n",
            "Epoch 15/70\n",
            "42/42 [==============================] - 2s 53ms/step - loss: 0.6433 - accuracy: 0.7336 - val_loss: 0.6339 - val_accuracy: 0.7440 - lr: 1.0000e-04\n",
            "Epoch 16/70\n",
            "42/42 [==============================] - 2s 42ms/step - loss: 0.6372 - accuracy: 0.7306 - val_loss: 0.6257 - val_accuracy: 0.7500 - lr: 1.0000e-04\n",
            "Epoch 17/70\n",
            "42/42 [==============================] - 1s 32ms/step - loss: 0.6265 - accuracy: 0.7260 - val_loss: 0.6174 - val_accuracy: 0.7560 - lr: 1.0000e-04\n",
            "Epoch 18/70\n",
            "42/42 [==============================] - 1s 28ms/step - loss: 0.6231 - accuracy: 0.7366 - val_loss: 0.6096 - val_accuracy: 0.7590 - lr: 1.0000e-04\n",
            "Epoch 19/70\n",
            "42/42 [==============================] - 1s 29ms/step - loss: 0.6102 - accuracy: 0.7464 - val_loss: 0.6014 - val_accuracy: 0.7681 - lr: 1.0000e-04\n",
            "Epoch 20/70\n",
            "42/42 [==============================] - 1s 30ms/step - loss: 0.6048 - accuracy: 0.7426 - val_loss: 0.5931 - val_accuracy: 0.7711 - lr: 1.0000e-04\n",
            "Epoch 21/70\n",
            "42/42 [==============================] - 1s 31ms/step - loss: 0.5956 - accuracy: 0.7683 - val_loss: 0.5849 - val_accuracy: 0.7590 - lr: 1.0000e-04\n",
            "Epoch 22/70\n",
            "42/42 [==============================] - 1s 27ms/step - loss: 0.5834 - accuracy: 0.7691 - val_loss: 0.5771 - val_accuracy: 0.7530 - lr: 1.0000e-04\n",
            "Epoch 23/70\n",
            "42/42 [==============================] - 1s 30ms/step - loss: 0.5836 - accuracy: 0.7600 - val_loss: 0.5699 - val_accuracy: 0.7590 - lr: 1.0000e-04\n",
            "Epoch 24/70\n",
            "42/42 [==============================] - 1s 34ms/step - loss: 0.5735 - accuracy: 0.7698 - val_loss: 0.5617 - val_accuracy: 0.7590 - lr: 1.0000e-04\n",
            "Epoch 25/70\n",
            "42/42 [==============================] - 2s 52ms/step - loss: 0.5610 - accuracy: 0.7736 - val_loss: 0.5544 - val_accuracy: 0.7560 - lr: 1.0000e-04\n",
            "Epoch 26/70\n",
            "42/42 [==============================] - 2s 38ms/step - loss: 0.5582 - accuracy: 0.7774 - val_loss: 0.5472 - val_accuracy: 0.7590 - lr: 1.0000e-04\n",
            "Epoch 27/70\n",
            "42/42 [==============================] - 1s 30ms/step - loss: 0.5454 - accuracy: 0.7804 - val_loss: 0.5398 - val_accuracy: 0.7560 - lr: 1.0000e-04\n",
            "Epoch 28/70\n",
            "42/42 [==============================] - 1s 27ms/step - loss: 0.5386 - accuracy: 0.7872 - val_loss: 0.5326 - val_accuracy: 0.7590 - lr: 1.0000e-04\n",
            "Epoch 29/70\n",
            "42/42 [==============================] - 1s 29ms/step - loss: 0.5318 - accuracy: 0.7925 - val_loss: 0.5260 - val_accuracy: 0.7681 - lr: 1.0000e-04\n",
            "Epoch 30/70\n",
            "42/42 [==============================] - 1s 26ms/step - loss: 0.5218 - accuracy: 0.7917 - val_loss: 0.5192 - val_accuracy: 0.7681 - lr: 1.0000e-04\n",
            "Epoch 31/70\n",
            "42/42 [==============================] - 1s 30ms/step - loss: 0.5205 - accuracy: 0.7917 - val_loss: 0.5135 - val_accuracy: 0.7651 - lr: 1.0000e-04\n",
            "Epoch 32/70\n",
            "42/42 [==============================] - 1s 29ms/step - loss: 0.5115 - accuracy: 0.7864 - val_loss: 0.5075 - val_accuracy: 0.7681 - lr: 1.0000e-04\n",
            "Epoch 33/70\n",
            "42/42 [==============================] - 1s 30ms/step - loss: 0.5029 - accuracy: 0.7970 - val_loss: 0.5022 - val_accuracy: 0.7711 - lr: 1.0000e-04\n",
            "Epoch 34/70\n",
            "42/42 [==============================] - 1s 31ms/step - loss: 0.4948 - accuracy: 0.7902 - val_loss: 0.4973 - val_accuracy: 0.7711 - lr: 1.0000e-04\n",
            "Epoch 35/70\n",
            "42/42 [==============================] - 2s 45ms/step - loss: 0.4921 - accuracy: 0.7917 - val_loss: 0.4929 - val_accuracy: 0.7711 - lr: 1.0000e-04\n",
            "Epoch 36/70\n",
            "42/42 [==============================] - 2s 47ms/step - loss: 0.4840 - accuracy: 0.8023 - val_loss: 0.4887 - val_accuracy: 0.7651 - lr: 1.0000e-04\n",
            "Epoch 37/70\n",
            "42/42 [==============================] - 1s 31ms/step - loss: 0.4816 - accuracy: 0.8030 - val_loss: 0.4855 - val_accuracy: 0.7681 - lr: 1.0000e-04\n",
            "Epoch 38/70\n",
            "42/42 [==============================] - 1s 28ms/step - loss: 0.4706 - accuracy: 0.8181 - val_loss: 0.4824 - val_accuracy: 0.7681 - lr: 1.0000e-04\n",
            "Epoch 39/70\n",
            "42/42 [==============================] - 1s 31ms/step - loss: 0.4720 - accuracy: 0.8121 - val_loss: 0.4803 - val_accuracy: 0.7801 - lr: 1.0000e-04\n",
            "Epoch 40/70\n",
            "42/42 [==============================] - 1s 28ms/step - loss: 0.4611 - accuracy: 0.8075 - val_loss: 0.4774 - val_accuracy: 0.7741 - lr: 1.0000e-04\n",
            "Epoch 41/70\n",
            "42/42 [==============================] - 1s 28ms/step - loss: 0.4754 - accuracy: 0.8038 - val_loss: 0.4756 - val_accuracy: 0.7741 - lr: 1.0000e-04\n",
            "Epoch 42/70\n",
            "42/42 [==============================] - 1s 26ms/step - loss: 0.4544 - accuracy: 0.8136 - val_loss: 0.4730 - val_accuracy: 0.7711 - lr: 1.0000e-04\n",
            "Epoch 43/70\n",
            "42/42 [==============================] - 1s 27ms/step - loss: 0.4487 - accuracy: 0.8196 - val_loss: 0.4712 - val_accuracy: 0.7711 - lr: 1.0000e-04\n",
            "Epoch 44/70\n",
            "42/42 [==============================] - 1s 31ms/step - loss: 0.4500 - accuracy: 0.8121 - val_loss: 0.4696 - val_accuracy: 0.7741 - lr: 1.0000e-04\n",
            "Epoch 45/70\n",
            "42/42 [==============================] - 2s 40ms/step - loss: 0.4559 - accuracy: 0.8091 - val_loss: 0.4683 - val_accuracy: 0.7711 - lr: 1.0000e-04\n",
            "Epoch 46/70\n",
            "42/42 [==============================] - 2s 46ms/step - loss: 0.4443 - accuracy: 0.8226 - val_loss: 0.4677 - val_accuracy: 0.7771 - lr: 1.0000e-04\n",
            "Epoch 47/70\n",
            "42/42 [==============================] - 2s 38ms/step - loss: 0.4504 - accuracy: 0.8136 - val_loss: 0.4666 - val_accuracy: 0.7741 - lr: 1.0000e-04\n",
            "Epoch 48/70\n",
            "42/42 [==============================] - 1s 30ms/step - loss: 0.4426 - accuracy: 0.8098 - val_loss: 0.4658 - val_accuracy: 0.7771 - lr: 1.0000e-04\n",
            "Epoch 49/70\n",
            "42/42 [==============================] - 1s 28ms/step - loss: 0.4399 - accuracy: 0.8158 - val_loss: 0.4654 - val_accuracy: 0.7771 - lr: 1.0000e-04\n",
            "Epoch 50/70\n",
            "42/42 [==============================] - 1s 30ms/step - loss: 0.4462 - accuracy: 0.8053 - val_loss: 0.4656 - val_accuracy: 0.7741 - lr: 1.0000e-04\n",
            "Epoch 51/70\n",
            "42/42 [==============================] - 1s 27ms/step - loss: 0.4389 - accuracy: 0.8113 - val_loss: 0.4656 - val_accuracy: 0.7711 - lr: 1.0000e-04\n",
            "Epoch 52/70\n",
            "42/42 [==============================] - 1s 27ms/step - loss: 0.4350 - accuracy: 0.8204 - val_loss: 0.4647 - val_accuracy: 0.7711 - lr: 1.0000e-04\n",
            "Epoch 53/70\n",
            "42/42 [==============================] - 1s 27ms/step - loss: 0.4363 - accuracy: 0.8136 - val_loss: 0.4651 - val_accuracy: 0.7681 - lr: 1.0000e-04\n",
            "Epoch 54/70\n",
            "42/42 [==============================] - 1s 27ms/step - loss: 0.4352 - accuracy: 0.8226 - val_loss: 0.4657 - val_accuracy: 0.7711 - lr: 1.0000e-04\n",
            "Epoch 55/70\n",
            "42/42 [==============================] - 1s 31ms/step - loss: 0.4280 - accuracy: 0.8242 - val_loss: 0.4657 - val_accuracy: 0.7711 - lr: 1.0000e-05\n",
            "Epoch 56/70\n",
            "42/42 [==============================] - 2s 51ms/step - loss: 0.4336 - accuracy: 0.8174 - val_loss: 0.4658 - val_accuracy: 0.7681 - lr: 1.0000e-05\n",
            "Epoch 57/70\n",
            "42/42 [==============================] - 2s 43ms/step - loss: 0.4230 - accuracy: 0.8294 - val_loss: 0.4656 - val_accuracy: 0.7711 - lr: 1.0000e-05\n",
            "Epoch 58/70\n",
            "42/42 [==============================] - 1s 29ms/step - loss: 0.4359 - accuracy: 0.8158 - val_loss: 0.4655 - val_accuracy: 0.7711 - lr: 1.0000e-05\n",
            "Epoch 59/70\n",
            "42/42 [==============================] - 2s 39ms/step - loss: 0.4299 - accuracy: 0.8211 - val_loss: 0.4656 - val_accuracy: 0.7711 - lr: 1.0000e-05\n",
            "Epoch 60/70\n",
            "42/42 [==============================] - 2s 46ms/step - loss: 0.4365 - accuracy: 0.8226 - val_loss: 0.4657 - val_accuracy: 0.7711 - lr: 1.0000e-05\n",
            "Epoch 61/70\n",
            "42/42 [==============================] - 2s 41ms/step - loss: 0.4184 - accuracy: 0.8377 - val_loss: 0.4656 - val_accuracy: 0.7711 - lr: 1.0000e-05\n",
            "Epoch 62/70\n",
            "42/42 [==============================] - 1s 28ms/step - loss: 0.4240 - accuracy: 0.8279 - val_loss: 0.4656 - val_accuracy: 0.7711 - lr: 1.0000e-05\n",
            "Epoch 63/70\n",
            "42/42 [==============================] - 1s 27ms/step - loss: 0.4344 - accuracy: 0.8196 - val_loss: 0.4656 - val_accuracy: 0.7711 - lr: 1.0000e-05\n",
            "Epoch 64/70\n",
            "42/42 [==============================] - 2s 41ms/step - loss: 0.4361 - accuracy: 0.8143 - val_loss: 0.4656 - val_accuracy: 0.7711 - lr: 1.0000e-05\n",
            "Epoch 65/70\n",
            "42/42 [==============================] - 2s 45ms/step - loss: 0.4208 - accuracy: 0.8279 - val_loss: 0.4656 - val_accuracy: 0.7681 - lr: 1.0000e-05\n",
            "Epoch 66/70\n",
            "42/42 [==============================] - 2s 37ms/step - loss: 0.4180 - accuracy: 0.8204 - val_loss: 0.4657 - val_accuracy: 0.7681 - lr: 1.0000e-05\n",
            "Epoch 67/70\n",
            "42/42 [==============================] - 2s 38ms/step - loss: 0.4274 - accuracy: 0.8287 - val_loss: 0.4657 - val_accuracy: 0.7681 - lr: 1.0000e-05\n",
            "Epoch 68/70\n",
            "42/42 [==============================] - 1s 27ms/step - loss: 0.4156 - accuracy: 0.8257 - val_loss: 0.4657 - val_accuracy: 0.7681 - lr: 1.0000e-05\n",
            "Epoch 69/70\n",
            "42/42 [==============================] - 1s 27ms/step - loss: 0.4172 - accuracy: 0.8294 - val_loss: 0.4658 - val_accuracy: 0.7681 - lr: 1.0000e-05\n",
            "Epoch 70/70\n",
            "42/42 [==============================] - 1s 31ms/step - loss: 0.4281 - accuracy: 0.8309 - val_loss: 0.4658 - val_accuracy: 0.7681 - lr: 1.0000e-05\n"
          ]
        }
      ],
      "id": "NGXfMMzgd_-k"
    },
    {
      "cell_type": "code",
      "source": [
        "utils.plot_history(history)"
      ],
      "metadata": {
        "colab": {
          "base_uri": "https://localhost:8080/",
          "height": 927
        },
        "id": "bH9wezNce8oX",
        "outputId": "3b456da0-6272-4c5b-d76f-263c0334a63d"
      },
      "id": "bH9wezNce8oX",
      "execution_count": 89,
      "outputs": [
        {
          "output_type": "display_data",
          "data": {
            "text/plain": [
              "<Figure size 640x480 with 1 Axes>"
            ],
            "image/png": "[encoded data removed]"
          },
          "metadata": {}
        },
        {
          "output_type": "display_data",
          "data": {
            "text/plain": [
              "<Figure size 640x480 with 1 Axes>"
            ],
            "image/png": "[encoded data removed]"
          },
          "metadata": {}
        }
      ]
    },
    {
      "cell_type": "markdown",
      "source": [
        "## Retrain on training and validation"
      ],
      "metadata": {
        "id": "fNSULGiPvb4N"
      },
      "id": "fNSULGiPvb4N"
    },
    {
      "cell_type": "markdown",
      "source": [
        "Before testing our model, we retrain it on training and validation set using the best hyperparams found by the random search"
      ],
      "metadata": {
        "id": "0TBchWKt0rQA"
      },
      "id": "0TBchWKt0rQA"
    },
    {
      "cell_type": "code",
      "source": [
        "final_model = build_model_with_hp(\n",
        "    gru_units = gru_units,\n",
        "    l1_units = l1_units,\n",
        "    l2_units = l2_units,\n",
        "    l3_units = l3_units,\n",
        "    l2_value = l2_value,\n",
        "    dropout_rate = dropout_rate,\n",
        "    learning_rate = learning_rate,\n",
        "    epsilon = epsilon,\n",
        "    clipnorm = clipnorm\n",
        ")\n",
        "\n",
        "max_epochs = 35"
      ],
      "metadata": {
        "id": "sD6gFZqHve4a"
      },
      "id": "sD6gFZqHve4a",
      "execution_count": 91,
      "outputs": []
    },
    {
      "cell_type": "code",
      "source": [
        "%%time\n",
        "print(f'Training model with {tfhub_handle_encoder}')\n",
        "history = final_model.fit(\n",
        "    x = X_train,\n",
        "    y = y_train,\n",
        "    epochs=max_epochs,\n",
        "    batch_size = 32,\n",
        ")\n"
      ],
      "metadata": {
        "colab": {
          "base_uri": "https://localhost:8080/"
        },
        "id": "XlHncSAHwGhp",
        "outputId": "f06c3f39-4f70-4856-e1c7-87da9c55a94d"
      },
      "id": "XlHncSAHwGhp",
      "execution_count": 92,
      "outputs": [
        {
          "output_type": "stream",
          "name": "stdout",
          "text": [
            "Training model with https://tfhub.dev/google/universal-sentence-encoder-multilingual/3\n",
            "Epoch 1/35\n",
            "52/52 [==============================] - 11s 24ms/step - loss: 0.6940 - accuracy: 0.5069\n",
            "Epoch 2/35\n",
            "52/52 [==============================] - 1s 22ms/step - loss: 0.6936 - accuracy: 0.5069\n",
            "Epoch 3/35\n",
            "52/52 [==============================] - 1s 22ms/step - loss: 0.6933 - accuracy: 0.5136\n",
            "Epoch 4/35\n",
            "52/52 [==============================] - 1s 22ms/step - loss: 0.6928 - accuracy: 0.5160\n",
            "Epoch 5/35\n",
            "52/52 [==============================] - 1s 22ms/step - loss: 0.6918 - accuracy: 0.5275\n",
            "Epoch 6/35\n",
            "52/52 [==============================] - 1s 23ms/step - loss: 0.6900 - accuracy: 0.5293\n",
            "Epoch 7/35\n",
            "52/52 [==============================] - 1s 23ms/step - loss: 0.6874 - accuracy: 0.5673\n",
            "Epoch 8/35\n",
            "52/52 [==============================] - 1s 28ms/step - loss: 0.6843 - accuracy: 0.5782\n",
            "Epoch 9/35\n",
            "52/52 [==============================] - 2s 38ms/step - loss: 0.6800 - accuracy: 0.6144\n",
            "Epoch 10/35\n",
            "52/52 [==============================] - 2s 35ms/step - loss: 0.6742 - accuracy: 0.6512\n",
            "Epoch 11/35\n",
            "52/52 [==============================] - 1s 22ms/step - loss: 0.6668 - accuracy: 0.6928\n",
            "Epoch 12/35\n",
            "52/52 [==============================] - 1s 22ms/step - loss: 0.6583 - accuracy: 0.6982\n",
            "Epoch 13/35\n",
            "52/52 [==============================] - 1s 22ms/step - loss: 0.6498 - accuracy: 0.7007\n",
            "Epoch 14/35\n",
            "52/52 [==============================] - 1s 22ms/step - loss: 0.6371 - accuracy: 0.7151\n",
            "Epoch 15/35\n",
            "52/52 [==============================] - 1s 22ms/step - loss: 0.6286 - accuracy: 0.7314\n",
            "Epoch 16/35\n",
            "52/52 [==============================] - 1s 22ms/step - loss: 0.6175 - accuracy: 0.7405\n",
            "Epoch 17/35\n",
            "52/52 [==============================] - 1s 22ms/step - loss: 0.6074 - accuracy: 0.7471\n",
            "Epoch 18/35\n",
            "52/52 [==============================] - 1s 22ms/step - loss: 0.6002 - accuracy: 0.7538\n",
            "Epoch 19/35\n",
            "52/52 [==============================] - 1s 29ms/step - loss: 0.5857 - accuracy: 0.7701\n",
            "Epoch 20/35\n",
            "52/52 [==============================] - 2s 36ms/step - loss: 0.5731 - accuracy: 0.7586\n",
            "Epoch 21/35\n",
            "52/52 [==============================] - 2s 35ms/step - loss: 0.5612 - accuracy: 0.7767\n",
            "Epoch 22/35\n",
            "52/52 [==============================] - 1s 22ms/step - loss: 0.5542 - accuracy: 0.7725\n",
            "Epoch 23/35\n",
            "52/52 [==============================] - 1s 22ms/step - loss: 0.5398 - accuracy: 0.7701\n",
            "Epoch 24/35\n",
            "52/52 [==============================] - 1s 22ms/step - loss: 0.5353 - accuracy: 0.7707\n",
            "Epoch 25/35\n",
            "52/52 [==============================] - 1s 21ms/step - loss: 0.5246 - accuracy: 0.7755\n",
            "Epoch 26/35\n",
            "52/52 [==============================] - 1s 22ms/step - loss: 0.5121 - accuracy: 0.7827\n",
            "Epoch 27/35\n",
            "52/52 [==============================] - 1s 22ms/step - loss: 0.5027 - accuracy: 0.7876\n",
            "Epoch 28/35\n",
            "52/52 [==============================] - 1s 23ms/step - loss: 0.4923 - accuracy: 0.7870\n",
            "Epoch 29/35\n",
            "52/52 [==============================] - 1s 23ms/step - loss: 0.4879 - accuracy: 0.7870\n",
            "Epoch 30/35\n",
            "52/52 [==============================] - 2s 31ms/step - loss: 0.4818 - accuracy: 0.7912\n",
            "Epoch 31/35\n",
            "52/52 [==============================] - 2s 37ms/step - loss: 0.4719 - accuracy: 0.7882\n",
            "Epoch 32/35\n",
            "52/52 [==============================] - 2s 33ms/step - loss: 0.4743 - accuracy: 0.7858\n",
            "Epoch 33/35\n",
            "52/52 [==============================] - 1s 23ms/step - loss: 0.4622 - accuracy: 0.8002\n",
            "Epoch 34/35\n",
            "52/52 [==============================] - 1s 22ms/step - loss: 0.4631 - accuracy: 0.7996\n",
            "Epoch 35/35\n",
            "52/52 [==============================] - 1s 22ms/step - loss: 0.4575 - accuracy: 0.7990\n",
            "CPU times: user 55.5 s, sys: 2.68 s, total: 58.2 s\n",
            "Wall time: 1min 30s\n"
          ]
        }
      ]
    },
    {
      "cell_type": "code",
      "source": [
        "final_model.summary()"
      ],
      "metadata": {
        "colab": {
          "base_uri": "https://localhost:8080/"
        },
        "id": "t7PUXtHYCVHL",
        "outputId": "39291761-88ef-4eb4-f05e-b8b81b23997e"
      },
      "id": "t7PUXtHYCVHL",
      "execution_count": 93,
      "outputs": [
        {
          "output_type": "stream",
          "name": "stdout",
          "text": [
            "Model: \"model_2\"\n",
            "_________________________________________________________________\n",
            " Layer (type)                Output Shape              Param #   \n",
            "=================================================================\n",
            " text (InputLayer)           [(None,)]                 0         \n",
            "                                                                 \n",
            " text_encoder (KerasLayer)   (None, 512)               68927232  \n",
            "                                                                 \n",
            " tf.expand_dims_2 (TFOpLambd  (None, 1, 512)           0         \n",
            " a)                                                              \n",
            "                                                                 \n",
            " GRU_layer (GRU)             (None, 9)                 14121     \n",
            "                                                                 \n",
            " Dense_layer_1 (Dense)       (None, 20)                200       \n",
            "                                                                 \n",
            " dropout_6 (Dropout)         (None, 20)                0         \n",
            "                                                                 \n",
            " Dense_layer_2 (Dense)       (None, 10)                210       \n",
            "                                                                 \n",
            " dropout_7 (Dropout)         (None, 10)                0         \n",
            "                                                                 \n",
            " Dense_layer_3 (Dense)       (None, 15)                165       \n",
            "                                                                 \n",
            " dropout_8 (Dropout)         (None, 15)                0         \n",
            "                                                                 \n",
            " classifier (Dense)          (None, 1)                 16        \n",
            "                                                                 \n",
            "=================================================================\n",
            "Total params: 68,941,944\n",
            "Trainable params: 14,712\n",
            "Non-trainable params: 68,927,232\n",
            "_________________________________________________________________\n"
          ]
        }
      ]
    },
    {
      "cell_type": "markdown",
      "source": [
        "## Predict on test set"
      ],
      "metadata": {
        "id": "Sqg5olB_wryB"
      },
      "id": "Sqg5olB_wryB"
    },
    {
      "cell_type": "code",
      "source": [
        "_ = final_model.evaluate(\n",
        "    x=X_test,\n",
        "    y=y_test,\n",
        "    batch_size=32\n",
        ")"
      ],
      "metadata": {
        "colab": {
          "base_uri": "https://localhost:8080/"
        },
        "id": "PGYUmYvNwvJ-",
        "outputId": "82b7fce2-a965-4266-f951-90c07e2c7932"
      },
      "id": "PGYUmYvNwvJ-",
      "execution_count": 94,
      "outputs": [
        {
          "output_type": "stream",
          "name": "stdout",
          "text": [
            "6/6 [==============================] - 1s 25ms/step - loss: 0.4748 - accuracy: 0.7784\n"
          ]
        }
      ]
    },
    {
      "cell_type": "code",
      "source": [
        "predictions = final_model.predict(x=X_test)\n",
        "predictions = list(map(round, [ _[0] for _ in predictions]))\n",
        "\n",
        "cm = confusion_matrix(y_test, predictions)\n",
        "disp = ConfusionMatrixDisplay(confusion_matrix=cm, display_labels=[\"Non conspiratorial\", \"conspiratorial\"])\n",
        "disp.plot()"
      ],
      "metadata": {
        "id": "sYjxSxoYxDoE",
        "colab": {
          "base_uri": "https://localhost:8080/",
          "height": 484
        },
        "outputId": "ab0797e3-7836-4c8d-d998-d4d241e41f8e"
      },
      "id": "sYjxSxoYxDoE",
      "execution_count": 95,
      "outputs": [
        {
          "output_type": "stream",
          "name": "stdout",
          "text": [
            "6/6 [==============================] - 1s 22ms/step\n"
          ]
        },
        {
          "output_type": "execute_result",
          "data": {
            "text/plain": [
              "<sklearn.metrics._plot.confusion_matrix.ConfusionMatrixDisplay at 0x7f88bb181d20>"
            ]
          },
          "metadata": {},
          "execution_count": 95
        },
        {
          "output_type": "display_data",
          "data": {
            "text/plain": [
              "<Figure size 640x480 with 2 Axes>"
            ],
            "image/png": "[encoded data removed]"
          },
          "metadata": {}
        }
      ]
    },
    {
      "cell_type": "code",
      "source": [],
      "metadata": {
        "id": "pxGDPYJp_SAu"
      },
      "id": "pxGDPYJp_SAu",
      "execution_count": null,
      "outputs": []
    }
  ],
  "metadata": {
    "kernelspec": {
      "display_name": "Python 3",
      "name": "python3"
    },
    "language_info": {
      "codemirror_mode": {
        "name": "ipython",
        "version": 3
      },
      "file_extension": ".py",
      "mimetype": "text/x-python",
      "name": "python",
      "nbconvert_exporter": "python",
      "pygments_lexer": "ipython3",
      "version": "3.10.6"
    },
    "colab": {
      "provenance": [],
      "gpuType": "T4",
      "toc_visible": true
    },
    "accelerator": "GPU"
  },
  "nbformat": 4,
  "nbformat_minor": 5
}