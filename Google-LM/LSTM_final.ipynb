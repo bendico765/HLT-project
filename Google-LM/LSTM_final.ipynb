{
  "cells": [
    {
      "cell_type": "code",
      "source": [
        "!pip install transformers\n",
        "!pip install keras_tuner\n",
        "!pip install tensorflow_text"
      ],
      "metadata": {
        "colab": {
          "base_uri": "https://localhost:8080/"
        },
        "id": "ISevNR3ePivs",
        "outputId": "11c5474e-c5d1-480f-d567-770224546e4f"
      },
      "id": "ISevNR3ePivs",
      "execution_count": 1,
      "outputs": [
        {
          "output_type": "stream",
          "name": "stdout",
          "text": [
            "Looking in indexes: https://pypi.org/simple, https://us-python.pkg.dev/colab-wheels/public/simple/\n",
            "Collecting transformers\n",
            "  Downloading transformers-4.30.2-py3-none-any.whl (7.2 MB)\n",
            "\u001b[2K     \u001b[90m━━━━━━━━━━━━━━━━━━━━━━━━━━━━━━━━━━━━━━━━\u001b[0m \u001b[32m7.2/7.2 MB\u001b[0m \u001b[31m34.5 MB/s\u001b[0m eta \u001b[36m0:00:00\u001b[0m\n",
            "\u001b[?25hRequirement already satisfied: filelock in /usr/local/lib/python3.10/dist-packages (from transformers) (3.12.0)\n",
            "Collecting huggingface-hub<1.0,>=0.14.1 (from transformers)\n",
            "  Downloading huggingface_hub-0.15.1-py3-none-any.whl (236 kB)\n",
            "\u001b[2K     \u001b[90m━━━━━━━━━━━━━━━━━━━━━━━━━━━━━━━━━━━━━━\u001b[0m \u001b[32m236.8/236.8 kB\u001b[0m \u001b[31m21.7 MB/s\u001b[0m eta \u001b[36m0:00:00\u001b[0m\n",
            "\u001b[?25hRequirement already satisfied: numpy>=1.17 in /usr/local/lib/python3.10/dist-packages (from transformers) (1.22.4)\n",
            "Requirement already satisfied: packaging>=20.0 in /usr/local/lib/python3.10/dist-packages (from transformers) (23.1)\n",
            "Requirement already satisfied: pyyaml>=5.1 in /usr/local/lib/python3.10/dist-packages (from transformers) (6.0)\n",
            "Requirement already satisfied: regex!=2019.12.17 in /usr/local/lib/python3.10/dist-packages (from transformers) (2022.10.31)\n",
            "Requirement already satisfied: requests in /usr/local/lib/python3.10/dist-packages (from transformers) (2.27.1)\n",
            "Collecting tokenizers!=0.11.3,<0.14,>=0.11.1 (from transformers)\n",
            "  Downloading tokenizers-0.13.3-cp310-cp310-manylinux_2_17_x86_64.manylinux2014_x86_64.whl (7.8 MB)\n",
            "\u001b[2K     \u001b[90m━━━━━━━━━━━━━━━━━━━━━━━━━━━━━━━━━━━━━━━━\u001b[0m \u001b[32m7.8/7.8 MB\u001b[0m \u001b[31m57.1 MB/s\u001b[0m eta \u001b[36m0:00:00\u001b[0m\n",
            "\u001b[?25hCollecting safetensors>=0.3.1 (from transformers)\n",
            "  Downloading safetensors-0.3.1-cp310-cp310-manylinux_2_17_x86_64.manylinux2014_x86_64.whl (1.3 MB)\n",
            "\u001b[2K     \u001b[90m━━━━━━━━━━━━━━━━━━━━━━━━━━━━━━━━━━━━━━━━\u001b[0m \u001b[32m1.3/1.3 MB\u001b[0m \u001b[31m47.3 MB/s\u001b[0m eta \u001b[36m0:00:00\u001b[0m\n",
            "\u001b[?25hRequirement already satisfied: tqdm>=4.27 in /usr/local/lib/python3.10/dist-packages (from transformers) (4.65.0)\n",
            "Requirement already satisfied: fsspec in /usr/local/lib/python3.10/dist-packages (from huggingface-hub<1.0,>=0.14.1->transformers) (2023.4.0)\n",
            "Requirement already satisfied: typing-extensions>=3.7.4.3 in /usr/local/lib/python3.10/dist-packages (from huggingface-hub<1.0,>=0.14.1->transformers) (4.5.0)\n",
            "Requirement already satisfied: urllib3<1.27,>=1.21.1 in /usr/local/lib/python3.10/dist-packages (from requests->transformers) (1.26.15)\n",
            "Requirement already satisfied: certifi>=2017.4.17 in /usr/local/lib/python3.10/dist-packages (from requests->transformers) (2022.12.7)\n",
            "Requirement already satisfied: charset-normalizer~=2.0.0 in /usr/local/lib/python3.10/dist-packages (from requests->transformers) (2.0.12)\n",
            "Requirement already satisfied: idna<4,>=2.5 in /usr/local/lib/python3.10/dist-packages (from requests->transformers) (3.4)\n",
            "Installing collected packages: tokenizers, safetensors, huggingface-hub, transformers\n",
            "Successfully installed huggingface-hub-0.15.1 safetensors-0.3.1 tokenizers-0.13.3 transformers-4.30.2\n",
            "Looking in indexes: https://pypi.org/simple, https://us-python.pkg.dev/colab-wheels/public/simple/\n",
            "Collecting keras_tuner\n",
            "  Downloading keras_tuner-1.3.5-py3-none-any.whl (176 kB)\n",
            "\u001b[2K     \u001b[90m━━━━━━━━━━━━━━━━━━━━━━━━━━━━━━━━━━━━━━━\u001b[0m \u001b[32m176.1/176.1 kB\u001b[0m \u001b[31m9.5 MB/s\u001b[0m eta \u001b[36m0:00:00\u001b[0m\n",
            "\u001b[?25hRequirement already satisfied: packaging in /usr/local/lib/python3.10/dist-packages (from keras_tuner) (23.1)\n",
            "Requirement already satisfied: requests in /usr/local/lib/python3.10/dist-packages (from keras_tuner) (2.27.1)\n",
            "Collecting kt-legacy (from keras_tuner)\n",
            "  Downloading kt_legacy-1.0.5-py3-none-any.whl (9.6 kB)\n",
            "Requirement already satisfied: urllib3<1.27,>=1.21.1 in /usr/local/lib/python3.10/dist-packages (from requests->keras_tuner) (1.26.15)\n",
            "Requirement already satisfied: certifi>=2017.4.17 in /usr/local/lib/python3.10/dist-packages (from requests->keras_tuner) (2022.12.7)\n",
            "Requirement already satisfied: charset-normalizer~=2.0.0 in /usr/local/lib/python3.10/dist-packages (from requests->keras_tuner) (2.0.12)\n",
            "Requirement already satisfied: idna<4,>=2.5 in /usr/local/lib/python3.10/dist-packages (from requests->keras_tuner) (3.4)\n",
            "Installing collected packages: kt-legacy, keras_tuner\n",
            "Successfully installed keras_tuner-1.3.5 kt-legacy-1.0.5\n",
            "Looking in indexes: https://pypi.org/simple, https://us-python.pkg.dev/colab-wheels/public/simple/\n",
            "Collecting tensorflow_text\n",
            "  Downloading tensorflow_text-2.12.1-cp310-cp310-manylinux_2_17_x86_64.manylinux2014_x86_64.whl (6.0 MB)\n",
            "\u001b[2K     \u001b[90m━━━━━━━━━━━━━━━━━━━━━━━━━━━━━━━━━━━━━━━━\u001b[0m \u001b[32m6.0/6.0 MB\u001b[0m \u001b[31m59.8 MB/s\u001b[0m eta \u001b[36m0:00:00\u001b[0m\n",
            "\u001b[?25hRequirement already satisfied: tensorflow-hub>=0.8.0 in /usr/local/lib/python3.10/dist-packages (from tensorflow_text) (0.13.0)\n",
            "Requirement already satisfied: tensorflow<2.13,>=2.12.0 in /usr/local/lib/python3.10/dist-packages (from tensorflow_text) (2.12.0)\n",
            "Requirement already satisfied: absl-py>=1.0.0 in /usr/local/lib/python3.10/dist-packages (from tensorflow<2.13,>=2.12.0->tensorflow_text) (1.4.0)\n",
            "Requirement already satisfied: astunparse>=1.6.0 in /usr/local/lib/python3.10/dist-packages (from tensorflow<2.13,>=2.12.0->tensorflow_text) (1.6.3)\n",
            "Requirement already satisfied: flatbuffers>=2.0 in /usr/local/lib/python3.10/dist-packages (from tensorflow<2.13,>=2.12.0->tensorflow_text) (23.3.3)\n",
            "Requirement already satisfied: gast<=0.4.0,>=0.2.1 in /usr/local/lib/python3.10/dist-packages (from tensorflow<2.13,>=2.12.0->tensorflow_text) (0.4.0)\n",
            "Requirement already satisfied: google-pasta>=0.1.1 in /usr/local/lib/python3.10/dist-packages (from tensorflow<2.13,>=2.12.0->tensorflow_text) (0.2.0)\n",
            "Requirement already satisfied: grpcio<2.0,>=1.24.3 in /usr/local/lib/python3.10/dist-packages (from tensorflow<2.13,>=2.12.0->tensorflow_text) (1.54.0)\n",
            "Requirement already satisfied: h5py>=2.9.0 in /usr/local/lib/python3.10/dist-packages (from tensorflow<2.13,>=2.12.0->tensorflow_text) (3.8.0)\n",
            "Requirement already satisfied: jax>=0.3.15 in /usr/local/lib/python3.10/dist-packages (from tensorflow<2.13,>=2.12.0->tensorflow_text) (0.4.10)\n",
            "Requirement already satisfied: keras<2.13,>=2.12.0 in /usr/local/lib/python3.10/dist-packages (from tensorflow<2.13,>=2.12.0->tensorflow_text) (2.12.0)\n",
            "Requirement already satisfied: libclang>=13.0.0 in /usr/local/lib/python3.10/dist-packages (from tensorflow<2.13,>=2.12.0->tensorflow_text) (16.0.0)\n",
            "Requirement already satisfied: numpy<1.24,>=1.22 in /usr/local/lib/python3.10/dist-packages (from tensorflow<2.13,>=2.12.0->tensorflow_text) (1.22.4)\n",
            "Requirement already satisfied: opt-einsum>=2.3.2 in /usr/local/lib/python3.10/dist-packages (from tensorflow<2.13,>=2.12.0->tensorflow_text) (3.3.0)\n",
            "Requirement already satisfied: packaging in /usr/local/lib/python3.10/dist-packages (from tensorflow<2.13,>=2.12.0->tensorflow_text) (23.1)\n",
            "Requirement already satisfied: protobuf!=4.21.0,!=4.21.1,!=4.21.2,!=4.21.3,!=4.21.4,!=4.21.5,<5.0.0dev,>=3.20.3 in /usr/local/lib/python3.10/dist-packages (from tensorflow<2.13,>=2.12.0->tensorflow_text) (3.20.3)\n",
            "Requirement already satisfied: setuptools in /usr/local/lib/python3.10/dist-packages (from tensorflow<2.13,>=2.12.0->tensorflow_text) (67.7.2)\n",
            "Requirement already satisfied: six>=1.12.0 in /usr/local/lib/python3.10/dist-packages (from tensorflow<2.13,>=2.12.0->tensorflow_text) (1.16.0)\n",
            "Requirement already satisfied: tensorboard<2.13,>=2.12 in /usr/local/lib/python3.10/dist-packages (from tensorflow<2.13,>=2.12.0->tensorflow_text) (2.12.2)\n",
            "Requirement already satisfied: tensorflow-estimator<2.13,>=2.12.0 in /usr/local/lib/python3.10/dist-packages (from tensorflow<2.13,>=2.12.0->tensorflow_text) (2.12.0)\n",
            "Requirement already satisfied: termcolor>=1.1.0 in /usr/local/lib/python3.10/dist-packages (from tensorflow<2.13,>=2.12.0->tensorflow_text) (2.3.0)\n",
            "Requirement already satisfied: typing-extensions>=3.6.6 in /usr/local/lib/python3.10/dist-packages (from tensorflow<2.13,>=2.12.0->tensorflow_text) (4.5.0)\n",
            "Requirement already satisfied: wrapt<1.15,>=1.11.0 in /usr/local/lib/python3.10/dist-packages (from tensorflow<2.13,>=2.12.0->tensorflow_text) (1.14.1)\n",
            "Requirement already satisfied: tensorflow-io-gcs-filesystem>=0.23.1 in /usr/local/lib/python3.10/dist-packages (from tensorflow<2.13,>=2.12.0->tensorflow_text) (0.32.0)\n",
            "Requirement already satisfied: wheel<1.0,>=0.23.0 in /usr/local/lib/python3.10/dist-packages (from astunparse>=1.6.0->tensorflow<2.13,>=2.12.0->tensorflow_text) (0.40.0)\n",
            "Requirement already satisfied: ml-dtypes>=0.1.0 in /usr/local/lib/python3.10/dist-packages (from jax>=0.3.15->tensorflow<2.13,>=2.12.0->tensorflow_text) (0.1.0)\n",
            "Requirement already satisfied: scipy>=1.7 in /usr/local/lib/python3.10/dist-packages (from jax>=0.3.15->tensorflow<2.13,>=2.12.0->tensorflow_text) (1.10.1)\n",
            "Requirement already satisfied: google-auth<3,>=1.6.3 in /usr/local/lib/python3.10/dist-packages (from tensorboard<2.13,>=2.12->tensorflow<2.13,>=2.12.0->tensorflow_text) (2.17.3)\n",
            "Requirement already satisfied: google-auth-oauthlib<1.1,>=0.5 in /usr/local/lib/python3.10/dist-packages (from tensorboard<2.13,>=2.12->tensorflow<2.13,>=2.12.0->tensorflow_text) (1.0.0)\n",
            "Requirement already satisfied: markdown>=2.6.8 in /usr/local/lib/python3.10/dist-packages (from tensorboard<2.13,>=2.12->tensorflow<2.13,>=2.12.0->tensorflow_text) (3.4.3)\n",
            "Requirement already satisfied: requests<3,>=2.21.0 in /usr/local/lib/python3.10/dist-packages (from tensorboard<2.13,>=2.12->tensorflow<2.13,>=2.12.0->tensorflow_text) (2.27.1)\n",
            "Requirement already satisfied: tensorboard-data-server<0.8.0,>=0.7.0 in /usr/local/lib/python3.10/dist-packages (from tensorboard<2.13,>=2.12->tensorflow<2.13,>=2.12.0->tensorflow_text) (0.7.0)\n",
            "Requirement already satisfied: tensorboard-plugin-wit>=1.6.0 in /usr/local/lib/python3.10/dist-packages (from tensorboard<2.13,>=2.12->tensorflow<2.13,>=2.12.0->tensorflow_text) (1.8.1)\n",
            "Requirement already satisfied: werkzeug>=1.0.1 in /usr/local/lib/python3.10/dist-packages (from tensorboard<2.13,>=2.12->tensorflow<2.13,>=2.12.0->tensorflow_text) (2.3.0)\n",
            "Requirement already satisfied: cachetools<6.0,>=2.0.0 in /usr/local/lib/python3.10/dist-packages (from google-auth<3,>=1.6.3->tensorboard<2.13,>=2.12->tensorflow<2.13,>=2.12.0->tensorflow_text) (5.3.0)\n",
            "Requirement already satisfied: pyasn1-modules>=0.2.1 in /usr/local/lib/python3.10/dist-packages (from google-auth<3,>=1.6.3->tensorboard<2.13,>=2.12->tensorflow<2.13,>=2.12.0->tensorflow_text) (0.3.0)\n",
            "Requirement already satisfied: rsa<5,>=3.1.4 in /usr/local/lib/python3.10/dist-packages (from google-auth<3,>=1.6.3->tensorboard<2.13,>=2.12->tensorflow<2.13,>=2.12.0->tensorflow_text) (4.9)\n",
            "Requirement already satisfied: requests-oauthlib>=0.7.0 in /usr/local/lib/python3.10/dist-packages (from google-auth-oauthlib<1.1,>=0.5->tensorboard<2.13,>=2.12->tensorflow<2.13,>=2.12.0->tensorflow_text) (1.3.1)\n",
            "Requirement already satisfied: urllib3<1.27,>=1.21.1 in /usr/local/lib/python3.10/dist-packages (from requests<3,>=2.21.0->tensorboard<2.13,>=2.12->tensorflow<2.13,>=2.12.0->tensorflow_text) (1.26.15)\n",
            "Requirement already satisfied: certifi>=2017.4.17 in /usr/local/lib/python3.10/dist-packages (from requests<3,>=2.21.0->tensorboard<2.13,>=2.12->tensorflow<2.13,>=2.12.0->tensorflow_text) (2022.12.7)\n",
            "Requirement already satisfied: charset-normalizer~=2.0.0 in /usr/local/lib/python3.10/dist-packages (from requests<3,>=2.21.0->tensorboard<2.13,>=2.12->tensorflow<2.13,>=2.12.0->tensorflow_text) (2.0.12)\n",
            "Requirement already satisfied: idna<4,>=2.5 in /usr/local/lib/python3.10/dist-packages (from requests<3,>=2.21.0->tensorboard<2.13,>=2.12->tensorflow<2.13,>=2.12.0->tensorflow_text) (3.4)\n",
            "Requirement already satisfied: MarkupSafe>=2.1.1 in /usr/local/lib/python3.10/dist-packages (from werkzeug>=1.0.1->tensorboard<2.13,>=2.12->tensorflow<2.13,>=2.12.0->tensorflow_text) (2.1.2)\n",
            "Requirement already satisfied: pyasn1<0.6.0,>=0.4.6 in /usr/local/lib/python3.10/dist-packages (from pyasn1-modules>=0.2.1->google-auth<3,>=1.6.3->tensorboard<2.13,>=2.12->tensorflow<2.13,>=2.12.0->tensorflow_text) (0.5.0)\n",
            "Requirement already satisfied: oauthlib>=3.0.0 in /usr/local/lib/python3.10/dist-packages (from requests-oauthlib>=0.7.0->google-auth-oauthlib<1.1,>=0.5->tensorboard<2.13,>=2.12->tensorflow<2.13,>=2.12.0->tensorflow_text) (3.2.2)\n",
            "Installing collected packages: tensorflow_text\n",
            "Successfully installed tensorflow_text-2.12.1\n"
          ]
        }
      ]
    },
    {
      "cell_type": "code",
      "execution_count": 2,
      "id": "7f8decb4",
      "metadata": {
        "id": "7f8decb4"
      },
      "outputs": [],
      "source": [
        "import os\n",
        "os.environ['TF_CPP_MIN_LOG_LEVEL'] = '3'"
      ]
    },
    {
      "cell_type": "code",
      "execution_count": 3,
      "id": "2e38acd0",
      "metadata": {
        "id": "2e38acd0"
      },
      "outputs": [],
      "source": [
        "import pandas as pd\n",
        "import numpy as np\n",
        "import utils\n",
        "\n",
        "from sklearn.model_selection import train_test_split\n",
        "from sklearn.metrics import confusion_matrix, ConfusionMatrixDisplay\n",
        "\n",
        "from transformers import AutoTokenizer, TFBertModel\n",
        "\n",
        "import tensorflow as tf\n",
        "import tensorflow_hub as hub\n",
        "import tensorflow_text as text\n",
        "from tensorflow.keras.optimizers import Adam\n",
        "import keras_tuner as kt\n",
        "from keras.models import Model, Sequential\n",
        "from keras.layers import Input, Dense, Dropout, Embedding, LSTM, Bidirectional, GRU\n",
        "from tensorflow.keras import regularizers\n",
        "from keras.callbacks import EarlyStopping, ReduceLROnPlateau\n",
        "\n",
        "import matplotlib.pyplot as plt"
      ]
    },
    {
      "cell_type": "markdown",
      "source": [
        "Using GPU if available"
      ],
      "metadata": {
        "id": "g5MgZ8c5yXT2"
      },
      "id": "g5MgZ8c5yXT2"
    },
    {
      "cell_type": "code",
      "source": [
        "device_name = tf.test.gpu_device_name()\n",
        "if device_name != '/device:GPU:0':\n",
        "  raise SystemError('GPU device not found')\n",
        "print('Found GPU at: {}'.format(device_name))"
      ],
      "metadata": {
        "colab": {
          "base_uri": "https://localhost:8080/"
        },
        "id": "6z9aWJ8IP9gZ",
        "outputId": "e931e606-e34a-4a91-98fc-c9194e4d81a1"
      },
      "id": "6z9aWJ8IP9gZ",
      "execution_count": 4,
      "outputs": [
        {
          "output_type": "stream",
          "name": "stdout",
          "text": [
            "Found GPU at: /device:GPU:0\n"
          ]
        }
      ]
    },
    {
      "cell_type": "markdown",
      "source": [
        "# Preprocessing"
      ],
      "metadata": {
        "id": "CIKEQMZggxiw"
      },
      "id": "CIKEQMZggxiw"
    },
    {
      "cell_type": "markdown",
      "source": [
        "The primary data for the competition is, in each provided file, the *comment_text* column. This contains the text of a comment which has been labeled as **Conspiratorial** (1) or **non-conspiratorial** (0). The train set’s comments are entirely in Italian with sporadic citation of external resources in English and come exclusively from Telegram Channels.\n",
        "\n",
        "The **subtaskA_train.csv** contains a *conspiratorial* column that it is the target to be trained on. The values of such column are either 1 indicating that the corresponding comment in *comment_text* column is Conspiratorial. Otherwise it is 0."
      ],
      "metadata": {
        "id": "t0z-sGiVnySB"
      },
      "id": "t0z-sGiVnySB"
    },
    {
      "cell_type": "markdown",
      "source": [
        "## Loading dataset"
      ],
      "metadata": {
        "id": "oCyO4VY-g7KK"
      },
      "id": "oCyO4VY-g7KK"
    },
    {
      "cell_type": "code",
      "execution_count": 5,
      "id": "918edc94",
      "metadata": {
        "id": "918edc94"
      },
      "outputs": [],
      "source": [
        "df = pd.read_csv(\"subtaskA_train.csv\")"
      ]
    },
    {
      "cell_type": "code",
      "execution_count": 6,
      "id": "786c8b41",
      "metadata": {
        "colab": {
          "base_uri": "https://localhost:8080/"
        },
        "id": "786c8b41",
        "outputId": "2a9eea05-c560-4d0e-8db2-c9c1c50e225c"
      },
      "outputs": [
        {
          "output_type": "stream",
          "name": "stdout",
          "text": [
            "<class 'pandas.core.frame.DataFrame'>\n",
            "RangeIndex: 1842 entries, 0 to 1841\n",
            "Data columns (total 3 columns):\n",
            " #   Column          Non-Null Count  Dtype \n",
            "---  ------          --------------  ----- \n",
            " 0   Id              1842 non-null   int64 \n",
            " 1   comment_text    1842 non-null   object\n",
            " 2   conspiratorial  1842 non-null   int64 \n",
            "dtypes: int64(2), object(1)\n",
            "memory usage: 43.3+ KB\n"
          ]
        }
      ],
      "source": [
        "df.info()"
      ]
    },
    {
      "cell_type": "markdown",
      "source": [
        "By plotting the distribution for text length, we can see that the majority of messages have a short length, showing a power law distribution."
      ],
      "metadata": {
        "id": "_8DBDGMnoEPf"
      },
      "id": "_8DBDGMnoEPf"
    },
    {
      "cell_type": "code",
      "execution_count": 7,
      "id": "55a512ba",
      "metadata": {
        "scrolled": true,
        "colab": {
          "base_uri": "https://localhost:8080/",
          "height": 447
        },
        "id": "55a512ba",
        "outputId": "88904e6c-34d0-45aa-869c-04de9c2a6a0b"
      },
      "outputs": [
        {
          "output_type": "execute_result",
          "data": {
            "text/plain": [
              "<Axes: >"
            ]
          },
          "metadata": {},
          "execution_count": 7
        },
        {
          "output_type": "display_data",
          "data": {
            "text/plain": [
              "<Figure size 640x480 with 1 Axes>"
            ],
            "image/png": "[encoded data removed]"
          },
          "metadata": {}
        }
      ],
      "source": [
        "df[\"comment_text\"].map(len).hist()"
      ]
    },
    {
      "cell_type": "markdown",
      "source": [
        "The labels are well-balanced."
      ],
      "metadata": {
        "id": "6PZaZuUtqXSh"
      },
      "id": "6PZaZuUtqXSh"
    },
    {
      "cell_type": "code",
      "execution_count": 8,
      "id": "2f575033",
      "metadata": {
        "colab": {
          "base_uri": "https://localhost:8080/",
          "height": 447
        },
        "id": "2f575033",
        "outputId": "81c0342a-e996-4293-8f9f-f36eab299fc1"
      },
      "outputs": [
        {
          "output_type": "execute_result",
          "data": {
            "text/plain": [
              "<Axes: >"
            ]
          },
          "metadata": {},
          "execution_count": 8
        },
        {
          "output_type": "display_data",
          "data": {
            "text/plain": [
              "<Figure size 640x480 with 1 Axes>"
            ],
            "image/png": "[encoded data removed]"
          },
          "metadata": {}
        }
      ],
      "source": [
        "df[\"conspiratorial\"].hist()"
      ]
    },
    {
      "cell_type": "markdown",
      "id": "db2a186c",
      "metadata": {
        "id": "db2a186c"
      },
      "source": [
        "## Building train and test set"
      ]
    },
    {
      "cell_type": "markdown",
      "source": [
        "Assigning 10% of the data to the test set, specifying (using the parameter _stratify_) that the dataset has to be balanced regarding the label \"conspirational\""
      ],
      "metadata": {
        "id": "zFt3Xh5RzRw3"
      },
      "id": "zFt3Xh5RzRw3"
    },
    {
      "cell_type": "code",
      "execution_count": 9,
      "id": "4e2bee79",
      "metadata": {
        "id": "4e2bee79"
      },
      "outputs": [],
      "source": [
        "X = df[\"comment_text\"]\n",
        "y = df[\"conspiratorial\"]"
      ]
    },
    {
      "cell_type": "code",
      "execution_count": 10,
      "id": "75143b88",
      "metadata": {
        "id": "75143b88"
      },
      "outputs": [],
      "source": [
        "X_train, X_test, y_train, y_test = train_test_split(X, y, stratify = y, test_size = 0.10, random_state = 10)"
      ]
    },
    {
      "cell_type": "markdown",
      "source": [
        "# Model training"
      ],
      "metadata": {
        "id": "uBY2RcXqzv4C"
      },
      "id": "uBY2RcXqzv4C"
    },
    {
      "cell_type": "markdown",
      "source": [
        "## Architecture definition"
      ],
      "metadata": {
        "id": "xCRFhy9lrFAG"
      },
      "id": "xCRFhy9lrFAG"
    },
    {
      "cell_type": "markdown",
      "source": [
        "In this notebook the task has been addressed by using the [**Multilingual Universal Sentence Encoder**](https://arxiv.org/pdf/1907.04307.pdf). It's a multilingual text encoder trained by Google on 16 languages (including italian) and freely available on [TensorFlow Hub](https://tfhub.dev/google/universal-sentence-encoder-multilingual/3).\n",
        "\n",
        "This encoder relies on [SentencePiece](https://aclanthology.org/D18-2012.pdf) tokenizer."
      ],
      "metadata": {
        "id": "Y4YRVqpgrtII"
      },
      "id": "Y4YRVqpgrtII"
    },
    {
      "cell_type": "code",
      "execution_count": 11,
      "id": "f50931f8",
      "metadata": {
        "id": "f50931f8"
      },
      "outputs": [],
      "source": [
        "tfhub_handle_encoder = \"https://tfhub.dev/google/universal-sentence-encoder-multilingual/3\"\n",
        "tfhub_handle_preprocess = \"https://tfhub.dev/google/universal-sentence-encoder-multilingual/3\""
      ]
    },
    {
      "cell_type": "code",
      "execution_count": 19,
      "id": "e95150b5",
      "metadata": {
        "id": "e95150b5"
      },
      "outputs": [],
      "source": [
        "def build_model_with_hp(\n",
        "    lstm_units: int,\n",
        "    l1_units: int,\n",
        "    l2_units: int,\n",
        "    l3_units: int,\n",
        "    l2_value: float,\n",
        "    dropout_rate: float,\n",
        "    learning_rate: float,\n",
        "    epsilon: float,\n",
        "    clipnorm: float\n",
        "):\n",
        "    # defining inputs\n",
        "    text_input = tf.keras.layers.Input(shape=(), dtype=tf.string, name='text')\n",
        "\n",
        "    # defining preprocessing\n",
        "    preprocessing_layer = hub.KerasLayer(tfhub_handle_preprocess, name='preprocessing')\n",
        "\n",
        "    # defining encoder\n",
        "    encoder = hub.KerasLayer(tfhub_handle_encoder, trainable=False, name='text_encoder')\n",
        "    net = encoder(text_input)\n",
        "\n",
        "    # Reshape net to add a time step dimension\n",
        "    net = tf.expand_dims(net, axis=1)\n",
        "\n",
        "    net = LSTM(\n",
        "        units = lstm_units,\n",
        "        kernel_regularizer = regularizers.L2(l2_value),\n",
        "        dropout = dropout_rate,\n",
        "        name = \"LSTM_layer\"\n",
        "    )(net)\n",
        "\n",
        "    # FULLY CONNECTED LAYERS\n",
        "\n",
        "    net = tf.keras.layers.Dense(\n",
        "        units = l1_units,\n",
        "        kernel_regularizer = regularizers.L2(l2_value),\n",
        "        activation = \"relu\",\n",
        "        name = \"Dense_layer_1\"\n",
        "    )(net)\n",
        "\n",
        "    net = Dropout(rate=dropout_rate)(net)\n",
        "\n",
        "    net = tf.keras.layers.Dense(\n",
        "        units = l2_units,\n",
        "        kernel_regularizer = regularizers.L2(l2_value),\n",
        "        activation=\"relu\",\n",
        "        name = \"Dense_layer_2\"\n",
        "    )(net)\n",
        "\n",
        "    net = Dropout(rate=dropout_rate)(net)\n",
        "\n",
        "    net = tf.keras.layers.Dense(\n",
        "        units = l3_units,\n",
        "        kernel_regularizer = regularizers.L2(l2_value),\n",
        "        activation=\"relu\",\n",
        "        name = \"Dense_layer_3\"\n",
        "    )(net)\n",
        "\n",
        "    net = Dropout(rate=dropout_rate)(net)\n",
        "\n",
        "    # OUTPUT LAYER\n",
        "    net = tf.keras.layers.Dense(\n",
        "        units = 1,\n",
        "        kernel_regularizer = regularizers.L2(l2_value),\n",
        "        activation = \"sigmoid\",\n",
        "        name = 'classifier'\n",
        "    )(net)\n",
        "\n",
        "    model = tf.keras.Model(text_input, net)\n",
        "\n",
        "    optimizer = Adam(\n",
        "        learning_rate = learning_rate,\n",
        "        epsilon = epsilon,\n",
        "        clipnorm = clipnorm\n",
        "    )\n",
        "\n",
        "    model.compile(\n",
        "        optimizer = optimizer,\n",
        "        loss = 'binary_crossentropy',\n",
        "        metrics = 'accuracy'\n",
        "    )\n",
        "\n",
        "    return model\n",
        "\n",
        "def build_classifier_model(hp):\n",
        "    lstm_units = hp.Int('lstm_units', min_value=4, max_value=10, step=1)\n",
        "    l1_units = hp.Int('l1_units', min_value=5, max_value=40, step=5)\n",
        "    l2_units = hp.Int('l2_units', min_value=5, max_value=40, step=5)\n",
        "    l3_units = hp.Int('l3_units', min_value=5, max_value=40, step=5)\n",
        "    l2_value = hp.Choice('L2 regularization', values = [1e-5, 1e-6])\n",
        "    dropout_rate = 0.1\n",
        "    learning_rate = hp.Choice('learning_rate', values=[1e-2, 1e-3, 1e-4])\n",
        "    epsilon = 1e-7\n",
        "    clipnorm = 0.1\n",
        "\n",
        "    return build_model_with_hp(lstm_units, l1_units, l2_units, l3_units, l2_value, dropout_rate, learning_rate, epsilon, clipnorm)"
      ]
    },
    {
      "cell_type": "markdown",
      "source": [
        "Along the model, we introduce 2 callbacks to support the model training:\n",
        "\n",
        "\n",
        "*   **ReduceLROnPlateau**: Reduce learning rate when a metric has stopped improving. Models often benefit from reducing the learning rate by a factor once learning stagnates. This callback monitors a quantity and if no improvement is seen for a 'patience' number of epochs, the learning rate is reduced.\n",
        "*   **EarlyStopping**: Stop training when a monitored metric has stopped improving.\n",
        "\n"
      ],
      "metadata": {
        "id": "ERg54-GbwwT0"
      },
      "id": "ERg54-GbwwT0"
    },
    {
      "cell_type": "code",
      "source": [
        "reduce_lr = ReduceLROnPlateau(\n",
        "    monitor=\"val_loss\",\n",
        "    factor=5e-2,\n",
        "    patience=5,\n",
        "    verbose=0,\n",
        "    mode=\"auto\",\n",
        "    min_delta=1e-3,\n",
        "    min_lr=1e-5\n",
        ")\n",
        "early_stopping = EarlyStopping(monitor='val_accuracy' ,mode='max', patience=20,verbose=False,restore_best_weights=True)"
      ],
      "metadata": {
        "id": "gKHk5YADlgbA"
      },
      "id": "gKHk5YADlgbA",
      "execution_count": 20,
      "outputs": []
    },
    {
      "cell_type": "markdown",
      "source": [
        "## Performing a random search of the hyperparameters"
      ],
      "metadata": {
        "id": "md00PvdQ0fmM"
      },
      "id": "md00PvdQ0fmM"
    },
    {
      "cell_type": "code",
      "execution_count": 21,
      "id": "7ae4ee76",
      "metadata": {
        "id": "7ae4ee76"
      },
      "outputs": [],
      "source": [
        "tuner = kt.RandomSearch(\n",
        "    hypermodel=build_classifier_model,\n",
        "    max_trials=10,\n",
        "    objective='val_accuracy',\n",
        "    overwrite=True\n",
        ")"
      ]
    },
    {
      "cell_type": "code",
      "execution_count": 22,
      "id": "5831c33f",
      "metadata": {
        "scrolled": true,
        "colab": {
          "base_uri": "https://localhost:8080/"
        },
        "id": "5831c33f",
        "outputId": "6cd6b2b8-34b2-4df7-f7c6-fe28b253accc"
      },
      "outputs": [
        {
          "output_type": "stream",
          "name": "stdout",
          "text": [
            "Trial 10 Complete [00h 00m 52s]\n",
            "val_accuracy: 0.7981927990913391\n",
            "\n",
            "Best val_accuracy So Far: 0.7981927990913391\n",
            "Total elapsed time: 00h 13m 27s\n"
          ]
        }
      ],
      "source": [
        "print(f'Training model with {tfhub_handle_encoder}')\n",
        "tuner.search(\n",
        "    x = X_train,\n",
        "    y = y_train,\n",
        "    epochs = 80,\n",
        "    validation_split = 0.2,\n",
        "    callbacks = [\n",
        "        reduce_lr,\n",
        "        early_stopping\n",
        "    ]\n",
        ")"
      ]
    },
    {
      "cell_type": "code",
      "source": [
        "tuner.results_summary(5)"
      ],
      "metadata": {
        "colab": {
          "base_uri": "https://localhost:8080/"
        },
        "id": "UrZ8wK_JmzhR",
        "outputId": "e24f401d-2dd5-49bd-ade0-9f4766995288"
      },
      "id": "UrZ8wK_JmzhR",
      "execution_count": 23,
      "outputs": [
        {
          "output_type": "stream",
          "name": "stdout",
          "text": [
            "Results summary\n",
            "Results in ./untitled_project\n",
            "Showing 5 best trials\n",
            "Objective(name=\"val_accuracy\", direction=\"max\")\n",
            "\n",
            "Trial 09 summary\n",
            "Hyperparameters:\n",
            "lstm_units: 6\n",
            "l1_units: 30\n",
            "l2_units: 35\n",
            "l3_units: 30\n",
            "L2 regularization: 1e-06\n",
            "learning_rate: 0.001\n",
            "Score: 0.7981927990913391\n",
            "\n",
            "Trial 01 summary\n",
            "Hyperparameters:\n",
            "lstm_units: 7\n",
            "l1_units: 25\n",
            "l2_units: 15\n",
            "l3_units: 30\n",
            "L2 regularization: 1e-06\n",
            "learning_rate: 0.01\n",
            "Score: 0.7921686768531799\n",
            "\n",
            "Trial 03 summary\n",
            "Hyperparameters:\n",
            "lstm_units: 9\n",
            "l1_units: 35\n",
            "l2_units: 35\n",
            "l3_units: 20\n",
            "L2 regularization: 1e-06\n",
            "learning_rate: 0.001\n",
            "Score: 0.7891566157341003\n",
            "\n",
            "Trial 00 summary\n",
            "Hyperparameters:\n",
            "lstm_units: 10\n",
            "l1_units: 10\n",
            "l2_units: 5\n",
            "l3_units: 30\n",
            "L2 regularization: 1e-06\n",
            "learning_rate: 0.01\n",
            "Score: 0.7831325531005859\n",
            "\n",
            "Trial 06 summary\n",
            "Hyperparameters:\n",
            "lstm_units: 8\n",
            "l1_units: 10\n",
            "l2_units: 5\n",
            "l3_units: 25\n",
            "L2 regularization: 1e-06\n",
            "learning_rate: 0.01\n",
            "Score: 0.7831325531005859\n"
          ]
        }
      ]
    },
    {
      "cell_type": "markdown",
      "source": [
        "# Final phase: retrain and test"
      ],
      "metadata": {
        "id": "xyK9Derdx_BM"
      },
      "id": "xyK9Derdx_BM"
    },
    {
      "cell_type": "markdown",
      "source": [
        "After the search for optimal parameters we perform another fit on the training set in order to observe closely the learning curves on training and validation."
      ],
      "metadata": {
        "id": "HIo5I05lx-ml"
      },
      "id": "HIo5I05lx-ml"
    },
    {
      "cell_type": "code",
      "source": [
        "lstm_units = 6\n",
        "l1_units = 30\n",
        "l2_units = 35\n",
        "l3_units = 30\n",
        "l2_value = 1e-6\n",
        "dropout_rate = 0.1\n",
        "learning_rate = 1e-4\n",
        "epsilon = 1e-7\n",
        "clipnorm = 0.1"
      ],
      "metadata": {
        "id": "KA4Vdue_ka-w"
      },
      "id": "KA4Vdue_ka-w",
      "execution_count": 28,
      "outputs": []
    },
    {
      "cell_type": "code",
      "source": [
        "best_model = build_model_with_hp(\n",
        "    lstm_units = lstm_units,\n",
        "    l1_units = l1_units,\n",
        "    l2_units = l2_units,\n",
        "    l3_units = l3_units,\n",
        "    l2_value = l2_value,\n",
        "    dropout_rate = dropout_rate,\n",
        "    learning_rate = learning_rate,\n",
        "    epsilon = epsilon,\n",
        "    clipnorm = clipnorm\n",
        ")\n",
        "\n",
        "print(f'Training model with {tfhub_handle_encoder}')\n",
        "history = best_model.fit(\n",
        "    x = X_train,\n",
        "    y = y_train,\n",
        "    epochs=160,\n",
        "    validation_split = 0.2,\n",
        "    batch_size = 32,\n",
        "    callbacks= [\n",
        "      reduce_lr\n",
        "    ]\n",
        ")\n"
      ],
      "metadata": {
        "colab": {
          "base_uri": "https://localhost:8080/"
        },
        "outputId": "efaa75e7-b8cd-4aee-8d21-e8f35382ce88",
        "id": "NGXfMMzgd_-k"
      },
      "execution_count": 29,
      "outputs": [
        {
          "output_type": "stream",
          "name": "stdout",
          "text": [
            "Training model with https://tfhub.dev/google/universal-sentence-encoder-multilingual/3\n",
            "Epoch 1/160\n",
            "42/42 [==============================] - 12s 60ms/step - loss: 0.6930 - accuracy: 0.5253 - val_loss: 0.6928 - val_accuracy: 0.5572 - lr: 1.0000e-04\n",
            "Epoch 2/160\n",
            "42/42 [==============================] - 1s 29ms/step - loss: 0.6925 - accuracy: 0.5721 - val_loss: 0.6923 - val_accuracy: 0.5904 - lr: 1.0000e-04\n",
            "Epoch 3/160\n",
            "42/42 [==============================] - 2s 40ms/step - loss: 0.6918 - accuracy: 0.5887 - val_loss: 0.6915 - val_accuracy: 0.5934 - lr: 1.0000e-04\n",
            "Epoch 4/160\n",
            "42/42 [==============================] - 2s 36ms/step - loss: 0.6909 - accuracy: 0.6226 - val_loss: 0.6902 - val_accuracy: 0.6476 - lr: 1.0000e-04\n",
            "Epoch 5/160\n",
            "42/42 [==============================] - 1s 36ms/step - loss: 0.6895 - accuracy: 0.6219 - val_loss: 0.6885 - val_accuracy: 0.6386 - lr: 1.0000e-04\n",
            "Epoch 6/160\n",
            "42/42 [==============================] - 2s 52ms/step - loss: 0.6874 - accuracy: 0.6385 - val_loss: 0.6859 - val_accuracy: 0.6566 - lr: 1.0000e-04\n",
            "Epoch 7/160\n",
            "42/42 [==============================] - 2s 38ms/step - loss: 0.6843 - accuracy: 0.6853 - val_loss: 0.6822 - val_accuracy: 0.6777 - lr: 1.0000e-04\n",
            "Epoch 8/160\n",
            "42/42 [==============================] - 1s 30ms/step - loss: 0.6795 - accuracy: 0.6958 - val_loss: 0.6771 - val_accuracy: 0.6837 - lr: 1.0000e-04\n",
            "Epoch 9/160\n",
            "42/42 [==============================] - 1s 30ms/step - loss: 0.6749 - accuracy: 0.7064 - val_loss: 0.6705 - val_accuracy: 0.6928 - lr: 1.0000e-04\n",
            "Epoch 10/160\n",
            "42/42 [==============================] - 1s 27ms/step - loss: 0.6662 - accuracy: 0.7321 - val_loss: 0.6622 - val_accuracy: 0.6958 - lr: 1.0000e-04\n",
            "Epoch 11/160\n",
            "42/42 [==============================] - 1s 27ms/step - loss: 0.6567 - accuracy: 0.7155 - val_loss: 0.6517 - val_accuracy: 0.6928 - lr: 1.0000e-04\n",
            "Epoch 12/160\n",
            "42/42 [==============================] - 1s 29ms/step - loss: 0.6446 - accuracy: 0.7306 - val_loss: 0.6390 - val_accuracy: 0.7018 - lr: 1.0000e-04\n",
            "Epoch 13/160\n",
            "42/42 [==============================] - 1s 29ms/step - loss: 0.6296 - accuracy: 0.7509 - val_loss: 0.6256 - val_accuracy: 0.7139 - lr: 1.0000e-04\n",
            "Epoch 14/160\n",
            "42/42 [==============================] - 1s 27ms/step - loss: 0.6159 - accuracy: 0.7442 - val_loss: 0.6108 - val_accuracy: 0.7229 - lr: 1.0000e-04\n",
            "Epoch 15/160\n",
            "42/42 [==============================] - 1s 32ms/step - loss: 0.6006 - accuracy: 0.7494 - val_loss: 0.5946 - val_accuracy: 0.7229 - lr: 1.0000e-04\n",
            "Epoch 16/160\n",
            "42/42 [==============================] - 2s 52ms/step - loss: 0.5816 - accuracy: 0.7540 - val_loss: 0.5793 - val_accuracy: 0.7319 - lr: 1.0000e-04\n",
            "Epoch 17/160\n",
            "42/42 [==============================] - 2s 43ms/step - loss: 0.5632 - accuracy: 0.7540 - val_loss: 0.5634 - val_accuracy: 0.7289 - lr: 1.0000e-04\n",
            "Epoch 18/160\n",
            "42/42 [==============================] - 1s 28ms/step - loss: 0.5502 - accuracy: 0.7517 - val_loss: 0.5488 - val_accuracy: 0.7380 - lr: 1.0000e-04\n",
            "Epoch 19/160\n",
            "42/42 [==============================] - 1s 29ms/step - loss: 0.5352 - accuracy: 0.7600 - val_loss: 0.5366 - val_accuracy: 0.7319 - lr: 1.0000e-04\n",
            "Epoch 20/160\n",
            "42/42 [==============================] - 1s 29ms/step - loss: 0.5195 - accuracy: 0.7608 - val_loss: 0.5255 - val_accuracy: 0.7349 - lr: 1.0000e-04\n",
            "Epoch 21/160\n",
            "42/42 [==============================] - 1s 27ms/step - loss: 0.5077 - accuracy: 0.7713 - val_loss: 0.5169 - val_accuracy: 0.7349 - lr: 1.0000e-04\n",
            "Epoch 22/160\n",
            "42/42 [==============================] - 1s 30ms/step - loss: 0.4966 - accuracy: 0.7743 - val_loss: 0.5096 - val_accuracy: 0.7380 - lr: 1.0000e-04\n",
            "Epoch 23/160\n",
            "42/42 [==============================] - 1s 30ms/step - loss: 0.4938 - accuracy: 0.7728 - val_loss: 0.5036 - val_accuracy: 0.7440 - lr: 1.0000e-04\n",
            "Epoch 24/160\n",
            "42/42 [==============================] - 1s 27ms/step - loss: 0.4818 - accuracy: 0.7819 - val_loss: 0.4977 - val_accuracy: 0.7470 - lr: 1.0000e-04\n",
            "Epoch 25/160\n",
            "42/42 [==============================] - 1s 31ms/step - loss: 0.4778 - accuracy: 0.7811 - val_loss: 0.4934 - val_accuracy: 0.7530 - lr: 1.0000e-04\n",
            "Epoch 26/160\n",
            "42/42 [==============================] - 2s 52ms/step - loss: 0.4682 - accuracy: 0.7857 - val_loss: 0.4913 - val_accuracy: 0.7440 - lr: 1.0000e-04\n",
            "Epoch 27/160\n",
            "42/42 [==============================] - 2s 43ms/step - loss: 0.4559 - accuracy: 0.7917 - val_loss: 0.4872 - val_accuracy: 0.7530 - lr: 1.0000e-04\n",
            "Epoch 28/160\n",
            "42/42 [==============================] - 1s 30ms/step - loss: 0.4647 - accuracy: 0.7804 - val_loss: 0.4835 - val_accuracy: 0.7560 - lr: 1.0000e-04\n",
            "Epoch 29/160\n",
            "42/42 [==============================] - 1s 28ms/step - loss: 0.4477 - accuracy: 0.7872 - val_loss: 0.4821 - val_accuracy: 0.7470 - lr: 1.0000e-04\n",
            "Epoch 30/160\n",
            "42/42 [==============================] - 1s 29ms/step - loss: 0.4475 - accuracy: 0.7879 - val_loss: 0.4777 - val_accuracy: 0.7590 - lr: 1.0000e-04\n",
            "Epoch 31/160\n",
            "42/42 [==============================] - 1s 27ms/step - loss: 0.4450 - accuracy: 0.7879 - val_loss: 0.4756 - val_accuracy: 0.7530 - lr: 1.0000e-04\n",
            "Epoch 32/160\n",
            "42/42 [==============================] - 1s 30ms/step - loss: 0.4376 - accuracy: 0.7955 - val_loss: 0.4744 - val_accuracy: 0.7590 - lr: 1.0000e-04\n",
            "Epoch 33/160\n",
            "42/42 [==============================] - 1s 27ms/step - loss: 0.4347 - accuracy: 0.8038 - val_loss: 0.4730 - val_accuracy: 0.7620 - lr: 1.0000e-04\n",
            "Epoch 34/160\n",
            "42/42 [==============================] - 1s 30ms/step - loss: 0.4229 - accuracy: 0.8226 - val_loss: 0.4717 - val_accuracy: 0.7530 - lr: 1.0000e-04\n",
            "Epoch 35/160\n",
            "42/42 [==============================] - 1s 26ms/step - loss: 0.4160 - accuracy: 0.8121 - val_loss: 0.4714 - val_accuracy: 0.7560 - lr: 1.0000e-04\n",
            "Epoch 36/160\n",
            "42/42 [==============================] - 2s 42ms/step - loss: 0.4277 - accuracy: 0.8121 - val_loss: 0.4704 - val_accuracy: 0.7530 - lr: 1.0000e-04\n",
            "Epoch 37/160\n",
            "42/42 [==============================] - 2s 45ms/step - loss: 0.4197 - accuracy: 0.8060 - val_loss: 0.4699 - val_accuracy: 0.7530 - lr: 1.0000e-04\n",
            "Epoch 38/160\n",
            "42/42 [==============================] - 1s 34ms/step - loss: 0.4155 - accuracy: 0.8121 - val_loss: 0.4693 - val_accuracy: 0.7530 - lr: 1.0000e-04\n",
            "Epoch 39/160\n",
            "42/42 [==============================] - 1s 30ms/step - loss: 0.4153 - accuracy: 0.8151 - val_loss: 0.4679 - val_accuracy: 0.7530 - lr: 1.0000e-04\n",
            "Epoch 40/160\n",
            "42/42 [==============================] - 1s 30ms/step - loss: 0.4169 - accuracy: 0.7985 - val_loss: 0.4668 - val_accuracy: 0.7620 - lr: 1.0000e-04\n",
            "Epoch 41/160\n",
            "42/42 [==============================] - 1s 30ms/step - loss: 0.4142 - accuracy: 0.7955 - val_loss: 0.4662 - val_accuracy: 0.7651 - lr: 1.0000e-04\n",
            "Epoch 42/160\n",
            "42/42 [==============================] - 1s 26ms/step - loss: 0.4077 - accuracy: 0.8151 - val_loss: 0.4656 - val_accuracy: 0.7711 - lr: 1.0000e-04\n",
            "Epoch 43/160\n",
            "42/42 [==============================] - 1s 27ms/step - loss: 0.4016 - accuracy: 0.8234 - val_loss: 0.4674 - val_accuracy: 0.7651 - lr: 1.0000e-04\n",
            "Epoch 44/160\n",
            "42/42 [==============================] - 1s 31ms/step - loss: 0.4015 - accuracy: 0.8317 - val_loss: 0.4680 - val_accuracy: 0.7590 - lr: 1.0000e-04\n",
            "Epoch 45/160\n",
            "42/42 [==============================] - 1s 30ms/step - loss: 0.4027 - accuracy: 0.8204 - val_loss: 0.4664 - val_accuracy: 0.7711 - lr: 1.0000e-04\n",
            "Epoch 46/160\n",
            "42/42 [==============================] - 2s 45ms/step - loss: 0.4084 - accuracy: 0.8113 - val_loss: 0.4675 - val_accuracy: 0.7711 - lr: 1.0000e-04\n",
            "Epoch 47/160\n",
            "42/42 [==============================] - 2s 52ms/step - loss: 0.4060 - accuracy: 0.8264 - val_loss: 0.4678 - val_accuracy: 0.7711 - lr: 1.0000e-04\n",
            "Epoch 48/160\n",
            "42/42 [==============================] - 2s 48ms/step - loss: 0.3951 - accuracy: 0.8211 - val_loss: 0.4676 - val_accuracy: 0.7711 - lr: 1.0000e-05\n",
            "Epoch 49/160\n",
            "42/42 [==============================] - 2s 45ms/step - loss: 0.4022 - accuracy: 0.8113 - val_loss: 0.4678 - val_accuracy: 0.7711 - lr: 1.0000e-05\n",
            "Epoch 50/160\n",
            "42/42 [==============================] - 1s 31ms/step - loss: 0.4073 - accuracy: 0.8151 - val_loss: 0.4678 - val_accuracy: 0.7711 - lr: 1.0000e-05\n",
            "Epoch 51/160\n",
            "42/42 [==============================] - 1s 28ms/step - loss: 0.3977 - accuracy: 0.8226 - val_loss: 0.4677 - val_accuracy: 0.7711 - lr: 1.0000e-05\n",
            "Epoch 52/160\n",
            "42/42 [==============================] - 1s 30ms/step - loss: 0.3942 - accuracy: 0.8257 - val_loss: 0.4679 - val_accuracy: 0.7711 - lr: 1.0000e-05\n",
            "Epoch 53/160\n",
            "42/42 [==============================] - 1s 27ms/step - loss: 0.4077 - accuracy: 0.8174 - val_loss: 0.4680 - val_accuracy: 0.7711 - lr: 1.0000e-05\n",
            "Epoch 54/160\n",
            "42/42 [==============================] - 1s 27ms/step - loss: 0.3923 - accuracy: 0.8355 - val_loss: 0.4679 - val_accuracy: 0.7711 - lr: 1.0000e-05\n",
            "Epoch 55/160\n",
            "42/42 [==============================] - 1s 26ms/step - loss: 0.3983 - accuracy: 0.8234 - val_loss: 0.4679 - val_accuracy: 0.7711 - lr: 1.0000e-05\n",
            "Epoch 56/160\n",
            "42/42 [==============================] - 1s 26ms/step - loss: 0.4014 - accuracy: 0.8158 - val_loss: 0.4678 - val_accuracy: 0.7711 - lr: 1.0000e-05\n",
            "Epoch 57/160\n",
            "42/42 [==============================] - 1s 27ms/step - loss: 0.3997 - accuracy: 0.8075 - val_loss: 0.4679 - val_accuracy: 0.7711 - lr: 1.0000e-05\n",
            "Epoch 58/160\n",
            "42/42 [==============================] - 2s 38ms/step - loss: 0.3954 - accuracy: 0.8234 - val_loss: 0.4678 - val_accuracy: 0.7711 - lr: 1.0000e-05\n",
            "Epoch 59/160\n",
            "42/42 [==============================] - 2s 52ms/step - loss: 0.3925 - accuracy: 0.8317 - val_loss: 0.4678 - val_accuracy: 0.7711 - lr: 1.0000e-05\n",
            "Epoch 60/160\n",
            "42/42 [==============================] - 2s 50ms/step - loss: 0.3948 - accuracy: 0.8287 - val_loss: 0.4680 - val_accuracy: 0.7711 - lr: 1.0000e-05\n",
            "Epoch 61/160\n",
            "42/42 [==============================] - 2s 42ms/step - loss: 0.3964 - accuracy: 0.8211 - val_loss: 0.4679 - val_accuracy: 0.7711 - lr: 1.0000e-05\n",
            "Epoch 62/160\n",
            "42/42 [==============================] - 2s 36ms/step - loss: 0.3945 - accuracy: 0.8272 - val_loss: 0.4680 - val_accuracy: 0.7711 - lr: 1.0000e-05\n",
            "Epoch 63/160\n",
            "42/42 [==============================] - 1s 27ms/step - loss: 0.3943 - accuracy: 0.8294 - val_loss: 0.4682 - val_accuracy: 0.7711 - lr: 1.0000e-05\n",
            "Epoch 64/160\n",
            "42/42 [==============================] - 1s 28ms/step - loss: 0.3872 - accuracy: 0.8355 - val_loss: 0.4682 - val_accuracy: 0.7711 - lr: 1.0000e-05\n",
            "Epoch 65/160\n",
            "42/42 [==============================] - 1s 29ms/step - loss: 0.3898 - accuracy: 0.8302 - val_loss: 0.4682 - val_accuracy: 0.7711 - lr: 1.0000e-05\n",
            "Epoch 66/160\n",
            "42/42 [==============================] - 1s 27ms/step - loss: 0.3920 - accuracy: 0.8355 - val_loss: 0.4683 - val_accuracy: 0.7711 - lr: 1.0000e-05\n",
            "Epoch 67/160\n",
            "42/42 [==============================] - 1s 30ms/step - loss: 0.3968 - accuracy: 0.8242 - val_loss: 0.4682 - val_accuracy: 0.7711 - lr: 1.0000e-05\n",
            "Epoch 68/160\n",
            "42/42 [==============================] - 2s 45ms/step - loss: 0.3932 - accuracy: 0.8242 - val_loss: 0.4684 - val_accuracy: 0.7711 - lr: 1.0000e-05\n",
            "Epoch 69/160\n",
            "42/42 [==============================] - 2s 45ms/step - loss: 0.3896 - accuracy: 0.8181 - val_loss: 0.4684 - val_accuracy: 0.7681 - lr: 1.0000e-05\n",
            "Epoch 70/160\n",
            "42/42 [==============================] - 1s 33ms/step - loss: 0.3896 - accuracy: 0.8166 - val_loss: 0.4687 - val_accuracy: 0.7711 - lr: 1.0000e-05\n",
            "Epoch 71/160\n",
            "42/42 [==============================] - 1s 31ms/step - loss: 0.3979 - accuracy: 0.8234 - val_loss: 0.4686 - val_accuracy: 0.7681 - lr: 1.0000e-05\n",
            "Epoch 72/160\n",
            "42/42 [==============================] - 1s 31ms/step - loss: 0.3876 - accuracy: 0.8279 - val_loss: 0.4688 - val_accuracy: 0.7681 - lr: 1.0000e-05\n",
            "Epoch 73/160\n",
            "42/42 [==============================] - 1s 30ms/step - loss: 0.3979 - accuracy: 0.8151 - val_loss: 0.4687 - val_accuracy: 0.7681 - lr: 1.0000e-05\n",
            "Epoch 74/160\n",
            "42/42 [==============================] - 1s 30ms/step - loss: 0.3935 - accuracy: 0.8302 - val_loss: 0.4687 - val_accuracy: 0.7681 - lr: 1.0000e-05\n",
            "Epoch 75/160\n",
            "42/42 [==============================] - 1s 27ms/step - loss: 0.4005 - accuracy: 0.8128 - val_loss: 0.4687 - val_accuracy: 0.7681 - lr: 1.0000e-05\n",
            "Epoch 76/160\n",
            "42/42 [==============================] - 1s 29ms/step - loss: 0.3920 - accuracy: 0.8226 - val_loss: 0.4689 - val_accuracy: 0.7681 - lr: 1.0000e-05\n",
            "Epoch 77/160\n",
            "42/42 [==============================] - 1s 29ms/step - loss: 0.3970 - accuracy: 0.8219 - val_loss: 0.4688 - val_accuracy: 0.7681 - lr: 1.0000e-05\n",
            "Epoch 78/160\n",
            "42/42 [==============================] - 2s 52ms/step - loss: 0.3924 - accuracy: 0.8166 - val_loss: 0.4686 - val_accuracy: 0.7711 - lr: 1.0000e-05\n",
            "Epoch 79/160\n",
            "42/42 [==============================] - 2s 45ms/step - loss: 0.3900 - accuracy: 0.8287 - val_loss: 0.4688 - val_accuracy: 0.7711 - lr: 1.0000e-05\n",
            "Epoch 80/160\n",
            "42/42 [==============================] - 1s 32ms/step - loss: 0.3912 - accuracy: 0.8219 - val_loss: 0.4686 - val_accuracy: 0.7711 - lr: 1.0000e-05\n",
            "Epoch 81/160\n",
            "42/42 [==============================] - 1s 28ms/step - loss: 0.3880 - accuracy: 0.8302 - val_loss: 0.4687 - val_accuracy: 0.7681 - lr: 1.0000e-05\n",
            "Epoch 82/160\n",
            "42/42 [==============================] - 1s 29ms/step - loss: 0.3946 - accuracy: 0.8234 - val_loss: 0.4688 - val_accuracy: 0.7711 - lr: 1.0000e-05\n",
            "Epoch 83/160\n",
            "42/42 [==============================] - 1s 30ms/step - loss: 0.3853 - accuracy: 0.8377 - val_loss: 0.4690 - val_accuracy: 0.7711 - lr: 1.0000e-05\n",
            "Epoch 84/160\n",
            "42/42 [==============================] - 1s 30ms/step - loss: 0.3896 - accuracy: 0.8294 - val_loss: 0.4690 - val_accuracy: 0.7711 - lr: 1.0000e-05\n",
            "Epoch 85/160\n",
            "42/42 [==============================] - 1s 27ms/step - loss: 0.4024 - accuracy: 0.8272 - val_loss: 0.4691 - val_accuracy: 0.7711 - lr: 1.0000e-05\n",
            "Epoch 86/160\n",
            "42/42 [==============================] - 1s 27ms/step - loss: 0.3955 - accuracy: 0.8317 - val_loss: 0.4692 - val_accuracy: 0.7711 - lr: 1.0000e-05\n",
            "Epoch 87/160\n",
            "42/42 [==============================] - 1s 27ms/step - loss: 0.3883 - accuracy: 0.8325 - val_loss: 0.4691 - val_accuracy: 0.7681 - lr: 1.0000e-05\n",
            "Epoch 88/160\n",
            "42/42 [==============================] - 2s 40ms/step - loss: 0.4021 - accuracy: 0.8121 - val_loss: 0.4689 - val_accuracy: 0.7711 - lr: 1.0000e-05\n",
            "Epoch 89/160\n",
            "42/42 [==============================] - 2s 47ms/step - loss: 0.3861 - accuracy: 0.8309 - val_loss: 0.4691 - val_accuracy: 0.7711 - lr: 1.0000e-05\n",
            "Epoch 90/160\n",
            "42/42 [==============================] - 2s 40ms/step - loss: 0.3912 - accuracy: 0.8196 - val_loss: 0.4690 - val_accuracy: 0.7711 - lr: 1.0000e-05\n",
            "Epoch 91/160\n",
            "42/42 [==============================] - 1s 29ms/step - loss: 0.3886 - accuracy: 0.8257 - val_loss: 0.4691 - val_accuracy: 0.7711 - lr: 1.0000e-05\n",
            "Epoch 92/160\n",
            "42/42 [==============================] - 1s 31ms/step - loss: 0.3879 - accuracy: 0.8302 - val_loss: 0.4694 - val_accuracy: 0.7711 - lr: 1.0000e-05\n",
            "Epoch 93/160\n",
            "42/42 [==============================] - 1s 30ms/step - loss: 0.3843 - accuracy: 0.8362 - val_loss: 0.4694 - val_accuracy: 0.7711 - lr: 1.0000e-05\n",
            "Epoch 94/160\n",
            "42/42 [==============================] - 1s 30ms/step - loss: 0.3886 - accuracy: 0.8325 - val_loss: 0.4695 - val_accuracy: 0.7711 - lr: 1.0000e-05\n",
            "Epoch 95/160\n",
            "42/42 [==============================] - 1s 27ms/step - loss: 0.3973 - accuracy: 0.8158 - val_loss: 0.4694 - val_accuracy: 0.7711 - lr: 1.0000e-05\n",
            "Epoch 96/160\n",
            "42/42 [==============================] - 1s 27ms/step - loss: 0.3973 - accuracy: 0.8113 - val_loss: 0.4695 - val_accuracy: 0.7711 - lr: 1.0000e-05\n",
            "Epoch 97/160\n",
            "42/42 [==============================] - 1s 26ms/step - loss: 0.3924 - accuracy: 0.8279 - val_loss: 0.4696 - val_accuracy: 0.7711 - lr: 1.0000e-05\n",
            "Epoch 98/160\n",
            "42/42 [==============================] - 1s 31ms/step - loss: 0.3971 - accuracy: 0.8234 - val_loss: 0.4695 - val_accuracy: 0.7711 - lr: 1.0000e-05\n",
            "Epoch 99/160\n",
            "42/42 [==============================] - 2s 43ms/step - loss: 0.3897 - accuracy: 0.8264 - val_loss: 0.4696 - val_accuracy: 0.7711 - lr: 1.0000e-05\n",
            "Epoch 100/160\n",
            "42/42 [==============================] - 2s 54ms/step - loss: 0.3879 - accuracy: 0.8219 - val_loss: 0.4698 - val_accuracy: 0.7711 - lr: 1.0000e-05\n",
            "Epoch 101/160\n",
            "42/42 [==============================] - 1s 33ms/step - loss: 0.3924 - accuracy: 0.8309 - val_loss: 0.4698 - val_accuracy: 0.7711 - lr: 1.0000e-05\n",
            "Epoch 102/160\n",
            "42/42 [==============================] - 1s 32ms/step - loss: 0.3864 - accuracy: 0.8309 - val_loss: 0.4700 - val_accuracy: 0.7711 - lr: 1.0000e-05\n",
            "Epoch 103/160\n",
            "42/42 [==============================] - 1s 30ms/step - loss: 0.3843 - accuracy: 0.8325 - val_loss: 0.4700 - val_accuracy: 0.7711 - lr: 1.0000e-05\n",
            "Epoch 104/160\n",
            "42/42 [==============================] - 1s 28ms/step - loss: 0.3866 - accuracy: 0.8234 - val_loss: 0.4702 - val_accuracy: 0.7711 - lr: 1.0000e-05\n",
            "Epoch 105/160\n",
            "42/42 [==============================] - 1s 27ms/step - loss: 0.3899 - accuracy: 0.8257 - val_loss: 0.4701 - val_accuracy: 0.7711 - lr: 1.0000e-05\n",
            "Epoch 106/160\n",
            "42/42 [==============================] - 1s 30ms/step - loss: 0.3902 - accuracy: 0.8264 - val_loss: 0.4702 - val_accuracy: 0.7711 - lr: 1.0000e-05\n",
            "Epoch 107/160\n",
            "42/42 [==============================] - 1s 30ms/step - loss: 0.3889 - accuracy: 0.8226 - val_loss: 0.4704 - val_accuracy: 0.7711 - lr: 1.0000e-05\n",
            "Epoch 108/160\n",
            "42/42 [==============================] - 1s 34ms/step - loss: 0.3818 - accuracy: 0.8317 - val_loss: 0.4702 - val_accuracy: 0.7711 - lr: 1.0000e-05\n",
            "Epoch 109/160\n",
            "42/42 [==============================] - 2s 44ms/step - loss: 0.3866 - accuracy: 0.8317 - val_loss: 0.4703 - val_accuracy: 0.7711 - lr: 1.0000e-05\n",
            "Epoch 110/160\n",
            "42/42 [==============================] - 2s 47ms/step - loss: 0.3837 - accuracy: 0.8226 - val_loss: 0.4703 - val_accuracy: 0.7711 - lr: 1.0000e-05\n",
            "Epoch 111/160\n",
            "42/42 [==============================] - 1s 32ms/step - loss: 0.3781 - accuracy: 0.8287 - val_loss: 0.4705 - val_accuracy: 0.7711 - lr: 1.0000e-05\n",
            "Epoch 112/160\n",
            "42/42 [==============================] - 1s 31ms/step - loss: 0.3828 - accuracy: 0.8226 - val_loss: 0.4707 - val_accuracy: 0.7711 - lr: 1.0000e-05\n",
            "Epoch 113/160\n",
            "42/42 [==============================] - 1s 27ms/step - loss: 0.3970 - accuracy: 0.8226 - val_loss: 0.4706 - val_accuracy: 0.7711 - lr: 1.0000e-05\n",
            "Epoch 114/160\n",
            "42/42 [==============================] - 1s 29ms/step - loss: 0.3876 - accuracy: 0.8211 - val_loss: 0.4706 - val_accuracy: 0.7711 - lr: 1.0000e-05\n",
            "Epoch 115/160\n",
            "42/42 [==============================] - 1s 30ms/step - loss: 0.3929 - accuracy: 0.8219 - val_loss: 0.4708 - val_accuracy: 0.7711 - lr: 1.0000e-05\n",
            "Epoch 116/160\n",
            "42/42 [==============================] - 1s 26ms/step - loss: 0.3788 - accuracy: 0.8392 - val_loss: 0.4710 - val_accuracy: 0.7711 - lr: 1.0000e-05\n",
            "Epoch 117/160\n",
            "42/42 [==============================] - 1s 30ms/step - loss: 0.3868 - accuracy: 0.8189 - val_loss: 0.4711 - val_accuracy: 0.7711 - lr: 1.0000e-05\n",
            "Epoch 118/160\n",
            "42/42 [==============================] - 1s 27ms/step - loss: 0.3824 - accuracy: 0.8294 - val_loss: 0.4712 - val_accuracy: 0.7741 - lr: 1.0000e-05\n",
            "Epoch 119/160\n",
            "42/42 [==============================] - 2s 43ms/step - loss: 0.3847 - accuracy: 0.8302 - val_loss: 0.4713 - val_accuracy: 0.7741 - lr: 1.0000e-05\n",
            "Epoch 120/160\n",
            "42/42 [==============================] - 2s 47ms/step - loss: 0.3881 - accuracy: 0.8264 - val_loss: 0.4713 - val_accuracy: 0.7741 - lr: 1.0000e-05\n",
            "Epoch 121/160\n",
            "42/42 [==============================] - 1s 35ms/step - loss: 0.3943 - accuracy: 0.8264 - val_loss: 0.4713 - val_accuracy: 0.7741 - lr: 1.0000e-05\n",
            "Epoch 122/160\n",
            "42/42 [==============================] - 1s 31ms/step - loss: 0.3905 - accuracy: 0.8257 - val_loss: 0.4712 - val_accuracy: 0.7741 - lr: 1.0000e-05\n",
            "Epoch 123/160\n",
            "42/42 [==============================] - 1s 28ms/step - loss: 0.3933 - accuracy: 0.8309 - val_loss: 0.4715 - val_accuracy: 0.7741 - lr: 1.0000e-05\n",
            "Epoch 124/160\n",
            "42/42 [==============================] - 1s 31ms/step - loss: 0.3871 - accuracy: 0.8279 - val_loss: 0.4715 - val_accuracy: 0.7741 - lr: 1.0000e-05\n",
            "Epoch 125/160\n",
            "42/42 [==============================] - 1s 31ms/step - loss: 0.3909 - accuracy: 0.8219 - val_loss: 0.4716 - val_accuracy: 0.7741 - lr: 1.0000e-05\n",
            "Epoch 126/160\n",
            "42/42 [==============================] - 1s 28ms/step - loss: 0.3856 - accuracy: 0.8317 - val_loss: 0.4715 - val_accuracy: 0.7741 - lr: 1.0000e-05\n",
            "Epoch 127/160\n",
            "42/42 [==============================] - 1s 30ms/step - loss: 0.3808 - accuracy: 0.8355 - val_loss: 0.4715 - val_accuracy: 0.7741 - lr: 1.0000e-05\n",
            "Epoch 128/160\n",
            "42/42 [==============================] - 1s 30ms/step - loss: 0.3853 - accuracy: 0.8279 - val_loss: 0.4718 - val_accuracy: 0.7741 - lr: 1.0000e-05\n",
            "Epoch 129/160\n",
            "42/42 [==============================] - 2s 40ms/step - loss: 0.3809 - accuracy: 0.8249 - val_loss: 0.4718 - val_accuracy: 0.7741 - lr: 1.0000e-05\n",
            "Epoch 130/160\n",
            "42/42 [==============================] - 2s 46ms/step - loss: 0.3867 - accuracy: 0.8226 - val_loss: 0.4716 - val_accuracy: 0.7741 - lr: 1.0000e-05\n",
            "Epoch 131/160\n",
            "42/42 [==============================] - 2s 40ms/step - loss: 0.3858 - accuracy: 0.8317 - val_loss: 0.4717 - val_accuracy: 0.7741 - lr: 1.0000e-05\n",
            "Epoch 132/160\n",
            "42/42 [==============================] - 1s 29ms/step - loss: 0.3821 - accuracy: 0.8302 - val_loss: 0.4717 - val_accuracy: 0.7741 - lr: 1.0000e-05\n",
            "Epoch 133/160\n",
            "42/42 [==============================] - 1s 31ms/step - loss: 0.3857 - accuracy: 0.8257 - val_loss: 0.4717 - val_accuracy: 0.7741 - lr: 1.0000e-05\n",
            "Epoch 134/160\n",
            "42/42 [==============================] - 1s 30ms/step - loss: 0.3915 - accuracy: 0.8264 - val_loss: 0.4717 - val_accuracy: 0.7741 - lr: 1.0000e-05\n",
            "Epoch 135/160\n",
            "42/42 [==============================] - 1s 32ms/step - loss: 0.3717 - accuracy: 0.8332 - val_loss: 0.4719 - val_accuracy: 0.7741 - lr: 1.0000e-05\n",
            "Epoch 136/160\n",
            "42/42 [==============================] - 1s 28ms/step - loss: 0.3855 - accuracy: 0.8196 - val_loss: 0.4721 - val_accuracy: 0.7741 - lr: 1.0000e-05\n",
            "Epoch 137/160\n",
            "42/42 [==============================] - 1s 27ms/step - loss: 0.3851 - accuracy: 0.8249 - val_loss: 0.4721 - val_accuracy: 0.7741 - lr: 1.0000e-05\n",
            "Epoch 138/160\n",
            "42/42 [==============================] - 1s 28ms/step - loss: 0.3833 - accuracy: 0.8362 - val_loss: 0.4723 - val_accuracy: 0.7741 - lr: 1.0000e-05\n",
            "Epoch 139/160\n",
            "42/42 [==============================] - 1s 33ms/step - loss: 0.3783 - accuracy: 0.8302 - val_loss: 0.4725 - val_accuracy: 0.7741 - lr: 1.0000e-05\n",
            "Epoch 140/160\n",
            "42/42 [==============================] - 2s 45ms/step - loss: 0.3964 - accuracy: 0.8113 - val_loss: 0.4724 - val_accuracy: 0.7741 - lr: 1.0000e-05\n",
            "Epoch 141/160\n",
            "42/42 [==============================] - 2s 45ms/step - loss: 0.3904 - accuracy: 0.8166 - val_loss: 0.4725 - val_accuracy: 0.7741 - lr: 1.0000e-05\n",
            "Epoch 142/160\n",
            "42/42 [==============================] - 1s 29ms/step - loss: 0.3815 - accuracy: 0.8325 - val_loss: 0.4727 - val_accuracy: 0.7741 - lr: 1.0000e-05\n",
            "Epoch 143/160\n",
            "42/42 [==============================] - 1s 30ms/step - loss: 0.3768 - accuracy: 0.8370 - val_loss: 0.4727 - val_accuracy: 0.7741 - lr: 1.0000e-05\n",
            "Epoch 144/160\n",
            "42/42 [==============================] - 1s 30ms/step - loss: 0.3839 - accuracy: 0.8279 - val_loss: 0.4726 - val_accuracy: 0.7741 - lr: 1.0000e-05\n",
            "Epoch 145/160\n",
            "42/42 [==============================] - 1s 30ms/step - loss: 0.3828 - accuracy: 0.8340 - val_loss: 0.4727 - val_accuracy: 0.7741 - lr: 1.0000e-05\n",
            "Epoch 146/160\n",
            "42/42 [==============================] - 1s 31ms/step - loss: 0.3832 - accuracy: 0.8317 - val_loss: 0.4730 - val_accuracy: 0.7741 - lr: 1.0000e-05\n",
            "Epoch 147/160\n",
            "42/42 [==============================] - 1s 28ms/step - loss: 0.3908 - accuracy: 0.8242 - val_loss: 0.4730 - val_accuracy: 0.7741 - lr: 1.0000e-05\n",
            "Epoch 148/160\n",
            "42/42 [==============================] - 1s 28ms/step - loss: 0.3838 - accuracy: 0.8340 - val_loss: 0.4730 - val_accuracy: 0.7741 - lr: 1.0000e-05\n",
            "Epoch 149/160\n",
            "42/42 [==============================] - 1s 28ms/step - loss: 0.3880 - accuracy: 0.8242 - val_loss: 0.4729 - val_accuracy: 0.7741 - lr: 1.0000e-05\n",
            "Epoch 150/160\n",
            "42/42 [==============================] - 2s 44ms/step - loss: 0.3876 - accuracy: 0.8249 - val_loss: 0.4729 - val_accuracy: 0.7741 - lr: 1.0000e-05\n",
            "Epoch 151/160\n",
            "42/42 [==============================] - 2s 53ms/step - loss: 0.3913 - accuracy: 0.8264 - val_loss: 0.4733 - val_accuracy: 0.7741 - lr: 1.0000e-05\n",
            "Epoch 152/160\n",
            "42/42 [==============================] - 1s 30ms/step - loss: 0.3788 - accuracy: 0.8279 - val_loss: 0.4730 - val_accuracy: 0.7741 - lr: 1.0000e-05\n",
            "Epoch 153/160\n",
            "42/42 [==============================] - 1s 28ms/step - loss: 0.3904 - accuracy: 0.8302 - val_loss: 0.4730 - val_accuracy: 0.7741 - lr: 1.0000e-05\n",
            "Epoch 154/160\n",
            "42/42 [==============================] - 1s 30ms/step - loss: 0.3771 - accuracy: 0.8249 - val_loss: 0.4731 - val_accuracy: 0.7741 - lr: 1.0000e-05\n",
            "Epoch 155/160\n",
            "42/42 [==============================] - 1s 31ms/step - loss: 0.3847 - accuracy: 0.8302 - val_loss: 0.4730 - val_accuracy: 0.7741 - lr: 1.0000e-05\n",
            "Epoch 156/160\n",
            "42/42 [==============================] - 1s 28ms/step - loss: 0.3845 - accuracy: 0.8362 - val_loss: 0.4731 - val_accuracy: 0.7741 - lr: 1.0000e-05\n",
            "Epoch 157/160\n",
            "42/42 [==============================] - 1s 27ms/step - loss: 0.3803 - accuracy: 0.8332 - val_loss: 0.4732 - val_accuracy: 0.7741 - lr: 1.0000e-05\n",
            "Epoch 158/160\n",
            "42/42 [==============================] - 1s 31ms/step - loss: 0.3848 - accuracy: 0.8340 - val_loss: 0.4731 - val_accuracy: 0.7741 - lr: 1.0000e-05\n",
            "Epoch 159/160\n",
            "42/42 [==============================] - 1s 30ms/step - loss: 0.3766 - accuracy: 0.8362 - val_loss: 0.4733 - val_accuracy: 0.7741 - lr: 1.0000e-05\n",
            "Epoch 160/160\n",
            "42/42 [==============================] - 2s 42ms/step - loss: 0.3773 - accuracy: 0.8347 - val_loss: 0.4735 - val_accuracy: 0.7741 - lr: 1.0000e-05\n"
          ]
        }
      ],
      "id": "NGXfMMzgd_-k"
    },
    {
      "cell_type": "code",
      "source": [
        "utils.plot_history(history)"
      ],
      "metadata": {
        "colab": {
          "base_uri": "https://localhost:8080/",
          "height": 927
        },
        "id": "bH9wezNce8oX",
        "outputId": "c9672b42-c828-4603-f03c-34dc7b291251"
      },
      "id": "bH9wezNce8oX",
      "execution_count": 30,
      "outputs": [
        {
          "output_type": "display_data",
          "data": {
            "text/plain": [
              "<Figure size 640x480 with 1 Axes>"
            ],
            "image/png": "[encoded data removed]"
          },
          "metadata": {}
        },
        {
          "output_type": "display_data",
          "data": {
            "text/plain": [
              "<Figure size 640x480 with 1 Axes>"
            ],
            "image/png": "[encoded data removed]"
          },
          "metadata": {}
        }
      ]
    },
    {
      "cell_type": "markdown",
      "source": [
        "## Retrain on training and validation"
      ],
      "metadata": {
        "id": "fNSULGiPvb4N"
      },
      "id": "fNSULGiPvb4N"
    },
    {
      "cell_type": "markdown",
      "source": [
        "Before testing our model, we retrain it on training and validation set using the best hyperparams found by the random search"
      ],
      "metadata": {
        "id": "0TBchWKt0rQA"
      },
      "id": "0TBchWKt0rQA"
    },
    {
      "cell_type": "code",
      "source": [
        "final_model = build_model_with_hp(\n",
        "    lstm_units = lstm_units,\n",
        "    l1_units = l1_units,\n",
        "    l2_units = l2_units,\n",
        "    l3_units = l3_units,\n",
        "    l2_value = l2_value,\n",
        "    dropout_rate = dropout_rate,\n",
        "    learning_rate = learning_rate,\n",
        "    epsilon = epsilon,\n",
        "    clipnorm = clipnorm\n",
        ")\n",
        "\n",
        "max_epochs = 40"
      ],
      "metadata": {
        "id": "sD6gFZqHve4a"
      },
      "id": "sD6gFZqHve4a",
      "execution_count": 31,
      "outputs": []
    },
    {
      "cell_type": "code",
      "source": [
        "%%time\n",
        "print(f'Training model with {tfhub_handle_encoder}')\n",
        "history = final_model.fit(\n",
        "    x = X_train,\n",
        "    y = y_train,\n",
        "    epochs=max_epochs,\n",
        "    batch_size = 32,\n",
        ")\n"
      ],
      "metadata": {
        "colab": {
          "base_uri": "https://localhost:8080/"
        },
        "id": "XlHncSAHwGhp",
        "outputId": "91907522-2e0c-4117-ae54-1e78eb2d5259"
      },
      "id": "XlHncSAHwGhp",
      "execution_count": 39,
      "outputs": [
        {
          "output_type": "stream",
          "name": "stdout",
          "text": [
            "Training model with https://tfhub.dev/google/universal-sentence-encoder-multilingual/3\n",
            "Epoch 1/40\n",
            "52/52 [==============================] - 2s 33ms/step - loss: 0.5217 - accuracy: 0.7803\n",
            "Epoch 2/40\n",
            "52/52 [==============================] - 1s 23ms/step - loss: 0.5057 - accuracy: 0.7701\n",
            "Epoch 3/40\n",
            "52/52 [==============================] - 1s 23ms/step - loss: 0.4927 - accuracy: 0.7797\n",
            "Epoch 4/40\n",
            "52/52 [==============================] - 1s 22ms/step - loss: 0.4869 - accuracy: 0.7852\n",
            "Epoch 5/40\n",
            "52/52 [==============================] - 1s 22ms/step - loss: 0.4798 - accuracy: 0.7827\n",
            "Epoch 6/40\n",
            "52/52 [==============================] - 2s 34ms/step - loss: 0.4734 - accuracy: 0.7833\n",
            "Epoch 7/40\n",
            "52/52 [==============================] - 2s 37ms/step - loss: 0.4642 - accuracy: 0.7846\n",
            "Epoch 8/40\n",
            "52/52 [==============================] - 2s 29ms/step - loss: 0.4574 - accuracy: 0.7839\n",
            "Epoch 9/40\n",
            "52/52 [==============================] - 1s 23ms/step - loss: 0.4535 - accuracy: 0.7894\n",
            "Epoch 10/40\n",
            "52/52 [==============================] - 1s 22ms/step - loss: 0.4498 - accuracy: 0.7930\n",
            "Epoch 11/40\n",
            "52/52 [==============================] - 1s 23ms/step - loss: 0.4449 - accuracy: 0.7936\n",
            "Epoch 12/40\n",
            "52/52 [==============================] - 1s 23ms/step - loss: 0.4423 - accuracy: 0.8057\n",
            "Epoch 13/40\n",
            "52/52 [==============================] - 1s 22ms/step - loss: 0.4329 - accuracy: 0.8033\n",
            "Epoch 14/40\n",
            "52/52 [==============================] - 1s 22ms/step - loss: 0.4289 - accuracy: 0.8075\n",
            "Epoch 15/40\n",
            "52/52 [==============================] - 1s 22ms/step - loss: 0.4214 - accuracy: 0.8081\n",
            "Epoch 16/40\n",
            "52/52 [==============================] - 1s 25ms/step - loss: 0.4253 - accuracy: 0.8105\n",
            "Epoch 17/40\n",
            "52/52 [==============================] - 2s 37ms/step - loss: 0.4219 - accuracy: 0.8045\n",
            "Epoch 18/40\n",
            "52/52 [==============================] - 2s 38ms/step - loss: 0.4237 - accuracy: 0.8105\n",
            "Epoch 19/40\n",
            "52/52 [==============================] - 1s 23ms/step - loss: 0.4146 - accuracy: 0.8135\n",
            "Epoch 20/40\n",
            "52/52 [==============================] - 1s 22ms/step - loss: 0.4239 - accuracy: 0.7996\n",
            "Epoch 21/40\n",
            "52/52 [==============================] - 1s 22ms/step - loss: 0.4191 - accuracy: 0.8075\n",
            "Epoch 22/40\n",
            "52/52 [==============================] - 1s 22ms/step - loss: 0.4151 - accuracy: 0.8087\n",
            "Epoch 23/40\n",
            "52/52 [==============================] - 1s 23ms/step - loss: 0.4160 - accuracy: 0.8214\n",
            "Epoch 24/40\n",
            "52/52 [==============================] - 1s 23ms/step - loss: 0.3939 - accuracy: 0.8274\n",
            "Epoch 25/40\n",
            "52/52 [==============================] - 1s 22ms/step - loss: 0.4006 - accuracy: 0.8232\n",
            "Epoch 26/40\n",
            "52/52 [==============================] - 1s 22ms/step - loss: 0.4083 - accuracy: 0.8286\n",
            "Epoch 27/40\n",
            "52/52 [==============================] - 1s 28ms/step - loss: 0.3977 - accuracy: 0.8196\n",
            "Epoch 28/40\n",
            "52/52 [==============================] - 2s 39ms/step - loss: 0.4039 - accuracy: 0.8183\n",
            "Epoch 29/40\n",
            "52/52 [==============================] - 2s 35ms/step - loss: 0.4011 - accuracy: 0.8171\n",
            "Epoch 30/40\n",
            "52/52 [==============================] - 1s 23ms/step - loss: 0.3946 - accuracy: 0.8310\n",
            "Epoch 31/40\n",
            "52/52 [==============================] - 1s 23ms/step - loss: 0.3953 - accuracy: 0.8280\n",
            "Epoch 32/40\n",
            "52/52 [==============================] - 1s 23ms/step - loss: 0.3848 - accuracy: 0.8274\n",
            "Epoch 33/40\n",
            "52/52 [==============================] - 1s 23ms/step - loss: 0.3908 - accuracy: 0.8274\n",
            "Epoch 34/40\n",
            "52/52 [==============================] - 1s 23ms/step - loss: 0.3865 - accuracy: 0.8292\n",
            "Epoch 35/40\n",
            "52/52 [==============================] - 1s 22ms/step - loss: 0.3980 - accuracy: 0.8214\n",
            "Epoch 36/40\n",
            "52/52 [==============================] - 1s 22ms/step - loss: 0.3854 - accuracy: 0.8256\n",
            "Epoch 37/40\n",
            "52/52 [==============================] - 1s 23ms/step - loss: 0.3845 - accuracy: 0.8328\n",
            "Epoch 38/40\n",
            "52/52 [==============================] - 2s 35ms/step - loss: 0.3868 - accuracy: 0.8274\n",
            "Epoch 39/40\n",
            "52/52 [==============================] - 2s 39ms/step - loss: 0.3896 - accuracy: 0.8304\n",
            "Epoch 40/40\n",
            "52/52 [==============================] - 1s 28ms/step - loss: 0.3780 - accuracy: 0.8328\n",
            "CPU times: user 53.6 s, sys: 3.1 s, total: 56.7 s\n",
            "Wall time: 54.9 s\n"
          ]
        }
      ]
    },
    {
      "cell_type": "code",
      "source": [
        "final_model.summary()"
      ],
      "metadata": {
        "colab": {
          "base_uri": "https://localhost:8080/"
        },
        "id": "t7PUXtHYCVHL",
        "outputId": "b551a0fc-99bb-4b1c-b524-da70c899ee34"
      },
      "id": "t7PUXtHYCVHL",
      "execution_count": 40,
      "outputs": [
        {
          "output_type": "stream",
          "name": "stdout",
          "text": [
            "Model: \"model_4\"\n",
            "_________________________________________________________________\n",
            " Layer (type)                Output Shape              Param #   \n",
            "=================================================================\n",
            " text (InputLayer)           [(None,)]                 0         \n",
            "                                                                 \n",
            " text_encoder (KerasLayer)   (None, 512)               68927232  \n",
            "                                                                 \n",
            " tf.expand_dims_4 (TFOpLambd  (None, 1, 512)           0         \n",
            " a)                                                              \n",
            "                                                                 \n",
            " LSTM_layer (LSTM)           (None, 6)                 12456     \n",
            "                                                                 \n",
            " Dense_layer_1 (Dense)       (None, 30)                210       \n",
            "                                                                 \n",
            " dropout_12 (Dropout)        (None, 30)                0         \n",
            "                                                                 \n",
            " Dense_layer_2 (Dense)       (None, 35)                1085      \n",
            "                                                                 \n",
            " dropout_13 (Dropout)        (None, 35)                0         \n",
            "                                                                 \n",
            " Dense_layer_3 (Dense)       (None, 30)                1080      \n",
            "                                                                 \n",
            " dropout_14 (Dropout)        (None, 30)                0         \n",
            "                                                                 \n",
            " classifier (Dense)          (None, 1)                 31        \n",
            "                                                                 \n",
            "=================================================================\n",
            "Total params: 68,942,094\n",
            "Trainable params: 14,862\n",
            "Non-trainable params: 68,927,232\n",
            "_________________________________________________________________\n"
          ]
        }
      ]
    },
    {
      "cell_type": "markdown",
      "source": [
        "## Predict on test set"
      ],
      "metadata": {
        "id": "Sqg5olB_wryB"
      },
      "id": "Sqg5olB_wryB"
    },
    {
      "cell_type": "code",
      "source": [
        "_ = final_model.evaluate(\n",
        "    x=X_test,\n",
        "    y=y_test,\n",
        "    batch_size=32\n",
        ")"
      ],
      "metadata": {
        "colab": {
          "base_uri": "https://localhost:8080/"
        },
        "id": "PGYUmYvNwvJ-",
        "outputId": "f1b645fe-0e5b-4ea0-cbac-88d94d2fff20"
      },
      "id": "PGYUmYvNwvJ-",
      "execution_count": 43,
      "outputs": [
        {
          "output_type": "stream",
          "name": "stdout",
          "text": [
            "6/6 [==============================] - 0s 24ms/step - loss: 0.4851 - accuracy: 0.7838\n"
          ]
        }
      ]
    },
    {
      "cell_type": "code",
      "source": [
        "predictions = final_model.predict(x=X_test)\n",
        "predictions = list(map(round, [ _[0] for _ in predictions]))\n",
        "\n",
        "cm = confusion_matrix(y_test, predictions)\n",
        "disp = ConfusionMatrixDisplay(confusion_matrix=cm, display_labels=[\"Non conspiratorial\", \"conspiratorial\"])\n",
        "disp.plot()"
      ],
      "metadata": {
        "id": "sYjxSxoYxDoE",
        "colab": {
          "base_uri": "https://localhost:8080/",
          "height": 484
        },
        "outputId": "3149c9ee-393d-44de-9518-e790e36d99da"
      },
      "id": "sYjxSxoYxDoE",
      "execution_count": 42,
      "outputs": [
        {
          "output_type": "stream",
          "name": "stdout",
          "text": [
            "6/6 [==============================] - 0s 25ms/step\n"
          ]
        },
        {
          "output_type": "execute_result",
          "data": {
            "text/plain": [
              "<sklearn.metrics._plot.confusion_matrix.ConfusionMatrixDisplay at 0x7f881c624b80>"
            ]
          },
          "metadata": {},
          "execution_count": 42
        },
        {
          "output_type": "display_data",
          "data": {
            "text/plain": [
              "<Figure size 640x480 with 2 Axes>"
            ],
            "image/png": "[encoded data removed]"
          },
          "metadata": {}
        }
      ]
    }
  ],
  "metadata": {
    "kernelspec": {
      "display_name": "Python 3",
      "name": "python3"
    },
    "language_info": {
      "codemirror_mode": {
        "name": "ipython",
        "version": 3
      },
      "file_extension": ".py",
      "mimetype": "text/x-python",
      "name": "python",
      "nbconvert_exporter": "python",
      "pygments_lexer": "ipython3",
      "version": "3.10.6"
    },
    "colab": {
      "provenance": [],
      "gpuType": "T4",
      "toc_visible": true
    },
    "accelerator": "GPU"
  },
  "nbformat": 4,
  "nbformat_minor": 5
}