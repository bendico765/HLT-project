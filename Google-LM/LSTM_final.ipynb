{
 "cells": [
  {
   "cell_type": "code",
   "execution_count": 1,
   "id": "ISevNR3ePivs",
   "metadata": {
    "colab": {
     "base_uri": "https://localhost:8080/"
    },
    "id": "ISevNR3ePivs",
    "outputId": "275a93f7-a338-48e9-c13d-79b6d2ae3b1e"
   },
   "outputs": [
    {
     "name": "stdout",
     "output_type": "stream",
     "text": [
      "Looking in indexes: https://pypi.org/simple, https://us-python.pkg.dev/colab-wheels/public/simple/\n",
      "Collecting transformers\n",
      "  Downloading transformers-4.30.2-py3-none-any.whl (7.2 MB)\n",
      "\u001b[2K     \u001b[90m━━━━━━━━━━━━━━━━━━━━━━━━━━━━━━━━━━━━━━━━\u001b[0m \u001b[32m7.2/7.2 MB\u001b[0m \u001b[31m79.9 MB/s\u001b[0m eta \u001b[36m0:00:00\u001b[0m\n",
      "\u001b[?25hRequirement already satisfied: filelock in /usr/local/lib/python3.10/dist-packages (from transformers) (3.12.2)\n",
      "Collecting huggingface-hub<1.0,>=0.14.1 (from transformers)\n",
      "  Downloading huggingface_hub-0.15.1-py3-none-any.whl (236 kB)\n",
      "\u001b[2K     \u001b[90m━━━━━━━━━━━━━━━━━━━━━━━━━━━━━━━━━━━━━━\u001b[0m \u001b[32m236.8/236.8 kB\u001b[0m \u001b[31m28.9 MB/s\u001b[0m eta \u001b[36m0:00:00\u001b[0m\n",
      "\u001b[?25hRequirement already satisfied: numpy>=1.17 in /usr/local/lib/python3.10/dist-packages (from transformers) (1.22.4)\n",
      "Requirement already satisfied: packaging>=20.0 in /usr/local/lib/python3.10/dist-packages (from transformers) (23.1)\n",
      "Requirement already satisfied: pyyaml>=5.1 in /usr/local/lib/python3.10/dist-packages (from transformers) (6.0)\n",
      "Requirement already satisfied: regex!=2019.12.17 in /usr/local/lib/python3.10/dist-packages (from transformers) (2022.10.31)\n",
      "Requirement already satisfied: requests in /usr/local/lib/python3.10/dist-packages (from transformers) (2.27.1)\n",
      "Collecting tokenizers!=0.11.3,<0.14,>=0.11.1 (from transformers)\n",
      "  Downloading tokenizers-0.13.3-cp310-cp310-manylinux_2_17_x86_64.manylinux2014_x86_64.whl (7.8 MB)\n",
      "\u001b[2K     \u001b[90m━━━━━━━━━━━━━━━━━━━━━━━━━━━━━━━━━━━━━━━━\u001b[0m \u001b[32m7.8/7.8 MB\u001b[0m \u001b[31m125.8 MB/s\u001b[0m eta \u001b[36m0:00:00\u001b[0m\n",
      "\u001b[?25hCollecting safetensors>=0.3.1 (from transformers)\n",
      "  Downloading safetensors-0.3.1-cp310-cp310-manylinux_2_17_x86_64.manylinux2014_x86_64.whl (1.3 MB)\n",
      "\u001b[2K     \u001b[90m━━━━━━━━━━━━━━━━━━━━━━━━━━━━━━━━━━━━━━━━\u001b[0m \u001b[32m1.3/1.3 MB\u001b[0m \u001b[31m85.3 MB/s\u001b[0m eta \u001b[36m0:00:00\u001b[0m\n",
      "\u001b[?25hRequirement already satisfied: tqdm>=4.27 in /usr/local/lib/python3.10/dist-packages (from transformers) (4.65.0)\n",
      "Requirement already satisfied: fsspec in /usr/local/lib/python3.10/dist-packages (from huggingface-hub<1.0,>=0.14.1->transformers) (2023.6.0)\n",
      "Requirement already satisfied: typing-extensions>=3.7.4.3 in /usr/local/lib/python3.10/dist-packages (from huggingface-hub<1.0,>=0.14.1->transformers) (4.6.3)\n",
      "Requirement already satisfied: urllib3<1.27,>=1.21.1 in /usr/local/lib/python3.10/dist-packages (from requests->transformers) (1.26.16)\n",
      "Requirement already satisfied: certifi>=2017.4.17 in /usr/local/lib/python3.10/dist-packages (from requests->transformers) (2023.5.7)\n",
      "Requirement already satisfied: charset-normalizer~=2.0.0 in /usr/local/lib/python3.10/dist-packages (from requests->transformers) (2.0.12)\n",
      "Requirement already satisfied: idna<4,>=2.5 in /usr/local/lib/python3.10/dist-packages (from requests->transformers) (3.4)\n",
      "Installing collected packages: tokenizers, safetensors, huggingface-hub, transformers\n",
      "Successfully installed huggingface-hub-0.15.1 safetensors-0.3.1 tokenizers-0.13.3 transformers-4.30.2\n",
      "Looking in indexes: https://pypi.org/simple, https://us-python.pkg.dev/colab-wheels/public/simple/\n",
      "Collecting keras_tuner\n",
      "  Downloading keras_tuner-1.3.5-py3-none-any.whl (176 kB)\n",
      "\u001b[2K     \u001b[90m━━━━━━━━━━━━━━━━━━━━━━━━━━━━━━━━━━━━━━\u001b[0m \u001b[32m176.1/176.1 kB\u001b[0m \u001b[31m11.6 MB/s\u001b[0m eta \u001b[36m0:00:00\u001b[0m\n",
      "\u001b[?25hRequirement already satisfied: packaging in /usr/local/lib/python3.10/dist-packages (from keras_tuner) (23.1)\n",
      "Requirement already satisfied: requests in /usr/local/lib/python3.10/dist-packages (from keras_tuner) (2.27.1)\n",
      "Collecting kt-legacy (from keras_tuner)\n",
      "  Downloading kt_legacy-1.0.5-py3-none-any.whl (9.6 kB)\n",
      "Requirement already satisfied: urllib3<1.27,>=1.21.1 in /usr/local/lib/python3.10/dist-packages (from requests->keras_tuner) (1.26.16)\n",
      "Requirement already satisfied: certifi>=2017.4.17 in /usr/local/lib/python3.10/dist-packages (from requests->keras_tuner) (2023.5.7)\n",
      "Requirement already satisfied: charset-normalizer~=2.0.0 in /usr/local/lib/python3.10/dist-packages (from requests->keras_tuner) (2.0.12)\n",
      "Requirement already satisfied: idna<4,>=2.5 in /usr/local/lib/python3.10/dist-packages (from requests->keras_tuner) (3.4)\n",
      "Installing collected packages: kt-legacy, keras_tuner\n",
      "Successfully installed keras_tuner-1.3.5 kt-legacy-1.0.5\n",
      "Looking in indexes: https://pypi.org/simple, https://us-python.pkg.dev/colab-wheels/public/simple/\n",
      "Collecting tensorflow_text\n",
      "  Downloading tensorflow_text-2.12.1-cp310-cp310-manylinux_2_17_x86_64.manylinux2014_x86_64.whl (6.0 MB)\n",
      "\u001b[2K     \u001b[90m━━━━━━━━━━━━━━━━━━━━━━━━━━━━━━━━━━━━━━━━\u001b[0m \u001b[32m6.0/6.0 MB\u001b[0m \u001b[31m110.8 MB/s\u001b[0m eta \u001b[36m0:00:00\u001b[0m\n",
      "\u001b[?25hRequirement already satisfied: tensorflow-hub>=0.8.0 in /usr/local/lib/python3.10/dist-packages (from tensorflow_text) (0.13.0)\n",
      "Requirement already satisfied: tensorflow<2.13,>=2.12.0 in /usr/local/lib/python3.10/dist-packages (from tensorflow_text) (2.12.0)\n",
      "Requirement already satisfied: absl-py>=1.0.0 in /usr/local/lib/python3.10/dist-packages (from tensorflow<2.13,>=2.12.0->tensorflow_text) (1.4.0)\n",
      "Requirement already satisfied: astunparse>=1.6.0 in /usr/local/lib/python3.10/dist-packages (from tensorflow<2.13,>=2.12.0->tensorflow_text) (1.6.3)\n",
      "Requirement already satisfied: flatbuffers>=2.0 in /usr/local/lib/python3.10/dist-packages (from tensorflow<2.13,>=2.12.0->tensorflow_text) (23.5.26)\n",
      "Requirement already satisfied: gast<=0.4.0,>=0.2.1 in /usr/local/lib/python3.10/dist-packages (from tensorflow<2.13,>=2.12.0->tensorflow_text) (0.4.0)\n",
      "Requirement already satisfied: google-pasta>=0.1.1 in /usr/local/lib/python3.10/dist-packages (from tensorflow<2.13,>=2.12.0->tensorflow_text) (0.2.0)\n",
      "Requirement already satisfied: grpcio<2.0,>=1.24.3 in /usr/local/lib/python3.10/dist-packages (from tensorflow<2.13,>=2.12.0->tensorflow_text) (1.56.0)\n",
      "Requirement already satisfied: h5py>=2.9.0 in /usr/local/lib/python3.10/dist-packages (from tensorflow<2.13,>=2.12.0->tensorflow_text) (3.8.0)\n",
      "Requirement already satisfied: jax>=0.3.15 in /usr/local/lib/python3.10/dist-packages (from tensorflow<2.13,>=2.12.0->tensorflow_text) (0.4.10)\n",
      "Requirement already satisfied: keras<2.13,>=2.12.0 in /usr/local/lib/python3.10/dist-packages (from tensorflow<2.13,>=2.12.0->tensorflow_text) (2.12.0)\n",
      "Requirement already satisfied: libclang>=13.0.0 in /usr/local/lib/python3.10/dist-packages (from tensorflow<2.13,>=2.12.0->tensorflow_text) (16.0.0)\n",
      "Requirement already satisfied: numpy<1.24,>=1.22 in /usr/local/lib/python3.10/dist-packages (from tensorflow<2.13,>=2.12.0->tensorflow_text) (1.22.4)\n",
      "Requirement already satisfied: opt-einsum>=2.3.2 in /usr/local/lib/python3.10/dist-packages (from tensorflow<2.13,>=2.12.0->tensorflow_text) (3.3.0)\n",
      "Requirement already satisfied: packaging in /usr/local/lib/python3.10/dist-packages (from tensorflow<2.13,>=2.12.0->tensorflow_text) (23.1)\n",
      "Requirement already satisfied: protobuf!=4.21.0,!=4.21.1,!=4.21.2,!=4.21.3,!=4.21.4,!=4.21.5,<5.0.0dev,>=3.20.3 in /usr/local/lib/python3.10/dist-packages (from tensorflow<2.13,>=2.12.0->tensorflow_text) (3.20.3)\n",
      "Requirement already satisfied: setuptools in /usr/local/lib/python3.10/dist-packages (from tensorflow<2.13,>=2.12.0->tensorflow_text) (67.7.2)\n",
      "Requirement already satisfied: six>=1.12.0 in /usr/local/lib/python3.10/dist-packages (from tensorflow<2.13,>=2.12.0->tensorflow_text) (1.16.0)\n",
      "Requirement already satisfied: tensorboard<2.13,>=2.12 in /usr/local/lib/python3.10/dist-packages (from tensorflow<2.13,>=2.12.0->tensorflow_text) (2.12.3)\n",
      "Requirement already satisfied: tensorflow-estimator<2.13,>=2.12.0 in /usr/local/lib/python3.10/dist-packages (from tensorflow<2.13,>=2.12.0->tensorflow_text) (2.12.0)\n",
      "Requirement already satisfied: termcolor>=1.1.0 in /usr/local/lib/python3.10/dist-packages (from tensorflow<2.13,>=2.12.0->tensorflow_text) (2.3.0)\n",
      "Requirement already satisfied: typing-extensions>=3.6.6 in /usr/local/lib/python3.10/dist-packages (from tensorflow<2.13,>=2.12.0->tensorflow_text) (4.6.3)\n",
      "Requirement already satisfied: wrapt<1.15,>=1.11.0 in /usr/local/lib/python3.10/dist-packages (from tensorflow<2.13,>=2.12.0->tensorflow_text) (1.14.1)\n",
      "Requirement already satisfied: tensorflow-io-gcs-filesystem>=0.23.1 in /usr/local/lib/python3.10/dist-packages (from tensorflow<2.13,>=2.12.0->tensorflow_text) (0.32.0)\n",
      "Requirement already satisfied: wheel<1.0,>=0.23.0 in /usr/local/lib/python3.10/dist-packages (from astunparse>=1.6.0->tensorflow<2.13,>=2.12.0->tensorflow_text) (0.40.0)\n",
      "Requirement already satisfied: ml-dtypes>=0.1.0 in /usr/local/lib/python3.10/dist-packages (from jax>=0.3.15->tensorflow<2.13,>=2.12.0->tensorflow_text) (0.2.0)\n",
      "Requirement already satisfied: scipy>=1.7 in /usr/local/lib/python3.10/dist-packages (from jax>=0.3.15->tensorflow<2.13,>=2.12.0->tensorflow_text) (1.10.1)\n",
      "Requirement already satisfied: google-auth<3,>=1.6.3 in /usr/local/lib/python3.10/dist-packages (from tensorboard<2.13,>=2.12->tensorflow<2.13,>=2.12.0->tensorflow_text) (2.17.3)\n",
      "Requirement already satisfied: google-auth-oauthlib<1.1,>=0.5 in /usr/local/lib/python3.10/dist-packages (from tensorboard<2.13,>=2.12->tensorflow<2.13,>=2.12.0->tensorflow_text) (1.0.0)\n",
      "Requirement already satisfied: markdown>=2.6.8 in /usr/local/lib/python3.10/dist-packages (from tensorboard<2.13,>=2.12->tensorflow<2.13,>=2.12.0->tensorflow_text) (3.4.3)\n",
      "Requirement already satisfied: requests<3,>=2.21.0 in /usr/local/lib/python3.10/dist-packages (from tensorboard<2.13,>=2.12->tensorflow<2.13,>=2.12.0->tensorflow_text) (2.27.1)\n",
      "Requirement already satisfied: tensorboard-data-server<0.8.0,>=0.7.0 in /usr/local/lib/python3.10/dist-packages (from tensorboard<2.13,>=2.12->tensorflow<2.13,>=2.12.0->tensorflow_text) (0.7.1)\n",
      "Requirement already satisfied: werkzeug>=1.0.1 in /usr/local/lib/python3.10/dist-packages (from tensorboard<2.13,>=2.12->tensorflow<2.13,>=2.12.0->tensorflow_text) (2.3.6)\n",
      "Requirement already satisfied: cachetools<6.0,>=2.0.0 in /usr/local/lib/python3.10/dist-packages (from google-auth<3,>=1.6.3->tensorboard<2.13,>=2.12->tensorflow<2.13,>=2.12.0->tensorflow_text) (5.3.1)\n",
      "Requirement already satisfied: pyasn1-modules>=0.2.1 in /usr/local/lib/python3.10/dist-packages (from google-auth<3,>=1.6.3->tensorboard<2.13,>=2.12->tensorflow<2.13,>=2.12.0->tensorflow_text) (0.3.0)\n",
      "Requirement already satisfied: rsa<5,>=3.1.4 in /usr/local/lib/python3.10/dist-packages (from google-auth<3,>=1.6.3->tensorboard<2.13,>=2.12->tensorflow<2.13,>=2.12.0->tensorflow_text) (4.9)\n",
      "Requirement already satisfied: requests-oauthlib>=0.7.0 in /usr/local/lib/python3.10/dist-packages (from google-auth-oauthlib<1.1,>=0.5->tensorboard<2.13,>=2.12->tensorflow<2.13,>=2.12.0->tensorflow_text) (1.3.1)\n",
      "Requirement already satisfied: urllib3<1.27,>=1.21.1 in /usr/local/lib/python3.10/dist-packages (from requests<3,>=2.21.0->tensorboard<2.13,>=2.12->tensorflow<2.13,>=2.12.0->tensorflow_text) (1.26.16)\n",
      "Requirement already satisfied: certifi>=2017.4.17 in /usr/local/lib/python3.10/dist-packages (from requests<3,>=2.21.0->tensorboard<2.13,>=2.12->tensorflow<2.13,>=2.12.0->tensorflow_text) (2023.5.7)\n",
      "Requirement already satisfied: charset-normalizer~=2.0.0 in /usr/local/lib/python3.10/dist-packages (from requests<3,>=2.21.0->tensorboard<2.13,>=2.12->tensorflow<2.13,>=2.12.0->tensorflow_text) (2.0.12)\n",
      "Requirement already satisfied: idna<4,>=2.5 in /usr/local/lib/python3.10/dist-packages (from requests<3,>=2.21.0->tensorboard<2.13,>=2.12->tensorflow<2.13,>=2.12.0->tensorflow_text) (3.4)\n",
      "Requirement already satisfied: MarkupSafe>=2.1.1 in /usr/local/lib/python3.10/dist-packages (from werkzeug>=1.0.1->tensorboard<2.13,>=2.12->tensorflow<2.13,>=2.12.0->tensorflow_text) (2.1.3)\n",
      "Requirement already satisfied: pyasn1<0.6.0,>=0.4.6 in /usr/local/lib/python3.10/dist-packages (from pyasn1-modules>=0.2.1->google-auth<3,>=1.6.3->tensorboard<2.13,>=2.12->tensorflow<2.13,>=2.12.0->tensorflow_text) (0.5.0)\n",
      "Requirement already satisfied: oauthlib>=3.0.0 in /usr/local/lib/python3.10/dist-packages (from requests-oauthlib>=0.7.0->google-auth-oauthlib<1.1,>=0.5->tensorboard<2.13,>=2.12->tensorflow<2.13,>=2.12.0->tensorflow_text) (3.2.2)\n",
      "Installing collected packages: tensorflow_text\n",
      "Successfully installed tensorflow_text-2.12.1\n"
     ]
    }
   ],
   "source": [
    "!pip install transformers\n",
    "!pip install keras_tuner\n",
    "!pip install tensorflow_text"
   ]
  },
  {
   "cell_type": "code",
   "execution_count": 2,
   "id": "7f8decb4",
   "metadata": {
    "id": "7f8decb4"
   },
   "outputs": [],
   "source": [
    "import os\n",
    "os.environ['TF_CPP_MIN_LOG_LEVEL'] = '3'"
   ]
  },
  {
   "cell_type": "code",
   "execution_count": 3,
   "id": "2e38acd0",
   "metadata": {
    "id": "2e38acd0"
   },
   "outputs": [],
   "source": [
    "import pandas as pd\n",
    "import numpy as np\n",
    "import utils\n",
    "\n",
    "from sklearn.model_selection import train_test_split\n",
    "from sklearn.metrics import confusion_matrix, ConfusionMatrixDisplay\n",
    "\n",
    "from transformers import AutoTokenizer, TFBertModel\n",
    "\n",
    "import tensorflow as tf\n",
    "import tensorflow_hub as hub\n",
    "import tensorflow_text as text\n",
    "from tensorflow.keras.optimizers import Adam\n",
    "import keras_tuner as kt\n",
    "from keras.models import Model, Sequential\n",
    "from keras.layers import Input, Dense, Dropout, Embedding, LSTM, Bidirectional, GRU\n",
    "from tensorflow.keras import regularizers\n",
    "from keras.callbacks import EarlyStopping, ReduceLROnPlateau\n",
    "\n",
    "import matplotlib.pyplot as plt"
   ]
  },
  {
   "cell_type": "markdown",
   "id": "g5MgZ8c5yXT2",
   "metadata": {
    "id": "g5MgZ8c5yXT2"
   },
   "source": [
    "Using GPU if available"
   ]
  },
  {
   "cell_type": "code",
   "execution_count": 4,
   "id": "6z9aWJ8IP9gZ",
   "metadata": {
    "colab": {
     "base_uri": "https://localhost:8080/"
    },
    "id": "6z9aWJ8IP9gZ",
    "outputId": "c5ce6360-8c1b-4e9c-b8a0-8292d1b40e33"
   },
   "outputs": [
    {
     "name": "stdout",
     "output_type": "stream",
     "text": [
      "Found GPU at: /device:GPU:0\n"
     ]
    }
   ],
   "source": [
    "device_name = tf.test.gpu_device_name()\n",
    "if device_name != '/device:GPU:0':\n",
    "  raise SystemError('GPU device not found')\n",
    "print('Found GPU at: {}'.format(device_name))"
   ]
  },
  {
   "cell_type": "markdown",
   "id": "CIKEQMZggxiw",
   "metadata": {
    "id": "CIKEQMZggxiw"
   },
   "source": [
    "# Preprocessing"
   ]
  },
  {
   "cell_type": "markdown",
   "id": "t0z-sGiVnySB",
   "metadata": {
    "id": "t0z-sGiVnySB"
   },
   "source": [
    "The primary data for the competition is, in each provided file, the *comment_text* column. This contains the text of a comment which has been labeled as **Conspiratorial** (1) or **non-conspiratorial** (0). The train set’s comments are entirely in Italian with sporadic citation of external resources in English and come exclusively from Telegram Channels.\n",
    "\n",
    "The **subtaskA_train.csv** contains a *conspiratorial* column that it is the target to be trained on. The values of such column are either 1 indicating that the corresponding comment in *comment_text* column is Conspiratorial. Otherwise it is 0."
   ]
  },
  {
   "cell_type": "markdown",
   "id": "oCyO4VY-g7KK",
   "metadata": {
    "id": "oCyO4VY-g7KK"
   },
   "source": [
    "## Loading dataset"
   ]
  },
  {
   "cell_type": "code",
   "execution_count": 6,
   "id": "918edc94",
   "metadata": {
    "id": "918edc94"
   },
   "outputs": [],
   "source": [
    "train = pd.read_csv(\"subtaskA_train_set.csv\")\n",
    "val = pd.read_csv(\"subtaskA_val_set.csv\")\n",
    "test = pd.read_csv(\"subtaskA_test_set.csv\")\n",
    "trainval = pd.read_csv(\"subtaskA_trainval_set.csv\")"
   ]
  },
  {
   "cell_type": "markdown",
   "id": "uBY2RcXqzv4C",
   "metadata": {
    "id": "uBY2RcXqzv4C"
   },
   "source": [
    "# Model training"
   ]
  },
  {
   "cell_type": "markdown",
   "id": "xCRFhy9lrFAG",
   "metadata": {
    "id": "xCRFhy9lrFAG"
   },
   "source": [
    "## Architecture definition"
   ]
  },
  {
   "cell_type": "markdown",
   "id": "Y4YRVqpgrtII",
   "metadata": {
    "id": "Y4YRVqpgrtII"
   },
   "source": [
    "In this notebook the task has been addressed by using the [**Multilingual Universal Sentence Encoder**](https://arxiv.org/pdf/1907.04307.pdf). It's a multilingual text encoder trained by Google on 16 languages (including italian) and freely available on [TensorFlow Hub](https://tfhub.dev/google/universal-sentence-encoder-multilingual/3).\n",
    "\n",
    "This encoder relies on [SentencePiece](https://aclanthology.org/D18-2012.pdf) tokenizer."
   ]
  },
  {
   "cell_type": "code",
   "execution_count": 7,
   "id": "f50931f8",
   "metadata": {
    "id": "f50931f8"
   },
   "outputs": [],
   "source": [
    "tfhub_handle_encoder = \"https://tfhub.dev/google/universal-sentence-encoder-multilingual/3\"\n",
    "tfhub_handle_preprocess = \"https://tfhub.dev/google/universal-sentence-encoder-multilingual/3\""
   ]
  },
  {
   "cell_type": "code",
   "execution_count": 8,
   "id": "e95150b5",
   "metadata": {
    "id": "e95150b5"
   },
   "outputs": [],
   "source": [
    "def build_model_with_hp(\n",
    "    lstm_units: int,\n",
    "    l1_units: int,\n",
    "    l2_units: int,\n",
    "    l3_units: int,\n",
    "    l2_value: float,\n",
    "    dropout_rate: float,\n",
    "    learning_rate: float,\n",
    "    epsilon: float,\n",
    "    clipnorm: float\n",
    "):\n",
    "    # defining inputs\n",
    "    text_input = tf.keras.layers.Input(shape=(), dtype=tf.string, name='text')\n",
    "\n",
    "    # defining preprocessing\n",
    "    preprocessing_layer = hub.KerasLayer(tfhub_handle_preprocess, name='preprocessing')\n",
    "\n",
    "    # defining encoder\n",
    "    encoder = hub.KerasLayer(tfhub_handle_encoder, trainable=False, name='text_encoder')\n",
    "    net = encoder(text_input)\n",
    "\n",
    "    # Reshape net to add a time step dimension\n",
    "    net = tf.expand_dims(net, axis=1)\n",
    "\n",
    "    net = LSTM(\n",
    "        units = lstm_units,\n",
    "        kernel_regularizer = regularizers.L2(l2_value),\n",
    "        dropout = dropout_rate,\n",
    "        name = \"LSTM_layer\"\n",
    "    )(net)\n",
    "\n",
    "    # FULLY CONNECTED LAYERS\n",
    "\n",
    "    net = tf.keras.layers.Dense(\n",
    "        units = l1_units,\n",
    "        kernel_regularizer = regularizers.L2(l2_value),\n",
    "        activation = \"relu\",\n",
    "        name = \"Dense_layer_1\"\n",
    "    )(net)\n",
    "\n",
    "    net = Dropout(rate=dropout_rate)(net)\n",
    "\n",
    "    net = tf.keras.layers.Dense(\n",
    "        units = l2_units,\n",
    "        kernel_regularizer = regularizers.L2(l2_value),\n",
    "        activation=\"relu\",\n",
    "        name = \"Dense_layer_2\"\n",
    "    )(net)\n",
    "\n",
    "    net = Dropout(rate=dropout_rate)(net)\n",
    "\n",
    "    net = tf.keras.layers.Dense(\n",
    "        units = l3_units,\n",
    "        kernel_regularizer = regularizers.L2(l2_value),\n",
    "        activation=\"relu\",\n",
    "        name = \"Dense_layer_3\"\n",
    "    )(net)\n",
    "\n",
    "    net = Dropout(rate=dropout_rate)(net)\n",
    "\n",
    "    # OUTPUT LAYER\n",
    "    net = tf.keras.layers.Dense(\n",
    "        units = 1,\n",
    "        kernel_regularizer = regularizers.L2(l2_value),\n",
    "        activation = \"sigmoid\",\n",
    "        name = 'classifier'\n",
    "    )(net)\n",
    "\n",
    "    model = tf.keras.Model(text_input, net)\n",
    "\n",
    "    optimizer = Adam(\n",
    "        learning_rate = learning_rate,\n",
    "        epsilon = epsilon,\n",
    "        clipnorm = clipnorm\n",
    "    )\n",
    "\n",
    "    model.compile(\n",
    "        optimizer = optimizer,\n",
    "        loss = 'binary_crossentropy',\n",
    "        metrics = 'accuracy'\n",
    "    )\n",
    "\n",
    "    return model\n",
    "\n",
    "def build_classifier_model(hp):\n",
    "    lstm_units = hp.Int('lstm_units', min_value=4, max_value=10, step=1)\n",
    "    l1_units = hp.Int('l1_units', min_value=5, max_value=40, step=5)\n",
    "    l2_units = hp.Int('l2_units', min_value=5, max_value=40, step=5)\n",
    "    l3_units = hp.Int('l3_units', min_value=5, max_value=40, step=5)\n",
    "    l2_value = hp.Choice('L2 regularization', values = [1e-5, 1e-6])\n",
    "    dropout_rate = 0.1\n",
    "    learning_rate = hp.Choice('learning_rate', values=[1e-2, 1e-3, 1e-4])\n",
    "    epsilon = 1e-7\n",
    "    clipnorm = 0.1\n",
    "\n",
    "    return build_model_with_hp(lstm_units, l1_units, l2_units, l3_units, l2_value, dropout_rate, learning_rate, epsilon, clipnorm)"
   ]
  },
  {
   "cell_type": "markdown",
   "id": "ERg54-GbwwT0",
   "metadata": {
    "id": "ERg54-GbwwT0"
   },
   "source": [
    "Along the model, we introduce 2 callbacks to support the model training:\n",
    "\n",
    "\n",
    "*   **ReduceLROnPlateau**: Reduce learning rate when a metric has stopped improving. Models often benefit from reducing the learning rate by a factor once learning stagnates. This callback monitors a quantity and if no improvement is seen for a 'patience' number of epochs, the learning rate is reduced.\n",
    "*   **EarlyStopping**: Stop training when a monitored metric has stopped improving.\n",
    "\n"
   ]
  },
  {
   "cell_type": "code",
   "execution_count": 9,
   "id": "gKHk5YADlgbA",
   "metadata": {
    "id": "gKHk5YADlgbA"
   },
   "outputs": [],
   "source": [
    "reduce_lr = ReduceLROnPlateau(\n",
    "    monitor=\"val_loss\",\n",
    "    factor=5e-2,\n",
    "    patience=5,\n",
    "    verbose=0,\n",
    "    mode=\"auto\",\n",
    "    min_delta=1e-3,\n",
    "    min_lr=1e-5\n",
    ")\n",
    "early_stopping = EarlyStopping(monitor='val_accuracy' ,mode='max', patience=20,verbose=False,restore_best_weights=True)"
   ]
  },
  {
   "cell_type": "markdown",
   "id": "md00PvdQ0fmM",
   "metadata": {
    "id": "md00PvdQ0fmM"
   },
   "source": [
    "## Performing a random search of the hyperparameters"
   ]
  },
  {
   "cell_type": "code",
   "execution_count": 10,
   "id": "7ae4ee76",
   "metadata": {
    "id": "7ae4ee76"
   },
   "outputs": [],
   "source": [
    "tuner = kt.RandomSearch(\n",
    "    hypermodel=build_classifier_model,\n",
    "    max_trials=10,\n",
    "    objective='val_accuracy',\n",
    "    overwrite=True\n",
    ")"
   ]
  },
  {
   "cell_type": "code",
   "execution_count": 11,
   "id": "5831c33f",
   "metadata": {
    "colab": {
     "base_uri": "https://localhost:8080/"
    },
    "id": "5831c33f",
    "outputId": "d3eadc2a-bf99-48b0-a707-1f4ef722593f",
    "scrolled": true
   },
   "outputs": [
    {
     "name": "stdout",
     "output_type": "stream",
     "text": [
      "Trial 10 Complete [00h 02m 06s]\n",
      "val_accuracy: 0.7289156913757324\n",
      "\n",
      "Best val_accuracy So Far: 0.75\n",
      "Total elapsed time: 00h 19m 34s\n"
     ]
    }
   ],
   "source": [
    "print(f'Training model with {tfhub_handle_encoder}')\n",
    "tuner.search(\n",
    "    x = train[\"comment_text\"],\n",
    "    y = train[\"conspiratorial\"],\n",
    "    epochs = 80,\n",
    "    validation_data = (val[\"comment_text\"], val[\"conspiratorial\"]),\n",
    "    callbacks = [\n",
    "        reduce_lr,\n",
    "        early_stopping\n",
    "    ]\n",
    ")"
   ]
  },
  {
   "cell_type": "code",
   "execution_count": 12,
   "id": "UrZ8wK_JmzhR",
   "metadata": {
    "colab": {
     "base_uri": "https://localhost:8080/"
    },
    "id": "UrZ8wK_JmzhR",
    "outputId": "f24f4622-fa2f-4f82-dbe4-4365dc27abdd"
   },
   "outputs": [
    {
     "name": "stdout",
     "output_type": "stream",
     "text": [
      "Results summary\n",
      "Results in ./untitled_project\n",
      "Showing 5 best trials\n",
      "Objective(name=\"val_accuracy\", direction=\"max\")\n",
      "\n",
      "Trial 04 summary\n",
      "Hyperparameters:\n",
      "lstm_units: 8\n",
      "l1_units: 40\n",
      "l2_units: 40\n",
      "l3_units: 15\n",
      "L2 regularization: 1e-06\n",
      "learning_rate: 0.0001\n",
      "Score: 0.75\n",
      "\n",
      "Trial 05 summary\n",
      "Hyperparameters:\n",
      "lstm_units: 5\n",
      "l1_units: 10\n",
      "l2_units: 40\n",
      "l3_units: 5\n",
      "L2 regularization: 1e-06\n",
      "learning_rate: 0.01\n",
      "Score: 0.7469879388809204\n",
      "\n",
      "Trial 08 summary\n",
      "Hyperparameters:\n",
      "lstm_units: 10\n",
      "l1_units: 35\n",
      "l2_units: 5\n",
      "l3_units: 10\n",
      "L2 regularization: 1e-06\n",
      "learning_rate: 0.0001\n",
      "Score: 0.7439758777618408\n",
      "\n",
      "Trial 03 summary\n",
      "Hyperparameters:\n",
      "lstm_units: 7\n",
      "l1_units: 40\n",
      "l2_units: 10\n",
      "l3_units: 15\n",
      "L2 regularization: 1e-05\n",
      "learning_rate: 0.001\n",
      "Score: 0.740963876247406\n",
      "\n",
      "Trial 02 summary\n",
      "Hyperparameters:\n",
      "lstm_units: 10\n",
      "l1_units: 40\n",
      "l2_units: 25\n",
      "l3_units: 5\n",
      "L2 regularization: 1e-06\n",
      "learning_rate: 0.0001\n",
      "Score: 0.7379518151283264\n"
     ]
    }
   ],
   "source": [
    "tuner.results_summary(5)"
   ]
  },
  {
   "cell_type": "markdown",
   "id": "xyK9Derdx_BM",
   "metadata": {
    "id": "xyK9Derdx_BM"
   },
   "source": [
    "# Final phase: retrain and test"
   ]
  },
  {
   "cell_type": "markdown",
   "id": "HIo5I05lx-ml",
   "metadata": {
    "id": "HIo5I05lx-ml"
   },
   "source": [
    "After the search for optimal parameters we perform another fit on the training set in order to observe closely the learning curves on training and validation."
   ]
  },
  {
   "cell_type": "code",
   "execution_count": 13,
   "id": "KA4Vdue_ka-w",
   "metadata": {
    "id": "KA4Vdue_ka-w"
   },
   "outputs": [],
   "source": [
    "lstm_units = 8\n",
    "l1_units = 40\n",
    "l2_units = 40\n",
    "l3_units = 15\n",
    "l2_value = 1e-6\n",
    "dropout_rate = 0.1\n",
    "learning_rate = 1e-4\n",
    "epsilon = 1e-7\n",
    "clipnorm = 0.1"
   ]
  },
  {
   "cell_type": "code",
   "execution_count": 14,
   "id": "NGXfMMzgd_-k",
   "metadata": {
    "colab": {
     "base_uri": "https://localhost:8080/"
    },
    "id": "NGXfMMzgd_-k",
    "outputId": "00d591bc-7623-4363-a3b4-912f08165bee"
   },
   "outputs": [
    {
     "name": "stdout",
     "output_type": "stream",
     "text": [
      "Training model with https://tfhub.dev/google/universal-sentence-encoder-multilingual/3\n",
      "Epoch 1/160\n",
      "42/42 [==============================] - 12s 60ms/step - loss: 0.6932 - accuracy: 0.5163 - val_loss: 0.6932 - val_accuracy: 0.5181 - lr: 1.0000e-04\n",
      "Epoch 2/160\n",
      "42/42 [==============================] - 1s 24ms/step - loss: 0.6929 - accuracy: 0.5745 - val_loss: 0.6930 - val_accuracy: 0.5572 - lr: 1.0000e-04\n",
      "Epoch 3/160\n",
      "42/42 [==============================] - 1s 27ms/step - loss: 0.6926 - accuracy: 0.5828 - val_loss: 0.6925 - val_accuracy: 0.5723 - lr: 1.0000e-04\n",
      "Epoch 4/160\n",
      "42/42 [==============================] - 1s 28ms/step - loss: 0.6917 - accuracy: 0.6364 - val_loss: 0.6917 - val_accuracy: 0.6145 - lr: 1.0000e-04\n",
      "Epoch 5/160\n",
      "42/42 [==============================] - 1s 28ms/step - loss: 0.6898 - accuracy: 0.6644 - val_loss: 0.6899 - val_accuracy: 0.6355 - lr: 1.0000e-04\n",
      "Epoch 6/160\n",
      "42/42 [==============================] - 2s 39ms/step - loss: 0.6872 - accuracy: 0.6961 - val_loss: 0.6874 - val_accuracy: 0.6506 - lr: 1.0000e-04\n",
      "Epoch 7/160\n",
      "42/42 [==============================] - 2s 43ms/step - loss: 0.6833 - accuracy: 0.7113 - val_loss: 0.6835 - val_accuracy: 0.6657 - lr: 1.0000e-04\n",
      "Epoch 8/160\n",
      "42/42 [==============================] - 1s 35ms/step - loss: 0.6774 - accuracy: 0.7264 - val_loss: 0.6782 - val_accuracy: 0.6747 - lr: 1.0000e-04\n",
      "Epoch 9/160\n",
      "42/42 [==============================] - 1s 24ms/step - loss: 0.6697 - accuracy: 0.7347 - val_loss: 0.6718 - val_accuracy: 0.6898 - lr: 1.0000e-04\n",
      "Epoch 10/160\n",
      "42/42 [==============================] - 1s 28ms/step - loss: 0.6599 - accuracy: 0.7415 - val_loss: 0.6636 - val_accuracy: 0.6958 - lr: 1.0000e-04\n",
      "Epoch 11/160\n",
      "42/42 [==============================] - 1s 23ms/step - loss: 0.6478 - accuracy: 0.7415 - val_loss: 0.6535 - val_accuracy: 0.7018 - lr: 1.0000e-04\n",
      "Epoch 12/160\n",
      "42/42 [==============================] - 1s 23ms/step - loss: 0.6360 - accuracy: 0.7430 - val_loss: 0.6419 - val_accuracy: 0.7018 - lr: 1.0000e-04\n",
      "Epoch 13/160\n",
      "42/42 [==============================] - 1s 24ms/step - loss: 0.6182 - accuracy: 0.7551 - val_loss: 0.6297 - val_accuracy: 0.7048 - lr: 1.0000e-04\n",
      "Epoch 14/160\n",
      "42/42 [==============================] - 1s 23ms/step - loss: 0.5997 - accuracy: 0.7657 - val_loss: 0.6170 - val_accuracy: 0.7048 - lr: 1.0000e-04\n",
      "Epoch 15/160\n",
      "42/42 [==============================] - 1s 24ms/step - loss: 0.5819 - accuracy: 0.7619 - val_loss: 0.6054 - val_accuracy: 0.7108 - lr: 1.0000e-04\n",
      "Epoch 16/160\n",
      "42/42 [==============================] - 1s 23ms/step - loss: 0.5612 - accuracy: 0.7687 - val_loss: 0.5932 - val_accuracy: 0.7139 - lr: 1.0000e-04\n",
      "Epoch 17/160\n",
      "42/42 [==============================] - 1s 24ms/step - loss: 0.5469 - accuracy: 0.7732 - val_loss: 0.5820 - val_accuracy: 0.7169 - lr: 1.0000e-04\n",
      "Epoch 18/160\n",
      "42/42 [==============================] - 2s 41ms/step - loss: 0.5317 - accuracy: 0.7740 - val_loss: 0.5729 - val_accuracy: 0.7139 - lr: 1.0000e-04\n",
      "Epoch 19/160\n",
      "42/42 [==============================] - 2s 40ms/step - loss: 0.5220 - accuracy: 0.7816 - val_loss: 0.5662 - val_accuracy: 0.7139 - lr: 1.0000e-04\n",
      "Epoch 20/160\n",
      "42/42 [==============================] - 1s 29ms/step - loss: 0.5079 - accuracy: 0.7680 - val_loss: 0.5609 - val_accuracy: 0.7139 - lr: 1.0000e-04\n",
      "Epoch 21/160\n",
      "42/42 [==============================] - 1s 28ms/step - loss: 0.5078 - accuracy: 0.7680 - val_loss: 0.5567 - val_accuracy: 0.7139 - lr: 1.0000e-04\n",
      "Epoch 22/160\n",
      "42/42 [==============================] - 1s 25ms/step - loss: 0.4952 - accuracy: 0.7906 - val_loss: 0.5533 - val_accuracy: 0.7139 - lr: 1.0000e-04\n",
      "Epoch 23/160\n",
      "42/42 [==============================] - 1s 25ms/step - loss: 0.4930 - accuracy: 0.7800 - val_loss: 0.5501 - val_accuracy: 0.7229 - lr: 1.0000e-04\n",
      "Epoch 24/160\n",
      "42/42 [==============================] - 1s 25ms/step - loss: 0.4840 - accuracy: 0.7861 - val_loss: 0.5479 - val_accuracy: 0.7199 - lr: 1.0000e-04\n",
      "Epoch 25/160\n",
      "42/42 [==============================] - 1s 25ms/step - loss: 0.4811 - accuracy: 0.7868 - val_loss: 0.5470 - val_accuracy: 0.7229 - lr: 1.0000e-04\n",
      "Epoch 26/160\n",
      "42/42 [==============================] - 1s 25ms/step - loss: 0.4707 - accuracy: 0.7853 - val_loss: 0.5453 - val_accuracy: 0.7108 - lr: 1.0000e-04\n",
      "Epoch 27/160\n",
      "42/42 [==============================] - 1s 24ms/step - loss: 0.4713 - accuracy: 0.7876 - val_loss: 0.5443 - val_accuracy: 0.7289 - lr: 1.0000e-04\n",
      "Epoch 28/160\n",
      "42/42 [==============================] - 1s 27ms/step - loss: 0.4642 - accuracy: 0.7884 - val_loss: 0.5427 - val_accuracy: 0.7289 - lr: 1.0000e-04\n",
      "Epoch 29/160\n",
      "42/42 [==============================] - 1s 29ms/step - loss: 0.4621 - accuracy: 0.7808 - val_loss: 0.5406 - val_accuracy: 0.7289 - lr: 1.0000e-04\n",
      "Epoch 30/160\n",
      "42/42 [==============================] - 2s 40ms/step - loss: 0.4665 - accuracy: 0.7831 - val_loss: 0.5400 - val_accuracy: 0.7199 - lr: 1.0000e-04\n",
      "Epoch 31/160\n",
      "42/42 [==============================] - 2s 42ms/step - loss: 0.4547 - accuracy: 0.7959 - val_loss: 0.5382 - val_accuracy: 0.7199 - lr: 1.0000e-04\n",
      "Epoch 32/160\n",
      "42/42 [==============================] - 1s 26ms/step - loss: 0.4470 - accuracy: 0.8027 - val_loss: 0.5375 - val_accuracy: 0.7259 - lr: 1.0000e-04\n",
      "Epoch 33/160\n",
      "42/42 [==============================] - 1s 25ms/step - loss: 0.4519 - accuracy: 0.7974 - val_loss: 0.5352 - val_accuracy: 0.7319 - lr: 1.0000e-04\n",
      "Epoch 34/160\n",
      "42/42 [==============================] - 1s 25ms/step - loss: 0.4463 - accuracy: 0.7989 - val_loss: 0.5343 - val_accuracy: 0.7380 - lr: 1.0000e-04\n",
      "Epoch 35/160\n",
      "42/42 [==============================] - 1s 24ms/step - loss: 0.4474 - accuracy: 0.7899 - val_loss: 0.5335 - val_accuracy: 0.7349 - lr: 1.0000e-04\n",
      "Epoch 36/160\n",
      "42/42 [==============================] - 1s 23ms/step - loss: 0.4402 - accuracy: 0.7921 - val_loss: 0.5322 - val_accuracy: 0.7410 - lr: 1.0000e-04\n",
      "Epoch 37/160\n",
      "42/42 [==============================] - 1s 28ms/step - loss: 0.4336 - accuracy: 0.8020 - val_loss: 0.5316 - val_accuracy: 0.7410 - lr: 1.0000e-04\n",
      "Epoch 38/160\n",
      "42/42 [==============================] - 1s 25ms/step - loss: 0.4405 - accuracy: 0.8057 - val_loss: 0.5288 - val_accuracy: 0.7410 - lr: 1.0000e-04\n",
      "Epoch 39/160\n",
      "42/42 [==============================] - 1s 25ms/step - loss: 0.4339 - accuracy: 0.7967 - val_loss: 0.5281 - val_accuracy: 0.7410 - lr: 1.0000e-04\n",
      "Epoch 40/160\n",
      "42/42 [==============================] - 1s 24ms/step - loss: 0.4272 - accuracy: 0.8035 - val_loss: 0.5268 - val_accuracy: 0.7470 - lr: 1.0000e-04\n",
      "Epoch 41/160\n",
      "42/42 [==============================] - 2s 38ms/step - loss: 0.4263 - accuracy: 0.8163 - val_loss: 0.5266 - val_accuracy: 0.7530 - lr: 1.0000e-04\n",
      "Epoch 42/160\n",
      "42/42 [==============================] - 2s 37ms/step - loss: 0.4265 - accuracy: 0.8118 - val_loss: 0.5257 - val_accuracy: 0.7530 - lr: 1.0000e-04\n",
      "Epoch 43/160\n",
      "42/42 [==============================] - 1s 35ms/step - loss: 0.4287 - accuracy: 0.8020 - val_loss: 0.5251 - val_accuracy: 0.7560 - lr: 1.0000e-04\n",
      "Epoch 44/160\n",
      "42/42 [==============================] - 1s 25ms/step - loss: 0.4141 - accuracy: 0.8073 - val_loss: 0.5250 - val_accuracy: 0.7500 - lr: 1.0000e-04\n",
      "Epoch 45/160\n",
      "42/42 [==============================] - 1s 29ms/step - loss: 0.4124 - accuracy: 0.8125 - val_loss: 0.5258 - val_accuracy: 0.7560 - lr: 1.0000e-04\n",
      "Epoch 46/160\n",
      "42/42 [==============================] - 1s 25ms/step - loss: 0.4259 - accuracy: 0.8141 - val_loss: 0.5254 - val_accuracy: 0.7530 - lr: 1.0000e-04\n",
      "Epoch 47/160\n",
      "42/42 [==============================] - 1s 24ms/step - loss: 0.4105 - accuracy: 0.8103 - val_loss: 0.5265 - val_accuracy: 0.7470 - lr: 1.0000e-04\n",
      "Epoch 48/160\n",
      "42/42 [==============================] - 1s 27ms/step - loss: 0.4092 - accuracy: 0.8178 - val_loss: 0.5264 - val_accuracy: 0.7470 - lr: 1.0000e-05\n",
      "Epoch 49/160\n",
      "42/42 [==============================] - 1s 24ms/step - loss: 0.4179 - accuracy: 0.8118 - val_loss: 0.5264 - val_accuracy: 0.7470 - lr: 1.0000e-05\n",
      "Epoch 50/160\n",
      "42/42 [==============================] - 1s 24ms/step - loss: 0.4084 - accuracy: 0.8277 - val_loss: 0.5264 - val_accuracy: 0.7470 - lr: 1.0000e-05\n",
      "Epoch 51/160\n",
      "42/42 [==============================] - 1s 23ms/step - loss: 0.4099 - accuracy: 0.8103 - val_loss: 0.5264 - val_accuracy: 0.7470 - lr: 1.0000e-05\n",
      "Epoch 52/160\n",
      "42/42 [==============================] - 1s 27ms/step - loss: 0.4163 - accuracy: 0.8103 - val_loss: 0.5265 - val_accuracy: 0.7440 - lr: 1.0000e-05\n",
      "Epoch 53/160\n",
      "42/42 [==============================] - 2s 40ms/step - loss: 0.4106 - accuracy: 0.8050 - val_loss: 0.5265 - val_accuracy: 0.7440 - lr: 1.0000e-05\n",
      "Epoch 54/160\n",
      "42/42 [==============================] - 2s 42ms/step - loss: 0.3986 - accuracy: 0.8201 - val_loss: 0.5265 - val_accuracy: 0.7440 - lr: 1.0000e-05\n",
      "Epoch 55/160\n",
      "42/42 [==============================] - 1s 27ms/step - loss: 0.4036 - accuracy: 0.8148 - val_loss: 0.5265 - val_accuracy: 0.7440 - lr: 1.0000e-05\n",
      "Epoch 56/160\n",
      "42/42 [==============================] - 1s 25ms/step - loss: 0.4041 - accuracy: 0.8277 - val_loss: 0.5266 - val_accuracy: 0.7440 - lr: 1.0000e-05\n",
      "Epoch 57/160\n",
      "42/42 [==============================] - 1s 25ms/step - loss: 0.4040 - accuracy: 0.8163 - val_loss: 0.5267 - val_accuracy: 0.7440 - lr: 1.0000e-05\n",
      "Epoch 58/160\n",
      "42/42 [==============================] - 1s 28ms/step - loss: 0.4206 - accuracy: 0.8057 - val_loss: 0.5266 - val_accuracy: 0.7440 - lr: 1.0000e-05\n",
      "Epoch 59/160\n",
      "42/42 [==============================] - 1s 24ms/step - loss: 0.4058 - accuracy: 0.8201 - val_loss: 0.5266 - val_accuracy: 0.7440 - lr: 1.0000e-05\n",
      "Epoch 60/160\n",
      "42/42 [==============================] - 1s 25ms/step - loss: 0.4101 - accuracy: 0.8171 - val_loss: 0.5267 - val_accuracy: 0.7470 - lr: 1.0000e-05\n",
      "Epoch 61/160\n",
      "42/42 [==============================] - 1s 24ms/step - loss: 0.4049 - accuracy: 0.8178 - val_loss: 0.5268 - val_accuracy: 0.7440 - lr: 1.0000e-05\n",
      "Epoch 62/160\n",
      "42/42 [==============================] - 1s 28ms/step - loss: 0.4060 - accuracy: 0.8201 - val_loss: 0.5269 - val_accuracy: 0.7470 - lr: 1.0000e-05\n",
      "Epoch 63/160\n",
      "42/42 [==============================] - 1s 24ms/step - loss: 0.4125 - accuracy: 0.8156 - val_loss: 0.5269 - val_accuracy: 0.7470 - lr: 1.0000e-05\n",
      "Epoch 64/160\n",
      "42/42 [==============================] - 2s 36ms/step - loss: 0.3975 - accuracy: 0.8254 - val_loss: 0.5269 - val_accuracy: 0.7440 - lr: 1.0000e-05\n",
      "Epoch 65/160\n",
      "42/42 [==============================] - 2s 41ms/step - loss: 0.4012 - accuracy: 0.8231 - val_loss: 0.5270 - val_accuracy: 0.7470 - lr: 1.0000e-05\n",
      "Epoch 66/160\n",
      "42/42 [==============================] - 2s 38ms/step - loss: 0.4118 - accuracy: 0.8171 - val_loss: 0.5270 - val_accuracy: 0.7470 - lr: 1.0000e-05\n",
      "Epoch 67/160\n",
      "42/42 [==============================] - 1s 30ms/step - loss: 0.4040 - accuracy: 0.8239 - val_loss: 0.5271 - val_accuracy: 0.7470 - lr: 1.0000e-05\n",
      "Epoch 68/160\n",
      "42/42 [==============================] - 1s 29ms/step - loss: 0.4196 - accuracy: 0.8141 - val_loss: 0.5271 - val_accuracy: 0.7470 - lr: 1.0000e-05\n",
      "Epoch 69/160\n",
      "42/42 [==============================] - 1s 27ms/step - loss: 0.4159 - accuracy: 0.8178 - val_loss: 0.5270 - val_accuracy: 0.7500 - lr: 1.0000e-05\n",
      "Epoch 70/160\n",
      "42/42 [==============================] - 1s 30ms/step - loss: 0.4075 - accuracy: 0.8193 - val_loss: 0.5270 - val_accuracy: 0.7500 - lr: 1.0000e-05\n",
      "Epoch 71/160\n",
      "42/42 [==============================] - 1s 30ms/step - loss: 0.4059 - accuracy: 0.8133 - val_loss: 0.5271 - val_accuracy: 0.7500 - lr: 1.0000e-05\n",
      "Epoch 72/160\n",
      "42/42 [==============================] - 1s 28ms/step - loss: 0.4028 - accuracy: 0.8216 - val_loss: 0.5271 - val_accuracy: 0.7500 - lr: 1.0000e-05\n",
      "Epoch 73/160\n",
      "42/42 [==============================] - 1s 25ms/step - loss: 0.4154 - accuracy: 0.8148 - val_loss: 0.5271 - val_accuracy: 0.7500 - lr: 1.0000e-05\n",
      "Epoch 74/160\n",
      "42/42 [==============================] - 1s 28ms/step - loss: 0.4100 - accuracy: 0.8178 - val_loss: 0.5271 - val_accuracy: 0.7500 - lr: 1.0000e-05\n",
      "Epoch 75/160\n",
      "42/42 [==============================] - 2s 41ms/step - loss: 0.4011 - accuracy: 0.8148 - val_loss: 0.5271 - val_accuracy: 0.7500 - lr: 1.0000e-05\n",
      "Epoch 76/160\n",
      "42/42 [==============================] - 2s 42ms/step - loss: 0.3961 - accuracy: 0.8209 - val_loss: 0.5272 - val_accuracy: 0.7500 - lr: 1.0000e-05\n",
      "Epoch 77/160\n",
      "42/42 [==============================] - 1s 28ms/step - loss: 0.4046 - accuracy: 0.8239 - val_loss: 0.5272 - val_accuracy: 0.7500 - lr: 1.0000e-05\n",
      "Epoch 78/160\n",
      "42/42 [==============================] - 1s 25ms/step - loss: 0.3992 - accuracy: 0.8224 - val_loss: 0.5272 - val_accuracy: 0.7500 - lr: 1.0000e-05\n",
      "Epoch 79/160\n",
      "42/42 [==============================] - 1s 24ms/step - loss: 0.4066 - accuracy: 0.8171 - val_loss: 0.5272 - val_accuracy: 0.7500 - lr: 1.0000e-05\n",
      "Epoch 80/160\n",
      "42/42 [==============================] - 1s 29ms/step - loss: 0.3940 - accuracy: 0.8314 - val_loss: 0.5274 - val_accuracy: 0.7500 - lr: 1.0000e-05\n",
      "Epoch 81/160\n",
      "42/42 [==============================] - 1s 29ms/step - loss: 0.4076 - accuracy: 0.8209 - val_loss: 0.5275 - val_accuracy: 0.7500 - lr: 1.0000e-05\n",
      "Epoch 82/160\n",
      "42/42 [==============================] - 1s 30ms/step - loss: 0.4032 - accuracy: 0.8292 - val_loss: 0.5274 - val_accuracy: 0.7530 - lr: 1.0000e-05\n",
      "Epoch 83/160\n",
      "42/42 [==============================] - 1s 28ms/step - loss: 0.4082 - accuracy: 0.8231 - val_loss: 0.5275 - val_accuracy: 0.7530 - lr: 1.0000e-05\n",
      "Epoch 84/160\n",
      "42/42 [==============================] - 1s 24ms/step - loss: 0.4018 - accuracy: 0.8201 - val_loss: 0.5275 - val_accuracy: 0.7500 - lr: 1.0000e-05\n",
      "Epoch 85/160\n",
      "42/42 [==============================] - 1s 28ms/step - loss: 0.4033 - accuracy: 0.8216 - val_loss: 0.5275 - val_accuracy: 0.7500 - lr: 1.0000e-05\n",
      "Epoch 86/160\n",
      "42/42 [==============================] - 2s 40ms/step - loss: 0.4075 - accuracy: 0.8148 - val_loss: 0.5276 - val_accuracy: 0.7500 - lr: 1.0000e-05\n",
      "Epoch 87/160\n",
      "42/42 [==============================] - 2s 39ms/step - loss: 0.4100 - accuracy: 0.8156 - val_loss: 0.5276 - val_accuracy: 0.7500 - lr: 1.0000e-05\n",
      "Epoch 88/160\n",
      "42/42 [==============================] - 1s 31ms/step - loss: 0.4051 - accuracy: 0.8178 - val_loss: 0.5277 - val_accuracy: 0.7500 - lr: 1.0000e-05\n",
      "Epoch 89/160\n",
      "42/42 [==============================] - 1s 25ms/step - loss: 0.3977 - accuracy: 0.8322 - val_loss: 0.5278 - val_accuracy: 0.7530 - lr: 1.0000e-05\n",
      "Epoch 90/160\n",
      "42/42 [==============================] - 1s 25ms/step - loss: 0.4088 - accuracy: 0.8110 - val_loss: 0.5279 - val_accuracy: 0.7530 - lr: 1.0000e-05\n",
      "Epoch 91/160\n",
      "42/42 [==============================] - 1s 28ms/step - loss: 0.3985 - accuracy: 0.8171 - val_loss: 0.5278 - val_accuracy: 0.7530 - lr: 1.0000e-05\n",
      "Epoch 92/160\n",
      "42/42 [==============================] - 1s 29ms/step - loss: 0.3981 - accuracy: 0.8224 - val_loss: 0.5280 - val_accuracy: 0.7530 - lr: 1.0000e-05\n",
      "Epoch 93/160\n",
      "42/42 [==============================] - 1s 26ms/step - loss: 0.4107 - accuracy: 0.8186 - val_loss: 0.5280 - val_accuracy: 0.7530 - lr: 1.0000e-05\n",
      "Epoch 94/160\n",
      "42/42 [==============================] - 1s 25ms/step - loss: 0.3997 - accuracy: 0.8216 - val_loss: 0.5280 - val_accuracy: 0.7530 - lr: 1.0000e-05\n",
      "Epoch 95/160\n",
      "42/42 [==============================] - 1s 28ms/step - loss: 0.4079 - accuracy: 0.8239 - val_loss: 0.5280 - val_accuracy: 0.7500 - lr: 1.0000e-05\n",
      "Epoch 96/160\n",
      "42/42 [==============================] - 1s 28ms/step - loss: 0.4015 - accuracy: 0.8330 - val_loss: 0.5281 - val_accuracy: 0.7500 - lr: 1.0000e-05\n",
      "Epoch 97/160\n",
      "42/42 [==============================] - 2s 37ms/step - loss: 0.4068 - accuracy: 0.8231 - val_loss: 0.5281 - val_accuracy: 0.7500 - lr: 1.0000e-05\n",
      "Epoch 98/160\n",
      "42/42 [==============================] - 2s 42ms/step - loss: 0.4100 - accuracy: 0.8133 - val_loss: 0.5280 - val_accuracy: 0.7500 - lr: 1.0000e-05\n",
      "Epoch 99/160\n",
      "42/42 [==============================] - 2s 36ms/step - loss: 0.4024 - accuracy: 0.8193 - val_loss: 0.5281 - val_accuracy: 0.7500 - lr: 1.0000e-05\n",
      "Epoch 100/160\n",
      "42/42 [==============================] - 1s 29ms/step - loss: 0.3976 - accuracy: 0.8231 - val_loss: 0.5282 - val_accuracy: 0.7470 - lr: 1.0000e-05\n",
      "Epoch 101/160\n",
      "42/42 [==============================] - 1s 29ms/step - loss: 0.4020 - accuracy: 0.8201 - val_loss: 0.5281 - val_accuracy: 0.7470 - lr: 1.0000e-05\n",
      "Epoch 102/160\n",
      "42/42 [==============================] - 1s 29ms/step - loss: 0.4045 - accuracy: 0.8118 - val_loss: 0.5282 - val_accuracy: 0.7470 - lr: 1.0000e-05\n",
      "Epoch 103/160\n",
      "42/42 [==============================] - 1s 26ms/step - loss: 0.3940 - accuracy: 0.8246 - val_loss: 0.5284 - val_accuracy: 0.7470 - lr: 1.0000e-05\n",
      "Epoch 104/160\n",
      "42/42 [==============================] - 1s 29ms/step - loss: 0.4033 - accuracy: 0.8246 - val_loss: 0.5284 - val_accuracy: 0.7470 - lr: 1.0000e-05\n",
      "Epoch 105/160\n",
      "42/42 [==============================] - 1s 28ms/step - loss: 0.3937 - accuracy: 0.8239 - val_loss: 0.5285 - val_accuracy: 0.7470 - lr: 1.0000e-05\n",
      "Epoch 106/160\n",
      "42/42 [==============================] - 1s 29ms/step - loss: 0.3965 - accuracy: 0.8277 - val_loss: 0.5286 - val_accuracy: 0.7470 - lr: 1.0000e-05\n",
      "Epoch 107/160\n",
      "42/42 [==============================] - 1s 31ms/step - loss: 0.3989 - accuracy: 0.8284 - val_loss: 0.5287 - val_accuracy: 0.7470 - lr: 1.0000e-05\n",
      "Epoch 108/160\n",
      "42/42 [==============================] - 2s 40ms/step - loss: 0.4104 - accuracy: 0.8193 - val_loss: 0.5288 - val_accuracy: 0.7470 - lr: 1.0000e-05\n",
      "Epoch 109/160\n",
      "42/42 [==============================] - 2s 39ms/step - loss: 0.3960 - accuracy: 0.8171 - val_loss: 0.5288 - val_accuracy: 0.7470 - lr: 1.0000e-05\n",
      "Epoch 110/160\n",
      "42/42 [==============================] - 1s 31ms/step - loss: 0.3995 - accuracy: 0.8299 - val_loss: 0.5289 - val_accuracy: 0.7500 - lr: 1.0000e-05\n",
      "Epoch 111/160\n",
      "42/42 [==============================] - 1s 29ms/step - loss: 0.4015 - accuracy: 0.8178 - val_loss: 0.5290 - val_accuracy: 0.7470 - lr: 1.0000e-05\n",
      "Epoch 112/160\n",
      "42/42 [==============================] - 1s 25ms/step - loss: 0.4071 - accuracy: 0.8193 - val_loss: 0.5289 - val_accuracy: 0.7500 - lr: 1.0000e-05\n",
      "Epoch 113/160\n",
      "42/42 [==============================] - 1s 28ms/step - loss: 0.3984 - accuracy: 0.8269 - val_loss: 0.5290 - val_accuracy: 0.7530 - lr: 1.0000e-05\n",
      "Epoch 114/160\n",
      "42/42 [==============================] - 1s 29ms/step - loss: 0.4023 - accuracy: 0.8262 - val_loss: 0.5293 - val_accuracy: 0.7470 - lr: 1.0000e-05\n",
      "Epoch 115/160\n",
      "42/42 [==============================] - 1s 25ms/step - loss: 0.3944 - accuracy: 0.8299 - val_loss: 0.5293 - val_accuracy: 0.7470 - lr: 1.0000e-05\n",
      "Epoch 116/160\n",
      "42/42 [==============================] - 1s 24ms/step - loss: 0.3957 - accuracy: 0.8284 - val_loss: 0.5293 - val_accuracy: 0.7470 - lr: 1.0000e-05\n",
      "Epoch 117/160\n",
      "42/42 [==============================] - 1s 24ms/step - loss: 0.3995 - accuracy: 0.8262 - val_loss: 0.5294 - val_accuracy: 0.7470 - lr: 1.0000e-05\n",
      "Epoch 118/160\n",
      "42/42 [==============================] - 1s 25ms/step - loss: 0.3915 - accuracy: 0.8299 - val_loss: 0.5295 - val_accuracy: 0.7470 - lr: 1.0000e-05\n",
      "Epoch 119/160\n",
      "42/42 [==============================] - 2s 39ms/step - loss: 0.3936 - accuracy: 0.8262 - val_loss: 0.5297 - val_accuracy: 0.7470 - lr: 1.0000e-05\n",
      "Epoch 120/160\n",
      "42/42 [==============================] - 2s 40ms/step - loss: 0.3958 - accuracy: 0.8224 - val_loss: 0.5298 - val_accuracy: 0.7470 - lr: 1.0000e-05\n",
      "Epoch 121/160\n",
      "42/42 [==============================] - 1s 34ms/step - loss: 0.4029 - accuracy: 0.8246 - val_loss: 0.5299 - val_accuracy: 0.7470 - lr: 1.0000e-05\n",
      "Epoch 122/160\n",
      "42/42 [==============================] - 1s 25ms/step - loss: 0.4055 - accuracy: 0.8269 - val_loss: 0.5299 - val_accuracy: 0.7470 - lr: 1.0000e-05\n",
      "Epoch 123/160\n",
      "42/42 [==============================] - 1s 25ms/step - loss: 0.3852 - accuracy: 0.8322 - val_loss: 0.5301 - val_accuracy: 0.7440 - lr: 1.0000e-05\n",
      "Epoch 124/160\n",
      "42/42 [==============================] - 1s 24ms/step - loss: 0.3915 - accuracy: 0.8352 - val_loss: 0.5302 - val_accuracy: 0.7440 - lr: 1.0000e-05\n",
      "Epoch 125/160\n",
      "42/42 [==============================] - 1s 26ms/step - loss: 0.3981 - accuracy: 0.8254 - val_loss: 0.5303 - val_accuracy: 0.7470 - lr: 1.0000e-05\n",
      "Epoch 126/160\n",
      "42/42 [==============================] - 1s 25ms/step - loss: 0.4024 - accuracy: 0.8292 - val_loss: 0.5305 - val_accuracy: 0.7440 - lr: 1.0000e-05\n",
      "Epoch 127/160\n",
      "42/42 [==============================] - 1s 25ms/step - loss: 0.3937 - accuracy: 0.8360 - val_loss: 0.5306 - val_accuracy: 0.7440 - lr: 1.0000e-05\n",
      "Epoch 128/160\n",
      "42/42 [==============================] - 1s 24ms/step - loss: 0.4005 - accuracy: 0.8209 - val_loss: 0.5307 - val_accuracy: 0.7440 - lr: 1.0000e-05\n",
      "Epoch 129/160\n",
      "42/42 [==============================] - 1s 24ms/step - loss: 0.3988 - accuracy: 0.8284 - val_loss: 0.5307 - val_accuracy: 0.7440 - lr: 1.0000e-05\n",
      "Epoch 130/160\n",
      "42/42 [==============================] - 1s 28ms/step - loss: 0.4027 - accuracy: 0.8141 - val_loss: 0.5308 - val_accuracy: 0.7440 - lr: 1.0000e-05\n",
      "Epoch 131/160\n",
      "42/42 [==============================] - 2s 42ms/step - loss: 0.3927 - accuracy: 0.8360 - val_loss: 0.5309 - val_accuracy: 0.7440 - lr: 1.0000e-05\n",
      "Epoch 132/160\n",
      "42/42 [==============================] - 2s 39ms/step - loss: 0.3931 - accuracy: 0.8314 - val_loss: 0.5310 - val_accuracy: 0.7470 - lr: 1.0000e-05\n",
      "Epoch 133/160\n",
      "42/42 [==============================] - 1s 31ms/step - loss: 0.3940 - accuracy: 0.8299 - val_loss: 0.5312 - val_accuracy: 0.7470 - lr: 1.0000e-05\n",
      "Epoch 134/160\n",
      "42/42 [==============================] - 1s 28ms/step - loss: 0.3817 - accuracy: 0.8360 - val_loss: 0.5313 - val_accuracy: 0.7470 - lr: 1.0000e-05\n",
      "Epoch 135/160\n",
      "42/42 [==============================] - 1s 28ms/step - loss: 0.3966 - accuracy: 0.8284 - val_loss: 0.5316 - val_accuracy: 0.7470 - lr: 1.0000e-05\n",
      "Epoch 136/160\n",
      "42/42 [==============================] - 1s 29ms/step - loss: 0.3994 - accuracy: 0.8216 - val_loss: 0.5316 - val_accuracy: 0.7470 - lr: 1.0000e-05\n",
      "Epoch 137/160\n",
      "42/42 [==============================] - 1s 24ms/step - loss: 0.3924 - accuracy: 0.8307 - val_loss: 0.5317 - val_accuracy: 0.7470 - lr: 1.0000e-05\n",
      "Epoch 138/160\n",
      "42/42 [==============================] - 1s 24ms/step - loss: 0.3896 - accuracy: 0.8375 - val_loss: 0.5318 - val_accuracy: 0.7440 - lr: 1.0000e-05\n",
      "Epoch 139/160\n",
      "42/42 [==============================] - 1s 24ms/step - loss: 0.3890 - accuracy: 0.8284 - val_loss: 0.5318 - val_accuracy: 0.7410 - lr: 1.0000e-05\n",
      "Epoch 140/160\n",
      "42/42 [==============================] - 1s 25ms/step - loss: 0.3956 - accuracy: 0.8284 - val_loss: 0.5320 - val_accuracy: 0.7410 - lr: 1.0000e-05\n",
      "Epoch 141/160\n",
      "42/42 [==============================] - 1s 24ms/step - loss: 0.3839 - accuracy: 0.8345 - val_loss: 0.5321 - val_accuracy: 0.7440 - lr: 1.0000e-05\n",
      "Epoch 142/160\n",
      "42/42 [==============================] - 2s 36ms/step - loss: 0.3930 - accuracy: 0.8231 - val_loss: 0.5321 - val_accuracy: 0.7410 - lr: 1.0000e-05\n",
      "Epoch 143/160\n",
      "42/42 [==============================] - 2s 42ms/step - loss: 0.3902 - accuracy: 0.8277 - val_loss: 0.5323 - val_accuracy: 0.7440 - lr: 1.0000e-05\n",
      "Epoch 144/160\n",
      "42/42 [==============================] - 1s 34ms/step - loss: 0.3876 - accuracy: 0.8254 - val_loss: 0.5325 - val_accuracy: 0.7440 - lr: 1.0000e-05\n",
      "Epoch 145/160\n",
      "42/42 [==============================] - 1s 29ms/step - loss: 0.3952 - accuracy: 0.8277 - val_loss: 0.5326 - val_accuracy: 0.7440 - lr: 1.0000e-05\n",
      "Epoch 146/160\n",
      "42/42 [==============================] - 1s 25ms/step - loss: 0.3898 - accuracy: 0.8314 - val_loss: 0.5326 - val_accuracy: 0.7440 - lr: 1.0000e-05\n",
      "Epoch 147/160\n",
      "42/42 [==============================] - 1s 26ms/step - loss: 0.3919 - accuracy: 0.8337 - val_loss: 0.5328 - val_accuracy: 0.7440 - lr: 1.0000e-05\n",
      "Epoch 148/160\n",
      "42/42 [==============================] - 1s 28ms/step - loss: 0.3942 - accuracy: 0.8262 - val_loss: 0.5329 - val_accuracy: 0.7470 - lr: 1.0000e-05\n",
      "Epoch 149/160\n",
      "42/42 [==============================] - 1s 28ms/step - loss: 0.3919 - accuracy: 0.8292 - val_loss: 0.5330 - val_accuracy: 0.7470 - lr: 1.0000e-05\n",
      "Epoch 150/160\n",
      "42/42 [==============================] - 1s 25ms/step - loss: 0.3970 - accuracy: 0.8269 - val_loss: 0.5331 - val_accuracy: 0.7410 - lr: 1.0000e-05\n",
      "Epoch 151/160\n",
      "42/42 [==============================] - 1s 25ms/step - loss: 0.3910 - accuracy: 0.8277 - val_loss: 0.5332 - val_accuracy: 0.7470 - lr: 1.0000e-05\n",
      "Epoch 152/160\n",
      "42/42 [==============================] - 1s 25ms/step - loss: 0.4056 - accuracy: 0.8284 - val_loss: 0.5332 - val_accuracy: 0.7440 - lr: 1.0000e-05\n",
      "Epoch 153/160\n",
      "42/42 [==============================] - 1s 30ms/step - loss: 0.3905 - accuracy: 0.8307 - val_loss: 0.5332 - val_accuracy: 0.7440 - lr: 1.0000e-05\n",
      "Epoch 154/160\n",
      "42/42 [==============================] - 2s 40ms/step - loss: 0.3904 - accuracy: 0.8254 - val_loss: 0.5333 - val_accuracy: 0.7470 - lr: 1.0000e-05\n",
      "Epoch 155/160\n",
      "42/42 [==============================] - 2s 39ms/step - loss: 0.3923 - accuracy: 0.8337 - val_loss: 0.5335 - val_accuracy: 0.7500 - lr: 1.0000e-05\n",
      "Epoch 156/160\n",
      "42/42 [==============================] - 1s 28ms/step - loss: 0.3941 - accuracy: 0.8352 - val_loss: 0.5336 - val_accuracy: 0.7500 - lr: 1.0000e-05\n",
      "Epoch 157/160\n",
      "42/42 [==============================] - 1s 29ms/step - loss: 0.3879 - accuracy: 0.8269 - val_loss: 0.5337 - val_accuracy: 0.7470 - lr: 1.0000e-05\n",
      "Epoch 158/160\n",
      "42/42 [==============================] - 1s 25ms/step - loss: 0.3938 - accuracy: 0.8345 - val_loss: 0.5337 - val_accuracy: 0.7470 - lr: 1.0000e-05\n",
      "Epoch 159/160\n",
      "42/42 [==============================] - 1s 28ms/step - loss: 0.4001 - accuracy: 0.8216 - val_loss: 0.5338 - val_accuracy: 0.7470 - lr: 1.0000e-05\n",
      "Epoch 160/160\n",
      "42/42 [==============================] - 1s 26ms/step - loss: 0.3939 - accuracy: 0.8178 - val_loss: 0.5339 - val_accuracy: 0.7500 - lr: 1.0000e-05\n"
     ]
    }
   ],
   "source": [
    "best_model = build_model_with_hp(\n",
    "    lstm_units = lstm_units,\n",
    "    l1_units = l1_units,\n",
    "    l2_units = l2_units,\n",
    "    l3_units = l3_units,\n",
    "    l2_value = l2_value,\n",
    "    dropout_rate = dropout_rate,\n",
    "    learning_rate = learning_rate,\n",
    "    epsilon = epsilon,\n",
    "    clipnorm = clipnorm\n",
    ")\n",
    "\n",
    "print(f'Training model with {tfhub_handle_encoder}')\n",
    "history = best_model.fit(\n",
    "    x = train[\"comment_text\"],\n",
    "    y = train[\"conspiratorial\"],\n",
    "    epochs=160,\n",
    "    validation_data = (val[\"comment_text\"], val[\"conspiratorial\"]),\n",
    "    batch_size = 32,\n",
    "    callbacks= [\n",
    "      reduce_lr\n",
    "    ]\n",
    ")\n"
   ]
  },
  {
   "cell_type": "code",
   "execution_count": 15,
   "id": "bH9wezNce8oX",
   "metadata": {
    "colab": {
     "base_uri": "https://localhost:8080/",
     "height": 927
    },
    "id": "bH9wezNce8oX",
    "outputId": "9602a3c4-ad80-4d31-9332-8d3953098b83"
   },
   "outputs": [
    {
     "data": {
      "image/png": "[encoded data removed]",
      "text/plain": [
       "<Figure size 640x480 with 1 Axes>"
      ]
     },
     "metadata": {},
     "output_type": "display_data"
    },
    {
     "data": {
      "image/png": "[encoded data removed]",
      "text/plain": [
       "<Figure size 640x480 with 1 Axes>"
      ]
     },
     "metadata": {},
     "output_type": "display_data"
    }
   ],
   "source": [
    "utils.plot_history(history)"
   ]
  },
  {
   "cell_type": "markdown",
   "id": "fNSULGiPvb4N",
   "metadata": {
    "id": "fNSULGiPvb4N"
   },
   "source": [
    "## Retrain on training and validation"
   ]
  },
  {
   "cell_type": "markdown",
   "id": "0TBchWKt0rQA",
   "metadata": {
    "id": "0TBchWKt0rQA"
   },
   "source": [
    "Before testing our model, we retrain it on training and validation set using the best hyperparams found by the random search"
   ]
  },
  {
   "cell_type": "code",
   "execution_count": 16,
   "id": "sD6gFZqHve4a",
   "metadata": {
    "id": "sD6gFZqHve4a"
   },
   "outputs": [],
   "source": [
    "final_model = build_model_with_hp(\n",
    "    lstm_units = lstm_units,\n",
    "    l1_units = l1_units,\n",
    "    l2_units = l2_units,\n",
    "    l3_units = l3_units,\n",
    "    l2_value = l2_value,\n",
    "    dropout_rate = dropout_rate,\n",
    "    learning_rate = learning_rate,\n",
    "    epsilon = epsilon,\n",
    "    clipnorm = clipnorm\n",
    ")\n",
    "\n",
    "max_epochs = 40"
   ]
  },
  {
   "cell_type": "code",
   "execution_count": 17,
   "id": "XlHncSAHwGhp",
   "metadata": {
    "colab": {
     "base_uri": "https://localhost:8080/"
    },
    "id": "XlHncSAHwGhp",
    "outputId": "39c6b3e5-12e8-4168-f8c6-2833d0d5cb1a"
   },
   "outputs": [
    {
     "name": "stdout",
     "output_type": "stream",
     "text": [
      "Training model with https://tfhub.dev/google/universal-sentence-encoder-multilingual/3\n",
      "Epoch 1/40\n",
      "52/52 [==============================] - 16s 21ms/step - loss: 0.6930 - accuracy: 0.5021\n",
      "Epoch 2/40\n",
      "52/52 [==============================] - 1s 20ms/step - loss: 0.6919 - accuracy: 0.5166\n",
      "Epoch 3/40\n",
      "52/52 [==============================] - 1s 20ms/step - loss: 0.6899 - accuracy: 0.5251\n",
      "Epoch 4/40\n",
      "52/52 [==============================] - 1s 20ms/step - loss: 0.6864 - accuracy: 0.5891\n",
      "Epoch 5/40\n",
      "52/52 [==============================] - 1s 19ms/step - loss: 0.6816 - accuracy: 0.6375\n",
      "Epoch 6/40\n",
      "52/52 [==============================] - 1s 20ms/step - loss: 0.6738 - accuracy: 0.6556\n",
      "Epoch 7/40\n",
      "52/52 [==============================] - 1s 20ms/step - loss: 0.6640 - accuracy: 0.6689\n",
      "Epoch 8/40\n",
      "52/52 [==============================] - 1s 20ms/step - loss: 0.6524 - accuracy: 0.6882\n",
      "Epoch 9/40\n",
      "52/52 [==============================] - 1s 19ms/step - loss: 0.6387 - accuracy: 0.7051\n",
      "Epoch 10/40\n",
      "52/52 [==============================] - 1s 26ms/step - loss: 0.6240 - accuracy: 0.7136\n",
      "Epoch 11/40\n",
      "52/52 [==============================] - 2s 31ms/step - loss: 0.6081 - accuracy: 0.7257\n",
      "Epoch 12/40\n",
      "52/52 [==============================] - 2s 30ms/step - loss: 0.5963 - accuracy: 0.7360\n",
      "Epoch 13/40\n",
      "52/52 [==============================] - 1s 20ms/step - loss: 0.5821 - accuracy: 0.7462\n",
      "Epoch 14/40\n",
      "52/52 [==============================] - 1s 19ms/step - loss: 0.5677 - accuracy: 0.7498\n",
      "Epoch 15/40\n",
      "52/52 [==============================] - 1s 20ms/step - loss: 0.5499 - accuracy: 0.7637\n",
      "Epoch 16/40\n",
      "52/52 [==============================] - 1s 21ms/step - loss: 0.5389 - accuracy: 0.7692\n",
      "Epoch 17/40\n",
      "52/52 [==============================] - 1s 19ms/step - loss: 0.5221 - accuracy: 0.7710\n",
      "Epoch 18/40\n",
      "52/52 [==============================] - 1s 20ms/step - loss: 0.5107 - accuracy: 0.7722\n",
      "Epoch 19/40\n",
      "52/52 [==============================] - 1s 20ms/step - loss: 0.5045 - accuracy: 0.7746\n",
      "Epoch 20/40\n",
      "52/52 [==============================] - 1s 19ms/step - loss: 0.4922 - accuracy: 0.7716\n",
      "Epoch 21/40\n",
      "52/52 [==============================] - 1s 20ms/step - loss: 0.4771 - accuracy: 0.7795\n",
      "Epoch 22/40\n",
      "52/52 [==============================] - 1s 25ms/step - loss: 0.4767 - accuracy: 0.7819\n",
      "Epoch 23/40\n",
      "52/52 [==============================] - 2s 32ms/step - loss: 0.4700 - accuracy: 0.7740\n",
      "Epoch 24/40\n",
      "52/52 [==============================] - 2s 30ms/step - loss: 0.4616 - accuracy: 0.7867\n",
      "Epoch 25/40\n",
      "52/52 [==============================] - 1s 19ms/step - loss: 0.4564 - accuracy: 0.7837\n",
      "Epoch 26/40\n",
      "52/52 [==============================] - 1s 19ms/step - loss: 0.4566 - accuracy: 0.7934\n",
      "Epoch 27/40\n",
      "52/52 [==============================] - 1s 19ms/step - loss: 0.4533 - accuracy: 0.8006\n",
      "Epoch 28/40\n",
      "52/52 [==============================] - 1s 19ms/step - loss: 0.4390 - accuracy: 0.8097\n",
      "Epoch 29/40\n",
      "52/52 [==============================] - 1s 20ms/step - loss: 0.4456 - accuracy: 0.7934\n",
      "Epoch 30/40\n",
      "52/52 [==============================] - 1s 20ms/step - loss: 0.4427 - accuracy: 0.8073\n",
      "Epoch 31/40\n",
      "52/52 [==============================] - 1s 20ms/step - loss: 0.4390 - accuracy: 0.7946\n",
      "Epoch 32/40\n",
      "52/52 [==============================] - 1s 20ms/step - loss: 0.4443 - accuracy: 0.8054\n",
      "Epoch 33/40\n",
      "52/52 [==============================] - 1s 19ms/step - loss: 0.4497 - accuracy: 0.7946\n",
      "Epoch 34/40\n",
      "52/52 [==============================] - 1s 25ms/step - loss: 0.4365 - accuracy: 0.8030\n",
      "Epoch 35/40\n",
      "52/52 [==============================] - 2s 31ms/step - loss: 0.4304 - accuracy: 0.8115\n",
      "Epoch 36/40\n",
      "52/52 [==============================] - 2s 31ms/step - loss: 0.4260 - accuracy: 0.8073\n",
      "Epoch 37/40\n",
      "52/52 [==============================] - 1s 20ms/step - loss: 0.4252 - accuracy: 0.8157\n",
      "Epoch 38/40\n",
      "52/52 [==============================] - 1s 19ms/step - loss: 0.4293 - accuracy: 0.8121\n",
      "Epoch 39/40\n",
      "52/52 [==============================] - 1s 20ms/step - loss: 0.4288 - accuracy: 0.8054\n",
      "Epoch 40/40\n",
      "52/52 [==============================] - 1s 19ms/step - loss: 0.4219 - accuracy: 0.8054\n",
      "CPU times: user 57.5 s, sys: 2.64 s, total: 1min\n",
      "Wall time: 1min\n"
     ]
    }
   ],
   "source": [
    "%%time\n",
    "print(f'Training model with {tfhub_handle_encoder}')\n",
    "history = final_model.fit(\n",
    "    x = trainval[\"comment_text\"],\n",
    "    y = trainval[\"conspiratorial\"],\n",
    "    epochs=max_epochs,\n",
    "    batch_size = 32,\n",
    ")\n"
   ]
  },
  {
   "cell_type": "code",
   "execution_count": 18,
   "id": "t7PUXtHYCVHL",
   "metadata": {
    "colab": {
     "base_uri": "https://localhost:8080/"
    },
    "id": "t7PUXtHYCVHL",
    "outputId": "97bf9332-7c5a-404c-821d-c7ae15a78c75"
   },
   "outputs": [
    {
     "name": "stdout",
     "output_type": "stream",
     "text": [
      "Model: \"model_2\"\n",
      "_________________________________________________________________\n",
      " Layer (type)                Output Shape              Param #   \n",
      "=================================================================\n",
      " text (InputLayer)           [(None,)]                 0         \n",
      "                                                                 \n",
      " text_encoder (KerasLayer)   (None, 512)               68927232  \n",
      "                                                                 \n",
      " tf.expand_dims_2 (TFOpLambd  (None, 1, 512)           0         \n",
      " a)                                                              \n",
      "                                                                 \n",
      " LSTM_layer (LSTM)           (None, 8)                 16672     \n",
      "                                                                 \n",
      " Dense_layer_1 (Dense)       (None, 40)                360       \n",
      "                                                                 \n",
      " dropout_6 (Dropout)         (None, 40)                0         \n",
      "                                                                 \n",
      " Dense_layer_2 (Dense)       (None, 40)                1640      \n",
      "                                                                 \n",
      " dropout_7 (Dropout)         (None, 40)                0         \n",
      "                                                                 \n",
      " Dense_layer_3 (Dense)       (None, 15)                615       \n",
      "                                                                 \n",
      " dropout_8 (Dropout)         (None, 15)                0         \n",
      "                                                                 \n",
      " classifier (Dense)          (None, 1)                 16        \n",
      "                                                                 \n",
      "=================================================================\n",
      "Total params: 68,946,535\n",
      "Trainable params: 19,303\n",
      "Non-trainable params: 68,927,232\n",
      "_________________________________________________________________\n"
     ]
    }
   ],
   "source": [
    "final_model.summary()"
   ]
  },
  {
   "cell_type": "markdown",
   "id": "Sqg5olB_wryB",
   "metadata": {
    "id": "Sqg5olB_wryB"
   },
   "source": [
    "## Predict on test set"
   ]
  },
  {
   "cell_type": "code",
   "execution_count": 19,
   "id": "PGYUmYvNwvJ-",
   "metadata": {
    "colab": {
     "base_uri": "https://localhost:8080/"
    },
    "id": "PGYUmYvNwvJ-",
    "outputId": "2a074c41-89e8-4e13-929a-f334e97cf386"
   },
   "outputs": [
    {
     "name": "stdout",
     "output_type": "stream",
     "text": [
      "6/6 [==============================] - 1s 22ms/step - loss: 0.4386 - accuracy: 0.8108\n"
     ]
    }
   ],
   "source": [
    "_ = final_model.evaluate(\n",
    "    x=test[\"comment_text\"],\n",
    "    y=test[\"conspiratorial\"],\n",
    "    batch_size=32\n",
    ")"
   ]
  },
  {
   "cell_type": "code",
   "execution_count": 20,
   "id": "sYjxSxoYxDoE",
   "metadata": {
    "colab": {
     "base_uri": "https://localhost:8080/",
     "height": 484
    },
    "id": "sYjxSxoYxDoE",
    "outputId": "7db48db6-c2d0-4310-ba70-d2d3bca05f90"
   },
   "outputs": [
    {
     "name": "stdout",
     "output_type": "stream",
     "text": [
      "6/6 [==============================] - 3s 20ms/step\n"
     ]
    },
    {
     "data": {
      "text/plain": [
       "<sklearn.metrics._plot.confusion_matrix.ConfusionMatrixDisplay at 0x7f6eb01507f0>"
      ]
     },
     "execution_count": 20,
     "metadata": {},
     "output_type": "execute_result"
    },
    {
     "data": {
      "image/png": "[encoded data removed]",
      "text/plain": [
       "<Figure size 640x480 with 2 Axes>"
      ]
     },
     "metadata": {},
     "output_type": "display_data"
    }
   ],
   "source": [
    "predictions = final_model.predict(x=test[\"comment_text\"])\n",
    "predictions = list(map(round, [ _[0] for _ in predictions]))\n",
    "\n",
    "cm = confusion_matrix(test[\"conspiratorial\"], predictions)\n",
    "disp = ConfusionMatrixDisplay(confusion_matrix=cm, display_labels=[\"Non conspiratorial\", \"conspiratorial\"])\n",
    "disp.plot()"
   ]
  },
  {
   "cell_type": "code",
   "execution_count": null,
   "id": "qceeZIu29R9h",
   "metadata": {
    "id": "qceeZIu29R9h"
   },
   "outputs": [],
   "source": []
  }
 ],
 "metadata": {
  "accelerator": "GPU",
  "colab": {
   "gpuType": "T4",
   "provenance": []
  },
  "kernelspec": {
   "display_name": "Python 3 (ipykernel)",
   "language": "python",
   "name": "python3"
  },
  "language_info": {
   "codemirror_mode": {
    "name": "ipython",
    "version": 3
   },
   "file_extension": ".py",
   "mimetype": "text/x-python",
   "name": "python",
   "nbconvert_exporter": "python",
   "pygments_lexer": "ipython3",
   "version": "3.10.6"
  }
 },
 "nbformat": 4,
 "nbformat_minor": 5
}
