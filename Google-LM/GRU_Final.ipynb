{
  "cells": [
    {
      "cell_type": "code",
      "source": [
        "!pip install transformers\n",
        "!pip install keras_tuner\n",
        "!pip install tensorflow_text"
      ],
      "metadata": {
        "colab": {
          "base_uri": "https://localhost:8080/"
        },
        "id": "ISevNR3ePivs",
        "outputId": "8e4846bd-c66f-41aa-b3a1-f686dc7930d7"
      },
      "id": "ISevNR3ePivs",
      "execution_count": 1,
      "outputs": [
        {
          "output_type": "stream",
          "name": "stdout",
          "text": [
            "Looking in indexes: https://pypi.org/simple, https://us-python.pkg.dev/colab-wheels/public/simple/\n",
            "Requirement already satisfied: transformers in /usr/local/lib/python3.10/dist-packages (4.30.2)\n",
            "Requirement already satisfied: filelock in /usr/local/lib/python3.10/dist-packages (from transformers) (3.12.0)\n",
            "Requirement already satisfied: huggingface-hub<1.0,>=0.14.1 in /usr/local/lib/python3.10/dist-packages (from transformers) (0.15.1)\n",
            "Requirement already satisfied: numpy>=1.17 in /usr/local/lib/python3.10/dist-packages (from transformers) (1.22.4)\n",
            "Requirement already satisfied: packaging>=20.0 in /usr/local/lib/python3.10/dist-packages (from transformers) (23.1)\n",
            "Requirement already satisfied: pyyaml>=5.1 in /usr/local/lib/python3.10/dist-packages (from transformers) (6.0)\n",
            "Requirement already satisfied: regex!=2019.12.17 in /usr/local/lib/python3.10/dist-packages (from transformers) (2022.10.31)\n",
            "Requirement already satisfied: requests in /usr/local/lib/python3.10/dist-packages (from transformers) (2.27.1)\n",
            "Requirement already satisfied: tokenizers!=0.11.3,<0.14,>=0.11.1 in /usr/local/lib/python3.10/dist-packages (from transformers) (0.13.3)\n",
            "Requirement already satisfied: safetensors>=0.3.1 in /usr/local/lib/python3.10/dist-packages (from transformers) (0.3.1)\n",
            "Requirement already satisfied: tqdm>=4.27 in /usr/local/lib/python3.10/dist-packages (from transformers) (4.65.0)\n",
            "Requirement already satisfied: fsspec in /usr/local/lib/python3.10/dist-packages (from huggingface-hub<1.0,>=0.14.1->transformers) (2023.4.0)\n",
            "Requirement already satisfied: typing-extensions>=3.7.4.3 in /usr/local/lib/python3.10/dist-packages (from huggingface-hub<1.0,>=0.14.1->transformers) (4.5.0)\n",
            "Requirement already satisfied: urllib3<1.27,>=1.21.1 in /usr/local/lib/python3.10/dist-packages (from requests->transformers) (1.26.15)\n",
            "Requirement already satisfied: certifi>=2017.4.17 in /usr/local/lib/python3.10/dist-packages (from requests->transformers) (2022.12.7)\n",
            "Requirement already satisfied: charset-normalizer~=2.0.0 in /usr/local/lib/python3.10/dist-packages (from requests->transformers) (2.0.12)\n",
            "Requirement already satisfied: idna<4,>=2.5 in /usr/local/lib/python3.10/dist-packages (from requests->transformers) (3.4)\n",
            "Looking in indexes: https://pypi.org/simple, https://us-python.pkg.dev/colab-wheels/public/simple/\n",
            "Requirement already satisfied: keras_tuner in /usr/local/lib/python3.10/dist-packages (1.3.5)\n",
            "Requirement already satisfied: packaging in /usr/local/lib/python3.10/dist-packages (from keras_tuner) (23.1)\n",
            "Requirement already satisfied: requests in /usr/local/lib/python3.10/dist-packages (from keras_tuner) (2.27.1)\n",
            "Requirement already satisfied: kt-legacy in /usr/local/lib/python3.10/dist-packages (from keras_tuner) (1.0.5)\n",
            "Requirement already satisfied: urllib3<1.27,>=1.21.1 in /usr/local/lib/python3.10/dist-packages (from requests->keras_tuner) (1.26.15)\n",
            "Requirement already satisfied: certifi>=2017.4.17 in /usr/local/lib/python3.10/dist-packages (from requests->keras_tuner) (2022.12.7)\n",
            "Requirement already satisfied: charset-normalizer~=2.0.0 in /usr/local/lib/python3.10/dist-packages (from requests->keras_tuner) (2.0.12)\n",
            "Requirement already satisfied: idna<4,>=2.5 in /usr/local/lib/python3.10/dist-packages (from requests->keras_tuner) (3.4)\n",
            "Looking in indexes: https://pypi.org/simple, https://us-python.pkg.dev/colab-wheels/public/simple/\n",
            "Requirement already satisfied: tensorflow_text in /usr/local/lib/python3.10/dist-packages (2.12.1)\n",
            "Requirement already satisfied: tensorflow-hub>=0.8.0 in /usr/local/lib/python3.10/dist-packages (from tensorflow_text) (0.13.0)\n",
            "Requirement already satisfied: tensorflow<2.13,>=2.12.0 in /usr/local/lib/python3.10/dist-packages (from tensorflow_text) (2.12.0)\n",
            "Requirement already satisfied: absl-py>=1.0.0 in /usr/local/lib/python3.10/dist-packages (from tensorflow<2.13,>=2.12.0->tensorflow_text) (1.4.0)\n",
            "Requirement already satisfied: astunparse>=1.6.0 in /usr/local/lib/python3.10/dist-packages (from tensorflow<2.13,>=2.12.0->tensorflow_text) (1.6.3)\n",
            "Requirement already satisfied: flatbuffers>=2.0 in /usr/local/lib/python3.10/dist-packages (from tensorflow<2.13,>=2.12.0->tensorflow_text) (23.3.3)\n",
            "Requirement already satisfied: gast<=0.4.0,>=0.2.1 in /usr/local/lib/python3.10/dist-packages (from tensorflow<2.13,>=2.12.0->tensorflow_text) (0.4.0)\n",
            "Requirement already satisfied: google-pasta>=0.1.1 in /usr/local/lib/python3.10/dist-packages (from tensorflow<2.13,>=2.12.0->tensorflow_text) (0.2.0)\n",
            "Requirement already satisfied: grpcio<2.0,>=1.24.3 in /usr/local/lib/python3.10/dist-packages (from tensorflow<2.13,>=2.12.0->tensorflow_text) (1.54.0)\n",
            "Requirement already satisfied: h5py>=2.9.0 in /usr/local/lib/python3.10/dist-packages (from tensorflow<2.13,>=2.12.0->tensorflow_text) (3.8.0)\n",
            "Requirement already satisfied: jax>=0.3.15 in /usr/local/lib/python3.10/dist-packages (from tensorflow<2.13,>=2.12.0->tensorflow_text) (0.4.10)\n",
            "Requirement already satisfied: keras<2.13,>=2.12.0 in /usr/local/lib/python3.10/dist-packages (from tensorflow<2.13,>=2.12.0->tensorflow_text) (2.12.0)\n",
            "Requirement already satisfied: libclang>=13.0.0 in /usr/local/lib/python3.10/dist-packages (from tensorflow<2.13,>=2.12.0->tensorflow_text) (16.0.0)\n",
            "Requirement already satisfied: numpy<1.24,>=1.22 in /usr/local/lib/python3.10/dist-packages (from tensorflow<2.13,>=2.12.0->tensorflow_text) (1.22.4)\n",
            "Requirement already satisfied: opt-einsum>=2.3.2 in /usr/local/lib/python3.10/dist-packages (from tensorflow<2.13,>=2.12.0->tensorflow_text) (3.3.0)\n",
            "Requirement already satisfied: packaging in /usr/local/lib/python3.10/dist-packages (from tensorflow<2.13,>=2.12.0->tensorflow_text) (23.1)\n",
            "Requirement already satisfied: protobuf!=4.21.0,!=4.21.1,!=4.21.2,!=4.21.3,!=4.21.4,!=4.21.5,<5.0.0dev,>=3.20.3 in /usr/local/lib/python3.10/dist-packages (from tensorflow<2.13,>=2.12.0->tensorflow_text) (3.20.3)\n",
            "Requirement already satisfied: setuptools in /usr/local/lib/python3.10/dist-packages (from tensorflow<2.13,>=2.12.0->tensorflow_text) (67.7.2)\n",
            "Requirement already satisfied: six>=1.12.0 in /usr/local/lib/python3.10/dist-packages (from tensorflow<2.13,>=2.12.0->tensorflow_text) (1.16.0)\n",
            "Requirement already satisfied: tensorboard<2.13,>=2.12 in /usr/local/lib/python3.10/dist-packages (from tensorflow<2.13,>=2.12.0->tensorflow_text) (2.12.2)\n",
            "Requirement already satisfied: tensorflow-estimator<2.13,>=2.12.0 in /usr/local/lib/python3.10/dist-packages (from tensorflow<2.13,>=2.12.0->tensorflow_text) (2.12.0)\n",
            "Requirement already satisfied: termcolor>=1.1.0 in /usr/local/lib/python3.10/dist-packages (from tensorflow<2.13,>=2.12.0->tensorflow_text) (2.3.0)\n",
            "Requirement already satisfied: typing-extensions>=3.6.6 in /usr/local/lib/python3.10/dist-packages (from tensorflow<2.13,>=2.12.0->tensorflow_text) (4.5.0)\n",
            "Requirement already satisfied: wrapt<1.15,>=1.11.0 in /usr/local/lib/python3.10/dist-packages (from tensorflow<2.13,>=2.12.0->tensorflow_text) (1.14.1)\n",
            "Requirement already satisfied: tensorflow-io-gcs-filesystem>=0.23.1 in /usr/local/lib/python3.10/dist-packages (from tensorflow<2.13,>=2.12.0->tensorflow_text) (0.32.0)\n",
            "Requirement already satisfied: wheel<1.0,>=0.23.0 in /usr/local/lib/python3.10/dist-packages (from astunparse>=1.6.0->tensorflow<2.13,>=2.12.0->tensorflow_text) (0.40.0)\n",
            "Requirement already satisfied: ml-dtypes>=0.1.0 in /usr/local/lib/python3.10/dist-packages (from jax>=0.3.15->tensorflow<2.13,>=2.12.0->tensorflow_text) (0.1.0)\n",
            "Requirement already satisfied: scipy>=1.7 in /usr/local/lib/python3.10/dist-packages (from jax>=0.3.15->tensorflow<2.13,>=2.12.0->tensorflow_text) (1.10.1)\n",
            "Requirement already satisfied: google-auth<3,>=1.6.3 in /usr/local/lib/python3.10/dist-packages (from tensorboard<2.13,>=2.12->tensorflow<2.13,>=2.12.0->tensorflow_text) (2.17.3)\n",
            "Requirement already satisfied: google-auth-oauthlib<1.1,>=0.5 in /usr/local/lib/python3.10/dist-packages (from tensorboard<2.13,>=2.12->tensorflow<2.13,>=2.12.0->tensorflow_text) (1.0.0)\n",
            "Requirement already satisfied: markdown>=2.6.8 in /usr/local/lib/python3.10/dist-packages (from tensorboard<2.13,>=2.12->tensorflow<2.13,>=2.12.0->tensorflow_text) (3.4.3)\n",
            "Requirement already satisfied: requests<3,>=2.21.0 in /usr/local/lib/python3.10/dist-packages (from tensorboard<2.13,>=2.12->tensorflow<2.13,>=2.12.0->tensorflow_text) (2.27.1)\n",
            "Requirement already satisfied: tensorboard-data-server<0.8.0,>=0.7.0 in /usr/local/lib/python3.10/dist-packages (from tensorboard<2.13,>=2.12->tensorflow<2.13,>=2.12.0->tensorflow_text) (0.7.0)\n",
            "Requirement already satisfied: tensorboard-plugin-wit>=1.6.0 in /usr/local/lib/python3.10/dist-packages (from tensorboard<2.13,>=2.12->tensorflow<2.13,>=2.12.0->tensorflow_text) (1.8.1)\n",
            "Requirement already satisfied: werkzeug>=1.0.1 in /usr/local/lib/python3.10/dist-packages (from tensorboard<2.13,>=2.12->tensorflow<2.13,>=2.12.0->tensorflow_text) (2.3.0)\n",
            "Requirement already satisfied: cachetools<6.0,>=2.0.0 in /usr/local/lib/python3.10/dist-packages (from google-auth<3,>=1.6.3->tensorboard<2.13,>=2.12->tensorflow<2.13,>=2.12.0->tensorflow_text) (5.3.0)\n",
            "Requirement already satisfied: pyasn1-modules>=0.2.1 in /usr/local/lib/python3.10/dist-packages (from google-auth<3,>=1.6.3->tensorboard<2.13,>=2.12->tensorflow<2.13,>=2.12.0->tensorflow_text) (0.3.0)\n",
            "Requirement already satisfied: rsa<5,>=3.1.4 in /usr/local/lib/python3.10/dist-packages (from google-auth<3,>=1.6.3->tensorboard<2.13,>=2.12->tensorflow<2.13,>=2.12.0->tensorflow_text) (4.9)\n",
            "Requirement already satisfied: requests-oauthlib>=0.7.0 in /usr/local/lib/python3.10/dist-packages (from google-auth-oauthlib<1.1,>=0.5->tensorboard<2.13,>=2.12->tensorflow<2.13,>=2.12.0->tensorflow_text) (1.3.1)\n",
            "Requirement already satisfied: urllib3<1.27,>=1.21.1 in /usr/local/lib/python3.10/dist-packages (from requests<3,>=2.21.0->tensorboard<2.13,>=2.12->tensorflow<2.13,>=2.12.0->tensorflow_text) (1.26.15)\n",
            "Requirement already satisfied: certifi>=2017.4.17 in /usr/local/lib/python3.10/dist-packages (from requests<3,>=2.21.0->tensorboard<2.13,>=2.12->tensorflow<2.13,>=2.12.0->tensorflow_text) (2022.12.7)\n",
            "Requirement already satisfied: charset-normalizer~=2.0.0 in /usr/local/lib/python3.10/dist-packages (from requests<3,>=2.21.0->tensorboard<2.13,>=2.12->tensorflow<2.13,>=2.12.0->tensorflow_text) (2.0.12)\n",
            "Requirement already satisfied: idna<4,>=2.5 in /usr/local/lib/python3.10/dist-packages (from requests<3,>=2.21.0->tensorboard<2.13,>=2.12->tensorflow<2.13,>=2.12.0->tensorflow_text) (3.4)\n",
            "Requirement already satisfied: MarkupSafe>=2.1.1 in /usr/local/lib/python3.10/dist-packages (from werkzeug>=1.0.1->tensorboard<2.13,>=2.12->tensorflow<2.13,>=2.12.0->tensorflow_text) (2.1.2)\n",
            "Requirement already satisfied: pyasn1<0.6.0,>=0.4.6 in /usr/local/lib/python3.10/dist-packages (from pyasn1-modules>=0.2.1->google-auth<3,>=1.6.3->tensorboard<2.13,>=2.12->tensorflow<2.13,>=2.12.0->tensorflow_text) (0.5.0)\n",
            "Requirement already satisfied: oauthlib>=3.0.0 in /usr/local/lib/python3.10/dist-packages (from requests-oauthlib>=0.7.0->google-auth-oauthlib<1.1,>=0.5->tensorboard<2.13,>=2.12->tensorflow<2.13,>=2.12.0->tensorflow_text) (3.2.2)\n"
          ]
        }
      ]
    },
    {
      "cell_type": "code",
      "execution_count": 2,
      "id": "7f8decb4",
      "metadata": {
        "id": "7f8decb4"
      },
      "outputs": [],
      "source": [
        "import os\n",
        "os.environ['TF_CPP_MIN_LOG_LEVEL'] = '3'"
      ]
    },
    {
      "cell_type": "code",
      "execution_count": 3,
      "id": "2e38acd0",
      "metadata": {
        "id": "2e38acd0"
      },
      "outputs": [],
      "source": [
        "import pandas as pd\n",
        "import numpy as np\n",
        "from transformers import AutoTokenizer, TFBertModel\n",
        "from sklearn.model_selection import train_test_split\n",
        "from sklearn.metrics import confusion_matrix, ConfusionMatrixDisplay\n",
        "import tensorflow as tf\n",
        "import tensorflow_hub as hub\n",
        "import tensorflow_text as text\n",
        "import keras_tuner\n",
        "from tensorflow.keras.optimizers import Adam\n",
        "import keras_tuner as kt\n",
        "from keras.models import Model, Sequential\n",
        "from keras.layers import Input, Dense, Dropout, Embedding, LSTM, RNN, SimpleRNN, GRU\n",
        "from tensorflow.keras import regularizers\n",
        "from keras.callbacks import EarlyStopping\n",
        "import matplotlib.pyplot as plt\n",
        "import utils"
      ]
    },
    {
      "cell_type": "markdown",
      "source": [
        "Using GPU if available"
      ],
      "metadata": {
        "id": "g5MgZ8c5yXT2"
      },
      "id": "g5MgZ8c5yXT2"
    },
    {
      "cell_type": "code",
      "source": [
        "device_name = tf.test.gpu_device_name()\n",
        "if device_name != '/device:GPU:0':\n",
        "  raise SystemError('GPU device not found')\n",
        "print('Found GPU at: {}'.format(device_name))"
      ],
      "metadata": {
        "colab": {
          "base_uri": "https://localhost:8080/"
        },
        "id": "6z9aWJ8IP9gZ",
        "outputId": "b48826d6-84f9-4444-8266-45aa14ebdc02"
      },
      "id": "6z9aWJ8IP9gZ",
      "execution_count": 4,
      "outputs": [
        {
          "output_type": "stream",
          "name": "stdout",
          "text": [
            "Found GPU at: /device:GPU:0\n"
          ]
        }
      ]
    },
    {
      "cell_type": "code",
      "execution_count": 5,
      "id": "918edc94",
      "metadata": {
        "id": "918edc94"
      },
      "outputs": [],
      "source": [
        "df = pd.read_csv(\"subtaskA_train.csv\")"
      ]
    },
    {
      "cell_type": "code",
      "execution_count": 6,
      "id": "786c8b41",
      "metadata": {
        "colab": {
          "base_uri": "https://localhost:8080/"
        },
        "id": "786c8b41",
        "outputId": "accc531a-1a5d-4a9f-cdb8-bafa6f0abce7"
      },
      "outputs": [
        {
          "output_type": "stream",
          "name": "stdout",
          "text": [
            "<class 'pandas.core.frame.DataFrame'>\n",
            "RangeIndex: 1842 entries, 0 to 1841\n",
            "Data columns (total 3 columns):\n",
            " #   Column          Non-Null Count  Dtype \n",
            "---  ------          --------------  ----- \n",
            " 0   Id              1842 non-null   int64 \n",
            " 1   comment_text    1842 non-null   object\n",
            " 2   conspiratorial  1842 non-null   int64 \n",
            "dtypes: int64(2), object(1)\n",
            "memory usage: 43.3+ KB\n"
          ]
        }
      ],
      "source": [
        "df.info()"
      ]
    },
    {
      "cell_type": "code",
      "source": [
        "df.head()"
      ],
      "metadata": {
        "colab": {
          "base_uri": "https://localhost:8080/",
          "height": 206
        },
        "id": "X1LJOsE_7GW3",
        "outputId": "74b97d8d-d50f-4c3a-90d5-0327a428553e"
      },
      "id": "X1LJOsE_7GW3",
      "execution_count": 7,
      "outputs": [
        {
          "output_type": "execute_result",
          "data": {
            "text/plain": [
              "   Id                                       comment_text  conspiratorial\n",
              "0   0  ⚡Se non ci fossero soldati non ci sarebbero gu...               0\n",
              "1   1  21/08/21]( [PRE-PRINT]\\n\\n📄__ \"Shedding of Inf...               1\n",
              "2   2  PAURA E DELIRIO ALLA CNN: IL MINISTERO DELLA V...               1\n",
              "3   3  L'Aspirina non aumenta la sopravvivenza dei pa...               0\n",
              "4   4  L'Italia non puo' dare armi lo vieta la Costit...               0"
            ],
            "text/html": [
              "\n",
              "  <div id=\"df-864d32c1-ba38-4f27-b8d9-6712a571dc5e\">\n",
              "    <div class=\"colab-df-container\">\n",
              "      <div>\n",
              "<style scoped>\n",
              "    .dataframe tbody tr th:only-of-type {\n",
              "        vertical-align: middle;\n",
              "    }\n",
              "\n",
              "    .dataframe tbody tr th {\n",
              "        vertical-align: top;\n",
              "    }\n",
              "\n",
              "    .dataframe thead th {\n",
              "        text-align: right;\n",
              "    }\n",
              "</style>\n",
              "<table border=\"1\" class=\"dataframe\">\n",
              "  <thead>\n",
              "    <tr style=\"text-align: right;\">\n",
              "      <th></th>\n",
              "      <th>Id</th>\n",
              "      <th>comment_text</th>\n",
              "      <th>conspiratorial</th>\n",
              "    </tr>\n",
              "  </thead>\n",
              "  <tbody>\n",
              "    <tr>\n",
              "      <th>0</th>\n",
              "      <td>0</td>\n",
              "      <td>⚡Se non ci fossero soldati non ci sarebbero gu...</td>\n",
              "      <td>0</td>\n",
              "    </tr>\n",
              "    <tr>\n",
              "      <th>1</th>\n",
              "      <td>1</td>\n",
              "      <td>21/08/21]( [PRE-PRINT]\\n\\n📄__ \"Shedding of Inf...</td>\n",
              "      <td>1</td>\n",
              "    </tr>\n",
              "    <tr>\n",
              "      <th>2</th>\n",
              "      <td>2</td>\n",
              "      <td>PAURA E DELIRIO ALLA CNN: IL MINISTERO DELLA V...</td>\n",
              "      <td>1</td>\n",
              "    </tr>\n",
              "    <tr>\n",
              "      <th>3</th>\n",
              "      <td>3</td>\n",
              "      <td>L'Aspirina non aumenta la sopravvivenza dei pa...</td>\n",
              "      <td>0</td>\n",
              "    </tr>\n",
              "    <tr>\n",
              "      <th>4</th>\n",
              "      <td>4</td>\n",
              "      <td>L'Italia non puo' dare armi lo vieta la Costit...</td>\n",
              "      <td>0</td>\n",
              "    </tr>\n",
              "  </tbody>\n",
              "</table>\n",
              "</div>\n",
              "      <button class=\"colab-df-convert\" onclick=\"convertToInteractive('df-864d32c1-ba38-4f27-b8d9-6712a571dc5e')\"\n",
              "              title=\"Convert this dataframe to an interactive table.\"\n",
              "              style=\"display:none;\">\n",
              "        \n",
              "  <svg xmlns=\"http://www.w3.org/2000/svg\" height=\"24px\"viewBox=\"0 0 24 24\"\n",
              "       width=\"24px\">\n",
              "    <path d=\"M0 0h24v24H0V0z\" fill=\"none\"/>\n",
              "    <path d=\"M18.56 5.44l.94 2.06.94-2.06 2.06-.94-2.06-.94-.94-2.06-.94 2.06-2.06.94zm-11 1L8.5 8.5l.94-2.06 2.06-.94-2.06-.94L8.5 2.5l-.94 2.06-2.06.94zm10 10l.94 2.06.94-2.06 2.06-.94-2.06-.94-.94-2.06-.94 2.06-2.06.94z\"/><path d=\"M17.41 7.96l-1.37-1.37c-.4-.4-.92-.59-1.43-.59-.52 0-1.04.2-1.43.59L10.3 9.45l-7.72 7.72c-.78.78-.78 2.05 0 2.83L4 21.41c.39.39.9.59 1.41.59.51 0 1.02-.2 1.41-.59l7.78-7.78 2.81-2.81c.8-.78.8-2.07 0-2.86zM5.41 20L4 18.59l7.72-7.72 1.47 1.35L5.41 20z\"/>\n",
              "  </svg>\n",
              "      </button>\n",
              "      \n",
              "  <style>\n",
              "    .colab-df-container {\n",
              "      display:flex;\n",
              "      flex-wrap:wrap;\n",
              "      gap: 12px;\n",
              "    }\n",
              "\n",
              "    .colab-df-convert {\n",
              "      background-color: #E8F0FE;\n",
              "      border: none;\n",
              "      border-radius: 50%;\n",
              "      cursor: pointer;\n",
              "      display: none;\n",
              "      fill: #1967D2;\n",
              "      height: 32px;\n",
              "      padding: 0 0 0 0;\n",
              "      width: 32px;\n",
              "    }\n",
              "\n",
              "    .colab-df-convert:hover {\n",
              "      background-color: #E2EBFA;\n",
              "      box-shadow: 0px 1px 2px rgba(60, 64, 67, 0.3), 0px 1px 3px 1px rgba(60, 64, 67, 0.15);\n",
              "      fill: #174EA6;\n",
              "    }\n",
              "\n",
              "    [theme=dark] .colab-df-convert {\n",
              "      background-color: #3B4455;\n",
              "      fill: #D2E3FC;\n",
              "    }\n",
              "\n",
              "    [theme=dark] .colab-df-convert:hover {\n",
              "      background-color: #434B5C;\n",
              "      box-shadow: 0px 1px 3px 1px rgba(0, 0, 0, 0.15);\n",
              "      filter: drop-shadow(0px 1px 2px rgba(0, 0, 0, 0.3));\n",
              "      fill: #FFFFFF;\n",
              "    }\n",
              "  </style>\n",
              "\n",
              "      <script>\n",
              "        const buttonEl =\n",
              "          document.querySelector('#df-864d32c1-ba38-4f27-b8d9-6712a571dc5e button.colab-df-convert');\n",
              "        buttonEl.style.display =\n",
              "          google.colab.kernel.accessAllowed ? 'block' : 'none';\n",
              "\n",
              "        async function convertToInteractive(key) {\n",
              "          const element = document.querySelector('#df-864d32c1-ba38-4f27-b8d9-6712a571dc5e');\n",
              "          const dataTable =\n",
              "            await google.colab.kernel.invokeFunction('convertToInteractive',\n",
              "                                                     [key], {});\n",
              "          if (!dataTable) return;\n",
              "\n",
              "          const docLinkHtml = 'Like what you see? Visit the ' +\n",
              "            '<a target=\"_blank\" href=https://colab.research.google.com/notebooks/data_table.ipynb>data table notebook</a>'\n",
              "            + ' to learn more about interactive tables.';\n",
              "          element.innerHTML = '';\n",
              "          dataTable['output_type'] = 'display_data';\n",
              "          await google.colab.output.renderOutput(dataTable, element);\n",
              "          const docLink = document.createElement('div');\n",
              "          docLink.innerHTML = docLinkHtml;\n",
              "          element.appendChild(docLink);\n",
              "        }\n",
              "      </script>\n",
              "    </div>\n",
              "  </div>\n",
              "  "
            ]
          },
          "metadata": {},
          "execution_count": 7
        }
      ]
    },
    {
      "cell_type": "markdown",
      "source": [
        "Removing emojis"
      ],
      "metadata": {
        "id": "Qv-GTuF6Cm61"
      },
      "id": "Qv-GTuF6Cm61"
    },
    {
      "cell_type": "code",
      "source": [
        "df[\"comment_text\"] = df[\"comment_text\"].map(utils.remove_emojis)"
      ],
      "metadata": {
        "id": "etzhx6Wx8zLl"
      },
      "id": "etzhx6Wx8zLl",
      "execution_count": 9,
      "outputs": []
    },
    {
      "cell_type": "code",
      "execution_count": 10,
      "id": "55a512ba",
      "metadata": {
        "scrolled": true,
        "colab": {
          "base_uri": "https://localhost:8080/",
          "height": 447
        },
        "id": "55a512ba",
        "outputId": "3410eac5-be49-4ee9-cb9f-877e1ec08953"
      },
      "outputs": [
        {
          "output_type": "execute_result",
          "data": {
            "text/plain": [
              "<Axes: >"
            ]
          },
          "metadata": {},
          "execution_count": 10
        },
        {
          "output_type": "display_data",
          "data": {
            "text/plain": [
              "<Figure size 640x480 with 1 Axes>"
            ],
            "image/png": "[encoded data removed]"
          },
          "metadata": {}
        }
      ],
      "source": [
        "df[\"comment_text\"].map(len).hist()"
      ]
    },
    {
      "cell_type": "code",
      "execution_count": 11,
      "id": "2f575033",
      "metadata": {
        "colab": {
          "base_uri": "https://localhost:8080/",
          "height": 447
        },
        "id": "2f575033",
        "outputId": "0755963e-6176-4e8b-cb66-0eaad7f6c78a"
      },
      "outputs": [
        {
          "output_type": "execute_result",
          "data": {
            "text/plain": [
              "<Axes: >"
            ]
          },
          "metadata": {},
          "execution_count": 11
        },
        {
          "output_type": "display_data",
          "data": {
            "text/plain": [
              "<Figure size 640x480 with 1 Axes>"
            ],
            "image/png": "[encoded data removed]"
          },
          "metadata": {}
        }
      ],
      "source": [
        "df[\"conspiratorial\"].hist()"
      ]
    },
    {
      "cell_type": "markdown",
      "id": "693b9189",
      "metadata": {
        "id": "693b9189"
      },
      "source": [
        "# Pre processing"
      ]
    },
    {
      "cell_type": "markdown",
      "id": "db2a186c",
      "metadata": {
        "id": "db2a186c"
      },
      "source": [
        "## Building train and test set"
      ]
    },
    {
      "cell_type": "code",
      "execution_count": 12,
      "id": "4e2bee79",
      "metadata": {
        "id": "4e2bee79"
      },
      "outputs": [],
      "source": [
        "X = df[\"comment_text\"]\n",
        "y = df[\"conspiratorial\"]"
      ]
    },
    {
      "cell_type": "markdown",
      "source": [
        "Assigning 25% of the data to the test set, specifying (using the parameter _stratify_) that the dataset have to be balanced regarding the label \"conspirational\""
      ],
      "metadata": {
        "id": "zFt3Xh5RzRw3"
      },
      "id": "zFt3Xh5RzRw3"
    },
    {
      "cell_type": "code",
      "execution_count": 13,
      "id": "75143b88",
      "metadata": {
        "id": "75143b88"
      },
      "outputs": [],
      "source": [
        "X_train, X_test, y_train, y_test = train_test_split(X, y, stratify = y, test_size = 0.25, random_state = 10)"
      ]
    },
    {
      "cell_type": "markdown",
      "source": [
        "# Model training"
      ],
      "metadata": {
        "id": "uBY2RcXqzv4C"
      },
      "id": "uBY2RcXqzv4C"
    },
    {
      "cell_type": "code",
      "execution_count": 14,
      "id": "f50931f8",
      "metadata": {
        "id": "f50931f8"
      },
      "outputs": [],
      "source": [
        "tfhub_handle_encoder = \"https://tfhub.dev/google/universal-sentence-encoder-multilingual/3\"\n",
        "tfhub_handle_preprocess = \"https://tfhub.dev/google/universal-sentence-encoder-multilingual/3\""
      ]
    },
    {
      "cell_type": "code",
      "execution_count": 28,
      "id": "e95150b5",
      "metadata": {
        "id": "e95150b5"
      },
      "outputs": [],
      "source": [
        "def build_model_with_hp(gru_units, l1_units, l2_units, l3_units, learning_rate, epsilon):\n",
        "    # defining inputs\n",
        "    text_input = tf.keras.layers.Input(shape=(), dtype=tf.string, name='text')\n",
        "\n",
        "    # defining preprocessing\n",
        "    #preprocessing_layer = hub.KerasLayer(tfhub_handle_preprocess, name='preprocessing')\n",
        "\n",
        "    # defining encoder\n",
        "    #encoder_inputs = preprocessing_layer(text_input)\n",
        "    encoder = hub.KerasLayer(tfhub_handle_encoder, trainable=False, name='text_encoder')\n",
        "\n",
        "    # defining outputs\n",
        "    #outputs = encoder(encoder_inputs)\n",
        "    net = encoder(text_input)\n",
        "    #net = outputs['pooled_output']\n",
        "\n",
        "    # Reshape net to add a time step dimension\n",
        "    net = tf.expand_dims(net, axis=1)\n",
        "\n",
        "    net = GRU(\n",
        "        units =gru_units,\n",
        "        dropout=0.1\n",
        "    )(net)\n",
        "\n",
        "    # FULLY CONNECTED LAYERS\n",
        "\n",
        "    net = tf.keras.layers.Dense(\n",
        "        units = l1_units,\n",
        "        activation=\"relu\")(net)\n",
        "\n",
        "    net = Dropout(rate=0.1)(net)\n",
        "\n",
        "    net = tf.keras.layers.Dense(\n",
        "        units = l2_units,\n",
        "        activation=\"relu\")(net)\n",
        "\n",
        "    net = Dropout(rate=0.1)(net)\n",
        "\n",
        "    net = tf.keras.layers.Dense(\n",
        "        units = l3_units,\n",
        "        activation=\"relu\")(net)\n",
        "\n",
        "    net = Dropout(rate=0.1)(net)\n",
        "\n",
        "    # OUTPUT LAYER\n",
        "    net = tf.keras.layers.Dense(1, activation=\"sigmoid\", name='classifier')(net)\n",
        "\n",
        "    model = tf.keras.Model(text_input, net)\n",
        "\n",
        "    optimizer = Adam(\n",
        "        learning_rate = learning_rate,\n",
        "        epsilon = epsilon,\n",
        "        clipnorm = 0.1\n",
        "    )\n",
        "\n",
        "    model.compile(\n",
        "        optimizer=optimizer,\n",
        "        loss = 'binary_crossentropy',\n",
        "        metrics = 'accuracy'\n",
        "    )\n",
        "\n",
        "    return model\n",
        "\n",
        "def build_classifier_model(hp):\n",
        "    gru_units = hp.Int('gru_units', min_value=1, max_value=10, step=1)\n",
        "    l1_units = hp.Int('l1_units', min_value=5, max_value=40, step=5)\n",
        "    l2_units = hp.Int('l2_units', min_value=5, max_value=40, step=5)\n",
        "    l3_units = hp.Int('l3_units', min_value=5, max_value=40, step=5)\n",
        "    learning_rate = hp.Choice('learning_rate', values=[1e-3]),\n",
        "    epsilon = hp.Choice('epsilon', values=[1e-7])\n",
        "\n",
        "    return build_model_with_hp(gru_units, l1_units, l2_units, l3_units, learning_rate, epsilon)"
      ]
    },
    {
      "cell_type": "markdown",
      "source": [
        "## Performing a random search of the hyperparameters"
      ],
      "metadata": {
        "id": "md00PvdQ0fmM"
      },
      "id": "md00PvdQ0fmM"
    },
    {
      "cell_type": "code",
      "execution_count": 29,
      "id": "7ae4ee76",
      "metadata": {
        "id": "7ae4ee76"
      },
      "outputs": [],
      "source": [
        "tuner = kt.RandomSearch(\n",
        "    hypermodel=build_classifier_model,\n",
        "    max_trials=10,\n",
        "    objective='val_accuracy',\n",
        "    overwrite=True\n",
        ")"
      ]
    },
    {
      "cell_type": "code",
      "execution_count": 30,
      "id": "5831c33f",
      "metadata": {
        "scrolled": true,
        "colab": {
          "base_uri": "https://localhost:8080/"
        },
        "id": "5831c33f",
        "outputId": "7df6c378-c28a-44a9-9876-23417868c6c8"
      },
      "outputs": [
        {
          "output_type": "stream",
          "name": "stdout",
          "text": [
            "Trial 10 Complete [00h 00m 46s]\n",
            "val_accuracy: 0.7427745461463928\n",
            "\n",
            "Best val_accuracy So Far: 0.7890173196792603\n",
            "Total elapsed time: 00h 09m 20s\n"
          ]
        }
      ],
      "source": [
        "print(f'Training model with {tfhub_handle_encoder}')\n",
        "tuner.search(\n",
        "    x = X_train,\n",
        "    y = y_train,\n",
        "    epochs = 200,\n",
        "    validation_split = 0.25,\n",
        "    callbacks = [\n",
        "        EarlyStopping(monitor='val_accuracy' ,mode='max', patience=3,verbose=False,restore_best_weights=True)\n",
        "    ]\n",
        ")"
      ]
    },
    {
      "cell_type": "code",
      "source": [
        "tuner.results_summary(5)"
      ],
      "metadata": {
        "colab": {
          "base_uri": "https://localhost:8080/"
        },
        "id": "UrZ8wK_JmzhR",
        "outputId": "57027d54-960a-4333-b026-e94c959a7ef8"
      },
      "id": "UrZ8wK_JmzhR",
      "execution_count": 31,
      "outputs": [
        {
          "output_type": "stream",
          "name": "stdout",
          "text": [
            "Results summary\n",
            "Results in ./untitled_project\n",
            "Showing 5 best trials\n",
            "Objective(name=\"val_accuracy\", direction=\"max\")\n",
            "\n",
            "Trial 03 summary\n",
            "Hyperparameters:\n",
            "gru_units: 6\n",
            "l1_units: 30\n",
            "l2_units: 35\n",
            "l3_units: 25\n",
            "learning_rate: 0.001\n",
            "epsilon: 1e-07\n",
            "Score: 0.7890173196792603\n",
            "\n",
            "Trial 08 summary\n",
            "Hyperparameters:\n",
            "gru_units: 7\n",
            "l1_units: 20\n",
            "l2_units: 25\n",
            "l3_units: 10\n",
            "learning_rate: 0.001\n",
            "epsilon: 1e-07\n",
            "Score: 0.7832369804382324\n",
            "\n",
            "Trial 05 summary\n",
            "Hyperparameters:\n",
            "gru_units: 6\n",
            "l1_units: 20\n",
            "l2_units: 30\n",
            "l3_units: 30\n",
            "learning_rate: 0.001\n",
            "epsilon: 1e-07\n",
            "Score: 0.7803468108177185\n",
            "\n",
            "Trial 02 summary\n",
            "Hyperparameters:\n",
            "gru_units: 10\n",
            "l1_units: 5\n",
            "l2_units: 5\n",
            "l3_units: 30\n",
            "learning_rate: 0.001\n",
            "epsilon: 1e-07\n",
            "Score: 0.763005793094635\n",
            "\n",
            "Trial 00 summary\n",
            "Hyperparameters:\n",
            "gru_units: 8\n",
            "l1_units: 5\n",
            "l2_units: 30\n",
            "l3_units: 15\n",
            "learning_rate: 0.001\n",
            "epsilon: 1e-07\n",
            "Score: 0.7601156234741211\n"
          ]
        }
      ]
    },
    {
      "cell_type": "markdown",
      "source": [
        "# Final phase: retrain and test"
      ],
      "metadata": {
        "id": "xyK9Derdx_BM"
      },
      "id": "xyK9Derdx_BM"
    },
    {
      "cell_type": "markdown",
      "source": [
        "## Retrain on training and validation"
      ],
      "metadata": {
        "id": "fNSULGiPvb4N"
      },
      "id": "fNSULGiPvb4N"
    },
    {
      "cell_type": "markdown",
      "source": [
        "Training the model on the best hyperparams found by the random search"
      ],
      "metadata": {
        "id": "0TBchWKt0rQA"
      },
      "id": "0TBchWKt0rQA"
    },
    {
      "cell_type": "code",
      "source": [
        "best_hyperparams = tuner.get_best_hyperparameters(1)[0]\n",
        "\n",
        "final_model = tuner.hypermodel.build(best_hyperparams)"
      ],
      "metadata": {
        "id": "sD6gFZqHve4a"
      },
      "id": "sD6gFZqHve4a",
      "execution_count": 32,
      "outputs": []
    },
    {
      "cell_type": "code",
      "source": [
        "%%time\n",
        "print(f'Training model with {tfhub_handle_encoder}')\n",
        "history = final_model.fit(\n",
        "    x = X_train,\n",
        "    y = y_train,\n",
        "    epochs=200,\n",
        "    validation_split = 0,\n",
        "    batch_size = 32,\n",
        "    callbacks= [\n",
        "      EarlyStopping( monitor='accuracy' ,mode='max', patience=3,verbose=False,restore_best_weights=True)\n",
        "    ]\n",
        ")\n"
      ],
      "metadata": {
        "colab": {
          "base_uri": "https://localhost:8080/"
        },
        "id": "XlHncSAHwGhp",
        "outputId": "f9c0ba5b-3c18-4695-8c1e-c09223bcdc6a"
      },
      "id": "XlHncSAHwGhp",
      "execution_count": 33,
      "outputs": [
        {
          "output_type": "stream",
          "name": "stdout",
          "text": [
            "Training model with https://tfhub.dev/google/universal-sentence-encoder-multilingual/3\n",
            "Epoch 1/200\n",
            "44/44 [==============================] - 11s 54ms/step - loss: 0.6868 - accuracy: 0.5916\n",
            "Epoch 2/200\n",
            "44/44 [==============================] - 1s 29ms/step - loss: 0.6261 - accuracy: 0.7024\n",
            "Epoch 3/200\n",
            "44/44 [==============================] - 1s 27ms/step - loss: 0.5166 - accuracy: 0.7574\n",
            "Epoch 4/200\n",
            "44/44 [==============================] - 1s 27ms/step - loss: 0.4599 - accuracy: 0.7828\n",
            "Epoch 5/200\n",
            "44/44 [==============================] - 1s 27ms/step - loss: 0.4399 - accuracy: 0.7987\n",
            "Epoch 6/200\n",
            "44/44 [==============================] - 1s 28ms/step - loss: 0.4152 - accuracy: 0.8240\n",
            "Epoch 7/200\n",
            "44/44 [==============================] - 1s 21ms/step - loss: 0.4107 - accuracy: 0.8190\n",
            "Epoch 8/200\n",
            "44/44 [==============================] - 1s 27ms/step - loss: 0.3998 - accuracy: 0.8255\n",
            "Epoch 9/200\n",
            "44/44 [==============================] - 1s 28ms/step - loss: 0.3904 - accuracy: 0.8284\n",
            "Epoch 10/200\n",
            "44/44 [==============================] - 1s 32ms/step - loss: 0.3869 - accuracy: 0.8385\n",
            "Epoch 11/200\n",
            "44/44 [==============================] - 2s 43ms/step - loss: 0.3790 - accuracy: 0.8429\n",
            "Epoch 12/200\n",
            "44/44 [==============================] - 1s 32ms/step - loss: 0.3803 - accuracy: 0.8400\n",
            "Epoch 13/200\n",
            "44/44 [==============================] - 1s 28ms/step - loss: 0.3677 - accuracy: 0.8487\n",
            "Epoch 14/200\n",
            "44/44 [==============================] - 1s 27ms/step - loss: 0.3584 - accuracy: 0.8530\n",
            "Epoch 15/200\n",
            "44/44 [==============================] - 1s 27ms/step - loss: 0.3503 - accuracy: 0.8552\n",
            "Epoch 16/200\n",
            "44/44 [==============================] - 1s 27ms/step - loss: 0.3537 - accuracy: 0.8559\n",
            "Epoch 17/200\n",
            "44/44 [==============================] - 1s 21ms/step - loss: 0.3568 - accuracy: 0.8472\n",
            "Epoch 18/200\n",
            "44/44 [==============================] - 1s 21ms/step - loss: 0.3512 - accuracy: 0.8545\n",
            "Epoch 19/200\n",
            "44/44 [==============================] - 1s 26ms/step - loss: 0.3414 - accuracy: 0.8610\n",
            "Epoch 20/200\n",
            "44/44 [==============================] - 1s 27ms/step - loss: 0.3347 - accuracy: 0.8646\n",
            "Epoch 21/200\n",
            "44/44 [==============================] - 1s 29ms/step - loss: 0.3331 - accuracy: 0.8668\n",
            "Epoch 22/200\n",
            "44/44 [==============================] - 1s 33ms/step - loss: 0.3253 - accuracy: 0.8668\n",
            "Epoch 23/200\n",
            "44/44 [==============================] - 2s 35ms/step - loss: 0.3324 - accuracy: 0.8646\n",
            "Epoch 24/200\n",
            "44/44 [==============================] - 1s 31ms/step - loss: 0.3271 - accuracy: 0.8646\n",
            "CPU times: user 39.4 s, sys: 1.64 s, total: 41 s\n",
            "Wall time: 40 s\n"
          ]
        }
      ]
    },
    {
      "cell_type": "code",
      "source": [
        "final_model.summary()"
      ],
      "metadata": {
        "colab": {
          "base_uri": "https://localhost:8080/"
        },
        "id": "t7PUXtHYCVHL",
        "outputId": "1f3d40bb-25ee-4be9-f303-54532175ff8c"
      },
      "id": "t7PUXtHYCVHL",
      "execution_count": 34,
      "outputs": [
        {
          "output_type": "stream",
          "name": "stdout",
          "text": [
            "Model: \"model_1\"\n",
            "_________________________________________________________________\n",
            " Layer (type)                Output Shape              Param #   \n",
            "=================================================================\n",
            " text (InputLayer)           [(None,)]                 0         \n",
            "                                                                 \n",
            " text_encoder (KerasLayer)   (None, 512)               68927232  \n",
            "                                                                 \n",
            " tf.expand_dims_1 (TFOpLambd  (None, 1, 512)           0         \n",
            " a)                                                              \n",
            "                                                                 \n",
            " gru_1 (GRU)                 (None, 6)                 9360      \n",
            "                                                                 \n",
            " dense_3 (Dense)             (None, 30)                210       \n",
            "                                                                 \n",
            " dropout_3 (Dropout)         (None, 30)                0         \n",
            "                                                                 \n",
            " dense_4 (Dense)             (None, 35)                1085      \n",
            "                                                                 \n",
            " dropout_4 (Dropout)         (None, 35)                0         \n",
            "                                                                 \n",
            " dense_5 (Dense)             (None, 25)                900       \n",
            "                                                                 \n",
            " dropout_5 (Dropout)         (None, 25)                0         \n",
            "                                                                 \n",
            " classifier (Dense)          (None, 1)                 26        \n",
            "                                                                 \n",
            "=================================================================\n",
            "Total params: 68,938,813\n",
            "Trainable params: 11,581\n",
            "Non-trainable params: 68,927,232\n",
            "_________________________________________________________________\n"
          ]
        }
      ]
    },
    {
      "cell_type": "code",
      "execution_count": 35,
      "id": "739f51d2",
      "metadata": {
        "colab": {
          "base_uri": "https://localhost:8080/",
          "height": 927
        },
        "id": "739f51d2",
        "outputId": "140fb10d-b43d-4c33-beac-0a855f7db241"
      },
      "outputs": [
        {
          "output_type": "display_data",
          "data": {
            "text/plain": [
              "<Figure size 640x480 with 1 Axes>"
            ],
            "image/png": "[encoded data removed]"
          },
          "metadata": {}
        },
        {
          "output_type": "display_data",
          "data": {
            "text/plain": [
              "<Figure size 640x480 with 1 Axes>"
            ],
            "image/png": "[encoded data removed]"
          },
          "metadata": {}
        }
      ],
      "source": [
        "utils.plot_history(history)"
      ]
    },
    {
      "cell_type": "markdown",
      "source": [
        "## Predict on test set"
      ],
      "metadata": {
        "id": "Sqg5olB_wryB"
      },
      "id": "Sqg5olB_wryB"
    },
    {
      "cell_type": "code",
      "source": [
        "_ = final_model.evaluate(\n",
        "    x=X_test,\n",
        "    y=y_test,\n",
        "    batch_size=32\n",
        ")"
      ],
      "metadata": {
        "colab": {
          "base_uri": "https://localhost:8080/"
        },
        "id": "PGYUmYvNwvJ-",
        "outputId": "bba0f794-fc81-43ef-a36f-0f7afd2cc790"
      },
      "id": "PGYUmYvNwvJ-",
      "execution_count": 36,
      "outputs": [
        {
          "output_type": "stream",
          "name": "stdout",
          "text": [
            "15/15 [==============================] - 2s 33ms/step - loss: 0.5162 - accuracy: 0.7701\n"
          ]
        }
      ]
    },
    {
      "cell_type": "code",
      "source": [],
      "metadata": {
        "id": "sYjxSxoYxDoE"
      },
      "id": "sYjxSxoYxDoE",
      "execution_count": null,
      "outputs": []
    }
  ],
  "metadata": {
    "kernelspec": {
      "display_name": "Python 3",
      "name": "python3"
    },
    "language_info": {
      "codemirror_mode": {
        "name": "ipython",
        "version": 3
      },
      "file_extension": ".py",
      "mimetype": "text/x-python",
      "name": "python",
      "nbconvert_exporter": "python",
      "pygments_lexer": "ipython3",
      "version": "3.10.6"
    },
    "colab": {
      "provenance": [],
      "gpuType": "T4"
    },
    "accelerator": "GPU"
  },
  "nbformat": 4,
  "nbformat_minor": 5
}