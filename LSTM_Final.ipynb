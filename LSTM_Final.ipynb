{
  "cells": [
    {
      "cell_type": "code",
      "source": [
        "!pip install transformers\n",
        "!pip install keras_tuner\n",
        "!pip install tensorflow_text"
      ],
      "metadata": {
        "colab": {
          "base_uri": "https://localhost:8080/"
        },
        "id": "ISevNR3ePivs",
        "outputId": "773e5b9d-17ef-4348-b515-35f759f3307e"
      },
      "id": "ISevNR3ePivs",
      "execution_count": 1,
      "outputs": [
        {
          "output_type": "stream",
          "name": "stdout",
          "text": [
            "Looking in indexes: https://pypi.org/simple, https://us-python.pkg.dev/colab-wheels/public/simple/\n",
            "Requirement already satisfied: transformers in /usr/local/lib/python3.10/dist-packages (4.30.2)\n",
            "Requirement already satisfied: filelock in /usr/local/lib/python3.10/dist-packages (from transformers) (3.12.0)\n",
            "Requirement already satisfied: huggingface-hub<1.0,>=0.14.1 in /usr/local/lib/python3.10/dist-packages (from transformers) (0.15.1)\n",
            "Requirement already satisfied: numpy>=1.17 in /usr/local/lib/python3.10/dist-packages (from transformers) (1.22.4)\n",
            "Requirement already satisfied: packaging>=20.0 in /usr/local/lib/python3.10/dist-packages (from transformers) (23.1)\n",
            "Requirement already satisfied: pyyaml>=5.1 in /usr/local/lib/python3.10/dist-packages (from transformers) (6.0)\n",
            "Requirement already satisfied: regex!=2019.12.17 in /usr/local/lib/python3.10/dist-packages (from transformers) (2022.10.31)\n",
            "Requirement already satisfied: requests in /usr/local/lib/python3.10/dist-packages (from transformers) (2.27.1)\n",
            "Requirement already satisfied: tokenizers!=0.11.3,<0.14,>=0.11.1 in /usr/local/lib/python3.10/dist-packages (from transformers) (0.13.3)\n",
            "Requirement already satisfied: safetensors>=0.3.1 in /usr/local/lib/python3.10/dist-packages (from transformers) (0.3.1)\n",
            "Requirement already satisfied: tqdm>=4.27 in /usr/local/lib/python3.10/dist-packages (from transformers) (4.65.0)\n",
            "Requirement already satisfied: fsspec in /usr/local/lib/python3.10/dist-packages (from huggingface-hub<1.0,>=0.14.1->transformers) (2023.4.0)\n",
            "Requirement already satisfied: typing-extensions>=3.7.4.3 in /usr/local/lib/python3.10/dist-packages (from huggingface-hub<1.0,>=0.14.1->transformers) (4.5.0)\n",
            "Requirement already satisfied: urllib3<1.27,>=1.21.1 in /usr/local/lib/python3.10/dist-packages (from requests->transformers) (1.26.15)\n",
            "Requirement already satisfied: certifi>=2017.4.17 in /usr/local/lib/python3.10/dist-packages (from requests->transformers) (2022.12.7)\n",
            "Requirement already satisfied: charset-normalizer~=2.0.0 in /usr/local/lib/python3.10/dist-packages (from requests->transformers) (2.0.12)\n",
            "Requirement already satisfied: idna<4,>=2.5 in /usr/local/lib/python3.10/dist-packages (from requests->transformers) (3.4)\n",
            "Looking in indexes: https://pypi.org/simple, https://us-python.pkg.dev/colab-wheels/public/simple/\n",
            "Requirement already satisfied: keras_tuner in /usr/local/lib/python3.10/dist-packages (1.3.5)\n",
            "Requirement already satisfied: packaging in /usr/local/lib/python3.10/dist-packages (from keras_tuner) (23.1)\n",
            "Requirement already satisfied: requests in /usr/local/lib/python3.10/dist-packages (from keras_tuner) (2.27.1)\n",
            "Requirement already satisfied: kt-legacy in /usr/local/lib/python3.10/dist-packages (from keras_tuner) (1.0.5)\n",
            "Requirement already satisfied: urllib3<1.27,>=1.21.1 in /usr/local/lib/python3.10/dist-packages (from requests->keras_tuner) (1.26.15)\n",
            "Requirement already satisfied: certifi>=2017.4.17 in /usr/local/lib/python3.10/dist-packages (from requests->keras_tuner) (2022.12.7)\n",
            "Requirement already satisfied: charset-normalizer~=2.0.0 in /usr/local/lib/python3.10/dist-packages (from requests->keras_tuner) (2.0.12)\n",
            "Requirement already satisfied: idna<4,>=2.5 in /usr/local/lib/python3.10/dist-packages (from requests->keras_tuner) (3.4)\n",
            "Looking in indexes: https://pypi.org/simple, https://us-python.pkg.dev/colab-wheels/public/simple/\n",
            "Requirement already satisfied: tensorflow_text in /usr/local/lib/python3.10/dist-packages (2.12.1)\n",
            "Requirement already satisfied: tensorflow-hub>=0.8.0 in /usr/local/lib/python3.10/dist-packages (from tensorflow_text) (0.13.0)\n",
            "Requirement already satisfied: tensorflow<2.13,>=2.12.0 in /usr/local/lib/python3.10/dist-packages (from tensorflow_text) (2.12.0)\n",
            "Requirement already satisfied: absl-py>=1.0.0 in /usr/local/lib/python3.10/dist-packages (from tensorflow<2.13,>=2.12.0->tensorflow_text) (1.4.0)\n",
            "Requirement already satisfied: astunparse>=1.6.0 in /usr/local/lib/python3.10/dist-packages (from tensorflow<2.13,>=2.12.0->tensorflow_text) (1.6.3)\n",
            "Requirement already satisfied: flatbuffers>=2.0 in /usr/local/lib/python3.10/dist-packages (from tensorflow<2.13,>=2.12.0->tensorflow_text) (23.3.3)\n",
            "Requirement already satisfied: gast<=0.4.0,>=0.2.1 in /usr/local/lib/python3.10/dist-packages (from tensorflow<2.13,>=2.12.0->tensorflow_text) (0.4.0)\n",
            "Requirement already satisfied: google-pasta>=0.1.1 in /usr/local/lib/python3.10/dist-packages (from tensorflow<2.13,>=2.12.0->tensorflow_text) (0.2.0)\n",
            "Requirement already satisfied: grpcio<2.0,>=1.24.3 in /usr/local/lib/python3.10/dist-packages (from tensorflow<2.13,>=2.12.0->tensorflow_text) (1.54.0)\n",
            "Requirement already satisfied: h5py>=2.9.0 in /usr/local/lib/python3.10/dist-packages (from tensorflow<2.13,>=2.12.0->tensorflow_text) (3.8.0)\n",
            "Requirement already satisfied: jax>=0.3.15 in /usr/local/lib/python3.10/dist-packages (from tensorflow<2.13,>=2.12.0->tensorflow_text) (0.4.10)\n",
            "Requirement already satisfied: keras<2.13,>=2.12.0 in /usr/local/lib/python3.10/dist-packages (from tensorflow<2.13,>=2.12.0->tensorflow_text) (2.12.0)\n",
            "Requirement already satisfied: libclang>=13.0.0 in /usr/local/lib/python3.10/dist-packages (from tensorflow<2.13,>=2.12.0->tensorflow_text) (16.0.0)\n",
            "Requirement already satisfied: numpy<1.24,>=1.22 in /usr/local/lib/python3.10/dist-packages (from tensorflow<2.13,>=2.12.0->tensorflow_text) (1.22.4)\n",
            "Requirement already satisfied: opt-einsum>=2.3.2 in /usr/local/lib/python3.10/dist-packages (from tensorflow<2.13,>=2.12.0->tensorflow_text) (3.3.0)\n",
            "Requirement already satisfied: packaging in /usr/local/lib/python3.10/dist-packages (from tensorflow<2.13,>=2.12.0->tensorflow_text) (23.1)\n",
            "Requirement already satisfied: protobuf!=4.21.0,!=4.21.1,!=4.21.2,!=4.21.3,!=4.21.4,!=4.21.5,<5.0.0dev,>=3.20.3 in /usr/local/lib/python3.10/dist-packages (from tensorflow<2.13,>=2.12.0->tensorflow_text) (3.20.3)\n",
            "Requirement already satisfied: setuptools in /usr/local/lib/python3.10/dist-packages (from tensorflow<2.13,>=2.12.0->tensorflow_text) (67.7.2)\n",
            "Requirement already satisfied: six>=1.12.0 in /usr/local/lib/python3.10/dist-packages (from tensorflow<2.13,>=2.12.0->tensorflow_text) (1.16.0)\n",
            "Requirement already satisfied: tensorboard<2.13,>=2.12 in /usr/local/lib/python3.10/dist-packages (from tensorflow<2.13,>=2.12.0->tensorflow_text) (2.12.2)\n",
            "Requirement already satisfied: tensorflow-estimator<2.13,>=2.12.0 in /usr/local/lib/python3.10/dist-packages (from tensorflow<2.13,>=2.12.0->tensorflow_text) (2.12.0)\n",
            "Requirement already satisfied: termcolor>=1.1.0 in /usr/local/lib/python3.10/dist-packages (from tensorflow<2.13,>=2.12.0->tensorflow_text) (2.3.0)\n",
            "Requirement already satisfied: typing-extensions>=3.6.6 in /usr/local/lib/python3.10/dist-packages (from tensorflow<2.13,>=2.12.0->tensorflow_text) (4.5.0)\n",
            "Requirement already satisfied: wrapt<1.15,>=1.11.0 in /usr/local/lib/python3.10/dist-packages (from tensorflow<2.13,>=2.12.0->tensorflow_text) (1.14.1)\n",
            "Requirement already satisfied: tensorflow-io-gcs-filesystem>=0.23.1 in /usr/local/lib/python3.10/dist-packages (from tensorflow<2.13,>=2.12.0->tensorflow_text) (0.32.0)\n",
            "Requirement already satisfied: wheel<1.0,>=0.23.0 in /usr/local/lib/python3.10/dist-packages (from astunparse>=1.6.0->tensorflow<2.13,>=2.12.0->tensorflow_text) (0.40.0)\n",
            "Requirement already satisfied: ml-dtypes>=0.1.0 in /usr/local/lib/python3.10/dist-packages (from jax>=0.3.15->tensorflow<2.13,>=2.12.0->tensorflow_text) (0.1.0)\n",
            "Requirement already satisfied: scipy>=1.7 in /usr/local/lib/python3.10/dist-packages (from jax>=0.3.15->tensorflow<2.13,>=2.12.0->tensorflow_text) (1.10.1)\n",
            "Requirement already satisfied: google-auth<3,>=1.6.3 in /usr/local/lib/python3.10/dist-packages (from tensorboard<2.13,>=2.12->tensorflow<2.13,>=2.12.0->tensorflow_text) (2.17.3)\n",
            "Requirement already satisfied: google-auth-oauthlib<1.1,>=0.5 in /usr/local/lib/python3.10/dist-packages (from tensorboard<2.13,>=2.12->tensorflow<2.13,>=2.12.0->tensorflow_text) (1.0.0)\n",
            "Requirement already satisfied: markdown>=2.6.8 in /usr/local/lib/python3.10/dist-packages (from tensorboard<2.13,>=2.12->tensorflow<2.13,>=2.12.0->tensorflow_text) (3.4.3)\n",
            "Requirement already satisfied: requests<3,>=2.21.0 in /usr/local/lib/python3.10/dist-packages (from tensorboard<2.13,>=2.12->tensorflow<2.13,>=2.12.0->tensorflow_text) (2.27.1)\n",
            "Requirement already satisfied: tensorboard-data-server<0.8.0,>=0.7.0 in /usr/local/lib/python3.10/dist-packages (from tensorboard<2.13,>=2.12->tensorflow<2.13,>=2.12.0->tensorflow_text) (0.7.0)\n",
            "Requirement already satisfied: tensorboard-plugin-wit>=1.6.0 in /usr/local/lib/python3.10/dist-packages (from tensorboard<2.13,>=2.12->tensorflow<2.13,>=2.12.0->tensorflow_text) (1.8.1)\n",
            "Requirement already satisfied: werkzeug>=1.0.1 in /usr/local/lib/python3.10/dist-packages (from tensorboard<2.13,>=2.12->tensorflow<2.13,>=2.12.0->tensorflow_text) (2.3.0)\n",
            "Requirement already satisfied: cachetools<6.0,>=2.0.0 in /usr/local/lib/python3.10/dist-packages (from google-auth<3,>=1.6.3->tensorboard<2.13,>=2.12->tensorflow<2.13,>=2.12.0->tensorflow_text) (5.3.0)\n",
            "Requirement already satisfied: pyasn1-modules>=0.2.1 in /usr/local/lib/python3.10/dist-packages (from google-auth<3,>=1.6.3->tensorboard<2.13,>=2.12->tensorflow<2.13,>=2.12.0->tensorflow_text) (0.3.0)\n",
            "Requirement already satisfied: rsa<5,>=3.1.4 in /usr/local/lib/python3.10/dist-packages (from google-auth<3,>=1.6.3->tensorboard<2.13,>=2.12->tensorflow<2.13,>=2.12.0->tensorflow_text) (4.9)\n",
            "Requirement already satisfied: requests-oauthlib>=0.7.0 in /usr/local/lib/python3.10/dist-packages (from google-auth-oauthlib<1.1,>=0.5->tensorboard<2.13,>=2.12->tensorflow<2.13,>=2.12.0->tensorflow_text) (1.3.1)\n",
            "Requirement already satisfied: urllib3<1.27,>=1.21.1 in /usr/local/lib/python3.10/dist-packages (from requests<3,>=2.21.0->tensorboard<2.13,>=2.12->tensorflow<2.13,>=2.12.0->tensorflow_text) (1.26.15)\n",
            "Requirement already satisfied: certifi>=2017.4.17 in /usr/local/lib/python3.10/dist-packages (from requests<3,>=2.21.0->tensorboard<2.13,>=2.12->tensorflow<2.13,>=2.12.0->tensorflow_text) (2022.12.7)\n",
            "Requirement already satisfied: charset-normalizer~=2.0.0 in /usr/local/lib/python3.10/dist-packages (from requests<3,>=2.21.0->tensorboard<2.13,>=2.12->tensorflow<2.13,>=2.12.0->tensorflow_text) (2.0.12)\n",
            "Requirement already satisfied: idna<4,>=2.5 in /usr/local/lib/python3.10/dist-packages (from requests<3,>=2.21.0->tensorboard<2.13,>=2.12->tensorflow<2.13,>=2.12.0->tensorflow_text) (3.4)\n",
            "Requirement already satisfied: MarkupSafe>=2.1.1 in /usr/local/lib/python3.10/dist-packages (from werkzeug>=1.0.1->tensorboard<2.13,>=2.12->tensorflow<2.13,>=2.12.0->tensorflow_text) (2.1.2)\n",
            "Requirement already satisfied: pyasn1<0.6.0,>=0.4.6 in /usr/local/lib/python3.10/dist-packages (from pyasn1-modules>=0.2.1->google-auth<3,>=1.6.3->tensorboard<2.13,>=2.12->tensorflow<2.13,>=2.12.0->tensorflow_text) (0.5.0)\n",
            "Requirement already satisfied: oauthlib>=3.0.0 in /usr/local/lib/python3.10/dist-packages (from requests-oauthlib>=0.7.0->google-auth-oauthlib<1.1,>=0.5->tensorboard<2.13,>=2.12->tensorflow<2.13,>=2.12.0->tensorflow_text) (3.2.2)\n"
          ]
        }
      ]
    },
    {
      "cell_type": "code",
      "execution_count": 2,
      "id": "7f8decb4",
      "metadata": {
        "id": "7f8decb4"
      },
      "outputs": [],
      "source": [
        "import os\n",
        "os.environ['TF_CPP_MIN_LOG_LEVEL'] = '3'"
      ]
    },
    {
      "cell_type": "code",
      "execution_count": 3,
      "id": "2e38acd0",
      "metadata": {
        "id": "2e38acd0"
      },
      "outputs": [],
      "source": [
        "import pandas as pd\n",
        "import numpy as np\n",
        "from transformers import AutoTokenizer, TFBertModel\n",
        "from sklearn.model_selection import train_test_split\n",
        "from sklearn.metrics import confusion_matrix, ConfusionMatrixDisplay\n",
        "import tensorflow as tf\n",
        "import tensorflow_hub as hub\n",
        "import tensorflow_text as text\n",
        "from tensorflow.keras.optimizers import Adam\n",
        "import keras_tuner as kt\n",
        "from keras.models import Model, Sequential\n",
        "from keras.layers import Input, Dense, Dropout, Embedding, LSTM, RNN, SimpleRNN, GRU\n",
        "from tensorflow.keras import regularizers\n",
        "from keras.callbacks import EarlyStopping\n",
        "import matplotlib.pyplot as plt"
      ]
    },
    {
      "cell_type": "code",
      "source": [
        "device_name = tf.test.gpu_device_name()\n",
        "if device_name != '/device:GPU:0':\n",
        "  raise SystemError('GPU device not found')\n",
        "print('Found GPU at: {}'.format(device_name))"
      ],
      "metadata": {
        "colab": {
          "base_uri": "https://localhost:8080/"
        },
        "id": "6z9aWJ8IP9gZ",
        "outputId": "0abdbb3e-d83c-4138-97a1-97f11da21e72"
      },
      "id": "6z9aWJ8IP9gZ",
      "execution_count": 4,
      "outputs": [
        {
          "output_type": "stream",
          "name": "stdout",
          "text": [
            "Found GPU at: /device:GPU:0\n"
          ]
        }
      ]
    },
    {
      "cell_type": "code",
      "execution_count": 5,
      "id": "bd682fd2",
      "metadata": {
        "id": "bd682fd2"
      },
      "outputs": [],
      "source": [
        "def plot_history(history):\n",
        "    loss_list = [s for s in history.history.keys() if 'loss' in s and 'val' not in s]\n",
        "    val_loss_list = [s for s in history.history.keys() if 'loss' in s and 'val' in s]\n",
        "    acc_list = [s for s in history.history.keys() if 'acc' in s and 'val' not in s]\n",
        "    val_acc_list = [s for s in history.history.keys() if 'acc' in s and 'val' in s]\n",
        "\n",
        "    if len(loss_list) == 0:\n",
        "        print('Loss is missing in history')\n",
        "        return\n",
        "\n",
        "    ## As loss always exists\n",
        "    epochs = range(1,len(history.history[loss_list[0]]) + 1)\n",
        "\n",
        "    ## Loss\n",
        "    plt.figure(1)\n",
        "    for l in loss_list:\n",
        "        plt.plot(epochs, history.history[l], 'b', label='Training loss (' + str(str(format(history.history[l][-1],'.5f'))+')'))\n",
        "    for l in val_loss_list:\n",
        "        plt.plot(epochs, history.history[l], 'g', label='Validation loss (' + str(str(format(history.history[l][-1],'.5f'))+')'))\n",
        "\n",
        "    plt.title('Loss')\n",
        "    plt.xlabel('Epochs')\n",
        "    plt.ylabel('Loss')\n",
        "    plt.legend()\n",
        "\n",
        "    ## Accuracy\n",
        "    plt.figure(2)\n",
        "    for l in acc_list:\n",
        "        plt.plot(epochs, history.history[l], 'b', label='Training accuracy (' + str(format(history.history[l][-1],'.5f'))+')')\n",
        "    for l in val_acc_list:\n",
        "        plt.plot(epochs, history.history[l], 'g', label='Validation accuracy (' + str(format(history.history[l][-1],'.5f'))+')')\n",
        "\n",
        "    plt.title('Accuracy')\n",
        "    plt.xlabel('Epochs')\n",
        "    plt.ylabel('Accuracy')\n",
        "    plt.legend()\n",
        "    plt.show()"
      ]
    },
    {
      "cell_type": "code",
      "execution_count": 6,
      "id": "918edc94",
      "metadata": {
        "id": "918edc94"
      },
      "outputs": [],
      "source": [
        "df = pd.read_csv(\"subtaskA_train.csv\")"
      ]
    },
    {
      "cell_type": "code",
      "execution_count": 7,
      "id": "786c8b41",
      "metadata": {
        "colab": {
          "base_uri": "https://localhost:8080/"
        },
        "id": "786c8b41",
        "outputId": "7c01e8de-7a84-4961-c8ee-4a93fb7e11de"
      },
      "outputs": [
        {
          "output_type": "stream",
          "name": "stdout",
          "text": [
            "<class 'pandas.core.frame.DataFrame'>\n",
            "RangeIndex: 1842 entries, 0 to 1841\n",
            "Data columns (total 3 columns):\n",
            " #   Column          Non-Null Count  Dtype \n",
            "---  ------          --------------  ----- \n",
            " 0   Id              1842 non-null   int64 \n",
            " 1   comment_text    1842 non-null   object\n",
            " 2   conspiratorial  1842 non-null   int64 \n",
            "dtypes: int64(2), object(1)\n",
            "memory usage: 43.3+ KB\n"
          ]
        }
      ],
      "source": [
        "df.info()"
      ]
    },
    {
      "cell_type": "code",
      "execution_count": 8,
      "id": "e5e9d04d",
      "metadata": {
        "id": "e5e9d04d"
      },
      "outputs": [],
      "source": [
        "df = df[:800]"
      ]
    },
    {
      "cell_type": "code",
      "execution_count": 9,
      "id": "c01543ab",
      "metadata": {
        "colab": {
          "base_uri": "https://localhost:8080/"
        },
        "id": "c01543ab",
        "outputId": "b467112c-ca2c-4ba5-8b1b-a90c0d462dd4"
      },
      "outputs": [
        {
          "output_type": "stream",
          "name": "stdout",
          "text": [
            "<class 'pandas.core.frame.DataFrame'>\n",
            "RangeIndex: 800 entries, 0 to 799\n",
            "Data columns (total 3 columns):\n",
            " #   Column          Non-Null Count  Dtype \n",
            "---  ------          --------------  ----- \n",
            " 0   Id              800 non-null    int64 \n",
            " 1   comment_text    800 non-null    object\n",
            " 2   conspiratorial  800 non-null    int64 \n",
            "dtypes: int64(2), object(1)\n",
            "memory usage: 18.9+ KB\n"
          ]
        }
      ],
      "source": [
        "df.info()"
      ]
    },
    {
      "cell_type": "markdown",
      "id": "693b9189",
      "metadata": {
        "id": "693b9189"
      },
      "source": [
        "## Pre processing"
      ]
    },
    {
      "cell_type": "code",
      "execution_count": 10,
      "id": "55a512ba",
      "metadata": {
        "scrolled": true,
        "colab": {
          "base_uri": "https://localhost:8080/",
          "height": 447
        },
        "id": "55a512ba",
        "outputId": "a818ec5a-f978-4ab3-cc77-f6657a2485de"
      },
      "outputs": [
        {
          "output_type": "execute_result",
          "data": {
            "text/plain": [
              "<Axes: >"
            ]
          },
          "metadata": {},
          "execution_count": 10
        },
        {
          "output_type": "display_data",
          "data": {
            "text/plain": [
              "<Figure size 640x480 with 1 Axes>"
            ],
            "image/png": "[encoded data removed]"
          },
          "metadata": {}
        }
      ],
      "source": [
        "df[\"comment_text\"].map(len).hist()"
      ]
    },
    {
      "cell_type": "code",
      "execution_count": 11,
      "id": "2f575033",
      "metadata": {
        "colab": {
          "base_uri": "https://localhost:8080/",
          "height": 447
        },
        "id": "2f575033",
        "outputId": "72d84eb0-edad-493d-b0f6-969d83276cd2"
      },
      "outputs": [
        {
          "output_type": "execute_result",
          "data": {
            "text/plain": [
              "<Axes: >"
            ]
          },
          "metadata": {},
          "execution_count": 11
        },
        {
          "output_type": "display_data",
          "data": {
            "text/plain": [
              "<Figure size 640x480 with 1 Axes>"
            ],
            "image/png": "[encoded data removed]"
          },
          "metadata": {}
        }
      ],
      "source": [
        "df[\"conspiratorial\"].hist()"
      ]
    },
    {
      "cell_type": "code",
      "execution_count": 12,
      "id": "cd717ad9",
      "metadata": {
        "colab": {
          "base_uri": "https://localhost:8080/"
        },
        "id": "cd717ad9",
        "outputId": "d911aa8b-a861-4ab2-a220-3791f78cf73d"
      },
      "outputs": [
        {
          "output_type": "stream",
          "name": "stdout",
          "text": [
            "<class 'pandas.core.frame.DataFrame'>\n",
            "RangeIndex: 800 entries, 0 to 799\n",
            "Data columns (total 3 columns):\n",
            " #   Column          Non-Null Count  Dtype \n",
            "---  ------          --------------  ----- \n",
            " 0   Id              800 non-null    int64 \n",
            " 1   comment_text    800 non-null    object\n",
            " 2   conspiratorial  800 non-null    int64 \n",
            "dtypes: int64(2), object(1)\n",
            "memory usage: 18.9+ KB\n"
          ]
        }
      ],
      "source": [
        "df.info()"
      ]
    },
    {
      "cell_type": "markdown",
      "id": "db2a186c",
      "metadata": {
        "id": "db2a186c"
      },
      "source": [
        "## Costruzione di train e test set"
      ]
    },
    {
      "cell_type": "code",
      "execution_count": 13,
      "id": "4e2bee79",
      "metadata": {
        "id": "4e2bee79"
      },
      "outputs": [],
      "source": [
        "X = df[\"comment_text\"]\n",
        "y = df[\"conspiratorial\"]"
      ]
    },
    {
      "cell_type": "code",
      "execution_count": 14,
      "id": "75143b88",
      "metadata": {
        "id": "75143b88"
      },
      "outputs": [],
      "source": [
        "X_train, X_test, y_train, y_test = train_test_split(X, y, stratify = y, test_size = 0.25, random_state = 10)"
      ]
    },
    {
      "cell_type": "code",
      "execution_count": 15,
      "id": "f50931f8",
      "metadata": {
        "id": "f50931f8"
      },
      "outputs": [],
      "source": [
        "#tfhub_handle_encoder = \"https://tfhub.dev/jeongukjae/xlm_roberta_multi_cased_L-24_H-1024_A-16/1\"\n",
        "#tfhub_handle_preprocess = \"https://tfhub.dev/jeongukjae/xlm_roberta_multi_cased_preprocess/1\"\n",
        "tfhub_handle_encoder = \"https://tfhub.dev/google/universal-sentence-encoder-multilingual/3\"\n",
        "tfhub_handle_preprocess = \"https://tfhub.dev/google/universal-sentence-encoder-multilingual/3\""
      ]
    },
    {
      "cell_type": "code",
      "execution_count": 65,
      "id": "e95150b5",
      "metadata": {
        "id": "e95150b5"
      },
      "outputs": [],
      "source": [
        "def build_classifier_model():\n",
        "    # defining inputs\n",
        "    text_input = tf.keras.layers.Input(shape=(), dtype=tf.string, name='text')\n",
        "\n",
        "    # defining preprocessing\n",
        "    #preprocessing_layer = hub.KerasLayer(tfhub_handle_preprocess, name='preprocessing')\n",
        "\n",
        "    # defining encoder\n",
        "    #encoder_inputs = preprocessing_layer(text_input)\n",
        "    encoder = hub.KerasLayer(tfhub_handle_encoder, trainable=False, name='BERT_encoder')\n",
        "\n",
        "    # defining outputs\n",
        "    #outputs = encoder(encoder_inputs)\n",
        "    net = encoder(text_input)\n",
        "    #net = outputs['pooled_output']\n",
        "    #net = tf.keras.layers.Dropout(0.1)(net)\n",
        "\n",
        "    # Reshape net to add a time step dimension\n",
        "    net = tf.expand_dims(net, axis=1)\n",
        "\n",
        "    lstm_units = 3 # hp.Int('units', min_value=5, max_value=30, step=5)\n",
        "    #model.add(keras.layers.Dense(units=hp_units, activation='relu'))\n",
        "\n",
        "    net = LSTM(\n",
        "        units=5,\n",
        "        #kernel_regularizer=regularizers.L2(l2=1e-5),\n",
        "        #dropout=0.1\n",
        "    )(net)\n",
        "    \"\"\"\n",
        "    net = tf.keras.layers.LSTM(\n",
        "        units = lstm_units\n",
        "    )(net)\n",
        "    \"\"\"\n",
        "    net = tf.keras.layers.Dense(20,activation=\"relu\")(net)\n",
        "    net = tf.keras.layers.Dense(20, activation=\"relu\")(net)\n",
        "    net = tf.keras.layers.Dense(20, activation=\"relu\")(net)\n",
        "    net = tf.keras.layers.Dense(1, activation=\"sigmoid\", name='classifier')(net)\n",
        "\n",
        "    model = tf.keras.Model(text_input, net)\n",
        "\n",
        "    \"\"\"\n",
        "    optimizer = Adam(\n",
        "        learning_rate=hp.Choice('learning_rate', values=[1e-4, 1e-5, 1e-6]),\n",
        "        epsilon=1e-08,\n",
        "        clipnorm=0.1\n",
        "    )\n",
        "    \"\"\"\n",
        "    optimizer = Adam(\n",
        "        learning_rate=1e-4,\n",
        "        epsilon=1e-08,\n",
        "        clipnorm=0.1\n",
        "    )\n",
        "\n",
        "    model.compile(\n",
        "        optimizer=optimizer,\n",
        "        loss = 'binary_crossentropy',\n",
        "        metrics = 'accuracy'\n",
        "    )\n",
        "\n",
        "    return model\n"
      ]
    },
    {
      "cell_type": "code",
      "execution_count": 44,
      "id": "7ae4ee76",
      "metadata": {
        "colab": {
          "base_uri": "https://localhost:8080/",
          "height": 53
        },
        "id": "7ae4ee76",
        "outputId": "23669cee-10dd-4f0e-d3a6-7007dd462998"
      },
      "outputs": [
        {
          "output_type": "execute_result",
          "data": {
            "text/plain": [
              "\"\\ntuner = kt.RandomSearch(\\n    hypermodel=build_classifier_model,\\n    objective='val_accuracy'\\n)\\n\""
            ],
            "application/vnd.google.colaboratory.intrinsic+json": {
              "type": "string"
            }
          },
          "metadata": {},
          "execution_count": 44
        }
      ],
      "source": [
        "\"\"\"\n",
        "tuner = kt.RandomSearch(\n",
        "    hypermodel=build_classifier_model,\n",
        "    objective='val_accuracy'\n",
        ")\n",
        "\"\"\""
      ]
    },
    {
      "cell_type": "code",
      "execution_count": 45,
      "id": "1851220e",
      "metadata": {
        "id": "1851220e"
      },
      "outputs": [],
      "source": [
        "loss = tf.keras.losses.BinaryCrossentropy(from_logits=True)\n",
        "metrics = tf.metrics.Accuracy()"
      ]
    },
    {
      "cell_type": "code",
      "execution_count": 46,
      "id": "5831c33f",
      "metadata": {
        "scrolled": true,
        "colab": {
          "base_uri": "https://localhost:8080/",
          "height": 70
        },
        "id": "5831c33f",
        "outputId": "c48eab42-4b29-4f83-c649-b03e20f67540"
      },
      "outputs": [
        {
          "output_type": "execute_result",
          "data": {
            "text/plain": [
              "\"\\nprint(f'Training model with {tfhub_handle_encoder}')\\ntuner.search(\\n    x = X_train, \\n    y = y_train,\\n    epochs = 5, \\n    validation_split = 0.25, \\n    callbacks = [\\n        #EarlyStopping(monitor='val_accuracy' ,mode='max', patience=3,verbose=False,restore_best_weights=True)\\n    ]\\n)\\n\""
            ],
            "application/vnd.google.colaboratory.intrinsic+json": {
              "type": "string"
            }
          },
          "metadata": {},
          "execution_count": 46
        }
      ],
      "source": [
        "\"\"\"\n",
        "print(f'Training model with {tfhub_handle_encoder}')\n",
        "tuner.search(\n",
        "    x = X_train,\n",
        "    y = y_train,\n",
        "    epochs = 5,\n",
        "    validation_split = 0.25,\n",
        "    callbacks = [\n",
        "        #EarlyStopping(monitor='val_accuracy' ,mode='max', patience=3,verbose=False,restore_best_weights=True)\n",
        "    ]\n",
        ")\n",
        "\"\"\""
      ]
    },
    {
      "cell_type": "code",
      "execution_count": 66,
      "id": "6e403351",
      "metadata": {
        "id": "6e403351"
      },
      "outputs": [],
      "source": [
        "classifier_model = build_classifier_model()"
      ]
    },
    {
      "cell_type": "code",
      "execution_count": 67,
      "id": "8520f047",
      "metadata": {
        "colab": {
          "base_uri": "https://localhost:8080/"
        },
        "id": "8520f047",
        "outputId": "bc5a3217-8c82-4e07-a689-ceab1fc9875b"
      },
      "outputs": [
        {
          "output_type": "stream",
          "name": "stdout",
          "text": [
            "Training model with https://tfhub.dev/google/universal-sentence-encoder-multilingual/3\n",
            "Epoch 1/200\n",
            "15/15 [==============================] - 13s 150ms/step - loss: 0.6933 - accuracy: 0.4844 - val_loss: 0.6932 - val_accuracy: 0.5067\n",
            "Epoch 2/200\n",
            "15/15 [==============================] - 1s 66ms/step - loss: 0.6931 - accuracy: 0.5178 - val_loss: 0.6930 - val_accuracy: 0.4933\n",
            "Epoch 3/200\n",
            "15/15 [==============================] - 1s 66ms/step - loss: 0.6930 - accuracy: 0.5267 - val_loss: 0.6928 - val_accuracy: 0.5467\n",
            "Epoch 4/200\n",
            "15/15 [==============================] - 1s 55ms/step - loss: 0.6929 - accuracy: 0.5467 - val_loss: 0.6926 - val_accuracy: 0.5400\n",
            "Epoch 5/200\n",
            "15/15 [==============================] - 1s 67ms/step - loss: 0.6927 - accuracy: 0.5600 - val_loss: 0.6925 - val_accuracy: 0.5600\n",
            "Epoch 6/200\n",
            "15/15 [==============================] - 1s 38ms/step - loss: 0.6925 - accuracy: 0.5778 - val_loss: 0.6923 - val_accuracy: 0.5800\n",
            "Epoch 7/200\n",
            "15/15 [==============================] - 1s 37ms/step - loss: 0.6923 - accuracy: 0.5733 - val_loss: 0.6920 - val_accuracy: 0.5867\n",
            "Epoch 8/200\n",
            "15/15 [==============================] - 1s 35ms/step - loss: 0.6920 - accuracy: 0.6089 - val_loss: 0.6917 - val_accuracy: 0.5867\n",
            "Epoch 9/200\n",
            "15/15 [==============================] - 1s 37ms/step - loss: 0.6915 - accuracy: 0.6044 - val_loss: 0.6913 - val_accuracy: 0.5867\n",
            "Epoch 10/200\n",
            "15/15 [==============================] - 0s 33ms/step - loss: 0.6912 - accuracy: 0.5933 - val_loss: 0.6909 - val_accuracy: 0.6133\n",
            "Epoch 11/200\n",
            "15/15 [==============================] - 1s 37ms/step - loss: 0.6908 - accuracy: 0.6267 - val_loss: 0.6904 - val_accuracy: 0.6200\n",
            "Epoch 12/200\n",
            "15/15 [==============================] - 1s 37ms/step - loss: 0.6902 - accuracy: 0.6400 - val_loss: 0.6897 - val_accuracy: 0.6267\n",
            "Epoch 13/200\n",
            "15/15 [==============================] - 1s 35ms/step - loss: 0.6896 - accuracy: 0.6356 - val_loss: 0.6890 - val_accuracy: 0.6733\n",
            "Epoch 14/200\n",
            "15/15 [==============================] - 1s 34ms/step - loss: 0.6886 - accuracy: 0.6711 - val_loss: 0.6882 - val_accuracy: 0.6800\n",
            "Epoch 15/200\n",
            "15/15 [==============================] - 0s 31ms/step - loss: 0.6883 - accuracy: 0.6578 - val_loss: 0.6873 - val_accuracy: 0.6933\n",
            "Epoch 16/200\n",
            "15/15 [==============================] - 0s 31ms/step - loss: 0.6872 - accuracy: 0.6533 - val_loss: 0.6863 - val_accuracy: 0.7200\n",
            "Epoch 17/200\n",
            "15/15 [==============================] - 0s 32ms/step - loss: 0.6861 - accuracy: 0.6822 - val_loss: 0.6851 - val_accuracy: 0.7333\n",
            "Epoch 18/200\n",
            "15/15 [==============================] - 0s 32ms/step - loss: 0.6853 - accuracy: 0.6800 - val_loss: 0.6836 - val_accuracy: 0.7400\n",
            "Epoch 19/200\n",
            "15/15 [==============================] - 1s 37ms/step - loss: 0.6833 - accuracy: 0.7133 - val_loss: 0.6823 - val_accuracy: 0.7333\n",
            "Epoch 20/200\n",
            "15/15 [==============================] - 0s 33ms/step - loss: 0.6812 - accuracy: 0.7111 - val_loss: 0.6808 - val_accuracy: 0.7400\n",
            "Epoch 21/200\n",
            "15/15 [==============================] - 0s 33ms/step - loss: 0.6802 - accuracy: 0.7111 - val_loss: 0.6791 - val_accuracy: 0.7467\n",
            "Epoch 22/200\n",
            "15/15 [==============================] - 0s 32ms/step - loss: 0.6769 - accuracy: 0.7511 - val_loss: 0.6771 - val_accuracy: 0.7600\n",
            "Epoch 23/200\n",
            "15/15 [==============================] - 0s 32ms/step - loss: 0.6756 - accuracy: 0.7444 - val_loss: 0.6750 - val_accuracy: 0.7733\n",
            "Epoch 24/200\n",
            "15/15 [==============================] - 0s 32ms/step - loss: 0.6736 - accuracy: 0.7489 - val_loss: 0.6729 - val_accuracy: 0.7800\n",
            "Epoch 25/200\n",
            "15/15 [==============================] - 1s 36ms/step - loss: 0.6710 - accuracy: 0.7356 - val_loss: 0.6706 - val_accuracy: 0.7800\n",
            "Epoch 26/200\n",
            "15/15 [==============================] - 1s 61ms/step - loss: 0.6689 - accuracy: 0.7378 - val_loss: 0.6680 - val_accuracy: 0.7733\n",
            "Epoch 27/200\n",
            "15/15 [==============================] - 1s 52ms/step - loss: 0.6661 - accuracy: 0.7444 - val_loss: 0.6656 - val_accuracy: 0.7933\n",
            "Epoch 28/200\n",
            "15/15 [==============================] - 1s 66ms/step - loss: 0.6626 - accuracy: 0.7667 - val_loss: 0.6629 - val_accuracy: 0.7800\n",
            "Epoch 29/200\n",
            "15/15 [==============================] - 1s 62ms/step - loss: 0.6586 - accuracy: 0.7578 - val_loss: 0.6598 - val_accuracy: 0.7933\n",
            "Epoch 30/200\n",
            "15/15 [==============================] - 1s 39ms/step - loss: 0.6561 - accuracy: 0.7489 - val_loss: 0.6566 - val_accuracy: 0.7933\n",
            "Epoch 31/200\n",
            "15/15 [==============================] - 1s 36ms/step - loss: 0.6519 - accuracy: 0.7622 - val_loss: 0.6532 - val_accuracy: 0.7867\n",
            "Epoch 32/200\n",
            "15/15 [==============================] - 0s 33ms/step - loss: 0.6478 - accuracy: 0.7756 - val_loss: 0.6497 - val_accuracy: 0.7933\n",
            "Epoch 33/200\n",
            "15/15 [==============================] - 1s 35ms/step - loss: 0.6441 - accuracy: 0.7622 - val_loss: 0.6460 - val_accuracy: 0.7933\n",
            "Epoch 34/200\n",
            "15/15 [==============================] - 1s 36ms/step - loss: 0.6390 - accuracy: 0.7778 - val_loss: 0.6420 - val_accuracy: 0.7933\n",
            "Epoch 35/200\n",
            "15/15 [==============================] - 0s 32ms/step - loss: 0.6352 - accuracy: 0.7756 - val_loss: 0.6383 - val_accuracy: 0.7867\n",
            "Epoch 36/200\n",
            "15/15 [==============================] - 0s 32ms/step - loss: 0.6311 - accuracy: 0.7822 - val_loss: 0.6347 - val_accuracy: 0.8000\n",
            "Epoch 37/200\n",
            "15/15 [==============================] - 0s 34ms/step - loss: 0.6247 - accuracy: 0.7933 - val_loss: 0.6312 - val_accuracy: 0.7867\n",
            "Epoch 38/200\n",
            "15/15 [==============================] - 1s 37ms/step - loss: 0.6215 - accuracy: 0.8022 - val_loss: 0.6272 - val_accuracy: 0.7867\n",
            "Epoch 39/200\n",
            "15/15 [==============================] - 0s 33ms/step - loss: 0.6178 - accuracy: 0.7956 - val_loss: 0.6229 - val_accuracy: 0.7867\n",
            "Epoch 40/200\n",
            "15/15 [==============================] - 0s 32ms/step - loss: 0.6115 - accuracy: 0.8044 - val_loss: 0.6187 - val_accuracy: 0.7733\n",
            "Epoch 41/200\n",
            "15/15 [==============================] - 1s 34ms/step - loss: 0.6065 - accuracy: 0.8022 - val_loss: 0.6141 - val_accuracy: 0.7800\n",
            "Epoch 42/200\n",
            "15/15 [==============================] - 1s 36ms/step - loss: 0.5999 - accuracy: 0.7911 - val_loss: 0.6097 - val_accuracy: 0.7867\n",
            "Epoch 43/200\n",
            "15/15 [==============================] - 0s 31ms/step - loss: 0.5978 - accuracy: 0.8022 - val_loss: 0.6052 - val_accuracy: 0.7867\n",
            "Epoch 44/200\n",
            "15/15 [==============================] - 1s 37ms/step - loss: 0.5904 - accuracy: 0.7933 - val_loss: 0.6004 - val_accuracy: 0.7800\n",
            "Epoch 45/200\n",
            "15/15 [==============================] - 1s 37ms/step - loss: 0.5842 - accuracy: 0.8000 - val_loss: 0.5954 - val_accuracy: 0.7800\n",
            "Epoch 46/200\n",
            "15/15 [==============================] - 1s 40ms/step - loss: 0.5772 - accuracy: 0.7933 - val_loss: 0.5905 - val_accuracy: 0.7800\n",
            "Epoch 47/200\n",
            "15/15 [==============================] - 0s 33ms/step - loss: 0.5718 - accuracy: 0.8067 - val_loss: 0.5856 - val_accuracy: 0.7800\n",
            "Epoch 48/200\n",
            "15/15 [==============================] - 1s 36ms/step - loss: 0.5669 - accuracy: 0.8111 - val_loss: 0.5808 - val_accuracy: 0.7733\n",
            "Epoch 49/200\n",
            "15/15 [==============================] - 1s 53ms/step - loss: 0.5605 - accuracy: 0.8044 - val_loss: 0.5763 - val_accuracy: 0.7800\n",
            "Epoch 50/200\n",
            "15/15 [==============================] - 1s 49ms/step - loss: 0.5518 - accuracy: 0.8156 - val_loss: 0.5714 - val_accuracy: 0.7867\n",
            "Epoch 51/200\n",
            "15/15 [==============================] - 1s 50ms/step - loss: 0.5464 - accuracy: 0.8267 - val_loss: 0.5665 - val_accuracy: 0.7800\n",
            "Epoch 52/200\n",
            "15/15 [==============================] - 1s 53ms/step - loss: 0.5396 - accuracy: 0.8178 - val_loss: 0.5616 - val_accuracy: 0.7800\n",
            "Epoch 53/200\n",
            "15/15 [==============================] - 1s 50ms/step - loss: 0.5330 - accuracy: 0.8244 - val_loss: 0.5574 - val_accuracy: 0.7733\n",
            "Epoch 54/200\n",
            "15/15 [==============================] - 1s 46ms/step - loss: 0.5286 - accuracy: 0.8333 - val_loss: 0.5528 - val_accuracy: 0.7733\n",
            "Epoch 55/200\n",
            "15/15 [==============================] - 1s 37ms/step - loss: 0.5222 - accuracy: 0.8356 - val_loss: 0.5484 - val_accuracy: 0.7733\n",
            "Epoch 56/200\n",
            "15/15 [==============================] - 1s 37ms/step - loss: 0.5156 - accuracy: 0.8289 - val_loss: 0.5438 - val_accuracy: 0.7733\n",
            "Epoch 57/200\n",
            "15/15 [==============================] - 1s 37ms/step - loss: 0.5107 - accuracy: 0.8333 - val_loss: 0.5393 - val_accuracy: 0.7733\n",
            "Epoch 58/200\n",
            "15/15 [==============================] - 0s 32ms/step - loss: 0.5061 - accuracy: 0.8356 - val_loss: 0.5352 - val_accuracy: 0.7667\n",
            "Epoch 59/200\n",
            "15/15 [==============================] - 0s 33ms/step - loss: 0.4983 - accuracy: 0.8289 - val_loss: 0.5310 - val_accuracy: 0.7733\n",
            "Epoch 60/200\n",
            "15/15 [==============================] - 1s 35ms/step - loss: 0.4899 - accuracy: 0.8289 - val_loss: 0.5270 - val_accuracy: 0.7600\n",
            "Epoch 61/200\n",
            "15/15 [==============================] - 1s 36ms/step - loss: 0.4879 - accuracy: 0.8444 - val_loss: 0.5226 - val_accuracy: 0.7600\n",
            "Epoch 62/200\n",
            "15/15 [==============================] - 0s 33ms/step - loss: 0.4799 - accuracy: 0.8400 - val_loss: 0.5186 - val_accuracy: 0.7600\n",
            "Epoch 63/200\n",
            "15/15 [==============================] - 0s 33ms/step - loss: 0.4748 - accuracy: 0.8422 - val_loss: 0.5146 - val_accuracy: 0.7600\n",
            "Epoch 64/200\n",
            "15/15 [==============================] - 1s 36ms/step - loss: 0.4646 - accuracy: 0.8444 - val_loss: 0.5115 - val_accuracy: 0.7600\n",
            "Epoch 65/200\n",
            "15/15 [==============================] - 1s 34ms/step - loss: 0.4589 - accuracy: 0.8511 - val_loss: 0.5078 - val_accuracy: 0.7667\n",
            "Epoch 66/200\n",
            "15/15 [==============================] - 1s 35ms/step - loss: 0.4560 - accuracy: 0.8378 - val_loss: 0.5038 - val_accuracy: 0.7600\n",
            "Epoch 67/200\n",
            "15/15 [==============================] - 0s 32ms/step - loss: 0.4523 - accuracy: 0.8267 - val_loss: 0.5009 - val_accuracy: 0.7667\n",
            "Epoch 68/200\n",
            "15/15 [==============================] - 0s 32ms/step - loss: 0.4428 - accuracy: 0.8511 - val_loss: 0.4989 - val_accuracy: 0.7600\n",
            "Epoch 69/200\n",
            "15/15 [==============================] - 1s 37ms/step - loss: 0.4410 - accuracy: 0.8556 - val_loss: 0.4953 - val_accuracy: 0.7600\n",
            "Epoch 70/200\n",
            "15/15 [==============================] - 0s 32ms/step - loss: 0.4319 - accuracy: 0.8533 - val_loss: 0.4924 - val_accuracy: 0.7600\n",
            "Epoch 71/200\n",
            "15/15 [==============================] - 0s 32ms/step - loss: 0.4313 - accuracy: 0.8467 - val_loss: 0.4897 - val_accuracy: 0.7600\n",
            "Epoch 72/200\n",
            "15/15 [==============================] - 1s 34ms/step - loss: 0.4202 - accuracy: 0.8422 - val_loss: 0.4863 - val_accuracy: 0.7533\n",
            "Epoch 73/200\n",
            "15/15 [==============================] - 1s 35ms/step - loss: 0.4146 - accuracy: 0.8556 - val_loss: 0.4836 - val_accuracy: 0.7533\n",
            "Epoch 74/200\n",
            "15/15 [==============================] - 1s 46ms/step - loss: 0.4101 - accuracy: 0.8467 - val_loss: 0.4814 - val_accuracy: 0.7533\n",
            "Epoch 75/200\n",
            "15/15 [==============================] - 1s 52ms/step - loss: 0.4055 - accuracy: 0.8489 - val_loss: 0.4794 - val_accuracy: 0.7533\n",
            "Epoch 76/200\n",
            "15/15 [==============================] - 1s 63ms/step - loss: 0.3991 - accuracy: 0.8578 - val_loss: 0.4779 - val_accuracy: 0.7533\n",
            "Epoch 77/200\n",
            "15/15 [==============================] - 1s 61ms/step - loss: 0.4015 - accuracy: 0.8489 - val_loss: 0.4774 - val_accuracy: 0.7533\n",
            "Epoch 78/200\n",
            "15/15 [==============================] - 1s 64ms/step - loss: 0.3876 - accuracy: 0.8622 - val_loss: 0.4758 - val_accuracy: 0.7533\n",
            "Epoch 79/200\n",
            "15/15 [==============================] - 1s 35ms/step - loss: 0.3907 - accuracy: 0.8644 - val_loss: 0.4744 - val_accuracy: 0.7533\n",
            "Epoch 80/200\n",
            "15/15 [==============================] - 0s 33ms/step - loss: 0.3890 - accuracy: 0.8733 - val_loss: 0.4738 - val_accuracy: 0.7600\n",
            "Epoch 81/200\n",
            "15/15 [==============================] - 0s 33ms/step - loss: 0.3815 - accuracy: 0.8578 - val_loss: 0.4728 - val_accuracy: 0.7600\n",
            "Epoch 82/200\n",
            "15/15 [==============================] - 1s 35ms/step - loss: 0.3851 - accuracy: 0.8578 - val_loss: 0.4719 - val_accuracy: 0.7600\n",
            "Epoch 83/200\n",
            "15/15 [==============================] - 0s 32ms/step - loss: 0.3728 - accuracy: 0.8667 - val_loss: 0.4711 - val_accuracy: 0.7600\n",
            "Epoch 84/200\n",
            "15/15 [==============================] - 0s 32ms/step - loss: 0.3738 - accuracy: 0.8644 - val_loss: 0.4712 - val_accuracy: 0.7600\n",
            "Epoch 85/200\n",
            "15/15 [==============================] - 0s 32ms/step - loss: 0.3750 - accuracy: 0.8578 - val_loss: 0.4708 - val_accuracy: 0.7600\n",
            "Epoch 86/200\n",
            "15/15 [==============================] - 1s 35ms/step - loss: 0.3579 - accuracy: 0.8778 - val_loss: 0.4699 - val_accuracy: 0.7600\n",
            "Epoch 87/200\n",
            "15/15 [==============================] - 0s 33ms/step - loss: 0.3613 - accuracy: 0.8667 - val_loss: 0.4697 - val_accuracy: 0.7600\n",
            "Epoch 88/200\n",
            "15/15 [==============================] - 0s 33ms/step - loss: 0.3547 - accuracy: 0.8711 - val_loss: 0.4686 - val_accuracy: 0.7600\n",
            "Epoch 89/200\n",
            "15/15 [==============================] - 1s 35ms/step - loss: 0.3526 - accuracy: 0.8778 - val_loss: 0.4685 - val_accuracy: 0.7600\n",
            "Epoch 90/200\n",
            "15/15 [==============================] - 1s 51ms/step - loss: 0.3480 - accuracy: 0.8733 - val_loss: 0.4685 - val_accuracy: 0.7600\n",
            "Epoch 91/200\n",
            "15/15 [==============================] - 1s 65ms/step - loss: 0.3439 - accuracy: 0.8867 - val_loss: 0.4694 - val_accuracy: 0.7600\n",
            "Epoch 92/200\n",
            "15/15 [==============================] - 1s 55ms/step - loss: 0.3392 - accuracy: 0.8844 - val_loss: 0.4691 - val_accuracy: 0.7533\n",
            "Epoch 93/200\n",
            "15/15 [==============================] - 1s 63ms/step - loss: 0.3359 - accuracy: 0.8778 - val_loss: 0.4697 - val_accuracy: 0.7600\n",
            "Epoch 94/200\n",
            "15/15 [==============================] - 1s 52ms/step - loss: 0.3381 - accuracy: 0.8778 - val_loss: 0.4702 - val_accuracy: 0.7667\n",
            "Epoch 95/200\n",
            "15/15 [==============================] - 1s 49ms/step - loss: 0.3282 - accuracy: 0.8800 - val_loss: 0.4701 - val_accuracy: 0.7533\n",
            "Epoch 96/200\n",
            "15/15 [==============================] - 1s 65ms/step - loss: 0.3313 - accuracy: 0.8778 - val_loss: 0.4709 - val_accuracy: 0.7533\n",
            "Epoch 97/200\n",
            "15/15 [==============================] - 1s 65ms/step - loss: 0.3262 - accuracy: 0.8800 - val_loss: 0.4716 - val_accuracy: 0.7533\n",
            "Epoch 98/200\n",
            "15/15 [==============================] - 1s 60ms/step - loss: 0.3197 - accuracy: 0.8844 - val_loss: 0.4731 - val_accuracy: 0.7600\n",
            "Epoch 99/200\n",
            "15/15 [==============================] - 1s 49ms/step - loss: 0.3281 - accuracy: 0.8733 - val_loss: 0.4735 - val_accuracy: 0.7533\n",
            "Epoch 100/200\n",
            "15/15 [==============================] - 1s 36ms/step - loss: 0.3194 - accuracy: 0.8800 - val_loss: 0.4742 - val_accuracy: 0.7533\n",
            "Epoch 101/200\n",
            "15/15 [==============================] - 1s 36ms/step - loss: 0.3169 - accuracy: 0.8933 - val_loss: 0.4754 - val_accuracy: 0.7533\n",
            "Epoch 102/200\n",
            "15/15 [==============================] - 1s 34ms/step - loss: 0.3179 - accuracy: 0.8778 - val_loss: 0.4759 - val_accuracy: 0.7533\n",
            "Epoch 103/200\n",
            "15/15 [==============================] - 0s 33ms/step - loss: 0.3104 - accuracy: 0.8978 - val_loss: 0.4782 - val_accuracy: 0.7533\n",
            "Epoch 104/200\n",
            "15/15 [==============================] - 0s 32ms/step - loss: 0.3239 - accuracy: 0.8800 - val_loss: 0.4794 - val_accuracy: 0.7467\n",
            "Epoch 105/200\n",
            "15/15 [==============================] - 1s 36ms/step - loss: 0.3003 - accuracy: 0.8956 - val_loss: 0.4801 - val_accuracy: 0.7467\n",
            "Epoch 106/200\n",
            "15/15 [==============================] - 0s 31ms/step - loss: 0.3121 - accuracy: 0.8933 - val_loss: 0.4815 - val_accuracy: 0.7533\n",
            "Epoch 107/200\n",
            "15/15 [==============================] - 1s 36ms/step - loss: 0.2999 - accuracy: 0.8911 - val_loss: 0.4821 - val_accuracy: 0.7600\n",
            "Epoch 108/200\n",
            "15/15 [==============================] - 1s 36ms/step - loss: 0.2959 - accuracy: 0.8911 - val_loss: 0.4833 - val_accuracy: 0.7600\n",
            "Epoch 109/200\n",
            "15/15 [==============================] - 1s 37ms/step - loss: 0.2979 - accuracy: 0.8956 - val_loss: 0.4852 - val_accuracy: 0.7667\n",
            "Epoch 110/200\n",
            "15/15 [==============================] - 1s 36ms/step - loss: 0.2938 - accuracy: 0.9000 - val_loss: 0.4866 - val_accuracy: 0.7600\n",
            "Epoch 111/200\n",
            "15/15 [==============================] - 1s 34ms/step - loss: 0.2970 - accuracy: 0.9000 - val_loss: 0.4875 - val_accuracy: 0.7667\n",
            "Epoch 112/200\n",
            "15/15 [==============================] - 0s 31ms/step - loss: 0.2926 - accuracy: 0.8911 - val_loss: 0.4889 - val_accuracy: 0.7667\n",
            "Epoch 113/200\n",
            "15/15 [==============================] - 1s 37ms/step - loss: 0.2937 - accuracy: 0.8911 - val_loss: 0.4903 - val_accuracy: 0.7667\n",
            "Epoch 114/200\n",
            "15/15 [==============================] - 1s 35ms/step - loss: 0.2858 - accuracy: 0.8978 - val_loss: 0.4920 - val_accuracy: 0.7733\n",
            "Epoch 115/200\n",
            "15/15 [==============================] - 0s 33ms/step - loss: 0.2918 - accuracy: 0.9044 - val_loss: 0.4940 - val_accuracy: 0.7667\n",
            "Epoch 116/200\n",
            "15/15 [==============================] - 0s 31ms/step - loss: 0.2872 - accuracy: 0.8956 - val_loss: 0.4960 - val_accuracy: 0.7667\n",
            "Epoch 117/200\n",
            "15/15 [==============================] - 1s 34ms/step - loss: 0.2806 - accuracy: 0.9000 - val_loss: 0.4977 - val_accuracy: 0.7667\n",
            "Epoch 118/200\n",
            "15/15 [==============================] - 0s 32ms/step - loss: 0.2797 - accuracy: 0.9000 - val_loss: 0.4995 - val_accuracy: 0.7667\n",
            "Epoch 119/200\n",
            "15/15 [==============================] - 1s 51ms/step - loss: 0.2724 - accuracy: 0.9111 - val_loss: 0.5020 - val_accuracy: 0.7733\n",
            "Epoch 120/200\n",
            "15/15 [==============================] - 1s 63ms/step - loss: 0.2789 - accuracy: 0.8933 - val_loss: 0.5034 - val_accuracy: 0.7733\n",
            "Epoch 121/200\n",
            "15/15 [==============================] - 1s 53ms/step - loss: 0.2767 - accuracy: 0.8978 - val_loss: 0.5048 - val_accuracy: 0.7667\n",
            "Epoch 122/200\n",
            "15/15 [==============================] - 1s 54ms/step - loss: 0.2841 - accuracy: 0.8889 - val_loss: 0.5065 - val_accuracy: 0.7733\n",
            "Epoch 123/200\n",
            "15/15 [==============================] - 1s 63ms/step - loss: 0.2842 - accuracy: 0.9000 - val_loss: 0.5090 - val_accuracy: 0.7667\n",
            "Epoch 124/200\n",
            "15/15 [==============================] - 1s 35ms/step - loss: 0.2783 - accuracy: 0.8778 - val_loss: 0.5109 - val_accuracy: 0.7667\n",
            "Epoch 125/200\n",
            "15/15 [==============================] - 1s 36ms/step - loss: 0.2712 - accuracy: 0.9044 - val_loss: 0.5129 - val_accuracy: 0.7667\n",
            "Epoch 126/200\n",
            "15/15 [==============================] - 1s 36ms/step - loss: 0.2554 - accuracy: 0.9156 - val_loss: 0.5152 - val_accuracy: 0.7667\n",
            "Epoch 127/200\n",
            "15/15 [==============================] - 1s 34ms/step - loss: 0.2671 - accuracy: 0.9044 - val_loss: 0.5175 - val_accuracy: 0.7667\n",
            "Epoch 128/200\n",
            "15/15 [==============================] - 1s 37ms/step - loss: 0.2736 - accuracy: 0.8911 - val_loss: 0.5197 - val_accuracy: 0.7667\n",
            "Epoch 129/200\n",
            "15/15 [==============================] - 0s 31ms/step - loss: 0.2597 - accuracy: 0.9044 - val_loss: 0.5210 - val_accuracy: 0.7667\n",
            "Epoch 130/200\n",
            "15/15 [==============================] - 1s 36ms/step - loss: 0.2599 - accuracy: 0.9067 - val_loss: 0.5220 - val_accuracy: 0.7733\n",
            "Epoch 131/200\n",
            "15/15 [==============================] - 0s 31ms/step - loss: 0.2516 - accuracy: 0.9133 - val_loss: 0.5232 - val_accuracy: 0.7667\n",
            "Epoch 132/200\n",
            "15/15 [==============================] - 0s 33ms/step - loss: 0.2537 - accuracy: 0.9044 - val_loss: 0.5249 - val_accuracy: 0.7667\n",
            "Epoch 133/200\n",
            "15/15 [==============================] - 1s 35ms/step - loss: 0.2460 - accuracy: 0.9222 - val_loss: 0.5270 - val_accuracy: 0.7667\n",
            "Epoch 134/200\n",
            "15/15 [==============================] - 0s 32ms/step - loss: 0.2627 - accuracy: 0.9022 - val_loss: 0.5295 - val_accuracy: 0.7667\n",
            "Epoch 135/200\n",
            "15/15 [==============================] - 1s 35ms/step - loss: 0.2511 - accuracy: 0.9200 - val_loss: 0.5315 - val_accuracy: 0.7667\n",
            "Epoch 136/200\n",
            "15/15 [==============================] - 1s 34ms/step - loss: 0.2620 - accuracy: 0.9044 - val_loss: 0.5326 - val_accuracy: 0.7667\n",
            "Epoch 137/200\n",
            "15/15 [==============================] - 0s 33ms/step - loss: 0.2451 - accuracy: 0.9178 - val_loss: 0.5360 - val_accuracy: 0.7667\n",
            "Epoch 138/200\n",
            "15/15 [==============================] - 1s 35ms/step - loss: 0.2439 - accuracy: 0.9200 - val_loss: 0.5396 - val_accuracy: 0.7667\n",
            "Epoch 139/200\n",
            "15/15 [==============================] - 0s 33ms/step - loss: 0.2546 - accuracy: 0.9178 - val_loss: 0.5411 - val_accuracy: 0.7733\n",
            "Epoch 140/200\n",
            "15/15 [==============================] - 0s 32ms/step - loss: 0.2452 - accuracy: 0.9133 - val_loss: 0.5426 - val_accuracy: 0.7733\n",
            "Epoch 141/200\n",
            "15/15 [==============================] - 0s 33ms/step - loss: 0.2410 - accuracy: 0.9089 - val_loss: 0.5450 - val_accuracy: 0.7733\n",
            "Epoch 142/200\n",
            "15/15 [==============================] - 1s 38ms/step - loss: 0.2465 - accuracy: 0.8978 - val_loss: 0.5472 - val_accuracy: 0.7733\n",
            "Epoch 143/200\n",
            "15/15 [==============================] - 1s 44ms/step - loss: 0.2369 - accuracy: 0.9222 - val_loss: 0.5498 - val_accuracy: 0.7733\n",
            "Epoch 144/200\n",
            "15/15 [==============================] - 1s 63ms/step - loss: 0.2486 - accuracy: 0.9178 - val_loss: 0.5528 - val_accuracy: 0.7733\n",
            "Epoch 145/200\n",
            "15/15 [==============================] - 1s 63ms/step - loss: 0.2430 - accuracy: 0.9267 - val_loss: 0.5558 - val_accuracy: 0.7733\n",
            "Epoch 146/200\n",
            "15/15 [==============================] - 1s 64ms/step - loss: 0.2399 - accuracy: 0.9222 - val_loss: 0.5586 - val_accuracy: 0.7733\n",
            "Epoch 147/200\n",
            "15/15 [==============================] - 1s 50ms/step - loss: 0.2436 - accuracy: 0.9133 - val_loss: 0.5606 - val_accuracy: 0.7733\n",
            "Epoch 148/200\n",
            "15/15 [==============================] - 1s 37ms/step - loss: 0.2255 - accuracy: 0.9244 - val_loss: 0.5640 - val_accuracy: 0.7733\n",
            "Epoch 149/200\n",
            "15/15 [==============================] - 1s 38ms/step - loss: 0.2421 - accuracy: 0.9111 - val_loss: 0.5652 - val_accuracy: 0.7733\n",
            "Epoch 150/200\n",
            "15/15 [==============================] - 1s 35ms/step - loss: 0.2415 - accuracy: 0.9178 - val_loss: 0.5694 - val_accuracy: 0.7667\n",
            "Epoch 151/200\n",
            "15/15 [==============================] - 1s 39ms/step - loss: 0.2298 - accuracy: 0.9244 - val_loss: 0.5701 - val_accuracy: 0.7733\n",
            "Epoch 152/200\n",
            "15/15 [==============================] - 0s 32ms/step - loss: 0.2324 - accuracy: 0.9178 - val_loss: 0.5708 - val_accuracy: 0.7733\n",
            "Epoch 153/200\n",
            "15/15 [==============================] - 1s 37ms/step - loss: 0.2265 - accuracy: 0.9289 - val_loss: 0.5727 - val_accuracy: 0.7733\n",
            "Epoch 154/200\n",
            "15/15 [==============================] - 1s 35ms/step - loss: 0.2351 - accuracy: 0.9244 - val_loss: 0.5722 - val_accuracy: 0.7667\n",
            "Epoch 155/200\n",
            "15/15 [==============================] - 0s 33ms/step - loss: 0.2282 - accuracy: 0.9267 - val_loss: 0.5765 - val_accuracy: 0.7667\n",
            "Epoch 156/200\n",
            "15/15 [==============================] - 1s 36ms/step - loss: 0.2318 - accuracy: 0.9200 - val_loss: 0.5810 - val_accuracy: 0.7667\n",
            "Epoch 157/200\n",
            "15/15 [==============================] - 1s 36ms/step - loss: 0.2281 - accuracy: 0.9289 - val_loss: 0.5849 - val_accuracy: 0.7667\n",
            "Epoch 158/200\n",
            "15/15 [==============================] - 1s 36ms/step - loss: 0.2323 - accuracy: 0.9178 - val_loss: 0.5860 - val_accuracy: 0.7667\n",
            "Epoch 159/200\n",
            "15/15 [==============================] - 0s 32ms/step - loss: 0.2314 - accuracy: 0.9133 - val_loss: 0.5871 - val_accuracy: 0.7733\n",
            "Epoch 160/200\n",
            "15/15 [==============================] - 0s 33ms/step - loss: 0.2376 - accuracy: 0.9111 - val_loss: 0.5891 - val_accuracy: 0.7733\n",
            "Epoch 161/200\n",
            "15/15 [==============================] - 1s 36ms/step - loss: 0.2243 - accuracy: 0.9244 - val_loss: 0.5887 - val_accuracy: 0.7667\n",
            "Epoch 162/200\n",
            "15/15 [==============================] - 1s 36ms/step - loss: 0.2176 - accuracy: 0.9333 - val_loss: 0.5889 - val_accuracy: 0.7667\n",
            "Epoch 163/200\n",
            "15/15 [==============================] - 0s 33ms/step - loss: 0.2233 - accuracy: 0.9267 - val_loss: 0.5922 - val_accuracy: 0.7667\n",
            "Epoch 164/200\n",
            "15/15 [==============================] - 0s 32ms/step - loss: 0.2292 - accuracy: 0.9222 - val_loss: 0.5936 - val_accuracy: 0.7667\n",
            "Epoch 165/200\n",
            "15/15 [==============================] - 0s 31ms/step - loss: 0.2073 - accuracy: 0.9489 - val_loss: 0.5966 - val_accuracy: 0.7667\n",
            "Epoch 166/200\n",
            "15/15 [==============================] - 1s 35ms/step - loss: 0.2085 - accuracy: 0.9333 - val_loss: 0.6014 - val_accuracy: 0.7733\n",
            "Epoch 167/200\n",
            "15/15 [==============================] - 1s 48ms/step - loss: 0.2219 - accuracy: 0.9222 - val_loss: 0.6033 - val_accuracy: 0.7667\n",
            "Epoch 168/200\n",
            "15/15 [==============================] - 1s 63ms/step - loss: 0.2281 - accuracy: 0.9178 - val_loss: 0.6042 - val_accuracy: 0.7667\n",
            "Epoch 169/200\n",
            "15/15 [==============================] - 1s 55ms/step - loss: 0.2077 - accuracy: 0.9422 - val_loss: 0.6066 - val_accuracy: 0.7667\n",
            "Epoch 170/200\n",
            "15/15 [==============================] - 1s 50ms/step - loss: 0.2221 - accuracy: 0.9311 - val_loss: 0.6103 - val_accuracy: 0.7600\n",
            "Epoch 171/200\n",
            "15/15 [==============================] - 1s 54ms/step - loss: 0.2112 - accuracy: 0.9356 - val_loss: 0.6120 - val_accuracy: 0.7600\n",
            "Epoch 172/200\n",
            "15/15 [==============================] - 1s 38ms/step - loss: 0.2194 - accuracy: 0.9244 - val_loss: 0.6180 - val_accuracy: 0.7600\n",
            "Epoch 173/200\n",
            "15/15 [==============================] - 1s 35ms/step - loss: 0.2004 - accuracy: 0.9311 - val_loss: 0.6195 - val_accuracy: 0.7600\n",
            "Epoch 174/200\n",
            "15/15 [==============================] - 0s 33ms/step - loss: 0.2079 - accuracy: 0.9244 - val_loss: 0.6252 - val_accuracy: 0.7600\n",
            "Epoch 175/200\n",
            "15/15 [==============================] - 0s 33ms/step - loss: 0.2198 - accuracy: 0.9222 - val_loss: 0.6270 - val_accuracy: 0.7600\n",
            "Epoch 176/200\n",
            "15/15 [==============================] - 1s 35ms/step - loss: 0.2005 - accuracy: 0.9400 - val_loss: 0.6270 - val_accuracy: 0.7600\n",
            "Epoch 177/200\n",
            "15/15 [==============================] - 1s 36ms/step - loss: 0.2095 - accuracy: 0.9289 - val_loss: 0.6281 - val_accuracy: 0.7667\n",
            "Epoch 178/200\n",
            "15/15 [==============================] - 1s 36ms/step - loss: 0.2127 - accuracy: 0.9244 - val_loss: 0.6290 - val_accuracy: 0.7600\n",
            "Epoch 179/200\n",
            "15/15 [==============================] - 1s 36ms/step - loss: 0.1990 - accuracy: 0.9422 - val_loss: 0.6327 - val_accuracy: 0.7667\n",
            "Epoch 180/200\n",
            "15/15 [==============================] - 1s 37ms/step - loss: 0.2151 - accuracy: 0.9289 - val_loss: 0.6334 - val_accuracy: 0.7667\n",
            "Epoch 181/200\n",
            "15/15 [==============================] - 1s 38ms/step - loss: 0.2065 - accuracy: 0.9356 - val_loss: 0.6326 - val_accuracy: 0.7600\n",
            "Epoch 182/200\n",
            "15/15 [==============================] - 1s 34ms/step - loss: 0.2070 - accuracy: 0.9356 - val_loss: 0.6352 - val_accuracy: 0.7600\n",
            "Epoch 183/200\n",
            "15/15 [==============================] - 1s 37ms/step - loss: 0.1931 - accuracy: 0.9422 - val_loss: 0.6407 - val_accuracy: 0.7600\n",
            "Epoch 184/200\n",
            "15/15 [==============================] - 1s 36ms/step - loss: 0.1900 - accuracy: 0.9422 - val_loss: 0.6486 - val_accuracy: 0.7600\n",
            "Epoch 185/200\n",
            "15/15 [==============================] - 1s 36ms/step - loss: 0.2004 - accuracy: 0.9378 - val_loss: 0.6518 - val_accuracy: 0.7600\n",
            "Epoch 186/200\n",
            "15/15 [==============================] - 1s 35ms/step - loss: 0.1839 - accuracy: 0.9467 - val_loss: 0.6488 - val_accuracy: 0.7667\n",
            "Epoch 187/200\n",
            "15/15 [==============================] - 1s 36ms/step - loss: 0.1985 - accuracy: 0.9333 - val_loss: 0.6495 - val_accuracy: 0.7667\n",
            "Epoch 188/200\n",
            "15/15 [==============================] - 1s 37ms/step - loss: 0.2028 - accuracy: 0.9333 - val_loss: 0.6561 - val_accuracy: 0.7667\n",
            "Epoch 189/200\n",
            "15/15 [==============================] - 1s 34ms/step - loss: 0.2009 - accuracy: 0.9333 - val_loss: 0.6592 - val_accuracy: 0.7667\n",
            "Epoch 190/200\n",
            "15/15 [==============================] - 1s 39ms/step - loss: 0.1995 - accuracy: 0.9356 - val_loss: 0.6579 - val_accuracy: 0.7667\n",
            "Epoch 191/200\n",
            "15/15 [==============================] - 1s 52ms/step - loss: 0.1912 - accuracy: 0.9444 - val_loss: 0.6606 - val_accuracy: 0.7667\n",
            "Epoch 192/200\n",
            "15/15 [==============================] - 1s 66ms/step - loss: 0.1928 - accuracy: 0.9400 - val_loss: 0.6586 - val_accuracy: 0.7600\n",
            "Epoch 193/200\n",
            "15/15 [==============================] - 1s 55ms/step - loss: 0.1891 - accuracy: 0.9467 - val_loss: 0.6617 - val_accuracy: 0.7600\n",
            "Epoch 194/200\n",
            "15/15 [==============================] - 1s 54ms/step - loss: 0.1717 - accuracy: 0.9467 - val_loss: 0.6701 - val_accuracy: 0.7667\n",
            "Epoch 195/200\n",
            "15/15 [==============================] - 1s 50ms/step - loss: 0.1918 - accuracy: 0.9378 - val_loss: 0.6739 - val_accuracy: 0.7667\n",
            "Epoch 196/200\n",
            "15/15 [==============================] - 0s 34ms/step - loss: 0.1813 - accuracy: 0.9444 - val_loss: 0.6728 - val_accuracy: 0.7667\n",
            "Epoch 197/200\n",
            "15/15 [==============================] - 1s 36ms/step - loss: 0.1860 - accuracy: 0.9467 - val_loss: 0.6718 - val_accuracy: 0.7600\n",
            "Epoch 198/200\n",
            "15/15 [==============================] - 0s 33ms/step - loss: 0.1955 - accuracy: 0.9444 - val_loss: 0.6777 - val_accuracy: 0.7667\n",
            "Epoch 199/200\n",
            "15/15 [==============================] - 0s 33ms/step - loss: 0.1919 - accuracy: 0.9400 - val_loss: 0.6777 - val_accuracy: 0.7600\n",
            "Epoch 200/200\n",
            "15/15 [==============================] - 0s 33ms/step - loss: 0.1770 - accuracy: 0.9600 - val_loss: 0.6874 - val_accuracy: 0.7533\n",
            "CPU times: user 2min, sys: 5.9 s, total: 2min 5s\n",
            "Wall time: 2min 31s\n"
          ]
        }
      ],
      "source": [
        "%%time\n",
        "print(f'Training model with {tfhub_handle_encoder}')\n",
        "history = classifier_model.fit(\n",
        "    x = X_train,\n",
        "    y = y_train,\n",
        "    epochs=200,\n",
        "    validation_split = 0.25,\n",
        "    batch_size = 32,\n",
        "    callbacks= [\n",
        "        # EarlyStopping( monitor='val_accuracy' ,mode='max', patience=3,verbose=False,restore_best_weights=True)\n",
        "    ]\n",
        ")\n"
      ]
    },
    {
      "cell_type": "code",
      "execution_count": 68,
      "id": "739f51d2",
      "metadata": {
        "colab": {
          "base_uri": "https://localhost:8080/",
          "height": 927
        },
        "id": "739f51d2",
        "outputId": "40bf7a16-6395-4f46-c0cb-74503d767ba0"
      },
      "outputs": [
        {
          "output_type": "display_data",
          "data": {
            "text/plain": [
              "<Figure size 640x480 with 1 Axes>"
            ],
            "image/png": "[encoded data removed]"
          },
          "metadata": {}
        },
        {
          "output_type": "display_data",
          "data": {
            "text/plain": [
              "<Figure size 640x480 with 1 Axes>"
            ],
            "image/png": "[encoded data removed]"
          },
          "metadata": {}
        }
      ],
      "source": [
        "plot_history(history)"
      ]
    },
    {
      "cell_type": "code",
      "execution_count": 22,
      "id": "a20fe942",
      "metadata": {
        "id": "a20fe942"
      },
      "outputs": [],
      "source": []
    }
  ],
  "metadata": {
    "kernelspec": {
      "display_name": "Python 3",
      "name": "python3"
    },
    "language_info": {
      "codemirror_mode": {
        "name": "ipython",
        "version": 3
      },
      "file_extension": ".py",
      "mimetype": "text/x-python",
      "name": "python",
      "nbconvert_exporter": "python",
      "pygments_lexer": "ipython3",
      "version": "3.10.6"
    },
    "colab": {
      "provenance": [],
      "gpuType": "T4"
    },
    "accelerator": "GPU"
  },
  "nbformat": 4,
  "nbformat_minor": 5
}