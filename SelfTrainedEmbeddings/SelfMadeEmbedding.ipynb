{
  "cells": [
    {
      "cell_type": "code",
      "execution_count": 1,
      "metadata": {
        "colab": {
          "base_uri": "https://localhost:8080/"
        },
        "id": "AGJKxZy07CUT",
        "outputId": "e47ff489-deef-4c6e-f9ea-d60d4cec085a"
      },
      "outputs": [
        {
          "output_type": "stream",
          "name": "stdout",
          "text": [
            "Collecting keras_tuner\n",
            "  Downloading keras_tuner-1.3.5-py3-none-any.whl (176 kB)\n",
            "\u001b[?25l     \u001b[90m━━━━━━━━━━━━━━━━━━━━━━━━━━━━━━━━━━━━━━━━\u001b[0m \u001b[32m0.0/176.1 kB\u001b[0m \u001b[31m?\u001b[0m eta \u001b[36m-:--:--\u001b[0m\r\u001b[2K     \u001b[90m━━━━━━━━━━━━━━━━━━━━━━━━━━━━━━━━━━━━━━━\u001b[0m \u001b[32m176.1/176.1 kB\u001b[0m \u001b[31m5.4 MB/s\u001b[0m eta \u001b[36m0:00:00\u001b[0m\n",
            "\u001b[?25hRequirement already satisfied: packaging in /usr/local/lib/python3.10/dist-packages (from keras_tuner) (23.1)\n",
            "Requirement already satisfied: requests in /usr/local/lib/python3.10/dist-packages (from keras_tuner) (2.27.1)\n",
            "Collecting kt-legacy (from keras_tuner)\n",
            "  Downloading kt_legacy-1.0.5-py3-none-any.whl (9.6 kB)\n",
            "Requirement already satisfied: urllib3<1.27,>=1.21.1 in /usr/local/lib/python3.10/dist-packages (from requests->keras_tuner) (1.26.16)\n",
            "Requirement already satisfied: certifi>=2017.4.17 in /usr/local/lib/python3.10/dist-packages (from requests->keras_tuner) (2023.5.7)\n",
            "Requirement already satisfied: charset-normalizer~=2.0.0 in /usr/local/lib/python3.10/dist-packages (from requests->keras_tuner) (2.0.12)\n",
            "Requirement already satisfied: idna<4,>=2.5 in /usr/local/lib/python3.10/dist-packages (from requests->keras_tuner) (3.4)\n",
            "Installing collected packages: kt-legacy, keras_tuner\n",
            "Successfully installed keras_tuner-1.3.5 kt-legacy-1.0.5\n"
          ]
        }
      ],
      "source": [
        "!pip install keras_tuner"
      ]
    },
    {
      "cell_type": "code",
      "execution_count": 2,
      "metadata": {
        "id": "DqE1WBvwYG_h"
      },
      "outputs": [],
      "source": [
        "import io\n",
        "import os\n",
        "import re\n",
        "import shutil\n",
        "import string\n",
        "import numpy as np\n",
        "import pandas as pd\n",
        "import nltk\n",
        "import utils\n",
        "\n",
        "from sklearn.model_selection import KFold, train_test_split\n",
        "from sklearn.metrics import confusion_matrix, ConfusionMatrixDisplay\n",
        "\n",
        "import tensorflow as tf\n",
        "import keras_tuner as kt\n",
        "from tensorflow.keras import layers, Sequential, regularizers\n",
        "from tensorflow.keras.optimizers import Adam, SGD\n",
        "from keras.callbacks import EarlyStopping, ReduceLROnPlateau\n",
        "from tensorflow.keras.layers import TextVectorization, Dense, Embedding, GlobalAveragePooling1D, LSTM, Dropout"
      ]
    },
    {
      "cell_type": "code",
      "execution_count": 3,
      "metadata": {
        "colab": {
          "base_uri": "https://localhost:8080/"
        },
        "id": "uBrEx_qBQF5O",
        "outputId": "a7ebf02e-7c9b-4000-ca5c-412dc7ef3149"
      },
      "outputs": [
        {
          "output_type": "stream",
          "name": "stdout",
          "text": [
            "Found GPU at: /device:GPU:0\n"
          ]
        }
      ],
      "source": [
        "device_name = tf.test.gpu_device_name()\n",
        "if device_name != '/device:GPU:0':\n",
        "  raise SystemError('GPU device not found')\n",
        "print('Found GPU at: {}'.format(device_name))"
      ]
    },
    {
      "cell_type": "markdown",
      "metadata": {
        "id": "jwf0E3MtggXd"
      },
      "source": [
        "## Definition of a Transformer block\n",
        "\n",
        "Definition of a Transformer block according to [Keras](https://keras.io/examples/nlp/text_classification_with_transformer/)."
      ]
    },
    {
      "cell_type": "code",
      "execution_count": 4,
      "metadata": {
        "id": "MOenMRBA0Otx"
      },
      "outputs": [],
      "source": [
        "class TransformerBlock(layers.Layer):\n",
        "    def __init__(self, embed_dim, num_heads, ff_dim, rate=0.1, l2_value=1e-6):\n",
        "        super().__init__()\n",
        "        self.att = layers.MultiHeadAttention(num_heads=num_heads, key_dim=embed_dim)\n",
        "        self.ffn = Sequential(\n",
        "            [\n",
        "                layers.Dense(ff_dim, activation=\"relu\",kernel_regularizer=regularizers.l2(l2_value)),\n",
        "                layers.Dense(embed_dim, kernel_regularizer=regularizers.l2(l2_value)),]\n",
        "        )\n",
        "        self.layernorm1 = layers.LayerNormalization(epsilon=1e-6)\n",
        "        self.layernorm2 = layers.LayerNormalization(epsilon=1e-6)\n",
        "        self.dropout1 = layers.Dropout(rate)\n",
        "        self.dropout2 = layers.Dropout(rate)\n",
        "\n",
        "    def call(self, inputs, training):\n",
        "        attn_output = self.att(inputs, inputs)\n",
        "        attn_output = self.dropout1(attn_output, training=training)\n",
        "        out1 = self.layernorm1(inputs + attn_output)\n",
        "        ffn_output = self.ffn(out1)\n",
        "        ffn_output = self.dropout2(ffn_output, training=training)\n",
        "        return self.layernorm2(out1 + ffn_output)"
      ]
    },
    {
      "cell_type": "markdown",
      "metadata": {
        "id": "F0XRAiof8bCK"
      },
      "source": [
        "# Preprocessing"
      ]
    },
    {
      "cell_type": "code",
      "execution_count": 5,
      "metadata": {
        "id": "2skZ9aeDps9F"
      },
      "outputs": [],
      "source": [
        "train = pd.read_csv(\"subtaskA_train_set.csv\")\n",
        "val = pd.read_csv(\"subtaskA_val_set.csv\")\n",
        "test = pd.read_csv(\"subtaskA_test_set.csv\")\n",
        "trainval = pd.read_csv(\"subtaskA_trainval_set.csv\")"
      ]
    },
    {
      "cell_type": "markdown",
      "metadata": {
        "id": "iyTCIrpUGqzp"
      },
      "source": [
        "## Definition of vocabulary and tokenizer"
      ]
    },
    {
      "cell_type": "code",
      "execution_count": 6,
      "metadata": {
        "id": "JdX11226Dakj"
      },
      "outputs": [],
      "source": [
        "def create_vocab_data(sentences):\n",
        "  vocab = []\n",
        "  for sentence in sentences:\n",
        "    # lowercase sentence\n",
        "    sentence = sentence.lower()\n",
        "    # strip punctuation\n",
        "    sentence = re.sub('\\W+', ' ', sentence)\n",
        "    # split by whitespace\n",
        "    tokens = sentence.split(\" \")\n",
        "\n",
        "    for token in tokens:\n",
        "      if token != \"\" and token != \" \":\n",
        "        vocab.append(token)\n",
        "\n",
        "  l = list(set(vocab))\n",
        "  if \"\" in l:\n",
        "    l.remove('')\n",
        "  return l"
      ]
    },
    {
      "cell_type": "code",
      "execution_count": 7,
      "metadata": {
        "id": "R2OasGgtao7b"
      },
      "outputs": [],
      "source": [
        "vocab_data = create_vocab_data(train[\"comment_text\"].array)\n",
        "vocab_size = len(vocab_data) + 2\n",
        "sequence_length = 256 # length of a sequence vector\n",
        "\n",
        "# Use the text vectorization layer to normalize, split, and map strings to integers.\n",
        "vectorize_layer = TextVectorization(\n",
        "  standardize=\"lower_and_strip_punctuation\",\n",
        "  split=\"whitespace\",\n",
        "  vocabulary=vocab_data,\n",
        "  max_tokens=vocab_size,\n",
        "  output_mode='int',\n",
        "  output_sequence_length=sequence_length)"
      ]
    },
    {
      "cell_type": "markdown",
      "metadata": {
        "id": "cYHO1RShGv0z"
      },
      "source": [
        "# Training of the model"
      ]
    },
    {
      "cell_type": "markdown",
      "metadata": {
        "id": "qnsaQna3Gx7v"
      },
      "source": [
        "## Model definition"
      ]
    },
    {
      "cell_type": "code",
      "execution_count": 8,
      "metadata": {
        "id": "aNgwlnnLAGrB"
      },
      "outputs": [],
      "source": [
        "def get_model_with_hp(embedding_dim, num_heads, ff_dim, dense_layer_units, dropout_rate, l2_value, learning_rate, clipnorm):\n",
        "  # defining inputs\n",
        "  text_input = tf.keras.layers.Input(shape=(), dtype=tf.string, name='text_input')\n",
        "\n",
        "  # Vectorize layer\n",
        "  net = vectorize_layer(text_input)\n",
        "\n",
        "  # Embedding layer\n",
        "  net = Embedding(vocab_size, embedding_dim, name=\"embedding\")(net)\n",
        "\n",
        "  # Transformer\n",
        "  net = TransformerBlock(embedding_dim, num_heads, ff_dim, dropout_rate, l2_value)(net)\n",
        "  net = Dropout(dropout_rate)(net)\n",
        "  net = GlobalAveragePooling1D()(net)\n",
        "\n",
        "  # Fully connected layers\n",
        "  net = Dense(dense_layer_units, name = \"fully_connected_layer_1\")(net)\n",
        "  net = Dropout(dropout_rate)(net)\n",
        "\n",
        "  net = Dense(dense_layer_units, name = \"fully_connected_layer_2\")(net)\n",
        "  net = Dropout(dropout_rate)(net)\n",
        "\n",
        "  net = Dense(dense_layer_units, name = \"fully_connected_layer_3\")(net)\n",
        "  net = Dropout(dropout_rate)(net)\n",
        "\n",
        "  # Output layer\n",
        "  net = Dense(\n",
        "      units=1,\n",
        "      activation=\"sigmoid\",\n",
        "      name=\"output_classifier\"\n",
        "  )(net)\n",
        "\n",
        "  model = tf.keras.Model(text_input, net)\n",
        "\n",
        "  optimizer = Adam(\n",
        "    learning_rate = learning_rate,\n",
        "    clipnorm = clipnorm\n",
        "  )\n",
        "\n",
        "  model.compile(\n",
        "    optimizer=optimizer,\n",
        "    loss=tf.keras.losses.BinaryCrossentropy(),\n",
        "    metrics='accuracy'\n",
        "  )\n",
        "\n",
        "  return model\n",
        "\n",
        "def get_model(hp):\n",
        "  return get_model_with_hp(\n",
        "    embedding_dim = hp.Choice(\"Embedding dimension\", values=[16, 32, 64]),\n",
        "    num_heads = hp.Choice(\"attention heads\", values=[2,4,6]),\n",
        "    ff_dim = hp.Choice(\"ff dim\", values=[16,32]),\n",
        "    dense_layer_units = hp.Choice(\"dense layer units\", values = [8, 16, 32]),\n",
        "    dropout_rate = 0.10,\n",
        "    l2_value = hp.Choice(\"L2 regularization\", values=[1e-6]),\n",
        "    learning_rate = hp.Choice(\"learning_rate\", values=[1e-2, 1e-3]),\n",
        "    clipnorm = 0.1\n",
        "  )\n"
      ]
    },
    {
      "cell_type": "markdown",
      "metadata": {
        "id": "UwF5fplyG0sQ"
      },
      "source": [
        "## Random search"
      ]
    },
    {
      "cell_type": "code",
      "execution_count": null,
      "metadata": {
        "id": "s7muDn96J8l5"
      },
      "outputs": [],
      "source": [
        "tuner = kt.RandomSearch(\n",
        "    hypermodel=get_model,\n",
        "    max_trials=8,\n",
        "    objective='val_accuracy',\n",
        "    overwrite=True\n",
        ")"
      ]
    },
    {
      "cell_type": "code",
      "execution_count": 9,
      "metadata": {
        "id": "jvJKNGKFM9Cy"
      },
      "outputs": [],
      "source": [
        "reduce_lr = ReduceLROnPlateau(\n",
        "    monitor=\"val_loss\",\n",
        "    factor=5e-2,\n",
        "    patience=5,\n",
        "    verbose=0,\n",
        "    mode=\"auto\",\n",
        "    min_delta=1e-3,\n",
        "    min_lr=1e-5\n",
        ")\n",
        "\n",
        "early_stopping = EarlyStopping(\n",
        "    monitor='val_accuracy',\n",
        "    mode='auto',\n",
        "    patience=20,\n",
        "    verbose=False,\n",
        "    restore_best_weights=True\n",
        ")"
      ]
    },
    {
      "cell_type": "code",
      "execution_count": null,
      "metadata": {
        "colab": {
          "base_uri": "https://localhost:8080/"
        },
        "id": "mDFiiE4NfLJd",
        "outputId": "801d1247-5d61-49c8-a1cf-2575483ed7c4"
      },
      "outputs": [
        {
          "name": "stdout",
          "output_type": "stream",
          "text": [
            "Trial 8 Complete [00h 01m 45s]\n",
            "val_accuracy: 0.7680723071098328\n",
            "\n",
            "Best val_accuracy So Far: 0.8132529854774475\n",
            "Total elapsed time: 00h 18m 03s\n"
          ]
        }
      ],
      "source": [
        "tuner.search(\n",
        "    x = train[\"comment_text\"],\n",
        "    y = train[\"conspiratorial\"],\n",
        "    epochs = 70,\n",
        "    validation_data = (val[\"comment_text\"], val[\"conspiratorial\"]),\n",
        "    callbacks = [\n",
        "        reduce_lr,\n",
        "        early_stopping\n",
        "    ]\n",
        ")"
      ]
    },
    {
      "cell_type": "code",
      "execution_count": null,
      "metadata": {
        "colab": {
          "base_uri": "https://localhost:8080/"
        },
        "id": "NLPKPDbBgk2K",
        "outputId": "6764ebbf-0aa7-4b3a-ba49-ee18618181eb"
      },
      "outputs": [
        {
          "data": {
            "text/plain": [
              "{'Embedding dimension': 32,\n",
              " 'attention heads': 2,\n",
              " 'ff dim': 32,\n",
              " 'dense layer units': 8,\n",
              " 'L2 regularization': 1e-06,\n",
              " 'learning_rate': 0.001}"
            ]
          },
          "execution_count": 80,
          "metadata": {},
          "output_type": "execute_result"
        }
      ],
      "source": [
        "tuner.get_best_hyperparameters(1)[0].values"
      ]
    },
    {
      "cell_type": "markdown",
      "metadata": {
        "id": "j4d7DPeupW9D"
      },
      "source": [
        "## Final train of the model"
      ]
    },
    {
      "cell_type": "code",
      "execution_count": 10,
      "metadata": {
        "id": "423AqtCpGDg0"
      },
      "outputs": [],
      "source": [
        "tf.keras.backend.clear_session()"
      ]
    },
    {
      "cell_type": "code",
      "execution_count": 58,
      "metadata": {
        "colab": {
          "base_uri": "https://localhost:8080/"
        },
        "id": "U2snX1TZcpsX",
        "outputId": "0174900a-72ab-4130-9b01-254b74bd9ac0"
      },
      "outputs": [
        {
          "output_type": "stream",
          "name": "stdout",
          "text": [
            "Epoch 1/30\n",
            "6/6 [==============================] - 8s 262ms/step - loss: 1.1695 - accuracy: 0.5072 - val_loss: 0.7161 - val_accuracy: 0.5181 - lr: 0.0080\n",
            "Epoch 2/30\n",
            "6/6 [==============================] - 1s 192ms/step - loss: 0.6994 - accuracy: 0.5306 - val_loss: 0.6857 - val_accuracy: 0.5030 - lr: 0.0080\n",
            "Epoch 3/30\n",
            "6/6 [==============================] - 1s 191ms/step - loss: 0.6694 - accuracy: 0.5896 - val_loss: 0.6734 - val_accuracy: 0.6145 - lr: 0.0080\n",
            "Epoch 4/30\n",
            "6/6 [==============================] - 1s 186ms/step - loss: 0.6460 - accuracy: 0.6689 - val_loss: 0.7771 - val_accuracy: 0.5934 - lr: 0.0080\n",
            "Epoch 5/30\n",
            "6/6 [==============================] - 1s 166ms/step - loss: 0.6229 - accuracy: 0.6803 - val_loss: 0.7124 - val_accuracy: 0.5361 - lr: 0.0080\n",
            "Epoch 6/30\n",
            "6/6 [==============================] - 1s 196ms/step - loss: 0.5507 - accuracy: 0.6946 - val_loss: 0.6814 - val_accuracy: 0.6747 - lr: 0.0080\n",
            "Epoch 7/30\n",
            "6/6 [==============================] - 1s 206ms/step - loss: 0.3988 - accuracy: 0.8307 - val_loss: 0.7369 - val_accuracy: 0.7319 - lr: 0.0080\n",
            "Epoch 8/30\n",
            "6/6 [==============================] - 2s 297ms/step - loss: 0.3022 - accuracy: 0.8828 - val_loss: 1.0488 - val_accuracy: 0.6687 - lr: 0.0080\n",
            "Epoch 9/30\n",
            "6/6 [==============================] - 1s 245ms/step - loss: 0.2452 - accuracy: 0.9025 - val_loss: 0.6497 - val_accuracy: 0.7620 - lr: 4.0000e-04\n",
            "Epoch 10/30\n",
            "6/6 [==============================] - 1s 188ms/step - loss: 0.1283 - accuracy: 0.9501 - val_loss: 0.7740 - val_accuracy: 0.7681 - lr: 4.0000e-04\n",
            "Epoch 11/30\n",
            "6/6 [==============================] - 1s 174ms/step - loss: 0.1090 - accuracy: 0.9630 - val_loss: 0.7124 - val_accuracy: 0.7620 - lr: 4.0000e-04\n",
            "Epoch 12/30\n",
            "6/6 [==============================] - 1s 164ms/step - loss: 0.1124 - accuracy: 0.9652 - val_loss: 0.7083 - val_accuracy: 0.7560 - lr: 4.0000e-04\n",
            "Epoch 13/30\n",
            "6/6 [==============================] - 1s 190ms/step - loss: 0.0808 - accuracy: 0.9728 - val_loss: 0.7476 - val_accuracy: 0.7711 - lr: 4.0000e-04\n",
            "Epoch 14/30\n",
            "6/6 [==============================] - 1s 171ms/step - loss: 0.0668 - accuracy: 0.9758 - val_loss: 0.7869 - val_accuracy: 0.7560 - lr: 4.0000e-04\n",
            "Epoch 15/30\n",
            "6/6 [==============================] - 1s 190ms/step - loss: 0.0636 - accuracy: 0.9781 - val_loss: 0.7899 - val_accuracy: 0.7560 - lr: 2.0000e-05\n",
            "Epoch 16/30\n",
            "6/6 [==============================] - 1s 172ms/step - loss: 0.0671 - accuracy: 0.9811 - val_loss: 0.7928 - val_accuracy: 0.7590 - lr: 2.0000e-05\n",
            "Epoch 17/30\n",
            "6/6 [==============================] - 1s 154ms/step - loss: 0.0680 - accuracy: 0.9796 - val_loss: 0.7954 - val_accuracy: 0.7620 - lr: 2.0000e-05\n",
            "Epoch 18/30\n",
            "6/6 [==============================] - 1s 180ms/step - loss: 0.0649 - accuracy: 0.9788 - val_loss: 0.7980 - val_accuracy: 0.7620 - lr: 2.0000e-05\n",
            "Epoch 19/30\n",
            "6/6 [==============================] - 2s 301ms/step - loss: 0.0646 - accuracy: 0.9826 - val_loss: 0.8009 - val_accuracy: 0.7620 - lr: 2.0000e-05\n",
            "Epoch 20/30\n",
            "6/6 [==============================] - 1s 200ms/step - loss: 0.0660 - accuracy: 0.9803 - val_loss: 0.8019 - val_accuracy: 0.7620 - lr: 1.0000e-05\n",
            "Epoch 21/30\n",
            "6/6 [==============================] - 1s 189ms/step - loss: 0.0627 - accuracy: 0.9796 - val_loss: 0.8028 - val_accuracy: 0.7620 - lr: 1.0000e-05\n",
            "Epoch 22/30\n",
            "6/6 [==============================] - 1s 170ms/step - loss: 0.0643 - accuracy: 0.9811 - val_loss: 0.8038 - val_accuracy: 0.7620 - lr: 1.0000e-05\n",
            "Epoch 23/30\n",
            "6/6 [==============================] - 1s 193ms/step - loss: 0.0621 - accuracy: 0.9811 - val_loss: 0.8050 - val_accuracy: 0.7620 - lr: 1.0000e-05\n",
            "Epoch 24/30\n",
            "6/6 [==============================] - 1s 175ms/step - loss: 0.0630 - accuracy: 0.9803 - val_loss: 0.8061 - val_accuracy: 0.7620 - lr: 1.0000e-05\n",
            "Epoch 25/30\n",
            "6/6 [==============================] - 1s 191ms/step - loss: 0.0607 - accuracy: 0.9781 - val_loss: 0.8070 - val_accuracy: 0.7590 - lr: 1.0000e-05\n",
            "Epoch 26/30\n",
            "6/6 [==============================] - 1s 144ms/step - loss: 0.0616 - accuracy: 0.9796 - val_loss: 0.8083 - val_accuracy: 0.7590 - lr: 1.0000e-05\n",
            "Epoch 27/30\n",
            "6/6 [==============================] - 1s 165ms/step - loss: 0.0608 - accuracy: 0.9819 - val_loss: 0.8098 - val_accuracy: 0.7620 - lr: 1.0000e-05\n",
            "Epoch 28/30\n",
            "6/6 [==============================] - 1s 172ms/step - loss: 0.0597 - accuracy: 0.9819 - val_loss: 0.8110 - val_accuracy: 0.7620 - lr: 1.0000e-05\n",
            "Epoch 29/30\n",
            "6/6 [==============================] - 1s 220ms/step - loss: 0.0612 - accuracy: 0.9819 - val_loss: 0.8126 - val_accuracy: 0.7620 - lr: 1.0000e-05\n",
            "Epoch 30/30\n",
            "6/6 [==============================] - 1s 202ms/step - loss: 0.0576 - accuracy: 0.9811 - val_loss: 0.8138 - val_accuracy: 0.7620 - lr: 1.0000e-05\n"
          ]
        }
      ],
      "source": [
        "best_model = get_model_with_hp(\n",
        "    embedding_dim = 32,\n",
        "    num_heads = 2,\n",
        "    ff_dim = 32,\n",
        "    dense_layer_units = 8,\n",
        "    dropout_rate = 0.1,\n",
        "    l2_value = 3e-6,\n",
        "    learning_rate = 8e-3,\n",
        "    clipnorm = 0.1,\n",
        ")\n",
        "\n",
        "history = best_model.fit(\n",
        "    x = train[\"comment_text\"],\n",
        "    y = train[\"conspiratorial\"],\n",
        "    epochs=30,\n",
        "    validation_data = (val[\"comment_text\"], val[\"conspiratorial\"]),\n",
        "    batch_size = 256,\n",
        "    callbacks= [\n",
        "      tf.keras.callbacks.TensorBoard(log_dir=\"logs\"),\n",
        "      reduce_lr,\n",
        "      #early_stopping\n",
        "    ]\n",
        ")\n"
      ]
    },
    {
      "cell_type": "code",
      "execution_count": 60,
      "metadata": {
        "colab": {
          "base_uri": "https://localhost:8080/",
          "height": 927
        },
        "id": "-T8qVQkQ0Cv9",
        "outputId": "e0548d95-2ee1-4568-93c8-d0232e13bae6"
      },
      "outputs": [
        {
          "output_type": "display_data",
          "data": {
            "text/plain": [
              "<Figure size 640x480 with 1 Axes>"
            ],
            "image/png": "[encoded data removed]"
          },
          "metadata": {}
        },
        {
          "output_type": "display_data",
          "data": {
            "text/plain": [
              "<Figure size 640x480 with 1 Axes>"
            ],
            "image/png": "[encoded data removed]"
          },
          "metadata": {}
        }
      ],
      "source": [
        "utils.plot_history(history)"
      ]
    },
    {
      "cell_type": "code",
      "execution_count": 61,
      "metadata": {
        "colab": {
          "base_uri": "https://localhost:8080/"
        },
        "id": "g_YejuTJE2MI",
        "outputId": "d6dd9ffb-0e39-46f3-f2e7-e3894f7c0cc1"
      },
      "outputs": [
        {
          "output_type": "stream",
          "name": "stdout",
          "text": [
            "Model: \"model_22\"\n",
            "_________________________________________________________________\n",
            " Layer (type)                Output Shape              Param #   \n",
            "=================================================================\n",
            " text_input (InputLayer)     [(None,)]                 0         \n",
            "                                                                 \n",
            " text_vectorization (TextVec  (None, 256)              0         \n",
            " torization)                                                     \n",
            "                                                                 \n",
            " embedding (Embedding)       (None, 256, 32)           270144    \n",
            "                                                                 \n",
            " transformer_block_22 (Trans  (None, 256, 32)          10656     \n",
            " formerBlock)                                                    \n",
            "                                                                 \n",
            " dropout_134 (Dropout)       (None, 256, 32)           0         \n",
            "                                                                 \n",
            " global_average_pooling1d_22  (None, 32)               0         \n",
            "  (GlobalAveragePooling1D)                                       \n",
            "                                                                 \n",
            " fully_connected_layer_1 (De  (None, 8)                264       \n",
            " nse)                                                            \n",
            "                                                                 \n",
            " dropout_135 (Dropout)       (None, 8)                 0         \n",
            "                                                                 \n",
            " fully_connected_layer_2 (De  (None, 8)                72        \n",
            " nse)                                                            \n",
            "                                                                 \n",
            " dropout_136 (Dropout)       (None, 8)                 0         \n",
            "                                                                 \n",
            " fully_connected_layer_3 (De  (None, 8)                72        \n",
            " nse)                                                            \n",
            "                                                                 \n",
            " dropout_137 (Dropout)       (None, 8)                 0         \n",
            "                                                                 \n",
            " output_classifier (Dense)   (None, 1)                 9         \n",
            "                                                                 \n",
            "=================================================================\n",
            "Total params: 281,217\n",
            "Trainable params: 281,217\n",
            "Non-trainable params: 0\n",
            "_________________________________________________________________\n"
          ]
        }
      ],
      "source": [
        "best_model.summary()"
      ]
    },
    {
      "cell_type": "markdown",
      "metadata": {
        "id": "ilDh9ZV3pcqf"
      },
      "source": [
        "# Test phase"
      ]
    },
    {
      "cell_type": "code",
      "execution_count": 62,
      "metadata": {
        "colab": {
          "base_uri": "https://localhost:8080/"
        },
        "id": "-8miFIBYupCE",
        "outputId": "727850a8-5bec-4347-eb43-8437260ad8a4"
      },
      "outputs": [
        {
          "output_type": "stream",
          "name": "stdout",
          "text": [
            "Epoch 1/20\n",
            "7/7 [==============================] - 8s 193ms/step - loss: 1.1351 - accuracy: 0.5245\n",
            "Epoch 2/20\n",
            "7/7 [==============================] - 1s 177ms/step - loss: 0.7099 - accuracy: 0.5172\n",
            "Epoch 3/20\n",
            "7/7 [==============================] - 1s 181ms/step - loss: 0.6823 - accuracy: 0.5619\n",
            "Epoch 4/20\n",
            "7/7 [==============================] - 1s 183ms/step - loss: 0.6631 - accuracy: 0.6042\n",
            "Epoch 5/20\n",
            "7/7 [==============================] - 1s 158ms/step - loss: 0.6253 - accuracy: 0.6604\n",
            "Epoch 6/20\n",
            "7/7 [==============================] - 1s 167ms/step - loss: 0.5303 - accuracy: 0.7462\n",
            "Epoch 7/20\n",
            "7/7 [==============================] - 1s 171ms/step - loss: 0.5279 - accuracy: 0.7692\n",
            "Epoch 8/20\n",
            "7/7 [==============================] - 1s 211ms/step - loss: 0.3760 - accuracy: 0.8399\n",
            "Epoch 9/20\n",
            "7/7 [==============================] - 2s 274ms/step - loss: 0.1678 - accuracy: 0.9498\n",
            "Epoch 10/20\n",
            "7/7 [==============================] - 1s 182ms/step - loss: 0.0958 - accuracy: 0.9734\n",
            "Epoch 11/20\n",
            "7/7 [==============================] - 1s 185ms/step - loss: 0.0369 - accuracy: 0.9915\n",
            "Epoch 12/20\n",
            "7/7 [==============================] - 1s 186ms/step - loss: 0.0068 - accuracy: 0.9982\n",
            "Epoch 13/20\n",
            "7/7 [==============================] - 1s 156ms/step - loss: 0.0016 - accuracy: 0.9994\n",
            "Epoch 14/20\n",
            "7/7 [==============================] - 1s 128ms/step - loss: 0.0010 - accuracy: 1.0000\n",
            "Epoch 15/20\n",
            "7/7 [==============================] - 1s 167ms/step - loss: 4.8630e-04 - accuracy: 1.0000\n",
            "Epoch 16/20\n",
            "7/7 [==============================] - 1s 184ms/step - loss: 4.5479e-04 - accuracy: 1.0000\n",
            "Epoch 17/20\n",
            "7/7 [==============================] - 1s 127ms/step - loss: 5.7022e-04 - accuracy: 1.0000\n",
            "Epoch 18/20\n",
            "7/7 [==============================] - 1s 126ms/step - loss: 4.2739e-04 - accuracy: 1.0000\n",
            "Epoch 19/20\n",
            "7/7 [==============================] - 2s 210ms/step - loss: 3.3993e-04 - accuracy: 1.0000\n",
            "Epoch 20/20\n",
            "7/7 [==============================] - 1s 180ms/step - loss: 3.1668e-04 - accuracy: 1.0000\n"
          ]
        }
      ],
      "source": [
        "final_model = get_model_with_hp(\n",
        "    embedding_dim = 32,\n",
        "    num_heads = 2,\n",
        "    ff_dim = 32,\n",
        "    dense_layer_units = 8,\n",
        "    dropout_rate = 0.1,\n",
        "    l2_value = 3e-6,\n",
        "    learning_rate = 8e-3,\n",
        "    clipnorm = 0.1,\n",
        ")\n",
        "\n",
        "history = final_model.fit(\n",
        "    x = trainval[\"comment_text\"],\n",
        "    y = trainval[\"conspiratorial\"],\n",
        "    batch_size=256,\n",
        "    epochs=20\n",
        ")"
      ]
    },
    {
      "cell_type": "code",
      "execution_count": 68,
      "metadata": {
        "colab": {
          "base_uri": "https://localhost:8080/"
        },
        "id": "Fq_b6Ll25Zcg",
        "outputId": "20950045-5588-455c-de19-b6b03bf10939"
      },
      "outputs": [
        {
          "output_type": "stream",
          "name": "stdout",
          "text": [
            "1/1 [==============================] - 0s 52ms/step - loss: 3.3796 - accuracy: 0.7676\n"
          ]
        }
      ],
      "source": [
        "_ = final_model.evaluate(\n",
        "    x = test[\"comment_text\"],\n",
        "    y = test[\"conspiratorial\"],\n",
        "    batch_size=256\n",
        ")"
      ]
    },
    {
      "cell_type": "code",
      "execution_count": 66,
      "metadata": {
        "colab": {
          "base_uri": "https://localhost:8080/",
          "height": 484
        },
        "id": "9-8rfGYm6Hnh",
        "outputId": "48081435-7ce3-49ae-f2a9-c11b46320846"
      },
      "outputs": [
        {
          "output_type": "stream",
          "name": "stdout",
          "text": [
            "6/6 [==============================] - 0s 11ms/step\n"
          ]
        },
        {
          "output_type": "execute_result",
          "data": {
            "text/plain": [
              "<sklearn.metrics._plot.confusion_matrix.ConfusionMatrixDisplay at 0x7feb4cfa0280>"
            ]
          },
          "metadata": {},
          "execution_count": 66
        },
        {
          "output_type": "display_data",
          "data": {
            "text/plain": [
              "<Figure size 640x480 with 2 Axes>"
            ],
            "image/png": "[encoded data removed]"
          },
          "metadata": {}
        }
      ],
      "source": [
        "predictions = final_model.predict(x=test[\"comment_text\"])\n",
        "predictions = list(map(round, [ _[0] for _ in predictions]))\n",
        "\n",
        "cm = confusion_matrix(test[\"conspiratorial\"], predictions)\n",
        "disp = ConfusionMatrixDisplay(confusion_matrix=cm, display_labels=[\"Non conspiratorial\", \"conspiratorial\"])\n",
        "disp.plot()"
      ]
    },
    {
      "cell_type": "code",
      "source": [],
      "metadata": {
        "id": "WW-pjtXfT9KW"
      },
      "execution_count": null,
      "outputs": []
    }
  ],
  "metadata": {
    "accelerator": "GPU",
    "colab": {
      "gpuType": "T4",
      "provenance": []
    },
    "kernelspec": {
      "display_name": "Python 3 (ipykernel)",
      "language": "python",
      "name": "python3"
    },
    "language_info": {
      "codemirror_mode": {
        "name": "ipython",
        "version": 3
      },
      "file_extension": ".py",
      "mimetype": "text/x-python",
      "name": "python",
      "nbconvert_exporter": "python",
      "pygments_lexer": "ipython3",
      "version": "3.10.6"
    }
  },
  "nbformat": 4,
  "nbformat_minor": 0
}