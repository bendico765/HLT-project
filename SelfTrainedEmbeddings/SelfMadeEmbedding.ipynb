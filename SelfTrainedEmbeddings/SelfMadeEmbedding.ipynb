{
  "cells": [
    {
      "cell_type": "code",
      "execution_count": null,
      "metadata": {
        "colab": {
          "base_uri": "https://localhost:8080/"
        },
        "id": "AGJKxZy07CUT",
        "outputId": "8464d739-8f39-452b-cd5c-0bd8121fba38"
      },
      "outputs": [
        {
          "output_type": "stream",
          "name": "stdout",
          "text": [
            "Looking in indexes: https://pypi.org/simple, https://us-python.pkg.dev/colab-wheels/public/simple/\n",
            "Requirement already satisfied: keras_tuner in /usr/local/lib/python3.10/dist-packages (1.3.5)\n",
            "Requirement already satisfied: packaging in /usr/local/lib/python3.10/dist-packages (from keras_tuner) (23.1)\n",
            "Requirement already satisfied: requests in /usr/local/lib/python3.10/dist-packages (from keras_tuner) (2.27.1)\n",
            "Requirement already satisfied: kt-legacy in /usr/local/lib/python3.10/dist-packages (from keras_tuner) (1.0.5)\n",
            "Requirement already satisfied: urllib3<1.27,>=1.21.1 in /usr/local/lib/python3.10/dist-packages (from requests->keras_tuner) (1.26.16)\n",
            "Requirement already satisfied: certifi>=2017.4.17 in /usr/local/lib/python3.10/dist-packages (from requests->keras_tuner) (2023.5.7)\n",
            "Requirement already satisfied: charset-normalizer~=2.0.0 in /usr/local/lib/python3.10/dist-packages (from requests->keras_tuner) (2.0.12)\n",
            "Requirement already satisfied: idna<4,>=2.5 in /usr/local/lib/python3.10/dist-packages (from requests->keras_tuner) (3.4)\n",
            "Looking in indexes: https://pypi.org/simple, https://us-python.pkg.dev/colab-wheels/public/simple/\n",
            "Requirement already satisfied: simplemma in /usr/local/lib/python3.10/dist-packages (0.9.1)\n"
          ]
        }
      ],
      "source": [
        ":!pip install keras_tuner\n",
        "!pip install simplemma"
      ]
    },
    {
      "cell_type": "code",
      "execution_count": null,
      "metadata": {
        "id": "DqE1WBvwYG_h"
      },
      "outputs": [],
      "source": [
        "import io\n",
        "import os\n",
        "import re\n",
        "import shutil\n",
        "import string\n",
        "import pandas as pd\n",
        "import nltk\n",
        "import simplemma\n",
        "import utils\n",
        "\n",
        "from sklearn.model_selection import KFold, train_test_split\n",
        "from sklearn.metrics import confusion_matrix, ConfusionMatrixDisplay\n",
        "\n",
        "import tensorflow as tf\n",
        "import keras_tuner as kt\n",
        "from tensorflow.keras import layers, Sequential, regularizers\n",
        "from tensorflow.keras.optimizers import Adam, SGD\n",
        "from keras.callbacks import EarlyStopping, ReduceLROnPlateau\n",
        "from tensorflow.keras.layers import TextVectorization, Dense, Embedding, GlobalAveragePooling1D, LSTM, Dropout"
      ]
    },
    {
      "cell_type": "code",
      "execution_count": null,
      "metadata": {
        "colab": {
          "base_uri": "https://localhost:8080/"
        },
        "id": "uBrEx_qBQF5O",
        "outputId": "06c6f833-1c15-48c7-c41c-51191bf6e340"
      },
      "outputs": [
        {
          "output_type": "stream",
          "name": "stdout",
          "text": [
            "Found GPU at: /device:GPU:0\n"
          ]
        }
      ],
      "source": [
        "device_name = tf.test.gpu_device_name()\n",
        "if device_name != '/device:GPU:0':\n",
        "  raise SystemError('GPU device not found')\n",
        "print('Found GPU at: {}'.format(device_name))"
      ]
    },
    {
      "cell_type": "markdown",
      "source": [
        "## Definition of a Transformer block"
      ],
      "metadata": {
        "id": "jwf0E3MtggXd"
      }
    },
    {
      "cell_type": "code",
      "execution_count": null,
      "metadata": {
        "id": "MOenMRBA0Otx"
      },
      "outputs": [],
      "source": [
        "class TransformerBlock(layers.Layer):\n",
        "    def __init__(self, embed_dim, num_heads, ff_dim, rate=0.1, l2_value=1e-6):\n",
        "        super().__init__()\n",
        "        self.att = layers.MultiHeadAttention(num_heads=num_heads, key_dim=embed_dim)\n",
        "        self.ffn = Sequential(\n",
        "            [\n",
        "                layers.Dense(ff_dim, activation=\"relu\",kernel_regularizer=regularizers.l2(l2_value)),\n",
        "                layers.Dense(embed_dim, kernel_regularizer=regularizers.l2(l2_value)),]\n",
        "        )\n",
        "        self.layernorm1 = layers.LayerNormalization(epsilon=1e-6)\n",
        "        self.layernorm2 = layers.LayerNormalization(epsilon=1e-6)\n",
        "        self.dropout1 = layers.Dropout(rate)\n",
        "        self.dropout2 = layers.Dropout(rate)\n",
        "\n",
        "    def call(self, inputs, training):\n",
        "        attn_output = self.att(inputs, inputs)\n",
        "        attn_output = self.dropout1(attn_output, training=training)\n",
        "        out1 = self.layernorm1(inputs + attn_output)\n",
        "        ffn_output = self.ffn(out1)\n",
        "        ffn_output = self.dropout2(ffn_output, training=training)\n",
        "        return self.layernorm2(out1 + ffn_output)"
      ]
    },
    {
      "cell_type": "markdown",
      "metadata": {
        "id": "F0XRAiof8bCK"
      },
      "source": [
        "# Preprocessing"
      ]
    },
    {
      "cell_type": "code",
      "source": [
        "train = pd.read_csv(\"../subtaskA_train_set.csv\")\n",
        "val = pd.read_csv(\"../subtaskA_val_set.csv\")\n",
        "test = pd.read_csv(\"../subtaskA_test_set.csv\")\n",
        "trainval = pd.read_csv(\"../subtaskA_trainval_set.csv\")"
      ],
      "metadata": {
        "id": "2skZ9aeDps9F"
      },
      "execution_count": null,
      "outputs": []
    },
    {
      "cell_type": "markdown",
      "source": [
        "## Definition of vocabulary and tokenizer\n",
        "\n",
        "Spiegazione utile su embeddings\n",
        "https://stats.stackexchange.com/questions/270546/how-does-keras-embedding-layer-work"
      ],
      "metadata": {
        "id": "iyTCIrpUGqzp"
      }
    },
    {
      "cell_type": "code",
      "execution_count": null,
      "metadata": {
        "id": "JdX11226Dakj"
      },
      "outputs": [],
      "source": [
        "def create_vocab_data(sentences):\n",
        "  vocab = []\n",
        "  for sentence in sentences:\n",
        "    # lowercase sentence\n",
        "    sentence = sentence.lower()\n",
        "    # strip punctuation\n",
        "    sentence = re.sub('\\W+', ' ', sentence)\n",
        "    # split by whitespace\n",
        "    tokens = sentence.split(\" \")\n",
        "\n",
        "    for token in tokens:\n",
        "      if token != \"\" and token != \" \":\n",
        "        vocab.append(simplemma.lemmatize(token, lang=(\"it\", \"en\")))\n",
        "\n",
        "  l = list(set(vocab))\n",
        "  if \"\" in l:\n",
        "    l.remove('')\n",
        "  return l"
      ]
    },
    {
      "cell_type": "code",
      "execution_count": null,
      "metadata": {
        "id": "R2OasGgtao7b"
      },
      "outputs": [],
      "source": [
        "vocab_data = create_vocab_data(train[\"comment_text\"].array)\n",
        "vocab_size = len(vocab_data) + 2\n",
        "sequence_length = 256\n",
        "\n",
        "# Use the text vectorization layer to normalize, split, and map strings to integers.\n",
        "vectorize_layer = TextVectorization(\n",
        "  standardize=\"lower_and_strip_punctuation\",\n",
        "  split=\"whitespace\",\n",
        "  vocabulary=vocab_data,\n",
        "  max_tokens=vocab_size,\n",
        "  output_mode='int',\n",
        "  output_sequence_length=sequence_length)"
      ]
    },
    {
      "cell_type": "markdown",
      "source": [
        "# Training of the model"
      ],
      "metadata": {
        "id": "cYHO1RShGv0z"
      }
    },
    {
      "cell_type": "markdown",
      "source": [
        "## Model definition"
      ],
      "metadata": {
        "id": "qnsaQna3Gx7v"
      }
    },
    {
      "cell_type": "code",
      "source": [
        "def get_model_with_hp(embedding_dim, num_heads, ff_dim, dense_layer_units, dropout_rate, l2_value, learning_rate, clipnorm):\n",
        "  # defining inputs\n",
        "  text_input = tf.keras.layers.Input(shape=(), dtype=tf.string, name='text_input')\n",
        "\n",
        "  # Vectorize layer\n",
        "  net = vectorize_layer(text_input)\n",
        "\n",
        "  # Embedding layer\n",
        "  net = Embedding(vocab_size, embedding_dim, name=\"embedding\")(net)\n",
        "\n",
        "  # Transformer\n",
        "  net = TransformerBlock(embedding_dim, num_heads, ff_dim, dropout_rate, l2_value)(net)\n",
        "  net = Dropout(dropout_rate)(net)\n",
        "  net = GlobalAveragePooling1D()(net)\n",
        "\n",
        "  # Fully connected layers\n",
        "  net = Dense(dense_layer_units, name = \"fully_connected_layer_1\")(net)\n",
        "  net = Dropout(dropout_rate)(net)\n",
        "\n",
        "  net = Dense(dense_layer_units, name = \"fully_connected_layer_2\")(net)\n",
        "  net = Dropout(dropout_rate)(net)\n",
        "\n",
        "  net = Dense(dense_layer_units, name = \"fully_connected_layer_3\")(net)\n",
        "  net = Dropout(dropout_rate)(net)\n",
        "\n",
        "  # Output layer\n",
        "  net = Dense(\n",
        "      units=1,\n",
        "      activation=\"sigmoid\",\n",
        "      name=\"output_classifier\"\n",
        "  )(net)\n",
        "\n",
        "  model = tf.keras.Model(text_input, net)\n",
        "\n",
        "  optimizer = Adam(\n",
        "    learning_rate = learning_rate,\n",
        "    clipnorm = clipnorm\n",
        "  )\n",
        "\n",
        "  model.compile(\n",
        "    optimizer=optimizer,\n",
        "    loss=tf.keras.losses.BinaryCrossentropy(),\n",
        "    metrics='accuracy'\n",
        "  )\n",
        "\n",
        "  return model\n",
        "\n",
        "def get_model(hp):\n",
        "  return get_model_with_hp(\n",
        "    embedding_dim = hp.Choice(\"Embedding dimension\", values=[16, 32, 64]),\n",
        "    num_heads = hp.Choice(\"attention heads\", values=[2,4,6]),\n",
        "    ff_dim = hp.Choice(\"ff dim\", values=[16,32]),\n",
        "    dense_layer_units = hp.Choice(\"dense layer units\", values = [8, 16, 32]),\n",
        "    dropout_rate = 0.10,\n",
        "    l2_value = hp.Choice(\"L2 regularization\", values=[1e-6]),\n",
        "    learning_rate = hp.Choice(\"learning_rate\", values=[1e-2, 1e-3]),\n",
        "    clipnorm = 0.1\n",
        "  )\n"
      ],
      "metadata": {
        "id": "aNgwlnnLAGrB"
      },
      "execution_count": null,
      "outputs": []
    },
    {
      "cell_type": "markdown",
      "source": [
        "## Random search"
      ],
      "metadata": {
        "id": "UwF5fplyG0sQ"
      }
    },
    {
      "cell_type": "code",
      "source": [
        "tuner = kt.RandomSearch(\n",
        "    hypermodel=get_model,\n",
        "    max_trials=8,\n",
        "    objective='val_accuracy',\n",
        "    overwrite=True\n",
        ")"
      ],
      "metadata": {
        "id": "s7muDn96J8l5"
      },
      "execution_count": null,
      "outputs": []
    },
    {
      "cell_type": "code",
      "source": [
        "reduce_lr = ReduceLROnPlateau(\n",
        "    monitor=\"val_loss\",\n",
        "    factor=5e-2,\n",
        "    patience=5,\n",
        "    verbose=0,\n",
        "    mode=\"auto\",\n",
        "    min_delta=1e-3,\n",
        "    min_lr=1e-5\n",
        ")\n",
        "\n",
        "early_stopping = EarlyStopping(\n",
        "    monitor='val_accuracy',\n",
        "    mode='auto',\n",
        "    patience=20,\n",
        "    verbose=False,\n",
        "    restore_best_weights=True\n",
        ")"
      ],
      "metadata": {
        "id": "jvJKNGKFM9Cy"
      },
      "execution_count": null,
      "outputs": []
    },
    {
      "cell_type": "code",
      "execution_count": null,
      "metadata": {
        "id": "mDFiiE4NfLJd",
        "colab": {
          "base_uri": "https://localhost:8080/"
        },
        "outputId": "801d1247-5d61-49c8-a1cf-2575483ed7c4"
      },
      "outputs": [
        {
          "output_type": "stream",
          "name": "stdout",
          "text": [
            "Trial 8 Complete [00h 01m 45s]\n",
            "val_accuracy: 0.7680723071098328\n",
            "\n",
            "Best val_accuracy So Far: 0.8132529854774475\n",
            "Total elapsed time: 00h 18m 03s\n"
          ]
        }
      ],
      "source": [
        "tuner.search(\n",
        "    x = train[\"comment_text\"],\n",
        "    y = train[\"conspiratorial\"],\n",
        "    epochs = 70,\n",
        "    validation_data = (val[\"comment_text\"], val[\"conspiratorial\"]),\n",
        "    callbacks = [\n",
        "        reduce_lr,\n",
        "        early_stopping\n",
        "    ]\n",
        ")"
      ]
    },
    {
      "cell_type": "code",
      "source": [
        "tuner.get_best_hyperparameters(1)[0].values"
      ],
      "metadata": {
        "colab": {
          "base_uri": "https://localhost:8080/"
        },
        "id": "NLPKPDbBgk2K",
        "outputId": "6764ebbf-0aa7-4b3a-ba49-ee18618181eb"
      },
      "execution_count": null,
      "outputs": [
        {
          "output_type": "execute_result",
          "data": {
            "text/plain": [
              "{'Embedding dimension': 32,\n",
              " 'attention heads': 2,\n",
              " 'ff dim': 32,\n",
              " 'dense layer units': 8,\n",
              " 'L2 regularization': 1e-06,\n",
              " 'learning_rate': 0.001}"
            ]
          },
          "metadata": {},
          "execution_count": 80
        }
      ]
    },
    {
      "cell_type": "markdown",
      "source": [
        "## Final train of the model"
      ],
      "metadata": {
        "id": "j4d7DPeupW9D"
      }
    },
    {
      "cell_type": "code",
      "source": [
        "tf.keras.backend.clear_session()"
      ],
      "metadata": {
        "id": "423AqtCpGDg0"
      },
      "execution_count": null,
      "outputs": []
    },
    {
      "cell_type": "code",
      "source": [
        "best_model = get_model_with_hp(\n",
        "    embedding_dim = 32,\n",
        "    num_heads = 2,\n",
        "    ff_dim = 32,\n",
        "    dense_layer_units = 8,\n",
        "    dropout_rate = 0.1,\n",
        "    l2_value = 1e-6,\n",
        "    learning_rate = 1e-3,\n",
        "    clipnorm = 0.5,\n",
        ")\n",
        "\n",
        "history = best_model.fit(\n",
        "    x = train[\"comment_text\"],\n",
        "    y = train[\"conspiratorial\"],\n",
        "    epochs=60,\n",
        "    validation_data = (val[\"comment_text\"], val[\"conspiratorial\"]),\n",
        "    batch_size = 256,\n",
        "    callbacks= [\n",
        "      tf.keras.callbacks.TensorBoard(log_dir=\"logs\"),\n",
        "      reduce_lr,\n",
        "      #early_stopping\n",
        "    ]\n",
        ")\n"
      ],
      "metadata": {
        "colab": {
          "base_uri": "https://localhost:8080/"
        },
        "id": "U2snX1TZcpsX",
        "outputId": "d01dd263-4e85-46f9-fe04-9fbbbd45ead4"
      },
      "execution_count": null,
      "outputs": [
        {
          "output_type": "stream",
          "name": "stdout",
          "text": [
            "Epoch 1/60\n",
            "6/6 [==============================] - 8s 263ms/step - loss: 0.7413 - accuracy: 0.5162 - val_loss: 0.6751 - val_accuracy: 0.5693 - lr: 0.0010\n",
            "Epoch 2/60\n",
            "6/6 [==============================] - 1s 191ms/step - loss: 0.6770 - accuracy: 0.5630 - val_loss: 0.6612 - val_accuracy: 0.6627 - lr: 0.0010\n",
            "Epoch 3/60\n",
            "6/6 [==============================] - 1s 188ms/step - loss: 0.6787 - accuracy: 0.5494 - val_loss: 0.6559 - val_accuracy: 0.6657 - lr: 0.0010\n",
            "Epoch 4/60\n",
            "6/6 [==============================] - 1s 188ms/step - loss: 0.6596 - accuracy: 0.5977 - val_loss: 0.6550 - val_accuracy: 0.5904 - lr: 0.0010\n",
            "Epoch 5/60\n",
            "6/6 [==============================] - 1s 194ms/step - loss: 0.6542 - accuracy: 0.6294 - val_loss: 0.6487 - val_accuracy: 0.6777 - lr: 0.0010\n",
            "Epoch 6/60\n",
            "6/6 [==============================] - 1s 191ms/step - loss: 0.6375 - accuracy: 0.6543 - val_loss: 0.6450 - val_accuracy: 0.5994 - lr: 0.0010\n",
            "Epoch 7/60\n",
            "6/6 [==============================] - 1s 223ms/step - loss: 0.6366 - accuracy: 0.6287 - val_loss: 0.6384 - val_accuracy: 0.6747 - lr: 0.0010\n",
            "Epoch 8/60\n",
            "6/6 [==============================] - 2s 295ms/step - loss: 0.6245 - accuracy: 0.6808 - val_loss: 0.6340 - val_accuracy: 0.6807 - lr: 0.0010\n",
            "Epoch 9/60\n",
            "6/6 [==============================] - 1s 143ms/step - loss: 0.6160 - accuracy: 0.6687 - val_loss: 0.6281 - val_accuracy: 0.6627 - lr: 0.0010\n",
            "Epoch 10/60\n",
            "6/6 [==============================] - 1s 196ms/step - loss: 0.6010 - accuracy: 0.7057 - val_loss: 0.6224 - val_accuracy: 0.6807 - lr: 0.0010\n",
            "Epoch 11/60\n",
            "6/6 [==============================] - 1s 194ms/step - loss: 0.5860 - accuracy: 0.6860 - val_loss: 0.6145 - val_accuracy: 0.6627 - lr: 0.0010\n",
            "Epoch 12/60\n",
            "6/6 [==============================] - 1s 167ms/step - loss: 0.5754 - accuracy: 0.7245 - val_loss: 0.6051 - val_accuracy: 0.6657 - lr: 0.0010\n",
            "Epoch 13/60\n",
            "6/6 [==============================] - 1s 195ms/step - loss: 0.5449 - accuracy: 0.7404 - val_loss: 0.5930 - val_accuracy: 0.6777 - lr: 0.0010\n",
            "Epoch 14/60\n",
            "6/6 [==============================] - 1s 192ms/step - loss: 0.5172 - accuracy: 0.7713 - val_loss: 0.5785 - val_accuracy: 0.7139 - lr: 0.0010\n",
            "Epoch 15/60\n",
            "6/6 [==============================] - 1s 192ms/step - loss: 0.4755 - accuracy: 0.8060 - val_loss: 0.5855 - val_accuracy: 0.6837 - lr: 0.0010\n",
            "Epoch 16/60\n",
            "6/6 [==============================] - 1s 203ms/step - loss: 0.4149 - accuracy: 0.8143 - val_loss: 0.5616 - val_accuracy: 0.6988 - lr: 0.0010\n",
            "Epoch 17/60\n",
            "6/6 [==============================] - 1s 157ms/step - loss: 0.3333 - accuracy: 0.8611 - val_loss: 0.6511 - val_accuracy: 0.6657 - lr: 0.0010\n",
            "Epoch 18/60\n",
            "6/6 [==============================] - 1s 221ms/step - loss: 0.3143 - accuracy: 0.8377 - val_loss: 0.5078 - val_accuracy: 0.7711 - lr: 0.0010\n",
            "Epoch 19/60\n",
            "6/6 [==============================] - 1s 251ms/step - loss: 0.2246 - accuracy: 0.9026 - val_loss: 0.6022 - val_accuracy: 0.7410 - lr: 0.0010\n",
            "Epoch 20/60\n",
            "6/6 [==============================] - 1s 187ms/step - loss: 0.1556 - accuracy: 0.9389 - val_loss: 0.8143 - val_accuracy: 0.7078 - lr: 0.0010\n",
            "Epoch 21/60\n",
            "6/6 [==============================] - 1s 188ms/step - loss: 0.1147 - accuracy: 0.9577 - val_loss: 0.7142 - val_accuracy: 0.7651 - lr: 0.0010\n",
            "Epoch 22/60\n",
            "6/6 [==============================] - 1s 193ms/step - loss: 0.0944 - accuracy: 0.9691 - val_loss: 0.7775 - val_accuracy: 0.7771 - lr: 0.0010\n",
            "Epoch 23/60\n",
            "6/6 [==============================] - 1s 86ms/step - loss: 0.0574 - accuracy: 0.9796 - val_loss: 1.0036 - val_accuracy: 0.7651 - lr: 0.0010\n",
            "Epoch 24/60\n",
            "6/6 [==============================] - 1s 192ms/step - loss: 0.0408 - accuracy: 0.9894 - val_loss: 0.9220 - val_accuracy: 0.7681 - lr: 5.0000e-05\n",
            "Epoch 25/60\n",
            "6/6 [==============================] - 1s 174ms/step - loss: 0.0386 - accuracy: 0.9872 - val_loss: 0.9348 - val_accuracy: 0.7771 - lr: 5.0000e-05\n",
            "Epoch 26/60\n",
            "6/6 [==============================] - 1s 168ms/step - loss: 0.0305 - accuracy: 0.9932 - val_loss: 0.9582 - val_accuracy: 0.7771 - lr: 5.0000e-05\n",
            "Epoch 27/60\n",
            "6/6 [==============================] - 1s 139ms/step - loss: 0.0298 - accuracy: 0.9932 - val_loss: 0.9516 - val_accuracy: 0.7771 - lr: 5.0000e-05\n",
            "Epoch 28/60\n",
            "6/6 [==============================] - 1s 201ms/step - loss: 0.0293 - accuracy: 0.9932 - val_loss: 0.9572 - val_accuracy: 0.7681 - lr: 5.0000e-05\n",
            "Epoch 29/60\n",
            "6/6 [==============================] - 1s 113ms/step - loss: 0.0258 - accuracy: 0.9940 - val_loss: 0.9614 - val_accuracy: 0.7741 - lr: 1.0000e-05\n",
            "Epoch 30/60\n",
            "6/6 [==============================] - 1s 172ms/step - loss: 0.0246 - accuracy: 0.9947 - val_loss: 0.9649 - val_accuracy: 0.7771 - lr: 1.0000e-05\n",
            "Epoch 31/60\n",
            "6/6 [==============================] - 1s 256ms/step - loss: 0.0269 - accuracy: 0.9970 - val_loss: 0.9657 - val_accuracy: 0.7771 - lr: 1.0000e-05\n",
            "Epoch 32/60\n",
            "6/6 [==============================] - 1s 202ms/step - loss: 0.0286 - accuracy: 0.9925 - val_loss: 0.9665 - val_accuracy: 0.7711 - lr: 1.0000e-05\n",
            "Epoch 33/60\n",
            "6/6 [==============================] - 1s 189ms/step - loss: 0.0282 - accuracy: 0.9940 - val_loss: 0.9684 - val_accuracy: 0.7651 - lr: 1.0000e-05\n",
            "Epoch 34/60\n",
            "6/6 [==============================] - 1s 151ms/step - loss: 0.0234 - accuracy: 0.9947 - val_loss: 0.9715 - val_accuracy: 0.7711 - lr: 1.0000e-05\n",
            "Epoch 35/60\n",
            "6/6 [==============================] - 1s 164ms/step - loss: 0.0254 - accuracy: 0.9955 - val_loss: 0.9716 - val_accuracy: 0.7711 - lr: 1.0000e-05\n",
            "Epoch 36/60\n",
            "6/6 [==============================] - 1s 187ms/step - loss: 0.0257 - accuracy: 0.9947 - val_loss: 0.9751 - val_accuracy: 0.7711 - lr: 1.0000e-05\n",
            "Epoch 37/60\n",
            "6/6 [==============================] - 1s 156ms/step - loss: 0.0247 - accuracy: 0.9955 - val_loss: 0.9802 - val_accuracy: 0.7771 - lr: 1.0000e-05\n",
            "Epoch 38/60\n",
            "6/6 [==============================] - 1s 116ms/step - loss: 0.0251 - accuracy: 0.9947 - val_loss: 0.9798 - val_accuracy: 0.7711 - lr: 1.0000e-05\n",
            "Epoch 39/60\n",
            "6/6 [==============================] - 1s 117ms/step - loss: 0.0241 - accuracy: 0.9955 - val_loss: 0.9801 - val_accuracy: 0.7651 - lr: 1.0000e-05\n",
            "Epoch 40/60\n",
            "6/6 [==============================] - 1s 180ms/step - loss: 0.0237 - accuracy: 0.9962 - val_loss: 0.9816 - val_accuracy: 0.7681 - lr: 1.0000e-05\n",
            "Epoch 41/60\n",
            "6/6 [==============================] - 1s 165ms/step - loss: 0.0234 - accuracy: 0.9947 - val_loss: 0.9860 - val_accuracy: 0.7711 - lr: 1.0000e-05\n",
            "Epoch 42/60\n",
            "6/6 [==============================] - 1s 170ms/step - loss: 0.0234 - accuracy: 0.9955 - val_loss: 0.9908 - val_accuracy: 0.7771 - lr: 1.0000e-05\n",
            "Epoch 43/60\n",
            "6/6 [==============================] - 1s 166ms/step - loss: 0.0232 - accuracy: 0.9947 - val_loss: 0.9948 - val_accuracy: 0.7771 - lr: 1.0000e-05\n",
            "Epoch 44/60\n",
            "6/6 [==============================] - 1s 207ms/step - loss: 0.0251 - accuracy: 0.9947 - val_loss: 0.9951 - val_accuracy: 0.7741 - lr: 1.0000e-05\n",
            "Epoch 45/60\n",
            "6/6 [==============================] - 1s 178ms/step - loss: 0.0245 - accuracy: 0.9940 - val_loss: 0.9946 - val_accuracy: 0.7711 - lr: 1.0000e-05\n",
            "Epoch 46/60\n",
            "6/6 [==============================] - 1s 109ms/step - loss: 0.0252 - accuracy: 0.9955 - val_loss: 0.9960 - val_accuracy: 0.7651 - lr: 1.0000e-05\n",
            "Epoch 47/60\n",
            "6/6 [==============================] - 1s 162ms/step - loss: 0.0249 - accuracy: 0.9940 - val_loss: 0.9989 - val_accuracy: 0.7711 - lr: 1.0000e-05\n",
            "Epoch 48/60\n",
            "6/6 [==============================] - 1s 200ms/step - loss: 0.0231 - accuracy: 0.9947 - val_loss: 1.0029 - val_accuracy: 0.7711 - lr: 1.0000e-05\n",
            "Epoch 49/60\n",
            "6/6 [==============================] - 1s 175ms/step - loss: 0.0235 - accuracy: 0.9955 - val_loss: 1.0043 - val_accuracy: 0.7681 - lr: 1.0000e-05\n",
            "Epoch 50/60\n",
            "6/6 [==============================] - 1s 139ms/step - loss: 0.0229 - accuracy: 0.9962 - val_loss: 1.0055 - val_accuracy: 0.7681 - lr: 1.0000e-05\n",
            "Epoch 51/60\n",
            "6/6 [==============================] - 1s 137ms/step - loss: 0.0210 - accuracy: 0.9962 - val_loss: 1.0071 - val_accuracy: 0.7711 - lr: 1.0000e-05\n",
            "Epoch 52/60\n",
            "6/6 [==============================] - 1s 141ms/step - loss: 0.0252 - accuracy: 0.9955 - val_loss: 1.0103 - val_accuracy: 0.7681 - lr: 1.0000e-05\n",
            "Epoch 53/60\n",
            "6/6 [==============================] - 1s 179ms/step - loss: 0.0229 - accuracy: 0.9940 - val_loss: 1.0128 - val_accuracy: 0.7681 - lr: 1.0000e-05\n",
            "Epoch 54/60\n",
            "6/6 [==============================] - 1s 193ms/step - loss: 0.0216 - accuracy: 0.9955 - val_loss: 1.0172 - val_accuracy: 0.7741 - lr: 1.0000e-05\n",
            "Epoch 55/60\n",
            "6/6 [==============================] - 1s 128ms/step - loss: 0.0226 - accuracy: 0.9947 - val_loss: 1.0209 - val_accuracy: 0.7771 - lr: 1.0000e-05\n",
            "Epoch 56/60\n",
            "6/6 [==============================] - 1s 291ms/step - loss: 0.0208 - accuracy: 0.9970 - val_loss: 1.0234 - val_accuracy: 0.7771 - lr: 1.0000e-05\n",
            "Epoch 57/60\n",
            "6/6 [==============================] - 1s 222ms/step - loss: 0.0215 - accuracy: 0.9940 - val_loss: 1.0246 - val_accuracy: 0.7771 - lr: 1.0000e-05\n",
            "Epoch 58/60\n",
            "6/6 [==============================] - 1s 117ms/step - loss: 0.0219 - accuracy: 0.9962 - val_loss: 1.0209 - val_accuracy: 0.7711 - lr: 1.0000e-05\n",
            "Epoch 59/60\n",
            "6/6 [==============================] - 1s 128ms/step - loss: 0.0242 - accuracy: 0.9962 - val_loss: 1.0231 - val_accuracy: 0.7681 - lr: 1.0000e-05\n",
            "Epoch 60/60\n",
            "6/6 [==============================] - 1s 113ms/step - loss: 0.0252 - accuracy: 0.9947 - val_loss: 1.0273 - val_accuracy: 0.7711 - lr: 1.0000e-05\n"
          ]
        }
      ]
    },
    {
      "cell_type": "code",
      "execution_count": null,
      "metadata": {
        "colab": {
          "base_uri": "https://localhost:8080/",
          "height": 927
        },
        "id": "-T8qVQkQ0Cv9",
        "outputId": "73cfa3c3-814b-426e-ead9-b9893bede704"
      },
      "outputs": [
        {
          "output_type": "display_data",
          "data": {
            "text/plain": [
              "<Figure size 640x480 with 1 Axes>"
            ],
            "image/png": "[encoded data removed]"
          },
          "metadata": {}
        },
        {
          "output_type": "display_data",
          "data": {
            "text/plain": [
              "<Figure size 640x480 with 1 Axes>"
            ],
            "image/png": "[encoded data removed]"
          },
          "metadata": {}
        }
      ],
      "source": [
        "utils.plot_history(history)"
      ]
    },
    {
      "cell_type": "code",
      "source": [
        "best_model.summary()"
      ],
      "metadata": {
        "id": "g_YejuTJE2MI",
        "outputId": "6fb27661-7544-449e-970d-d855fd52bd4d",
        "colab": {
          "base_uri": "https://localhost:8080/"
        }
      },
      "execution_count": null,
      "outputs": [
        {
          "output_type": "stream",
          "name": "stdout",
          "text": [
            "Model: \"model_8\"\n",
            "_________________________________________________________________\n",
            " Layer (type)                Output Shape              Param #   \n",
            "=================================================================\n",
            " text_input (InputLayer)     [(None,)]                 0         \n",
            "                                                                 \n",
            " text_vectorization (TextVec  (None, 256)              0         \n",
            " torization)                                                     \n",
            "                                                                 \n",
            " embedding (Embedding)       (None, 256, 32)           293184    \n",
            "                                                                 \n",
            " transformer_block_8 (Transf  (None, 256, 32)          10656     \n",
            " ormerBlock)                                                     \n",
            "                                                                 \n",
            " dropout_50 (Dropout)        (None, 256, 32)           0         \n",
            "                                                                 \n",
            " global_average_pooling1d_8   (None, 32)               0         \n",
            " (GlobalAveragePooling1D)                                        \n",
            "                                                                 \n",
            " fully_connected_layer_1 (De  (None, 8)                264       \n",
            " nse)                                                            \n",
            "                                                                 \n",
            " dropout_51 (Dropout)        (None, 8)                 0         \n",
            "                                                                 \n",
            " fully_connected_layer_2 (De  (None, 8)                72        \n",
            " nse)                                                            \n",
            "                                                                 \n",
            " dropout_52 (Dropout)        (None, 8)                 0         \n",
            "                                                                 \n",
            " fully_connected_layer_3 (De  (None, 8)                72        \n",
            " nse)                                                            \n",
            "                                                                 \n",
            " dropout_53 (Dropout)        (None, 8)                 0         \n",
            "                                                                 \n",
            " output_classifier (Dense)   (None, 1)                 9         \n",
            "                                                                 \n",
            "=================================================================\n",
            "Total params: 304,257\n",
            "Trainable params: 304,257\n",
            "Non-trainable params: 0\n",
            "_________________________________________________________________\n"
          ]
        }
      ]
    },
    {
      "cell_type": "markdown",
      "source": [
        "# Test phase"
      ],
      "metadata": {
        "id": "ilDh9ZV3pcqf"
      }
    },
    {
      "cell_type": "code",
      "execution_count": null,
      "metadata": {
        "id": "-8miFIBYupCE",
        "colab": {
          "base_uri": "https://localhost:8080/"
        },
        "outputId": "31fa3efc-b17e-414d-d5f8-07a97947e013"
      },
      "outputs": [
        {
          "output_type": "stream",
          "name": "stdout",
          "text": [
            "Epoch 1/20\n",
            "7/7 [==============================] - 9s 181ms/step - loss: 0.7407 - accuracy: 0.4906\n",
            "Epoch 2/20\n",
            "7/7 [==============================] - 1s 170ms/step - loss: 0.6624 - accuracy: 0.5914\n",
            "Epoch 3/20\n",
            "7/7 [==============================] - 1s 180ms/step - loss: 0.6488 - accuracy: 0.6343\n",
            "Epoch 4/20\n",
            "7/7 [==============================] - 1s 181ms/step - loss: 0.6513 - accuracy: 0.6174\n",
            "Epoch 5/20\n",
            "7/7 [==============================] - 1s 169ms/step - loss: 0.6310 - accuracy: 0.6536\n",
            "Epoch 6/20\n",
            "7/7 [==============================] - 1s 172ms/step - loss: 0.6242 - accuracy: 0.6542\n",
            "Epoch 7/20\n",
            "7/7 [==============================] - 1s 212ms/step - loss: 0.6131 - accuracy: 0.6789\n",
            "Epoch 8/20\n",
            "7/7 [==============================] - 2s 264ms/step - loss: 0.5888 - accuracy: 0.7085\n",
            "Epoch 9/20\n",
            "7/7 [==============================] - 1s 163ms/step - loss: 0.5638 - accuracy: 0.7357\n",
            "Epoch 10/20\n",
            "7/7 [==============================] - 2s 246ms/step - loss: 0.5326 - accuracy: 0.7592\n",
            "Epoch 11/20\n",
            "7/7 [==============================] - 1s 163ms/step - loss: 0.4846 - accuracy: 0.7839\n",
            "Epoch 12/20\n",
            "7/7 [==============================] - 1s 159ms/step - loss: 0.4165 - accuracy: 0.8322\n",
            "Epoch 13/20\n",
            "7/7 [==============================] - 1s 149ms/step - loss: 0.3531 - accuracy: 0.8449\n",
            "Epoch 14/20\n",
            "7/7 [==============================] - 1s 152ms/step - loss: 0.2643 - accuracy: 0.8877\n",
            "Epoch 15/20\n",
            "7/7 [==============================] - 1s 150ms/step - loss: 0.1781 - accuracy: 0.9384\n",
            "Epoch 16/20\n",
            "7/7 [==============================] - 1s 132ms/step - loss: 0.1597 - accuracy: 0.9403\n",
            "Epoch 17/20\n",
            "7/7 [==============================] - 1s 201ms/step - loss: 0.3310 - accuracy: 0.8817\n",
            "Epoch 18/20\n",
            "7/7 [==============================] - 2s 237ms/step - loss: 0.1621 - accuracy: 0.9324\n",
            "Epoch 19/20\n",
            "7/7 [==============================] - 1s 139ms/step - loss: 0.1071 - accuracy: 0.9578\n",
            "Epoch 20/20\n",
            "7/7 [==============================] - 1s 152ms/step - loss: 0.0628 - accuracy: 0.9777\n"
          ]
        }
      ],
      "source": [
        "final_model = get_model_with_hp(\n",
        "    embedding_dim = 32,\n",
        "    num_heads = 2,\n",
        "    ff_dim = 32,\n",
        "    dense_layer_units = 8,\n",
        "    dropout_rate = 0.1,\n",
        "    l2_value = 1e-6,\n",
        "    learning_rate = 1e-3,\n",
        "    clipnorm = 0.5,\n",
        ")\n",
        "\n",
        "history = final_model.fit(\n",
        "    x = train[\"comment_text\"],\n",
        "    y = train[\"conspiratorial\"],\n",
        "    batch_size=256,\n",
        "    epochs=20\n",
        ")"
      ]
    },
    {
      "cell_type": "code",
      "source": [
        "_ = final_model.evaluate(\n",
        "    x = test[\"comment_text\"],\n",
        "    y = test[\"conspiratorial\"],\n",
        "    batch_size=256\n",
        ")"
      ],
      "metadata": {
        "colab": {
          "base_uri": "https://localhost:8080/"
        },
        "id": "Fq_b6Ll25Zcg",
        "outputId": "c6cc06b4-f3a2-4f5d-e5d7-3ece4b44ef9f"
      },
      "execution_count": null,
      "outputs": [
        {
          "output_type": "stream",
          "name": "stdout",
          "text": [
            "1/1 [==============================] - 1s 641ms/step - loss: 1.1209 - accuracy: 0.7676\n"
          ]
        }
      ]
    },
    {
      "cell_type": "code",
      "source": [
        "predictions = final_model.predict(x=test[\"comment_text\"])\n",
        "predictions = list(map(round, [ _[0] for _ in predictions]))\n",
        "\n",
        "cm = confusion_matrix(test[\"conspiratorial\"], predictions)\n",
        "disp = ConfusionMatrixDisplay(confusion_matrix=cm, display_labels=[\"Non conspiratorial\", \"conspiratorial\"])\n",
        "disp.plot()"
      ],
      "metadata": {
        "colab": {
          "base_uri": "https://localhost:8080/",
          "height": 484
        },
        "id": "9-8rfGYm6Hnh",
        "outputId": "8e969232-8a50-4bed-c013-de92b0e86737"
      },
      "execution_count": null,
      "outputs": [
        {
          "output_type": "stream",
          "name": "stdout",
          "text": [
            "6/6 [==============================] - 0s 11ms/step\n"
          ]
        },
        {
          "output_type": "execute_result",
          "data": {
            "text/plain": [
              "<sklearn.metrics._plot.confusion_matrix.ConfusionMatrixDisplay at 0x7f2bc836fcd0>"
            ]
          },
          "metadata": {},
          "execution_count": 38
        },
        {
          "output_type": "display_data",
          "data": {
            "text/plain": [
              "<Figure size 640x480 with 2 Axes>"
            ],
            "image/png": "[encoded data removed]"
          },
          "metadata": {}
        }
      ]
    },
    {
      "cell_type": "code",
      "source": [],
      "metadata": {
        "id": "q-HYUvU2Lo5T"
      },
      "execution_count": null,
      "outputs": []
    }
  ],
  "metadata": {
    "accelerator": "GPU",
    "colab": {
      "gpuType": "T4",
      "provenance": []
    },
    "kernelspec": {
      "display_name": "Python 3",
      "name": "python3"
    },
    "language_info": {
      "codemirror_mode": {
        "name": "ipython",
        "version": 3
      },
      "file_extension": ".py",
      "mimetype": "text/x-python",
      "name": "python",
      "nbconvert_exporter": "python",
      "pygments_lexer": "ipython3",
      "version": "3.10.6"
    }
  },
  "nbformat": 4,
  "nbformat_minor": 0
}