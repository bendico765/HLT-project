{
 "cells": [
  {
   "cell_type": "code",
   "execution_count": 1,
   "id": "2e38acd0",
   "metadata": {},
   "outputs": [
    {
     "name": "stderr",
     "output_type": "stream",
     "text": [
      "/home/bendico765/PycharmProjects/HLT-project/venv/lib/python3.10/site-packages/tqdm/auto.py:21: TqdmWarning: IProgress not found. Please update jupyter and ipywidgets. See https://ipywidgets.readthedocs.io/en/stable/user_install.html\n",
      "  from .autonotebook import tqdm as notebook_tqdm\n",
      "2023-05-24 16:15:36.143634: I tensorflow/tsl/cuda/cudart_stub.cc:28] Could not find cuda drivers on your machine, GPU will not be used.\n",
      "2023-05-24 16:15:36.173280: I tensorflow/tsl/cuda/cudart_stub.cc:28] Could not find cuda drivers on your machine, GPU will not be used.\n",
      "2023-05-24 16:15:36.174175: I tensorflow/core/platform/cpu_feature_guard.cc:182] This TensorFlow binary is optimized to use available CPU instructions in performance-critical operations.\n",
      "To enable the following instructions: AVX2 FMA, in other operations, rebuild TensorFlow with the appropriate compiler flags.\n",
      "2023-05-24 16:15:36.943503: W tensorflow/compiler/tf2tensorrt/utils/py_utils.cc:38] TF-TRT Warning: Could not find TensorRT\n"
     ]
    }
   ],
   "source": [
    "import pandas as pd\n",
    "from transformers import AutoTokenizer\n",
    "from sklearn.model_selection import train_test_split\n",
    "import tensorflow as tf\n",
    "from keras.models import Model, Sequential\n",
    "from keras.layers import Input, Dense, Dropout, Embedding\n",
    "from tensorflow.keras.optimizers import Adam\n",
    "from transformers import TFBertModel"
   ]
  },
  {
   "cell_type": "code",
   "execution_count": 2,
   "id": "918edc94",
   "metadata": {},
   "outputs": [],
   "source": [
    "df = pd.read_csv(\"subtaskA_train.csv\")"
   ]
  },
  {
   "cell_type": "code",
   "execution_count": 3,
   "id": "786c8b41",
   "metadata": {},
   "outputs": [
    {
     "name": "stdout",
     "output_type": "stream",
     "text": [
      "<class 'pandas.core.frame.DataFrame'>\n",
      "RangeIndex: 1842 entries, 0 to 1841\n",
      "Data columns (total 3 columns):\n",
      " #   Column          Non-Null Count  Dtype \n",
      "---  ------          --------------  ----- \n",
      " 0   Id              1842 non-null   int64 \n",
      " 1   comment_text    1842 non-null   object\n",
      " 2   conspiratorial  1842 non-null   int64 \n",
      "dtypes: int64(2), object(1)\n",
      "memory usage: 43.3+ KB\n"
     ]
    }
   ],
   "source": [
    "df.info()"
   ]
  },
  {
   "cell_type": "code",
   "execution_count": 4,
   "id": "e5e9d04d",
   "metadata": {},
   "outputs": [],
   "source": [
    "df = df[:50]"
   ]
  },
  {
   "cell_type": "code",
   "execution_count": 5,
   "id": "c01543ab",
   "metadata": {},
   "outputs": [
    {
     "name": "stdout",
     "output_type": "stream",
     "text": [
      "<class 'pandas.core.frame.DataFrame'>\n",
      "RangeIndex: 50 entries, 0 to 49\n",
      "Data columns (total 3 columns):\n",
      " #   Column          Non-Null Count  Dtype \n",
      "---  ------          --------------  ----- \n",
      " 0   Id              50 non-null     int64 \n",
      " 1   comment_text    50 non-null     object\n",
      " 2   conspiratorial  50 non-null     int64 \n",
      "dtypes: int64(2), object(1)\n",
      "memory usage: 1.3+ KB\n"
     ]
    }
   ],
   "source": [
    "df.info()"
   ]
  },
  {
   "cell_type": "markdown",
   "id": "db2a186c",
   "metadata": {},
   "source": [
    "## Costruzione di train e test set"
   ]
  },
  {
   "cell_type": "code",
   "execution_count": 6,
   "id": "4e2bee79",
   "metadata": {},
   "outputs": [],
   "source": [
    "X = df[\"comment_text\"]\n",
    "y = df[\"conspiratorial\"]"
   ]
  },
  {
   "cell_type": "code",
   "execution_count": 7,
   "id": "75143b88",
   "metadata": {},
   "outputs": [],
   "source": [
    "X_train, X_test, y_train, y_test = train_test_split(X, y, stratify = y, test_size = 0.2, random_state = 10)"
   ]
  },
  {
   "cell_type": "markdown",
   "id": "82b71102",
   "metadata": {},
   "source": [
    "## Tokenizzazione con autotoken"
   ]
  },
  {
   "cell_type": "code",
   "execution_count": 8,
   "id": "a3298b27",
   "metadata": {},
   "outputs": [],
   "source": [
    "from transformers import AutoTokenizer\n",
    "\n",
    "def tokenize(X):\n",
    "    X = tokenizer(\n",
    "        text = list(X),\n",
    "        add_special_tokens = True,\n",
    "        max_length = 100,\n",
    "        truncation = True,\n",
    "        padding = 'max_length',\n",
    "        return_tensors = 'tf',\n",
    "        return_token_type_ids = False,\n",
    "        return_attention_mask = True,\n",
    "        verbose = True\n",
    "        )\n",
    "    return X\n",
    "\n",
    "tokenizer = AutoTokenizer.from_pretrained('dbmdz/bert-base-italian-uncased')"
   ]
  },
  {
   "cell_type": "code",
   "execution_count": 9,
   "id": "fd5cfef9",
   "metadata": {},
   "outputs": [],
   "source": [
    "X_train_tokens = tokenize(X_train)\n",
    "X_test_tokens = tokenize(X_test)"
   ]
  },
  {
   "cell_type": "markdown",
   "id": "2027e069",
   "metadata": {},
   "source": [
    "## Creazione modello"
   ]
  },
  {
   "cell_type": "code",
   "execution_count": 10,
   "id": "aa68578a",
   "metadata": {},
   "outputs": [],
   "source": [
    "length = 100\n",
    "def get_model():\n",
    "    dropout_rate = 0.2\n",
    "    input_ids = Input(shape = (length,), dtype = tf.int32, name = 'input_ids')\n",
    "    input_mask = Input(shape = (length,), dtype = tf.int32, name = 'input_mask')\n",
    "    embeddings = bert([input_ids, input_mask])[1] #pooler output\n",
    "    print(embeddings)\n",
    "    out = Dropout(0.2)(embeddings)\n",
    "    #64 units dense layer\n",
    "    out = Dense(64,activation = 'relu')(out)\n",
    "    out = Dropout(0.2)(out)\n",
    "    y = Dense(1,activation = 'sigmoid')(out)\n",
    "    model = Model(inputs=[input_ids, input_mask], outputs=y)\n",
    "    model.layers[2].trainable = True\n",
    "    #define optimizer\n",
    "    optimizer = Adam(learning_rate=1e-05, epsilon=1e-08,clipnorm=1.0)\n",
    "    #complile the model\n",
    "    model.compile(optimizer = optimizer, loss = 'binary_crossentropy', metrics = 'accuracy')\n",
    "    return model"
   ]
  },
  {
   "cell_type": "code",
   "execution_count": 11,
   "id": "7bd3f519",
   "metadata": {},
   "outputs": [
    {
     "name": "stderr",
     "output_type": "stream",
     "text": [
      "Some layers from the model checkpoint at dbmdz/bert-base-italian-uncased were not used when initializing TFBertModel: ['nsp___cls', 'mlm___cls']\n",
      "- This IS expected if you are initializing TFBertModel from the checkpoint of a model trained on another task or with another architecture (e.g. initializing a BertForSequenceClassification model from a BertForPreTraining model).\n",
      "- This IS NOT expected if you are initializing TFBertModel from the checkpoint of a model that you expect to be exactly identical (initializing a BertForSequenceClassification model from a BertForSequenceClassification model).\n",
      "All the layers of TFBertModel were initialized from the model checkpoint at dbmdz/bert-base-italian-uncased.\n",
      "If your task is similar to the task the model of the checkpoint was trained on, you can already use TFBertModel for predictions without further training.\n"
     ]
    }
   ],
   "source": [
    "bert = TFBertModel.from_pretrained('dbmdz/bert-base-italian-uncased')"
   ]
  },
  {
   "cell_type": "code",
   "execution_count": 12,
   "id": "0740f419",
   "metadata": {},
   "outputs": [
    {
     "name": "stdout",
     "output_type": "stream",
     "text": [
      "KerasTensor(type_spec=TensorSpec(shape=(None, 768), dtype=tf.float32, name=None), name='tf_bert_model/bert/pooler/dense/Tanh:0', description=\"created by layer 'tf_bert_model'\")\n"
     ]
    }
   ],
   "source": [
    "model = get_model()"
   ]
  },
  {
   "cell_type": "code",
   "execution_count": 13,
   "id": "a2c0db67",
   "metadata": {},
   "outputs": [],
   "source": [
    "from keras.callbacks import EarlyStopping"
   ]
  },
  {
   "cell_type": "code",
   "execution_count": 14,
   "id": "62cc508e",
   "metadata": {},
   "outputs": [
    {
     "name": "stdout",
     "output_type": "stream",
     "text": [
      "Epoch 1/3\n",
      "1/1 [==============================] - 35s 35s/step - loss: 0.7071 - accuracy: 0.5312 - val_loss: 0.7347 - val_accuracy: 0.2500\n",
      "Epoch 2/3\n",
      "1/1 [==============================] - 12s 12s/step - loss: 0.6909 - accuracy: 0.5938 - val_loss: 0.7297 - val_accuracy: 0.2500\n",
      "Epoch 3/3\n",
      "1/1 [==============================] - 12s 12s/step - loss: 0.7231 - accuracy: 0.4062 - val_loss: 0.7108 - val_accuracy: 0.3750\n"
     ]
    }
   ],
   "source": [
    "history = model.fit(\n",
    "    x = {\n",
    "        'input_ids': X_train_tokens['input_ids'],\n",
    "        'input_mask':X_train_tokens['attention_mask']\n",
    "    }, \n",
    "    y = y_train, \n",
    "    epochs=3, \n",
    "    validation_split = 0.2, \n",
    "    batch_size = 64, \n",
    "    callbacks= [ \n",
    "        EarlyStopping( monitor='val_accuracy' ,mode='max', patience=3,verbose=False,restore_best_weights=True)\n",
    "    ]\n",
    ")"
   ]
  },
  {
   "cell_type": "code",
   "execution_count": null,
   "id": "65b05ee4",
   "metadata": {},
   "outputs": [],
   "source": []
  }
 ],
 "metadata": {
  "kernelspec": {
   "display_name": "Python 3 (ipykernel)",
   "language": "python",
   "name": "python3"
  },
  "language_info": {
   "codemirror_mode": {
    "name": "ipython",
    "version": 3
   },
   "file_extension": ".py",
   "mimetype": "text/x-python",
   "name": "python",
   "nbconvert_exporter": "python",
   "pygments_lexer": "ipython3",
   "version": "3.10.6"
  }
 },
 "nbformat": 4,
 "nbformat_minor": 5
}
