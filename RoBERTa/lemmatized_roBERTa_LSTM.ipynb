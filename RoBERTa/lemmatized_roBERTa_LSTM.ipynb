{
 "cells": [
  {
   "cell_type": "code",
   "execution_count": 1,
   "id": "c2b77234",
   "metadata": {
    "colab": {
     "base_uri": "https://localhost:8080/"
    },
    "id": "c2b77234",
    "outputId": "40c090c9-a453-4517-d27c-a308a4380b24"
   },
   "outputs": [
    {
     "name": "stdout",
     "output_type": "stream",
     "text": [
      "Looking in indexes: https://pypi.org/simple, https://us-python.pkg.dev/colab-wheels/public/simple/\n",
      "Collecting transformers\n",
      "  Downloading transformers-4.30.2-py3-none-any.whl (7.2 MB)\n",
      "\u001b[2K     \u001b[90m━━━━━━━━━━━━━━━━━━━━━━━━━━━━━━━━━━━━━━━━\u001b[0m \u001b[32m7.2/7.2 MB\u001b[0m \u001b[31m63.3 MB/s\u001b[0m eta \u001b[36m0:00:00\u001b[0m\n",
      "\u001b[?25hRequirement already satisfied: filelock in /usr/local/lib/python3.10/dist-packages (from transformers) (3.12.2)\n",
      "Collecting huggingface-hub<1.0,>=0.14.1 (from transformers)\n",
      "  Downloading huggingface_hub-0.15.1-py3-none-any.whl (236 kB)\n",
      "\u001b[2K     \u001b[90m━━━━━━━━━━━━━━━━━━━━━━━━━━━━━━━━━━━━━━\u001b[0m \u001b[32m236.8/236.8 kB\u001b[0m \u001b[31m27.3 MB/s\u001b[0m eta \u001b[36m0:00:00\u001b[0m\n",
      "\u001b[?25hRequirement already satisfied: numpy>=1.17 in /usr/local/lib/python3.10/dist-packages (from transformers) (1.22.4)\n",
      "Requirement already satisfied: packaging>=20.0 in /usr/local/lib/python3.10/dist-packages (from transformers) (23.1)\n",
      "Requirement already satisfied: pyyaml>=5.1 in /usr/local/lib/python3.10/dist-packages (from transformers) (6.0)\n",
      "Requirement already satisfied: regex!=2019.12.17 in /usr/local/lib/python3.10/dist-packages (from transformers) (2022.10.31)\n",
      "Requirement already satisfied: requests in /usr/local/lib/python3.10/dist-packages (from transformers) (2.27.1)\n",
      "Collecting tokenizers!=0.11.3,<0.14,>=0.11.1 (from transformers)\n",
      "  Downloading tokenizers-0.13.3-cp310-cp310-manylinux_2_17_x86_64.manylinux2014_x86_64.whl (7.8 MB)\n",
      "\u001b[2K     \u001b[90m━━━━━━━━━━━━━━━━━━━━━━━━━━━━━━━━━━━━━━━━\u001b[0m \u001b[32m7.8/7.8 MB\u001b[0m \u001b[31m86.4 MB/s\u001b[0m eta \u001b[36m0:00:00\u001b[0m\n",
      "\u001b[?25hCollecting safetensors>=0.3.1 (from transformers)\n",
      "  Downloading safetensors-0.3.1-cp310-cp310-manylinux_2_17_x86_64.manylinux2014_x86_64.whl (1.3 MB)\n",
      "\u001b[2K     \u001b[90m━━━━━━━━━━━━━━━━━━━━━━━━━━━━━━━━━━━━━━━━\u001b[0m \u001b[32m1.3/1.3 MB\u001b[0m \u001b[31m60.4 MB/s\u001b[0m eta \u001b[36m0:00:00\u001b[0m\n",
      "\u001b[?25hRequirement already satisfied: tqdm>=4.27 in /usr/local/lib/python3.10/dist-packages (from transformers) (4.65.0)\n",
      "Requirement already satisfied: fsspec in /usr/local/lib/python3.10/dist-packages (from huggingface-hub<1.0,>=0.14.1->transformers) (2023.6.0)\n",
      "Requirement already satisfied: typing-extensions>=3.7.4.3 in /usr/local/lib/python3.10/dist-packages (from huggingface-hub<1.0,>=0.14.1->transformers) (4.6.3)\n",
      "Requirement already satisfied: urllib3<1.27,>=1.21.1 in /usr/local/lib/python3.10/dist-packages (from requests->transformers) (1.26.16)\n",
      "Requirement already satisfied: certifi>=2017.4.17 in /usr/local/lib/python3.10/dist-packages (from requests->transformers) (2023.5.7)\n",
      "Requirement already satisfied: charset-normalizer~=2.0.0 in /usr/local/lib/python3.10/dist-packages (from requests->transformers) (2.0.12)\n",
      "Requirement already satisfied: idna<4,>=2.5 in /usr/local/lib/python3.10/dist-packages (from requests->transformers) (3.4)\n",
      "Installing collected packages: tokenizers, safetensors, huggingface-hub, transformers\n",
      "Successfully installed huggingface-hub-0.15.1 safetensors-0.3.1 tokenizers-0.13.3 transformers-4.30.2\n",
      "Looking in indexes: https://pypi.org/simple, https://us-python.pkg.dev/colab-wheels/public/simple/\n",
      "Collecting keras_tuner\n",
      "  Downloading keras_tuner-1.3.5-py3-none-any.whl (176 kB)\n",
      "\u001b[2K     \u001b[90m━━━━━━━━━━━━━━━━━━━━━━━━━━━━━━━━━━━━━━\u001b[0m \u001b[32m176.1/176.1 kB\u001b[0m \u001b[31m10.9 MB/s\u001b[0m eta \u001b[36m0:00:00\u001b[0m\n",
      "\u001b[?25hRequirement already satisfied: packaging in /usr/local/lib/python3.10/dist-packages (from keras_tuner) (23.1)\n",
      "Requirement already satisfied: requests in /usr/local/lib/python3.10/dist-packages (from keras_tuner) (2.27.1)\n",
      "Collecting kt-legacy (from keras_tuner)\n",
      "  Downloading kt_legacy-1.0.5-py3-none-any.whl (9.6 kB)\n",
      "Requirement already satisfied: urllib3<1.27,>=1.21.1 in /usr/local/lib/python3.10/dist-packages (from requests->keras_tuner) (1.26.16)\n",
      "Requirement already satisfied: certifi>=2017.4.17 in /usr/local/lib/python3.10/dist-packages (from requests->keras_tuner) (2023.5.7)\n",
      "Requirement already satisfied: charset-normalizer~=2.0.0 in /usr/local/lib/python3.10/dist-packages (from requests->keras_tuner) (2.0.12)\n",
      "Requirement already satisfied: idna<4,>=2.5 in /usr/local/lib/python3.10/dist-packages (from requests->keras_tuner) (3.4)\n",
      "Installing collected packages: kt-legacy, keras_tuner\n",
      "Successfully installed keras_tuner-1.3.5 kt-legacy-1.0.5\n"
     ]
    }
   ],
   "source": [
    "!pip install transformers\n",
    "!pip install keras_tuner"
   ]
  },
  {
   "cell_type": "code",
   "execution_count": 2,
   "id": "7dae8f81",
   "metadata": {
    "id": "7dae8f81"
   },
   "outputs": [],
   "source": [
    "import os\n",
    "import warnings\n",
    "os.environ['TF_CPP_MIN_LOG_LEVEL'] = '3'\n",
    "warnings.filterwarnings(\"ignore\")\n",
    "\n",
    "import numpy as np\n",
    "import pandas as pd\n",
    "import tensorflow as tf\n",
    "import utils\n",
    "import keras_tuner as kt\n",
    "from tensorflow.keras.models import Sequential, Model\n",
    "from tensorflow.keras import regularizers\n",
    "from tensorflow.keras.layers import Input, Dense, Embedding, LSTM, Bidirectional, Dropout, GlobalMaxPool1D\n",
    "from tensorflow.keras.callbacks import Callback, EarlyStopping, ReduceLROnPlateau\n",
    "from tensorflow.keras.optimizers import Adam\n",
    "from transformers import AutoTokenizer, TFAutoModel\n",
    "from decimal import Decimal\n",
    "from sklearn.metrics import confusion_matrix, ConfusionMatrixDisplay\n",
    "from sklearn.model_selection import train_test_split\n"
   ]
  },
  {
   "cell_type": "code",
   "execution_count": 3,
   "id": "Zxb8JzSvEBk5",
   "metadata": {
    "colab": {
     "base_uri": "https://localhost:8080/"
    },
    "id": "Zxb8JzSvEBk5",
    "outputId": "b1c2f929-875e-4ce0-8da1-00d5b297cd8a"
   },
   "outputs": [
    {
     "name": "stdout",
     "output_type": "stream",
     "text": [
      "Found GPU at: /device:GPU:0\n"
     ]
    }
   ],
   "source": [
    "device_name = tf.test.gpu_device_name()\n",
    "if device_name != '/device:GPU:0':\n",
    "  raise SystemError('GPU device not found')\n",
    "print('Found GPU at: {}'.format(device_name))"
   ]
  },
  {
   "cell_type": "markdown",
   "id": "mPqpGI39Orqz",
   "metadata": {
    "id": "mPqpGI39Orqz"
   },
   "source": [
    "# Preprocessing"
   ]
  },
  {
   "cell_type": "markdown",
   "id": "wAcaV9Q7ppco",
   "metadata": {
    "id": "wAcaV9Q7ppco"
   },
   "source": [
    "The primary data for the competition is, in each provided file, the comment_text column. This contains the text of a comment which has been labeled as Conspiratorial (1) or non-conspiratorial (0). The train set’s comments are entirely in Italian with sporadic citation of external resources in English and come exclusively from Telegram Channels.\n",
    "\n",
    "The subtaskA_train.csv contains a conspiratorial column that it is the target to be trained on. The values of such column are either 1 indicating that the corresponding comment in comment_text column is Conspiratorial. Otherwise it is 0."
   ]
  },
  {
   "cell_type": "markdown",
   "id": "sAV8rmC5qToR",
   "metadata": {
    "id": "sAV8rmC5qToR"
   },
   "source": [
    "## Loading dataset"
   ]
  },
  {
   "cell_type": "code",
   "execution_count": 23,
   "id": "16e2f779",
   "metadata": {
    "id": "16e2f779"
   },
   "outputs": [],
   "source": [
    "train = pd.read_csv(\"subtaskA_train_set.csv\")\n",
    "val = pd.read_csv(\"subtaskA_val_set.csv\")\n",
    "test = pd.read_csv(\"subtaskA_test_set.csv\")\n",
    "trainval = pd.read_csv(\"subtaskA_trainval_set.csv\")\n",
    "\n",
    "y_test = test[\"conspiratorial\"]"
   ]
  },
  {
   "cell_type": "markdown",
   "id": "HMokyFJwPzc_",
   "metadata": {
    "id": "HMokyFJwPzc_"
   },
   "source": [
    "# Creating model"
   ]
  },
  {
   "cell_type": "markdown",
   "id": "eSG9QsyjPhaD",
   "metadata": {
    "id": "eSG9QsyjPhaD"
   },
   "source": [
    "## Initializing tokenizer and Bert pretrained model"
   ]
  },
  {
   "cell_type": "markdown",
   "id": "5NjsUMo2rHiw",
   "metadata": {
    "id": "5NjsUMo2rHiw"
   },
   "source": [
    "In this notebook we experiment the [RoBERTa](https://huggingface.co/osiria/roberta-base-italian) model for the Italian language."
   ]
  },
  {
   "cell_type": "code",
   "execution_count": 5,
   "id": "d8Wf-ikzIsF4",
   "metadata": {
    "colab": {
     "base_uri": "https://localhost:8080/",
     "height": 252,
     "referenced_widgets": [
      "410b9d6727584edfa1a58d5075fbfb98",
      "a5db2447dcb345feb6f4de23f2ee82a5",
      "f0871d9d40d9493bbe5048fb96acddbd",
      "c3f5daf1ab7a40629e9b9e31a6ae7793",
      "488be35666fb44ecbc6cd9be8e5aefa5",
      "03975dc553ad4f61b630a3a8efe2a717",
      "f9feb55a79924ede803e586634029658",
      "d82fdc9742374e1cbf8da5eb3d47bdef",
      "f55b1b654e134ad0a8c7a38ebd63990c",
      "85e25fcc4b9a4a36bf269b8b06da141b",
      "30419bc0f61e4e32a007b7cbc01116e2",
      "a5cd571a965b4a3c9e505cdb80207679",
      "76e9fd12eb8a443080eefd1583bd84a8",
      "6c63bc3ab672480db2641205f49aa124",
      "73ef52d6e6ba4a64b7e916821d01fd84",
      "8a68001a9df0484ba7ec231eabc2dd7e",
      "759b73395c9c41aebc7c85e9f99e1425",
      "6a9c85e73e66478a8ec75837a39796a5",
      "14ca90cc57c6471584c55cc1a145c553",
      "41292ba0c2ee4829b000783055f4cbaf",
      "d95cb73ac2454c418d603149b0855271",
      "adb69d505f394852bfe4d275489b31b5",
      "fa3c7c816eeb444b88ac74fb809a0af4",
      "1d9d4348374a498e85308cc1e6ed1b45",
      "4ef49ba308a24220976af23ba722e8d0",
      "a042b7d6efea403ba916d6af897a8608",
      "1036a862734c426cb71ca7147565171c",
      "ddec075e88fd45a7b5c4017d0efbb9de",
      "adc5785c37684b01a7e869e9eebfe1bd",
      "96b9efd9d2704355a4edcc9a9f17361b",
      "5f229fa930d14ab68205e0b3890457bc",
      "88c17822b2c3428a97de9e6980bc8c58",
      "883113231e994c6082ce6ebf5a68503a",
      "8537cb9b3ac5407e8368fff27657d2fe",
      "8b8ea91278e945efba21c21eaaab1f6e",
      "45d174041fbc40388a9beaf5842cb535",
      "17c78320be174699be82b5fb4ebf7a6e",
      "7ac4aed23f304095a54a2dc978de285b",
      "5616af915d104c77aa4e09ba99fed6fb",
      "5ec08003a14f4a4eb3a26b354f836f02",
      "7c63032bfdff473dbdf4d7deb51e5149",
      "3dd07767310e4a2aafe4ad7011706e93",
      "41fc63d8a333410ebf06e2ad9c50c387",
      "dfa7e3f363204077a5de882c750c7f69"
     ]
    },
    "id": "d8Wf-ikzIsF4",
    "outputId": "989f453e-042f-46b7-c328-dbcc89148767"
   },
   "outputs": [
    {
     "data": {
      "application/vnd.jupyter.widget-view+json": {
       "model_id": "410b9d6727584edfa1a58d5075fbfb98",
       "version_major": 2,
       "version_minor": 0
      },
      "text/plain": [
       "Downloading (…)okenizer_config.json:   0%|          | 0.00/415 [00:00<?, ?B/s]"
      ]
     },
     "metadata": {},
     "output_type": "display_data"
    },
    {
     "data": {
      "application/vnd.jupyter.widget-view+json": {
       "model_id": "a5cd571a965b4a3c9e505cdb80207679",
       "version_major": 2,
       "version_minor": 0
      },
      "text/plain": [
       "Downloading (…)/main/tokenizer.json:   0%|          | 0.00/2.13M [00:00<?, ?B/s]"
      ]
     },
     "metadata": {},
     "output_type": "display_data"
    },
    {
     "data": {
      "application/vnd.jupyter.widget-view+json": {
       "model_id": "fa3c7c816eeb444b88ac74fb809a0af4",
       "version_major": 2,
       "version_minor": 0
      },
      "text/plain": [
       "Downloading (…)lve/main/config.json:   0%|          | 0.00/660 [00:00<?, ?B/s]"
      ]
     },
     "metadata": {},
     "output_type": "display_data"
    },
    {
     "data": {
      "application/vnd.jupyter.widget-view+json": {
       "model_id": "8537cb9b3ac5407e8368fff27657d2fe",
       "version_major": 2,
       "version_minor": 0
      },
      "text/plain": [
       "Downloading pytorch_model.bin:   0%|          | 0.00/500M [00:00<?, ?B/s]"
      ]
     },
     "metadata": {},
     "output_type": "display_data"
    },
    {
     "name": "stderr",
     "output_type": "stream",
     "text": [
      "Some weights of the PyTorch model were not used when initializing the TF 2.0 model TFRobertaModel: ['lm_head.bias', 'lm_head.dense.bias', 'lm_head.layer_norm.bias', 'lm_head.dense.weight', 'roberta.embeddings.position_ids', 'lm_head.layer_norm.weight']\n",
      "- This IS expected if you are initializing TFRobertaModel from a PyTorch model trained on another task or with another architecture (e.g. initializing a TFBertForSequenceClassification model from a BertForPreTraining model).\n",
      "- This IS NOT expected if you are initializing TFRobertaModel from a PyTorch model that you expect to be exactly identical (e.g. initializing a TFBertForSequenceClassification model from a BertForSequenceClassification model).\n",
      "Some weights or buffers of the TF 2.0 model TFRobertaModel were not initialized from the PyTorch model and are newly initialized: ['roberta.pooler.dense.weight', 'roberta.pooler.dense.bias']\n",
      "You should probably TRAIN this model on a down-stream task to be able to use it for predictions and inference.\n"
     ]
    }
   ],
   "source": [
    "pre_trained_model = \"osiria/roberta-base-italian\"\n",
    "\n",
    "tokenizer = AutoTokenizer.from_pretrained(pre_trained_model)\n",
    "\n",
    "# initialize multilingual uncased RoBERTa model\n",
    "bert = TFAutoModel.from_pretrained(pre_trained_model, from_pt=True)"
   ]
  },
  {
   "cell_type": "code",
   "execution_count": 24,
   "id": "e86375a0",
   "metadata": {
    "id": "e86375a0"
   },
   "outputs": [],
   "source": [
    "SEQ_LEN = 256  # we will cut/pad our sequences to a length of 256 tokens\n",
    "BATCH_SIZE = 32  # we will use batches of 32\n",
    "\n",
    "def tokenize(sentence):\n",
    "    tokens = tokenizer.encode_plus( # Tokenize and prepare for the model a sequence or a pair of sequences.\n",
    "        sentence, # string to be encoded\n",
    "        max_length=SEQ_LEN, # max length to consider for truncation/padding\n",
    "        truncation=True, # truncate to max_length\n",
    "        padding='max_length', # Pad to a maximum length specified\n",
    "        add_special_tokens=True, # encode special tokens\n",
    "        return_attention_mask=True, # return attention mask\n",
    "        return_token_type_ids=False, # don't return token type IDs\n",
    "        return_tensors='tf'\n",
    "    )\n",
    "    return tokens['input_ids'], tokens['attention_mask']"
   ]
  },
  {
   "cell_type": "code",
   "execution_count": 25,
   "id": "GsNVEnO5dfcC",
   "metadata": {
    "id": "GsNVEnO5dfcC"
   },
   "outputs": [],
   "source": [
    "# create a mapping function that we use to restructure our dataset\n",
    "def map_func(input_ids, masks, labels):\n",
    "  return {'input_ids': input_ids, 'attention_mask': masks}, labels\n",
    "\n",
    "def create_dataset(df):\n",
    "  # initialize two arrays for input tensors\n",
    "  Xids = np.zeros((len(df['comment_text']), SEQ_LEN))\n",
    "  Xmask = np.zeros((len(df['comment_text']), SEQ_LEN))\n",
    "\n",
    "  for i, sentence in enumerate(df['comment_text']):\n",
    "    Xids[i, :], Xmask[i, :] = tokenize(sentence)\n",
    "\n",
    "  labels= df['conspiratorial']\n",
    "\n",
    "  # load arrays into tensorflow dataset\n",
    "  dataset = tf.data.Dataset.from_tensor_slices((Xids, Xmask, labels))\n",
    "\n",
    "  # using map method to apply map_func to dataset\n",
    "  dataset = dataset.map(map_func)\n",
    "\n",
    "  # batch data\n",
    "  return dataset.batch(BATCH_SIZE)\n",
    "\n",
    "train = create_dataset(train) # training set\n",
    "val = create_dataset(val) # validation set\n",
    "train_val = create_dataset(trainval) # training and validation set (for final retraining)\n",
    "test = create_dataset(test) # test set"
   ]
  },
  {
   "cell_type": "markdown",
   "id": "MT41Q66fWrHr",
   "metadata": {
    "id": "MT41Q66fWrHr"
   },
   "source": [
    "## Defining model architecture"
   ]
  },
  {
   "cell_type": "code",
   "execution_count": 8,
   "id": "857ce9cb",
   "metadata": {
    "id": "857ce9cb"
   },
   "outputs": [],
   "source": [
    "def build_model_with_hp(lstm_units, l1_units, l2_value, dropout_rate, learning_rate, clipnorm):\n",
    "  input_ids = Input(shape=(SEQ_LEN,), name='input_ids', dtype='int32')\n",
    "  mask = Input(shape=(SEQ_LEN,), name='attention_mask', dtype='int32')\n",
    "\n",
    "  # we consume the last_hidden_state tensor from bert (discarding pooled_outputs)\n",
    "  embeddings = bert(input_ids, attention_mask=mask)[0]\n",
    "\n",
    "  # BI-LSTM layer\n",
    "  net = Bidirectional(\n",
    "      LSTM( units = lstm_units, kernel_regularizer=regularizers.L2(l2_value), return_sequences= True)\n",
    "      )(embeddings)\n",
    "  net = GlobalMaxPool1D()(net)\n",
    "  net = Dropout(dropout_rate)(net)\n",
    "\n",
    "  # FULLY CONNECTED DENSE LAYERS\n",
    "  net = Dense(\n",
    "      units = l1_units,\n",
    "      kernel_regularizer = regularizers.L2(l2_value),\n",
    "      activation='relu')(net)\n",
    "  net = Dropout(dropout_rate)(net)\n",
    "  net = Dense(1, activation='sigmoid', name='outputs')(net)\n",
    "\n",
    "  model = Model(inputs=[input_ids, mask], outputs=net)\n",
    "\n",
    "  # set up bert not trainable\n",
    "  model.layers[2].trainable = False\n",
    "\n",
    "  optimizer = Adam(\n",
    "    learning_rate=learning_rate,\n",
    "    clipnorm=clipnorm\n",
    "  )\n",
    "\n",
    "  model.compile(\n",
    "    optimizer = optimizer,\n",
    "    loss=\"binary_crossentropy\",\n",
    "    metrics=['accuracy']\n",
    "  )\n",
    "\n",
    "  return model\n",
    "\n",
    "def build_model(hp):\n",
    "  return build_model_with_hp(\n",
    "      lstm_units = hp.Choice(\"Bidirectional LSTM units\", values=[8, 16, 32]),\n",
    "      l1_units = hp.Choice(\"Dense layer 1 units\", values=[8, 16, 32]),\n",
    "      l2_value = hp.Choice(\"L2 regularization\", values=[1e-4, 1e-5, 1e-6]),\n",
    "      dropout_rate = hp.Choice(\"Dropout rate\", values=[0.1, 0.2, 0.25]),\n",
    "      learning_rate = hp.Choice(\"Learning rate\", values=[1e-2, 1e-3]),\n",
    "      clipnorm = 0.1\n",
    "  )\n"
   ]
  },
  {
   "cell_type": "markdown",
   "id": "F2qcZ5jxWyGU",
   "metadata": {
    "id": "F2qcZ5jxWyGU"
   },
   "source": [
    "# Training of the model"
   ]
  },
  {
   "cell_type": "code",
   "execution_count": null,
   "id": "h7HKjxFjVo25",
   "metadata": {
    "id": "h7HKjxFjVo25"
   },
   "outputs": [],
   "source": [
    "tuner = kt.RandomSearch(\n",
    "    hypermodel=build_model,\n",
    "    max_trials=6,\n",
    "    objective='val_accuracy',\n",
    "    overwrite=True\n",
    ")"
   ]
  },
  {
   "cell_type": "markdown",
   "id": "2QyiRV46rUiz",
   "metadata": {
    "id": "2QyiRV46rUiz"
   },
   "source": [
    "Along the model, we introduce 2 callbacks to support the model training:\n",
    "\n",
    "*   **ReduceLROnPlateau**: Reduce learning rate when a metric has stopped improving. Models often benefit from reducing the learning rate by a factor once learning stagnates. This callback monitors a quantity and if no improvement is seen for a 'patience' number of epochs, the learning rate is reduced.\n",
    "*   **EarlyStopping**: Stop training when a monitored metric has stopped improving.\n",
    "\n"
   ]
  },
  {
   "cell_type": "code",
   "execution_count": 9,
   "id": "4SD1yEtboSaz",
   "metadata": {
    "id": "4SD1yEtboSaz"
   },
   "outputs": [],
   "source": [
    "reduceLr_callback = tf.keras.callbacks.ReduceLROnPlateau(\n",
    "  monitor=\"val_accuracy\",\n",
    "  factor=5e-2,\n",
    "  patience=5,\n",
    "  mode=\"auto\",\n",
    "  min_delta=1e-4,\n",
    "  min_lr=1e-5\n",
    ")\n",
    "\n",
    "early_stopping = EarlyStopping(\n",
    "    monitor='val_accuracy',\n",
    "    mode='auto',\n",
    "    patience=20,\n",
    "    verbose=False,\n",
    "    restore_best_weights=True\n",
    ")"
   ]
  },
  {
   "cell_type": "code",
   "execution_count": null,
   "id": "0pzostueWmDs",
   "metadata": {
    "colab": {
     "base_uri": "https://localhost:8080/"
    },
    "id": "0pzostueWmDs",
    "outputId": "1ea60a73-af39-437d-d35e-7544f8a4b1cd"
   },
   "outputs": [
    {
     "name": "stdout",
     "output_type": "stream",
     "text": [
      "Trial 4 Complete [00h 20m 05s]\n",
      "val_accuracy: 0.7108433842658997\n",
      "\n",
      "Best val_accuracy So Far: 0.7650602459907532\n",
      "Total elapsed time: 02h 03m 13s\n",
      "\n",
      "Search: Running Trial #5\n",
      "\n",
      "Value             |Best Value So Far |Hyperparameter\n",
      "16                |16                |Bidirectional LSTM units\n",
      "16                |16                |Dense layer 1 units\n",
      "1e-05             |1e-05             |L2 regularization\n",
      "0.1               |0.2               |Dropout rate\n",
      "0.01              |0.01              |Learning rate\n",
      "\n",
      "Epoch 1/80\n",
      "42/42 [==============================] - 66s 1s/step - loss: 0.6743 - accuracy: 0.5949 - val_loss: 0.6498 - val_accuracy: 0.6536 - lr: 0.0100\n",
      "Epoch 2/80\n",
      "42/42 [==============================] - 33s 800ms/step - loss: 0.6394 - accuracy: 0.6425 - val_loss: 0.6445 - val_accuracy: 0.6325 - lr: 0.0100\n",
      "Epoch 3/80\n",
      "42/42 [==============================] - 44s 1s/step - loss: 0.6063 - accuracy: 0.6825 - val_loss: 0.6070 - val_accuracy: 0.7108 - lr: 0.0100\n",
      "Epoch 4/80\n",
      "42/42 [==============================] - 37s 893ms/step - loss: 0.5714 - accuracy: 0.7196 - val_loss: 0.5880 - val_accuracy: 0.6958 - lr: 0.0100\n",
      "Epoch 5/80\n",
      "42/42 [==============================] - 44s 1s/step - loss: 0.5474 - accuracy: 0.7218 - val_loss: 0.5202 - val_accuracy: 0.7681 - lr: 0.0100\n",
      "Epoch 6/80\n",
      "42/42 [==============================] - 38s 910ms/step - loss: 0.5104 - accuracy: 0.7604 - val_loss: 0.5121 - val_accuracy: 0.7500 - lr: 0.0100\n",
      "Epoch 7/80\n",
      "42/42 [==============================] - 44s 1s/step - loss: 0.4808 - accuracy: 0.7770 - val_loss: 0.5131 - val_accuracy: 0.7711 - lr: 0.0100\n",
      "Epoch 8/80\n",
      "42/42 [==============================] - 44s 1s/step - loss: 0.4954 - accuracy: 0.7748 - val_loss: 0.5035 - val_accuracy: 0.7771 - lr: 0.0100\n",
      "Epoch 9/80\n",
      "42/42 [==============================] - 38s 901ms/step - loss: 0.4731 - accuracy: 0.7884 - val_loss: 0.4956 - val_accuracy: 0.7681 - lr: 0.0100\n",
      "Epoch 10/80\n",
      "42/42 [==============================] - 37s 885ms/step - loss: 0.5018 - accuracy: 0.7816 - val_loss: 0.4921 - val_accuracy: 0.7771 - lr: 0.0100\n",
      "Epoch 11/80\n",
      "42/42 [==============================] - 44s 1s/step - loss: 0.4491 - accuracy: 0.8012 - val_loss: 0.4901 - val_accuracy: 0.7831 - lr: 0.0100\n",
      "Epoch 12/80\n",
      "42/42 [==============================] - 38s 906ms/step - loss: 0.4572 - accuracy: 0.8035 - val_loss: 0.5007 - val_accuracy: 0.7711 - lr: 0.0100\n",
      "Epoch 13/80\n",
      "42/42 [==============================] - 37s 883ms/step - loss: 0.4209 - accuracy: 0.8246 - val_loss: 0.5183 - val_accuracy: 0.7741 - lr: 0.0100\n",
      "Epoch 14/80\n",
      "42/42 [==============================] - 37s 886ms/step - loss: 0.4194 - accuracy: 0.8224 - val_loss: 0.5915 - val_accuracy: 0.7590 - lr: 0.0100\n",
      "Epoch 15/80\n",
      "42/42 [==============================] - 44s 1s/step - loss: 0.4111 - accuracy: 0.8239 - val_loss: 0.5204 - val_accuracy: 0.7861 - lr: 0.0100\n",
      "Epoch 16/80\n",
      "42/42 [==============================] - 38s 906ms/step - loss: 0.3737 - accuracy: 0.8450 - val_loss: 0.5647 - val_accuracy: 0.7470 - lr: 0.0100\n",
      "Epoch 17/80\n",
      "42/42 [==============================] - 37s 881ms/step - loss: 0.3833 - accuracy: 0.8420 - val_loss: 0.5797 - val_accuracy: 0.7711 - lr: 0.0100\n",
      "Epoch 18/80\n",
      "42/42 [==============================] - 37s 887ms/step - loss: 0.3814 - accuracy: 0.8450 - val_loss: 0.5825 - val_accuracy: 0.7771 - lr: 0.0100\n",
      "Epoch 19/80\n",
      "42/42 [==============================] - 37s 888ms/step - loss: 0.3594 - accuracy: 0.8609 - val_loss: 0.6183 - val_accuracy: 0.7440 - lr: 0.0100\n",
      "Epoch 20/80\n",
      "42/42 [==============================] - 37s 887ms/step - loss: 0.3540 - accuracy: 0.8602 - val_loss: 0.6695 - val_accuracy: 0.7560 - lr: 0.0100\n",
      "Epoch 21/80\n",
      "42/42 [==============================] - 37s 887ms/step - loss: 0.3257 - accuracy: 0.8760 - val_loss: 0.6275 - val_accuracy: 0.7560 - lr: 5.0000e-04\n",
      "Epoch 22/80\n",
      "42/42 [==============================] - 37s 887ms/step - loss: 0.3067 - accuracy: 0.8828 - val_loss: 0.6272 - val_accuracy: 0.7530 - lr: 5.0000e-04\n",
      "Epoch 23/80\n",
      " 7/42 [====>.........................] - ETA: 22s - loss: 0.3247 - accuracy: 0.8884"
     ]
    }
   ],
   "source": [
    "tuner.search(\n",
    "    x = train,\n",
    "    epochs = 80,\n",
    "    validation_data = val,\n",
    "    callbacks = [\n",
    "        reduceLr_callback,\n",
    "        early_stopping\n",
    "    ]\n",
    ")"
   ]
  },
  {
   "cell_type": "code",
   "execution_count": 15,
   "id": "8rBbvfJ373P5",
   "metadata": {
    "colab": {
     "base_uri": "https://localhost:8080/"
    },
    "id": "8rBbvfJ373P5",
    "outputId": "7d85e824-c120-4f3c-dbae-7a606db9983b"
   },
   "outputs": [
    {
     "name": "stdout",
     "output_type": "stream",
     "text": [
      "Epoch 1/30\n",
      "42/42 [==============================] - 61s 967ms/step - loss: 0.6698 - accuracy: 0.6032 - val_loss: 0.6792 - val_accuracy: 0.5181 - lr: 0.0010\n",
      "Epoch 2/30\n",
      "42/42 [==============================] - 36s 859ms/step - loss: 0.6441 - accuracy: 0.6455 - val_loss: 0.6808 - val_accuracy: 0.5060 - lr: 0.0010\n",
      "Epoch 3/30\n",
      "42/42 [==============================] - 36s 860ms/step - loss: 0.6306 - accuracy: 0.6591 - val_loss: 0.6693 - val_accuracy: 0.5452 - lr: 0.0010\n",
      "Epoch 4/30\n",
      "42/42 [==============================] - 36s 860ms/step - loss: 0.6112 - accuracy: 0.6795 - val_loss: 0.6530 - val_accuracy: 0.6265 - lr: 0.0010\n",
      "Epoch 5/30\n",
      "42/42 [==============================] - 36s 859ms/step - loss: 0.5893 - accuracy: 0.6954 - val_loss: 0.6448 - val_accuracy: 0.6114 - lr: 0.0010\n",
      "Epoch 6/30\n",
      "42/42 [==============================] - 36s 860ms/step - loss: 0.5615 - accuracy: 0.7166 - val_loss: 0.6232 - val_accuracy: 0.6687 - lr: 0.0010\n",
      "Epoch 7/30\n",
      "42/42 [==============================] - 36s 859ms/step - loss: 0.5501 - accuracy: 0.7309 - val_loss: 0.5743 - val_accuracy: 0.7380 - lr: 0.0010\n",
      "Epoch 8/30\n",
      "42/42 [==============================] - 36s 860ms/step - loss: 0.5428 - accuracy: 0.7354 - val_loss: 0.5730 - val_accuracy: 0.7229 - lr: 0.0010\n",
      "Epoch 9/30\n",
      "42/42 [==============================] - 36s 863ms/step - loss: 0.5341 - accuracy: 0.7400 - val_loss: 0.5417 - val_accuracy: 0.7620 - lr: 0.0010\n",
      "Epoch 10/30\n",
      "42/42 [==============================] - 36s 855ms/step - loss: 0.5178 - accuracy: 0.7521 - val_loss: 0.6076 - val_accuracy: 0.6596 - lr: 0.0010\n",
      "Epoch 11/30\n",
      "42/42 [==============================] - 36s 857ms/step - loss: 0.5010 - accuracy: 0.7536 - val_loss: 0.5264 - val_accuracy: 0.7470 - lr: 0.0010\n",
      "Epoch 12/30\n",
      "42/42 [==============================] - 36s 860ms/step - loss: 0.5094 - accuracy: 0.7581 - val_loss: 0.5644 - val_accuracy: 0.7440 - lr: 0.0010\n",
      "Epoch 13/30\n",
      "42/42 [==============================] - 36s 855ms/step - loss: 0.4864 - accuracy: 0.7831 - val_loss: 0.5218 - val_accuracy: 0.7500 - lr: 0.0010\n",
      "Epoch 14/30\n",
      "42/42 [==============================] - 36s 859ms/step - loss: 0.4853 - accuracy: 0.7710 - val_loss: 0.6228 - val_accuracy: 0.7078 - lr: 0.0010\n",
      "Epoch 15/30\n",
      "42/42 [==============================] - 36s 859ms/step - loss: 0.5185 - accuracy: 0.7672 - val_loss: 0.5286 - val_accuracy: 0.7440 - lr: 5.0000e-05\n",
      "Epoch 16/30\n",
      "42/42 [==============================] - 36s 859ms/step - loss: 0.4599 - accuracy: 0.7891 - val_loss: 0.5284 - val_accuracy: 0.7711 - lr: 5.0000e-05\n",
      "Epoch 17/30\n",
      "42/42 [==============================] - 36s 858ms/step - loss: 0.4676 - accuracy: 0.7831 - val_loss: 0.5267 - val_accuracy: 0.7590 - lr: 5.0000e-05\n",
      "Epoch 18/30\n",
      "42/42 [==============================] - 36s 860ms/step - loss: 0.4462 - accuracy: 0.7929 - val_loss: 0.5271 - val_accuracy: 0.7470 - lr: 5.0000e-05\n",
      "Epoch 19/30\n",
      "42/42 [==============================] - 31s 743ms/step - loss: 0.4574 - accuracy: 0.7952 - val_loss: 0.5261 - val_accuracy: 0.7470 - lr: 5.0000e-05\n",
      "Epoch 20/30\n",
      "42/42 [==============================] - 36s 855ms/step - loss: 0.4529 - accuracy: 0.7906 - val_loss: 0.5253 - val_accuracy: 0.7530 - lr: 5.0000e-05\n",
      "Epoch 21/30\n",
      "42/42 [==============================] - 36s 857ms/step - loss: 0.4530 - accuracy: 0.7944 - val_loss: 0.5217 - val_accuracy: 0.7651 - lr: 5.0000e-05\n",
      "Epoch 22/30\n",
      "42/42 [==============================] - 36s 861ms/step - loss: 0.4474 - accuracy: 0.7967 - val_loss: 0.5214 - val_accuracy: 0.7620 - lr: 1.0000e-05\n",
      "Epoch 23/30\n",
      "42/42 [==============================] - 36s 855ms/step - loss: 0.4486 - accuracy: 0.7944 - val_loss: 0.5217 - val_accuracy: 0.7651 - lr: 1.0000e-05\n",
      "Epoch 24/30\n",
      "42/42 [==============================] - 36s 857ms/step - loss: 0.4635 - accuracy: 0.7861 - val_loss: 0.5224 - val_accuracy: 0.7651 - lr: 1.0000e-05\n",
      "Epoch 25/30\n",
      "42/42 [==============================] - 36s 855ms/step - loss: 0.4648 - accuracy: 0.7937 - val_loss: 0.5217 - val_accuracy: 0.7620 - lr: 1.0000e-05\n",
      "Epoch 26/30\n",
      "42/42 [==============================] - 31s 745ms/step - loss: 0.4442 - accuracy: 0.7944 - val_loss: 0.5218 - val_accuracy: 0.7651 - lr: 1.0000e-05\n",
      "Epoch 27/30\n",
      "42/42 [==============================] - 36s 860ms/step - loss: 0.4490 - accuracy: 0.7967 - val_loss: 0.5214 - val_accuracy: 0.7711 - lr: 1.0000e-05\n",
      "Epoch 28/30\n",
      "42/42 [==============================] - 36s 856ms/step - loss: 0.4420 - accuracy: 0.8065 - val_loss: 0.5215 - val_accuracy: 0.7651 - lr: 1.0000e-05\n",
      "Epoch 29/30\n",
      "42/42 [==============================] - 36s 859ms/step - loss: 0.4421 - accuracy: 0.8057 - val_loss: 0.5208 - val_accuracy: 0.7681 - lr: 1.0000e-05\n",
      "Epoch 30/30\n",
      "42/42 [==============================] - 36s 856ms/step - loss: 0.4628 - accuracy: 0.7831 - val_loss: 0.5202 - val_accuracy: 0.7681 - lr: 1.0000e-05\n"
     ]
    }
   ],
   "source": [
    "model = build_model_with_hp(\n",
    "  lstm_units = 16,\n",
    "  l1_units = 16,\n",
    "  l2_value = 1e-6,\n",
    "  dropout_rate = 0.1,\n",
    "  learning_rate = 1e-3,\n",
    "  clipnorm = 0.1\n",
    ")\n",
    "history = model.fit(\n",
    "    x = train,\n",
    "    validation_data = val,\n",
    "    batch_size=64,\n",
    "    epochs=30,\n",
    "    callbacks = [\n",
    "        reduceLr_callback\n",
    "    ]\n",
    ")"
   ]
  },
  {
   "cell_type": "code",
   "execution_count": 16,
   "id": "ZepA3FEsNPJx",
   "metadata": {
    "colab": {
     "base_uri": "https://localhost:8080/",
     "height": 927
    },
    "id": "ZepA3FEsNPJx",
    "outputId": "ff26322c-61cc-4ee7-cf8f-7948df469dda"
   },
   "outputs": [
    {
     "data": {
      "image/png": "[encoded data removed]",
      "text/plain": [
       "<Figure size 640x480 with 1 Axes>"
      ]
     },
     "metadata": {},
     "output_type": "display_data"
    },
    {
     "data": {
      "image/png": "[encoded data removed]",
      "text/plain": [
       "<Figure size 640x480 with 1 Axes>"
      ]
     },
     "metadata": {},
     "output_type": "display_data"
    }
   ],
   "source": [
    "utils.plot_history(history)"
   ]
  },
  {
   "cell_type": "markdown",
   "id": "uj8bhMHbanpC",
   "metadata": {
    "id": "uj8bhMHbanpC"
   },
   "source": [
    "# Final phase: retrain and test"
   ]
  },
  {
   "cell_type": "markdown",
   "id": "6f7ejuHcaroA",
   "metadata": {
    "id": "6f7ejuHcaroA"
   },
   "source": [
    "## Retrain on training and validation"
   ]
  },
  {
   "cell_type": "markdown",
   "id": "vBZco1Kyau1C",
   "metadata": {
    "id": "vBZco1Kyau1C"
   },
   "source": [
    "Training the model on the best hyperparams found by the random search"
   ]
  },
  {
   "cell_type": "code",
   "execution_count": 17,
   "id": "WBOmU8o_azf2",
   "metadata": {
    "id": "WBOmU8o_azf2"
   },
   "outputs": [],
   "source": [
    "final_model = build_model_with_hp(\n",
    "  lstm_units = 16,\n",
    "  l1_units = 16,\n",
    "  l2_value = 1e-6,\n",
    "  dropout_rate = 0.1,\n",
    "  learning_rate = 1e-3,\n",
    "  clipnorm = 0.1\n",
    ")\n",
    "\n",
    "max_epochs = 17 # depends on the epochs reached by the best model before overfitting"
   ]
  },
  {
   "cell_type": "code",
   "execution_count": 18,
   "id": "yLtTEVnigB5P",
   "metadata": {
    "colab": {
     "base_uri": "https://localhost:8080/"
    },
    "id": "yLtTEVnigB5P",
    "outputId": "a0026562-9134-4cdc-adcc-7c054ef4ad30"
   },
   "outputs": [
    {
     "name": "stdout",
     "output_type": "stream",
     "text": [
      "Model: \"model_5\"\n",
      "__________________________________________________________________________________________________\n",
      " Layer (type)                   Output Shape         Param #     Connected to                     \n",
      "==================================================================================================\n",
      " input_ids (InputLayer)         [(None, 256)]        0           []                               \n",
      "                                                                                                  \n",
      " attention_mask (InputLayer)    [(None, 256)]        0           []                               \n",
      "                                                                                                  \n",
      " tf_roberta_model (TFRobertaMod  TFBaseModelOutputWi  124956672  ['input_ids[0][0]',              \n",
      " el)                            thPoolingAndCrossAt               'attention_mask[0][0]']         \n",
      "                                tentions(last_hidde                                               \n",
      "                                n_state=(None, 256,                                               \n",
      "                                 768),                                                            \n",
      "                                 pooler_output=(Non                                               \n",
      "                                e, 768),                                                          \n",
      "                                 past_key_values=No                                               \n",
      "                                ne, hidden_states=N                                               \n",
      "                                one, attentions=Non                                               \n",
      "                                e, cross_attentions                                               \n",
      "                                =None)                                                            \n",
      "                                                                                                  \n",
      " bidirectional_5 (Bidirectional  (None, 256, 32)     100480      ['tf_roberta_model[5][0]']       \n",
      " )                                                                                                \n",
      "                                                                                                  \n",
      " global_max_pooling1d_5 (Global  (None, 32)          0           ['bidirectional_5[0][0]']        \n",
      " MaxPooling1D)                                                                                    \n",
      "                                                                                                  \n",
      " dropout_47 (Dropout)           (None, 32)           0           ['global_max_pooling1d_5[0][0]'] \n",
      "                                                                                                  \n",
      " dense_5 (Dense)                (None, 16)           528         ['dropout_47[0][0]']             \n",
      "                                                                                                  \n",
      " dropout_48 (Dropout)           (None, 16)           0           ['dense_5[0][0]']                \n",
      "                                                                                                  \n",
      " outputs (Dense)                (None, 1)            17          ['dropout_48[0][0]']             \n",
      "                                                                                                  \n",
      "==================================================================================================\n",
      "Total params: 125,057,697\n",
      "Trainable params: 101,025\n",
      "Non-trainable params: 124,956,672\n",
      "__________________________________________________________________________________________________\n"
     ]
    }
   ],
   "source": [
    "final_model.summary()"
   ]
  },
  {
   "cell_type": "code",
   "execution_count": 19,
   "id": "fddd0f67",
   "metadata": {
    "colab": {
     "base_uri": "https://localhost:8080/"
    },
    "id": "fddd0f67",
    "outputId": "d28a9b75-1da2-4d43-f70b-16cd934445e9"
   },
   "outputs": [
    {
     "name": "stdout",
     "output_type": "stream",
     "text": [
      "Epoch 1/17\n",
      "52/52 [==============================] - 65s 643ms/step - loss: 0.6691 - accuracy: 0.5903\n",
      "Epoch 2/17\n",
      "52/52 [==============================] - 32s 611ms/step - loss: 0.6293 - accuracy: 0.6550\n",
      "Epoch 3/17\n",
      "52/52 [==============================] - 32s 620ms/step - loss: 0.6172 - accuracy: 0.6677\n",
      "Epoch 4/17\n",
      "52/52 [==============================] - 32s 615ms/step - loss: 0.5847 - accuracy: 0.6997\n",
      "Epoch 5/17\n",
      "52/52 [==============================] - 32s 611ms/step - loss: 0.5701 - accuracy: 0.7106\n",
      "Epoch 6/17\n",
      "52/52 [==============================] - 32s 615ms/step - loss: 0.5580 - accuracy: 0.7227\n",
      "Epoch 7/17\n",
      "52/52 [==============================] - 32s 617ms/step - loss: 0.5458 - accuracy: 0.7366\n",
      "Epoch 8/17\n",
      "52/52 [==============================] - 32s 618ms/step - loss: 0.5249 - accuracy: 0.7462\n",
      "Epoch 9/17\n",
      "52/52 [==============================] - 32s 614ms/step - loss: 0.5273 - accuracy: 0.7378\n",
      "Epoch 10/17\n",
      "52/52 [==============================] - 32s 612ms/step - loss: 0.5153 - accuracy: 0.7498\n",
      "Epoch 11/17\n",
      "52/52 [==============================] - 32s 615ms/step - loss: 0.5136 - accuracy: 0.7480\n",
      "Epoch 12/17\n",
      "52/52 [==============================] - 32s 615ms/step - loss: 0.4821 - accuracy: 0.7674\n",
      "Epoch 13/17\n",
      "52/52 [==============================] - 32s 620ms/step - loss: 0.4695 - accuracy: 0.7819\n",
      "Epoch 14/17\n",
      "52/52 [==============================] - 32s 618ms/step - loss: 0.4695 - accuracy: 0.7770\n",
      "Epoch 15/17\n",
      "52/52 [==============================] - 32s 617ms/step - loss: 0.4655 - accuracy: 0.7795\n",
      "Epoch 16/17\n",
      "52/52 [==============================] - 32s 616ms/step - loss: 0.4507 - accuracy: 0.7952\n",
      "Epoch 17/17\n",
      "52/52 [==============================] - 32s 618ms/step - loss: 0.4489 - accuracy: 0.7909\n"
     ]
    }
   ],
   "source": [
    "history = final_model.fit(\n",
    "    x = train_val,\n",
    "    batch_size=64,\n",
    "    epochs=max_epochs\n",
    ")"
   ]
  },
  {
   "cell_type": "code",
   "execution_count": 28,
   "id": "q56xmpJRbB_7",
   "metadata": {
    "colab": {
     "base_uri": "https://localhost:8080/"
    },
    "id": "q56xmpJRbB_7",
    "outputId": "a3dec5cb-3b44-4180-928e-ff75c8c299cf"
   },
   "outputs": [
    {
     "name": "stdout",
     "output_type": "stream",
     "text": [
      "6/6 [==============================] - 3s 544ms/step - loss: 0.4893 - accuracy: 0.7946\n"
     ]
    }
   ],
   "source": [
    "_ = final_model.evaluate(\n",
    "    x = test,\n",
    "    batch_size=64\n",
    ")"
   ]
  },
  {
   "cell_type": "code",
   "execution_count": 27,
   "id": "z-iIbcvjvIpM",
   "metadata": {
    "colab": {
     "base_uri": "https://localhost:8080/",
     "height": 484
    },
    "id": "z-iIbcvjvIpM",
    "outputId": "710c2f8c-0cc7-4bf9-dfa8-5034739e2145"
   },
   "outputs": [
    {
     "name": "stdout",
     "output_type": "stream",
     "text": [
      "6/6 [==============================] - 3s 536ms/step\n"
     ]
    },
    {
     "data": {
      "text/plain": [
       "<sklearn.metrics._plot.confusion_matrix.ConfusionMatrixDisplay at 0x7f10d402a1d0>"
      ]
     },
     "execution_count": 27,
     "metadata": {},
     "output_type": "execute_result"
    },
    {
     "data": {
      "image/png": "[encoded data removed]",
      "text/plain": [
       "<Figure size 640x480 with 2 Axes>"
      ]
     },
     "metadata": {},
     "output_type": "display_data"
    }
   ],
   "source": [
    "predictions = model.predict(x=test)\n",
    "predictions = list(map(round, [ _[0] for _ in predictions]))\n",
    "cm = confusion_matrix(y_test, predictions)\n",
    "disp = ConfusionMatrixDisplay(confusion_matrix=cm, display_labels=[\"Non conspiratorial\", \"conspiratorial\"])\n",
    "disp.plot()"
   ]
  },
  {
   "cell_type": "code",
   "execution_count": null,
   "id": "uMSy5ruyLVCJ",
   "metadata": {
    "id": "uMSy5ruyLVCJ"
   },
   "outputs": [],
   "source": []
  }
 ],
 "metadata": {
  "accelerator": "GPU",
  "colab": {
   "gpuType": "T4",
   "provenance": []
  },
  "kernelspec": {
   "display_name": "Python 3 (ipykernel)",
   "language": "python",
   "name": "python3"
  },
  "language_info": {
   "codemirror_mode": {
    "name": "ipython",
    "version": 3
   },
   "file_extension": ".py",
   "mimetype": "text/x-python",
   "name": "python",
   "nbconvert_exporter": "python",
   "pygments_lexer": "ipython3",
   "version": "3.10.6"
  },
  "widgets": {
   "application/vnd.jupyter.widget-state+json": {
    "03975dc553ad4f61b630a3a8efe2a717": {
     "model_module": "@jupyter-widgets/base",
     "model_module_version": "1.2.0",
     "model_name": "LayoutModel",
     "state": {
      "_model_module": "@jupyter-widgets/base",
      "_model_module_version": "1.2.0",
      "_model_name": "LayoutModel",
      "_view_count": null,
      "_view_module": "@jupyter-widgets/base",
      "_view_module_version": "1.2.0",
      "_view_name": "LayoutView",
      "align_content": null,
      "align_items": null,
      "align_self": null,
      "border": null,
      "bottom": null,
      "display": null,
      "flex": null,
      "flex_flow": null,
      "grid_area": null,
      "grid_auto_columns": null,
      "grid_auto_flow": null,
      "grid_auto_rows": null,
      "grid_column": null,
      "grid_gap": null,
      "grid_row": null,
      "grid_template_areas": null,
      "grid_template_columns": null,
      "grid_template_rows": null,
      "height": null,
      "justify_content": null,
      "justify_items": null,
      "left": null,
      "margin": null,
      "max_height": null,
      "max_width": null,
      "min_height": null,
      "min_width": null,
      "object_fit": null,
      "object_position": null,
      "order": null,
      "overflow": null,
      "overflow_x": null,
      "overflow_y": null,
      "padding": null,
      "right": null,
      "top": null,
      "visibility": null,
      "width": null
     }
    },
    "1036a862734c426cb71ca7147565171c": {
     "model_module": "@jupyter-widgets/base",
     "model_module_version": "1.2.0",
     "model_name": "LayoutModel",
     "state": {
      "_model_module": "@jupyter-widgets/base",
      "_model_module_version": "1.2.0",
      "_model_name": "LayoutModel",
      "_view_count": null,
      "_view_module": "@jupyter-widgets/base",
      "_view_module_version": "1.2.0",
      "_view_name": "LayoutView",
      "align_content": null,
      "align_items": null,
      "align_self": null,
      "border": null,
      "bottom": null,
      "display": null,
      "flex": null,
      "flex_flow": null,
      "grid_area": null,
      "grid_auto_columns": null,
      "grid_auto_flow": null,
      "grid_auto_rows": null,
      "grid_column": null,
      "grid_gap": null,
      "grid_row": null,
      "grid_template_areas": null,
      "grid_template_columns": null,
      "grid_template_rows": null,
      "height": null,
      "justify_content": null,
      "justify_items": null,
      "left": null,
      "margin": null,
      "max_height": null,
      "max_width": null,
      "min_height": null,
      "min_width": null,
      "object_fit": null,
      "object_position": null,
      "order": null,
      "overflow": null,
      "overflow_x": null,
      "overflow_y": null,
      "padding": null,
      "right": null,
      "top": null,
      "visibility": null,
      "width": null
     }
    },
    "14ca90cc57c6471584c55cc1a145c553": {
     "model_module": "@jupyter-widgets/base",
     "model_module_version": "1.2.0",
     "model_name": "LayoutModel",
     "state": {
      "_model_module": "@jupyter-widgets/base",
      "_model_module_version": "1.2.0",
      "_model_name": "LayoutModel",
      "_view_count": null,
      "_view_module": "@jupyter-widgets/base",
      "_view_module_version": "1.2.0",
      "_view_name": "LayoutView",
      "align_content": null,
      "align_items": null,
      "align_self": null,
      "border": null,
      "bottom": null,
      "display": null,
      "flex": null,
      "flex_flow": null,
      "grid_area": null,
      "grid_auto_columns": null,
      "grid_auto_flow": null,
      "grid_auto_rows": null,
      "grid_column": null,
      "grid_gap": null,
      "grid_row": null,
      "grid_template_areas": null,
      "grid_template_columns": null,
      "grid_template_rows": null,
      "height": null,
      "justify_content": null,
      "justify_items": null,
      "left": null,
      "margin": null,
      "max_height": null,
      "max_width": null,
      "min_height": null,
      "min_width": null,
      "object_fit": null,
      "object_position": null,
      "order": null,
      "overflow": null,
      "overflow_x": null,
      "overflow_y": null,
      "padding": null,
      "right": null,
      "top": null,
      "visibility": null,
      "width": null
     }
    },
    "17c78320be174699be82b5fb4ebf7a6e": {
     "model_module": "@jupyter-widgets/controls",
     "model_module_version": "1.5.0",
     "model_name": "HTMLModel",
     "state": {
      "_dom_classes": [],
      "_model_module": "@jupyter-widgets/controls",
      "_model_module_version": "1.5.0",
      "_model_name": "HTMLModel",
      "_view_count": null,
      "_view_module": "@jupyter-widgets/controls",
      "_view_module_version": "1.5.0",
      "_view_name": "HTMLView",
      "description": "",
      "description_tooltip": null,
      "layout": "IPY_MODEL_41fc63d8a333410ebf06e2ad9c50c387",
      "placeholder": "​",
      "style": "IPY_MODEL_dfa7e3f363204077a5de882c750c7f69",
      "value": " 500M/500M [00:13&lt;00:00, 33.0MB/s]"
     }
    },
    "1d9d4348374a498e85308cc1e6ed1b45": {
     "model_module": "@jupyter-widgets/controls",
     "model_module_version": "1.5.0",
     "model_name": "HTMLModel",
     "state": {
      "_dom_classes": [],
      "_model_module": "@jupyter-widgets/controls",
      "_model_module_version": "1.5.0",
      "_model_name": "HTMLModel",
      "_view_count": null,
      "_view_module": "@jupyter-widgets/controls",
      "_view_module_version": "1.5.0",
      "_view_name": "HTMLView",
      "description": "",
      "description_tooltip": null,
      "layout": "IPY_MODEL_ddec075e88fd45a7b5c4017d0efbb9de",
      "placeholder": "​",
      "style": "IPY_MODEL_adc5785c37684b01a7e869e9eebfe1bd",
      "value": "Downloading (…)lve/main/config.json: 100%"
     }
    },
    "30419bc0f61e4e32a007b7cbc01116e2": {
     "model_module": "@jupyter-widgets/controls",
     "model_module_version": "1.5.0",
     "model_name": "DescriptionStyleModel",
     "state": {
      "_model_module": "@jupyter-widgets/controls",
      "_model_module_version": "1.5.0",
      "_model_name": "DescriptionStyleModel",
      "_view_count": null,
      "_view_module": "@jupyter-widgets/base",
      "_view_module_version": "1.2.0",
      "_view_name": "StyleView",
      "description_width": ""
     }
    },
    "3dd07767310e4a2aafe4ad7011706e93": {
     "model_module": "@jupyter-widgets/controls",
     "model_module_version": "1.5.0",
     "model_name": "ProgressStyleModel",
     "state": {
      "_model_module": "@jupyter-widgets/controls",
      "_model_module_version": "1.5.0",
      "_model_name": "ProgressStyleModel",
      "_view_count": null,
      "_view_module": "@jupyter-widgets/base",
      "_view_module_version": "1.2.0",
      "_view_name": "StyleView",
      "bar_color": null,
      "description_width": ""
     }
    },
    "410b9d6727584edfa1a58d5075fbfb98": {
     "model_module": "@jupyter-widgets/controls",
     "model_module_version": "1.5.0",
     "model_name": "HBoxModel",
     "state": {
      "_dom_classes": [],
      "_model_module": "@jupyter-widgets/controls",
      "_model_module_version": "1.5.0",
      "_model_name": "HBoxModel",
      "_view_count": null,
      "_view_module": "@jupyter-widgets/controls",
      "_view_module_version": "1.5.0",
      "_view_name": "HBoxView",
      "box_style": "",
      "children": [
       "IPY_MODEL_a5db2447dcb345feb6f4de23f2ee82a5",
       "IPY_MODEL_f0871d9d40d9493bbe5048fb96acddbd",
       "IPY_MODEL_c3f5daf1ab7a40629e9b9e31a6ae7793"
      ],
      "layout": "IPY_MODEL_488be35666fb44ecbc6cd9be8e5aefa5"
     }
    },
    "41292ba0c2ee4829b000783055f4cbaf": {
     "model_module": "@jupyter-widgets/controls",
     "model_module_version": "1.5.0",
     "model_name": "ProgressStyleModel",
     "state": {
      "_model_module": "@jupyter-widgets/controls",
      "_model_module_version": "1.5.0",
      "_model_name": "ProgressStyleModel",
      "_view_count": null,
      "_view_module": "@jupyter-widgets/base",
      "_view_module_version": "1.2.0",
      "_view_name": "StyleView",
      "bar_color": null,
      "description_width": ""
     }
    },
    "41fc63d8a333410ebf06e2ad9c50c387": {
     "model_module": "@jupyter-widgets/base",
     "model_module_version": "1.2.0",
     "model_name": "LayoutModel",
     "state": {
      "_model_module": "@jupyter-widgets/base",
      "_model_module_version": "1.2.0",
      "_model_name": "LayoutModel",
      "_view_count": null,
      "_view_module": "@jupyter-widgets/base",
      "_view_module_version": "1.2.0",
      "_view_name": "LayoutView",
      "align_content": null,
      "align_items": null,
      "align_self": null,
      "border": null,
      "bottom": null,
      "display": null,
      "flex": null,
      "flex_flow": null,
      "grid_area": null,
      "grid_auto_columns": null,
      "grid_auto_flow": null,
      "grid_auto_rows": null,
      "grid_column": null,
      "grid_gap": null,
      "grid_row": null,
      "grid_template_areas": null,
      "grid_template_columns": null,
      "grid_template_rows": null,
      "height": null,
      "justify_content": null,
      "justify_items": null,
      "left": null,
      "margin": null,
      "max_height": null,
      "max_width": null,
      "min_height": null,
      "min_width": null,
      "object_fit": null,
      "object_position": null,
      "order": null,
      "overflow": null,
      "overflow_x": null,
      "overflow_y": null,
      "padding": null,
      "right": null,
      "top": null,
      "visibility": null,
      "width": null
     }
    },
    "45d174041fbc40388a9beaf5842cb535": {
     "model_module": "@jupyter-widgets/controls",
     "model_module_version": "1.5.0",
     "model_name": "FloatProgressModel",
     "state": {
      "_dom_classes": [],
      "_model_module": "@jupyter-widgets/controls",
      "_model_module_version": "1.5.0",
      "_model_name": "FloatProgressModel",
      "_view_count": null,
      "_view_module": "@jupyter-widgets/controls",
      "_view_module_version": "1.5.0",
      "_view_name": "ProgressView",
      "bar_style": "success",
      "description": "",
      "description_tooltip": null,
      "layout": "IPY_MODEL_7c63032bfdff473dbdf4d7deb51e5149",
      "max": 500104619,
      "min": 0,
      "orientation": "horizontal",
      "style": "IPY_MODEL_3dd07767310e4a2aafe4ad7011706e93",
      "value": 500104619
     }
    },
    "488be35666fb44ecbc6cd9be8e5aefa5": {
     "model_module": "@jupyter-widgets/base",
     "model_module_version": "1.2.0",
     "model_name": "LayoutModel",
     "state": {
      "_model_module": "@jupyter-widgets/base",
      "_model_module_version": "1.2.0",
      "_model_name": "LayoutModel",
      "_view_count": null,
      "_view_module": "@jupyter-widgets/base",
      "_view_module_version": "1.2.0",
      "_view_name": "LayoutView",
      "align_content": null,
      "align_items": null,
      "align_self": null,
      "border": null,
      "bottom": null,
      "display": null,
      "flex": null,
      "flex_flow": null,
      "grid_area": null,
      "grid_auto_columns": null,
      "grid_auto_flow": null,
      "grid_auto_rows": null,
      "grid_column": null,
      "grid_gap": null,
      "grid_row": null,
      "grid_template_areas": null,
      "grid_template_columns": null,
      "grid_template_rows": null,
      "height": null,
      "justify_content": null,
      "justify_items": null,
      "left": null,
      "margin": null,
      "max_height": null,
      "max_width": null,
      "min_height": null,
      "min_width": null,
      "object_fit": null,
      "object_position": null,
      "order": null,
      "overflow": null,
      "overflow_x": null,
      "overflow_y": null,
      "padding": null,
      "right": null,
      "top": null,
      "visibility": null,
      "width": null
     }
    },
    "4ef49ba308a24220976af23ba722e8d0": {
     "model_module": "@jupyter-widgets/controls",
     "model_module_version": "1.5.0",
     "model_name": "FloatProgressModel",
     "state": {
      "_dom_classes": [],
      "_model_module": "@jupyter-widgets/controls",
      "_model_module_version": "1.5.0",
      "_model_name": "FloatProgressModel",
      "_view_count": null,
      "_view_module": "@jupyter-widgets/controls",
      "_view_module_version": "1.5.0",
      "_view_name": "ProgressView",
      "bar_style": "success",
      "description": "",
      "description_tooltip": null,
      "layout": "IPY_MODEL_96b9efd9d2704355a4edcc9a9f17361b",
      "max": 660,
      "min": 0,
      "orientation": "horizontal",
      "style": "IPY_MODEL_5f229fa930d14ab68205e0b3890457bc",
      "value": 660
     }
    },
    "5616af915d104c77aa4e09ba99fed6fb": {
     "model_module": "@jupyter-widgets/base",
     "model_module_version": "1.2.0",
     "model_name": "LayoutModel",
     "state": {
      "_model_module": "@jupyter-widgets/base",
      "_model_module_version": "1.2.0",
      "_model_name": "LayoutModel",
      "_view_count": null,
      "_view_module": "@jupyter-widgets/base",
      "_view_module_version": "1.2.0",
      "_view_name": "LayoutView",
      "align_content": null,
      "align_items": null,
      "align_self": null,
      "border": null,
      "bottom": null,
      "display": null,
      "flex": null,
      "flex_flow": null,
      "grid_area": null,
      "grid_auto_columns": null,
      "grid_auto_flow": null,
      "grid_auto_rows": null,
      "grid_column": null,
      "grid_gap": null,
      "grid_row": null,
      "grid_template_areas": null,
      "grid_template_columns": null,
      "grid_template_rows": null,
      "height": null,
      "justify_content": null,
      "justify_items": null,
      "left": null,
      "margin": null,
      "max_height": null,
      "max_width": null,
      "min_height": null,
      "min_width": null,
      "object_fit": null,
      "object_position": null,
      "order": null,
      "overflow": null,
      "overflow_x": null,
      "overflow_y": null,
      "padding": null,
      "right": null,
      "top": null,
      "visibility": null,
      "width": null
     }
    },
    "5ec08003a14f4a4eb3a26b354f836f02": {
     "model_module": "@jupyter-widgets/controls",
     "model_module_version": "1.5.0",
     "model_name": "DescriptionStyleModel",
     "state": {
      "_model_module": "@jupyter-widgets/controls",
      "_model_module_version": "1.5.0",
      "_model_name": "DescriptionStyleModel",
      "_view_count": null,
      "_view_module": "@jupyter-widgets/base",
      "_view_module_version": "1.2.0",
      "_view_name": "StyleView",
      "description_width": ""
     }
    },
    "5f229fa930d14ab68205e0b3890457bc": {
     "model_module": "@jupyter-widgets/controls",
     "model_module_version": "1.5.0",
     "model_name": "ProgressStyleModel",
     "state": {
      "_model_module": "@jupyter-widgets/controls",
      "_model_module_version": "1.5.0",
      "_model_name": "ProgressStyleModel",
      "_view_count": null,
      "_view_module": "@jupyter-widgets/base",
      "_view_module_version": "1.2.0",
      "_view_name": "StyleView",
      "bar_color": null,
      "description_width": ""
     }
    },
    "6a9c85e73e66478a8ec75837a39796a5": {
     "model_module": "@jupyter-widgets/controls",
     "model_module_version": "1.5.0",
     "model_name": "DescriptionStyleModel",
     "state": {
      "_model_module": "@jupyter-widgets/controls",
      "_model_module_version": "1.5.0",
      "_model_name": "DescriptionStyleModel",
      "_view_count": null,
      "_view_module": "@jupyter-widgets/base",
      "_view_module_version": "1.2.0",
      "_view_name": "StyleView",
      "description_width": ""
     }
    },
    "6c63bc3ab672480db2641205f49aa124": {
     "model_module": "@jupyter-widgets/controls",
     "model_module_version": "1.5.0",
     "model_name": "FloatProgressModel",
     "state": {
      "_dom_classes": [],
      "_model_module": "@jupyter-widgets/controls",
      "_model_module_version": "1.5.0",
      "_model_name": "FloatProgressModel",
      "_view_count": null,
      "_view_module": "@jupyter-widgets/controls",
      "_view_module_version": "1.5.0",
      "_view_name": "ProgressView",
      "bar_style": "success",
      "description": "",
      "description_tooltip": null,
      "layout": "IPY_MODEL_14ca90cc57c6471584c55cc1a145c553",
      "max": 2130472,
      "min": 0,
      "orientation": "horizontal",
      "style": "IPY_MODEL_41292ba0c2ee4829b000783055f4cbaf",
      "value": 2130472
     }
    },
    "73ef52d6e6ba4a64b7e916821d01fd84": {
     "model_module": "@jupyter-widgets/controls",
     "model_module_version": "1.5.0",
     "model_name": "HTMLModel",
     "state": {
      "_dom_classes": [],
      "_model_module": "@jupyter-widgets/controls",
      "_model_module_version": "1.5.0",
      "_model_name": "HTMLModel",
      "_view_count": null,
      "_view_module": "@jupyter-widgets/controls",
      "_view_module_version": "1.5.0",
      "_view_name": "HTMLView",
      "description": "",
      "description_tooltip": null,
      "layout": "IPY_MODEL_d95cb73ac2454c418d603149b0855271",
      "placeholder": "​",
      "style": "IPY_MODEL_adb69d505f394852bfe4d275489b31b5",
      "value": " 2.13M/2.13M [00:00&lt;00:00, 5.27MB/s]"
     }
    },
    "759b73395c9c41aebc7c85e9f99e1425": {
     "model_module": "@jupyter-widgets/base",
     "model_module_version": "1.2.0",
     "model_name": "LayoutModel",
     "state": {
      "_model_module": "@jupyter-widgets/base",
      "_model_module_version": "1.2.0",
      "_model_name": "LayoutModel",
      "_view_count": null,
      "_view_module": "@jupyter-widgets/base",
      "_view_module_version": "1.2.0",
      "_view_name": "LayoutView",
      "align_content": null,
      "align_items": null,
      "align_self": null,
      "border": null,
      "bottom": null,
      "display": null,
      "flex": null,
      "flex_flow": null,
      "grid_area": null,
      "grid_auto_columns": null,
      "grid_auto_flow": null,
      "grid_auto_rows": null,
      "grid_column": null,
      "grid_gap": null,
      "grid_row": null,
      "grid_template_areas": null,
      "grid_template_columns": null,
      "grid_template_rows": null,
      "height": null,
      "justify_content": null,
      "justify_items": null,
      "left": null,
      "margin": null,
      "max_height": null,
      "max_width": null,
      "min_height": null,
      "min_width": null,
      "object_fit": null,
      "object_position": null,
      "order": null,
      "overflow": null,
      "overflow_x": null,
      "overflow_y": null,
      "padding": null,
      "right": null,
      "top": null,
      "visibility": null,
      "width": null
     }
    },
    "76e9fd12eb8a443080eefd1583bd84a8": {
     "model_module": "@jupyter-widgets/controls",
     "model_module_version": "1.5.0",
     "model_name": "HTMLModel",
     "state": {
      "_dom_classes": [],
      "_model_module": "@jupyter-widgets/controls",
      "_model_module_version": "1.5.0",
      "_model_name": "HTMLModel",
      "_view_count": null,
      "_view_module": "@jupyter-widgets/controls",
      "_view_module_version": "1.5.0",
      "_view_name": "HTMLView",
      "description": "",
      "description_tooltip": null,
      "layout": "IPY_MODEL_759b73395c9c41aebc7c85e9f99e1425",
      "placeholder": "​",
      "style": "IPY_MODEL_6a9c85e73e66478a8ec75837a39796a5",
      "value": "Downloading (…)/main/tokenizer.json: 100%"
     }
    },
    "7ac4aed23f304095a54a2dc978de285b": {
     "model_module": "@jupyter-widgets/base",
     "model_module_version": "1.2.0",
     "model_name": "LayoutModel",
     "state": {
      "_model_module": "@jupyter-widgets/base",
      "_model_module_version": "1.2.0",
      "_model_name": "LayoutModel",
      "_view_count": null,
      "_view_module": "@jupyter-widgets/base",
      "_view_module_version": "1.2.0",
      "_view_name": "LayoutView",
      "align_content": null,
      "align_items": null,
      "align_self": null,
      "border": null,
      "bottom": null,
      "display": null,
      "flex": null,
      "flex_flow": null,
      "grid_area": null,
      "grid_auto_columns": null,
      "grid_auto_flow": null,
      "grid_auto_rows": null,
      "grid_column": null,
      "grid_gap": null,
      "grid_row": null,
      "grid_template_areas": null,
      "grid_template_columns": null,
      "grid_template_rows": null,
      "height": null,
      "justify_content": null,
      "justify_items": null,
      "left": null,
      "margin": null,
      "max_height": null,
      "max_width": null,
      "min_height": null,
      "min_width": null,
      "object_fit": null,
      "object_position": null,
      "order": null,
      "overflow": null,
      "overflow_x": null,
      "overflow_y": null,
      "padding": null,
      "right": null,
      "top": null,
      "visibility": null,
      "width": null
     }
    },
    "7c63032bfdff473dbdf4d7deb51e5149": {
     "model_module": "@jupyter-widgets/base",
     "model_module_version": "1.2.0",
     "model_name": "LayoutModel",
     "state": {
      "_model_module": "@jupyter-widgets/base",
      "_model_module_version": "1.2.0",
      "_model_name": "LayoutModel",
      "_view_count": null,
      "_view_module": "@jupyter-widgets/base",
      "_view_module_version": "1.2.0",
      "_view_name": "LayoutView",
      "align_content": null,
      "align_items": null,
      "align_self": null,
      "border": null,
      "bottom": null,
      "display": null,
      "flex": null,
      "flex_flow": null,
      "grid_area": null,
      "grid_auto_columns": null,
      "grid_auto_flow": null,
      "grid_auto_rows": null,
      "grid_column": null,
      "grid_gap": null,
      "grid_row": null,
      "grid_template_areas": null,
      "grid_template_columns": null,
      "grid_template_rows": null,
      "height": null,
      "justify_content": null,
      "justify_items": null,
      "left": null,
      "margin": null,
      "max_height": null,
      "max_width": null,
      "min_height": null,
      "min_width": null,
      "object_fit": null,
      "object_position": null,
      "order": null,
      "overflow": null,
      "overflow_x": null,
      "overflow_y": null,
      "padding": null,
      "right": null,
      "top": null,
      "visibility": null,
      "width": null
     }
    },
    "8537cb9b3ac5407e8368fff27657d2fe": {
     "model_module": "@jupyter-widgets/controls",
     "model_module_version": "1.5.0",
     "model_name": "HBoxModel",
     "state": {
      "_dom_classes": [],
      "_model_module": "@jupyter-widgets/controls",
      "_model_module_version": "1.5.0",
      "_model_name": "HBoxModel",
      "_view_count": null,
      "_view_module": "@jupyter-widgets/controls",
      "_view_module_version": "1.5.0",
      "_view_name": "HBoxView",
      "box_style": "",
      "children": [
       "IPY_MODEL_8b8ea91278e945efba21c21eaaab1f6e",
       "IPY_MODEL_45d174041fbc40388a9beaf5842cb535",
       "IPY_MODEL_17c78320be174699be82b5fb4ebf7a6e"
      ],
      "layout": "IPY_MODEL_7ac4aed23f304095a54a2dc978de285b"
     }
    },
    "85e25fcc4b9a4a36bf269b8b06da141b": {
     "model_module": "@jupyter-widgets/base",
     "model_module_version": "1.2.0",
     "model_name": "LayoutModel",
     "state": {
      "_model_module": "@jupyter-widgets/base",
      "_model_module_version": "1.2.0",
      "_model_name": "LayoutModel",
      "_view_count": null,
      "_view_module": "@jupyter-widgets/base",
      "_view_module_version": "1.2.0",
      "_view_name": "LayoutView",
      "align_content": null,
      "align_items": null,
      "align_self": null,
      "border": null,
      "bottom": null,
      "display": null,
      "flex": null,
      "flex_flow": null,
      "grid_area": null,
      "grid_auto_columns": null,
      "grid_auto_flow": null,
      "grid_auto_rows": null,
      "grid_column": null,
      "grid_gap": null,
      "grid_row": null,
      "grid_template_areas": null,
      "grid_template_columns": null,
      "grid_template_rows": null,
      "height": null,
      "justify_content": null,
      "justify_items": null,
      "left": null,
      "margin": null,
      "max_height": null,
      "max_width": null,
      "min_height": null,
      "min_width": null,
      "object_fit": null,
      "object_position": null,
      "order": null,
      "overflow": null,
      "overflow_x": null,
      "overflow_y": null,
      "padding": null,
      "right": null,
      "top": null,
      "visibility": null,
      "width": null
     }
    },
    "883113231e994c6082ce6ebf5a68503a": {
     "model_module": "@jupyter-widgets/controls",
     "model_module_version": "1.5.0",
     "model_name": "DescriptionStyleModel",
     "state": {
      "_model_module": "@jupyter-widgets/controls",
      "_model_module_version": "1.5.0",
      "_model_name": "DescriptionStyleModel",
      "_view_count": null,
      "_view_module": "@jupyter-widgets/base",
      "_view_module_version": "1.2.0",
      "_view_name": "StyleView",
      "description_width": ""
     }
    },
    "88c17822b2c3428a97de9e6980bc8c58": {
     "model_module": "@jupyter-widgets/base",
     "model_module_version": "1.2.0",
     "model_name": "LayoutModel",
     "state": {
      "_model_module": "@jupyter-widgets/base",
      "_model_module_version": "1.2.0",
      "_model_name": "LayoutModel",
      "_view_count": null,
      "_view_module": "@jupyter-widgets/base",
      "_view_module_version": "1.2.0",
      "_view_name": "LayoutView",
      "align_content": null,
      "align_items": null,
      "align_self": null,
      "border": null,
      "bottom": null,
      "display": null,
      "flex": null,
      "flex_flow": null,
      "grid_area": null,
      "grid_auto_columns": null,
      "grid_auto_flow": null,
      "grid_auto_rows": null,
      "grid_column": null,
      "grid_gap": null,
      "grid_row": null,
      "grid_template_areas": null,
      "grid_template_columns": null,
      "grid_template_rows": null,
      "height": null,
      "justify_content": null,
      "justify_items": null,
      "left": null,
      "margin": null,
      "max_height": null,
      "max_width": null,
      "min_height": null,
      "min_width": null,
      "object_fit": null,
      "object_position": null,
      "order": null,
      "overflow": null,
      "overflow_x": null,
      "overflow_y": null,
      "padding": null,
      "right": null,
      "top": null,
      "visibility": null,
      "width": null
     }
    },
    "8a68001a9df0484ba7ec231eabc2dd7e": {
     "model_module": "@jupyter-widgets/base",
     "model_module_version": "1.2.0",
     "model_name": "LayoutModel",
     "state": {
      "_model_module": "@jupyter-widgets/base",
      "_model_module_version": "1.2.0",
      "_model_name": "LayoutModel",
      "_view_count": null,
      "_view_module": "@jupyter-widgets/base",
      "_view_module_version": "1.2.0",
      "_view_name": "LayoutView",
      "align_content": null,
      "align_items": null,
      "align_self": null,
      "border": null,
      "bottom": null,
      "display": null,
      "flex": null,
      "flex_flow": null,
      "grid_area": null,
      "grid_auto_columns": null,
      "grid_auto_flow": null,
      "grid_auto_rows": null,
      "grid_column": null,
      "grid_gap": null,
      "grid_row": null,
      "grid_template_areas": null,
      "grid_template_columns": null,
      "grid_template_rows": null,
      "height": null,
      "justify_content": null,
      "justify_items": null,
      "left": null,
      "margin": null,
      "max_height": null,
      "max_width": null,
      "min_height": null,
      "min_width": null,
      "object_fit": null,
      "object_position": null,
      "order": null,
      "overflow": null,
      "overflow_x": null,
      "overflow_y": null,
      "padding": null,
      "right": null,
      "top": null,
      "visibility": null,
      "width": null
     }
    },
    "8b8ea91278e945efba21c21eaaab1f6e": {
     "model_module": "@jupyter-widgets/controls",
     "model_module_version": "1.5.0",
     "model_name": "HTMLModel",
     "state": {
      "_dom_classes": [],
      "_model_module": "@jupyter-widgets/controls",
      "_model_module_version": "1.5.0",
      "_model_name": "HTMLModel",
      "_view_count": null,
      "_view_module": "@jupyter-widgets/controls",
      "_view_module_version": "1.5.0",
      "_view_name": "HTMLView",
      "description": "",
      "description_tooltip": null,
      "layout": "IPY_MODEL_5616af915d104c77aa4e09ba99fed6fb",
      "placeholder": "​",
      "style": "IPY_MODEL_5ec08003a14f4a4eb3a26b354f836f02",
      "value": "Downloading pytorch_model.bin: 100%"
     }
    },
    "96b9efd9d2704355a4edcc9a9f17361b": {
     "model_module": "@jupyter-widgets/base",
     "model_module_version": "1.2.0",
     "model_name": "LayoutModel",
     "state": {
      "_model_module": "@jupyter-widgets/base",
      "_model_module_version": "1.2.0",
      "_model_name": "LayoutModel",
      "_view_count": null,
      "_view_module": "@jupyter-widgets/base",
      "_view_module_version": "1.2.0",
      "_view_name": "LayoutView",
      "align_content": null,
      "align_items": null,
      "align_self": null,
      "border": null,
      "bottom": null,
      "display": null,
      "flex": null,
      "flex_flow": null,
      "grid_area": null,
      "grid_auto_columns": null,
      "grid_auto_flow": null,
      "grid_auto_rows": null,
      "grid_column": null,
      "grid_gap": null,
      "grid_row": null,
      "grid_template_areas": null,
      "grid_template_columns": null,
      "grid_template_rows": null,
      "height": null,
      "justify_content": null,
      "justify_items": null,
      "left": null,
      "margin": null,
      "max_height": null,
      "max_width": null,
      "min_height": null,
      "min_width": null,
      "object_fit": null,
      "object_position": null,
      "order": null,
      "overflow": null,
      "overflow_x": null,
      "overflow_y": null,
      "padding": null,
      "right": null,
      "top": null,
      "visibility": null,
      "width": null
     }
    },
    "a042b7d6efea403ba916d6af897a8608": {
     "model_module": "@jupyter-widgets/controls",
     "model_module_version": "1.5.0",
     "model_name": "HTMLModel",
     "state": {
      "_dom_classes": [],
      "_model_module": "@jupyter-widgets/controls",
      "_model_module_version": "1.5.0",
      "_model_name": "HTMLModel",
      "_view_count": null,
      "_view_module": "@jupyter-widgets/controls",
      "_view_module_version": "1.5.0",
      "_view_name": "HTMLView",
      "description": "",
      "description_tooltip": null,
      "layout": "IPY_MODEL_88c17822b2c3428a97de9e6980bc8c58",
      "placeholder": "​",
      "style": "IPY_MODEL_883113231e994c6082ce6ebf5a68503a",
      "value": " 660/660 [00:00&lt;00:00, 47.6kB/s]"
     }
    },
    "a5cd571a965b4a3c9e505cdb80207679": {
     "model_module": "@jupyter-widgets/controls",
     "model_module_version": "1.5.0",
     "model_name": "HBoxModel",
     "state": {
      "_dom_classes": [],
      "_model_module": "@jupyter-widgets/controls",
      "_model_module_version": "1.5.0",
      "_model_name": "HBoxModel",
      "_view_count": null,
      "_view_module": "@jupyter-widgets/controls",
      "_view_module_version": "1.5.0",
      "_view_name": "HBoxView",
      "box_style": "",
      "children": [
       "IPY_MODEL_76e9fd12eb8a443080eefd1583bd84a8",
       "IPY_MODEL_6c63bc3ab672480db2641205f49aa124",
       "IPY_MODEL_73ef52d6e6ba4a64b7e916821d01fd84"
      ],
      "layout": "IPY_MODEL_8a68001a9df0484ba7ec231eabc2dd7e"
     }
    },
    "a5db2447dcb345feb6f4de23f2ee82a5": {
     "model_module": "@jupyter-widgets/controls",
     "model_module_version": "1.5.0",
     "model_name": "HTMLModel",
     "state": {
      "_dom_classes": [],
      "_model_module": "@jupyter-widgets/controls",
      "_model_module_version": "1.5.0",
      "_model_name": "HTMLModel",
      "_view_count": null,
      "_view_module": "@jupyter-widgets/controls",
      "_view_module_version": "1.5.0",
      "_view_name": "HTMLView",
      "description": "",
      "description_tooltip": null,
      "layout": "IPY_MODEL_03975dc553ad4f61b630a3a8efe2a717",
      "placeholder": "​",
      "style": "IPY_MODEL_f9feb55a79924ede803e586634029658",
      "value": "Downloading (…)okenizer_config.json: 100%"
     }
    },
    "adb69d505f394852bfe4d275489b31b5": {
     "model_module": "@jupyter-widgets/controls",
     "model_module_version": "1.5.0",
     "model_name": "DescriptionStyleModel",
     "state": {
      "_model_module": "@jupyter-widgets/controls",
      "_model_module_version": "1.5.0",
      "_model_name": "DescriptionStyleModel",
      "_view_count": null,
      "_view_module": "@jupyter-widgets/base",
      "_view_module_version": "1.2.0",
      "_view_name": "StyleView",
      "description_width": ""
     }
    },
    "adc5785c37684b01a7e869e9eebfe1bd": {
     "model_module": "@jupyter-widgets/controls",
     "model_module_version": "1.5.0",
     "model_name": "DescriptionStyleModel",
     "state": {
      "_model_module": "@jupyter-widgets/controls",
      "_model_module_version": "1.5.0",
      "_model_name": "DescriptionStyleModel",
      "_view_count": null,
      "_view_module": "@jupyter-widgets/base",
      "_view_module_version": "1.2.0",
      "_view_name": "StyleView",
      "description_width": ""
     }
    },
    "c3f5daf1ab7a40629e9b9e31a6ae7793": {
     "model_module": "@jupyter-widgets/controls",
     "model_module_version": "1.5.0",
     "model_name": "HTMLModel",
     "state": {
      "_dom_classes": [],
      "_model_module": "@jupyter-widgets/controls",
      "_model_module_version": "1.5.0",
      "_model_name": "HTMLModel",
      "_view_count": null,
      "_view_module": "@jupyter-widgets/controls",
      "_view_module_version": "1.5.0",
      "_view_name": "HTMLView",
      "description": "",
      "description_tooltip": null,
      "layout": "IPY_MODEL_85e25fcc4b9a4a36bf269b8b06da141b",
      "placeholder": "​",
      "style": "IPY_MODEL_30419bc0f61e4e32a007b7cbc01116e2",
      "value": " 415/415 [00:00&lt;00:00, 22.7kB/s]"
     }
    },
    "d82fdc9742374e1cbf8da5eb3d47bdef": {
     "model_module": "@jupyter-widgets/base",
     "model_module_version": "1.2.0",
     "model_name": "LayoutModel",
     "state": {
      "_model_module": "@jupyter-widgets/base",
      "_model_module_version": "1.2.0",
      "_model_name": "LayoutModel",
      "_view_count": null,
      "_view_module": "@jupyter-widgets/base",
      "_view_module_version": "1.2.0",
      "_view_name": "LayoutView",
      "align_content": null,
      "align_items": null,
      "align_self": null,
      "border": null,
      "bottom": null,
      "display": null,
      "flex": null,
      "flex_flow": null,
      "grid_area": null,
      "grid_auto_columns": null,
      "grid_auto_flow": null,
      "grid_auto_rows": null,
      "grid_column": null,
      "grid_gap": null,
      "grid_row": null,
      "grid_template_areas": null,
      "grid_template_columns": null,
      "grid_template_rows": null,
      "height": null,
      "justify_content": null,
      "justify_items": null,
      "left": null,
      "margin": null,
      "max_height": null,
      "max_width": null,
      "min_height": null,
      "min_width": null,
      "object_fit": null,
      "object_position": null,
      "order": null,
      "overflow": null,
      "overflow_x": null,
      "overflow_y": null,
      "padding": null,
      "right": null,
      "top": null,
      "visibility": null,
      "width": null
     }
    },
    "d95cb73ac2454c418d603149b0855271": {
     "model_module": "@jupyter-widgets/base",
     "model_module_version": "1.2.0",
     "model_name": "LayoutModel",
     "state": {
      "_model_module": "@jupyter-widgets/base",
      "_model_module_version": "1.2.0",
      "_model_name": "LayoutModel",
      "_view_count": null,
      "_view_module": "@jupyter-widgets/base",
      "_view_module_version": "1.2.0",
      "_view_name": "LayoutView",
      "align_content": null,
      "align_items": null,
      "align_self": null,
      "border": null,
      "bottom": null,
      "display": null,
      "flex": null,
      "flex_flow": null,
      "grid_area": null,
      "grid_auto_columns": null,
      "grid_auto_flow": null,
      "grid_auto_rows": null,
      "grid_column": null,
      "grid_gap": null,
      "grid_row": null,
      "grid_template_areas": null,
      "grid_template_columns": null,
      "grid_template_rows": null,
      "height": null,
      "justify_content": null,
      "justify_items": null,
      "left": null,
      "margin": null,
      "max_height": null,
      "max_width": null,
      "min_height": null,
      "min_width": null,
      "object_fit": null,
      "object_position": null,
      "order": null,
      "overflow": null,
      "overflow_x": null,
      "overflow_y": null,
      "padding": null,
      "right": null,
      "top": null,
      "visibility": null,
      "width": null
     }
    },
    "ddec075e88fd45a7b5c4017d0efbb9de": {
     "model_module": "@jupyter-widgets/base",
     "model_module_version": "1.2.0",
     "model_name": "LayoutModel",
     "state": {
      "_model_module": "@jupyter-widgets/base",
      "_model_module_version": "1.2.0",
      "_model_name": "LayoutModel",
      "_view_count": null,
      "_view_module": "@jupyter-widgets/base",
      "_view_module_version": "1.2.0",
      "_view_name": "LayoutView",
      "align_content": null,
      "align_items": null,
      "align_self": null,
      "border": null,
      "bottom": null,
      "display": null,
      "flex": null,
      "flex_flow": null,
      "grid_area": null,
      "grid_auto_columns": null,
      "grid_auto_flow": null,
      "grid_auto_rows": null,
      "grid_column": null,
      "grid_gap": null,
      "grid_row": null,
      "grid_template_areas": null,
      "grid_template_columns": null,
      "grid_template_rows": null,
      "height": null,
      "justify_content": null,
      "justify_items": null,
      "left": null,
      "margin": null,
      "max_height": null,
      "max_width": null,
      "min_height": null,
      "min_width": null,
      "object_fit": null,
      "object_position": null,
      "order": null,
      "overflow": null,
      "overflow_x": null,
      "overflow_y": null,
      "padding": null,
      "right": null,
      "top": null,
      "visibility": null,
      "width": null
     }
    },
    "dfa7e3f363204077a5de882c750c7f69": {
     "model_module": "@jupyter-widgets/controls",
     "model_module_version": "1.5.0",
     "model_name": "DescriptionStyleModel",
     "state": {
      "_model_module": "@jupyter-widgets/controls",
      "_model_module_version": "1.5.0",
      "_model_name": "DescriptionStyleModel",
      "_view_count": null,
      "_view_module": "@jupyter-widgets/base",
      "_view_module_version": "1.2.0",
      "_view_name": "StyleView",
      "description_width": ""
     }
    },
    "f0871d9d40d9493bbe5048fb96acddbd": {
     "model_module": "@jupyter-widgets/controls",
     "model_module_version": "1.5.0",
     "model_name": "FloatProgressModel",
     "state": {
      "_dom_classes": [],
      "_model_module": "@jupyter-widgets/controls",
      "_model_module_version": "1.5.0",
      "_model_name": "FloatProgressModel",
      "_view_count": null,
      "_view_module": "@jupyter-widgets/controls",
      "_view_module_version": "1.5.0",
      "_view_name": "ProgressView",
      "bar_style": "success",
      "description": "",
      "description_tooltip": null,
      "layout": "IPY_MODEL_d82fdc9742374e1cbf8da5eb3d47bdef",
      "max": 415,
      "min": 0,
      "orientation": "horizontal",
      "style": "IPY_MODEL_f55b1b654e134ad0a8c7a38ebd63990c",
      "value": 415
     }
    },
    "f55b1b654e134ad0a8c7a38ebd63990c": {
     "model_module": "@jupyter-widgets/controls",
     "model_module_version": "1.5.0",
     "model_name": "ProgressStyleModel",
     "state": {
      "_model_module": "@jupyter-widgets/controls",
      "_model_module_version": "1.5.0",
      "_model_name": "ProgressStyleModel",
      "_view_count": null,
      "_view_module": "@jupyter-widgets/base",
      "_view_module_version": "1.2.0",
      "_view_name": "StyleView",
      "bar_color": null,
      "description_width": ""
     }
    },
    "f9feb55a79924ede803e586634029658": {
     "model_module": "@jupyter-widgets/controls",
     "model_module_version": "1.5.0",
     "model_name": "DescriptionStyleModel",
     "state": {
      "_model_module": "@jupyter-widgets/controls",
      "_model_module_version": "1.5.0",
      "_model_name": "DescriptionStyleModel",
      "_view_count": null,
      "_view_module": "@jupyter-widgets/base",
      "_view_module_version": "1.2.0",
      "_view_name": "StyleView",
      "description_width": ""
     }
    },
    "fa3c7c816eeb444b88ac74fb809a0af4": {
     "model_module": "@jupyter-widgets/controls",
     "model_module_version": "1.5.0",
     "model_name": "HBoxModel",
     "state": {
      "_dom_classes": [],
      "_model_module": "@jupyter-widgets/controls",
      "_model_module_version": "1.5.0",
      "_model_name": "HBoxModel",
      "_view_count": null,
      "_view_module": "@jupyter-widgets/controls",
      "_view_module_version": "1.5.0",
      "_view_name": "HBoxView",
      "box_style": "",
      "children": [
       "IPY_MODEL_1d9d4348374a498e85308cc1e6ed1b45",
       "IPY_MODEL_4ef49ba308a24220976af23ba722e8d0",
       "IPY_MODEL_a042b7d6efea403ba916d6af897a8608"
      ],
      "layout": "IPY_MODEL_1036a862734c426cb71ca7147565171c"
     }
    }
   }
  }
 },
 "nbformat": 4,
 "nbformat_minor": 5
}
